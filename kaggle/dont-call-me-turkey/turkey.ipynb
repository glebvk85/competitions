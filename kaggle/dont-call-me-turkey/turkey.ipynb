{
 "cells": [
  {
   "cell_type": "code",
   "execution_count": 2,
   "metadata": {},
   "outputs": [
    {
     "name": "stdout",
     "output_type": "stream",
     "text": [
      "['sample_submission.csv', 'test.json', 'train.json']\n"
     ]
    }
   ],
   "source": [
    "import numpy as np\n",
    "import pandas as pd\n",
    "import os\n",
    "print(os.listdir(\"all\"))"
   ]
  },
  {
   "cell_type": "code",
   "execution_count": 3,
   "metadata": {
    "collapsed": true
   },
   "outputs": [],
   "source": [
    "train = pd.read_json('all/train.json')\n",
    "test = pd.read_json('all/test.json')\n",
    "sample_submission = pd.read_csv('all/sample_submission.csv')"
   ]
  },
  {
   "cell_type": "code",
   "execution_count": 4,
   "metadata": {},
   "outputs": [
    {
     "name": "stdout",
     "output_type": "stream",
     "text": [
      "Index(['audio_embedding', 'end_time_seconds_youtube_clip',\n",
      "       'start_time_seconds_youtube_clip', 'vid_id'],\n",
      "      dtype='object')\n",
      "Index(['audio_embedding', 'end_time_seconds_youtube_clip', 'is_turkey',\n",
      "       'start_time_seconds_youtube_clip', 'vid_id'],\n",
      "      dtype='object')\n",
      "        vid_id  is_turkey\n",
      "0  pyKh38FXD3E          0\n",
      "1  THhP1idrWXA          0\n",
      "2  jsw3T6GY2Nw          0\n",
      "3  nFkXTMHcjMU          0\n"
     ]
    }
   ],
   "source": [
    "print(test.columns)\n",
    "print(train.columns)\n",
    "print(sample_submission.head(4))"
   ]
  },
  {
   "cell_type": "code",
   "execution_count": 5,
   "metadata": {},
   "outputs": [
    {
     "name": "stdout",
     "output_type": "stream",
     "text": [
      "(1195, 5)\n",
      "(1196, 4)\n"
     ]
    }
   ],
   "source": [
    "print(train.shape)\n",
    "print(test.shape)"
   ]
  },
  {
   "cell_type": "code",
   "execution_count": 6,
   "metadata": {},
   "outputs": [
    {
     "name": "stdout",
     "output_type": "stream",
     "text": [
      "Int64Index([   1,    2,    3,    8,   12,   13,   18,   21,   23,   26,\n",
      "            ...\n",
      "            1163, 1165, 1168, 1169, 1172, 1173, 1174, 1184, 1185, 1192],\n",
      "           dtype='int64', length=491)\n"
     ]
    }
   ],
   "source": [
    "print(train[train['is_turkey']==1].index)"
   ]
  },
  {
   "cell_type": "code",
   "execution_count": 7,
   "metadata": {},
   "outputs": [
    {
     "data": {
      "image/jpeg": "[encoded data removed]",
      "text/html": [
       "\n",
       "        <iframe\n",
       "            width=\"400\"\n",
       "            height=\"300\"\n",
       "            src=\"https://www.youtube.com/embed/DPcGzqHoo7Y?start=30&end=40\"\n",
       "            frameborder=\"0\"\n",
       "            allowfullscreen\n",
       "        ></iframe>\n",
       "        "
      ],
      "text/plain": [
       "<IPython.lib.display.YouTubeVideo at 0x17dfb1269e8>"
      ]
     },
     "execution_count": 7,
     "metadata": {},
     "output_type": "execute_result"
    }
   ],
   "source": [
    "from IPython.display import YouTubeVideo\n",
    "YouTubeVideo(train['vid_id'][1],start=train['start_time_seconds_youtube_clip'][1],end=train['end_time_seconds_youtube_clip'][1])"
   ]
  },
  {
   "cell_type": "code",
   "execution_count": 8,
   "metadata": {},
   "outputs": [
    {
     "name": "stdout",
     "output_type": "stream",
     "text": [
      "0    [[172, 34, 216, 110, 208, 46, 95, 66, 161, 125...\n",
      "1    [[169, 20, 165, 102, 205, 62, 110, 103, 211, 1...\n",
      "2    [[148, 8, 138, 60, 237, 48, 121, 108, 145, 177...\n",
      "3    [[151, 0, 162, 88, 171, 71, 47, 90, 179, 190, ...\n",
      "4    [[162, 17, 187, 111, 211, 105, 92, 67, 203, 15...\n",
      "Name: audio_embedding, dtype: object\n",
      "train's audio_embedding can have this many frames: [10  9  2  3  8  5  6  7  4]\n",
      "test's audio_embedding can have this many frames: [10  9  4  2  8  7  3  6  1]\n",
      "each frame can have this many features: [128]\n"
     ]
    }
   ],
   "source": [
    "print(train['audio_embedding'].head())\n",
    "\n",
    "#see the possible list lengths of the first dimension\n",
    "print(\"train's audio_embedding can have this many frames: \"+ str(train['audio_embedding'].apply(lambda x: len(x)).unique())) \n",
    "print(\"test's audio_embedding can have this many frames: \"+ str(test['audio_embedding'].apply(lambda x: len(x)).unique())) \n",
    "\n",
    "#see the possible list lengths of the first element\n",
    "print(\"each frame can have this many features: \"+str(train['audio_embedding'].apply(lambda x: len(x[0])).unique()))"
   ]
  },
  {
   "cell_type": "code",
   "execution_count": 35,
   "metadata": {},
   "outputs": [
    {
     "name": "stdout",
     "output_type": "stream",
     "text": [
      "Train on 896 samples, validate on 299 samples\n",
      "Epoch 1/4\n",
      "896/896 [==============================] - 16s 18ms/step - loss: 0.6266 - acc: 0.7299 - val_loss: 1.1114 - val_acc: 0.7157\n",
      "Epoch 2/4\n",
      "896/896 [==============================] - 2s 2ms/step - loss: 0.4221 - acc: 0.8951 - val_loss: 0.4928 - val_acc: 0.9064\n",
      "Epoch 3/4\n",
      "896/896 [==============================] - 2s 2ms/step - loss: 0.2408 - acc: 0.9263 - val_loss: 0.8265 - val_acc: 0.9231\n",
      "Epoch 4/4\n",
      "896/896 [==============================] - 2s 2ms/step - loss: 0.1813 - acc: 0.9330 - val_loss: 0.9481 - val_acc: 0.9264\n",
      "299/299 [==============================] - 0s 662us/step\n",
      "Test accuracy: 0.9264214038848877\n"
     ]
    }
   ],
   "source": [
    "from tensorflow.python.keras.models import Sequential\n",
    "from tensorflow.python.keras.layers import Dense, Bidirectional, LSTM, BatchNormalization, Dropout\n",
    "from tensorflow.python.keras.preprocessing.sequence import pad_sequences\n",
    "from sklearn.model_selection import train_test_split\n",
    "from keras import regularizers\n",
    "\n",
    "#split the training data to have a validation set\n",
    "train_train, train_val = train_test_split(train)\n",
    "xtrain = [k for k in train_train['audio_embedding']]\n",
    "ytrain = train_train['is_turkey'].values\n",
    "\n",
    "xval = [k for k in train_val['audio_embedding']]\n",
    "yval = train_val['is_turkey'].values\n",
    "\n",
    "# Pad the audio features so that all are \"10 seconds\" long\n",
    "x_train = pad_sequences(xtrain, maxlen=10)\n",
    "x_val = pad_sequences(xval, maxlen=10)\n",
    "\n",
    "y_train = np.asarray(ytrain)\n",
    "y_val = np.asarray(yval)\n",
    "\n",
    "#Define a basic LSTM model\n",
    "model = Sequential()\n",
    "model.add(BatchNormalization(input_shape=(10, 128)))\n",
    "model.add(Dropout(.5))\n",
    "model.add(Bidirectional(LSTM(128, activation='relu')))\n",
    "model.add(Dense(16, activation=\"relu\", kernel_initializer=\"uniform\", kernel_regularizer=regularizers.l2(0.001)))\n",
    "model.add(Dense(1, activation='sigmoid'))\n",
    "\n",
    "#maybe there is something better to use, but let's use binary_crossentropy\n",
    "model.compile(loss='binary_crossentropy',\n",
    "              optimizer='adam',\n",
    "              metrics=['accuracy'])\n",
    "\n",
    "#fit on a portion of the training data, and validate on the rest\n",
    "model.fit(x_train, y_train,\n",
    "          batch_size=300,\n",
    "          epochs=4,validation_data=(x_val, y_val))\n",
    "\n",
    "# Get accuracy of model on validation data. It's not AUC but it's something at least!\n",
    "score, acc = model.evaluate(x_val, y_val, batch_size=300)\n",
    "print('Test accuracy:', acc)"
   ]
  },
  {
   "cell_type": "code",
   "execution_count": 20,
   "metadata": {},
   "outputs": [
    {
     "data": {
      "text/plain": [
       "array([[161,   0, 177, ..., 111, 187, 255],\n",
       "       [177,  16, 209, ..., 255,  98, 255],\n",
       "       [173,  22, 196, ..., 176, 118, 255],\n",
       "       ...,\n",
       "       [168,  15, 208, ..., 183,  95, 255],\n",
       "       [178,  16, 241, ..., 234, 231, 255],\n",
       "       [171,  20, 208, ..., 213,   5, 255]])"
      ]
     },
     "execution_count": 20,
     "metadata": {},
     "output_type": "execute_result"
    }
   ],
   "source": [
    "x_train[0]"
   ]
  },
  {
   "cell_type": "code",
   "execution_count": 21,
   "metadata": {
    "collapsed": true
   },
   "outputs": [],
   "source": [
    "test_data = [k for k in test['audio_embedding']]\n",
    "submission = model.predict_classes(pad_sequences(test_data))\n",
    "submission = pd.DataFrame({'vid_id':test['vid_id'].values,'is_turkey':[x for y in submission for x in y]})"
   ]
  },
  {
   "cell_type": "code",
   "execution_count": 22,
   "metadata": {},
   "outputs": [
    {
     "name": "stdout",
     "output_type": "stream",
     "text": [
      "        vid_id  is_turkey\n",
      "0  pyKh38FXD3E          0\n",
      "1  THhP1idrWXA          0\n",
      "2  jsw3T6GY2Nw          0\n",
      "3  nFkXTMHcjMU          0\n",
      "4  Au8g9kAlrLQ          1\n"
     ]
    }
   ],
   "source": [
    "print(submission.head())"
   ]
  },
  {
   "cell_type": "code",
   "execution_count": 23,
   "metadata": {
    "collapsed": true
   },
   "outputs": [],
   "source": [
    "submission.to_csv('lstm_starter.csv', index=False)"
   ]
  },
  {
   "cell_type": "code",
   "execution_count": null,
   "metadata": {
    "collapsed": true
   },
   "outputs": [],
   "source": []
  }
 ],
 "metadata": {
  "kernelspec": {
   "display_name": "Python 3",
   "language": "python",
   "name": "python3"
  },
  "language_info": {
   "codemirror_mode": {
    "name": "ipython",
    "version": 3
   },
   "file_extension": ".py",
   "mimetype": "text/x-python",
   "name": "python",
   "nbconvert_exporter": "python",
   "pygments_lexer": "ipython3",
   "version": "3.6.3"
  }
 },
 "nbformat": 4,
 "nbformat_minor": 2
}
