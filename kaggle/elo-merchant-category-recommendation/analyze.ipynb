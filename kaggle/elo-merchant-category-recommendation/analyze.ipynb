{
 "cells": [
  {
   "cell_type": "code",
   "execution_count": 1,
   "metadata": {
    "collapsed": true
   },
   "outputs": [],
   "source": [
    "import pandas as pd\n",
    "import numpy as np"
   ]
  },
  {
   "cell_type": "code",
   "execution_count": 2,
   "metadata": {
    "collapsed": true
   },
   "outputs": [],
   "source": [
    "path = 'c:/data/elo/'\n",
    "train_path = 'train.csv'\n",
    "test_path = 'test.csv'\n",
    "historical_transactions_path = 'historical_transactions.csv'\n",
    "new_merchant_transactions_path = 'new_merchant_transactions.csv'\n",
    "merchants_path= 'merchants.csv'"
   ]
  },
  {
   "cell_type": "code",
   "execution_count": 3,
   "metadata": {
    "collapsed": true
   },
   "outputs": [],
   "source": [
    "%matplotlib inline"
   ]
  },
  {
   "cell_type": "code",
   "execution_count": 4,
   "metadata": {
    "collapsed": true
   },
   "outputs": [],
   "source": [
    "import telepot\n",
    "def send_notify(text):\n",
    "    with open('../../_access_keys/telegram_token.txt', 'r') as content_file:\n",
    "        token = content_file.read()\n",
    "    with open('../../_access_keys/user.txt', 'r') as content_file:\n",
    "        user = content_file.read()\n",
    "    try:\n",
    "        TelegramBot = telepot.Bot(token)\n",
    "        TelegramBot.sendMessage(int(user), text)\n",
    "    except:\n",
    "        pass"
   ]
  },
  {
   "cell_type": "code",
   "execution_count": 5,
   "metadata": {},
   "outputs": [
    {
     "name": "stderr",
     "output_type": "stream",
     "text": [
      "C:\\ProgramData\\Anaconda3\\lib\\site-packages\\h5py\\__init__.py:34: FutureWarning: Conversion of the second argument of issubdtype from `float` to `np.floating` is deprecated. In future, it will be treated as `np.float64 == np.dtype(float).type`.\n",
      "  from ._conv import register_converters as _register_converters\n",
      "Using TensorFlow backend.\n"
     ]
    }
   ],
   "source": [
    "from keras.callbacks import Callback\n",
    "from matplotlib import pyplot as plt\n",
    "from IPython.display import clear_output\n",
    "class PlotLearning(Callback):\n",
    "    def on_train_begin(self, logs={}):\n",
    "        self.i = 0\n",
    "        self.x = []\n",
    "        self.losses = []\n",
    "        self.val_losses = []\n",
    "        self.acc = []\n",
    "        self.val_acc = []\n",
    "        self.fig = plt.figure()\n",
    "        \n",
    "        self.logs = []\n",
    "\n",
    "    def on_epoch_end(self, epoch, logs={}):\n",
    "        \n",
    "        self.logs.append(logs)\n",
    "        self.x.append(self.i)\n",
    "        self.losses.append(logs.get('loss'))\n",
    "        self.val_losses.append(logs.get('val_loss'))\n",
    "        self.acc.append(logs.get('acc'))\n",
    "        self.val_acc.append(logs.get('val_acc'))\n",
    "        self.i += 1\n",
    "        f, (ax1, ax2) = plt.subplots(1, 2, sharex=True,figsize=(15,10))\n",
    "        \n",
    "        clear_output(wait=True)\n",
    "        \n",
    "        ax1.set_yscale('log')\n",
    "        ax1.plot(self.x, self.losses, label=\"loss\")\n",
    "        ax1.plot(self.x, self.val_losses, label=\"validation loss\")\n",
    "        ax1.legend()\n",
    "        \n",
    "        ax2.plot(self.x, self.acc, label=\"accuracy\")\n",
    "        ax2.plot(self.x, self.val_acc, label=\"validation accuracy\")\n",
    "        ax2.legend()\n",
    "        \n",
    "        plt.show();\n",
    "        \n",
    "plot = PlotLearning()"
   ]
  },
  {
   "cell_type": "code",
   "execution_count": 6,
   "metadata": {
    "collapsed": true
   },
   "outputs": [],
   "source": [
    "from datetime import datetime"
   ]
  },
  {
   "cell_type": "code",
   "execution_count": 7,
   "metadata": {
    "collapsed": true
   },
   "outputs": [],
   "source": [
    "from sklearn import preprocessing\n",
    "from sklearn.utils.class_weight import compute_class_weight\n",
    "from sklearn.model_selection import train_test_split\n",
    "from sklearn.metrics import roc_auc_score"
   ]
  },
  {
   "cell_type": "code",
   "execution_count": 8,
   "metadata": {
    "collapsed": true
   },
   "outputs": [],
   "source": [
    "from keras.models import Sequential, Model\n",
    "from keras.layers import Dense, Dropout, Conv1D, MaxPooling1D, Flatten, Input, GlobalMaxPooling1D, GRU, Bidirectional, LSTM, concatenate\n",
    "from keras.utils import np_utils\n",
    "from keras.callbacks import EarlyStopping\n",
    "from keras import regularizers"
   ]
  },
  {
   "cell_type": "code",
   "execution_count": 9,
   "metadata": {
    "collapsed": true
   },
   "outputs": [],
   "source": [
    "import lightgbm as lgb"
   ]
  },
  {
   "cell_type": "code",
   "execution_count": null,
   "metadata": {
    "collapsed": true
   },
   "outputs": [],
   "source": []
  },
  {
   "cell_type": "code",
   "execution_count": null,
   "metadata": {
    "collapsed": true
   },
   "outputs": [],
   "source": []
  },
  {
   "cell_type": "markdown",
   "metadata": {
    "collapsed": true
   },
   "source": [
    "# analyze"
   ]
  },
  {
   "cell_type": "code",
   "execution_count": null,
   "metadata": {
    "collapsed": true
   },
   "outputs": [],
   "source": []
  },
  {
   "cell_type": "code",
   "execution_count": 10,
   "metadata": {
    "collapsed": true
   },
   "outputs": [],
   "source": [
    "train = pd.read_csv(path + train_path)"
   ]
  },
  {
   "cell_type": "code",
   "execution_count": 11,
   "metadata": {},
   "outputs": [
    {
     "data": {
      "text/plain": [
       "(201917, 6)"
      ]
     },
     "execution_count": 11,
     "metadata": {},
     "output_type": "execute_result"
    }
   ],
   "source": [
    "train.shape"
   ]
  },
  {
   "cell_type": "code",
   "execution_count": 12,
   "metadata": {},
   "outputs": [
    {
     "data": {
      "text/html": [
       "<div>\n",
       "<style scoped>\n",
       "    .dataframe tbody tr th:only-of-type {\n",
       "        vertical-align: middle;\n",
       "    }\n",
       "\n",
       "    .dataframe tbody tr th {\n",
       "        vertical-align: top;\n",
       "    }\n",
       "\n",
       "    .dataframe thead th {\n",
       "        text-align: right;\n",
       "    }\n",
       "</style>\n",
       "<table border=\"1\" class=\"dataframe\">\n",
       "  <thead>\n",
       "    <tr style=\"text-align: right;\">\n",
       "      <th></th>\n",
       "      <th>first_active_month</th>\n",
       "      <th>card_id</th>\n",
       "      <th>feature_1</th>\n",
       "      <th>feature_2</th>\n",
       "      <th>feature_3</th>\n",
       "      <th>target</th>\n",
       "    </tr>\n",
       "  </thead>\n",
       "  <tbody>\n",
       "    <tr>\n",
       "      <th>0</th>\n",
       "      <td>2017-06</td>\n",
       "      <td>C_ID_92a2005557</td>\n",
       "      <td>5</td>\n",
       "      <td>2</td>\n",
       "      <td>1</td>\n",
       "      <td>-0.820283</td>\n",
       "    </tr>\n",
       "    <tr>\n",
       "      <th>1</th>\n",
       "      <td>2017-01</td>\n",
       "      <td>C_ID_3d0044924f</td>\n",
       "      <td>4</td>\n",
       "      <td>1</td>\n",
       "      <td>0</td>\n",
       "      <td>0.392913</td>\n",
       "    </tr>\n",
       "    <tr>\n",
       "      <th>2</th>\n",
       "      <td>2016-08</td>\n",
       "      <td>C_ID_d639edf6cd</td>\n",
       "      <td>2</td>\n",
       "      <td>2</td>\n",
       "      <td>0</td>\n",
       "      <td>0.688056</td>\n",
       "    </tr>\n",
       "    <tr>\n",
       "      <th>3</th>\n",
       "      <td>2017-09</td>\n",
       "      <td>C_ID_186d6a6901</td>\n",
       "      <td>4</td>\n",
       "      <td>3</td>\n",
       "      <td>0</td>\n",
       "      <td>0.142495</td>\n",
       "    </tr>\n",
       "    <tr>\n",
       "      <th>4</th>\n",
       "      <td>2017-11</td>\n",
       "      <td>C_ID_cdbd2c0db2</td>\n",
       "      <td>1</td>\n",
       "      <td>3</td>\n",
       "      <td>0</td>\n",
       "      <td>-0.159749</td>\n",
       "    </tr>\n",
       "  </tbody>\n",
       "</table>\n",
       "</div>"
      ],
      "text/plain": [
       "  first_active_month          card_id  feature_1  feature_2  feature_3  \\\n",
       "0            2017-06  C_ID_92a2005557          5          2          1   \n",
       "1            2017-01  C_ID_3d0044924f          4          1          0   \n",
       "2            2016-08  C_ID_d639edf6cd          2          2          0   \n",
       "3            2017-09  C_ID_186d6a6901          4          3          0   \n",
       "4            2017-11  C_ID_cdbd2c0db2          1          3          0   \n",
       "\n",
       "     target  \n",
       "0 -0.820283  \n",
       "1  0.392913  \n",
       "2  0.688056  \n",
       "3  0.142495  \n",
       "4 -0.159749  "
      ]
     },
     "execution_count": 12,
     "metadata": {},
     "output_type": "execute_result"
    }
   ],
   "source": [
    "train.head()"
   ]
  },
  {
   "cell_type": "code",
   "execution_count": 13,
   "metadata": {},
   "outputs": [
    {
     "data": {
      "text/plain": [
       "array([1, 0], dtype=int64)"
      ]
     },
     "execution_count": 13,
     "metadata": {},
     "output_type": "execute_result"
    }
   ],
   "source": [
    "train['feature_3'].unique()"
   ]
  },
  {
   "cell_type": "code",
   "execution_count": 14,
   "metadata": {
    "collapsed": true
   },
   "outputs": [],
   "source": [
    "train['is_train'] = True"
   ]
  },
  {
   "cell_type": "code",
   "execution_count": null,
   "metadata": {
    "collapsed": true
   },
   "outputs": [],
   "source": []
  },
  {
   "cell_type": "code",
   "execution_count": null,
   "metadata": {
    "collapsed": true
   },
   "outputs": [],
   "source": []
  },
  {
   "cell_type": "code",
   "execution_count": null,
   "metadata": {
    "collapsed": true
   },
   "outputs": [],
   "source": []
  },
  {
   "cell_type": "code",
   "execution_count": null,
   "metadata": {
    "collapsed": true
   },
   "outputs": [],
   "source": []
  },
  {
   "cell_type": "code",
   "execution_count": 15,
   "metadata": {
    "collapsed": true
   },
   "outputs": [],
   "source": [
    "test = pd.read_csv(path + test_path)"
   ]
  },
  {
   "cell_type": "code",
   "execution_count": 16,
   "metadata": {},
   "outputs": [
    {
     "data": {
      "text/plain": [
       "(123623, 5)"
      ]
     },
     "execution_count": 16,
     "metadata": {},
     "output_type": "execute_result"
    }
   ],
   "source": [
    "test.shape"
   ]
  },
  {
   "cell_type": "code",
   "execution_count": 17,
   "metadata": {},
   "outputs": [
    {
     "data": {
      "text/html": [
       "<div>\n",
       "<style scoped>\n",
       "    .dataframe tbody tr th:only-of-type {\n",
       "        vertical-align: middle;\n",
       "    }\n",
       "\n",
       "    .dataframe tbody tr th {\n",
       "        vertical-align: top;\n",
       "    }\n",
       "\n",
       "    .dataframe thead th {\n",
       "        text-align: right;\n",
       "    }\n",
       "</style>\n",
       "<table border=\"1\" class=\"dataframe\">\n",
       "  <thead>\n",
       "    <tr style=\"text-align: right;\">\n",
       "      <th></th>\n",
       "      <th>first_active_month</th>\n",
       "      <th>card_id</th>\n",
       "      <th>feature_1</th>\n",
       "      <th>feature_2</th>\n",
       "      <th>feature_3</th>\n",
       "    </tr>\n",
       "  </thead>\n",
       "  <tbody>\n",
       "    <tr>\n",
       "      <th>0</th>\n",
       "      <td>2017-04</td>\n",
       "      <td>C_ID_0ab67a22ab</td>\n",
       "      <td>3</td>\n",
       "      <td>3</td>\n",
       "      <td>1</td>\n",
       "    </tr>\n",
       "    <tr>\n",
       "      <th>1</th>\n",
       "      <td>2017-01</td>\n",
       "      <td>C_ID_130fd0cbdd</td>\n",
       "      <td>2</td>\n",
       "      <td>3</td>\n",
       "      <td>0</td>\n",
       "    </tr>\n",
       "    <tr>\n",
       "      <th>2</th>\n",
       "      <td>2017-08</td>\n",
       "      <td>C_ID_b709037bc5</td>\n",
       "      <td>5</td>\n",
       "      <td>1</td>\n",
       "      <td>1</td>\n",
       "    </tr>\n",
       "    <tr>\n",
       "      <th>3</th>\n",
       "      <td>2017-12</td>\n",
       "      <td>C_ID_d27d835a9f</td>\n",
       "      <td>2</td>\n",
       "      <td>1</td>\n",
       "      <td>0</td>\n",
       "    </tr>\n",
       "    <tr>\n",
       "      <th>4</th>\n",
       "      <td>2015-12</td>\n",
       "      <td>C_ID_2b5e3df5c2</td>\n",
       "      <td>5</td>\n",
       "      <td>1</td>\n",
       "      <td>1</td>\n",
       "    </tr>\n",
       "  </tbody>\n",
       "</table>\n",
       "</div>"
      ],
      "text/plain": [
       "  first_active_month          card_id  feature_1  feature_2  feature_3\n",
       "0            2017-04  C_ID_0ab67a22ab          3          3          1\n",
       "1            2017-01  C_ID_130fd0cbdd          2          3          0\n",
       "2            2017-08  C_ID_b709037bc5          5          1          1\n",
       "3            2017-12  C_ID_d27d835a9f          2          1          0\n",
       "4            2015-12  C_ID_2b5e3df5c2          5          1          1"
      ]
     },
     "execution_count": 17,
     "metadata": {},
     "output_type": "execute_result"
    }
   ],
   "source": [
    "test.head()"
   ]
  },
  {
   "cell_type": "code",
   "execution_count": 18,
   "metadata": {
    "collapsed": true
   },
   "outputs": [],
   "source": [
    "test['target'] = np.nan\n",
    "test['is_train'] = False"
   ]
  },
  {
   "cell_type": "code",
   "execution_count": null,
   "metadata": {
    "collapsed": true
   },
   "outputs": [],
   "source": []
  },
  {
   "cell_type": "code",
   "execution_count": 19,
   "metadata": {
    "collapsed": true
   },
   "outputs": [],
   "source": [
    "train_test = pd.concat((train, test))"
   ]
  },
  {
   "cell_type": "code",
   "execution_count": 34,
   "metadata": {},
   "outputs": [
    {
     "data": {
      "text/html": [
       "<div>\n",
       "<style scoped>\n",
       "    .dataframe tbody tr th:only-of-type {\n",
       "        vertical-align: middle;\n",
       "    }\n",
       "\n",
       "    .dataframe tbody tr th {\n",
       "        vertical-align: top;\n",
       "    }\n",
       "\n",
       "    .dataframe thead th {\n",
       "        text-align: right;\n",
       "    }\n",
       "</style>\n",
       "<table border=\"1\" class=\"dataframe\">\n",
       "  <thead>\n",
       "    <tr style=\"text-align: right;\">\n",
       "      <th></th>\n",
       "      <th>first_active_month</th>\n",
       "      <th>card_id</th>\n",
       "      <th>feature_1</th>\n",
       "      <th>feature_2</th>\n",
       "      <th>feature_3</th>\n",
       "      <th>target</th>\n",
       "      <th>is_train</th>\n",
       "      <th>count_month</th>\n",
       "    </tr>\n",
       "  </thead>\n",
       "  <tbody>\n",
       "    <tr>\n",
       "      <th>0</th>\n",
       "      <td>2017-06-01</td>\n",
       "      <td>C_ID_92a2005557</td>\n",
       "      <td>5</td>\n",
       "      <td>2</td>\n",
       "      <td>1</td>\n",
       "      <td>-0.820283</td>\n",
       "      <td>True</td>\n",
       "      <td>-245.0</td>\n",
       "    </tr>\n",
       "    <tr>\n",
       "      <th>1</th>\n",
       "      <td>2017-01-01</td>\n",
       "      <td>C_ID_3d0044924f</td>\n",
       "      <td>4</td>\n",
       "      <td>1</td>\n",
       "      <td>0</td>\n",
       "      <td>0.392913</td>\n",
       "      <td>True</td>\n",
       "      <td>-396.0</td>\n",
       "    </tr>\n",
       "    <tr>\n",
       "      <th>2</th>\n",
       "      <td>2016-08-01</td>\n",
       "      <td>C_ID_d639edf6cd</td>\n",
       "      <td>2</td>\n",
       "      <td>2</td>\n",
       "      <td>0</td>\n",
       "      <td>0.688056</td>\n",
       "      <td>True</td>\n",
       "      <td>-549.0</td>\n",
       "    </tr>\n",
       "    <tr>\n",
       "      <th>3</th>\n",
       "      <td>2017-09-01</td>\n",
       "      <td>C_ID_186d6a6901</td>\n",
       "      <td>4</td>\n",
       "      <td>3</td>\n",
       "      <td>0</td>\n",
       "      <td>0.142495</td>\n",
       "      <td>True</td>\n",
       "      <td>-153.0</td>\n",
       "    </tr>\n",
       "    <tr>\n",
       "      <th>4</th>\n",
       "      <td>2017-11-01</td>\n",
       "      <td>C_ID_cdbd2c0db2</td>\n",
       "      <td>1</td>\n",
       "      <td>3</td>\n",
       "      <td>0</td>\n",
       "      <td>-0.159749</td>\n",
       "      <td>True</td>\n",
       "      <td>-92.0</td>\n",
       "    </tr>\n",
       "  </tbody>\n",
       "</table>\n",
       "</div>"
      ],
      "text/plain": [
       "  first_active_month          card_id  feature_1  feature_2  feature_3  \\\n",
       "0         2017-06-01  C_ID_92a2005557          5          2          1   \n",
       "1         2017-01-01  C_ID_3d0044924f          4          1          0   \n",
       "2         2016-08-01  C_ID_d639edf6cd          2          2          0   \n",
       "3         2017-09-01  C_ID_186d6a6901          4          3          0   \n",
       "4         2017-11-01  C_ID_cdbd2c0db2          1          3          0   \n",
       "\n",
       "     target  is_train  count_month  \n",
       "0 -0.820283      True       -245.0  \n",
       "1  0.392913      True       -396.0  \n",
       "2  0.688056      True       -549.0  \n",
       "3  0.142495      True       -153.0  \n",
       "4 -0.159749      True        -92.0  "
      ]
     },
     "execution_count": 34,
     "metadata": {},
     "output_type": "execute_result"
    }
   ],
   "source": [
    "train_test.head()"
   ]
  },
  {
   "cell_type": "code",
   "execution_count": 26,
   "metadata": {
    "collapsed": true
   },
   "outputs": [],
   "source": [
    "train_test['first_active_month'] = train_test['first_active_month'].apply(pd.to_datetime)"
   ]
  },
  {
   "cell_type": "code",
   "execution_count": 30,
   "metadata": {},
   "outputs": [],
   "source": [
    "max_date = train_test['first_active_month'].max()"
   ]
  },
  {
   "cell_type": "code",
   "execution_count": 33,
   "metadata": {
    "collapsed": true
   },
   "outputs": [],
   "source": [
    "train_test['count_month'] = train_test['first_active_month'] - max_date\n",
    "train_test['count_month'] = train_test['count_month'].apply(lambda x:x.days)"
   ]
  },
  {
   "cell_type": "markdown",
   "metadata": {
    "collapsed": true
   },
   "source": [
    "## historical_transactions "
   ]
  },
  {
   "cell_type": "code",
   "execution_count": null,
   "metadata": {
    "collapsed": true
   },
   "outputs": [],
   "source": []
  },
  {
   "cell_type": "code",
   "execution_count": 20,
   "metadata": {
    "collapsed": true
   },
   "outputs": [],
   "source": [
    "historical_transactions = pd.read_csv(path + historical_transactions_path)"
   ]
  },
  {
   "cell_type": "code",
   "execution_count": 21,
   "metadata": {},
   "outputs": [
    {
     "data": {
      "text/plain": [
       "(29112361, 14)"
      ]
     },
     "execution_count": 21,
     "metadata": {},
     "output_type": "execute_result"
    }
   ],
   "source": [
    "historical_transactions.shape"
   ]
  },
  {
   "cell_type": "code",
   "execution_count": 22,
   "metadata": {},
   "outputs": [
    {
     "data": {
      "text/html": [
       "<div>\n",
       "<style scoped>\n",
       "    .dataframe tbody tr th:only-of-type {\n",
       "        vertical-align: middle;\n",
       "    }\n",
       "\n",
       "    .dataframe tbody tr th {\n",
       "        vertical-align: top;\n",
       "    }\n",
       "\n",
       "    .dataframe thead th {\n",
       "        text-align: right;\n",
       "    }\n",
       "</style>\n",
       "<table border=\"1\" class=\"dataframe\">\n",
       "  <thead>\n",
       "    <tr style=\"text-align: right;\">\n",
       "      <th></th>\n",
       "      <th>authorized_flag</th>\n",
       "      <th>card_id</th>\n",
       "      <th>city_id</th>\n",
       "      <th>category_1</th>\n",
       "      <th>installments</th>\n",
       "      <th>category_3</th>\n",
       "      <th>merchant_category_id</th>\n",
       "      <th>merchant_id</th>\n",
       "      <th>month_lag</th>\n",
       "      <th>purchase_amount</th>\n",
       "      <th>purchase_date</th>\n",
       "      <th>category_2</th>\n",
       "      <th>state_id</th>\n",
       "      <th>subsector_id</th>\n",
       "    </tr>\n",
       "  </thead>\n",
       "  <tbody>\n",
       "    <tr>\n",
       "      <th>0</th>\n",
       "      <td>Y</td>\n",
       "      <td>C_ID_4e6213e9bc</td>\n",
       "      <td>88</td>\n",
       "      <td>N</td>\n",
       "      <td>0</td>\n",
       "      <td>A</td>\n",
       "      <td>80</td>\n",
       "      <td>M_ID_e020e9b302</td>\n",
       "      <td>-8</td>\n",
       "      <td>-0.703331</td>\n",
       "      <td>2017-06-25 15:33:07</td>\n",
       "      <td>1.0</td>\n",
       "      <td>16</td>\n",
       "      <td>37</td>\n",
       "    </tr>\n",
       "    <tr>\n",
       "      <th>1</th>\n",
       "      <td>Y</td>\n",
       "      <td>C_ID_4e6213e9bc</td>\n",
       "      <td>88</td>\n",
       "      <td>N</td>\n",
       "      <td>0</td>\n",
       "      <td>A</td>\n",
       "      <td>367</td>\n",
       "      <td>M_ID_86ec983688</td>\n",
       "      <td>-7</td>\n",
       "      <td>-0.733128</td>\n",
       "      <td>2017-07-15 12:10:45</td>\n",
       "      <td>1.0</td>\n",
       "      <td>16</td>\n",
       "      <td>16</td>\n",
       "    </tr>\n",
       "    <tr>\n",
       "      <th>2</th>\n",
       "      <td>Y</td>\n",
       "      <td>C_ID_4e6213e9bc</td>\n",
       "      <td>88</td>\n",
       "      <td>N</td>\n",
       "      <td>0</td>\n",
       "      <td>A</td>\n",
       "      <td>80</td>\n",
       "      <td>M_ID_979ed661fc</td>\n",
       "      <td>-6</td>\n",
       "      <td>-0.720386</td>\n",
       "      <td>2017-08-09 22:04:29</td>\n",
       "      <td>1.0</td>\n",
       "      <td>16</td>\n",
       "      <td>37</td>\n",
       "    </tr>\n",
       "  </tbody>\n",
       "</table>\n",
       "</div>"
      ],
      "text/plain": [
       "  authorized_flag          card_id  city_id category_1  installments  \\\n",
       "0               Y  C_ID_4e6213e9bc       88          N             0   \n",
       "1               Y  C_ID_4e6213e9bc       88          N             0   \n",
       "2               Y  C_ID_4e6213e9bc       88          N             0   \n",
       "\n",
       "  category_3  merchant_category_id      merchant_id  month_lag  \\\n",
       "0          A                    80  M_ID_e020e9b302         -8   \n",
       "1          A                   367  M_ID_86ec983688         -7   \n",
       "2          A                    80  M_ID_979ed661fc         -6   \n",
       "\n",
       "   purchase_amount        purchase_date  category_2  state_id  subsector_id  \n",
       "0        -0.703331  2017-06-25 15:33:07         1.0        16            37  \n",
       "1        -0.733128  2017-07-15 12:10:45         1.0        16            16  \n",
       "2        -0.720386  2017-08-09 22:04:29         1.0        16            37  "
      ]
     },
     "execution_count": 22,
     "metadata": {},
     "output_type": "execute_result"
    }
   ],
   "source": [
    "historical_transactions.head(3)"
   ]
  },
  {
   "cell_type": "code",
   "execution_count": 23,
   "metadata": {
    "collapsed": true
   },
   "outputs": [],
   "source": [
    "#historical_transactions['subsector_id'].value_counts()"
   ]
  },
  {
   "cell_type": "code",
   "execution_count": 24,
   "metadata": {
    "collapsed": true
   },
   "outputs": [],
   "source": [
    "historical_transactions['category_1'].replace({'N':0, 'Y':1}, inplace=True)\n",
    "historical_transactions['category_3'].replace({'A':0, 'B':1, 'C':2}, inplace=True)\n",
    "historical_transactions['authorized_flag'].replace({'N':0, 'Y':1}, inplace=True)"
   ]
  },
  {
   "cell_type": "code",
   "execution_count": null,
   "metadata": {
    "collapsed": true
   },
   "outputs": [],
   "source": []
  },
  {
   "cell_type": "code",
   "execution_count": null,
   "metadata": {
    "collapsed": true
   },
   "outputs": [],
   "source": []
  },
  {
   "cell_type": "code",
   "execution_count": 36,
   "metadata": {},
   "outputs": [
    {
     "data": {
      "text/html": [
       "<div>\n",
       "<style scoped>\n",
       "    .dataframe tbody tr th:only-of-type {\n",
       "        vertical-align: middle;\n",
       "    }\n",
       "\n",
       "    .dataframe tbody tr th {\n",
       "        vertical-align: top;\n",
       "    }\n",
       "\n",
       "    .dataframe thead th {\n",
       "        text-align: right;\n",
       "    }\n",
       "</style>\n",
       "<table border=\"1\" class=\"dataframe\">\n",
       "  <thead>\n",
       "    <tr style=\"text-align: right;\">\n",
       "      <th></th>\n",
       "      <th>card_id</th>\n",
       "      <th>authorized_flag</th>\n",
       "      <th>authorized_flag_purchase_amount_min</th>\n",
       "      <th>authorized_flag_purchase_amount_max</th>\n",
       "      <th>authorized_flag_purchase_amount_sum</th>\n",
       "      <th>authorized_flag_purchase_amount_median</th>\n",
       "      <th>authorized_flag_purchase_amount_std</th>\n",
       "      <th>authorized_flag_purchase_amount_count</th>\n",
       "      <th>authorized_flag_purchase_amount_mean</th>\n",
       "    </tr>\n",
       "  </thead>\n",
       "  <tbody>\n",
       "    <tr>\n",
       "      <th>0</th>\n",
       "      <td>C_ID_00007093c1</td>\n",
       "      <td>0</td>\n",
       "      <td>-0.728876</td>\n",
       "      <td>1.507069</td>\n",
       "      <td>-14.401965</td>\n",
       "      <td>-0.569219</td>\n",
       "      <td>0.430059</td>\n",
       "      <td>35</td>\n",
       "      <td>-0.411485</td>\n",
       "    </tr>\n",
       "  </tbody>\n",
       "</table>\n",
       "</div>"
      ],
      "text/plain": [
       "           card_id  authorized_flag  authorized_flag_purchase_amount_min  \\\n",
       "0  C_ID_00007093c1                0                            -0.728876   \n",
       "\n",
       "   authorized_flag_purchase_amount_max  authorized_flag_purchase_amount_sum  \\\n",
       "0                             1.507069                           -14.401965   \n",
       "\n",
       "   authorized_flag_purchase_amount_median  \\\n",
       "0                               -0.569219   \n",
       "\n",
       "   authorized_flag_purchase_amount_std  authorized_flag_purchase_amount_count  \\\n",
       "0                             0.430059                                     35   \n",
       "\n",
       "   authorized_flag_purchase_amount_mean  \n",
       "0                             -0.411485  "
      ]
     },
     "execution_count": 36,
     "metadata": {},
     "output_type": "execute_result"
    }
   ],
   "source": [
    "sum_purchases = historical_transactions.groupby(['card_id', 'authorized_flag']).agg({'purchase_amount': [min, max, sum, np.median, np.std, 'count', np.mean]}).reset_index()\n",
    "sum_purchases.columns = ['authorized_flag_' + '_'.join(x) if x[1] != '' else x[0] for x in sum_purchases.columns.ravel()]\n",
    "sum_purchases.head(1)"
   ]
  },
  {
   "cell_type": "code",
   "execution_count": 25,
   "metadata": {},
   "outputs": [
    {
     "name": "stdout",
     "output_type": "stream",
     "text": [
      "category_1 0\n",
      "category_1 1\n",
      "installments 0\n",
      "installments 1\n",
      "installments 5\n",
      "installments 3\n",
      "installments 4\n",
      "installments 2\n",
      "installments -1\n",
      "installments 10\n",
      "installments 6\n",
      "installments 12\n",
      "installments 8\n",
      "installments 7\n",
      "installments 9\n",
      "installments 11\n",
      "installments 999\n",
      "category_3 0.0\n",
      "category_3 1.0\n",
      "category_3 2.0\n",
      "category_3 nan\n",
      "merchant_category_id 80\n",
      "merchant_category_id 367\n",
      "merchant_category_id 560\n",
      "merchant_category_id 278\n",
      "merchant_category_id 683\n",
      "merchant_category_id 130\n",
      "merchant_category_id 879\n",
      "merchant_category_id 511\n",
      "merchant_category_id 842\n",
      "merchant_category_id 561\n",
      "merchant_category_id 705\n",
      "merchant_category_id 332\n",
      "merchant_category_id 111\n",
      "merchant_category_id 528\n",
      "merchant_category_id 437\n",
      "merchant_category_id 605\n",
      "merchant_category_id 387\n",
      "merchant_category_id 19\n",
      "merchant_category_id 307\n",
      "merchant_category_id 333\n",
      "merchant_category_id 506\n",
      "merchant_category_id 108\n",
      "merchant_category_id 45\n",
      "merchant_category_id 813\n",
      "merchant_category_id 755\n",
      "merchant_category_id 290\n",
      "merchant_category_id 68\n",
      "merchant_category_id 419\n",
      "merchant_category_id 703\n",
      "merchant_category_id 884\n",
      "merchant_category_id 391\n",
      "merchant_category_id 414\n",
      "merchant_category_id 783\n",
      "merchant_category_id 360\n",
      "merchant_category_id 454\n",
      "merchant_category_id 105\n",
      "merchant_category_id 650\n",
      "merchant_category_id 670\n",
      "merchant_category_id 574\n",
      "merchant_category_id 180\n",
      "merchant_category_id 87\n",
      "merchant_category_id 434\n",
      "merchant_category_id 401\n",
      "merchant_category_id 309\n",
      "merchant_category_id 330\n",
      "merchant_category_id 840\n",
      "merchant_category_id 273\n",
      "merchant_category_id 544\n",
      "merchant_category_id 839\n",
      "merchant_category_id 302\n",
      "merchant_category_id 195\n",
      "merchant_category_id 299\n",
      "merchant_category_id 792\n",
      "merchant_category_id 557\n",
      "merchant_category_id 383\n",
      "merchant_category_id 606\n",
      "merchant_category_id 289\n",
      "merchant_category_id 443\n",
      "merchant_category_id 415\n",
      "merchant_category_id 637\n",
      "merchant_category_id 478\n",
      "merchant_category_id 667\n",
      "merchant_category_id 126\n",
      "merchant_category_id 34\n",
      "merchant_category_id 818\n",
      "merchant_category_id 834\n",
      "merchant_category_id 222\n",
      "merchant_category_id 690\n",
      "merchant_category_id 514\n",
      "merchant_category_id 706\n",
      "merchant_category_id 422\n",
      "merchant_category_id 90\n",
      "merchant_category_id 319\n",
      "merchant_category_id 114\n",
      "merchant_category_id 630\n",
      "merchant_category_id 529\n",
      "merchant_category_id 2\n",
      "merchant_category_id 412\n",
      "merchant_category_id 14\n",
      "merchant_category_id 179\n",
      "merchant_category_id 661\n",
      "merchant_category_id 695\n",
      "merchant_category_id 774\n",
      "merchant_category_id 206\n",
      "merchant_category_id 462\n",
      "merchant_category_id 356\n",
      "merchant_category_id 642\n",
      "merchant_category_id 489\n",
      "merchant_category_id 154\n",
      "merchant_category_id 40\n",
      "merchant_category_id 340\n",
      "merchant_category_id 60\n",
      "merchant_category_id 769\n",
      "merchant_category_id 171\n",
      "merchant_category_id 166\n",
      "merchant_category_id 411\n",
      "merchant_category_id 614\n",
      "merchant_category_id 373\n",
      "merchant_category_id 216\n",
      "merchant_category_id 36\n",
      "merchant_category_id 9\n",
      "merchant_category_id 795\n",
      "merchant_category_id 748\n",
      "merchant_category_id 298\n",
      "merchant_category_id 363\n",
      "merchant_category_id 519\n",
      "merchant_category_id 734\n",
      "merchant_category_id 499\n",
      "merchant_category_id 737\n",
      "merchant_category_id 554\n",
      "merchant_category_id 210\n",
      "merchant_category_id 531\n",
      "merchant_category_id 427\n",
      "merchant_category_id 779\n",
      "merchant_category_id 369\n",
      "merchant_category_id 843\n",
      "merchant_category_id 56\n",
      "merchant_category_id 178\n",
      "merchant_category_id 317\n",
      "merchant_category_id 16\n",
      "merchant_category_id 384\n",
      "merchant_category_id 836\n",
      "merchant_category_id 823\n",
      "merchant_category_id 771\n",
      "merchant_category_id 78\n",
      "merchant_category_id 420\n",
      "merchant_category_id 796\n",
      "merchant_category_id 692\n",
      "merchant_category_id 215\n",
      "merchant_category_id 573\n",
      "merchant_category_id 458\n",
      "merchant_category_id 246\n",
      "merchant_category_id 527\n",
      "merchant_category_id 63\n",
      "merchant_category_id 21\n",
      "merchant_category_id 518\n",
      "merchant_category_id 320\n",
      "merchant_category_id 665\n",
      "merchant_category_id 550\n",
      "merchant_category_id 491\n",
      "merchant_category_id 623\n",
      "merchant_category_id 451\n",
      "merchant_category_id 829\n",
      "merchant_category_id 526\n",
      "merchant_category_id 274\n",
      "merchant_category_id 607\n",
      "merchant_category_id 891\n",
      "merchant_category_id 671\n",
      "merchant_category_id 438\n",
      "merchant_category_id 497\n",
      "merchant_category_id 498\n",
      "merchant_category_id 793\n",
      "merchant_category_id 761\n",
      "merchant_category_id 69\n",
      "merchant_category_id 471\n",
      "merchant_category_id 507\n",
      "merchant_category_id 386\n",
      "merchant_category_id 645\n",
      "merchant_category_id 181\n",
      "merchant_category_id 33\n",
      "merchant_category_id 398\n",
      "merchant_category_id 472\n",
      "merchant_category_id 536\n",
      "merchant_category_id 248\n",
      "merchant_category_id 409\n",
      "merchant_category_id 656\n",
      "merchant_category_id 357\n",
      "merchant_category_id 631\n",
      "merchant_category_id 342\n",
      "merchant_category_id 225\n",
      "merchant_category_id 480\n",
      "merchant_category_id 117\n",
      "merchant_category_id 763\n",
      "merchant_category_id 385\n",
      "merchant_category_id 534\n",
      "merchant_category_id 241\n",
      "merchant_category_id 651\n",
      "merchant_category_id 184\n",
      "merchant_category_id 827\n",
      "merchant_category_id 417\n",
      "merchant_category_id 702\n",
      "merchant_category_id 504\n",
      "merchant_category_id 889\n",
      "merchant_category_id 400\n",
      "merchant_category_id 224\n",
      "merchant_category_id 119\n",
      "merchant_category_id 57\n",
      "merchant_category_id 157\n",
      "merchant_category_id 115\n",
      "merchant_category_id 38\n",
      "merchant_category_id 669\n",
      "merchant_category_id 198\n",
      "merchant_category_id 593\n",
      "merchant_category_id 396\n",
      "merchant_category_id 432\n",
      "merchant_category_id 885\n",
      "merchant_category_id 652\n",
      "merchant_category_id -1\n",
      "merchant_category_id 474\n",
      "merchant_category_id 312\n",
      "merchant_category_id 351\n",
      "merchant_category_id 854\n",
      "merchant_category_id 267\n",
      "merchant_category_id 873\n",
      "merchant_category_id 613\n",
      "merchant_category_id 110\n",
      "merchant_category_id 223\n",
      "merchant_category_id 81\n",
      "merchant_category_id 217\n",
      "merchant_category_id 315\n",
      "merchant_category_id 71\n",
      "merchant_category_id 276\n",
      "merchant_category_id 172\n",
      "merchant_category_id 568\n",
      "merchant_category_id 416\n",
      "merchant_category_id 751\n",
      "merchant_category_id 456\n",
      "merchant_category_id 348\n",
      "merchant_category_id 781\n",
      "merchant_category_id 662\n",
      "merchant_category_id 109\n",
      "merchant_category_id 245\n",
      "merchant_category_id 259\n",
      "merchant_category_id 685\n",
      "merchant_category_id 83\n",
      "merchant_category_id 551\n",
      "merchant_category_id 696\n",
      "merchant_category_id 676\n",
      "merchant_category_id 469\n",
      "merchant_category_id 598\n",
      "merchant_category_id 260\n",
      "merchant_category_id 556\n",
      "merchant_category_id 457\n",
      "merchant_category_id 819\n",
      "merchant_category_id 806\n",
      "merchant_category_id 374\n",
      "merchant_category_id 847\n",
      "merchant_category_id 101\n",
      "merchant_category_id 292\n",
      "merchant_category_id 546\n",
      "merchant_category_id 790\n",
      "merchant_category_id 343\n",
      "merchant_category_id 713\n",
      "merchant_category_id 448\n",
      "merchant_category_id 209\n",
      "merchant_category_id 814\n",
      "merchant_category_id 201\n",
      "merchant_category_id 436\n",
      "merchant_category_id 803\n",
      "merchant_category_id 53\n",
      "merchant_category_id 591\n",
      "merchant_category_id 509\n",
      "merchant_category_id 182\n",
      "merchant_category_id 513\n",
      "merchant_category_id 192\n",
      "merchant_category_id 247\n",
      "merchant_category_id 265\n",
      "merchant_category_id 648\n",
      "merchant_category_id 52\n",
      "merchant_category_id 757\n",
      "merchant_category_id 482\n",
      "merchant_category_id 653\n",
      "merchant_category_id 808\n",
      "merchant_category_id 430\n",
      "merchant_category_id 780\n",
      "merchant_category_id 261\n",
      "merchant_category_id 714\n",
      "merchant_category_id 712\n",
      "merchant_category_id 817\n",
      "merchant_category_id 187\n",
      "merchant_category_id 686\n",
      "merchant_category_id 878\n",
      "merchant_category_id 881\n",
      "merchant_category_id 583\n",
      "merchant_category_id 355\n",
      "merchant_category_id 599\n",
      "merchant_category_id 162\n",
      "merchant_category_id 668\n",
      "merchant_category_id 358\n",
      "merchant_category_id 421\n",
      "merchant_category_id 381\n",
      "merchant_category_id 717\n",
      "merchant_category_id 334\n",
      "merchant_category_id 140\n",
      "merchant_category_id 530\n",
      "merchant_category_id 190\n",
      "merchant_category_id 743\n",
      "merchant_category_id 587\n",
      "merchant_category_id 11\n",
      "merchant_category_id 183\n",
      "merchant_category_id 141\n",
      "merchant_category_id 249\n",
      "merchant_category_id 805\n",
      "merchant_category_id 131\n",
      "merchant_category_id 464\n",
      "merchant_category_id 580\n",
      "merchant_category_id 741\n",
      "merchant_category_id 59\n",
      "merchant_category_id 718\n",
      "merchant_category_id 393\n",
      "merchant_category_id 345\n",
      "merchant_category_id 628\n",
      "merchant_category_id 27\n",
      "merchant_category_id 164\n",
      "merchant_category_id 311\n",
      "merchant_category_id 268\n",
      "merchant_category_id 49\n",
      "merchant_category_id 664\n",
      "merchant_category_id 542\n",
      "merchant_category_id 601\n",
      "merchant_category_id 226\n",
      "merchant_category_id 31\n",
      "merchant_category_id 634\n",
      "merchant_category_id 579\n",
      "merchant_category_id 67\n",
      "merchant_category_id 153\n",
      "merchant_category_id 37\n"
     ]
    },
    {
     "name": "stdout",
     "output_type": "stream",
     "text": [
      "merchant_category_id 523\n",
      "merchant_category_id 603\n",
      "merchant_category_id 145\n",
      "merchant_category_id 882\n",
      "merchant_category_id 322\n",
      "merchant_category_id 18\n",
      "merchant_category_id 875\n",
      "merchant_category_id 687\n",
      "merchant_category_id 86\n",
      "merchant_category_id 266\n",
      "category_2 1.0\n",
      "category_2 nan\n",
      "category_2 3.0\n",
      "category_2 5.0\n",
      "category_2 2.0\n",
      "category_2 4.0\n",
      "state_id 16\n",
      "state_id 9\n",
      "state_id -1\n",
      "state_id 11\n",
      "state_id 15\n",
      "state_id 17\n",
      "state_id 5\n",
      "state_id 24\n",
      "state_id 19\n",
      "state_id 23\n",
      "state_id 3\n",
      "state_id 8\n",
      "state_id 18\n",
      "state_id 7\n",
      "state_id 4\n",
      "state_id 22\n",
      "state_id 13\n",
      "state_id 1\n",
      "state_id 10\n",
      "state_id 21\n",
      "state_id 20\n",
      "state_id 14\n",
      "state_id 2\n",
      "state_id 12\n",
      "state_id 6\n",
      "subsector_id 37\n",
      "subsector_id 16\n",
      "subsector_id 34\n",
      "subsector_id 41\n",
      "subsector_id 29\n",
      "subsector_id 7\n",
      "subsector_id 33\n",
      "subsector_id 2\n",
      "subsector_id 36\n",
      "subsector_id 25\n",
      "subsector_id 15\n",
      "subsector_id 19\n",
      "subsector_id 10\n",
      "subsector_id 30\n",
      "subsector_id 18\n",
      "subsector_id 8\n",
      "subsector_id 27\n",
      "subsector_id 1\n",
      "subsector_id 39\n",
      "subsector_id 32\n",
      "subsector_id 22\n",
      "subsector_id 20\n",
      "subsector_id 21\n",
      "subsector_id 9\n",
      "subsector_id 17\n",
      "subsector_id 38\n",
      "subsector_id 12\n",
      "subsector_id 26\n",
      "subsector_id 31\n",
      "subsector_id 13\n",
      "subsector_id 35\n",
      "subsector_id 5\n",
      "subsector_id 23\n",
      "subsector_id 3\n",
      "subsector_id 4\n",
      "subsector_id 14\n",
      "subsector_id 24\n",
      "subsector_id 40\n",
      "subsector_id 11\n",
      "subsector_id -1\n",
      "subsector_id 28\n"
     ]
    }
   ],
   "source": [
    "aggregate_columns = ['category_1', 'installments', 'category_3', 'merchant_category_id',\\\n",
    "                     'category_2', 'state_id', 'subsector_id']\n",
    "aggregates_history = []\n",
    "for c in aggregate_columns:\n",
    "    for i in historical_transactions[c].unique():\n",
    "        part_historical_transactions = historical_transactions[historical_transactions[c] == i]\n",
    "        aggregate_item = part_historical_transactions.groupby(['card_id', 'authorized_flag'])\\\n",
    "            .agg({'purchase_amount': [min, max, sum, np.median, np.std, 'count', np.mean]}).reset_index()\n",
    "        aggregate_item.columns = [c + '_' + str(i) + '_' + '_'.join(x) if x[1] != '' else x[0] for x in aggregate_item.columns.ravel()]\n",
    "        aggregates_history.append(aggregate_item)\n",
    "        print(c, i)"
   ]
  },
  {
   "cell_type": "code",
   "execution_count": null,
   "metadata": {
    "collapsed": true
   },
   "outputs": [],
   "source": []
  },
  {
   "cell_type": "code",
   "execution_count": 26,
   "metadata": {
    "collapsed": true
   },
   "outputs": [],
   "source": [
    "cities = historical_transactions['city_id'].unique()\n",
    "category_1 = historical_transactions['category_1'].unique()\n",
    "category_3 = historical_transactions['category_3'].unique()\n",
    "merchant_category_id = historical_transactions['merchant_category_id'].unique()\n",
    "category_2 = historical_transactions['category_2'].unique()\n",
    "state_id = historical_transactions['state_id'].unique()\n",
    "subsector_id = historical_transactions['subsector_id'].unique()"
   ]
  },
  {
   "cell_type": "code",
   "execution_count": null,
   "metadata": {
    "collapsed": true
   },
   "outputs": [],
   "source": []
  },
  {
   "cell_type": "code",
   "execution_count": null,
   "metadata": {
    "collapsed": true
   },
   "outputs": [],
   "source": []
  },
  {
   "cell_type": "markdown",
   "metadata": {},
   "source": [
    "## new_merchant_transactions "
   ]
  },
  {
   "cell_type": "code",
   "execution_count": null,
   "metadata": {
    "collapsed": true
   },
   "outputs": [],
   "source": []
  },
  {
   "cell_type": "code",
   "execution_count": 27,
   "metadata": {
    "collapsed": true
   },
   "outputs": [],
   "source": [
    "new_merchant_transactions = pd.read_csv(path + new_merchant_transactions_path)"
   ]
  },
  {
   "cell_type": "code",
   "execution_count": 28,
   "metadata": {},
   "outputs": [
    {
     "data": {
      "text/plain": [
       "(1963031, 14)"
      ]
     },
     "execution_count": 28,
     "metadata": {},
     "output_type": "execute_result"
    }
   ],
   "source": [
    "new_merchant_transactions.shape"
   ]
  },
  {
   "cell_type": "code",
   "execution_count": 29,
   "metadata": {},
   "outputs": [
    {
     "data": {
      "text/html": [
       "<div>\n",
       "<style scoped>\n",
       "    .dataframe tbody tr th:only-of-type {\n",
       "        vertical-align: middle;\n",
       "    }\n",
       "\n",
       "    .dataframe tbody tr th {\n",
       "        vertical-align: top;\n",
       "    }\n",
       "\n",
       "    .dataframe thead th {\n",
       "        text-align: right;\n",
       "    }\n",
       "</style>\n",
       "<table border=\"1\" class=\"dataframe\">\n",
       "  <thead>\n",
       "    <tr style=\"text-align: right;\">\n",
       "      <th></th>\n",
       "      <th>authorized_flag</th>\n",
       "      <th>card_id</th>\n",
       "      <th>city_id</th>\n",
       "      <th>category_1</th>\n",
       "      <th>installments</th>\n",
       "      <th>category_3</th>\n",
       "      <th>merchant_category_id</th>\n",
       "      <th>merchant_id</th>\n",
       "      <th>month_lag</th>\n",
       "      <th>purchase_amount</th>\n",
       "      <th>purchase_date</th>\n",
       "      <th>category_2</th>\n",
       "      <th>state_id</th>\n",
       "      <th>subsector_id</th>\n",
       "    </tr>\n",
       "  </thead>\n",
       "  <tbody>\n",
       "    <tr>\n",
       "      <th>0</th>\n",
       "      <td>Y</td>\n",
       "      <td>C_ID_415bb3a509</td>\n",
       "      <td>107</td>\n",
       "      <td>N</td>\n",
       "      <td>1</td>\n",
       "      <td>B</td>\n",
       "      <td>307</td>\n",
       "      <td>M_ID_b0c793002c</td>\n",
       "      <td>1</td>\n",
       "      <td>-0.557574</td>\n",
       "      <td>2018-03-11 14:57:36</td>\n",
       "      <td>1.0</td>\n",
       "      <td>9</td>\n",
       "      <td>19</td>\n",
       "    </tr>\n",
       "    <tr>\n",
       "      <th>1</th>\n",
       "      <td>Y</td>\n",
       "      <td>C_ID_415bb3a509</td>\n",
       "      <td>140</td>\n",
       "      <td>N</td>\n",
       "      <td>1</td>\n",
       "      <td>B</td>\n",
       "      <td>307</td>\n",
       "      <td>M_ID_88920c89e8</td>\n",
       "      <td>1</td>\n",
       "      <td>-0.569580</td>\n",
       "      <td>2018-03-19 18:53:37</td>\n",
       "      <td>1.0</td>\n",
       "      <td>9</td>\n",
       "      <td>19</td>\n",
       "    </tr>\n",
       "    <tr>\n",
       "      <th>2</th>\n",
       "      <td>Y</td>\n",
       "      <td>C_ID_415bb3a509</td>\n",
       "      <td>330</td>\n",
       "      <td>N</td>\n",
       "      <td>1</td>\n",
       "      <td>B</td>\n",
       "      <td>507</td>\n",
       "      <td>M_ID_ad5237ef6b</td>\n",
       "      <td>2</td>\n",
       "      <td>-0.551037</td>\n",
       "      <td>2018-04-26 14:08:44</td>\n",
       "      <td>1.0</td>\n",
       "      <td>9</td>\n",
       "      <td>14</td>\n",
       "    </tr>\n",
       "    <tr>\n",
       "      <th>3</th>\n",
       "      <td>Y</td>\n",
       "      <td>C_ID_415bb3a509</td>\n",
       "      <td>-1</td>\n",
       "      <td>Y</td>\n",
       "      <td>1</td>\n",
       "      <td>B</td>\n",
       "      <td>661</td>\n",
       "      <td>M_ID_9e84cda3b1</td>\n",
       "      <td>1</td>\n",
       "      <td>-0.671925</td>\n",
       "      <td>2018-03-07 09:43:21</td>\n",
       "      <td>NaN</td>\n",
       "      <td>-1</td>\n",
       "      <td>8</td>\n",
       "    </tr>\n",
       "    <tr>\n",
       "      <th>4</th>\n",
       "      <td>Y</td>\n",
       "      <td>C_ID_ef55cf8d4b</td>\n",
       "      <td>-1</td>\n",
       "      <td>Y</td>\n",
       "      <td>1</td>\n",
       "      <td>B</td>\n",
       "      <td>166</td>\n",
       "      <td>M_ID_3c86fa3831</td>\n",
       "      <td>1</td>\n",
       "      <td>-0.659904</td>\n",
       "      <td>2018-03-22 21:07:53</td>\n",
       "      <td>NaN</td>\n",
       "      <td>-1</td>\n",
       "      <td>29</td>\n",
       "    </tr>\n",
       "  </tbody>\n",
       "</table>\n",
       "</div>"
      ],
      "text/plain": [
       "  authorized_flag          card_id  city_id category_1  installments  \\\n",
       "0               Y  C_ID_415bb3a509      107          N             1   \n",
       "1               Y  C_ID_415bb3a509      140          N             1   \n",
       "2               Y  C_ID_415bb3a509      330          N             1   \n",
       "3               Y  C_ID_415bb3a509       -1          Y             1   \n",
       "4               Y  C_ID_ef55cf8d4b       -1          Y             1   \n",
       "\n",
       "  category_3  merchant_category_id      merchant_id  month_lag  \\\n",
       "0          B                   307  M_ID_b0c793002c          1   \n",
       "1          B                   307  M_ID_88920c89e8          1   \n",
       "2          B                   507  M_ID_ad5237ef6b          2   \n",
       "3          B                   661  M_ID_9e84cda3b1          1   \n",
       "4          B                   166  M_ID_3c86fa3831          1   \n",
       "\n",
       "   purchase_amount        purchase_date  category_2  state_id  subsector_id  \n",
       "0        -0.557574  2018-03-11 14:57:36         1.0         9            19  \n",
       "1        -0.569580  2018-03-19 18:53:37         1.0         9            19  \n",
       "2        -0.551037  2018-04-26 14:08:44         1.0         9            14  \n",
       "3        -0.671925  2018-03-07 09:43:21         NaN        -1             8  \n",
       "4        -0.659904  2018-03-22 21:07:53         NaN        -1            29  "
      ]
     },
     "execution_count": 29,
     "metadata": {},
     "output_type": "execute_result"
    }
   ],
   "source": [
    "new_merchant_transactions.head()"
   ]
  },
  {
   "cell_type": "code",
   "execution_count": 30,
   "metadata": {
    "collapsed": true
   },
   "outputs": [],
   "source": [
    "new_merchant_transactions.drop('authorized_flag', axis=1, inplace=True)"
   ]
  },
  {
   "cell_type": "code",
   "execution_count": 31,
   "metadata": {
    "collapsed": true
   },
   "outputs": [],
   "source": [
    "new_merchant_transactions['category_1'].replace({'N':0, 'Y':1}, inplace=True)"
   ]
  },
  {
   "cell_type": "code",
   "execution_count": 32,
   "metadata": {},
   "outputs": [
    {
     "data": {
      "text/plain": [
       "0    1899935\n",
       "1      63096\n",
       "Name: category_1, dtype: int64"
      ]
     },
     "execution_count": 32,
     "metadata": {},
     "output_type": "execute_result"
    }
   ],
   "source": [
    "new_merchant_transactions['category_1'].value_counts()"
   ]
  },
  {
   "cell_type": "code",
   "execution_count": null,
   "metadata": {
    "collapsed": true
   },
   "outputs": [],
   "source": []
  },
  {
   "cell_type": "markdown",
   "metadata": {
    "collapsed": true
   },
   "source": [
    "## merchants "
   ]
  },
  {
   "cell_type": "code",
   "execution_count": null,
   "metadata": {
    "collapsed": true
   },
   "outputs": [],
   "source": []
  },
  {
   "cell_type": "code",
   "execution_count": 33,
   "metadata": {
    "collapsed": true
   },
   "outputs": [],
   "source": [
    "merchants = pd.read_csv(path + merchants_path)"
   ]
  },
  {
   "cell_type": "code",
   "execution_count": 34,
   "metadata": {},
   "outputs": [
    {
     "data": {
      "text/plain": [
       "(334696, 22)"
      ]
     },
     "execution_count": 34,
     "metadata": {},
     "output_type": "execute_result"
    }
   ],
   "source": [
    "merchants.shape"
   ]
  },
  {
   "cell_type": "code",
   "execution_count": 35,
   "metadata": {},
   "outputs": [
    {
     "data": {
      "text/html": [
       "<div>\n",
       "<style scoped>\n",
       "    .dataframe tbody tr th:only-of-type {\n",
       "        vertical-align: middle;\n",
       "    }\n",
       "\n",
       "    .dataframe tbody tr th {\n",
       "        vertical-align: top;\n",
       "    }\n",
       "\n",
       "    .dataframe thead th {\n",
       "        text-align: right;\n",
       "    }\n",
       "</style>\n",
       "<table border=\"1\" class=\"dataframe\">\n",
       "  <thead>\n",
       "    <tr style=\"text-align: right;\">\n",
       "      <th></th>\n",
       "      <th>merchant_id</th>\n",
       "      <th>merchant_group_id</th>\n",
       "      <th>merchant_category_id</th>\n",
       "      <th>subsector_id</th>\n",
       "      <th>numerical_1</th>\n",
       "      <th>numerical_2</th>\n",
       "      <th>category_1</th>\n",
       "      <th>most_recent_sales_range</th>\n",
       "      <th>most_recent_purchases_range</th>\n",
       "      <th>avg_sales_lag3</th>\n",
       "      <th>...</th>\n",
       "      <th>avg_sales_lag6</th>\n",
       "      <th>avg_purchases_lag6</th>\n",
       "      <th>active_months_lag6</th>\n",
       "      <th>avg_sales_lag12</th>\n",
       "      <th>avg_purchases_lag12</th>\n",
       "      <th>active_months_lag12</th>\n",
       "      <th>category_4</th>\n",
       "      <th>city_id</th>\n",
       "      <th>state_id</th>\n",
       "      <th>category_2</th>\n",
       "    </tr>\n",
       "  </thead>\n",
       "  <tbody>\n",
       "    <tr>\n",
       "      <th>0</th>\n",
       "      <td>M_ID_838061e48c</td>\n",
       "      <td>8353</td>\n",
       "      <td>792</td>\n",
       "      <td>9</td>\n",
       "      <td>-0.057471</td>\n",
       "      <td>-0.057471</td>\n",
       "      <td>N</td>\n",
       "      <td>E</td>\n",
       "      <td>E</td>\n",
       "      <td>-0.40</td>\n",
       "      <td>...</td>\n",
       "      <td>-2.25</td>\n",
       "      <td>18.666667</td>\n",
       "      <td>6</td>\n",
       "      <td>-2.32</td>\n",
       "      <td>13.916667</td>\n",
       "      <td>12</td>\n",
       "      <td>N</td>\n",
       "      <td>242</td>\n",
       "      <td>9</td>\n",
       "      <td>1.0</td>\n",
       "    </tr>\n",
       "    <tr>\n",
       "      <th>1</th>\n",
       "      <td>M_ID_9339d880ad</td>\n",
       "      <td>3184</td>\n",
       "      <td>840</td>\n",
       "      <td>20</td>\n",
       "      <td>-0.057471</td>\n",
       "      <td>-0.057471</td>\n",
       "      <td>N</td>\n",
       "      <td>E</td>\n",
       "      <td>E</td>\n",
       "      <td>-0.72</td>\n",
       "      <td>...</td>\n",
       "      <td>-0.74</td>\n",
       "      <td>1.291667</td>\n",
       "      <td>6</td>\n",
       "      <td>-0.57</td>\n",
       "      <td>1.687500</td>\n",
       "      <td>12</td>\n",
       "      <td>N</td>\n",
       "      <td>22</td>\n",
       "      <td>16</td>\n",
       "      <td>1.0</td>\n",
       "    </tr>\n",
       "    <tr>\n",
       "      <th>2</th>\n",
       "      <td>M_ID_e726bbae1e</td>\n",
       "      <td>447</td>\n",
       "      <td>690</td>\n",
       "      <td>1</td>\n",
       "      <td>-0.057471</td>\n",
       "      <td>-0.057471</td>\n",
       "      <td>N</td>\n",
       "      <td>E</td>\n",
       "      <td>E</td>\n",
       "      <td>-82.13</td>\n",
       "      <td>...</td>\n",
       "      <td>-82.13</td>\n",
       "      <td>260.000000</td>\n",
       "      <td>2</td>\n",
       "      <td>-82.13</td>\n",
       "      <td>260.000000</td>\n",
       "      <td>2</td>\n",
       "      <td>N</td>\n",
       "      <td>-1</td>\n",
       "      <td>5</td>\n",
       "      <td>5.0</td>\n",
       "    </tr>\n",
       "    <tr>\n",
       "      <th>3</th>\n",
       "      <td>M_ID_a70e9c5f81</td>\n",
       "      <td>5026</td>\n",
       "      <td>792</td>\n",
       "      <td>9</td>\n",
       "      <td>-0.057471</td>\n",
       "      <td>-0.057471</td>\n",
       "      <td>Y</td>\n",
       "      <td>E</td>\n",
       "      <td>E</td>\n",
       "      <td>NaN</td>\n",
       "      <td>...</td>\n",
       "      <td>NaN</td>\n",
       "      <td>4.666667</td>\n",
       "      <td>6</td>\n",
       "      <td>NaN</td>\n",
       "      <td>3.833333</td>\n",
       "      <td>12</td>\n",
       "      <td>Y</td>\n",
       "      <td>-1</td>\n",
       "      <td>-1</td>\n",
       "      <td>NaN</td>\n",
       "    </tr>\n",
       "    <tr>\n",
       "      <th>4</th>\n",
       "      <td>M_ID_64456c37ce</td>\n",
       "      <td>2228</td>\n",
       "      <td>222</td>\n",
       "      <td>21</td>\n",
       "      <td>-0.057471</td>\n",
       "      <td>-0.057471</td>\n",
       "      <td>Y</td>\n",
       "      <td>E</td>\n",
       "      <td>E</td>\n",
       "      <td>NaN</td>\n",
       "      <td>...</td>\n",
       "      <td>NaN</td>\n",
       "      <td>0.361111</td>\n",
       "      <td>6</td>\n",
       "      <td>NaN</td>\n",
       "      <td>0.347222</td>\n",
       "      <td>12</td>\n",
       "      <td>Y</td>\n",
       "      <td>-1</td>\n",
       "      <td>-1</td>\n",
       "      <td>NaN</td>\n",
       "    </tr>\n",
       "  </tbody>\n",
       "</table>\n",
       "<p>5 rows × 22 columns</p>\n",
       "</div>"
      ],
      "text/plain": [
       "       merchant_id  merchant_group_id  merchant_category_id  subsector_id  \\\n",
       "0  M_ID_838061e48c               8353                   792             9   \n",
       "1  M_ID_9339d880ad               3184                   840            20   \n",
       "2  M_ID_e726bbae1e                447                   690             1   \n",
       "3  M_ID_a70e9c5f81               5026                   792             9   \n",
       "4  M_ID_64456c37ce               2228                   222            21   \n",
       "\n",
       "   numerical_1  numerical_2 category_1 most_recent_sales_range  \\\n",
       "0    -0.057471    -0.057471          N                       E   \n",
       "1    -0.057471    -0.057471          N                       E   \n",
       "2    -0.057471    -0.057471          N                       E   \n",
       "3    -0.057471    -0.057471          Y                       E   \n",
       "4    -0.057471    -0.057471          Y                       E   \n",
       "\n",
       "  most_recent_purchases_range  avg_sales_lag3     ...      avg_sales_lag6  \\\n",
       "0                           E           -0.40     ...               -2.25   \n",
       "1                           E           -0.72     ...               -0.74   \n",
       "2                           E          -82.13     ...              -82.13   \n",
       "3                           E             NaN     ...                 NaN   \n",
       "4                           E             NaN     ...                 NaN   \n",
       "\n",
       "   avg_purchases_lag6  active_months_lag6  avg_sales_lag12  \\\n",
       "0           18.666667                   6            -2.32   \n",
       "1            1.291667                   6            -0.57   \n",
       "2          260.000000                   2           -82.13   \n",
       "3            4.666667                   6              NaN   \n",
       "4            0.361111                   6              NaN   \n",
       "\n",
       "   avg_purchases_lag12  active_months_lag12  category_4  city_id state_id  \\\n",
       "0            13.916667                   12           N      242        9   \n",
       "1             1.687500                   12           N       22       16   \n",
       "2           260.000000                    2           N       -1        5   \n",
       "3             3.833333                   12           Y       -1       -1   \n",
       "4             0.347222                   12           Y       -1       -1   \n",
       "\n",
       "   category_2  \n",
       "0         1.0  \n",
       "1         1.0  \n",
       "2         5.0  \n",
       "3         NaN  \n",
       "4         NaN  \n",
       "\n",
       "[5 rows x 22 columns]"
      ]
     },
     "execution_count": 35,
     "metadata": {},
     "output_type": "execute_result"
    }
   ],
   "source": [
    "merchants.head()"
   ]
  },
  {
   "cell_type": "code",
   "execution_count": 36,
   "metadata": {},
   "outputs": [
    {
     "data": {
      "text/plain": [
       "array(['E', 'C', 'D', 'A', 'B'], dtype=object)"
      ]
     },
     "execution_count": 36,
     "metadata": {},
     "output_type": "execute_result"
    }
   ],
   "source": [
    "merchants['most_recent_sales_range'].unique()"
   ]
  },
  {
   "cell_type": "code",
   "execution_count": null,
   "metadata": {
    "collapsed": true
   },
   "outputs": [],
   "source": []
  },
  {
   "cell_type": "code",
   "execution_count": null,
   "metadata": {
    "collapsed": true
   },
   "outputs": [],
   "source": []
  },
  {
   "cell_type": "markdown",
   "metadata": {},
   "source": [
    "## processing"
   ]
  },
  {
   "cell_type": "code",
   "execution_count": 37,
   "metadata": {},
   "outputs": [],
   "source": [
    "data = train_test.merge(sum_purchases[sum_purchases['authorized_flag'] == 0].drop(['authorized_flag'], axis=1), how='left', left_on='card_id', right_on='card_id')\n",
    "data = data.merge(sum_purchases[sum_purchases['authorized_flag'] == 1].drop(['authorized_flag'], axis=1), how='left', left_on='card_id', right_on='card_id')"
   ]
  },
  {
   "cell_type": "code",
   "execution_count": 38,
   "metadata": {},
   "outputs": [
    {
     "name": "stdout",
     "output_type": "stream",
     "text": [
      "0 / 420\n",
      "1 / 420\n",
      "2 / 420\n",
      "3 / 420\n",
      "4 / 420\n",
      "5 / 420\n",
      "6 / 420\n",
      "7 / 420\n",
      "8 / 420\n",
      "9 / 420\n",
      "10 / 420\n",
      "11 / 420\n",
      "12 / 420\n",
      "13 / 420\n",
      "14 / 420\n",
      "15 / 420\n",
      "16 / 420\n",
      "17 / 420\n",
      "18 / 420\n",
      "19 / 420\n",
      "20 / 420\n",
      "21 / 420\n",
      "22 / 420\n",
      "23 / 420\n",
      "24 / 420\n",
      "25 / 420\n",
      "26 / 420\n",
      "27 / 420\n",
      "28 / 420\n",
      "29 / 420\n",
      "30 / 420\n",
      "31 / 420\n",
      "32 / 420\n",
      "33 / 420\n",
      "34 / 420\n",
      "35 / 420\n",
      "36 / 420\n",
      "37 / 420\n",
      "38 / 420\n",
      "39 / 420\n",
      "40 / 420\n",
      "41 / 420\n",
      "42 / 420\n",
      "43 / 420\n",
      "44 / 420\n",
      "45 / 420\n",
      "46 / 420\n",
      "47 / 420\n",
      "48 / 420\n",
      "49 / 420\n",
      "50 / 420\n",
      "51 / 420\n",
      "52 / 420\n",
      "53 / 420\n",
      "54 / 420\n",
      "55 / 420\n",
      "56 / 420\n",
      "57 / 420\n",
      "58 / 420\n",
      "59 / 420\n",
      "60 / 420\n",
      "61 / 420\n",
      "62 / 420\n",
      "63 / 420\n",
      "64 / 420\n",
      "65 / 420\n",
      "66 / 420\n",
      "67 / 420\n",
      "68 / 420\n",
      "69 / 420\n",
      "70 / 420\n",
      "71 / 420\n",
      "72 / 420\n",
      "73 / 420\n",
      "74 / 420\n",
      "75 / 420\n",
      "76 / 420\n",
      "77 / 420\n",
      "78 / 420\n",
      "79 / 420\n",
      "80 / 420\n",
      "81 / 420\n",
      "82 / 420\n",
      "83 / 420\n",
      "84 / 420\n",
      "85 / 420\n",
      "86 / 420\n",
      "87 / 420\n",
      "88 / 420\n",
      "89 / 420\n",
      "90 / 420\n",
      "91 / 420\n",
      "92 / 420\n",
      "93 / 420\n",
      "94 / 420\n",
      "95 / 420\n",
      "96 / 420\n",
      "97 / 420\n",
      "98 / 420\n",
      "99 / 420\n",
      "100 / 420\n",
      "101 / 420\n",
      "102 / 420\n",
      "103 / 420\n",
      "104 / 420\n",
      "105 / 420\n",
      "106 / 420\n",
      "107 / 420\n",
      "108 / 420\n",
      "109 / 420\n",
      "110 / 420\n",
      "111 / 420\n",
      "112 / 420\n",
      "113 / 420\n",
      "114 / 420\n",
      "115 / 420\n",
      "116 / 420\n",
      "117 / 420\n",
      "118 / 420\n",
      "119 / 420\n",
      "120 / 420\n",
      "121 / 420\n",
      "122 / 420\n",
      "123 / 420\n",
      "124 / 420\n",
      "125 / 420\n",
      "126 / 420\n",
      "127 / 420\n",
      "128 / 420\n",
      "129 / 420\n",
      "130 / 420\n",
      "131 / 420\n",
      "132 / 420\n",
      "133 / 420\n",
      "134 / 420\n",
      "135 / 420\n",
      "136 / 420\n",
      "137 / 420\n",
      "138 / 420\n",
      "139 / 420\n",
      "140 / 420\n",
      "141 / 420\n",
      "142 / 420\n",
      "143 / 420\n",
      "144 / 420\n",
      "145 / 420\n",
      "146 / 420\n",
      "147 / 420\n",
      "148 / 420\n",
      "149 / 420\n",
      "150 / 420\n",
      "151 / 420\n",
      "152 / 420\n",
      "153 / 420\n",
      "154 / 420\n",
      "155 / 420\n",
      "156 / 420\n",
      "157 / 420\n",
      "158 / 420\n",
      "159 / 420\n",
      "160 / 420\n",
      "161 / 420\n",
      "162 / 420\n",
      "163 / 420\n",
      "164 / 420\n",
      "165 / 420\n",
      "166 / 420\n",
      "167 / 420\n",
      "168 / 420\n",
      "169 / 420\n",
      "170 / 420\n",
      "171 / 420\n",
      "172 / 420\n",
      "173 / 420\n",
      "174 / 420\n",
      "175 / 420\n",
      "176 / 420\n",
      "177 / 420\n",
      "178 / 420\n",
      "179 / 420\n",
      "180 / 420\n",
      "181 / 420\n",
      "182 / 420\n",
      "183 / 420\n",
      "184 / 420\n",
      "185 / 420\n",
      "186 / 420\n",
      "187 / 420\n",
      "188 / 420\n",
      "189 / 420\n",
      "190 / 420\n",
      "191 / 420\n",
      "192 / 420\n",
      "193 / 420\n",
      "194 / 420\n",
      "195 / 420\n",
      "196 / 420\n",
      "197 / 420\n",
      "198 / 420\n",
      "199 / 420\n",
      "200 / 420\n",
      "201 / 420\n",
      "202 / 420\n",
      "203 / 420\n",
      "204 / 420\n",
      "205 / 420\n",
      "206 / 420\n",
      "207 / 420\n",
      "208 / 420\n",
      "209 / 420\n",
      "210 / 420\n",
      "211 / 420\n",
      "212 / 420\n",
      "213 / 420\n",
      "214 / 420\n",
      "215 / 420\n",
      "216 / 420\n",
      "217 / 420\n",
      "218 / 420\n",
      "219 / 420\n",
      "220 / 420\n",
      "221 / 420\n",
      "222 / 420\n",
      "223 / 420\n",
      "224 / 420\n",
      "225 / 420\n",
      "226 / 420\n",
      "227 / 420\n",
      "228 / 420\n",
      "229 / 420\n",
      "230 / 420\n",
      "231 / 420\n",
      "232 / 420\n",
      "233 / 420\n",
      "234 / 420\n",
      "235 / 420\n",
      "236 / 420\n",
      "237 / 420\n",
      "238 / 420\n",
      "239 / 420\n",
      "240 / 420\n",
      "241 / 420\n",
      "242 / 420\n",
      "243 / 420\n",
      "244 / 420\n",
      "245 / 420\n",
      "246 / 420\n",
      "247 / 420\n",
      "248 / 420\n",
      "249 / 420\n",
      "250 / 420\n",
      "251 / 420\n",
      "252 / 420\n",
      "253 / 420\n",
      "254 / 420\n",
      "255 / 420\n",
      "256 / 420\n",
      "257 / 420\n",
      "258 / 420\n",
      "259 / 420\n",
      "260 / 420\n",
      "261 / 420\n",
      "262 / 420\n",
      "263 / 420\n",
      "264 / 420\n",
      "265 / 420\n",
      "266 / 420\n",
      "267 / 420\n",
      "268 / 420\n",
      "269 / 420\n",
      "270 / 420\n",
      "271 / 420\n",
      "272 / 420\n",
      "273 / 420\n",
      "274 / 420\n",
      "275 / 420\n",
      "276 / 420\n",
      "277 / 420\n",
      "278 / 420\n",
      "279 / 420\n",
      "280 / 420\n",
      "281 / 420\n",
      "282 / 420\n",
      "283 / 420\n",
      "284 / 420\n",
      "285 / 420\n",
      "286 / 420\n",
      "287 / 420\n",
      "288 / 420\n",
      "289 / 420\n",
      "290 / 420\n",
      "291 / 420\n",
      "292 / 420\n",
      "293 / 420\n",
      "294 / 420\n",
      "295 / 420\n",
      "296 / 420\n",
      "297 / 420\n",
      "298 / 420\n",
      "299 / 420\n",
      "300 / 420\n",
      "301 / 420\n",
      "302 / 420\n",
      "303 / 420\n",
      "304 / 420\n",
      "305 / 420\n",
      "306 / 420\n",
      "307 / 420\n",
      "308 / 420\n",
      "309 / 420\n",
      "310 / 420\n",
      "311 / 420\n",
      "312 / 420\n",
      "313 / 420\n",
      "314 / 420\n",
      "315 / 420\n",
      "316 / 420\n",
      "317 / 420\n",
      "318 / 420\n",
      "319 / 420\n",
      "320 / 420\n",
      "321 / 420\n",
      "322 / 420\n",
      "323 / 420\n",
      "324 / 420\n",
      "325 / 420\n",
      "326 / 420\n",
      "327 / 420\n",
      "328 / 420\n",
      "329 / 420\n",
      "330 / 420\n",
      "331 / 420\n",
      "332 / 420\n",
      "333 / 420\n",
      "334 / 420\n",
      "335 / 420\n",
      "336 / 420\n",
      "337 / 420\n",
      "338 / 420\n",
      "339 / 420\n",
      "340 / 420\n",
      "341 / 420\n",
      "342 / 420\n",
      "343 / 420\n",
      "344 / 420\n",
      "345 / 420\n",
      "346 / 420\n",
      "347 / 420\n",
      "348 / 420\n",
      "349 / 420\n",
      "350 / 420\n",
      "351 / 420\n",
      "352 / 420\n",
      "353 / 420\n",
      "354 / 420\n",
      "355 / 420\n",
      "356 / 420\n",
      "357 / 420\n",
      "358 / 420\n",
      "359 / 420\n",
      "360 / 420\n",
      "361 / 420\n",
      "362 / 420\n",
      "363 / 420\n",
      "364 / 420\n",
      "365 / 420\n",
      "366 / 420\n",
      "367 / 420\n",
      "368 / 420\n",
      "369 / 420\n",
      "370 / 420\n",
      "371 / 420\n",
      "372 / 420\n",
      "373 / 420\n",
      "374 / 420\n",
      "375 / 420\n",
      "376 / 420\n",
      "377 / 420\n",
      "378 / 420\n",
      "379 / 420\n",
      "380 / 420\n",
      "381 / 420\n",
      "382 / 420\n",
      "383 / 420\n",
      "384 / 420\n",
      "385 / 420\n",
      "386 / 420\n",
      "387 / 420\n",
      "388 / 420\n",
      "389 / 420\n",
      "390 / 420\n",
      "391 / 420\n",
      "392 / 420\n",
      "393 / 420\n",
      "394 / 420\n",
      "395 / 420\n",
      "396 / 420\n",
      "397 / 420\n",
      "398 / 420\n",
      "399 / 420\n",
      "400 / 420\n",
      "401 / 420\n",
      "402 / 420\n",
      "403 / 420\n",
      "404 / 420\n",
      "405 / 420\n",
      "406 / 420\n",
      "407 / 420\n",
      "408 / 420\n",
      "409 / 420\n",
      "410 / 420\n",
      "411 / 420\n",
      "412 / 420\n",
      "413 / 420\n",
      "414 / 420\n",
      "415 / 420\n",
      "416 / 420\n",
      "417 / 420\n",
      "418 / 420\n",
      "419 / 420\n"
     ]
    }
   ],
   "source": [
    "count_aggregates_history = len(aggregates_history)\n",
    "aggregates_history_10 = []\n",
    "item_10 = None\n",
    "for _item in enumerate(aggregates_history):\n",
    "    index = _item[0]\n",
    "    if index % 30 == 0:\n",
    "        if item_10 is not None:\n",
    "            aggregates_history_10.append(item_10)\n",
    "        item_10 = None\n",
    "    item = _item[1]\n",
    "    if item_10 is None:\n",
    "        item_10 = pd.DataFrame(data[['card_id']], columns=['card_id'])\n",
    "    item_10 = item_10.merge(item[item['authorized_flag'] == 0].drop(['authorized_flag'], axis=1), how='left', left_on='card_id', right_on='card_id')\n",
    "    item_10 = item_10.merge(item[item['authorized_flag'] == 1].drop(['authorized_flag'], axis=1), how='left', left_on='card_id', right_on='card_id')\n",
    "    print(index, '/', count_aggregates_history)\n",
    "aggregates_history_10.append(item_10)"
   ]
  },
  {
   "cell_type": "code",
   "execution_count": 43,
   "metadata": {},
   "outputs": [
    {
     "name": "stdout",
     "output_type": "stream",
     "text": [
      "0 / 14\n",
      "1 / 14\n",
      "2 / 14\n",
      "3 / 14\n",
      "4 / 14\n",
      "5 / 14\n",
      "6 / 14\n",
      "7 / 14\n",
      "8 / 14\n",
      "9 / 14\n",
      "10 / 14\n",
      "11 / 14\n",
      "12 / 14\n",
      "13 / 14\n"
     ]
    }
   ],
   "source": [
    "count_aggregates_history = len(aggregates_history_10)\n",
    "for _item in enumerate(aggregates_history_10):\n",
    "    index = _item[0]\n",
    "    item = _item[1]\n",
    "    data = data.merge(item, how='left', left_on='card_id', right_on='card_id')\n",
    "    print(index, '/', count_aggregates_history)"
   ]
  },
  {
   "cell_type": "code",
   "execution_count": 40,
   "metadata": {
    "collapsed": true
   },
   "outputs": [],
   "source": []
  },
  {
   "cell_type": "code",
   "execution_count": null,
   "metadata": {
    "collapsed": true
   },
   "outputs": [],
   "source": []
  },
  {
   "cell_type": "code",
   "execution_count": null,
   "metadata": {
    "collapsed": true
   },
   "outputs": [],
   "source": []
  },
  {
   "cell_type": "code",
   "execution_count": null,
   "metadata": {
    "collapsed": true
   },
   "outputs": [],
   "source": []
  },
  {
   "cell_type": "code",
   "execution_count": 44,
   "metadata": {
    "collapsed": true
   },
   "outputs": [],
   "source": [
    "data.to_csv(path + 'data.csv', index=False)"
   ]
  },
  {
   "cell_type": "code",
   "execution_count": null,
   "metadata": {
    "collapsed": true
   },
   "outputs": [],
   "source": []
  },
  {
   "cell_type": "code",
   "execution_count": null,
   "metadata": {
    "collapsed": true
   },
   "outputs": [],
   "source": []
  },
  {
   "cell_type": "code",
   "execution_count": 10,
   "metadata": {
    "collapsed": true
   },
   "outputs": [],
   "source": [
    "data = pd.read_csv(path + 'data.csv')"
   ]
  },
  {
   "cell_type": "code",
   "execution_count": 11,
   "metadata": {},
   "outputs": [
    {
     "data": {
      "text/html": [
       "<div>\n",
       "<style scoped>\n",
       "    .dataframe tbody tr th:only-of-type {\n",
       "        vertical-align: middle;\n",
       "    }\n",
       "\n",
       "    .dataframe tbody tr th {\n",
       "        vertical-align: top;\n",
       "    }\n",
       "\n",
       "    .dataframe thead th {\n",
       "        text-align: right;\n",
       "    }\n",
       "</style>\n",
       "<table border=\"1\" class=\"dataframe\">\n",
       "  <thead>\n",
       "    <tr style=\"text-align: right;\">\n",
       "      <th></th>\n",
       "      <th>first_active_month</th>\n",
       "      <th>card_id</th>\n",
       "      <th>feature_1</th>\n",
       "      <th>feature_2</th>\n",
       "      <th>feature_3</th>\n",
       "      <th>target</th>\n",
       "      <th>is_train</th>\n",
       "      <th>authorized_flag_purchase_amount_min_x</th>\n",
       "      <th>authorized_flag_purchase_amount_max_x</th>\n",
       "      <th>authorized_flag_purchase_amount_sum_x</th>\n",
       "      <th>...</th>\n",
       "      <th>subsector_id_28_purchase_amount_std_x</th>\n",
       "      <th>subsector_id_28_purchase_amount_count_x</th>\n",
       "      <th>subsector_id_28_purchase_amount_mean_x</th>\n",
       "      <th>subsector_id_28_purchase_amount_min_y</th>\n",
       "      <th>subsector_id_28_purchase_amount_max_y</th>\n",
       "      <th>subsector_id_28_purchase_amount_sum_y</th>\n",
       "      <th>subsector_id_28_purchase_amount_median_y</th>\n",
       "      <th>subsector_id_28_purchase_amount_std_y</th>\n",
       "      <th>subsector_id_28_purchase_amount_count_y</th>\n",
       "      <th>subsector_id_28_purchase_amount_mean_y</th>\n",
       "    </tr>\n",
       "  </thead>\n",
       "  <tbody>\n",
       "    <tr>\n",
       "      <th>0</th>\n",
       "      <td>2017-06</td>\n",
       "      <td>C_ID_92a2005557</td>\n",
       "      <td>5</td>\n",
       "      <td>2</td>\n",
       "      <td>1</td>\n",
       "      <td>-0.820283</td>\n",
       "      <td>True</td>\n",
       "      <td>-0.737892</td>\n",
       "      <td>-0.431922</td>\n",
       "      <td>-8.571723</td>\n",
       "      <td>...</td>\n",
       "      <td>NaN</td>\n",
       "      <td>NaN</td>\n",
       "      <td>NaN</td>\n",
       "      <td>NaN</td>\n",
       "      <td>NaN</td>\n",
       "      <td>NaN</td>\n",
       "      <td>NaN</td>\n",
       "      <td>NaN</td>\n",
       "      <td>NaN</td>\n",
       "      <td>NaN</td>\n",
       "    </tr>\n",
       "    <tr>\n",
       "      <th>1</th>\n",
       "      <td>2017-01</td>\n",
       "      <td>C_ID_3d0044924f</td>\n",
       "      <td>4</td>\n",
       "      <td>1</td>\n",
       "      <td>0</td>\n",
       "      <td>0.392913</td>\n",
       "      <td>True</td>\n",
       "      <td>-0.740897</td>\n",
       "      <td>1.942838</td>\n",
       "      <td>-1.122886</td>\n",
       "      <td>...</td>\n",
       "      <td>NaN</td>\n",
       "      <td>NaN</td>\n",
       "      <td>NaN</td>\n",
       "      <td>NaN</td>\n",
       "      <td>NaN</td>\n",
       "      <td>NaN</td>\n",
       "      <td>NaN</td>\n",
       "      <td>NaN</td>\n",
       "      <td>NaN</td>\n",
       "      <td>NaN</td>\n",
       "    </tr>\n",
       "    <tr>\n",
       "      <th>2</th>\n",
       "      <td>2016-08</td>\n",
       "      <td>C_ID_d639edf6cd</td>\n",
       "      <td>2</td>\n",
       "      <td>2</td>\n",
       "      <td>0</td>\n",
       "      <td>0.688056</td>\n",
       "      <td>True</td>\n",
       "      <td>-0.701453</td>\n",
       "      <td>-0.637515</td>\n",
       "      <td>-1.338967</td>\n",
       "      <td>...</td>\n",
       "      <td>NaN</td>\n",
       "      <td>NaN</td>\n",
       "      <td>NaN</td>\n",
       "      <td>NaN</td>\n",
       "      <td>NaN</td>\n",
       "      <td>NaN</td>\n",
       "      <td>NaN</td>\n",
       "      <td>NaN</td>\n",
       "      <td>NaN</td>\n",
       "      <td>NaN</td>\n",
       "    </tr>\n",
       "    <tr>\n",
       "      <th>3</th>\n",
       "      <td>2017-09</td>\n",
       "      <td>C_ID_186d6a6901</td>\n",
       "      <td>4</td>\n",
       "      <td>3</td>\n",
       "      <td>0</td>\n",
       "      <td>0.142495</td>\n",
       "      <td>True</td>\n",
       "      <td>NaN</td>\n",
       "      <td>NaN</td>\n",
       "      <td>NaN</td>\n",
       "      <td>...</td>\n",
       "      <td>NaN</td>\n",
       "      <td>NaN</td>\n",
       "      <td>NaN</td>\n",
       "      <td>NaN</td>\n",
       "      <td>NaN</td>\n",
       "      <td>NaN</td>\n",
       "      <td>NaN</td>\n",
       "      <td>NaN</td>\n",
       "      <td>NaN</td>\n",
       "      <td>NaN</td>\n",
       "    </tr>\n",
       "    <tr>\n",
       "      <th>4</th>\n",
       "      <td>2017-11</td>\n",
       "      <td>C_ID_cdbd2c0db2</td>\n",
       "      <td>1</td>\n",
       "      <td>3</td>\n",
       "      <td>0</td>\n",
       "      <td>-0.159749</td>\n",
       "      <td>True</td>\n",
       "      <td>-0.512945</td>\n",
       "      <td>7.193041</td>\n",
       "      <td>20.352809</td>\n",
       "      <td>...</td>\n",
       "      <td>NaN</td>\n",
       "      <td>NaN</td>\n",
       "      <td>NaN</td>\n",
       "      <td>NaN</td>\n",
       "      <td>NaN</td>\n",
       "      <td>NaN</td>\n",
       "      <td>NaN</td>\n",
       "      <td>NaN</td>\n",
       "      <td>NaN</td>\n",
       "      <td>NaN</td>\n",
       "    </tr>\n",
       "  </tbody>\n",
       "</table>\n",
       "<p>5 rows × 5901 columns</p>\n",
       "</div>"
      ],
      "text/plain": [
       "  first_active_month          card_id  feature_1  feature_2  feature_3  \\\n",
       "0            2017-06  C_ID_92a2005557          5          2          1   \n",
       "1            2017-01  C_ID_3d0044924f          4          1          0   \n",
       "2            2016-08  C_ID_d639edf6cd          2          2          0   \n",
       "3            2017-09  C_ID_186d6a6901          4          3          0   \n",
       "4            2017-11  C_ID_cdbd2c0db2          1          3          0   \n",
       "\n",
       "     target  is_train  authorized_flag_purchase_amount_min_x  \\\n",
       "0 -0.820283      True                              -0.737892   \n",
       "1  0.392913      True                              -0.740897   \n",
       "2  0.688056      True                              -0.701453   \n",
       "3  0.142495      True                                    NaN   \n",
       "4 -0.159749      True                              -0.512945   \n",
       "\n",
       "   authorized_flag_purchase_amount_max_x  \\\n",
       "0                              -0.431922   \n",
       "1                               1.942838   \n",
       "2                              -0.637515   \n",
       "3                                    NaN   \n",
       "4                               7.193041   \n",
       "\n",
       "   authorized_flag_purchase_amount_sum_x  \\\n",
       "0                              -8.571723   \n",
       "1                              -1.122886   \n",
       "2                              -1.338967   \n",
       "3                                    NaN   \n",
       "4                              20.352809   \n",
       "\n",
       "                    ...                    \\\n",
       "0                   ...                     \n",
       "1                   ...                     \n",
       "2                   ...                     \n",
       "3                   ...                     \n",
       "4                   ...                     \n",
       "\n",
       "   subsector_id_28_purchase_amount_std_x  \\\n",
       "0                                    NaN   \n",
       "1                                    NaN   \n",
       "2                                    NaN   \n",
       "3                                    NaN   \n",
       "4                                    NaN   \n",
       "\n",
       "   subsector_id_28_purchase_amount_count_x  \\\n",
       "0                                      NaN   \n",
       "1                                      NaN   \n",
       "2                                      NaN   \n",
       "3                                      NaN   \n",
       "4                                      NaN   \n",
       "\n",
       "   subsector_id_28_purchase_amount_mean_x  \\\n",
       "0                                     NaN   \n",
       "1                                     NaN   \n",
       "2                                     NaN   \n",
       "3                                     NaN   \n",
       "4                                     NaN   \n",
       "\n",
       "   subsector_id_28_purchase_amount_min_y  \\\n",
       "0                                    NaN   \n",
       "1                                    NaN   \n",
       "2                                    NaN   \n",
       "3                                    NaN   \n",
       "4                                    NaN   \n",
       "\n",
       "   subsector_id_28_purchase_amount_max_y  \\\n",
       "0                                    NaN   \n",
       "1                                    NaN   \n",
       "2                                    NaN   \n",
       "3                                    NaN   \n",
       "4                                    NaN   \n",
       "\n",
       "   subsector_id_28_purchase_amount_sum_y  \\\n",
       "0                                    NaN   \n",
       "1                                    NaN   \n",
       "2                                    NaN   \n",
       "3                                    NaN   \n",
       "4                                    NaN   \n",
       "\n",
       "   subsector_id_28_purchase_amount_median_y  \\\n",
       "0                                       NaN   \n",
       "1                                       NaN   \n",
       "2                                       NaN   \n",
       "3                                       NaN   \n",
       "4                                       NaN   \n",
       "\n",
       "   subsector_id_28_purchase_amount_std_y  \\\n",
       "0                                    NaN   \n",
       "1                                    NaN   \n",
       "2                                    NaN   \n",
       "3                                    NaN   \n",
       "4                                    NaN   \n",
       "\n",
       "   subsector_id_28_purchase_amount_count_y  \\\n",
       "0                                      NaN   \n",
       "1                                      NaN   \n",
       "2                                      NaN   \n",
       "3                                      NaN   \n",
       "4                                      NaN   \n",
       "\n",
       "   subsector_id_28_purchase_amount_mean_y  \n",
       "0                                     NaN  \n",
       "1                                     NaN  \n",
       "2                                     NaN  \n",
       "3                                     NaN  \n",
       "4                                     NaN  \n",
       "\n",
       "[5 rows x 5901 columns]"
      ]
     },
     "execution_count": 11,
     "metadata": {},
     "output_type": "execute_result"
    }
   ],
   "source": [
    "data.head()"
   ]
  },
  {
   "cell_type": "code",
   "execution_count": null,
   "metadata": {
    "collapsed": true
   },
   "outputs": [],
   "source": []
  },
  {
   "cell_type": "code",
   "execution_count": null,
   "metadata": {
    "collapsed": true
   },
   "outputs": [],
   "source": []
  },
  {
   "cell_type": "code",
   "execution_count": 38,
   "metadata": {
    "collapsed": true
   },
   "outputs": [],
   "source": [
    "target_columns = [str(i) for i in data.columns]\n",
    "target_columns.remove('target')\n",
    "target_columns.remove('is_train')\n",
    "target_columns.remove('card_id')\n",
    "target_columns.remove('first_active_month')"
   ]
  },
  {
   "cell_type": "code",
   "execution_count": 39,
   "metadata": {},
   "outputs": [
    {
     "name": "stdout",
     "output_type": "stream",
     "text": [
      "0 / 18\n",
      "1 / 18\n",
      "2 / 18\n",
      "3 / 18\n",
      "4 / 18\n",
      "5 / 18\n",
      "6 / 18\n",
      "7 / 18\n",
      "8 / 18\n",
      "9 / 18\n",
      "10 / 18\n",
      "11 / 18\n",
      "12 / 18\n",
      "13 / 18\n",
      "14 / 18\n",
      "15 / 18\n",
      "16 / 18\n",
      "17 / 18\n"
     ]
    }
   ],
   "source": [
    "scaler_columns = target_columns\n",
    "learn_columns = []\n",
    "for i in enumerate(scaler_columns):\n",
    "    index = i[0]\n",
    "    column = i[1]\n",
    "    min_data = data[column].min()\n",
    "    if (min_data is None or np.isnan(min_data)):\n",
    "        print(column, ' is nan')\n",
    "        continue\n",
    "    data[column].fillna(min_data, inplace=True)\n",
    "    data[column] -= min_data\n",
    "    data[column] /= data[column].max()\n",
    "    print(index, '/', len(scaler_columns))\n",
    "    learn_columns.append(column)"
   ]
  },
  {
   "cell_type": "markdown",
   "metadata": {},
   "source": [
    "# train"
   ]
  },
  {
   "cell_type": "code",
   "execution_count": 40,
   "metadata": {
    "collapsed": true
   },
   "outputs": [],
   "source": [
    "y = data[data['is_train']]['target']"
   ]
  },
  {
   "cell_type": "code",
   "execution_count": 41,
   "metadata": {
    "collapsed": true
   },
   "outputs": [],
   "source": [
    "X = data[data['is_train']][learn_columns]"
   ]
  },
  {
   "cell_type": "code",
   "execution_count": 42,
   "metadata": {
    "collapsed": true
   },
   "outputs": [],
   "source": [
    "X_train, X_test, y_train, y_test = train_test_split(X, y, test_size=0.2, random_state=42)"
   ]
  },
  {
   "cell_type": "code",
   "execution_count": 43,
   "metadata": {},
   "outputs": [
    {
     "data": {
      "text/plain": [
       "((201917, 18), (201917, 18))"
      ]
     },
     "execution_count": 43,
     "metadata": {},
     "output_type": "execute_result"
    }
   ],
   "source": [
    "X.shape, X.dropna().shape"
   ]
  },
  {
   "cell_type": "code",
   "execution_count": null,
   "metadata": {
    "collapsed": true
   },
   "outputs": [],
   "source": []
  },
  {
   "cell_type": "code",
   "execution_count": null,
   "metadata": {
    "collapsed": true
   },
   "outputs": [],
   "source": []
  },
  {
   "cell_type": "code",
   "execution_count": 44,
   "metadata": {
    "collapsed": true
   },
   "outputs": [],
   "source": [
    "gbm = lgb.LGBMRegressor(objective = 'regression',  \n",
    "                            max_depth = 3,\n",
    "                            colsample_bytre = 0.8,\n",
    "                            subsample = 0.8, \n",
    "                            learning_rate = 0.1,\n",
    "                            n_estimators = 300)"
   ]
  },
  {
   "cell_type": "code",
   "execution_count": 45,
   "metadata": {},
   "outputs": [
    {
     "name": "stdout",
     "output_type": "stream",
     "text": [
      "[1]\tvalid_0's l2: 15.0098\tvalid_0's rmse: 3.87424\n",
      "Training until validation scores don't improve for 5 rounds.\n",
      "[2]\tvalid_0's l2: 14.9949\tvalid_0's rmse: 3.87232\n",
      "[3]\tvalid_0's l2: 14.9811\tvalid_0's rmse: 3.87054\n",
      "[4]\tvalid_0's l2: 14.9729\tvalid_0's rmse: 3.86948\n",
      "[5]\tvalid_0's l2: 14.9629\tvalid_0's rmse: 3.86819\n",
      "[6]\tvalid_0's l2: 14.9567\tvalid_0's rmse: 3.86739\n",
      "[7]\tvalid_0's l2: 14.9483\tvalid_0's rmse: 3.8663\n",
      "[8]\tvalid_0's l2: 14.9424\tvalid_0's rmse: 3.86554\n",
      "[9]\tvalid_0's l2: 14.9384\tvalid_0's rmse: 3.86503\n",
      "[10]\tvalid_0's l2: 14.9356\tvalid_0's rmse: 3.86466\n",
      "[11]\tvalid_0's l2: 14.9312\tvalid_0's rmse: 3.8641\n",
      "[12]\tvalid_0's l2: 14.9297\tvalid_0's rmse: 3.8639\n",
      "[13]\tvalid_0's l2: 14.9262\tvalid_0's rmse: 3.86344\n",
      "[14]\tvalid_0's l2: 14.9242\tvalid_0's rmse: 3.86319\n",
      "[15]\tvalid_0's l2: 14.9219\tvalid_0's rmse: 3.86288\n",
      "[16]\tvalid_0's l2: 14.9208\tvalid_0's rmse: 3.86275\n",
      "[17]\tvalid_0's l2: 14.9186\tvalid_0's rmse: 3.86246\n",
      "[18]\tvalid_0's l2: 14.916\tvalid_0's rmse: 3.86213\n",
      "[19]\tvalid_0's l2: 14.9153\tvalid_0's rmse: 3.86204\n",
      "[20]\tvalid_0's l2: 14.9137\tvalid_0's rmse: 3.86182\n",
      "[21]\tvalid_0's l2: 14.9124\tvalid_0's rmse: 3.86166\n",
      "[22]\tvalid_0's l2: 14.9104\tvalid_0's rmse: 3.8614\n",
      "[23]\tvalid_0's l2: 14.91\tvalid_0's rmse: 3.86135\n",
      "[24]\tvalid_0's l2: 14.9091\tvalid_0's rmse: 3.86123\n",
      "[25]\tvalid_0's l2: 14.9074\tvalid_0's rmse: 3.86101\n",
      "[26]\tvalid_0's l2: 14.9062\tvalid_0's rmse: 3.86086\n",
      "[27]\tvalid_0's l2: 14.906\tvalid_0's rmse: 3.86083\n",
      "[28]\tvalid_0's l2: 14.9052\tvalid_0's rmse: 3.86072\n",
      "[29]\tvalid_0's l2: 14.9042\tvalid_0's rmse: 3.8606\n",
      "[30]\tvalid_0's l2: 14.9039\tvalid_0's rmse: 3.86056\n",
      "[31]\tvalid_0's l2: 14.9028\tvalid_0's rmse: 3.86041\n",
      "[32]\tvalid_0's l2: 14.9022\tvalid_0's rmse: 3.86034\n",
      "[33]\tvalid_0's l2: 14.9013\tvalid_0's rmse: 3.86022\n",
      "[34]\tvalid_0's l2: 14.9014\tvalid_0's rmse: 3.86024\n",
      "[35]\tvalid_0's l2: 14.8997\tvalid_0's rmse: 3.86001\n",
      "[36]\tvalid_0's l2: 14.899\tvalid_0's rmse: 3.85993\n",
      "[37]\tvalid_0's l2: 14.8992\tvalid_0's rmse: 3.85994\n",
      "[38]\tvalid_0's l2: 14.8981\tvalid_0's rmse: 3.8598\n",
      "[39]\tvalid_0's l2: 14.8972\tvalid_0's rmse: 3.85969\n",
      "[40]\tvalid_0's l2: 14.8973\tvalid_0's rmse: 3.8597\n",
      "[41]\tvalid_0's l2: 14.897\tvalid_0's rmse: 3.85966\n",
      "[42]\tvalid_0's l2: 14.8972\tvalid_0's rmse: 3.85969\n",
      "[43]\tvalid_0's l2: 14.897\tvalid_0's rmse: 3.85966\n",
      "[44]\tvalid_0's l2: 14.8972\tvalid_0's rmse: 3.85969\n",
      "[45]\tvalid_0's l2: 14.8972\tvalid_0's rmse: 3.85969\n",
      "[46]\tvalid_0's l2: 14.897\tvalid_0's rmse: 3.85967\n",
      "Early stopping, best iteration is:\n",
      "[41]\tvalid_0's l2: 14.897\tvalid_0's rmse: 3.85966\n"
     ]
    },
    {
     "data": {
      "text/plain": [
       "LGBMRegressor(boosting_type='gbdt', class_weight=None, colsample_bytre=0.8,\n",
       "       colsample_bytree=1.0, importance_type='split', learning_rate=0.1,\n",
       "       max_depth=3, min_child_samples=20, min_child_weight=0.001,\n",
       "       min_split_gain=0.0, n_estimators=300, n_jobs=-1, num_leaves=31,\n",
       "       objective='regression', random_state=None, reg_alpha=0.0,\n",
       "       reg_lambda=0.0, silent=True, subsample=0.8,\n",
       "       subsample_for_bin=200000, subsample_freq=0)"
      ]
     },
     "execution_count": 45,
     "metadata": {},
     "output_type": "execute_result"
    }
   ],
   "source": [
    "gbm.fit(X_train, y_train, eval_set=[(X_test, y_test)], eval_metric='rmse', early_stopping_rounds=5)"
   ]
  },
  {
   "cell_type": "code",
   "execution_count": 46,
   "metadata": {},
   "outputs": [
    {
     "data": {
      "text/plain": [
       "<matplotlib.axes._subplots.AxesSubplot at 0x28587a0cf98>"
      ]
     },
     "execution_count": 46,
     "metadata": {},
     "output_type": "execute_result"
    },
    {
     "data": {
      "image/png": "[encoded data removed]",
      "text/plain": [
       "<matplotlib.figure.Figure at 0x286102587b8>"
      ]
     },
     "metadata": {},
     "output_type": "display_data"
    }
   ],
   "source": [
    "%matplotlib inline\n",
    "lgb.plot_importance(gbm)"
   ]
  },
  {
   "cell_type": "code",
   "execution_count": 48,
   "metadata": {},
   "outputs": [
    {
     "name": "stdout",
     "output_type": "stream",
     "text": [
      "feature_1 4\n",
      "feature_2 18\n",
      "feature_3 5\n",
      "count_month 49\n",
      "authorized_flag_purchase_amount_min_x 3\n",
      "authorized_flag_purchase_amount_max_x 9\n",
      "authorized_flag_purchase_amount_sum_x 4\n",
      "authorized_flag_purchase_amount_median_x 4\n",
      "authorized_flag_purchase_amount_std_x 12\n",
      "authorized_flag_purchase_amount_count_x 56\n",
      "authorized_flag_purchase_amount_mean_x 5\n",
      "authorized_flag_purchase_amount_min_y 17\n",
      "authorized_flag_purchase_amount_max_y 6\n",
      "authorized_flag_purchase_amount_sum_y 18\n",
      "authorized_flag_purchase_amount_median_y 6\n",
      "authorized_flag_purchase_amount_std_y 10\n",
      "authorized_flag_purchase_amount_count_y 54\n",
      "authorized_flag_purchase_amount_mean_y 6\n"
     ]
    }
   ],
   "source": [
    "feature_importances = []\n",
    "for i in zip(gbm.feature_importances_, learn_columns):\n",
    "    if i[0] != 0:\n",
    "        print(i[1], i[0])\n",
    "        feature_importances.append(i[1])"
   ]
  },
  {
   "cell_type": "code",
   "execution_count": 49,
   "metadata": {
    "collapsed": true
   },
   "outputs": [],
   "source": [
    "from sklearn.metrics import mean_squared_error"
   ]
  },
  {
   "cell_type": "code",
   "execution_count": 50,
   "metadata": {
    "collapsed": true
   },
   "outputs": [],
   "source": [
    "def rmse(y_true, y_pred):\n",
    "    return sqrt(mean_squared_error(y_true, y_pred))"
   ]
  },
  {
   "cell_type": "code",
   "execution_count": 51,
   "metadata": {
    "collapsed": true
   },
   "outputs": [],
   "source": [
    "X_val = data[~data['is_train']][learn_columns]"
   ]
  },
  {
   "cell_type": "code",
   "execution_count": 52,
   "metadata": {
    "collapsed": true
   },
   "outputs": [],
   "source": [
    "predict = gbm.predict(X_val)"
   ]
  },
  {
   "cell_type": "code",
   "execution_count": 53,
   "metadata": {
    "collapsed": true
   },
   "outputs": [],
   "source": [
    "pd.DataFrame({'card_id':list(data[~data['is_train']]['card_id']), 'target':predict}).to_csv('output/predict_{}.csv'.format(datetime.now().strftime(\"%Y-%m-%d_%H_%M_%S\")), index=False)"
   ]
  },
  {
   "cell_type": "code",
   "execution_count": null,
   "metadata": {
    "collapsed": true
   },
   "outputs": [],
   "source": []
  },
  {
   "cell_type": "code",
   "execution_count": null,
   "metadata": {
    "collapsed": true
   },
   "outputs": [],
   "source": []
  },
  {
   "cell_type": "code",
   "execution_count": 54,
   "metadata": {
    "collapsed": true
   },
   "outputs": [],
   "source": [
    "from keras import backend as K\n",
    "def root_mean_squared_error(y_true, y_pred):\n",
    "        return K.sqrt(K.mean(K.square(y_pred - y_true), axis=-1)) "
   ]
  },
  {
   "cell_type": "code",
   "execution_count": 75,
   "metadata": {
    "collapsed": true
   },
   "outputs": [],
   "source": [
    "def create_model():\n",
    "    #build Keras model\n",
    "    \n",
    "    x_input = Input(shape=X_train.shape[1:], dtype='float32')\n",
    "\n",
    "    x_layer = Dense(X_train.shape[-1])(x_input)\n",
    "    x_layer = Dense(1)(x_layer)\n",
    "    \n",
    "\n",
    "    model = Model(x_input, x_layer)\n",
    "    model.compile(loss='mse', metrics=['mae'], optimizer='rmsprop')\n",
    "    return model"
   ]
  },
  {
   "cell_type": "code",
   "execution_count": 76,
   "metadata": {},
   "outputs": [
    {
     "name": "stdout",
     "output_type": "stream",
     "text": [
      "Train on 129226 samples, validate on 32307 samples\n",
      "Epoch 1/100\n",
      "129226/129226 [==============================] - 1s 11us/step - loss: 14.8764 - mean_absolute_error: 1.5967 - val_loss: 14.5362 - val_mean_absolute_error: 1.5652\n",
      "Epoch 2/100\n",
      "129226/129226 [==============================] - 1s 9us/step - loss: 14.8131 - mean_absolute_error: 1.5905 - val_loss: 14.5237 - val_mean_absolute_error: 1.5778\n",
      "Epoch 3/100\n",
      "129226/129226 [==============================] - 1s 9us/step - loss: 14.8024 - mean_absolute_error: 1.5921 - val_loss: 14.5236 - val_mean_absolute_error: 1.6029\n",
      "Epoch 4/100\n",
      "129226/129226 [==============================] - 1s 9us/step - loss: 14.7958 - mean_absolute_error: 1.5933 - val_loss: 14.5121 - val_mean_absolute_error: 1.5905\n",
      "Epoch 5/100\n",
      "129226/129226 [==============================] - 1s 9us/step - loss: 14.7911 - mean_absolute_error: 1.5945 - val_loss: 14.5367 - val_mean_absolute_error: 1.6337\n",
      "Epoch 6/100\n",
      "129226/129226 [==============================] - 1s 9us/step - loss: 14.7871 - mean_absolute_error: 1.5966 - val_loss: 14.5097 - val_mean_absolute_error: 1.6062\n",
      "Epoch 7/100\n",
      "129226/129226 [==============================] - 1s 9us/step - loss: 14.7843 - mean_absolute_error: 1.5983 - val_loss: 14.5090 - val_mean_absolute_error: 1.6096\n",
      "Epoch 8/100\n",
      "129226/129226 [==============================] - 1s 9us/step - loss: 14.7827 - mean_absolute_error: 1.5993 - val_loss: 14.5005 - val_mean_absolute_error: 1.5986\n",
      "Epoch 9/100\n",
      "129226/129226 [==============================] - 1s 9us/step - loss: 14.7812 - mean_absolute_error: 1.6004 - val_loss: 14.5108 - val_mean_absolute_error: 1.5625\n",
      "Epoch 10/100\n",
      "129226/129226 [==============================] - 1s 9us/step - loss: 14.7792 - mean_absolute_error: 1.6004 - val_loss: 14.4980 - val_mean_absolute_error: 1.5747\n",
      "Epoch 11/100\n",
      "129226/129226 [==============================] - 1s 9us/step - loss: 14.7796 - mean_absolute_error: 1.6002 - val_loss: 14.4935 - val_mean_absolute_error: 1.5887\n",
      "Epoch 12/100\n",
      "129226/129226 [==============================] - 1s 9us/step - loss: 14.7793 - mean_absolute_error: 1.6017 - val_loss: 14.4985 - val_mean_absolute_error: 1.5750\n",
      "Epoch 13/100\n",
      "129226/129226 [==============================] - 1s 9us/step - loss: 14.7772 - mean_absolute_error: 1.6019 - val_loss: 14.4961 - val_mean_absolute_error: 1.6005\n",
      "Epoch 14/100\n",
      "129226/129226 [==============================] - 1s 9us/step - loss: 14.7769 - mean_absolute_error: 1.6030 - val_loss: 14.4961 - val_mean_absolute_error: 1.5967\n",
      "Epoch 15/100\n",
      "129226/129226 [==============================] - 1s 9us/step - loss: 14.7761 - mean_absolute_error: 1.6009 - val_loss: 14.5092 - val_mean_absolute_error: 1.6235\n",
      "Epoch 16/100\n",
      "129226/129226 [==============================] - 1s 9us/step - loss: 14.7768 - mean_absolute_error: 1.6031 - val_loss: 14.4906 - val_mean_absolute_error: 1.5859\n",
      "Epoch 17/100\n",
      "129226/129226 [==============================] - 1s 9us/step - loss: 14.7767 - mean_absolute_error: 1.6028 - val_loss: 14.4972 - val_mean_absolute_error: 1.5716\n",
      "Epoch 18/100\n",
      "129226/129226 [==============================] - 1s 9us/step - loss: 14.7756 - mean_absolute_error: 1.6027 - val_loss: 14.4914 - val_mean_absolute_error: 1.5955\n",
      "Epoch 19/100\n",
      "129226/129226 [==============================] - 1s 9us/step - loss: 14.7753 - mean_absolute_error: 1.6031 - val_loss: 14.4989 - val_mean_absolute_error: 1.5694\n",
      "Epoch 20/100\n",
      "129226/129226 [==============================] - 1s 11us/step - loss: 14.7754 - mean_absolute_error: 1.6021 - val_loss: 14.4928 - val_mean_absolute_error: 1.5979\n",
      "Epoch 21/100\n",
      "129226/129226 [==============================] - 1s 11us/step - loss: 14.7757 - mean_absolute_error: 1.6030 - val_loss: 14.4915 - val_mean_absolute_error: 1.5892\n",
      "Epoch 22/100\n",
      "129226/129226 [==============================] - 1s 10us/step - loss: 14.7757 - mean_absolute_error: 1.6034 - val_loss: 14.4917 - val_mean_absolute_error: 1.5779\n",
      "Epoch 23/100\n",
      "129226/129226 [==============================] - 1s 10us/step - loss: 14.7748 - mean_absolute_error: 1.6029 - val_loss: 14.4900 - val_mean_absolute_error: 1.5854\n",
      "Epoch 24/100\n",
      "129226/129226 [==============================] - 1s 10us/step - loss: 14.7752 - mean_absolute_error: 1.6036 - val_loss: 14.5031 - val_mean_absolute_error: 1.5668\n",
      "Epoch 25/100\n",
      "129226/129226 [==============================] - 1s 9us/step - loss: 14.7748 - mean_absolute_error: 1.6022 - val_loss: 14.4943 - val_mean_absolute_error: 1.6092\n",
      "Epoch 26/100\n",
      "129226/129226 [==============================] - 1s 9us/step - loss: 14.7748 - mean_absolute_error: 1.6037 - val_loss: 14.4889 - val_mean_absolute_error: 1.5900\n",
      "Epoch 27/100\n",
      "129226/129226 [==============================] - 1s 9us/step - loss: 14.7744 - mean_absolute_error: 1.6032 - val_loss: 14.4885 - val_mean_absolute_error: 1.5839\n",
      "Epoch 28/100\n",
      "129226/129226 [==============================] - 1s 9us/step - loss: 14.7747 - mean_absolute_error: 1.6037 - val_loss: 14.5059 - val_mean_absolute_error: 1.5647\n",
      "Epoch 29/100\n",
      "129226/129226 [==============================] - 1s 9us/step - loss: 14.7751 - mean_absolute_error: 1.6017 - val_loss: 14.5314 - val_mean_absolute_error: 1.6492\n",
      "Epoch 30/100\n",
      "129226/129226 [==============================] - 1s 10us/step - loss: 14.7753 - mean_absolute_error: 1.6041 - val_loss: 14.4928 - val_mean_absolute_error: 1.6059\n",
      "Epoch 31/100\n",
      "129226/129226 [==============================] - 1s 10us/step - loss: 14.7742 - mean_absolute_error: 1.6033 - val_loss: 14.4885 - val_mean_absolute_error: 1.5826\n",
      "Epoch 32/100\n",
      "129226/129226 [==============================] - 1s 10us/step - loss: 14.7746 - mean_absolute_error: 1.6030 - val_loss: 14.4902 - val_mean_absolute_error: 1.5947\n",
      "Epoch 33/100\n",
      "129226/129226 [==============================] - 1s 10us/step - loss: 14.7738 - mean_absolute_error: 1.6030 - val_loss: 14.4898 - val_mean_absolute_error: 1.5983\n",
      "Epoch 34/100\n",
      "129226/129226 [==============================] - 1s 9us/step - loss: 14.7746 - mean_absolute_error: 1.6034 - val_loss: 14.4893 - val_mean_absolute_error: 1.5984\n",
      "Epoch 35/100\n",
      "129226/129226 [==============================] - 1s 9us/step - loss: 14.7741 - mean_absolute_error: 1.6041 - val_loss: 14.4880 - val_mean_absolute_error: 1.5877\n",
      "Epoch 36/100\n",
      "129226/129226 [==============================] - 1s 9us/step - loss: 14.7752 - mean_absolute_error: 1.6027 - val_loss: 14.4910 - val_mean_absolute_error: 1.5851\n",
      "Epoch 37/100\n",
      "129226/129226 [==============================] - 1s 9us/step - loss: 14.7732 - mean_absolute_error: 1.6041 - val_loss: 14.4877 - val_mean_absolute_error: 1.5905\n",
      "Epoch 38/100\n",
      "129226/129226 [==============================] - 1s 10us/step - loss: 14.7735 - mean_absolute_error: 1.6038 - val_loss: 14.4914 - val_mean_absolute_error: 1.6052\n",
      "Epoch 39/100\n",
      "129226/129226 [==============================] - 1s 10us/step - loss: 14.7736 - mean_absolute_error: 1.6035 - val_loss: 14.4916 - val_mean_absolute_error: 1.6018\n",
      "Epoch 40/100\n",
      "129226/129226 [==============================] - 1s 10us/step - loss: 14.7747 - mean_absolute_error: 1.6035 - val_loss: 14.4897 - val_mean_absolute_error: 1.5946\n",
      "Epoch 41/100\n",
      "129226/129226 [==============================] - 1s 9us/step - loss: 14.7745 - mean_absolute_error: 1.6030 - val_loss: 14.4913 - val_mean_absolute_error: 1.6021\n",
      "Epoch 42/100\n",
      "129226/129226 [==============================] - 1s 9us/step - loss: 14.7740 - mean_absolute_error: 1.6021 - val_loss: 14.4943 - val_mean_absolute_error: 1.6105\n",
      "Epoch 43/100\n",
      "129226/129226 [==============================] - 1s 9us/step - loss: 14.7741 - mean_absolute_error: 1.6038 - val_loss: 14.4921 - val_mean_absolute_error: 1.5763\n",
      "Epoch 44/100\n",
      "129226/129226 [==============================] - 1s 9us/step - loss: 14.7735 - mean_absolute_error: 1.6034 - val_loss: 14.4924 - val_mean_absolute_error: 1.5795\n",
      "Epoch 45/100\n",
      "129226/129226 [==============================] - 1s 10us/step - loss: 14.7738 - mean_absolute_error: 1.6033 - val_loss: 14.4919 - val_mean_absolute_error: 1.5786\n",
      "Epoch 46/100\n",
      "129226/129226 [==============================] - 1s 10us/step - loss: 14.7733 - mean_absolute_error: 1.6029 - val_loss: 14.4904 - val_mean_absolute_error: 1.6021\n",
      "Epoch 47/100\n",
      "129226/129226 [==============================] - 1s 9us/step - loss: 14.7734 - mean_absolute_error: 1.6040 - val_loss: 14.4891 - val_mean_absolute_error: 1.5914\n"
     ]
    }
   ],
   "source": [
    "count_epochs = 100\n",
    "model = create_model()\n",
    "early_stopping_monitor = EarlyStopping(patience=10)\n",
    "history = model.fit(np.array(X_train), np.array(y_train), batch_size = 128, epochs = count_epochs, verbose=1, validation_split=0.2, callbacks=[early_stopping_monitor])"
   ]
  },
  {
   "cell_type": "code",
   "execution_count": null,
   "metadata": {
    "collapsed": true
   },
   "outputs": [],
   "source": [
    "send_notify('complete')"
   ]
  },
  {
   "cell_type": "code",
   "execution_count": 77,
   "metadata": {},
   "outputs": [
    {
     "data": {
      "image/png": "[encoded data removed]",
      "text/plain": [
       "<matplotlib.figure.Figure at 0x2852adc4860>"
      ]
     },
     "metadata": {},
     "output_type": "display_data"
    }
   ],
   "source": [
    "history_gr = history.history['val_loss']\n",
    "epochs = range(1, len(history_gr) + 1)\n",
    "import matplotlib.pyplot as plt\n",
    "\n",
    "plt.plot(epochs, history_gr, 'b+', label='Original model')\n",
    "plt.xlabel('Epochs')\n",
    "plt.ylabel('Validation loss')\n",
    "plt.legend()\n",
    "\n",
    "plt.show()"
   ]
  },
  {
   "cell_type": "code",
   "execution_count": 78,
   "metadata": {},
   "outputs": [
    {
     "name": "stdout",
     "output_type": "stream",
     "text": [
      "40384/40384 [==============================] - 1s 20us/step\n"
     ]
    },
    {
     "data": {
      "text/plain": [
       "[14.93929274136971, 1.6032354537450757]"
      ]
     },
     "execution_count": 78,
     "metadata": {},
     "output_type": "execute_result"
    }
   ],
   "source": [
    "model.evaluate(np.array(X_test), np.array(y_test))"
   ]
  },
  {
   "cell_type": "code",
   "execution_count": null,
   "metadata": {
    "collapsed": true
   },
   "outputs": [],
   "source": []
  },
  {
   "cell_type": "code",
   "execution_count": 79,
   "metadata": {
    "collapsed": true
   },
   "outputs": [],
   "source": [
    "X_val = data[~data['is_train']][learn_columns]"
   ]
  },
  {
   "cell_type": "code",
   "execution_count": 80,
   "metadata": {
    "collapsed": true
   },
   "outputs": [],
   "source": [
    "predict = model.predict(np.array(X_val))"
   ]
  },
  {
   "cell_type": "code",
   "execution_count": 81,
   "metadata": {
    "collapsed": true
   },
   "outputs": [],
   "source": [
    "predict = gbm.predict(X_val)"
   ]
  },
  {
   "cell_type": "code",
   "execution_count": 82,
   "metadata": {
    "collapsed": true
   },
   "outputs": [],
   "source": [
    "pd.DataFrame({'card_id':list(data[~data['is_train']]['card_id']), 'target':predict.reshape(len(predict))}).to_csv('output/predict_{}.csv'.format(datetime.now().strftime(\"%Y-%m-%d_%H_%M_%S\")), index=False)"
   ]
  },
  {
   "cell_type": "code",
   "execution_count": null,
   "metadata": {
    "collapsed": true
   },
   "outputs": [],
   "source": []
  }
 ],
 "metadata": {
  "kernelspec": {
   "display_name": "Python 3",
   "language": "python",
   "name": "python3"
  },
  "language_info": {
   "codemirror_mode": {
    "name": "ipython",
    "version": 3
   },
   "file_extension": ".py",
   "mimetype": "text/x-python",
   "name": "python",
   "nbconvert_exporter": "python",
   "pygments_lexer": "ipython3",
   "version": "3.6.3"
  }
 },
 "nbformat": 4,
 "nbformat_minor": 2
}
