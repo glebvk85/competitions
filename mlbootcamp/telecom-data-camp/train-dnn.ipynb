{
 "cells": [
  {
   "cell_type": "code",
   "execution_count": 61,
   "metadata": {
    "collapsed": true
   },
   "outputs": [],
   "source": [
    "import pandas as pd\n",
    "import numpy as np\n",
    "from datetime import datetime"
   ]
  },
  {
   "cell_type": "code",
   "execution_count": null,
   "metadata": {
    "collapsed": true
   },
   "outputs": [],
   "source": []
  },
  {
   "cell_type": "code",
   "execution_count": 62,
   "metadata": {
    "collapsed": true
   },
   "outputs": [],
   "source": [
    "%matplotlib inline"
   ]
  },
  {
   "cell_type": "code",
   "execution_count": null,
   "metadata": {
    "collapsed": true
   },
   "outputs": [],
   "source": []
  },
  {
   "cell_type": "code",
   "execution_count": 63,
   "metadata": {
    "collapsed": true
   },
   "outputs": [],
   "source": [
    "from keras.callbacks import Callback\n",
    "from matplotlib import pyplot as plt\n",
    "from IPython.display import clear_output\n",
    "class PlotLearning(Callback):\n",
    "    def on_train_begin(self, logs={}):\n",
    "        self.i = 0\n",
    "        self.x = []\n",
    "        self.losses = []\n",
    "        self.val_losses = []\n",
    "        self.acc = []\n",
    "        self.val_acc = []\n",
    "        self.fig = plt.figure()\n",
    "        \n",
    "        self.logs = []\n",
    "\n",
    "    def on_epoch_end(self, epoch, logs={}):\n",
    "        \n",
    "        self.logs.append(logs)\n",
    "        self.x.append(self.i)\n",
    "        self.losses.append(logs.get('loss'))\n",
    "        self.val_losses.append(logs.get('val_loss'))\n",
    "        self.acc.append(logs.get('auc'))\n",
    "        self.val_acc.append(logs.get('val_auc'))\n",
    "        self.i += 1\n",
    "        f, (ax1, ax2) = plt.subplots(1, 2, sharex=True,figsize=(15,10))\n",
    "        \n",
    "        clear_output(wait=True)\n",
    "        \n",
    "        ax1.set_yscale('log')\n",
    "        ax1.plot(self.x, self.losses, label=\"loss\")\n",
    "        ax1.plot(self.x, self.val_losses, label=\"validation_loss\")\n",
    "        ax1.legend()\n",
    "        \n",
    "        ax2.plot(self.x, self.acc, label=\"accuracy\")\n",
    "        ax2.plot(self.x, self.val_acc, label=\"validation accuracy\")\n",
    "        ax2.legend()\n",
    "        \n",
    "        plt.show();\n",
    "        \n",
    "plot = PlotLearning()"
   ]
  },
  {
   "cell_type": "code",
   "execution_count": null,
   "metadata": {
    "collapsed": true
   },
   "outputs": [],
   "source": []
  },
  {
   "cell_type": "code",
   "execution_count": 64,
   "metadata": {
    "collapsed": true
   },
   "outputs": [],
   "source": [
    "import telepot\n",
    "def send_notify(text):\n",
    "    with open('../../_access_keys/telegram_token.txt', 'r') as content_file:\n",
    "        token = content_file.read()\n",
    "    with open('../../_access_keys/user.txt', 'r') as content_file:\n",
    "        user = content_file.read()\n",
    "    try:\n",
    "        TelegramBot = telepot.Bot(token)\n",
    "        TelegramBot.sendMessage(int(user), text)\n",
    "    except:\n",
    "        pass"
   ]
  },
  {
   "cell_type": "code",
   "execution_count": null,
   "metadata": {
    "collapsed": true
   },
   "outputs": [],
   "source": []
  },
  {
   "cell_type": "code",
   "execution_count": null,
   "metadata": {
    "collapsed": true
   },
   "outputs": [],
   "source": []
  },
  {
   "cell_type": "code",
   "execution_count": 65,
   "metadata": {
    "collapsed": true
   },
   "outputs": [],
   "source": [
    "TRAIN = True"
   ]
  },
  {
   "cell_type": "code",
   "execution_count": null,
   "metadata": {
    "collapsed": true
   },
   "outputs": [],
   "source": []
  },
  {
   "cell_type": "code",
   "execution_count": 66,
   "metadata": {
    "collapsed": true
   },
   "outputs": [],
   "source": [
    "path = 'c:/data/mlbootcamp/dataset/'\n",
    "path_train = path + 'train/'\n",
    "path_test = path + 'test/'\n",
    "path_features = 'features/'\n",
    "if TRAIN:\n",
    "    pathfiles = path_train\n",
    "    path_subs_bs_consumption = 'subs_bs_consumption_train.csv'\n",
    "    path_subs_bs_data_session = 'subs_bs_data_session_train.csv'\n",
    "    path_subs_bs_voice_session = 'subs_bs_voice_session_train.csv'\n",
    "    path_subs_features = 'subs_features_train.csv'\n",
    "    path_subs_csi = 'subs_csi_train.csv'\n",
    "    path_new_features = 'features.csv'\n",
    "else:\n",
    "    pathfiles = path_test\n",
    "    path_subs_bs_consumption = 'subs_bs_consumption_test.csv'\n",
    "    path_subs_bs_data_session = 'subs_bs_data_session_test.csv'\n",
    "    path_subs_bs_voice_session = 'subs_bs_voice_session_test.csv'\n",
    "    path_subs_features = 'subs_features_test.csv'\n",
    "    path_subs_csi = 'subs_csi_test.csv'\n",
    "    path_new_features = 'features.csv'"
   ]
  },
  {
   "cell_type": "code",
   "execution_count": null,
   "metadata": {
    "collapsed": true
   },
   "outputs": [],
   "source": []
  },
  {
   "cell_type": "code",
   "execution_count": null,
   "metadata": {
    "collapsed": true
   },
   "outputs": [],
   "source": []
  },
  {
   "cell_type": "code",
   "execution_count": 67,
   "metadata": {
    "collapsed": true
   },
   "outputs": [],
   "source": [
    "subs_csi = pd.read_csv(pathfiles + path_subs_csi, sep=';', decimal=',')"
   ]
  },
  {
   "cell_type": "code",
   "execution_count": 68,
   "metadata": {},
   "outputs": [
    {
     "data": {
      "text/html": [
       "<div>\n",
       "<style scoped>\n",
       "    .dataframe tbody tr th:only-of-type {\n",
       "        vertical-align: middle;\n",
       "    }\n",
       "\n",
       "    .dataframe tbody tr th {\n",
       "        vertical-align: top;\n",
       "    }\n",
       "\n",
       "    .dataframe thead th {\n",
       "        text-align: right;\n",
       "    }\n",
       "</style>\n",
       "<table border=\"1\" class=\"dataframe\">\n",
       "  <thead>\n",
       "    <tr style=\"text-align: right;\">\n",
       "      <th></th>\n",
       "      <th>SK_ID</th>\n",
       "      <th>CONTACT_DATE</th>\n",
       "    </tr>\n",
       "  </thead>\n",
       "  <tbody>\n",
       "    <tr>\n",
       "      <th>0</th>\n",
       "      <td>6184</td>\n",
       "      <td>02.04</td>\n",
       "    </tr>\n",
       "  </tbody>\n",
       "</table>\n",
       "</div>"
      ],
      "text/plain": [
       "   SK_ID CONTACT_DATE\n",
       "0   6184        02.04"
      ]
     },
     "execution_count": 68,
     "metadata": {},
     "output_type": "execute_result"
    }
   ],
   "source": [
    "subs_csi.head(1)"
   ]
  },
  {
   "cell_type": "code",
   "execution_count": 69,
   "metadata": {},
   "outputs": [
    {
     "data": {
      "text/plain": [
       "(5221, 2)"
      ]
     },
     "execution_count": 69,
     "metadata": {},
     "output_type": "execute_result"
    }
   ],
   "source": [
    "subs_csi.shape"
   ]
  },
  {
   "cell_type": "code",
   "execution_count": null,
   "metadata": {
    "collapsed": true
   },
   "outputs": [],
   "source": []
  },
  {
   "cell_type": "code",
   "execution_count": 70,
   "metadata": {
    "collapsed": true
   },
   "outputs": [],
   "source": [
    "subs_bs_consumption = pd.read_csv(pathfiles + path_subs_bs_consumption, sep=';', decimal=',')"
   ]
  },
  {
   "cell_type": "code",
   "execution_count": 71,
   "metadata": {
    "collapsed": true
   },
   "outputs": [],
   "source": [
    "subs_bs_consumption['month'] = subs_bs_consumption['MON'].apply(lambda x:int(str(x).split('.')[1]))"
   ]
  },
  {
   "cell_type": "code",
   "execution_count": 72,
   "metadata": {},
   "outputs": [
    {
     "data": {
      "text/html": [
       "<div>\n",
       "<style scoped>\n",
       "    .dataframe tbody tr th:only-of-type {\n",
       "        vertical-align: middle;\n",
       "    }\n",
       "\n",
       "    .dataframe tbody tr th {\n",
       "        vertical-align: top;\n",
       "    }\n",
       "\n",
       "    .dataframe thead th {\n",
       "        text-align: right;\n",
       "    }\n",
       "</style>\n",
       "<table border=\"1\" class=\"dataframe\">\n",
       "  <thead>\n",
       "    <tr style=\"text-align: right;\">\n",
       "      <th></th>\n",
       "      <th>SK_ID</th>\n",
       "      <th>CELL_LAC_ID</th>\n",
       "      <th>MON</th>\n",
       "      <th>SUM_MINUTES</th>\n",
       "      <th>SUM_DATA_MB</th>\n",
       "      <th>SUM_DATA_MIN</th>\n",
       "      <th>month</th>\n",
       "    </tr>\n",
       "  </thead>\n",
       "  <tbody>\n",
       "    <tr>\n",
       "      <th>0</th>\n",
       "      <td>6357</td>\n",
       "      <td>104453</td>\n",
       "      <td>01.02</td>\n",
       "      <td>0.0</td>\n",
       "      <td>0.0</td>\n",
       "      <td>0.000234</td>\n",
       "      <td>2</td>\n",
       "    </tr>\n",
       "  </tbody>\n",
       "</table>\n",
       "</div>"
      ],
      "text/plain": [
       "   SK_ID  CELL_LAC_ID    MON  SUM_MINUTES  SUM_DATA_MB  SUM_DATA_MIN  month\n",
       "0   6357       104453  01.02          0.0          0.0      0.000234      2"
      ]
     },
     "execution_count": 72,
     "metadata": {},
     "output_type": "execute_result"
    }
   ],
   "source": [
    "subs_bs_consumption.head(1)"
   ]
  },
  {
   "cell_type": "code",
   "execution_count": 73,
   "metadata": {},
   "outputs": [
    {
     "data": {
      "text/plain": [
       "(1179454, 7)"
      ]
     },
     "execution_count": 73,
     "metadata": {},
     "output_type": "execute_result"
    }
   ],
   "source": [
    "subs_bs_consumption.shape"
   ]
  },
  {
   "cell_type": "code",
   "execution_count": null,
   "metadata": {
    "collapsed": true
   },
   "outputs": [],
   "source": []
  },
  {
   "cell_type": "code",
   "execution_count": 15,
   "metadata": {
    "collapsed": true
   },
   "outputs": [],
   "source": [
    "users = subs_csi['SK_ID'].unique()\n",
    "user_summary_sum_minutes = {(u, m):0 for u in users for m in subs_bs_consumption['month'].unique()}\n",
    "user_summary_sum_data_mb = {(u, m):0 for u in users for m in subs_bs_consumption['month'].unique()}\n",
    "user_summary_sum_data_min = {(u, m):0 for u in users for m in subs_bs_consumption['month'].unique()}"
   ]
  },
  {
   "cell_type": "code",
   "execution_count": null,
   "metadata": {
    "collapsed": true
   },
   "outputs": [],
   "source": []
  },
  {
   "cell_type": "code",
   "execution_count": 16,
   "metadata": {
    "collapsed": true
   },
   "outputs": [],
   "source": [
    "for i in subs_bs_consumption.values:\n",
    "    user_summary_sum_minutes[(i[0], i[6])] += i[3]\n",
    "    user_summary_sum_data_mb[(i[0], i[6])] += i[4]\n",
    "    user_summary_sum_data_min[(i[0], i[6])] += i[5]"
   ]
  },
  {
   "cell_type": "code",
   "execution_count": null,
   "metadata": {
    "collapsed": true
   },
   "outputs": [],
   "source": []
  },
  {
   "cell_type": "code",
   "execution_count": 74,
   "metadata": {
    "collapsed": true
   },
   "outputs": [],
   "source": [
    "subs_bs_data_session = pd.read_csv(pathfiles + path_subs_bs_data_session, sep=';', decimal=',')"
   ]
  },
  {
   "cell_type": "code",
   "execution_count": 75,
   "metadata": {},
   "outputs": [
    {
     "data": {
      "text/html": [
       "<div>\n",
       "<style scoped>\n",
       "    .dataframe tbody tr th:only-of-type {\n",
       "        vertical-align: middle;\n",
       "    }\n",
       "\n",
       "    .dataframe tbody tr th {\n",
       "        vertical-align: top;\n",
       "    }\n",
       "\n",
       "    .dataframe thead th {\n",
       "        text-align: right;\n",
       "    }\n",
       "</style>\n",
       "<table border=\"1\" class=\"dataframe\">\n",
       "  <thead>\n",
       "    <tr style=\"text-align: right;\">\n",
       "      <th></th>\n",
       "      <th>SK_ID</th>\n",
       "      <th>CELL_LAC_ID</th>\n",
       "      <th>DATA_VOL_MB</th>\n",
       "      <th>START_TIME</th>\n",
       "    </tr>\n",
       "  </thead>\n",
       "  <tbody>\n",
       "    <tr>\n",
       "      <th>0</th>\n",
       "      <td>4992</td>\n",
       "      <td>3442</td>\n",
       "      <td>0.000564</td>\n",
       "      <td>13.03 16:00:00</td>\n",
       "    </tr>\n",
       "  </tbody>\n",
       "</table>\n",
       "</div>"
      ],
      "text/plain": [
       "   SK_ID  CELL_LAC_ID  DATA_VOL_MB      START_TIME\n",
       "0   4992         3442     0.000564  13.03 16:00:00"
      ]
     },
     "execution_count": 75,
     "metadata": {},
     "output_type": "execute_result"
    }
   ],
   "source": [
    "subs_bs_data_session.head(1)"
   ]
  },
  {
   "cell_type": "code",
   "execution_count": 76,
   "metadata": {},
   "outputs": [
    {
     "data": {
      "text/plain": [
       "(4138720, 4)"
      ]
     },
     "execution_count": 76,
     "metadata": {},
     "output_type": "execute_result"
    }
   ],
   "source": [
    "subs_bs_data_session.shape"
   ]
  },
  {
   "cell_type": "code",
   "execution_count": null,
   "metadata": {
    "collapsed": true
   },
   "outputs": [],
   "source": []
  },
  {
   "cell_type": "code",
   "execution_count": 77,
   "metadata": {
    "collapsed": true
   },
   "outputs": [],
   "source": [
    "subs_features = pd.read_csv(pathfiles + path_subs_features, sep=';', decimal=',')"
   ]
  },
  {
   "cell_type": "code",
   "execution_count": 78,
   "metadata": {},
   "outputs": [
    {
     "data": {
      "text/html": [
       "<div>\n",
       "<style scoped>\n",
       "    .dataframe tbody tr th:only-of-type {\n",
       "        vertical-align: middle;\n",
       "    }\n",
       "\n",
       "    .dataframe tbody tr th {\n",
       "        vertical-align: top;\n",
       "    }\n",
       "\n",
       "    .dataframe thead th {\n",
       "        text-align: right;\n",
       "    }\n",
       "</style>\n",
       "<table border=\"1\" class=\"dataframe\">\n",
       "  <thead>\n",
       "    <tr style=\"text-align: right;\">\n",
       "      <th></th>\n",
       "      <th>SNAP_DATE</th>\n",
       "      <th>COM_CAT#1</th>\n",
       "      <th>SK_ID</th>\n",
       "      <th>COM_CAT#2</th>\n",
       "      <th>COM_CAT#3</th>\n",
       "      <th>BASE_TYPE</th>\n",
       "      <th>ACT</th>\n",
       "      <th>ARPU_GROUP</th>\n",
       "      <th>COM_CAT#7</th>\n",
       "      <th>COM_CAT#8</th>\n",
       "      <th>...</th>\n",
       "      <th>COM_CAT#25</th>\n",
       "      <th>COM_CAT#26</th>\n",
       "      <th>COM_CAT#27</th>\n",
       "      <th>COM_CAT#28</th>\n",
       "      <th>COM_CAT#29</th>\n",
       "      <th>COM_CAT#30</th>\n",
       "      <th>COM_CAT#31</th>\n",
       "      <th>COM_CAT#32</th>\n",
       "      <th>COM_CAT#33</th>\n",
       "      <th>COM_CAT#34</th>\n",
       "    </tr>\n",
       "  </thead>\n",
       "  <tbody>\n",
       "    <tr>\n",
       "      <th>0</th>\n",
       "      <td>01.10.01</td>\n",
       "      <td>8</td>\n",
       "      <td>6954</td>\n",
       "      <td>44</td>\n",
       "      <td>12</td>\n",
       "      <td>1</td>\n",
       "      <td>1</td>\n",
       "      <td>12.0</td>\n",
       "      <td>3</td>\n",
       "      <td>NaN</td>\n",
       "      <td>...</td>\n",
       "      <td>1</td>\n",
       "      <td>1</td>\n",
       "      <td>0.014411</td>\n",
       "      <td>0.036439</td>\n",
       "      <td>0.0</td>\n",
       "      <td>0.0</td>\n",
       "      <td>0.040759</td>\n",
       "      <td>0.027579</td>\n",
       "      <td>0.103896</td>\n",
       "      <td>10.0</td>\n",
       "    </tr>\n",
       "  </tbody>\n",
       "</table>\n",
       "<p>1 rows × 36 columns</p>\n",
       "</div>"
      ],
      "text/plain": [
       "  SNAP_DATE  COM_CAT#1  SK_ID  COM_CAT#2  COM_CAT#3  BASE_TYPE  ACT  \\\n",
       "0  01.10.01          8   6954         44         12          1    1   \n",
       "\n",
       "   ARPU_GROUP  COM_CAT#7  COM_CAT#8     ...      COM_CAT#25  COM_CAT#26  \\\n",
       "0        12.0          3        NaN     ...               1           1   \n",
       "\n",
       "   COM_CAT#27  COM_CAT#28  COM_CAT#29  COM_CAT#30  COM_CAT#31  COM_CAT#32  \\\n",
       "0    0.014411    0.036439         0.0         0.0    0.040759    0.027579   \n",
       "\n",
       "   COM_CAT#33  COM_CAT#34  \n",
       "0    0.103896        10.0  \n",
       "\n",
       "[1 rows x 36 columns]"
      ]
     },
     "execution_count": 78,
     "metadata": {},
     "output_type": "execute_result"
    }
   ],
   "source": [
    "subs_features.head(1)"
   ]
  },
  {
   "cell_type": "code",
   "execution_count": 79,
   "metadata": {},
   "outputs": [
    {
     "data": {
      "text/plain": [
       "(58989, 36)"
      ]
     },
     "execution_count": 79,
     "metadata": {},
     "output_type": "execute_result"
    }
   ],
   "source": [
    "subs_features.shape"
   ]
  },
  {
   "cell_type": "code",
   "execution_count": 80,
   "metadata": {
    "collapsed": true
   },
   "outputs": [],
   "source": [
    "subs_features['SNAP_DATE'] = subs_features['SNAP_DATE'].apply(lambda x:datetime.strptime(x, '%d.%m.%y'))"
   ]
  },
  {
   "cell_type": "code",
   "execution_count": 81,
   "metadata": {
    "collapsed": true
   },
   "outputs": [],
   "source": [
    "cats = subs_features['COM_CAT#24'].unique()\n",
    "subs_features['COM_CAT#242'] = pd.Categorical(subs_features['COM_CAT#24'], categories=cats)\n",
    "subs_features['COM_CAT#242'] = subs_features['COM_CAT#242'].cat.codes"
   ]
  },
  {
   "cell_type": "code",
   "execution_count": 82,
   "metadata": {
    "collapsed": true
   },
   "outputs": [],
   "source": [
    "subs_features['COM_CAT#34'].fillna(0, inplace=True)\n",
    "subs_features['COM_CAT#8'].fillna(0, inplace=True)\n",
    "subs_features['DEVICE_TYPE_ID'].fillna(0, inplace=True)\n",
    "subs_features['ARPU_GROUP'].fillna(0, inplace=True)\n",
    "subs_features['INTERNET_TYPE_ID'].fillna(0, inplace=True)"
   ]
  },
  {
   "cell_type": "code",
   "execution_count": 83,
   "metadata": {},
   "outputs": [
    {
     "data": {
      "text/plain": [
       "(58989, 37)"
      ]
     },
     "execution_count": 83,
     "metadata": {},
     "output_type": "execute_result"
    }
   ],
   "source": [
    "subs_features.dropna().shape"
   ]
  },
  {
   "cell_type": "code",
   "execution_count": 84,
   "metadata": {
    "collapsed": true
   },
   "outputs": [],
   "source": [
    "subs_features['month'] = subs_features['SNAP_DATE'].apply(lambda x:x.month)\n",
    "subs_features['year'] = subs_features['SNAP_DATE'].apply(lambda x:x.year)"
   ]
  },
  {
   "cell_type": "code",
   "execution_count": null,
   "metadata": {
    "collapsed": true
   },
   "outputs": [],
   "source": []
  },
  {
   "cell_type": "code",
   "execution_count": 85,
   "metadata": {
    "collapsed": true
   },
   "outputs": [],
   "source": [
    "def get_subs_features(year, month, fix_month, day, sk_id):\n",
    "    data = subs_features[(subs_features['year'] == year) & (subs_features['month'] == month) & (subs_features['SK_ID'] == sk_id)]\n",
    "    columns = ['COM_CAT#1', 'COM_CAT#2', 'COM_CAT#3', 'BASE_TYPE', 'ACT', 'ARPU_GROUP', 'COM_CAT#7', 'COM_CAT#8',\n",
    "              'DEVICE_TYPE_ID', 'INTERNET_TYPE_ID', 'REVENUE', 'ITC', 'VAS', 'RENT_CHANNEL', 'ROAM',\n",
    "              'COST', 'COM_CAT#242']\n",
    "    for i in range(18):\n",
    "        if i + 17 == 24:\n",
    "            if data.shape[0] == 1:\n",
    "                d = data[['COM_CAT#24']].values[0].tolist()[0]\n",
    "                dt = str(d).split('.')\n",
    "                c_month = int(dt[1])\n",
    "                c_day = int(dt[0])\n",
    "                delta = (datetime(2002, fix_month, day) - datetime(2001 if d == '31.12' else 2002, c_month, c_day)).days\n",
    "            continue\n",
    "        columns.append('COM_CAT#{}'.format(i+17))\n",
    "    if data.shape[0] == 1:\n",
    "        return columns, data[columns].values[0].tolist()\n",
    "    else:\n",
    "        return columns, np.zeros(len(columns))"
   ]
  },
  {
   "cell_type": "code",
   "execution_count": null,
   "metadata": {
    "collapsed": true
   },
   "outputs": [],
   "source": []
  },
  {
   "cell_type": "code",
   "execution_count": 86,
   "metadata": {
    "collapsed": true
   },
   "outputs": [],
   "source": [
    "# for dnn\n",
    "table = []\n",
    "if TRAIN:\n",
    "    y = np.zeros(subs_csi.shape[0])\n",
    "for i in enumerate(subs_csi.values):\n",
    "    sk_id = int(i[1][0])\n",
    "    line = [sk_id]\n",
    "    table_columns = ['sk_id']\n",
    "    if TRAIN:\n",
    "        dt = str(i[1][2]).split('.')\n",
    "    else:\n",
    "        dt = str(i[1][1]).split('.')\n",
    "    year = 2002\n",
    "    month = int(dt[1])\n",
    "    for j in range(12):\n",
    "        new_line = get_subs_features(year, month, int(dt[1]), int(dt[0]), sk_id)\n",
    "        line.extend(new_line[1])\n",
    "        table_columns.extend(new_line[0])\n",
    "        month -= 1\n",
    "        if month == 0:\n",
    "            month = 12\n",
    "            year -= 1\n",
    "    #for j in range(3):\n",
    "    #    line.append(user_summary_sum_minutes[(sk_id, int(dt[1]) - j)])\n",
    "    #    line.append(user_summary_sum_data_mb[(sk_id, int(dt[1]) - j)])\n",
    "    #    line.append(user_summary_sum_data_min[(sk_id, int(dt[1]) - j)])\n",
    "    table.append(line)\n",
    "    if TRAIN:\n",
    "        y[i[0]] = i[1][1]"
   ]
  },
  {
   "cell_type": "code",
   "execution_count": null,
   "metadata": {
    "collapsed": true
   },
   "outputs": [],
   "source": []
  },
  {
   "cell_type": "code",
   "execution_count": 87,
   "metadata": {
    "collapsed": true
   },
   "outputs": [],
   "source": [
    "data = pd.DataFrame(data=table, columns=table_columns)"
   ]
  },
  {
   "cell_type": "code",
   "execution_count": null,
   "metadata": {
    "collapsed": true
   },
   "outputs": [],
   "source": []
  },
  {
   "cell_type": "code",
   "execution_count": 88,
   "metadata": {
    "collapsed": true
   },
   "outputs": [],
   "source": [
    "columns_avg = ['CELL_AVAILABILITY_2G', 'CELL_AVAILABILITY_3G',\n",
    "       'CELL_AVAILABILITY_4G', 'CSSR_2G', 'CSSR_3G',\n",
    "       'ERAB_PS_BLOCKING_RATE_LTE', 'ERAB_PS_BLOCKING_RATE_PLMN_LTE',\n",
    "       'ERAB_PS_DROP_RATE_LTE', 'HSPDSCH_CODE_UTIL_3G',\n",
    "       'NODEB_CNBAP_LOAD_HARDWARE', 'PART_CQI_QPSK_LTE', 'PART_MCS_QPSK_LTE',\n",
    "       'PROC_LOAD_3G', 'PSSR_2G', 'PSSR_3G', 'PSSR_LTE',\n",
    "       'RAB_CS_BLOCKING_RATE_3G', 'RAB_CS_DROP_RATE_3G',\n",
    "       'RAB_PS_BLOCKING_RATE_3G', 'RAB_PS_DROP_RATE_3G', 'RBU_AVAIL_DL',\n",
    "       'RBU_AVAIL_DL_LTE', 'RBU_AVAIL_UL', 'RBU_OTHER_DL', 'RBU_OTHER_UL',\n",
    "       'RBU_OWN_DL', 'RBU_OWN_UL', 'RRC_BLOCKING_RATE_3G',\n",
    "       'RRC_BLOCKING_RATE_LTE', 'RTWP_3G', 'SHO_FACTOR', 'TBF_DROP_RATE_2G',\n",
    "       'TCH_DROP_RATE_2G', 'UTIL_BRD_CPU_3G', 'UTIL_CE_DL_3G',\n",
    "       'UTIL_CE_HW_DL_3G', 'UTIL_CE_UL_3G', 'UTIL_SUBUNITS_3G',\n",
    "       'UL_VOLUME_LTE', 'DL_VOLUME_LTE', 'TOTAL_DL_VOLUME_3G',\n",
    "       'TOTAL_UL_VOLUME_3G']"
   ]
  },
  {
   "cell_type": "code",
   "execution_count": 89,
   "metadata": {
    "collapsed": true
   },
   "outputs": [],
   "source": [
    "columns_chhn = ['AVEUSERNUMBER', 'AVEUSERNUMBER_PLMN',\n",
    "       'AVR_DL_HSPA_USER_3G', 'AVR_DL_R99_USER_3G', 'AVR_DL_USER_3G',\n",
    "       'AVR_DL_USER_LTE', 'AVR_TX_POWER_3G', 'AVR_UL_HSPA_USER',\n",
    "       'AVR_UL_R99_USER', 'AVR_UL_USER_3G', 'AVR_UL_USER_LTE',\n",
    "       'DL_AVR_THROUGHPUT_3G', 'DL_AVR_THROUGHPUT_LTE',\n",
    "       'DL_AVR_THROUGHPUT_R99', 'DL_MEAN_USER_THROUGHPUT_LTE',\n",
    "       'DL_MEAN_USER_THROUGHPUT_DL_2G', 'DL_MEAN_USER_THROUGHPUT_HSPA3G',\n",
    "       'DL_MEAN_USER_THROUGHPUT_PLTE', 'DL_MEAN_USER_THROUGHPUT_REL93G',\n",
    "       'HSDPA_USERS_3G', 'HSUPA_USERS_3G', 'RBU_USED_DL', 'RBU_USED_UL',\n",
    "       'RELATIVE_RBU_USED_DL', 'RELATIVE_RBU_USED_UL', 'RELATIVE_TX_POWER_3G',\n",
    "       'UL_AVR_THROUGHPUT_3G', 'UL_AVR_THROUGHPUT_LTE',\n",
    "       'UL_AVR_THROUGHPUT_R99', 'UL_MEAN_USER_THROUGHPUT_LTE',\n",
    "       'UL_MEAN_USER_THROUGHPUT_HS3G', 'UL_MEAN_USER_THROUGHPUT_PLTE',\n",
    "       'UL_MEAN_USER_THROUGHPUT_REL93G']"
   ]
  },
  {
   "cell_type": "code",
   "execution_count": 90,
   "metadata": {
    "collapsed": true
   },
   "outputs": [],
   "source": [
    "def get_extend_data(type_data, column_name):\n",
    "    fname = pathfiles + path_features + '{}_{}.csv'.format(type_data, column_name)\n",
    "    result = pd.read_csv(fname)\n",
    "    cust_columns = result.columns[:1 + 8 * 15]\n",
    "    return result[cust_columns]\n",
    "\n",
    "def get_all_data():\n",
    "    result = None\n",
    "    for columns in [columns_avg, columns_chhn]:\n",
    "        for c in columns:\n",
    "            for type_data in ['data', 'voice']:\n",
    "                t = get_extend_data(type_data, c)\n",
    "                if result is None:\n",
    "                    result = t\n",
    "                else:\n",
    "                    result = result.merge(t, how='inner', left_on='sk_id', right_on='sk_id')\n",
    "    return result"
   ]
  },
  {
   "cell_type": "code",
   "execution_count": 91,
   "metadata": {
    "collapsed": true
   },
   "outputs": [],
   "source": [
    "#d = get_extend_data('voice', 'UL_MEAN_USER_THROUGHPUT_REL93G')\n",
    "#d.head()"
   ]
  },
  {
   "cell_type": "code",
   "execution_count": null,
   "metadata": {
    "collapsed": true
   },
   "outputs": [],
   "source": []
  },
  {
   "cell_type": "code",
   "execution_count": null,
   "metadata": {
    "collapsed": true
   },
   "outputs": [],
   "source": []
  },
  {
   "cell_type": "code",
   "execution_count": null,
   "metadata": {
    "collapsed": true
   },
   "outputs": [],
   "source": []
  },
  {
   "cell_type": "code",
   "execution_count": 92,
   "metadata": {},
   "outputs": [
    {
     "data": {
      "text/html": [
       "<div>\n",
       "<style scoped>\n",
       "    .dataframe tbody tr th:only-of-type {\n",
       "        vertical-align: middle;\n",
       "    }\n",
       "\n",
       "    .dataframe tbody tr th {\n",
       "        vertical-align: top;\n",
       "    }\n",
       "\n",
       "    .dataframe thead th {\n",
       "        text-align: right;\n",
       "    }\n",
       "</style>\n",
       "<table border=\"1\" class=\"dataframe\">\n",
       "  <thead>\n",
       "    <tr style=\"text-align: right;\">\n",
       "      <th></th>\n",
       "      <th>sk_id</th>\n",
       "      <th>COM_CAT#1</th>\n",
       "      <th>COM_CAT#2</th>\n",
       "      <th>COM_CAT#3</th>\n",
       "      <th>BASE_TYPE</th>\n",
       "      <th>ACT</th>\n",
       "      <th>ARPU_GROUP</th>\n",
       "      <th>COM_CAT#7</th>\n",
       "      <th>COM_CAT#8</th>\n",
       "      <th>DEVICE_TYPE_ID</th>\n",
       "      <th>...</th>\n",
       "      <th>COM_CAT#25</th>\n",
       "      <th>COM_CAT#26</th>\n",
       "      <th>COM_CAT#27</th>\n",
       "      <th>COM_CAT#28</th>\n",
       "      <th>COM_CAT#29</th>\n",
       "      <th>COM_CAT#30</th>\n",
       "      <th>COM_CAT#31</th>\n",
       "      <th>COM_CAT#32</th>\n",
       "      <th>COM_CAT#33</th>\n",
       "      <th>COM_CAT#34</th>\n",
       "    </tr>\n",
       "  </thead>\n",
       "  <tbody>\n",
       "    <tr>\n",
       "      <th>0</th>\n",
       "      <td>6184</td>\n",
       "      <td>4.0</td>\n",
       "      <td>50.0</td>\n",
       "      <td>5.0</td>\n",
       "      <td>2.0</td>\n",
       "      <td>1.0</td>\n",
       "      <td>8.0</td>\n",
       "      <td>2.0</td>\n",
       "      <td>136.0</td>\n",
       "      <td>5.0</td>\n",
       "      <td>...</td>\n",
       "      <td>1.0</td>\n",
       "      <td>1.0</td>\n",
       "      <td>0.002392</td>\n",
       "      <td>0.005215</td>\n",
       "      <td>0.000001</td>\n",
       "      <td>0.00000</td>\n",
       "      <td>0.011418</td>\n",
       "      <td>0.027579</td>\n",
       "      <td>0.103896</td>\n",
       "      <td>3.0</td>\n",
       "    </tr>\n",
       "    <tr>\n",
       "      <th>1</th>\n",
       "      <td>5175</td>\n",
       "      <td>3.0</td>\n",
       "      <td>24.0</td>\n",
       "      <td>5.0</td>\n",
       "      <td>2.0</td>\n",
       "      <td>1.0</td>\n",
       "      <td>9.0</td>\n",
       "      <td>1.0</td>\n",
       "      <td>149.0</td>\n",
       "      <td>5.0</td>\n",
       "      <td>...</td>\n",
       "      <td>1.0</td>\n",
       "      <td>1.0</td>\n",
       "      <td>0.021598</td>\n",
       "      <td>0.049949</td>\n",
       "      <td>0.055215</td>\n",
       "      <td>0.00023</td>\n",
       "      <td>0.050353</td>\n",
       "      <td>0.027579</td>\n",
       "      <td>0.103896</td>\n",
       "      <td>2.0</td>\n",
       "    </tr>\n",
       "    <tr>\n",
       "      <th>2</th>\n",
       "      <td>5478</td>\n",
       "      <td>6.0</td>\n",
       "      <td>55.0</td>\n",
       "      <td>5.0</td>\n",
       "      <td>2.0</td>\n",
       "      <td>1.0</td>\n",
       "      <td>5.0</td>\n",
       "      <td>3.0</td>\n",
       "      <td>1277.0</td>\n",
       "      <td>5.0</td>\n",
       "      <td>...</td>\n",
       "      <td>1.0</td>\n",
       "      <td>1.0</td>\n",
       "      <td>0.048660</td>\n",
       "      <td>0.000296</td>\n",
       "      <td>0.000000</td>\n",
       "      <td>0.00000</td>\n",
       "      <td>0.108520</td>\n",
       "      <td>0.027579</td>\n",
       "      <td>0.103896</td>\n",
       "      <td>7.0</td>\n",
       "    </tr>\n",
       "    <tr>\n",
       "      <th>3</th>\n",
       "      <td>7807</td>\n",
       "      <td>6.0</td>\n",
       "      <td>71.0</td>\n",
       "      <td>11.0</td>\n",
       "      <td>1.0</td>\n",
       "      <td>1.0</td>\n",
       "      <td>6.0</td>\n",
       "      <td>3.0</td>\n",
       "      <td>139.0</td>\n",
       "      <td>5.0</td>\n",
       "      <td>...</td>\n",
       "      <td>0.0</td>\n",
       "      <td>0.0</td>\n",
       "      <td>0.000000</td>\n",
       "      <td>0.000000</td>\n",
       "      <td>0.000000</td>\n",
       "      <td>0.00000</td>\n",
       "      <td>0.000000</td>\n",
       "      <td>0.000000</td>\n",
       "      <td>0.000000</td>\n",
       "      <td>0.0</td>\n",
       "    </tr>\n",
       "    <tr>\n",
       "      <th>4</th>\n",
       "      <td>5640</td>\n",
       "      <td>8.0</td>\n",
       "      <td>40.0</td>\n",
       "      <td>5.0</td>\n",
       "      <td>2.0</td>\n",
       "      <td>1.0</td>\n",
       "      <td>12.0</td>\n",
       "      <td>1.0</td>\n",
       "      <td>1279.0</td>\n",
       "      <td>5.0</td>\n",
       "      <td>...</td>\n",
       "      <td>1.0</td>\n",
       "      <td>1.0</td>\n",
       "      <td>0.017621</td>\n",
       "      <td>0.013507</td>\n",
       "      <td>0.009411</td>\n",
       "      <td>0.00000</td>\n",
       "      <td>0.129603</td>\n",
       "      <td>0.027579</td>\n",
       "      <td>0.103896</td>\n",
       "      <td>2.0</td>\n",
       "    </tr>\n",
       "  </tbody>\n",
       "</table>\n",
       "<p>5 rows × 409 columns</p>\n",
       "</div>"
      ],
      "text/plain": [
       "   sk_id  COM_CAT#1  COM_CAT#2  COM_CAT#3  BASE_TYPE  ACT  ARPU_GROUP  \\\n",
       "0   6184        4.0       50.0        5.0        2.0  1.0         8.0   \n",
       "1   5175        3.0       24.0        5.0        2.0  1.0         9.0   \n",
       "2   5478        6.0       55.0        5.0        2.0  1.0         5.0   \n",
       "3   7807        6.0       71.0       11.0        1.0  1.0         6.0   \n",
       "4   5640        8.0       40.0        5.0        2.0  1.0        12.0   \n",
       "\n",
       "   COM_CAT#7  COM_CAT#8  DEVICE_TYPE_ID     ...      COM_CAT#25  COM_CAT#26  \\\n",
       "0        2.0      136.0             5.0     ...             1.0         1.0   \n",
       "1        1.0      149.0             5.0     ...             1.0         1.0   \n",
       "2        3.0     1277.0             5.0     ...             1.0         1.0   \n",
       "3        3.0      139.0             5.0     ...             0.0         0.0   \n",
       "4        1.0     1279.0             5.0     ...             1.0         1.0   \n",
       "\n",
       "   COM_CAT#27  COM_CAT#28  COM_CAT#29  COM_CAT#30  COM_CAT#31  COM_CAT#32  \\\n",
       "0    0.002392    0.005215    0.000001     0.00000    0.011418    0.027579   \n",
       "1    0.021598    0.049949    0.055215     0.00023    0.050353    0.027579   \n",
       "2    0.048660    0.000296    0.000000     0.00000    0.108520    0.027579   \n",
       "3    0.000000    0.000000    0.000000     0.00000    0.000000    0.000000   \n",
       "4    0.017621    0.013507    0.009411     0.00000    0.129603    0.027579   \n",
       "\n",
       "   COM_CAT#33  COM_CAT#34  \n",
       "0    0.103896         3.0  \n",
       "1    0.103896         2.0  \n",
       "2    0.103896         7.0  \n",
       "3    0.000000         0.0  \n",
       "4    0.103896         2.0  \n",
       "\n",
       "[5 rows x 409 columns]"
      ]
     },
     "execution_count": 92,
     "metadata": {},
     "output_type": "execute_result"
    }
   ],
   "source": [
    "data.head()"
   ]
  },
  {
   "cell_type": "code",
   "execution_count": 93,
   "metadata": {
    "collapsed": true
   },
   "outputs": [],
   "source": [
    "ext_data = get_all_data()"
   ]
  },
  {
   "cell_type": "code",
   "execution_count": null,
   "metadata": {
    "collapsed": true
   },
   "outputs": [],
   "source": []
  },
  {
   "cell_type": "code",
   "execution_count": 94,
   "metadata": {},
   "outputs": [
    {
     "data": {
      "text/plain": [
       "(5221, 18001)"
      ]
     },
     "execution_count": 94,
     "metadata": {},
     "output_type": "execute_result"
    }
   ],
   "source": [
    "ext_data.shape"
   ]
  },
  {
   "cell_type": "code",
   "execution_count": 95,
   "metadata": {},
   "outputs": [
    {
     "data": {
      "text/html": [
       "<div>\n",
       "<style scoped>\n",
       "    .dataframe tbody tr th:only-of-type {\n",
       "        vertical-align: middle;\n",
       "    }\n",
       "\n",
       "    .dataframe tbody tr th {\n",
       "        vertical-align: top;\n",
       "    }\n",
       "\n",
       "    .dataframe thead th {\n",
       "        text-align: right;\n",
       "    }\n",
       "</style>\n",
       "<table border=\"1\" class=\"dataframe\">\n",
       "  <thead>\n",
       "    <tr style=\"text-align: right;\">\n",
       "      <th></th>\n",
       "      <th>sk_id</th>\n",
       "      <th>0 sum_x</th>\n",
       "      <th>0 count_x</th>\n",
       "      <th>0 min_x</th>\n",
       "      <th>0 avg_x</th>\n",
       "      <th>0 max_x</th>\n",
       "      <th>0 mina_x</th>\n",
       "      <th>0 avga_x</th>\n",
       "      <th>0 maxa_x</th>\n",
       "      <th>1 sum_x</th>\n",
       "      <th>...</th>\n",
       "      <th>13 avga_y</th>\n",
       "      <th>13 maxa_y</th>\n",
       "      <th>14 sum_y</th>\n",
       "      <th>14 count_y</th>\n",
       "      <th>14 min_y</th>\n",
       "      <th>14 avg_y</th>\n",
       "      <th>14 max_y</th>\n",
       "      <th>14 mina_y</th>\n",
       "      <th>14 avga_y</th>\n",
       "      <th>14 maxa_y</th>\n",
       "    </tr>\n",
       "  </thead>\n",
       "  <tbody>\n",
       "    <tr>\n",
       "      <th>0</th>\n",
       "      <td>6184</td>\n",
       "      <td>0.000000</td>\n",
       "      <td>0.0</td>\n",
       "      <td>0.0</td>\n",
       "      <td>0.000000</td>\n",
       "      <td>0.000000</td>\n",
       "      <td>0.0</td>\n",
       "      <td>0.000000</td>\n",
       "      <td>0.000000</td>\n",
       "      <td>0.001259</td>\n",
       "      <td>...</td>\n",
       "      <td>0.000330</td>\n",
       "      <td>0.000837</td>\n",
       "      <td>0.057361</td>\n",
       "      <td>8.0</td>\n",
       "      <td>0.000417</td>\n",
       "      <td>0.000507</td>\n",
       "      <td>0.000704</td>\n",
       "      <td>0.000417</td>\n",
       "      <td>0.000507</td>\n",
       "      <td>0.000704</td>\n",
       "    </tr>\n",
       "    <tr>\n",
       "      <th>1</th>\n",
       "      <td>5175</td>\n",
       "      <td>0.003964</td>\n",
       "      <td>9.0</td>\n",
       "      <td>0.0</td>\n",
       "      <td>0.002631</td>\n",
       "      <td>0.593788</td>\n",
       "      <td>0.0</td>\n",
       "      <td>0.002631</td>\n",
       "      <td>0.593788</td>\n",
       "      <td>0.005425</td>\n",
       "      <td>...</td>\n",
       "      <td>0.000081</td>\n",
       "      <td>0.001065</td>\n",
       "      <td>0.028750</td>\n",
       "      <td>3.0</td>\n",
       "      <td>0.000000</td>\n",
       "      <td>0.000005</td>\n",
       "      <td>0.000011</td>\n",
       "      <td>0.000000</td>\n",
       "      <td>0.000005</td>\n",
       "      <td>0.000011</td>\n",
       "    </tr>\n",
       "    <tr>\n",
       "      <th>2</th>\n",
       "      <td>5478</td>\n",
       "      <td>0.000000</td>\n",
       "      <td>0.0</td>\n",
       "      <td>0.0</td>\n",
       "      <td>0.000000</td>\n",
       "      <td>0.000000</td>\n",
       "      <td>0.0</td>\n",
       "      <td>0.000000</td>\n",
       "      <td>0.000000</td>\n",
       "      <td>0.000000</td>\n",
       "      <td>...</td>\n",
       "      <td>0.000000</td>\n",
       "      <td>0.000000</td>\n",
       "      <td>0.000000</td>\n",
       "      <td>0.0</td>\n",
       "      <td>0.000000</td>\n",
       "      <td>0.000000</td>\n",
       "      <td>0.000000</td>\n",
       "      <td>0.000000</td>\n",
       "      <td>0.000000</td>\n",
       "      <td>0.000000</td>\n",
       "    </tr>\n",
       "    <tr>\n",
       "      <th>3</th>\n",
       "      <td>7807</td>\n",
       "      <td>0.004961</td>\n",
       "      <td>3.0</td>\n",
       "      <td>1.0</td>\n",
       "      <td>1.000000</td>\n",
       "      <td>1.000000</td>\n",
       "      <td>1.0</td>\n",
       "      <td>1.000000</td>\n",
       "      <td>1.000000</td>\n",
       "      <td>0.014308</td>\n",
       "      <td>...</td>\n",
       "      <td>0.000891</td>\n",
       "      <td>0.001123</td>\n",
       "      <td>0.076944</td>\n",
       "      <td>3.0</td>\n",
       "      <td>0.000355</td>\n",
       "      <td>0.000483</td>\n",
       "      <td>0.000546</td>\n",
       "      <td>0.000355</td>\n",
       "      <td>0.000483</td>\n",
       "      <td>0.000546</td>\n",
       "    </tr>\n",
       "    <tr>\n",
       "      <th>4</th>\n",
       "      <td>5640</td>\n",
       "      <td>0.005344</td>\n",
       "      <td>3.0</td>\n",
       "      <td>1.0</td>\n",
       "      <td>1.000000</td>\n",
       "      <td>1.000000</td>\n",
       "      <td>1.0</td>\n",
       "      <td>1.000000</td>\n",
       "      <td>1.000000</td>\n",
       "      <td>0.098175</td>\n",
       "      <td>...</td>\n",
       "      <td>0.000310</td>\n",
       "      <td>0.000630</td>\n",
       "      <td>0.057639</td>\n",
       "      <td>5.0</td>\n",
       "      <td>0.000260</td>\n",
       "      <td>0.000469</td>\n",
       "      <td>0.000572</td>\n",
       "      <td>0.000321</td>\n",
       "      <td>0.000473</td>\n",
       "      <td>0.000572</td>\n",
       "    </tr>\n",
       "  </tbody>\n",
       "</table>\n",
       "<p>5 rows × 18001 columns</p>\n",
       "</div>"
      ],
      "text/plain": [
       "   sk_id   0 sum_x  0 count_x  0 min_x   0 avg_x   0 max_x  0 mina_x  \\\n",
       "0   6184  0.000000        0.0      0.0  0.000000  0.000000       0.0   \n",
       "1   5175  0.003964        9.0      0.0  0.002631  0.593788       0.0   \n",
       "2   5478  0.000000        0.0      0.0  0.000000  0.000000       0.0   \n",
       "3   7807  0.004961        3.0      1.0  1.000000  1.000000       1.0   \n",
       "4   5640  0.005344        3.0      1.0  1.000000  1.000000       1.0   \n",
       "\n",
       "   0 avga_x  0 maxa_x   1 sum_x    ...      13 avga_y  13 maxa_y  14 sum_y  \\\n",
       "0  0.000000  0.000000  0.001259    ...       0.000330   0.000837  0.057361   \n",
       "1  0.002631  0.593788  0.005425    ...       0.000081   0.001065  0.028750   \n",
       "2  0.000000  0.000000  0.000000    ...       0.000000   0.000000  0.000000   \n",
       "3  1.000000  1.000000  0.014308    ...       0.000891   0.001123  0.076944   \n",
       "4  1.000000  1.000000  0.098175    ...       0.000310   0.000630  0.057639   \n",
       "\n",
       "   14 count_y  14 min_y  14 avg_y  14 max_y  14 mina_y  14 avga_y  14 maxa_y  \n",
       "0         8.0  0.000417  0.000507  0.000704   0.000417   0.000507   0.000704  \n",
       "1         3.0  0.000000  0.000005  0.000011   0.000000   0.000005   0.000011  \n",
       "2         0.0  0.000000  0.000000  0.000000   0.000000   0.000000   0.000000  \n",
       "3         3.0  0.000355  0.000483  0.000546   0.000355   0.000483   0.000546  \n",
       "4         5.0  0.000260  0.000469  0.000572   0.000321   0.000473   0.000572  \n",
       "\n",
       "[5 rows x 18001 columns]"
      ]
     },
     "execution_count": 95,
     "metadata": {},
     "output_type": "execute_result"
    }
   ],
   "source": [
    "ext_data.head()"
   ]
  },
  {
   "cell_type": "code",
   "execution_count": 96,
   "metadata": {
    "collapsed": true
   },
   "outputs": [],
   "source": [
    "res_data = data.merge(ext_data, how='inner', left_on='sk_id', right_on='sk_id')"
   ]
  },
  {
   "cell_type": "code",
   "execution_count": 97,
   "metadata": {
    "collapsed": true
   },
   "outputs": [],
   "source": [
    "res_data.drop(['sk_id'], axis=1, inplace=True)"
   ]
  },
  {
   "cell_type": "code",
   "execution_count": 98,
   "metadata": {},
   "outputs": [
    {
     "data": {
      "text/html": [
       "<div>\n",
       "<style scoped>\n",
       "    .dataframe tbody tr th:only-of-type {\n",
       "        vertical-align: middle;\n",
       "    }\n",
       "\n",
       "    .dataframe tbody tr th {\n",
       "        vertical-align: top;\n",
       "    }\n",
       "\n",
       "    .dataframe thead th {\n",
       "        text-align: right;\n",
       "    }\n",
       "</style>\n",
       "<table border=\"1\" class=\"dataframe\">\n",
       "  <thead>\n",
       "    <tr style=\"text-align: right;\">\n",
       "      <th></th>\n",
       "      <th>COM_CAT#1</th>\n",
       "      <th>COM_CAT#2</th>\n",
       "      <th>COM_CAT#3</th>\n",
       "      <th>BASE_TYPE</th>\n",
       "      <th>ACT</th>\n",
       "      <th>ARPU_GROUP</th>\n",
       "      <th>COM_CAT#7</th>\n",
       "      <th>COM_CAT#8</th>\n",
       "      <th>DEVICE_TYPE_ID</th>\n",
       "      <th>INTERNET_TYPE_ID</th>\n",
       "      <th>...</th>\n",
       "      <th>13 avga_y</th>\n",
       "      <th>13 maxa_y</th>\n",
       "      <th>14 sum_y</th>\n",
       "      <th>14 count_y</th>\n",
       "      <th>14 min_y</th>\n",
       "      <th>14 avg_y</th>\n",
       "      <th>14 max_y</th>\n",
       "      <th>14 mina_y</th>\n",
       "      <th>14 avga_y</th>\n",
       "      <th>14 maxa_y</th>\n",
       "    </tr>\n",
       "  </thead>\n",
       "  <tbody>\n",
       "    <tr>\n",
       "      <th>5216</th>\n",
       "      <td>1.0</td>\n",
       "      <td>30.0</td>\n",
       "      <td>5.0</td>\n",
       "      <td>2.0</td>\n",
       "      <td>1.0</td>\n",
       "      <td>9.0</td>\n",
       "      <td>1.0</td>\n",
       "      <td>184.0</td>\n",
       "      <td>5.0</td>\n",
       "      <td>2.0</td>\n",
       "      <td>...</td>\n",
       "      <td>0.000068</td>\n",
       "      <td>0.000087</td>\n",
       "      <td>0.257708</td>\n",
       "      <td>5.0</td>\n",
       "      <td>0.000060</td>\n",
       "      <td>0.000114</td>\n",
       "      <td>0.000181</td>\n",
       "      <td>0.000060</td>\n",
       "      <td>0.000076</td>\n",
       "      <td>0.000094</td>\n",
       "    </tr>\n",
       "    <tr>\n",
       "      <th>5217</th>\n",
       "      <td>4.0</td>\n",
       "      <td>5.0</td>\n",
       "      <td>2.0</td>\n",
       "      <td>2.0</td>\n",
       "      <td>1.0</td>\n",
       "      <td>10.0</td>\n",
       "      <td>2.0</td>\n",
       "      <td>1322.0</td>\n",
       "      <td>5.0</td>\n",
       "      <td>2.0</td>\n",
       "      <td>...</td>\n",
       "      <td>0.000464</td>\n",
       "      <td>0.000601</td>\n",
       "      <td>0.135208</td>\n",
       "      <td>6.0</td>\n",
       "      <td>0.000000</td>\n",
       "      <td>0.000057</td>\n",
       "      <td>0.000616</td>\n",
       "      <td>0.000000</td>\n",
       "      <td>0.000057</td>\n",
       "      <td>0.000616</td>\n",
       "    </tr>\n",
       "    <tr>\n",
       "      <th>5218</th>\n",
       "      <td>5.0</td>\n",
       "      <td>48.0</td>\n",
       "      <td>5.0</td>\n",
       "      <td>2.0</td>\n",
       "      <td>1.0</td>\n",
       "      <td>1.0</td>\n",
       "      <td>4.0</td>\n",
       "      <td>0.0</td>\n",
       "      <td>3.0</td>\n",
       "      <td>3.0</td>\n",
       "      <td>...</td>\n",
       "      <td>0.000000</td>\n",
       "      <td>0.000000</td>\n",
       "      <td>0.230278</td>\n",
       "      <td>2.0</td>\n",
       "      <td>0.000171</td>\n",
       "      <td>0.000171</td>\n",
       "      <td>0.000171</td>\n",
       "      <td>0.000000</td>\n",
       "      <td>0.000000</td>\n",
       "      <td>0.000000</td>\n",
       "    </tr>\n",
       "    <tr>\n",
       "      <th>5219</th>\n",
       "      <td>1.0</td>\n",
       "      <td>30.0</td>\n",
       "      <td>5.0</td>\n",
       "      <td>2.0</td>\n",
       "      <td>1.0</td>\n",
       "      <td>12.0</td>\n",
       "      <td>1.0</td>\n",
       "      <td>795.0</td>\n",
       "      <td>5.0</td>\n",
       "      <td>2.0</td>\n",
       "      <td>...</td>\n",
       "      <td>0.000042</td>\n",
       "      <td>0.000054</td>\n",
       "      <td>0.158958</td>\n",
       "      <td>11.0</td>\n",
       "      <td>0.000026</td>\n",
       "      <td>0.000096</td>\n",
       "      <td>0.000243</td>\n",
       "      <td>0.000026</td>\n",
       "      <td>0.000093</td>\n",
       "      <td>0.000243</td>\n",
       "    </tr>\n",
       "    <tr>\n",
       "      <th>5220</th>\n",
       "      <td>4.0</td>\n",
       "      <td>54.0</td>\n",
       "      <td>5.0</td>\n",
       "      <td>2.0</td>\n",
       "      <td>1.0</td>\n",
       "      <td>1.0</td>\n",
       "      <td>3.0</td>\n",
       "      <td>1324.0</td>\n",
       "      <td>5.0</td>\n",
       "      <td>2.0</td>\n",
       "      <td>...</td>\n",
       "      <td>0.000000</td>\n",
       "      <td>0.000000</td>\n",
       "      <td>0.026389</td>\n",
       "      <td>2.0</td>\n",
       "      <td>0.000000</td>\n",
       "      <td>0.000334</td>\n",
       "      <td>0.000571</td>\n",
       "      <td>0.000000</td>\n",
       "      <td>0.000334</td>\n",
       "      <td>0.000571</td>\n",
       "    </tr>\n",
       "  </tbody>\n",
       "</table>\n",
       "<p>5 rows × 18408 columns</p>\n",
       "</div>"
      ],
      "text/plain": [
       "      COM_CAT#1  COM_CAT#2  COM_CAT#3  BASE_TYPE  ACT  ARPU_GROUP  COM_CAT#7  \\\n",
       "5216        1.0       30.0        5.0        2.0  1.0         9.0        1.0   \n",
       "5217        4.0        5.0        2.0        2.0  1.0        10.0        2.0   \n",
       "5218        5.0       48.0        5.0        2.0  1.0         1.0        4.0   \n",
       "5219        1.0       30.0        5.0        2.0  1.0        12.0        1.0   \n",
       "5220        4.0       54.0        5.0        2.0  1.0         1.0        3.0   \n",
       "\n",
       "      COM_CAT#8  DEVICE_TYPE_ID  INTERNET_TYPE_ID    ...      13 avga_y  \\\n",
       "5216      184.0             5.0               2.0    ...       0.000068   \n",
       "5217     1322.0             5.0               2.0    ...       0.000464   \n",
       "5218        0.0             3.0               3.0    ...       0.000000   \n",
       "5219      795.0             5.0               2.0    ...       0.000042   \n",
       "5220     1324.0             5.0               2.0    ...       0.000000   \n",
       "\n",
       "      13 maxa_y  14 sum_y  14 count_y  14 min_y  14 avg_y  14 max_y  \\\n",
       "5216   0.000087  0.257708         5.0  0.000060  0.000114  0.000181   \n",
       "5217   0.000601  0.135208         6.0  0.000000  0.000057  0.000616   \n",
       "5218   0.000000  0.230278         2.0  0.000171  0.000171  0.000171   \n",
       "5219   0.000054  0.158958        11.0  0.000026  0.000096  0.000243   \n",
       "5220   0.000000  0.026389         2.0  0.000000  0.000334  0.000571   \n",
       "\n",
       "      14 mina_y  14 avga_y  14 maxa_y  \n",
       "5216   0.000060   0.000076   0.000094  \n",
       "5217   0.000000   0.000057   0.000616  \n",
       "5218   0.000000   0.000000   0.000000  \n",
       "5219   0.000026   0.000093   0.000243  \n",
       "5220   0.000000   0.000334   0.000571  \n",
       "\n",
       "[5 rows x 18408 columns]"
      ]
     },
     "execution_count": 98,
     "metadata": {},
     "output_type": "execute_result"
    }
   ],
   "source": [
    "res_data.tail()"
   ]
  },
  {
   "cell_type": "code",
   "execution_count": 99,
   "metadata": {
    "collapsed": true
   },
   "outputs": [],
   "source": [
    "res_data.fillna(0, inplace=True)"
   ]
  },
  {
   "cell_type": "code",
   "execution_count": 100,
   "metadata": {
    "collapsed": true
   },
   "outputs": [],
   "source": [
    "from sklearn import preprocessing"
   ]
  },
  {
   "cell_type": "code",
   "execution_count": 101,
   "metadata": {
    "collapsed": true
   },
   "outputs": [],
   "source": [
    "if TRAIN:\n",
    "    min_max_scaler = preprocessing.MinMaxScaler()\n",
    "    x_scaled = min_max_scaler.fit_transform(res_data.values)\n",
    "    res_data = pd.DataFrame(x_scaled)\n",
    "else:\n",
    "    x_scaled = min_max_scaler.transform(res_data.values)\n",
    "    res_data = pd.DataFrame(x_scaled)"
   ]
  },
  {
   "cell_type": "code",
   "execution_count": 102,
   "metadata": {
    "collapsed": true
   },
   "outputs": [],
   "source": [
    "X = np.asarray(res_data)\n",
    "y = np.asarray(y)"
   ]
  },
  {
   "cell_type": "code",
   "execution_count": 43,
   "metadata": {
    "collapsed": true
   },
   "outputs": [],
   "source": [
    "from sklearn.model_selection import train_test_split"
   ]
  },
  {
   "cell_type": "code",
   "execution_count": 44,
   "metadata": {
    "collapsed": true
   },
   "outputs": [],
   "source": [
    "X_train, X_test, y_train, y_test = train_test_split(X, y, test_size=0.2, random_state=42)"
   ]
  },
  {
   "cell_type": "code",
   "execution_count": null,
   "metadata": {
    "collapsed": true
   },
   "outputs": [],
   "source": []
  },
  {
   "cell_type": "code",
   "execution_count": 45,
   "metadata": {
    "collapsed": true
   },
   "outputs": [],
   "source": [
    "from sklearn.utils.class_weight import compute_class_weight\n",
    "class_weights = compute_class_weight('balanced', np.unique(y_train), y_train)"
   ]
  },
  {
   "cell_type": "code",
   "execution_count": 46,
   "metadata": {
    "collapsed": true
   },
   "outputs": [],
   "source": [
    "from keras.models import Sequential\n",
    "from keras.layers import Dense, Dropout\n",
    "from keras.utils import np_utils\n",
    "from keras.callbacks import EarlyStopping\n",
    "from sklearn.model_selection import train_test_split"
   ]
  },
  {
   "cell_type": "code",
   "execution_count": 47,
   "metadata": {
    "collapsed": true
   },
   "outputs": [],
   "source": [
    "from sklearn.metrics import roc_auc_score\n",
    "from keras import regularizers"
   ]
  },
  {
   "cell_type": "code",
   "execution_count": 48,
   "metadata": {
    "collapsed": true
   },
   "outputs": [],
   "source": [
    "from sklearn import metrics\n",
    "from keras import backend as K\n",
    "import tensorflow as tf\n",
    "def auc(y_true, y_pred):\n",
    "    auc = tf.metrics.auc(y_true, y_pred)[1]\n",
    "    K.get_session().run(tf.local_variables_initializer())\n",
    "    return auc"
   ]
  },
  {
   "cell_type": "code",
   "execution_count": 49,
   "metadata": {
    "collapsed": true
   },
   "outputs": [],
   "source": [
    "def create_dnn_model():\n",
    "    #build Keras model\n",
    "    \n",
    "    model = Sequential()\n",
    "\n",
    "    model.add(Dense(1024, input_shape=(X.shape[1],), activation=\"relu\", kernel_initializer=\"uniform\", kernel_regularizer=regularizers.l2(0.0001)))\n",
    "    model.add(Dropout(0.5))\n",
    "    model.add(Dense(1024, activation=\"relu\", kernel_initializer=\"uniform\", kernel_regularizer=regularizers.l2(0.001)))\n",
    "    model.add(Dropout(0.5))\n",
    "    model.add(Dense(1024, activation=\"relu\", kernel_initializer=\"uniform\", kernel_regularizer=regularizers.l2(0.001)))\n",
    "    model.add(Dropout(0.5))\n",
    "    model.add(Dense(1024, activation=\"relu\", kernel_initializer=\"uniform\", kernel_regularizer=regularizers.l2(0.001)))\n",
    "    model.add(Dropout(0.5))\n",
    "    model.add(Dense(1024, activation=\"relu\", kernel_initializer=\"uniform\", kernel_regularizer=regularizers.l2(0.001)))\n",
    "    model.add(Dropout(0.5))\n",
    "    model.add(Dense(1024, activation=\"relu\", kernel_initializer=\"uniform\", kernel_regularizer=regularizers.l2(0.001)))\n",
    "    model.add(Dropout(0.5))\n",
    "    model.add(Dense(1024, activation=\"relu\", kernel_initializer=\"uniform\", kernel_regularizer=regularizers.l2(0.001)))\n",
    "    model.add(Dropout(0.5))\n",
    "    model.add(Dense(1024, activation=\"relu\", kernel_initializer=\"uniform\", kernel_regularizer=regularizers.l2(0.001)))\n",
    "    model.add(Dropout(0.5))\n",
    "    model.add(Dense(1024, activation=\"relu\", kernel_initializer=\"uniform\", kernel_regularizer=regularizers.l2(0.001)))\n",
    "    model.add(Dropout(0.5))\n",
    "    model.add(Dense(1024, activation=\"relu\", kernel_initializer=\"uniform\", kernel_regularizer=regularizers.l2(0.001)))\n",
    "    model.add(Dropout(0.5))\n",
    "    model.add(Dense(1024, activation=\"relu\", kernel_initializer=\"uniform\", kernel_regularizer=regularizers.l2(0.001)))\n",
    "\n",
    "    \n",
    "    model.add(Dense(1, activation=\"sigmoid\", kernel_initializer=\"uniform\"))\n",
    "\n",
    "    model.compile(loss='binary_crossentropy', metrics=[auc], optimizer='adam')\n",
    "    return model"
   ]
  },
  {
   "cell_type": "code",
   "execution_count": 58,
   "metadata": {},
   "outputs": [
    {
     "data": {
      "image/png": "[encoded data removed]",
      "text/plain": [
       "<matplotlib.figure.Figure at 0x2889c7086a0>"
      ]
     },
     "metadata": {},
     "output_type": "display_data"
    },
    {
     "name": "stdout",
     "output_type": "stream",
     "text": [
      "\b\b\b\b\b\b\b\b\b\b\b\b\b\b\b\b\b\b\b\b\b\b\b\b\b\b\b\b\b\b\b\b\b\b\b\b\b\b\b\b\b\b\b\b\b\b\b\b\b\b\b\b\b\b\b\b\b\b\b\b\b\b\b\b\b\b\b\b\b\b\b\b\b\b\b\b\b\b\b\b\b\r",
      "3377/3377 [==============================] - 18s 5ms/step - loss: 0.4356 - auc: 0.5867 - val_loss: 0.4903 - val_auc: 0.5870\n"
     ]
    }
   ],
   "source": [
    "count_epochs = 100\n",
    "model = create_dnn_model()\n",
    "early_stopping_monitor = EarlyStopping(patience=20)\n",
    "history = model.fit(np.array(X), np.array(y), batch_size = 128, epochs = count_epochs, verbose=1, validation_split=0.2, class_weight=class_weights, callbacks=[plot,early_stopping_monitor])"
   ]
  },
  {
   "cell_type": "code",
   "execution_count": 105,
   "metadata": {
    "collapsed": true
   },
   "outputs": [],
   "source": [
    "send_notify('Complete fit')"
   ]
  },
  {
   "cell_type": "code",
   "execution_count": null,
   "metadata": {
    "collapsed": true
   },
   "outputs": [],
   "source": []
  },
  {
   "cell_type": "code",
   "execution_count": 59,
   "metadata": {},
   "outputs": [
    {
     "data": {
      "image/png": "[encoded data removed]",
      "text/plain": [
       "<matplotlib.figure.Figure at 0x28890a1e550>"
      ]
     },
     "metadata": {},
     "output_type": "display_data"
    }
   ],
   "source": [
    "epochs = range(1, 69 + 1)\n",
    "history_gr = history.history['val_loss']\n",
    "import matplotlib.pyplot as plt\n",
    "\n",
    "plt.plot(epochs, history_gr, 'b+', label='Original model')\n",
    "plt.xlabel('Epochs')\n",
    "plt.ylabel('Validation loss')\n",
    "plt.legend()\n",
    "\n",
    "plt.show()"
   ]
  },
  {
   "cell_type": "code",
   "execution_count": null,
   "metadata": {
    "collapsed": true
   },
   "outputs": [],
   "source": []
  },
  {
   "cell_type": "code",
   "execution_count": 57,
   "metadata": {},
   "outputs": [
    {
     "name": "stdout",
     "output_type": "stream",
     "text": [
      "Total roc auc score = 0.5192\n"
     ]
    }
   ],
   "source": [
    "predict = model.predict(np.array(X_test))\n",
    "score = roc_auc_score(y_test, predict)\n",
    "print(\"Total roc auc score = {0:0.4f}\".format(score))"
   ]
  },
  {
   "cell_type": "code",
   "execution_count": null,
   "metadata": {
    "collapsed": true
   },
   "outputs": [],
   "source": []
  },
  {
   "cell_type": "code",
   "execution_count": 60,
   "metadata": {
    "collapsed": true
   },
   "outputs": [],
   "source": [
    "model_json = model.to_json()\n",
    "# Записываем модель в файл\n",
    "json_file = open(\"sale_model.json\", \"w\")\n",
    "json_file.write(model_json)\n",
    "json_file.close()\n",
    "model.save_weights(\"sale_model.h5\")"
   ]
  },
  {
   "cell_type": "code",
   "execution_count": null,
   "metadata": {
    "collapsed": true
   },
   "outputs": [],
   "source": []
  },
  {
   "cell_type": "code",
   "execution_count": 103,
   "metadata": {
    "collapsed": true
   },
   "outputs": [],
   "source": [
    "def save_predict(predict):\n",
    "    with open('first.csv', 'w') as f:\n",
    "        for item in predict:\n",
    "            f.write(\"%s\\n\" % item[0])"
   ]
  },
  {
   "cell_type": "code",
   "execution_count": 104,
   "metadata": {
    "collapsed": true
   },
   "outputs": [],
   "source": [
    "save_predict(model.predict(np.array(X)))"
   ]
  },
  {
   "cell_type": "code",
   "execution_count": null,
   "metadata": {
    "collapsed": true
   },
   "outputs": [],
   "source": []
  }
 ],
 "metadata": {
  "kernelspec": {
   "display_name": "Python 3",
   "language": "python",
   "name": "python3"
  },
  "language_info": {
   "codemirror_mode": {
    "name": "ipython",
    "version": 3
   },
   "file_extension": ".py",
   "mimetype": "text/x-python",
   "name": "python",
   "nbconvert_exporter": "python",
   "pygments_lexer": "ipython3",
   "version": "3.6.3"
  }
 },
 "nbformat": 4,
 "nbformat_minor": 2
}
