{
 "cells": [
  {
   "cell_type": "code",
   "execution_count": 1,
   "metadata": {
    "collapsed": true
   },
   "outputs": [],
   "source": [
    "import pandas as pd\n",
    "import numpy as np\n",
    "from datetime import datetime\n",
    "from collections import defaultdict\n",
    "from functools import wraps"
   ]
  },
  {
   "cell_type": "code",
   "execution_count": 2,
   "metadata": {
    "collapsed": true
   },
   "outputs": [],
   "source": [
    "import telepot\n",
    "def send_notify(text):\n",
    "    with open('../../_access_keys/telegram_token.txt', 'r') as content_file:\n",
    "        token = content_file.read()\n",
    "    with open('../../_access_keys/user.txt', 'r') as content_file:\n",
    "        user = content_file.read()\n",
    "    try:\n",
    "        TelegramBot = telepot.Bot(token)\n",
    "        TelegramBot.sendMessage(int(user), text)\n",
    "    except:\n",
    "        pass"
   ]
  },
  {
   "cell_type": "code",
   "execution_count": null,
   "metadata": {
    "collapsed": true
   },
   "outputs": [],
   "source": []
  },
  {
   "cell_type": "code",
   "execution_count": null,
   "metadata": {
    "collapsed": true
   },
   "outputs": [],
   "source": []
  },
  {
   "cell_type": "code",
   "execution_count": 3,
   "metadata": {
    "collapsed": true
   },
   "outputs": [],
   "source": [
    "TRAIN = True"
   ]
  },
  {
   "cell_type": "code",
   "execution_count": 4,
   "metadata": {
    "collapsed": true
   },
   "outputs": [],
   "source": [
    "DEBUG = True"
   ]
  },
  {
   "cell_type": "code",
   "execution_count": 5,
   "metadata": {
    "collapsed": true
   },
   "outputs": [],
   "source": [
    "def execution_time_log(func):\n",
    "    @wraps(func)\n",
    "    def result_func(*args, **kwargs):\n",
    "        start = datetime.now()\n",
    "        result = func(*args, **kwargs)\n",
    "        if DEBUG:\n",
    "            print('execution time', func.__name__, datetime.now() - start)\n",
    "        return result\n",
    "    return result_func"
   ]
  },
  {
   "cell_type": "code",
   "execution_count": 6,
   "metadata": {
    "collapsed": true
   },
   "outputs": [],
   "source": [
    "path = 'C:/data/mlbootcamp/dataset/'\n",
    "path_train = path + 'train/'\n",
    "path_test = path + 'test/'\n",
    "pathfeatures = 'features/'\n",
    "if TRAIN:\n",
    "    pathfiles = path_train\n",
    "    path_subs_bs_consumption = 'subs_bs_consumption_train.csv'\n",
    "    path_subs_bs_data_session = 'subs_bs_data_session_train.csv'\n",
    "    path_subs_bs_voice_session = 'subs_bs_voice_session_train.csv'\n",
    "    path_subs_features = 'subs_features_train.csv'\n",
    "    path_subs_csi = 'subs_csi_train.csv'\n",
    "else:\n",
    "    pathfiles = path_test\n",
    "    path_subs_bs_consumption = 'subs_bs_consumption_test.csv'\n",
    "    path_subs_bs_data_session = 'subs_bs_data_session_test.csv'\n",
    "    path_subs_bs_voice_session = 'subs_bs_voice_session_test.csv'\n",
    "    path_subs_features = 'subs_features_test.csv'\n",
    "    path_subs_csi = 'subs_csi_test.csv'"
   ]
  },
  {
   "cell_type": "code",
   "execution_count": null,
   "metadata": {
    "collapsed": true
   },
   "outputs": [],
   "source": []
  },
  {
   "cell_type": "code",
   "execution_count": 7,
   "metadata": {
    "collapsed": true
   },
   "outputs": [],
   "source": [
    "subs_csi = pd.read_csv(pathfiles + path_subs_csi, sep=';', decimal=',')"
   ]
  },
  {
   "cell_type": "code",
   "execution_count": 8,
   "metadata": {},
   "outputs": [
    {
     "data": {
      "text/html": [
       "<div>\n",
       "<style scoped>\n",
       "    .dataframe tbody tr th:only-of-type {\n",
       "        vertical-align: middle;\n",
       "    }\n",
       "\n",
       "    .dataframe tbody tr th {\n",
       "        vertical-align: top;\n",
       "    }\n",
       "\n",
       "    .dataframe thead th {\n",
       "        text-align: right;\n",
       "    }\n",
       "</style>\n",
       "<table border=\"1\" class=\"dataframe\">\n",
       "  <thead>\n",
       "    <tr style=\"text-align: right;\">\n",
       "      <th></th>\n",
       "      <th>SK_ID</th>\n",
       "      <th>CSI</th>\n",
       "      <th>CONTACT_DATE</th>\n",
       "    </tr>\n",
       "  </thead>\n",
       "  <tbody>\n",
       "    <tr>\n",
       "      <th>0</th>\n",
       "      <td>2</td>\n",
       "      <td>0</td>\n",
       "      <td>04.05</td>\n",
       "    </tr>\n",
       "    <tr>\n",
       "      <th>1</th>\n",
       "      <td>3</td>\n",
       "      <td>0</td>\n",
       "      <td>21.05</td>\n",
       "    </tr>\n",
       "    <tr>\n",
       "      <th>2</th>\n",
       "      <td>4</td>\n",
       "      <td>0</td>\n",
       "      <td>27.05</td>\n",
       "    </tr>\n",
       "    <tr>\n",
       "      <th>3</th>\n",
       "      <td>5</td>\n",
       "      <td>0</td>\n",
       "      <td>08.05</td>\n",
       "    </tr>\n",
       "    <tr>\n",
       "      <th>4</th>\n",
       "      <td>6</td>\n",
       "      <td>1</td>\n",
       "      <td>06.05</td>\n",
       "    </tr>\n",
       "  </tbody>\n",
       "</table>\n",
       "</div>"
      ],
      "text/plain": [
       "   SK_ID  CSI CONTACT_DATE\n",
       "0      2    0        04.05\n",
       "1      3    0        21.05\n",
       "2      4    0        27.05\n",
       "3      5    0        08.05\n",
       "4      6    1        06.05"
      ]
     },
     "execution_count": 8,
     "metadata": {},
     "output_type": "execute_result"
    }
   ],
   "source": [
    "subs_csi.head()"
   ]
  },
  {
   "cell_type": "code",
   "execution_count": 9,
   "metadata": {
    "collapsed": true
   },
   "outputs": [],
   "source": [
    "def convert_date(x):\n",
    "    dt = datetime.strptime(str(x), '%d.%m')\n",
    "    return 100 * dt.month + dt.day"
   ]
  },
  {
   "cell_type": "code",
   "execution_count": 10,
   "metadata": {
    "collapsed": true
   },
   "outputs": [],
   "source": [
    "user_dates = {i[0]:convert_date(i[1]) for i in zip(list(subs_csi['SK_ID']), list(subs_csi['CONTACT_DATE']))}"
   ]
  },
  {
   "cell_type": "code",
   "execution_count": 11,
   "metadata": {
    "collapsed": true
   },
   "outputs": [],
   "source": [
    "indexes_users = {i[1]:i[0] for i in enumerate(subs_csi['SK_ID'].unique())}"
   ]
  },
  {
   "cell_type": "code",
   "execution_count": null,
   "metadata": {
    "collapsed": true
   },
   "outputs": [],
   "source": []
  },
  {
   "cell_type": "code",
   "execution_count": 12,
   "metadata": {
    "collapsed": true
   },
   "outputs": [],
   "source": [
    "subs_bs_voice_session = pd.read_csv(pathfiles + path_subs_bs_voice_session, sep=';', decimal=',')"
   ]
  },
  {
   "cell_type": "code",
   "execution_count": 13,
   "metadata": {
    "collapsed": true
   },
   "outputs": [],
   "source": [
    "subs_bs_voice_session['day'] = subs_bs_voice_session['START_TIME'].apply(lambda x:datetime.strptime(x, '%d.%m %H:%M:%S'))"
   ]
  },
  {
   "cell_type": "code",
   "execution_count": 14,
   "metadata": {},
   "outputs": [
    {
     "data": {
      "text/html": [
       "<div>\n",
       "<style scoped>\n",
       "    .dataframe tbody tr th:only-of-type {\n",
       "        vertical-align: middle;\n",
       "    }\n",
       "\n",
       "    .dataframe tbody tr th {\n",
       "        vertical-align: top;\n",
       "    }\n",
       "\n",
       "    .dataframe thead th {\n",
       "        text-align: right;\n",
       "    }\n",
       "</style>\n",
       "<table border=\"1\" class=\"dataframe\">\n",
       "  <thead>\n",
       "    <tr style=\"text-align: right;\">\n",
       "      <th></th>\n",
       "      <th>SK_ID</th>\n",
       "      <th>CELL_LAC_ID</th>\n",
       "      <th>VOICE_DUR_MIN</th>\n",
       "      <th>START_TIME</th>\n",
       "      <th>day</th>\n",
       "    </tr>\n",
       "  </thead>\n",
       "  <tbody>\n",
       "    <tr>\n",
       "      <th>0</th>\n",
       "      <td>373</td>\n",
       "      <td>269094</td>\n",
       "      <td>0.001597</td>\n",
       "      <td>27.04 23:00:00</td>\n",
       "      <td>1900-04-27 23:00:00</td>\n",
       "    </tr>\n",
       "  </tbody>\n",
       "</table>\n",
       "</div>"
      ],
      "text/plain": [
       "   SK_ID  CELL_LAC_ID  VOICE_DUR_MIN      START_TIME                 day\n",
       "0    373       269094       0.001597  27.04 23:00:00 1900-04-27 23:00:00"
      ]
     },
     "execution_count": 14,
     "metadata": {},
     "output_type": "execute_result"
    }
   ],
   "source": [
    "subs_bs_voice_session.head(1)"
   ]
  },
  {
   "cell_type": "code",
   "execution_count": null,
   "metadata": {
    "collapsed": true
   },
   "outputs": [],
   "source": []
  },
  {
   "cell_type": "code",
   "execution_count": null,
   "metadata": {
    "collapsed": true
   },
   "outputs": [],
   "source": []
  },
  {
   "cell_type": "code",
   "execution_count": null,
   "metadata": {
    "collapsed": true
   },
   "outputs": [],
   "source": []
  },
  {
   "cell_type": "code",
   "execution_count": null,
   "metadata": {
    "collapsed": true
   },
   "outputs": [],
   "source": []
  },
  {
   "cell_type": "code",
   "execution_count": null,
   "metadata": {
    "collapsed": true
   },
   "outputs": [],
   "source": []
  },
  {
   "cell_type": "code",
   "execution_count": 15,
   "metadata": {
    "collapsed": true
   },
   "outputs": [],
   "source": [
    "subs_bs_data_session = pd.read_csv(pathfiles + path_subs_bs_data_session, sep=';', decimal=',')"
   ]
  },
  {
   "cell_type": "code",
   "execution_count": 16,
   "metadata": {
    "collapsed": true
   },
   "outputs": [],
   "source": [
    "subs_bs_data_session['day'] = subs_bs_data_session['START_TIME'].apply(lambda x:datetime.strptime(x, '%d.%m %H:%M:%S'))"
   ]
  },
  {
   "cell_type": "code",
   "execution_count": 17,
   "metadata": {},
   "outputs": [
    {
     "data": {
      "text/html": [
       "<div>\n",
       "<style scoped>\n",
       "    .dataframe tbody tr th:only-of-type {\n",
       "        vertical-align: middle;\n",
       "    }\n",
       "\n",
       "    .dataframe tbody tr th {\n",
       "        vertical-align: top;\n",
       "    }\n",
       "\n",
       "    .dataframe thead th {\n",
       "        text-align: right;\n",
       "    }\n",
       "</style>\n",
       "<table border=\"1\" class=\"dataframe\">\n",
       "  <thead>\n",
       "    <tr style=\"text-align: right;\">\n",
       "      <th></th>\n",
       "      <th>SK_ID</th>\n",
       "      <th>CELL_LAC_ID</th>\n",
       "      <th>DATA_VOL_MB</th>\n",
       "      <th>START_TIME</th>\n",
       "      <th>day</th>\n",
       "    </tr>\n",
       "  </thead>\n",
       "  <tbody>\n",
       "    <tr>\n",
       "      <th>0</th>\n",
       "      <td>3853</td>\n",
       "      <td>61951</td>\n",
       "      <td>0.000004</td>\n",
       "      <td>04.04 05:00:00</td>\n",
       "      <td>1900-04-04 05:00:00</td>\n",
       "    </tr>\n",
       "  </tbody>\n",
       "</table>\n",
       "</div>"
      ],
      "text/plain": [
       "   SK_ID  CELL_LAC_ID  DATA_VOL_MB      START_TIME                 day\n",
       "0   3853        61951     0.000004  04.04 05:00:00 1900-04-04 05:00:00"
      ]
     },
     "execution_count": 17,
     "metadata": {},
     "output_type": "execute_result"
    }
   ],
   "source": [
    "subs_bs_data_session.head(1)"
   ]
  },
  {
   "cell_type": "code",
   "execution_count": null,
   "metadata": {
    "collapsed": true
   },
   "outputs": [],
   "source": []
  },
  {
   "cell_type": "code",
   "execution_count": null,
   "metadata": {
    "collapsed": true
   },
   "outputs": [],
   "source": []
  },
  {
   "cell_type": "code",
   "execution_count": null,
   "metadata": {
    "collapsed": true
   },
   "outputs": [],
   "source": []
  },
  {
   "cell_type": "code",
   "execution_count": 18,
   "metadata": {
    "collapsed": true
   },
   "outputs": [],
   "source": [
    "user_data_session = defaultdict()\n",
    "for i in subs_bs_data_session.values:\n",
    "    sk_id = i[0]\n",
    "    dt = i[4]\n",
    "    cell_id = i[1]\n",
    "    key = (sk_id, dt.month, dt.day)\n",
    "    user_data_session.setdefault(key, defaultdict()).setdefault(cell_id, 0)\n",
    "    user_data_session[key][cell_id] += i[2]"
   ]
  },
  {
   "cell_type": "code",
   "execution_count": 19,
   "metadata": {
    "collapsed": true
   },
   "outputs": [],
   "source": [
    "user_voice_session = defaultdict()\n",
    "for i in subs_bs_voice_session.values:\n",
    "    sk_id = i[0]\n",
    "    dt = i[4]\n",
    "    cell_id = i[1]\n",
    "    key = (sk_id, dt.month, dt.day)\n",
    "    user_voice_session.setdefault(key, defaultdict()).setdefault(cell_id, 0)\n",
    "    user_voice_session[key][cell_id] += i[2]"
   ]
  },
  {
   "cell_type": "code",
   "execution_count": null,
   "metadata": {
    "collapsed": true
   },
   "outputs": [],
   "source": []
  },
  {
   "cell_type": "code",
   "execution_count": null,
   "metadata": {
    "collapsed": true
   },
   "outputs": [],
   "source": []
  },
  {
   "cell_type": "code",
   "execution_count": null,
   "metadata": {
    "collapsed": true
   },
   "outputs": [],
   "source": []
  },
  {
   "cell_type": "code",
   "execution_count": null,
   "metadata": {
    "collapsed": true
   },
   "outputs": [],
   "source": []
  },
  {
   "cell_type": "code",
   "execution_count": null,
   "metadata": {
    "collapsed": true
   },
   "outputs": [],
   "source": []
  },
  {
   "cell_type": "code",
   "execution_count": null,
   "metadata": {
    "collapsed": true
   },
   "outputs": [],
   "source": []
  },
  {
   "cell_type": "code",
   "execution_count": null,
   "metadata": {
    "collapsed": true
   },
   "outputs": [],
   "source": []
  },
  {
   "cell_type": "code",
   "execution_count": 20,
   "metadata": {
    "collapsed": true
   },
   "outputs": [],
   "source": [
    "columns = ['CELL_AVAILABILITY_2G', 'CELL_AVAILABILITY_3G',\n",
    "       'CELL_AVAILABILITY_4G', 'CSSR_2G', 'CSSR_3G',\n",
    "       'ERAB_PS_BLOCKING_RATE_LTE', 'ERAB_PS_BLOCKING_RATE_PLMN_LTE',\n",
    "       'ERAB_PS_DROP_RATE_LTE', 'HSPDSCH_CODE_UTIL_3G',\n",
    "       'NODEB_CNBAP_LOAD_HARDWARE', 'PART_CQI_QPSK_LTE', 'PART_MCS_QPSK_LTE',\n",
    "       'PROC_LOAD_3G', 'PSSR_2G', 'PSSR_3G', 'PSSR_LTE',\n",
    "       'RAB_CS_BLOCKING_RATE_3G', 'RAB_CS_DROP_RATE_3G',\n",
    "       'RAB_PS_BLOCKING_RATE_3G', 'RAB_PS_DROP_RATE_3G', 'RBU_AVAIL_DL',\n",
    "       'RBU_AVAIL_DL_LTE', 'RBU_AVAIL_UL', 'RBU_OTHER_DL', 'RBU_OTHER_UL',\n",
    "       'RBU_OWN_DL', 'RBU_OWN_UL', 'RRC_BLOCKING_RATE_3G',\n",
    "       'RRC_BLOCKING_RATE_LTE', 'RTWP_3G', 'SHO_FACTOR', 'TBF_DROP_RATE_2G',\n",
    "       'TCH_DROP_RATE_2G', 'UTIL_BRD_CPU_3G', 'UTIL_CE_DL_3G',\n",
    "       'UTIL_CE_HW_DL_3G', 'UTIL_CE_UL_3G', 'UTIL_SUBUNITS_3G',\n",
    "       'UL_VOLUME_LTE', 'DL_VOLUME_LTE', 'TOTAL_DL_VOLUME_3G',\n",
    "       'TOTAL_UL_VOLUME_3G']"
   ]
  },
  {
   "cell_type": "code",
   "execution_count": 21,
   "metadata": {
    "collapsed": true
   },
   "outputs": [],
   "source": [
    "columns = ['UTIL_BRD_CPU_3G', 'UTIL_CE_DL_3G',\n",
    "       'UTIL_CE_HW_DL_3G', 'UTIL_CE_UL_3G', 'UTIL_SUBUNITS_3G',\n",
    "       'UL_VOLUME_LTE', 'DL_VOLUME_LTE', 'TOTAL_DL_VOLUME_3G',\n",
    "       'TOTAL_UL_VOLUME_3G']"
   ]
  },
  {
   "cell_type": "code",
   "execution_count": null,
   "metadata": {
    "collapsed": true
   },
   "outputs": [],
   "source": []
  },
  {
   "cell_type": "code",
   "execution_count": null,
   "metadata": {
    "collapsed": true
   },
   "outputs": [],
   "source": []
  },
  {
   "cell_type": "code",
   "execution_count": null,
   "metadata": {
    "collapsed": true
   },
   "outputs": [],
   "source": []
  },
  {
   "cell_type": "code",
   "execution_count": 22,
   "metadata": {
    "collapsed": true
   },
   "outputs": [],
   "source": [
    "bs_avg_kpi = pd.read_csv(path + 'bs_avg_kpi.csv', sep=';', usecols=['T_DATE', 'CELL_LAC_ID'])"
   ]
  },
  {
   "cell_type": "code",
   "execution_count": 23,
   "metadata": {
    "collapsed": true
   },
   "outputs": [],
   "source": [
    "bs_avg_kpi['T_DATE'] = bs_avg_kpi['T_DATE'].apply(lambda x:datetime.strptime(str(x), '%d.%m'))"
   ]
  },
  {
   "cell_type": "code",
   "execution_count": null,
   "metadata": {
    "collapsed": true
   },
   "outputs": [],
   "source": []
  },
  {
   "cell_type": "code",
   "execution_count": 24,
   "metadata": {
    "collapsed": true
   },
   "outputs": [],
   "source": [
    "dates_line = list(bs_avg_kpi['T_DATE'].apply(lambda x:100*x.month + x.day))\n",
    "cells_line = list(bs_avg_kpi['CELL_LAC_ID'])"
   ]
  },
  {
   "cell_type": "code",
   "execution_count": 25,
   "metadata": {
    "collapsed": true
   },
   "outputs": [],
   "source": [
    "start_date = bs_avg_kpi['T_DATE'].min()\n",
    "finish_date = bs_avg_kpi['T_DATE'].max()"
   ]
  },
  {
   "cell_type": "code",
   "execution_count": null,
   "metadata": {
    "collapsed": true
   },
   "outputs": [],
   "source": []
  },
  {
   "cell_type": "code",
   "execution_count": 26,
   "metadata": {
    "collapsed": true
   },
   "outputs": [],
   "source": [
    "indexes_cells = {i[1]:i[0] for i in enumerate(bs_avg_kpi['CELL_LAC_ID'].unique())}"
   ]
  },
  {
   "cell_type": "code",
   "execution_count": 27,
   "metadata": {
    "collapsed": true
   },
   "outputs": [],
   "source": [
    "from datetime import timedelta\n",
    "indexes_dates = {}\n",
    "for i in enumerate(range((finish_date - start_date).days + 1)):\n",
    "    cur_date = start_date + timedelta(days=i[1])\n",
    "    indexes_dates[100*cur_date.month + cur_date.day] = i[0]"
   ]
  },
  {
   "cell_type": "code",
   "execution_count": null,
   "metadata": {
    "collapsed": true
   },
   "outputs": [],
   "source": []
  },
  {
   "cell_type": "code",
   "execution_count": null,
   "metadata": {
    "collapsed": true
   },
   "outputs": [],
   "source": []
  },
  {
   "cell_type": "code",
   "execution_count": null,
   "metadata": {
    "collapsed": true
   },
   "outputs": [],
   "source": []
  },
  {
   "cell_type": "code",
   "execution_count": null,
   "metadata": {
    "collapsed": true
   },
   "outputs": [],
   "source": []
  },
  {
   "cell_type": "code",
   "execution_count": null,
   "metadata": {
    "collapsed": true
   },
   "outputs": [],
   "source": []
  },
  {
   "cell_type": "code",
   "execution_count": null,
   "metadata": {
    "collapsed": true
   },
   "outputs": [],
   "source": []
  },
  {
   "cell_type": "code",
   "execution_count": null,
   "metadata": {
    "collapsed": true
   },
   "outputs": [],
   "source": []
  },
  {
   "cell_type": "code",
   "execution_count": null,
   "metadata": {
    "collapsed": true
   },
   "outputs": [],
   "source": []
  },
  {
   "cell_type": "code",
   "execution_count": 28,
   "metadata": {
    "collapsed": true
   },
   "outputs": [],
   "source": [
    "periods = [i for i in range(63)]"
   ]
  },
  {
   "cell_type": "code",
   "execution_count": null,
   "metadata": {
    "collapsed": true
   },
   "outputs": [],
   "source": []
  },
  {
   "cell_type": "code",
   "execution_count": null,
   "metadata": {
    "collapsed": true
   },
   "outputs": [],
   "source": []
  },
  {
   "cell_type": "code",
   "execution_count": 29,
   "metadata": {
    "collapsed": true
   },
   "outputs": [],
   "source": [
    "#@execution_time_log\n",
    "def get_values(date_key, cells):\n",
    "    all_sm = np.sum([i for i in cells.values()])\n",
    "    result = []\n",
    "    result_weigths = []\n",
    "    result_a = []\n",
    "    result_weigths_a = []\n",
    "    for cell in cells:\n",
    "        weight = cells[cell]\n",
    "        item = None\n",
    "        date_index = indexes_dates[date_key]\n",
    "        if cell in indexes_cells:\n",
    "            cell_index = indexes_cells[cell]\n",
    "            item = raw_values[cell_index, date_index]\n",
    "            if not np.isnan(item):\n",
    "                result_a.append(item)\n",
    "                result_weigths_a.append(weight)\n",
    "        else:\n",
    "            cell_index = None\n",
    "        if item is None or np.isnan(item):\n",
    "            if cell_index is None:\n",
    "                item = np.nanmedian(raw_values[:, date_index])\n",
    "            else:\n",
    "                m1 = np.nanmedian(raw_values[:, date_index])\n",
    "                m2 = np.nanmedian(raw_values[cell_index, :])\n",
    "                if np.isnan(m1) and not np.isnan(m2):\n",
    "                    item = m2\n",
    "                elif np.isnan(m2) and not np.isnan(m1):\n",
    "                    item = m1\n",
    "                else:\n",
    "                    item = (m1 + m2) / 2\n",
    "        if item is not None and not np.isnan(item):\n",
    "            result.append(item)\n",
    "            result_weigths.append(weight)\n",
    "    sm = np.sum(result_weigths)\n",
    "    weights = [i / sm for i in result_weigths]\n",
    "    min_v = np.min(result) if len(result) > 0 else 0\n",
    "    max_v = np.max(result) if len(result) > 0 else 0\n",
    "    avg_v = np.average(result, weights=weights) if len(result) > 0 else 0\n",
    "    \n",
    "    sm_a = np.sum(result_weigths_a)\n",
    "    weights_a = [i / sm_a for i in result_weigths_a]\n",
    "    min_a = np.min(result_a) if len(result_a) > 0 else 0\n",
    "    max_a = np.max(result_a) if len(result_a) > 0 else 0\n",
    "    avg_a = np.average(result_a, weights=weights_a) if len(result_a) > 0 else 0\n",
    "    return all_sm, len(cells), min_v, avg_v, max_v, min_a, avg_a, max_a"
   ]
  },
  {
   "cell_type": "code",
   "execution_count": 30,
   "metadata": {
    "collapsed": true
   },
   "outputs": [],
   "source": [
    "def sub_date(date_user, date_data):\n",
    "    #print(date_user, data_user)\n",
    "    dif = datetime(1902, int(date_user / 100), date_user % 100) - datetime(1902, int(date_data / 100), date_data % 100)\n",
    "    return dif.days"
   ]
  },
  {
   "cell_type": "code",
   "execution_count": 31,
   "metadata": {
    "collapsed": true
   },
   "outputs": [],
   "source": [
    "from multiprocessing.dummy import Pool as ThreadPool "
   ]
  },
  {
   "cell_type": "code",
   "execution_count": 32,
   "metadata": {
    "collapsed": true
   },
   "outputs": [],
   "source": [
    "def multi_set_value(key_type):\n",
    "    sk_id = key_type[0]\n",
    "    date_key = 100 * key_type[1] + key_type[2]\n",
    "    result = get_values(date_key, type_data[1][key_type])\n",
    "    user_date = user_dates[sk_id]\n",
    "    index_date = sub_date(user_date, date_key)\n",
    "    index_user = indexes_users[sk_id]\n",
    "    table[index_user, 8 * index_date + sum_offset + 1] = result[sum_offset]\n",
    "    table[index_user, 8 * index_date + cnt_offset + 1] = result[cnt_offset]\n",
    "    table[index_user, 8 * index_date + min_offset + 1] = result[min_offset]\n",
    "    table[index_user, 8 * index_date + avg_offset + 1] = result[avg_offset]\n",
    "    table[index_user, 8 * index_date + max_offset + 1] = result[max_offset]\n",
    "    table[index_user, 8 * index_date + min_offseta + 1] = result[min_offseta]\n",
    "    table[index_user, 8 * index_date + avg_offseta + 1] = result[avg_offseta]\n",
    "    table[index_user, 8 * index_date + max_offseta + 1] = result[max_offseta]"
   ]
  },
  {
   "cell_type": "code",
   "execution_count": 33,
   "metadata": {},
   "outputs": [
    {
     "name": "stdout",
     "output_type": "stream",
     "text": [
      "Load file  UTIL_BRD_CPU_3G\n",
      "Process file  UTIL_BRD_CPU_3G\n"
     ]
    },
    {
     "name": "stderr",
     "output_type": "stream",
     "text": [
      "C:\\ProgramData\\Anaconda3\\lib\\site-packages\\numpy\\lib\\function_base.py:3250: RuntimeWarning: All-NaN slice encountered\n",
      "  r = func(a, **kwargs)\n",
      "C:\\ProgramData\\Anaconda3\\lib\\site-packages\\ipykernel_launcher.py:42: RuntimeWarning: invalid value encountered in double_scalars\n",
      "C:\\ProgramData\\Anaconda3\\lib\\site-packages\\ipykernel_launcher.py:36: RuntimeWarning: invalid value encountered in double_scalars\n"
     ]
    },
    {
     "name": "stdout",
     "output_type": "stream",
     "text": [
      "Load file  UTIL_CE_DL_3G\n",
      "Process file  UTIL_CE_DL_3G\n",
      "Load file  UTIL_CE_HW_DL_3G\n",
      "Process file  UTIL_CE_HW_DL_3G\n",
      "Load file  UTIL_CE_UL_3G\n",
      "Process file  UTIL_CE_UL_3G\n",
      "Load file  UTIL_SUBUNITS_3G\n",
      "Process file  UTIL_SUBUNITS_3G\n",
      "Load file  UL_VOLUME_LTE\n",
      "Process file  UL_VOLUME_LTE\n",
      "Load file  DL_VOLUME_LTE\n",
      "Process file  DL_VOLUME_LTE\n",
      "Load file  TOTAL_DL_VOLUME_3G\n",
      "Process file  TOTAL_DL_VOLUME_3G\n",
      "Load file  TOTAL_UL_VOLUME_3G\n",
      "Process file  TOTAL_UL_VOLUME_3G\n"
     ]
    }
   ],
   "source": [
    "sum_offset, cnt_offset, min_offset, avg_offset, max_offset, min_offseta, avg_offseta, max_offseta = 0, 1, 2, 3, 4, 5, 6, 7\n",
    "\n",
    "for analyze_column in columns:\n",
    "    print('Load file ', analyze_column)\n",
    "    dataframe = pd.read_csv(path + 'bs_avg_kpi.csv', sep=';', usecols=[analyze_column], decimal=',')\n",
    "    dataframe_values = np.array(dataframe[analyze_column])\n",
    "    \n",
    "    print('Process file ', analyze_column)\n",
    "    raw_values = np.zeros((len(indexes_cells), len(indexes_dates)))\n",
    "    for v in zip(cells_line, dates_line, dataframe_values):\n",
    "        ind_cell = indexes_cells[v[0]]\n",
    "        ind_date = indexes_dates[v[1]]\n",
    "        raw_values[ind_cell, ind_date] = v[2]\n",
    "    data_columns = ['sk_id']\n",
    "    data_columns += [str(u) + ' ' + c for u in periods for c in ['sum', 'count', 'min', 'avg', 'max', 'mina', 'avga', 'maxa']]\n",
    "    table = np.zeros((len(subs_csi.values), 8 * len(periods) + 1))\n",
    "    for type_data in (['data', user_data_session], ['voice', user_voice_session]):\n",
    "        \n",
    "        cnt = len(type_data[1])\n",
    "        pool = ThreadPool(8)\n",
    "        pool.map(multi_set_value, type_data[1])\n",
    "        \n",
    "        pool.close() \n",
    "        pool.join() \n",
    "        \n",
    "        '''\n",
    "        for key_type_ind in enumerate(type_data[1]):\n",
    "            key_type = key_type_ind[1]\n",
    "            #clear_output(wait=True)\n",
    "            #print('Parse ', type_data[0], \" \", analyze_column, \" \", key_type_ind[0]/cnt)\n",
    "            sk_id = key_type[0]\n",
    "            date_key = 100 * key_type[1] + key_type[2]\n",
    "            #result = get_values(date_key, type_data[1][key_type], raw_values)\n",
    "            user_date = user_dates[sk_id]\n",
    "            index_date = sub_date(user_date, date_key)\n",
    "            #index_user = indexes_users[sk_id]\n",
    "            print(user_date, date_key, index_date)\n",
    "            \n",
    "            table[index_user, 5 * index_date + sum_offset + 1] = result[sum_offset]\n",
    "            table[index_user, 5 * index_date + cnt_offset + 1] = result[cnt_offset]\n",
    "            table[index_user, 5 * index_date + min_offset + 1] = result[min_offset]\n",
    "            table[index_user, 5 * index_date + avg_offset + 1] = result[avg_offset]\n",
    "            table[index_user, 5 * index_date + max_offset + 1] = result[max_offset]\n",
    "        '''\n",
    "        output_frame = pd.DataFrame(data=table, columns=data_columns)\n",
    "        output_frame['sk_id'] = subs_csi['SK_ID']\n",
    "        output_frame.to_csv(pathfiles + pathfeatures + '{}_{}.csv'.format(type_data[0], analyze_column), index=False)\n",
    "        send_notify(pathfiles + pathfeatures + '{}_{}.csv'.format(type_data[0], analyze_column))"
   ]
  },
  {
   "cell_type": "code",
   "execution_count": 34,
   "metadata": {
    "collapsed": true
   },
   "outputs": [],
   "source": [
    "send_notify('Complete office')"
   ]
  },
  {
   "cell_type": "code",
   "execution_count": null,
   "metadata": {
    "collapsed": true
   },
   "outputs": [],
   "source": []
  },
  {
   "cell_type": "code",
   "execution_count": null,
   "metadata": {
    "collapsed": true
   },
   "outputs": [],
   "source": []
  },
  {
   "cell_type": "code",
   "execution_count": null,
   "metadata": {
    "collapsed": true
   },
   "outputs": [],
   "source": []
  },
  {
   "cell_type": "code",
   "execution_count": null,
   "metadata": {
    "collapsed": true
   },
   "outputs": [],
   "source": []
  },
  {
   "cell_type": "code",
   "execution_count": null,
   "metadata": {
    "collapsed": true
   },
   "outputs": [],
   "source": []
  },
  {
   "cell_type": "code",
   "execution_count": null,
   "metadata": {
    "collapsed": true
   },
   "outputs": [],
   "source": []
  },
  {
   "cell_type": "code",
   "execution_count": null,
   "metadata": {
    "collapsed": true
   },
   "outputs": [],
   "source": []
  },
  {
   "cell_type": "code",
   "execution_count": null,
   "metadata": {
    "collapsed": true
   },
   "outputs": [],
   "source": []
  },
  {
   "cell_type": "code",
   "execution_count": null,
   "metadata": {
    "collapsed": true
   },
   "outputs": [],
   "source": []
  },
  {
   "cell_type": "code",
   "execution_count": null,
   "metadata": {
    "collapsed": true
   },
   "outputs": [],
   "source": []
  },
  {
   "cell_type": "code",
   "execution_count": null,
   "metadata": {
    "collapsed": true
   },
   "outputs": [],
   "source": []
  },
  {
   "cell_type": "code",
   "execution_count": null,
   "metadata": {
    "collapsed": true
   },
   "outputs": [],
   "source": []
  },
  {
   "cell_type": "code",
   "execution_count": null,
   "metadata": {
    "collapsed": true
   },
   "outputs": [],
   "source": []
  },
  {
   "cell_type": "code",
   "execution_count": null,
   "metadata": {
    "collapsed": true
   },
   "outputs": [],
   "source": []
  },
  {
   "cell_type": "code",
   "execution_count": null,
   "metadata": {
    "collapsed": true
   },
   "outputs": [],
   "source": []
  },
  {
   "cell_type": "code",
   "execution_count": null,
   "metadata": {
    "collapsed": true
   },
   "outputs": [],
   "source": []
  },
  {
   "cell_type": "code",
   "execution_count": null,
   "metadata": {
    "collapsed": true
   },
   "outputs": [],
   "source": []
  },
  {
   "cell_type": "code",
   "execution_count": null,
   "metadata": {
    "collapsed": true
   },
   "outputs": [],
   "source": []
  },
  {
   "cell_type": "code",
   "execution_count": null,
   "metadata": {
    "collapsed": true
   },
   "outputs": [],
   "source": []
  },
  {
   "cell_type": "code",
   "execution_count": null,
   "metadata": {
    "collapsed": true
   },
   "outputs": [],
   "source": []
  }
 ],
 "metadata": {
  "kernelspec": {
   "display_name": "Python 3",
   "language": "python",
   "name": "python3"
  },
  "language_info": {
   "codemirror_mode": {
    "name": "ipython",
    "version": 3
   },
   "file_extension": ".py",
   "mimetype": "text/x-python",
   "name": "python",
   "nbconvert_exporter": "python",
   "pygments_lexer": "ipython3",
   "version": "3.6.3"
  }
 },
 "nbformat": 4,
 "nbformat_minor": 2
}
