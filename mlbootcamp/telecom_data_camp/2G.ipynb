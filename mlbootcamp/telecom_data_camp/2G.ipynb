{
 "cells": [
  {
   "cell_type": "code",
   "execution_count": 1,
   "metadata": {
    "collapsed": true
   },
   "outputs": [],
   "source": [
    "import pandas as pd"
   ]
  },
  {
   "cell_type": "code",
   "execution_count": 2,
   "metadata": {
    "collapsed": true
   },
   "outputs": [],
   "source": [
    "path = 'C:/data/mlbootcamp/dataset/'"
   ]
  },
  {
   "cell_type": "code",
   "execution_count": 38,
   "metadata": {
    "collapsed": true
   },
   "outputs": [],
   "source": [
    "%matplotlib inline\n",
    "import matplotlib\n",
    "import matplotlib.pyplot as plt"
   ]
  },
  {
   "cell_type": "code",
   "execution_count": 3,
   "metadata": {
    "collapsed": true
   },
   "outputs": [],
   "source": [
    "import telepot\n",
    "def send_notify(text):\n",
    "    with open('../../_access_keys/telegram_token.txt', 'r') as content_file:\n",
    "        token = content_file.read()\n",
    "    with open('../../_access_keys/user.txt', 'r') as content_file:\n",
    "        user = content_file.read()\n",
    "    try:\n",
    "        TelegramBot = telepot.Bot(token)\n",
    "        TelegramBot.sendMessage(int(user), text)\n",
    "    except:\n",
    "        pass"
   ]
  },
  {
   "cell_type": "code",
   "execution_count": null,
   "metadata": {
    "collapsed": true
   },
   "outputs": [],
   "source": []
  },
  {
   "cell_type": "code",
   "execution_count": 121,
   "metadata": {
    "collapsed": true
   },
   "outputs": [],
   "source": [
    "bs_avg_kpi = pd.read_csv(path + 'bs_avg_kpi_2g.csv')"
   ]
  },
  {
   "cell_type": "code",
   "execution_count": 122,
   "metadata": {},
   "outputs": [
    {
     "data": {
      "text/html": [
       "<div>\n",
       "<style scoped>\n",
       "    .dataframe tbody tr th:only-of-type {\n",
       "        vertical-align: middle;\n",
       "    }\n",
       "\n",
       "    .dataframe tbody tr th {\n",
       "        vertical-align: top;\n",
       "    }\n",
       "\n",
       "    .dataframe thead th {\n",
       "        text-align: right;\n",
       "    }\n",
       "</style>\n",
       "<table border=\"1\" class=\"dataframe\">\n",
       "  <thead>\n",
       "    <tr style=\"text-align: right;\">\n",
       "      <th></th>\n",
       "      <th>T_DATE</th>\n",
       "      <th>CELL_LAC_ID</th>\n",
       "      <th>CELL_AVAILABILITY_2G</th>\n",
       "      <th>CSSR_2G</th>\n",
       "      <th>PSSR_2G</th>\n",
       "      <th>TBF_DROP_RATE_2G</th>\n",
       "      <th>TCH_DROP_RATE_2G</th>\n",
       "    </tr>\n",
       "  </thead>\n",
       "  <tbody>\n",
       "    <tr>\n",
       "      <th>0</th>\n",
       "      <td>1.01</td>\n",
       "      <td>275453</td>\n",
       "      <td>1.0</td>\n",
       "      <td>0.932420</td>\n",
       "      <td>NaN</td>\n",
       "      <td>0.000055</td>\n",
       "      <td>0.000377</td>\n",
       "    </tr>\n",
       "    <tr>\n",
       "      <th>1</th>\n",
       "      <td>17.05</td>\n",
       "      <td>275453</td>\n",
       "      <td>1.0</td>\n",
       "      <td>0.931243</td>\n",
       "      <td>NaN</td>\n",
       "      <td>0.000020</td>\n",
       "      <td>0.000206</td>\n",
       "    </tr>\n",
       "    <tr>\n",
       "      <th>2</th>\n",
       "      <td>31.01</td>\n",
       "      <td>275453</td>\n",
       "      <td>1.0</td>\n",
       "      <td>0.931607</td>\n",
       "      <td>NaN</td>\n",
       "      <td>0.000018</td>\n",
       "      <td>0.000173</td>\n",
       "    </tr>\n",
       "    <tr>\n",
       "      <th>3</th>\n",
       "      <td>29.01</td>\n",
       "      <td>275453</td>\n",
       "      <td>1.0</td>\n",
       "      <td>0.930856</td>\n",
       "      <td>NaN</td>\n",
       "      <td>0.000020</td>\n",
       "      <td>0.000228</td>\n",
       "    </tr>\n",
       "    <tr>\n",
       "      <th>4</th>\n",
       "      <td>2.01</td>\n",
       "      <td>275453</td>\n",
       "      <td>1.0</td>\n",
       "      <td>0.925372</td>\n",
       "      <td>NaN</td>\n",
       "      <td>0.000053</td>\n",
       "      <td>0.000297</td>\n",
       "    </tr>\n",
       "  </tbody>\n",
       "</table>\n",
       "</div>"
      ],
      "text/plain": [
       "   T_DATE  CELL_LAC_ID  CELL_AVAILABILITY_2G   CSSR_2G  PSSR_2G  \\\n",
       "0    1.01       275453                   1.0  0.932420      NaN   \n",
       "1   17.05       275453                   1.0  0.931243      NaN   \n",
       "2   31.01       275453                   1.0  0.931607      NaN   \n",
       "3   29.01       275453                   1.0  0.930856      NaN   \n",
       "4    2.01       275453                   1.0  0.925372      NaN   \n",
       "\n",
       "   TBF_DROP_RATE_2G  TCH_DROP_RATE_2G  \n",
       "0          0.000055          0.000377  \n",
       "1          0.000020          0.000206  \n",
       "2          0.000018          0.000173  \n",
       "3          0.000020          0.000228  \n",
       "4          0.000053          0.000297  "
      ]
     },
     "execution_count": 122,
     "metadata": {},
     "output_type": "execute_result"
    }
   ],
   "source": [
    "bs_avg_kpi.head()"
   ]
  },
  {
   "cell_type": "code",
   "execution_count": 123,
   "metadata": {},
   "outputs": [
    {
     "name": "stdout",
     "output_type": "stream",
     "text": [
      "<class 'pandas.core.frame.DataFrame'>\n",
      "RangeIndex: 16397775 entries, 0 to 16397774\n",
      "Data columns (total 7 columns):\n",
      "T_DATE                  float64\n",
      "CELL_LAC_ID             int64\n",
      "CELL_AVAILABILITY_2G    float64\n",
      "CSSR_2G                 float64\n",
      "PSSR_2G                 float64\n",
      "TBF_DROP_RATE_2G        float64\n",
      "TCH_DROP_RATE_2G        float64\n",
      "dtypes: float64(6), int64(1)\n",
      "memory usage: 875.7 MB\n"
     ]
    }
   ],
   "source": [
    "bs_avg_kpi.info()"
   ]
  },
  {
   "cell_type": "code",
   "execution_count": 124,
   "metadata": {},
   "outputs": [
    {
     "data": {
      "text/html": [
       "<div>\n",
       "<style scoped>\n",
       "    .dataframe tbody tr th:only-of-type {\n",
       "        vertical-align: middle;\n",
       "    }\n",
       "\n",
       "    .dataframe tbody tr th {\n",
       "        vertical-align: top;\n",
       "    }\n",
       "\n",
       "    .dataframe thead th {\n",
       "        text-align: right;\n",
       "    }\n",
       "</style>\n",
       "<table border=\"1\" class=\"dataframe\">\n",
       "  <thead>\n",
       "    <tr style=\"text-align: right;\">\n",
       "      <th></th>\n",
       "      <th>T_DATE</th>\n",
       "      <th>CELL_LAC_ID</th>\n",
       "      <th>CELL_AVAILABILITY_2G</th>\n",
       "      <th>CSSR_2G</th>\n",
       "      <th>PSSR_2G</th>\n",
       "      <th>TBF_DROP_RATE_2G</th>\n",
       "      <th>TCH_DROP_RATE_2G</th>\n",
       "    </tr>\n",
       "  </thead>\n",
       "  <tbody>\n",
       "    <tr>\n",
       "      <th>count</th>\n",
       "      <td>1.639778e+07</td>\n",
       "      <td>1.639778e+07</td>\n",
       "      <td>1.639301e+07</td>\n",
       "      <td>8.847628e+06</td>\n",
       "      <td>7.009606e+06</td>\n",
       "      <td>1.583272e+07</td>\n",
       "      <td>1.411336e+07</td>\n",
       "    </tr>\n",
       "    <tr>\n",
       "      <th>mean</th>\n",
       "      <td>1.565816e+01</td>\n",
       "      <td>2.543382e+05</td>\n",
       "      <td>9.984489e-01</td>\n",
       "      <td>9.288820e-01</td>\n",
       "      <td>9.989190e-01</td>\n",
       "      <td>2.913875e-05</td>\n",
       "      <td>2.997324e-03</td>\n",
       "    </tr>\n",
       "    <tr>\n",
       "      <th>std</th>\n",
       "      <td>8.747801e+00</td>\n",
       "      <td>1.469432e+05</td>\n",
       "      <td>3.237738e-02</td>\n",
       "      <td>1.080749e-02</td>\n",
       "      <td>1.604193e-02</td>\n",
       "      <td>6.553463e-04</td>\n",
       "      <td>5.603819e-03</td>\n",
       "    </tr>\n",
       "    <tr>\n",
       "      <th>min</th>\n",
       "      <td>1.010000e+00</td>\n",
       "      <td>4.000000e+00</td>\n",
       "      <td>0.000000e+00</td>\n",
       "      <td>0.000000e+00</td>\n",
       "      <td>0.000000e+00</td>\n",
       "      <td>0.000000e+00</td>\n",
       "      <td>0.000000e+00</td>\n",
       "    </tr>\n",
       "    <tr>\n",
       "      <th>25%</th>\n",
       "      <td>8.030000e+00</td>\n",
       "      <td>1.271340e+05</td>\n",
       "      <td>1.000000e+00</td>\n",
       "      <td>9.288910e-01</td>\n",
       "      <td>9.999410e-01</td>\n",
       "      <td>1.200000e-05</td>\n",
       "      <td>5.140000e-04</td>\n",
       "    </tr>\n",
       "    <tr>\n",
       "      <th>50%</th>\n",
       "      <td>1.601000e+01</td>\n",
       "      <td>2.543610e+05</td>\n",
       "      <td>1.000000e+00</td>\n",
       "      <td>9.313440e-01</td>\n",
       "      <td>1.000000e+00</td>\n",
       "      <td>2.100000e-05</td>\n",
       "      <td>1.249000e-03</td>\n",
       "    </tr>\n",
       "    <tr>\n",
       "      <th>75%</th>\n",
       "      <td>2.304000e+01</td>\n",
       "      <td>3.805010e+05</td>\n",
       "      <td>1.000000e+00</td>\n",
       "      <td>9.324650e-01</td>\n",
       "      <td>1.000000e+00</td>\n",
       "      <td>3.700000e-05</td>\n",
       "      <td>3.138000e-03</td>\n",
       "    </tr>\n",
       "    <tr>\n",
       "      <th>max</th>\n",
       "      <td>3.105000e+01</td>\n",
       "      <td>5.104700e+05</td>\n",
       "      <td>1.000000e+00</td>\n",
       "      <td>1.000000e+00</td>\n",
       "      <td>1.000000e+00</td>\n",
       "      <td>1.000000e+00</td>\n",
       "      <td>1.000000e+00</td>\n",
       "    </tr>\n",
       "  </tbody>\n",
       "</table>\n",
       "</div>"
      ],
      "text/plain": [
       "             T_DATE   CELL_LAC_ID  CELL_AVAILABILITY_2G       CSSR_2G  \\\n",
       "count  1.639778e+07  1.639778e+07          1.639301e+07  8.847628e+06   \n",
       "mean   1.565816e+01  2.543382e+05          9.984489e-01  9.288820e-01   \n",
       "std    8.747801e+00  1.469432e+05          3.237738e-02  1.080749e-02   \n",
       "min    1.010000e+00  4.000000e+00          0.000000e+00  0.000000e+00   \n",
       "25%    8.030000e+00  1.271340e+05          1.000000e+00  9.288910e-01   \n",
       "50%    1.601000e+01  2.543610e+05          1.000000e+00  9.313440e-01   \n",
       "75%    2.304000e+01  3.805010e+05          1.000000e+00  9.324650e-01   \n",
       "max    3.105000e+01  5.104700e+05          1.000000e+00  1.000000e+00   \n",
       "\n",
       "            PSSR_2G  TBF_DROP_RATE_2G  TCH_DROP_RATE_2G  \n",
       "count  7.009606e+06      1.583272e+07      1.411336e+07  \n",
       "mean   9.989190e-01      2.913875e-05      2.997324e-03  \n",
       "std    1.604193e-02      6.553463e-04      5.603819e-03  \n",
       "min    0.000000e+00      0.000000e+00      0.000000e+00  \n",
       "25%    9.999410e-01      1.200000e-05      5.140000e-04  \n",
       "50%    1.000000e+00      2.100000e-05      1.249000e-03  \n",
       "75%    1.000000e+00      3.700000e-05      3.138000e-03  \n",
       "max    1.000000e+00      1.000000e+00      1.000000e+00  "
      ]
     },
     "execution_count": 124,
     "metadata": {},
     "output_type": "execute_result"
    }
   ],
   "source": [
    "bs_avg_kpi.describe()"
   ]
  },
  {
   "cell_type": "code",
   "execution_count": 120,
   "metadata": {},
   "outputs": [
    {
     "data": {
      "text/html": [
       "<div>\n",
       "<style scoped>\n",
       "    .dataframe tbody tr th:only-of-type {\n",
       "        vertical-align: middle;\n",
       "    }\n",
       "\n",
       "    .dataframe tbody tr th {\n",
       "        vertical-align: top;\n",
       "    }\n",
       "\n",
       "    .dataframe thead th {\n",
       "        text-align: right;\n",
       "    }\n",
       "</style>\n",
       "<table border=\"1\" class=\"dataframe\">\n",
       "  <thead>\n",
       "    <tr style=\"text-align: right;\">\n",
       "      <th></th>\n",
       "      <th>T_DATE</th>\n",
       "      <th>CELL_LAC_ID</th>\n",
       "      <th>CELL_AVAILABILITY_2G</th>\n",
       "      <th>CSSR_2G</th>\n",
       "      <th>PSSR_2G</th>\n",
       "      <th>TBF_DROP_RATE_2G</th>\n",
       "      <th>TCH_DROP_RATE_2G</th>\n",
       "    </tr>\n",
       "  </thead>\n",
       "  <tbody>\n",
       "    <tr>\n",
       "      <th>count</th>\n",
       "      <td>120455.000000</td>\n",
       "      <td>120455.000000</td>\n",
       "      <td>120455.000000</td>\n",
       "      <td>120455.000000</td>\n",
       "      <td>120455.000000</td>\n",
       "      <td>120455.000000</td>\n",
       "      <td>120455.000000</td>\n",
       "    </tr>\n",
       "    <tr>\n",
       "      <th>mean</th>\n",
       "      <td>13.891030</td>\n",
       "      <td>254613.289751</td>\n",
       "      <td>0.998310</td>\n",
       "      <td>0.930038</td>\n",
       "      <td>0.999521</td>\n",
       "      <td>0.000029</td>\n",
       "      <td>0.002901</td>\n",
       "    </tr>\n",
       "    <tr>\n",
       "      <th>std</th>\n",
       "      <td>9.621548</td>\n",
       "      <td>146989.268844</td>\n",
       "      <td>0.034814</td>\n",
       "      <td>0.007710</td>\n",
       "      <td>0.009713</td>\n",
       "      <td>0.000030</td>\n",
       "      <td>0.005473</td>\n",
       "    </tr>\n",
       "    <tr>\n",
       "      <th>min</th>\n",
       "      <td>1.010000</td>\n",
       "      <td>4.000000</td>\n",
       "      <td>0.000000</td>\n",
       "      <td>0.460883</td>\n",
       "      <td>0.000254</td>\n",
       "      <td>0.000000</td>\n",
       "      <td>0.000023</td>\n",
       "    </tr>\n",
       "    <tr>\n",
       "      <th>25%</th>\n",
       "      <td>4.010000</td>\n",
       "      <td>127418.500000</td>\n",
       "      <td>1.000000</td>\n",
       "      <td>0.931237</td>\n",
       "      <td>1.000000</td>\n",
       "      <td>0.000012</td>\n",
       "      <td>0.000669</td>\n",
       "    </tr>\n",
       "    <tr>\n",
       "      <th>50%</th>\n",
       "      <td>14.050000</td>\n",
       "      <td>254738.000000</td>\n",
       "      <td>1.000000</td>\n",
       "      <td>0.931344</td>\n",
       "      <td>1.000000</td>\n",
       "      <td>0.000021</td>\n",
       "      <td>0.001249</td>\n",
       "    </tr>\n",
       "    <tr>\n",
       "      <th>75%</th>\n",
       "      <td>23.030000</td>\n",
       "      <td>380852.500000</td>\n",
       "      <td>1.000000</td>\n",
       "      <td>0.931538</td>\n",
       "      <td>1.000000</td>\n",
       "      <td>0.000038</td>\n",
       "      <td>0.002785</td>\n",
       "    </tr>\n",
       "    <tr>\n",
       "      <th>max</th>\n",
       "      <td>31.050000</td>\n",
       "      <td>510470.000000</td>\n",
       "      <td>1.000000</td>\n",
       "      <td>1.000000</td>\n",
       "      <td>1.000000</td>\n",
       "      <td>0.001001</td>\n",
       "      <td>0.332444</td>\n",
       "    </tr>\n",
       "  </tbody>\n",
       "</table>\n",
       "</div>"
      ],
      "text/plain": [
       "              T_DATE    CELL_LAC_ID  CELL_AVAILABILITY_2G        CSSR_2G  \\\n",
       "count  120455.000000  120455.000000         120455.000000  120455.000000   \n",
       "mean       13.891030  254613.289751              0.998310       0.930038   \n",
       "std         9.621548  146989.268844              0.034814       0.007710   \n",
       "min         1.010000       4.000000              0.000000       0.460883   \n",
       "25%         4.010000  127418.500000              1.000000       0.931237   \n",
       "50%        14.050000  254738.000000              1.000000       0.931344   \n",
       "75%        23.030000  380852.500000              1.000000       0.931538   \n",
       "max        31.050000  510470.000000              1.000000       1.000000   \n",
       "\n",
       "             PSSR_2G  TBF_DROP_RATE_2G  TCH_DROP_RATE_2G  \n",
       "count  120455.000000     120455.000000     120455.000000  \n",
       "mean        0.999521          0.000029          0.002901  \n",
       "std         0.009713          0.000030          0.005473  \n",
       "min         0.000254          0.000000          0.000023  \n",
       "25%         1.000000          0.000012          0.000669  \n",
       "50%         1.000000          0.000021          0.001249  \n",
       "75%         1.000000          0.000038          0.002785  \n",
       "max         1.000000          0.001001          0.332444  "
      ]
     },
     "execution_count": 120,
     "metadata": {},
     "output_type": "execute_result"
    }
   ],
   "source": [
    "bs_avg_kpi.describe()"
   ]
  },
  {
   "cell_type": "code",
   "execution_count": null,
   "metadata": {
    "collapsed": true
   },
   "outputs": [],
   "source": []
  },
  {
   "cell_type": "code",
   "execution_count": 114,
   "metadata": {
    "collapsed": true
   },
   "outputs": [],
   "source": [
    "columns_2g = ['CELL_AVAILABILITY_2G', 'CSSR_2G', 'PSSR_2G', 'TBF_DROP_RATE_2G', 'TCH_DROP_RATE_2G']"
   ]
  },
  {
   "cell_type": "code",
   "execution_count": 115,
   "metadata": {
    "collapsed": true
   },
   "outputs": [],
   "source": [
    "for c in columns_2g:\n",
    "    bs_avg_kpi[c].fillna(bs_avg_kpi[c].median(), inplace=True)"
   ]
  },
  {
   "cell_type": "code",
   "execution_count": null,
   "metadata": {
    "collapsed": true
   },
   "outputs": [],
   "source": []
  },
  {
   "cell_type": "code",
   "execution_count": null,
   "metadata": {
    "collapsed": true
   },
   "outputs": [],
   "source": []
  },
  {
   "cell_type": "code",
   "execution_count": 116,
   "metadata": {},
   "outputs": [
    {
     "name": "stdout",
     "output_type": "stream",
     "text": [
      "(16397775, 7)\n",
      "(16397775, 7)\n"
     ]
    }
   ],
   "source": [
    "print(bs_avg_kpi.shape)\n",
    "print(bs_avg_kpi.dropna().shape)"
   ]
  },
  {
   "cell_type": "code",
   "execution_count": null,
   "metadata": {
    "collapsed": true
   },
   "outputs": [],
   "source": []
  },
  {
   "cell_type": "code",
   "execution_count": 117,
   "metadata": {
    "collapsed": true
   },
   "outputs": [],
   "source": [
    "from MulticoreTSNE import MulticoreTSNE as TSNE\n",
    "from sklearn.cluster import KMeans"
   ]
  },
  {
   "cell_type": "code",
   "execution_count": 118,
   "metadata": {},
   "outputs": [
    {
     "data": {
      "text/html": [
       "<div>\n",
       "<style scoped>\n",
       "    .dataframe tbody tr th:only-of-type {\n",
       "        vertical-align: middle;\n",
       "    }\n",
       "\n",
       "    .dataframe tbody tr th {\n",
       "        vertical-align: top;\n",
       "    }\n",
       "\n",
       "    .dataframe thead th {\n",
       "        text-align: right;\n",
       "    }\n",
       "</style>\n",
       "<table border=\"1\" class=\"dataframe\">\n",
       "  <thead>\n",
       "    <tr style=\"text-align: right;\">\n",
       "      <th></th>\n",
       "      <th>T_DATE</th>\n",
       "      <th>CELL_LAC_ID</th>\n",
       "      <th>CELL_AVAILABILITY_2G</th>\n",
       "      <th>CSSR_2G</th>\n",
       "      <th>PSSR_2G</th>\n",
       "      <th>TBF_DROP_RATE_2G</th>\n",
       "      <th>TCH_DROP_RATE_2G</th>\n",
       "    </tr>\n",
       "  </thead>\n",
       "  <tbody>\n",
       "    <tr>\n",
       "      <th>0</th>\n",
       "      <td>1.01</td>\n",
       "      <td>275453</td>\n",
       "      <td>1.0</td>\n",
       "      <td>0.932420</td>\n",
       "      <td>1.0</td>\n",
       "      <td>0.000055</td>\n",
       "      <td>0.000377</td>\n",
       "    </tr>\n",
       "    <tr>\n",
       "      <th>1</th>\n",
       "      <td>17.05</td>\n",
       "      <td>275453</td>\n",
       "      <td>1.0</td>\n",
       "      <td>0.931243</td>\n",
       "      <td>1.0</td>\n",
       "      <td>0.000020</td>\n",
       "      <td>0.000206</td>\n",
       "    </tr>\n",
       "    <tr>\n",
       "      <th>2</th>\n",
       "      <td>31.01</td>\n",
       "      <td>275453</td>\n",
       "      <td>1.0</td>\n",
       "      <td>0.931607</td>\n",
       "      <td>1.0</td>\n",
       "      <td>0.000018</td>\n",
       "      <td>0.000173</td>\n",
       "    </tr>\n",
       "    <tr>\n",
       "      <th>3</th>\n",
       "      <td>29.01</td>\n",
       "      <td>275453</td>\n",
       "      <td>1.0</td>\n",
       "      <td>0.930856</td>\n",
       "      <td>1.0</td>\n",
       "      <td>0.000020</td>\n",
       "      <td>0.000228</td>\n",
       "    </tr>\n",
       "    <tr>\n",
       "      <th>4</th>\n",
       "      <td>2.01</td>\n",
       "      <td>275453</td>\n",
       "      <td>1.0</td>\n",
       "      <td>0.925372</td>\n",
       "      <td>1.0</td>\n",
       "      <td>0.000053</td>\n",
       "      <td>0.000297</td>\n",
       "    </tr>\n",
       "  </tbody>\n",
       "</table>\n",
       "</div>"
      ],
      "text/plain": [
       "   T_DATE  CELL_LAC_ID  CELL_AVAILABILITY_2G   CSSR_2G  PSSR_2G  \\\n",
       "0    1.01       275453                   1.0  0.932420      1.0   \n",
       "1   17.05       275453                   1.0  0.931243      1.0   \n",
       "2   31.01       275453                   1.0  0.931607      1.0   \n",
       "3   29.01       275453                   1.0  0.930856      1.0   \n",
       "4    2.01       275453                   1.0  0.925372      1.0   \n",
       "\n",
       "   TBF_DROP_RATE_2G  TCH_DROP_RATE_2G  \n",
       "0          0.000055          0.000377  \n",
       "1          0.000020          0.000206  \n",
       "2          0.000018          0.000173  \n",
       "3          0.000020          0.000228  \n",
       "4          0.000053          0.000297  "
      ]
     },
     "execution_count": 118,
     "metadata": {},
     "output_type": "execute_result"
    }
   ],
   "source": [
    "bs_avg_kpi.head()"
   ]
  },
  {
   "cell_type": "code",
   "execution_count": 119,
   "metadata": {},
   "outputs": [],
   "source": [
    "bs_avg_kpi.drop_duplicates('CELL_LAC_ID', inplace=True)"
   ]
  },
  {
   "cell_type": "code",
   "execution_count": null,
   "metadata": {
    "collapsed": true
   },
   "outputs": [],
   "source": []
  },
  {
   "cell_type": "code",
   "execution_count": 94,
   "metadata": {
    "collapsed": true
   },
   "outputs": [],
   "source": [
    "X = bs_avg_kpi[columns_2g]"
   ]
  },
  {
   "cell_type": "code",
   "execution_count": 95,
   "metadata": {},
   "outputs": [
    {
     "data": {
      "text/plain": [
       "(120455, 5)"
      ]
     },
     "execution_count": 95,
     "metadata": {},
     "output_type": "execute_result"
    }
   ],
   "source": [
    "X.shape"
   ]
  },
  {
   "cell_type": "code",
   "execution_count": 69,
   "metadata": {},
   "outputs": [
    {
     "name": "stderr",
     "output_type": "stream",
     "text": [
      "C:\\ProgramData\\Anaconda3\\lib\\site-packages\\pandas\\core\\frame.py:3697: SettingWithCopyWarning: \n",
      "A value is trying to be set on a copy of a slice from a DataFrame\n",
      "\n",
      "See the caveats in the documentation: http://pandas.pydata.org/pandas-docs/stable/indexing.html#indexing-view-versus-copy\n",
      "  errors=errors)\n"
     ]
    },
    {
     "data": {
      "text/html": [
       "<div>\n",
       "<style scoped>\n",
       "    .dataframe tbody tr th:only-of-type {\n",
       "        vertical-align: middle;\n",
       "    }\n",
       "\n",
       "    .dataframe tbody tr th {\n",
       "        vertical-align: top;\n",
       "    }\n",
       "\n",
       "    .dataframe thead th {\n",
       "        text-align: right;\n",
       "    }\n",
       "</style>\n",
       "<table border=\"1\" class=\"dataframe\">\n",
       "  <thead>\n",
       "    <tr style=\"text-align: right;\">\n",
       "      <th></th>\n",
       "      <th>CSSR_2G</th>\n",
       "      <th>PSSR_2G</th>\n",
       "      <th>TBF_DROP_RATE_2G</th>\n",
       "      <th>TCH_DROP_RATE_2G</th>\n",
       "    </tr>\n",
       "  </thead>\n",
       "  <tbody>\n",
       "    <tr>\n",
       "      <th>0</th>\n",
       "      <td>0.932420</td>\n",
       "      <td>1.0</td>\n",
       "      <td>0.000055</td>\n",
       "      <td>0.000377</td>\n",
       "    </tr>\n",
       "    <tr>\n",
       "      <th>151</th>\n",
       "      <td>0.920801</td>\n",
       "      <td>1.0</td>\n",
       "      <td>0.000059</td>\n",
       "      <td>0.000620</td>\n",
       "    </tr>\n",
       "    <tr>\n",
       "      <th>302</th>\n",
       "      <td>0.929026</td>\n",
       "      <td>1.0</td>\n",
       "      <td>0.000038</td>\n",
       "      <td>0.000354</td>\n",
       "    </tr>\n",
       "    <tr>\n",
       "      <th>453</th>\n",
       "      <td>0.923729</td>\n",
       "      <td>1.0</td>\n",
       "      <td>0.000077</td>\n",
       "      <td>0.000587</td>\n",
       "    </tr>\n",
       "    <tr>\n",
       "      <th>604</th>\n",
       "      <td>0.924741</td>\n",
       "      <td>1.0</td>\n",
       "      <td>0.000051</td>\n",
       "      <td>0.000325</td>\n",
       "    </tr>\n",
       "  </tbody>\n",
       "</table>\n",
       "</div>"
      ],
      "text/plain": [
       "      CSSR_2G  PSSR_2G  TBF_DROP_RATE_2G  TCH_DROP_RATE_2G\n",
       "0    0.932420      1.0          0.000055          0.000377\n",
       "151  0.920801      1.0          0.000059          0.000620\n",
       "302  0.929026      1.0          0.000038          0.000354\n",
       "453  0.923729      1.0          0.000077          0.000587\n",
       "604  0.924741      1.0          0.000051          0.000325"
      ]
     },
     "execution_count": 69,
     "metadata": {},
     "output_type": "execute_result"
    }
   ],
   "source": [
    "X.drop(['CELL_AVAILABILITY_2G'], axis=1, inplace=True)"
   ]
  },
  {
   "cell_type": "code",
   "execution_count": 78,
   "metadata": {},
   "outputs": [
    {
     "data": {
      "text/plain": [
       "0      1.0\n",
       "151    1.0\n",
       "302    1.0\n",
       "453    1.0\n",
       "604    1.0\n",
       "Name: CELL_AVAILABILITY_2G, dtype: float64"
      ]
     },
     "execution_count": 78,
     "metadata": {},
     "output_type": "execute_result"
    }
   ],
   "source": [
    "X.head()"
   ]
  },
  {
   "cell_type": "code",
   "execution_count": 96,
   "metadata": {
    "collapsed": true
   },
   "outputs": [],
   "source": [
    "X = X[['CSSR_2G']]"
   ]
  },
  {
   "cell_type": "code",
   "execution_count": null,
   "metadata": {
    "collapsed": true
   },
   "outputs": [],
   "source": []
  },
  {
   "cell_type": "code",
   "execution_count": 97,
   "metadata": {},
   "outputs": [
    {
     "name": "stdout",
     "output_type": "stream",
     "text": [
      "Wall time: 6min 33s\n"
     ]
    }
   ],
   "source": [
    "%%time\n",
    "\n",
    "tsne = TSNE(random_state=17, n_jobs=8)\n",
    "\n",
    "X_tsne = tsne.fit_transform(X)"
   ]
  },
  {
   "cell_type": "code",
   "execution_count": null,
   "metadata": {
    "collapsed": true
   },
   "outputs": [],
   "source": []
  },
  {
   "cell_type": "code",
   "execution_count": 102,
   "metadata": {
    "collapsed": true
   },
   "outputs": [],
   "source": [
    "n_clusters = 10\n",
    "\n",
    "model = KMeans(n_clusters=n_clusters)\n",
    "model.fit(X)\n",
    "\n",
    "all_predictions = model.predict(X)"
   ]
  },
  {
   "cell_type": "code",
   "execution_count": null,
   "metadata": {
    "collapsed": true
   },
   "outputs": [],
   "source": []
  },
  {
   "cell_type": "code",
   "execution_count": null,
   "metadata": {
    "collapsed": true
   },
   "outputs": [],
   "source": [
    "send_notify('complete tsne')"
   ]
  },
  {
   "cell_type": "code",
   "execution_count": 103,
   "metadata": {},
   "outputs": [
    {
     "data": {
      "text/plain": [
       "Text(0.5,1,'MNIST. t-SNE projection')"
      ]
     },
     "execution_count": 103,
     "metadata": {},
     "output_type": "execute_result"
    },
    {
     "data": {
      "image/png": "[encoded data removed]",
      "text/plain": [
       "<matplotlib.figure.Figure at 0x2b24349deb8>"
      ]
     },
     "metadata": {},
     "output_type": "display_data"
    }
   ],
   "source": [
    "plt.figure(figsize=(12,10))\n",
    "plt.scatter(X_tsne[:, 0], X_tsne[:, 1], c=all_predictions, \n",
    "            edgecolor='none', alpha=0.7, s=40,\n",
    "            cmap=plt.cm.get_cmap('nipy_spectral', n_clusters))\n",
    "plt.colorbar()\n",
    "plt.title('MNIST. t-SNE projection')"
   ]
  },
  {
   "cell_type": "code",
   "execution_count": null,
   "metadata": {
    "collapsed": true
   },
   "outputs": [],
   "source": []
  }
 ],
 "metadata": {
  "kernelspec": {
   "display_name": "Python 3",
   "language": "python",
   "name": "python3"
  },
  "language_info": {
   "codemirror_mode": {
    "name": "ipython",
    "version": 3
   },
   "file_extension": ".py",
   "mimetype": "text/x-python",
   "name": "python",
   "nbconvert_exporter": "python",
   "pygments_lexer": "ipython3",
   "version": "3.6.3"
  }
 },
 "nbformat": 4,
 "nbformat_minor": 2
}
