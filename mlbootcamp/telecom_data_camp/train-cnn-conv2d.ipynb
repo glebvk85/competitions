{
 "cells": [
  {
   "cell_type": "code",
   "execution_count": 1,
   "metadata": {
    "collapsed": true
   },
   "outputs": [],
   "source": [
    "import pandas as pd\n",
    "import numpy as np\n",
    "from datetime import datetime"
   ]
  },
  {
   "cell_type": "code",
   "execution_count": null,
   "metadata": {
    "collapsed": true
   },
   "outputs": [],
   "source": []
  },
  {
   "cell_type": "code",
   "execution_count": 2,
   "metadata": {
    "collapsed": true
   },
   "outputs": [],
   "source": [
    "%matplotlib inline"
   ]
  },
  {
   "cell_type": "code",
   "execution_count": null,
   "metadata": {
    "collapsed": true
   },
   "outputs": [],
   "source": []
  },
  {
   "cell_type": "code",
   "execution_count": 3,
   "metadata": {
    "collapsed": true
   },
   "outputs": [],
   "source": [
    "TRAIN = True"
   ]
  },
  {
   "cell_type": "code",
   "execution_count": null,
   "metadata": {
    "collapsed": true
   },
   "outputs": [],
   "source": []
  },
  {
   "cell_type": "code",
   "execution_count": 4,
   "metadata": {
    "collapsed": true
   },
   "outputs": [],
   "source": [
    "path = 'c:/data/mlbootcamp/dataset/'\n",
    "path_train = path + 'train/'\n",
    "path_test = path + 'test/'\n",
    "path_features = 'features/'\n",
    "if TRAIN:\n",
    "    pathfiles = path_train\n",
    "    path_subs_bs_consumption = 'subs_bs_consumption_train.csv'\n",
    "    path_subs_bs_data_session = 'subs_bs_data_session_train.csv'\n",
    "    path_subs_bs_voice_session = 'subs_bs_voice_session_train.csv'\n",
    "    path_subs_features = 'subs_features_train.csv'\n",
    "    path_subs_csi = 'subs_csi_train.csv'\n",
    "    path_new_features = 'features.csv'\n",
    "else:\n",
    "    pathfiles = path_test\n",
    "    path_subs_bs_consumption = 'subs_bs_consumption_test.csv'\n",
    "    path_subs_bs_data_session = 'subs_bs_data_session_test.csv'\n",
    "    path_subs_bs_voice_session = 'subs_bs_voice_session_test.csv'\n",
    "    path_subs_features = 'subs_features_test.csv'\n",
    "    path_subs_csi = 'subs_csi_test.csv'\n",
    "    path_new_features = 'features.csv'"
   ]
  },
  {
   "cell_type": "code",
   "execution_count": null,
   "metadata": {
    "collapsed": true
   },
   "outputs": [],
   "source": []
  },
  {
   "cell_type": "code",
   "execution_count": null,
   "metadata": {
    "collapsed": true
   },
   "outputs": [],
   "source": []
  },
  {
   "cell_type": "code",
   "execution_count": 5,
   "metadata": {
    "collapsed": true
   },
   "outputs": [],
   "source": [
    "subs_csi = pd.read_csv(pathfiles + path_subs_csi, sep=';', decimal=',')"
   ]
  },
  {
   "cell_type": "code",
   "execution_count": 6,
   "metadata": {},
   "outputs": [
    {
     "data": {
      "text/html": [
       "<div>\n",
       "<style scoped>\n",
       "    .dataframe tbody tr th:only-of-type {\n",
       "        vertical-align: middle;\n",
       "    }\n",
       "\n",
       "    .dataframe tbody tr th {\n",
       "        vertical-align: top;\n",
       "    }\n",
       "\n",
       "    .dataframe thead th {\n",
       "        text-align: right;\n",
       "    }\n",
       "</style>\n",
       "<table border=\"1\" class=\"dataframe\">\n",
       "  <thead>\n",
       "    <tr style=\"text-align: right;\">\n",
       "      <th></th>\n",
       "      <th>SK_ID</th>\n",
       "      <th>CSI</th>\n",
       "      <th>CONTACT_DATE</th>\n",
       "    </tr>\n",
       "  </thead>\n",
       "  <tbody>\n",
       "    <tr>\n",
       "      <th>0</th>\n",
       "      <td>2</td>\n",
       "      <td>0</td>\n",
       "      <td>04.05</td>\n",
       "    </tr>\n",
       "  </tbody>\n",
       "</table>\n",
       "</div>"
      ],
      "text/plain": [
       "   SK_ID  CSI CONTACT_DATE\n",
       "0      2    0        04.05"
      ]
     },
     "execution_count": 6,
     "metadata": {},
     "output_type": "execute_result"
    }
   ],
   "source": [
    "subs_csi.head(1)"
   ]
  },
  {
   "cell_type": "code",
   "execution_count": 7,
   "metadata": {},
   "outputs": [
    {
     "data": {
      "text/plain": [
       "(4222, 3)"
      ]
     },
     "execution_count": 7,
     "metadata": {},
     "output_type": "execute_result"
    }
   ],
   "source": [
    "subs_csi.shape"
   ]
  },
  {
   "cell_type": "code",
   "execution_count": null,
   "metadata": {
    "collapsed": true
   },
   "outputs": [],
   "source": []
  },
  {
   "cell_type": "code",
   "execution_count": 8,
   "metadata": {
    "collapsed": true
   },
   "outputs": [],
   "source": [
    "#subs_bs_consumption = pd.read_csv(pathfiles + path_subs_bs_consumption, sep=';', decimal=',')"
   ]
  },
  {
   "cell_type": "code",
   "execution_count": 9,
   "metadata": {
    "collapsed": true
   },
   "outputs": [],
   "source": [
    "#subs_bs_consumption['month'] = subs_bs_consumption['MON'].apply(lambda x:int(str(x).split('.')[1]))"
   ]
  },
  {
   "cell_type": "code",
   "execution_count": 10,
   "metadata": {},
   "outputs": [],
   "source": [
    "#subs_bs_consumption.head(1)"
   ]
  },
  {
   "cell_type": "code",
   "execution_count": 11,
   "metadata": {},
   "outputs": [],
   "source": [
    "#subs_bs_consumption.shape"
   ]
  },
  {
   "cell_type": "code",
   "execution_count": null,
   "metadata": {
    "collapsed": true
   },
   "outputs": [],
   "source": []
  },
  {
   "cell_type": "code",
   "execution_count": 12,
   "metadata": {
    "collapsed": true
   },
   "outputs": [],
   "source": [
    "#users = subs_csi['SK_ID'].unique()\n",
    "#user_summary_sum_minutes = {(u, m):0 for u in users for m in subs_bs_consumption['month'].unique()}\n",
    "#user_summary_sum_data_mb = {(u, m):0 for u in users for m in subs_bs_consumption['month'].unique()}\n",
    "#user_summary_sum_data_min = {(u, m):0 for u in users for m in subs_bs_consumption['month'].unique()}"
   ]
  },
  {
   "cell_type": "code",
   "execution_count": null,
   "metadata": {
    "collapsed": true
   },
   "outputs": [],
   "source": []
  },
  {
   "cell_type": "code",
   "execution_count": 14,
   "metadata": {
    "collapsed": true
   },
   "outputs": [],
   "source": [
    "#for i in subs_bs_consumption.values:\n",
    "#    user_summary_sum_minutes[(i[0], i[6])] += i[3]\n",
    "#    user_summary_sum_data_mb[(i[0], i[6])] += i[4]\n",
    "#    user_summary_sum_data_min[(i[0], i[6])] += i[5]"
   ]
  },
  {
   "cell_type": "code",
   "execution_count": null,
   "metadata": {
    "collapsed": true
   },
   "outputs": [],
   "source": []
  },
  {
   "cell_type": "code",
   "execution_count": 15,
   "metadata": {
    "collapsed": true
   },
   "outputs": [],
   "source": [
    "#subs_bs_data_session = pd.read_csv(pathfiles + path_subs_bs_data_session, sep=';', decimal=',')"
   ]
  },
  {
   "cell_type": "code",
   "execution_count": 16,
   "metadata": {},
   "outputs": [],
   "source": [
    "#subs_bs_data_session.head(1)"
   ]
  },
  {
   "cell_type": "code",
   "execution_count": 17,
   "metadata": {},
   "outputs": [],
   "source": [
    "#subs_bs_data_session.shape"
   ]
  },
  {
   "cell_type": "code",
   "execution_count": null,
   "metadata": {
    "collapsed": true
   },
   "outputs": [],
   "source": []
  },
  {
   "cell_type": "code",
   "execution_count": 18,
   "metadata": {
    "collapsed": true
   },
   "outputs": [],
   "source": [
    "subs_features = pd.read_csv(pathfiles + path_subs_features, sep=';', decimal=',')"
   ]
  },
  {
   "cell_type": "code",
   "execution_count": 19,
   "metadata": {},
   "outputs": [
    {
     "data": {
      "text/html": [
       "<div>\n",
       "<style scoped>\n",
       "    .dataframe tbody tr th:only-of-type {\n",
       "        vertical-align: middle;\n",
       "    }\n",
       "\n",
       "    .dataframe tbody tr th {\n",
       "        vertical-align: top;\n",
       "    }\n",
       "\n",
       "    .dataframe thead th {\n",
       "        text-align: right;\n",
       "    }\n",
       "</style>\n",
       "<table border=\"1\" class=\"dataframe\">\n",
       "  <thead>\n",
       "    <tr style=\"text-align: right;\">\n",
       "      <th></th>\n",
       "      <th>SNAP_DATE</th>\n",
       "      <th>COM_CAT#1</th>\n",
       "      <th>SK_ID</th>\n",
       "      <th>COM_CAT#2</th>\n",
       "      <th>COM_CAT#3</th>\n",
       "      <th>BASE_TYPE</th>\n",
       "      <th>ACT</th>\n",
       "      <th>ARPU_GROUP</th>\n",
       "      <th>COM_CAT#7</th>\n",
       "      <th>COM_CAT#8</th>\n",
       "      <th>...</th>\n",
       "      <th>COM_CAT#25</th>\n",
       "      <th>COM_CAT#26</th>\n",
       "      <th>COM_CAT#27</th>\n",
       "      <th>COM_CAT#28</th>\n",
       "      <th>COM_CAT#29</th>\n",
       "      <th>COM_CAT#30</th>\n",
       "      <th>COM_CAT#31</th>\n",
       "      <th>COM_CAT#32</th>\n",
       "      <th>COM_CAT#33</th>\n",
       "      <th>COM_CAT#34</th>\n",
       "    </tr>\n",
       "  </thead>\n",
       "  <tbody>\n",
       "    <tr>\n",
       "      <th>0</th>\n",
       "      <td>01.08.01</td>\n",
       "      <td>4</td>\n",
       "      <td>3339</td>\n",
       "      <td>80</td>\n",
       "      <td>5</td>\n",
       "      <td>2</td>\n",
       "      <td>1</td>\n",
       "      <td>12.0</td>\n",
       "      <td>1</td>\n",
       "      <td>1489.0</td>\n",
       "      <td>...</td>\n",
       "      <td>1</td>\n",
       "      <td>1</td>\n",
       "      <td>0.031696</td>\n",
       "      <td>0.076724</td>\n",
       "      <td>0.040279</td>\n",
       "      <td>0.0133</td>\n",
       "      <td>0.083382</td>\n",
       "      <td>0.027579</td>\n",
       "      <td>0.103896</td>\n",
       "      <td>2.0</td>\n",
       "    </tr>\n",
       "  </tbody>\n",
       "</table>\n",
       "<p>1 rows × 36 columns</p>\n",
       "</div>"
      ],
      "text/plain": [
       "  SNAP_DATE  COM_CAT#1  SK_ID  COM_CAT#2  COM_CAT#3  BASE_TYPE  ACT  \\\n",
       "0  01.08.01          4   3339         80          5          2    1   \n",
       "\n",
       "   ARPU_GROUP  COM_CAT#7  COM_CAT#8     ...      COM_CAT#25  COM_CAT#26  \\\n",
       "0        12.0          1     1489.0     ...               1           1   \n",
       "\n",
       "   COM_CAT#27  COM_CAT#28  COM_CAT#29  COM_CAT#30  COM_CAT#31  COM_CAT#32  \\\n",
       "0    0.031696    0.076724    0.040279      0.0133    0.083382    0.027579   \n",
       "\n",
       "   COM_CAT#33  COM_CAT#34  \n",
       "0    0.103896         2.0  \n",
       "\n",
       "[1 rows x 36 columns]"
      ]
     },
     "execution_count": 19,
     "metadata": {},
     "output_type": "execute_result"
    }
   ],
   "source": [
    "subs_features.head(1)"
   ]
  },
  {
   "cell_type": "code",
   "execution_count": 20,
   "metadata": {},
   "outputs": [
    {
     "data": {
      "text/plain": [
       "(47411, 36)"
      ]
     },
     "execution_count": 20,
     "metadata": {},
     "output_type": "execute_result"
    }
   ],
   "source": [
    "subs_features.shape"
   ]
  },
  {
   "cell_type": "code",
   "execution_count": 21,
   "metadata": {
    "collapsed": true
   },
   "outputs": [],
   "source": [
    "subs_features['SNAP_DATE'] = subs_features['SNAP_DATE'].apply(lambda x:datetime.strptime(x, '%d.%m.%y'))"
   ]
  },
  {
   "cell_type": "code",
   "execution_count": 22,
   "metadata": {
    "collapsed": true
   },
   "outputs": [],
   "source": [
    "cats = subs_features['COM_CAT#24'].unique()\n",
    "subs_features['COM_CAT#242'] = pd.Categorical(subs_features['COM_CAT#24'], categories=cats)\n",
    "subs_features['COM_CAT#242'] = subs_features['COM_CAT#242'].cat.codes"
   ]
  },
  {
   "cell_type": "code",
   "execution_count": 23,
   "metadata": {
    "collapsed": true
   },
   "outputs": [],
   "source": [
    "subs_features['COM_CAT#34'].fillna(0, inplace=True)\n",
    "subs_features['COM_CAT#8'].fillna(0, inplace=True)\n",
    "subs_features['DEVICE_TYPE_ID'].fillna(0, inplace=True)\n",
    "subs_features['ARPU_GROUP'].fillna(0, inplace=True)\n",
    "subs_features['INTERNET_TYPE_ID'].fillna(0, inplace=True)"
   ]
  },
  {
   "cell_type": "code",
   "execution_count": 24,
   "metadata": {},
   "outputs": [
    {
     "data": {
      "text/plain": [
       "(47411, 37)"
      ]
     },
     "execution_count": 24,
     "metadata": {},
     "output_type": "execute_result"
    }
   ],
   "source": [
    "subs_features.dropna().shape"
   ]
  },
  {
   "cell_type": "code",
   "execution_count": 25,
   "metadata": {
    "collapsed": true
   },
   "outputs": [],
   "source": [
    "subs_features['month'] = subs_features['SNAP_DATE'].apply(lambda x:x.month)\n",
    "subs_features['year'] = subs_features['SNAP_DATE'].apply(lambda x:x.year)"
   ]
  },
  {
   "cell_type": "code",
   "execution_count": null,
   "metadata": {
    "collapsed": true
   },
   "outputs": [],
   "source": []
  },
  {
   "cell_type": "code",
   "execution_count": 26,
   "metadata": {
    "collapsed": true
   },
   "outputs": [],
   "source": [
    "def get_subs_features(year, month, fix_month, day, sk_id):\n",
    "    data = subs_features[(subs_features['year'] == year) & (subs_features['month'] == month) & (subs_features['SK_ID'] == sk_id)]\n",
    "    columns = ['COM_CAT#1', 'COM_CAT#2', 'COM_CAT#3', 'BASE_TYPE', 'ACT', 'ARPU_GROUP', 'COM_CAT#7', 'COM_CAT#8',\n",
    "              'DEVICE_TYPE_ID', 'INTERNET_TYPE_ID', 'REVENUE', 'ITC', 'VAS', 'RENT_CHANNEL', 'ROAM',\n",
    "              'COST', 'COM_CAT#242']\n",
    "    for i in range(18):\n",
    "        if i + 17 == 24:\n",
    "            if data.shape[0] == 1:\n",
    "                d = data[['COM_CAT#24']].values[0].tolist()[0]\n",
    "                dt = str(d).split('.')\n",
    "                c_month = int(dt[1])\n",
    "                c_day = int(dt[0])\n",
    "                delta = (datetime(2002, fix_month, day) - datetime(2001 if d == '31.12' else 2002, c_month, c_day)).days\n",
    "            continue\n",
    "        columns.append('COM_CAT#{}'.format(i+17))\n",
    "    if data.shape[0] == 1:\n",
    "        return columns, data[columns].values[0].tolist()\n",
    "    else:\n",
    "        return columns, np.zeros(len(columns))"
   ]
  },
  {
   "cell_type": "code",
   "execution_count": null,
   "metadata": {
    "collapsed": true
   },
   "outputs": [],
   "source": []
  },
  {
   "cell_type": "code",
   "execution_count": 27,
   "metadata": {
    "collapsed": true
   },
   "outputs": [],
   "source": [
    "# for dnn\n",
    "table = []\n",
    "x = np.zeros(subs_csi.shape[0])\n",
    "if TRAIN:\n",
    "    y = np.zeros(subs_csi.shape[0])\n",
    "for i in enumerate(subs_csi.values):\n",
    "    sk_id = int(i[1][0])\n",
    "    x[i[0]] = sk_id\n",
    "    line = [sk_id]\n",
    "    table_columns = ['sk_id']\n",
    "    if TRAIN:\n",
    "        dt = str(i[1][2]).split('.')\n",
    "    else:\n",
    "        dt = str(i[1][1]).split('.')\n",
    "    year = 2002\n",
    "    month = int(dt[1])\n",
    "    for j in range(12):\n",
    "        new_line = get_subs_features(year, month, int(dt[1]), int(dt[0]), sk_id)\n",
    "        line.extend(new_line[1])\n",
    "        table_columns.extend(new_line[0])\n",
    "        month -= 1\n",
    "        if month == 0:\n",
    "            month = 12\n",
    "            year -= 1\n",
    "    #for j in range(3):\n",
    "    #    line.append(user_summary_sum_minutes[(sk_id, int(dt[1]) - j)])\n",
    "    #    line.append(user_summary_sum_data_mb[(sk_id, int(dt[1]) - j)])\n",
    "    #    line.append(user_summary_sum_data_min[(sk_id, int(dt[1]) - j)])\n",
    "    table.append(line)\n",
    "    if TRAIN:\n",
    "        y[i[0]] = i[1][1]"
   ]
  },
  {
   "cell_type": "code",
   "execution_count": null,
   "metadata": {
    "collapsed": true
   },
   "outputs": [],
   "source": []
  },
  {
   "cell_type": "code",
   "execution_count": 28,
   "metadata": {
    "collapsed": true
   },
   "outputs": [],
   "source": [
    "columns_avg = ['CELL_AVAILABILITY_2G', 'CELL_AVAILABILITY_3G',\n",
    "       'CELL_AVAILABILITY_4G', 'CSSR_2G', 'CSSR_3G',\n",
    "       'ERAB_PS_BLOCKING_RATE_LTE', 'ERAB_PS_BLOCKING_RATE_PLMN_LTE',\n",
    "       'ERAB_PS_DROP_RATE_LTE', 'HSPDSCH_CODE_UTIL_3G',\n",
    "       'NODEB_CNBAP_LOAD_HARDWARE', 'PART_CQI_QPSK_LTE', 'PART_MCS_QPSK_LTE',\n",
    "       'PROC_LOAD_3G', 'PSSR_2G', 'PSSR_3G', 'PSSR_LTE',\n",
    "       'RAB_CS_BLOCKING_RATE_3G', 'RAB_CS_DROP_RATE_3G',\n",
    "       'RAB_PS_BLOCKING_RATE_3G', 'RAB_PS_DROP_RATE_3G', 'RBU_AVAIL_DL',\n",
    "       'RBU_AVAIL_DL_LTE', 'RBU_AVAIL_UL', 'RBU_OTHER_DL', 'RBU_OTHER_UL',\n",
    "       'RBU_OWN_DL', 'RBU_OWN_UL', 'RRC_BLOCKING_RATE_3G',\n",
    "       'RRC_BLOCKING_RATE_LTE', 'RTWP_3G', 'SHO_FACTOR', 'TBF_DROP_RATE_2G',\n",
    "       'TCH_DROP_RATE_2G', 'UTIL_BRD_CPU_3G', 'UTIL_CE_DL_3G',\n",
    "       'UTIL_CE_HW_DL_3G', 'UTIL_CE_UL_3G', 'UTIL_SUBUNITS_3G',\n",
    "       'UL_VOLUME_LTE', 'DL_VOLUME_LTE', 'TOTAL_DL_VOLUME_3G',\n",
    "       'TOTAL_UL_VOLUME_3G']"
   ]
  },
  {
   "cell_type": "code",
   "execution_count": 29,
   "metadata": {
    "collapsed": true
   },
   "outputs": [],
   "source": [
    "columns_chhn = ['AVEUSERNUMBER', 'AVEUSERNUMBER_PLMN',\n",
    "       'AVR_DL_HSPA_USER_3G', 'AVR_DL_R99_USER_3G', 'AVR_DL_USER_3G',\n",
    "       'AVR_DL_USER_LTE', 'AVR_TX_POWER_3G', 'AVR_UL_HSPA_USER',\n",
    "       'AVR_UL_R99_USER', 'AVR_UL_USER_3G', 'AVR_UL_USER_LTE',\n",
    "       'DL_AVR_THROUGHPUT_3G', 'DL_AVR_THROUGHPUT_LTE',\n",
    "       'DL_AVR_THROUGHPUT_R99', 'DL_MEAN_USER_THROUGHPUT_LTE',\n",
    "       'DL_MEAN_USER_THROUGHPUT_DL_2G', 'DL_MEAN_USER_THROUGHPUT_HSPA3G',\n",
    "       'DL_MEAN_USER_THROUGHPUT_PLTE', 'DL_MEAN_USER_THROUGHPUT_REL93G',\n",
    "       'HSDPA_USERS_3G', 'HSUPA_USERS_3G', 'RBU_USED_DL', 'RBU_USED_UL',\n",
    "       'RELATIVE_RBU_USED_DL', 'RELATIVE_RBU_USED_UL', 'RELATIVE_TX_POWER_3G',\n",
    "       'UL_AVR_THROUGHPUT_3G', 'UL_AVR_THROUGHPUT_LTE',\n",
    "       'UL_AVR_THROUGHPUT_R99', 'UL_MEAN_USER_THROUGHPUT_LTE',\n",
    "       'UL_MEAN_USER_THROUGHPUT_HS3G', 'UL_MEAN_USER_THROUGHPUT_PLTE',\n",
    "       'UL_MEAN_USER_THROUGHPUT_REL93G']"
   ]
  },
  {
   "cell_type": "code",
   "execution_count": 75,
   "metadata": {},
   "outputs": [],
   "source": [
    "def get_extend_data(x, type_data, column_name):\n",
    "    fname = pathfiles + path_features + '{}_{}.csv'.format(type_data, column_name)\n",
    "    result = pd.read_csv(fname)\n",
    "    result.fillna(0, inplace=True)\n",
    "    table = []\n",
    "    width_window = 8\n",
    "    for i in zip(x, result.values):\n",
    "        if i[0] != i[1][0]:\n",
    "            raise exception('Incorrect order')\n",
    "        width_data = result.shape[1] - 1\n",
    "        all_columns = result.columns\n",
    "        rows = []\n",
    "        row_data = i[1][1:]\n",
    "        for j in range(int(width_data / width_window)):\n",
    "            rows.append(np.array(row_data[j:j+width_window]).reshape(8))\n",
    "        table.append(normalize(np.array(rows)))\n",
    "    return np.array(table)\n",
    "\n",
    "def get_all_data(x):\n",
    "    result = None\n",
    "    for columns in [columns_avg, columns_chhn]:\n",
    "        for c in columns:\n",
    "            for type_data in ['data', 'voice']:\n",
    "                t = get_extend_data(x, type_data, c)\n",
    "                if result is None:\n",
    "                    result = t\n",
    "                else:\n",
    "                    result = np.concatenate([result, t], axis=2)\n",
    "    return result"
   ]
  },
  {
   "cell_type": "code",
   "execution_count": null,
   "metadata": {
    "collapsed": true
   },
   "outputs": [],
   "source": []
  },
  {
   "cell_type": "code",
   "execution_count": 76,
   "metadata": {
    "collapsed": true
   },
   "outputs": [],
   "source": [
    "data = get_extend_data(x, 'data', 'AVEUSERNUMBER')"
   ]
  },
  {
   "cell_type": "code",
   "execution_count": 77,
   "metadata": {},
   "outputs": [],
   "source": [
    "data = get_all_data(x)"
   ]
  },
  {
   "cell_type": "code",
   "execution_count": 78,
   "metadata": {},
   "outputs": [
    {
     "data": {
      "text/plain": [
       "(4222, 63, 1200)"
      ]
     },
     "execution_count": 78,
     "metadata": {},
     "output_type": "execute_result"
    }
   ],
   "source": [
    "data.shape"
   ]
  },
  {
   "cell_type": "code",
   "execution_count": null,
   "metadata": {
    "collapsed": true
   },
   "outputs": [],
   "source": []
  },
  {
   "cell_type": "code",
   "execution_count": 79,
   "metadata": {
    "collapsed": true
   },
   "outputs": [],
   "source": [
    "res_data = data"
   ]
  },
  {
   "cell_type": "code",
   "execution_count": null,
   "metadata": {
    "collapsed": true
   },
   "outputs": [],
   "source": []
  },
  {
   "cell_type": "code",
   "execution_count": null,
   "metadata": {
    "collapsed": true
   },
   "outputs": [],
   "source": []
  },
  {
   "cell_type": "code",
   "execution_count": 80,
   "metadata": {
    "collapsed": true
   },
   "outputs": [],
   "source": [
    "from sklearn import preprocessing"
   ]
  },
  {
   "cell_type": "code",
   "execution_count": 81,
   "metadata": {
    "collapsed": true
   },
   "outputs": [],
   "source": [
    "X = np.asarray(res_data)\n",
    "y = np.asarray(y)"
   ]
  },
  {
   "cell_type": "code",
   "execution_count": 82,
   "metadata": {
    "collapsed": true
   },
   "outputs": [],
   "source": [
    "X = np.array(X.tolist())"
   ]
  },
  {
   "cell_type": "code",
   "execution_count": 83,
   "metadata": {
    "collapsed": true
   },
   "outputs": [],
   "source": [
    "from sklearn.model_selection import train_test_split"
   ]
  },
  {
   "cell_type": "code",
   "execution_count": 84,
   "metadata": {
    "collapsed": true
   },
   "outputs": [],
   "source": [
    "X_train, X_test, y_train, y_test = train_test_split(X, y, test_size=0.2, random_state=42)"
   ]
  },
  {
   "cell_type": "code",
   "execution_count": null,
   "metadata": {
    "collapsed": true
   },
   "outputs": [],
   "source": []
  },
  {
   "cell_type": "code",
   "execution_count": 85,
   "metadata": {
    "collapsed": true
   },
   "outputs": [],
   "source": [
    "from sklearn.utils.class_weight import compute_class_weight\n",
    "class_weights = compute_class_weight('balanced', np.unique(y_train), y_train)"
   ]
  },
  {
   "cell_type": "code",
   "execution_count": 86,
   "metadata": {},
   "outputs": [],
   "source": [
    "from keras.models import Sequential, Model\n",
    "from keras.layers import Dense, Dropout, Conv1D, MaxPooling1D, Flatten, Input, GlobalMaxPooling1D\n",
    "from keras.utils import np_utils\n",
    "from keras.callbacks import EarlyStopping\n",
    "from sklearn.model_selection import train_test_split"
   ]
  },
  {
   "cell_type": "code",
   "execution_count": 87,
   "metadata": {
    "collapsed": true
   },
   "outputs": [],
   "source": [
    "from sklearn.metrics import roc_auc_score\n",
    "from keras import regularizers\n",
    "from sklearn.preprocessing import normalize"
   ]
  },
  {
   "cell_type": "code",
   "execution_count": 88,
   "metadata": {
    "collapsed": true
   },
   "outputs": [],
   "source": [
    "from sklearn import metrics\n",
    "from keras import backend as K\n",
    "import tensorflow as tf\n",
    "def auc(y_true, y_pred):\n",
    "    auc = tf.metrics.auc(y_true, y_pred)[1]\n",
    "    K.get_session().run(tf.local_variables_initializer())\n",
    "    return auc"
   ]
  },
  {
   "cell_type": "code",
   "execution_count": 89,
   "metadata": {
    "collapsed": true
   },
   "outputs": [],
   "source": [
    "def create_cnn_model():\n",
    "    #build Keras model\n",
    "    \n",
    "    sequence_input = Input(shape=X_test.shape[1:], dtype='float32')\n",
    "    x = Conv1D(32, 3, activation='relu')(sequence_input)\n",
    "    x = MaxPooling1D(3)(x)\n",
    "    x = Conv1D(32, 3, activation='relu')(x)\n",
    "    x = GlobalMaxPooling1D()(x)\n",
    "    x = Dense(128, activation='relu')(x)\n",
    "    preds = Dense(1, activation='sigmoid')(x)\n",
    "    model = Model(sequence_input, preds)\n",
    "    model.compile(loss='binary_crossentropy', metrics=[auc], optimizer='adam')\n",
    "    return model\n"
   ]
  },
  {
   "cell_type": "code",
   "execution_count": 90,
   "metadata": {},
   "outputs": [
    {
     "name": "stdout",
     "output_type": "stream",
     "text": [
      "_________________________________________________________________\n",
      "Layer (type)                 Output Shape              Param #   \n",
      "=================================================================\n",
      "input_3 (InputLayer)         (None, 63, 1200)          0         \n",
      "_________________________________________________________________\n",
      "conv1d_5 (Conv1D)            (None, 61, 32)            115232    \n",
      "_________________________________________________________________\n",
      "max_pooling1d_3 (MaxPooling1 (None, 20, 32)            0         \n",
      "_________________________________________________________________\n",
      "conv1d_6 (Conv1D)            (None, 18, 32)            3104      \n",
      "_________________________________________________________________\n",
      "global_max_pooling1d_3 (Glob (None, 32)                0         \n",
      "_________________________________________________________________\n",
      "dense_5 (Dense)              (None, 128)               4224      \n",
      "_________________________________________________________________\n",
      "dense_6 (Dense)              (None, 1)                 129       \n",
      "=================================================================\n",
      "Total params: 122,689\n",
      "Trainable params: 122,689\n",
      "Non-trainable params: 0\n",
      "_________________________________________________________________\n",
      "None\n",
      "Train on 2701 samples, validate on 676 samples\n",
      "Epoch 1/15\n",
      "2701/2701 [==============================] - 4s 1ms/step - loss: 0.4999 - auc: 0.4683 - val_loss: 0.4091 - val_auc: 0.4791\n",
      "Epoch 2/15\n",
      "2701/2701 [==============================] - 3s 1ms/step - loss: 0.4493 - auc: 0.4803 - val_loss: 0.4138 - val_auc: 0.4817\n",
      "Epoch 3/15\n",
      "2701/2701 [==============================] - 3s 1ms/step - loss: 0.4469 - auc: 0.4855 - val_loss: 0.4066 - val_auc: 0.4918\n",
      "Epoch 4/15\n",
      "2701/2701 [==============================] - 3s 1ms/step - loss: 0.4442 - auc: 0.4954 - val_loss: 0.4080 - val_auc: 0.4985\n",
      "Epoch 5/15\n",
      "2701/2701 [==============================] - 3s 1ms/step - loss: 0.4434 - auc: 0.5009 - val_loss: 0.4080 - val_auc: 0.5029\n",
      "Epoch 6/15\n",
      "2701/2701 [==============================] - 3s 1ms/step - loss: 0.4416 - auc: 0.5049 - val_loss: 0.4054 - val_auc: 0.5069\n",
      "Epoch 7/15\n",
      "2701/2701 [==============================] - 3s 1ms/step - loss: 0.4398 - auc: 0.5101 - val_loss: 0.4139 - val_auc: 0.5118\n",
      "Epoch 8/15\n",
      "2701/2701 [==============================] - 3s 1ms/step - loss: 0.4468 - auc: 0.5119 - val_loss: 0.4044 - val_auc: 0.5125\n",
      "Epoch 9/15\n",
      "2701/2701 [==============================] - 3s 1ms/step - loss: 0.4378 - auc: 0.5148 - val_loss: 0.4042 - val_auc: 0.5157\n",
      "Epoch 10/15\n",
      "2701/2701 [==============================] - 3s 1ms/step - loss: 0.4357 - auc: 0.5177 - val_loss: 0.4048 - val_auc: 0.5187\n",
      "Epoch 11/15\n",
      "2701/2701 [==============================] - 3s 1ms/step - loss: 0.4314 - auc: 0.5209 - val_loss: 0.4119 - val_auc: 0.5232\n",
      "Epoch 12/15\n",
      "2701/2701 [==============================] - 3s 1ms/step - loss: 0.4347 - auc: 0.5247 - val_loss: 0.4052 - val_auc: 0.5263\n",
      "Epoch 13/15\n",
      "2701/2701 [==============================] - 3s 1ms/step - loss: 0.4300 - auc: 0.5289 - val_loss: 0.4015 - val_auc: 0.5310\n",
      "Epoch 14/15\n",
      "2701/2701 [==============================] - 3s 1ms/step - loss: 0.4274 - auc: 0.5336 - val_loss: 0.4055 - val_auc: 0.5360\n",
      "Epoch 15/15\n",
      "2701/2701 [==============================] - 3s 1ms/step - loss: 0.4237 - auc: 0.5392 - val_loss: 0.4176 - val_auc: 0.5406\n"
     ]
    }
   ],
   "source": [
    "count_epochs = 15\n",
    "model = create_cnn_model()\n",
    "#early_stopping_monitor = EarlyStopping(patience=20)\n",
    "print(model.summary())\n",
    "history = model.fit(np.array(X_train), np.array(y_train), batch_size = 256, epochs = count_epochs, verbose=1, validation_split=0.2, class_weight=class_weights)"
   ]
  },
  {
   "cell_type": "code",
   "execution_count": 91,
   "metadata": {},
   "outputs": [
    {
     "data": {
      "image/png": "[encoded data removed]",
      "text/plain": [
       "<matplotlib.figure.Figure at 0x1b084dddcc0>"
      ]
     },
     "metadata": {},
     "output_type": "display_data"
    }
   ],
   "source": [
    "epochs = range(1, count_epochs + 1)\n",
    "history_gr = history.history['val_loss']\n",
    "import matplotlib.pyplot as plt\n",
    "\n",
    "plt.plot(epochs, history_gr, 'b+', label='Original model')\n",
    "plt.xlabel('Epochs')\n",
    "plt.ylabel('Validation loss')\n",
    "plt.legend()\n",
    "\n",
    "plt.show()"
   ]
  },
  {
   "cell_type": "code",
   "execution_count": null,
   "metadata": {
    "collapsed": true
   },
   "outputs": [],
   "source": []
  },
  {
   "cell_type": "code",
   "execution_count": null,
   "metadata": {
    "collapsed": true
   },
   "outputs": [],
   "source": []
  },
  {
   "cell_type": "code",
   "execution_count": 92,
   "metadata": {},
   "outputs": [
    {
     "name": "stdout",
     "output_type": "stream",
     "text": [
      "Total roc auc score = 0.4644\n"
     ]
    }
   ],
   "source": [
    "predict = model.predict(np.array(X_test))\n",
    "score = roc_auc_score(y_test, predict)\n",
    "print(\"Total roc auc score = {0:0.4f}\".format(score))"
   ]
  },
  {
   "cell_type": "code",
   "execution_count": null,
   "metadata": {
    "collapsed": true
   },
   "outputs": [],
   "source": []
  },
  {
   "cell_type": "code",
   "execution_count": null,
   "metadata": {
    "collapsed": true
   },
   "outputs": [],
   "source": []
  },
  {
   "cell_type": "code",
   "execution_count": null,
   "metadata": {
    "collapsed": true
   },
   "outputs": [],
   "source": []
  }
 ],
 "metadata": {
  "kernelspec": {
   "display_name": "Python 3",
   "language": "python",
   "name": "python3"
  },
  "language_info": {
   "codemirror_mode": {
    "name": "ipython",
    "version": 3
   },
   "file_extension": ".py",
   "mimetype": "text/x-python",
   "name": "python",
   "nbconvert_exporter": "python",
   "pygments_lexer": "ipython3",
   "version": "3.6.3"
  }
 },
 "nbformat": 4,
 "nbformat_minor": 2
}
