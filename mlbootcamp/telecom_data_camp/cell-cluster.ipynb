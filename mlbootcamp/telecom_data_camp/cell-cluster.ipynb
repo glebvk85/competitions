{
 "cells": [
  {
   "cell_type": "code",
   "execution_count": 1,
   "metadata": {
    "collapsed": true
   },
   "outputs": [],
   "source": [
    "import pandas as pd"
   ]
  },
  {
   "cell_type": "code",
   "execution_count": 3,
   "metadata": {
    "collapsed": true
   },
   "outputs": [],
   "source": [
    "path = 'C:/data/mlbootcamp/dataset/'"
   ]
  },
  {
   "cell_type": "code",
   "execution_count": null,
   "metadata": {
    "collapsed": true
   },
   "outputs": [],
   "source": []
  },
  {
   "cell_type": "code",
   "execution_count": null,
   "metadata": {
    "collapsed": true
   },
   "outputs": [],
   "source": []
  },
  {
   "cell_type": "code",
   "execution_count": null,
   "metadata": {
    "collapsed": true
   },
   "outputs": [],
   "source": []
  },
  {
   "cell_type": "code",
   "execution_count": 4,
   "metadata": {},
   "outputs": [],
   "source": [
    "bs_avg_kpi = pd.read_csv(path + 'bs_avg_kpi_2g.csv')"
   ]
  },
  {
   "cell_type": "code",
   "execution_count": 5,
   "metadata": {},
   "outputs": [
    {
     "data": {
      "text/html": [
       "<div>\n",
       "<style scoped>\n",
       "    .dataframe tbody tr th:only-of-type {\n",
       "        vertical-align: middle;\n",
       "    }\n",
       "\n",
       "    .dataframe tbody tr th {\n",
       "        vertical-align: top;\n",
       "    }\n",
       "\n",
       "    .dataframe thead th {\n",
       "        text-align: right;\n",
       "    }\n",
       "</style>\n",
       "<table border=\"1\" class=\"dataframe\">\n",
       "  <thead>\n",
       "    <tr style=\"text-align: right;\">\n",
       "      <th></th>\n",
       "      <th>T_DATE</th>\n",
       "      <th>CELL_LAC_ID</th>\n",
       "      <th>CELL_AVAILABILITY_2G</th>\n",
       "      <th>CSSR_2G</th>\n",
       "      <th>PSSR_2G</th>\n",
       "      <th>TBF_DROP_RATE_2G</th>\n",
       "      <th>TCH_DROP_RATE_2G</th>\n",
       "    </tr>\n",
       "  </thead>\n",
       "  <tbody>\n",
       "    <tr>\n",
       "      <th>0</th>\n",
       "      <td>1.01</td>\n",
       "      <td>275453</td>\n",
       "      <td>1.0</td>\n",
       "      <td>0.932420</td>\n",
       "      <td>NaN</td>\n",
       "      <td>0.000055</td>\n",
       "      <td>0.000377</td>\n",
       "    </tr>\n",
       "    <tr>\n",
       "      <th>1</th>\n",
       "      <td>17.05</td>\n",
       "      <td>275453</td>\n",
       "      <td>1.0</td>\n",
       "      <td>0.931243</td>\n",
       "      <td>NaN</td>\n",
       "      <td>0.000020</td>\n",
       "      <td>0.000206</td>\n",
       "    </tr>\n",
       "    <tr>\n",
       "      <th>2</th>\n",
       "      <td>31.01</td>\n",
       "      <td>275453</td>\n",
       "      <td>1.0</td>\n",
       "      <td>0.931607</td>\n",
       "      <td>NaN</td>\n",
       "      <td>0.000018</td>\n",
       "      <td>0.000173</td>\n",
       "    </tr>\n",
       "    <tr>\n",
       "      <th>3</th>\n",
       "      <td>29.01</td>\n",
       "      <td>275453</td>\n",
       "      <td>1.0</td>\n",
       "      <td>0.930856</td>\n",
       "      <td>NaN</td>\n",
       "      <td>0.000020</td>\n",
       "      <td>0.000228</td>\n",
       "    </tr>\n",
       "    <tr>\n",
       "      <th>4</th>\n",
       "      <td>2.01</td>\n",
       "      <td>275453</td>\n",
       "      <td>1.0</td>\n",
       "      <td>0.925372</td>\n",
       "      <td>NaN</td>\n",
       "      <td>0.000053</td>\n",
       "      <td>0.000297</td>\n",
       "    </tr>\n",
       "  </tbody>\n",
       "</table>\n",
       "</div>"
      ],
      "text/plain": [
       "   T_DATE  CELL_LAC_ID  CELL_AVAILABILITY_2G   CSSR_2G  PSSR_2G  \\\n",
       "0    1.01       275453                   1.0  0.932420      NaN   \n",
       "1   17.05       275453                   1.0  0.931243      NaN   \n",
       "2   31.01       275453                   1.0  0.931607      NaN   \n",
       "3   29.01       275453                   1.0  0.930856      NaN   \n",
       "4    2.01       275453                   1.0  0.925372      NaN   \n",
       "\n",
       "   TBF_DROP_RATE_2G  TCH_DROP_RATE_2G  \n",
       "0          0.000055          0.000377  \n",
       "1          0.000020          0.000206  \n",
       "2          0.000018          0.000173  \n",
       "3          0.000020          0.000228  \n",
       "4          0.000053          0.000297  "
      ]
     },
     "execution_count": 5,
     "metadata": {},
     "output_type": "execute_result"
    }
   ],
   "source": [
    "bs_avg_kpi.head()"
   ]
  },
  {
   "cell_type": "code",
   "execution_count": 6,
   "metadata": {},
   "outputs": [
    {
     "name": "stdout",
     "output_type": "stream",
     "text": [
      "<class 'pandas.core.frame.DataFrame'>\n",
      "RangeIndex: 16397775 entries, 0 to 16397774\n",
      "Data columns (total 7 columns):\n",
      "T_DATE                  float64\n",
      "CELL_LAC_ID             int64\n",
      "CELL_AVAILABILITY_2G    float64\n",
      "CSSR_2G                 float64\n",
      "PSSR_2G                 float64\n",
      "TBF_DROP_RATE_2G        float64\n",
      "TCH_DROP_RATE_2G        float64\n",
      "dtypes: float64(6), int64(1)\n",
      "memory usage: 875.7 MB\n"
     ]
    }
   ],
   "source": [
    "bs_avg_kpi.info()"
   ]
  },
  {
   "cell_type": "code",
   "execution_count": 7,
   "metadata": {},
   "outputs": [
    {
     "data": {
      "text/html": [
       "<div>\n",
       "<style scoped>\n",
       "    .dataframe tbody tr th:only-of-type {\n",
       "        vertical-align: middle;\n",
       "    }\n",
       "\n",
       "    .dataframe tbody tr th {\n",
       "        vertical-align: top;\n",
       "    }\n",
       "\n",
       "    .dataframe thead th {\n",
       "        text-align: right;\n",
       "    }\n",
       "</style>\n",
       "<table border=\"1\" class=\"dataframe\">\n",
       "  <thead>\n",
       "    <tr style=\"text-align: right;\">\n",
       "      <th></th>\n",
       "      <th>T_DATE</th>\n",
       "      <th>CELL_LAC_ID</th>\n",
       "      <th>CELL_AVAILABILITY_2G</th>\n",
       "      <th>CSSR_2G</th>\n",
       "      <th>PSSR_2G</th>\n",
       "      <th>TBF_DROP_RATE_2G</th>\n",
       "      <th>TCH_DROP_RATE_2G</th>\n",
       "    </tr>\n",
       "  </thead>\n",
       "  <tbody>\n",
       "    <tr>\n",
       "      <th>count</th>\n",
       "      <td>1.639778e+07</td>\n",
       "      <td>1.639778e+07</td>\n",
       "      <td>1.639301e+07</td>\n",
       "      <td>8.847628e+06</td>\n",
       "      <td>7.009606e+06</td>\n",
       "      <td>1.583272e+07</td>\n",
       "      <td>1.411336e+07</td>\n",
       "    </tr>\n",
       "    <tr>\n",
       "      <th>mean</th>\n",
       "      <td>1.565816e+01</td>\n",
       "      <td>2.543382e+05</td>\n",
       "      <td>9.984489e-01</td>\n",
       "      <td>9.288820e-01</td>\n",
       "      <td>9.989190e-01</td>\n",
       "      <td>2.913875e-05</td>\n",
       "      <td>2.997324e-03</td>\n",
       "    </tr>\n",
       "    <tr>\n",
       "      <th>std</th>\n",
       "      <td>8.747801e+00</td>\n",
       "      <td>1.469432e+05</td>\n",
       "      <td>3.237738e-02</td>\n",
       "      <td>1.080749e-02</td>\n",
       "      <td>1.604193e-02</td>\n",
       "      <td>6.553463e-04</td>\n",
       "      <td>5.603819e-03</td>\n",
       "    </tr>\n",
       "    <tr>\n",
       "      <th>min</th>\n",
       "      <td>1.010000e+00</td>\n",
       "      <td>4.000000e+00</td>\n",
       "      <td>0.000000e+00</td>\n",
       "      <td>0.000000e+00</td>\n",
       "      <td>0.000000e+00</td>\n",
       "      <td>0.000000e+00</td>\n",
       "      <td>0.000000e+00</td>\n",
       "    </tr>\n",
       "    <tr>\n",
       "      <th>25%</th>\n",
       "      <td>8.030000e+00</td>\n",
       "      <td>1.271340e+05</td>\n",
       "      <td>1.000000e+00</td>\n",
       "      <td>9.288910e-01</td>\n",
       "      <td>9.999410e-01</td>\n",
       "      <td>1.200000e-05</td>\n",
       "      <td>5.140000e-04</td>\n",
       "    </tr>\n",
       "    <tr>\n",
       "      <th>50%</th>\n",
       "      <td>1.601000e+01</td>\n",
       "      <td>2.543610e+05</td>\n",
       "      <td>1.000000e+00</td>\n",
       "      <td>9.313440e-01</td>\n",
       "      <td>1.000000e+00</td>\n",
       "      <td>2.100000e-05</td>\n",
       "      <td>1.249000e-03</td>\n",
       "    </tr>\n",
       "    <tr>\n",
       "      <th>75%</th>\n",
       "      <td>2.304000e+01</td>\n",
       "      <td>3.805010e+05</td>\n",
       "      <td>1.000000e+00</td>\n",
       "      <td>9.324650e-01</td>\n",
       "      <td>1.000000e+00</td>\n",
       "      <td>3.700000e-05</td>\n",
       "      <td>3.138000e-03</td>\n",
       "    </tr>\n",
       "    <tr>\n",
       "      <th>max</th>\n",
       "      <td>3.105000e+01</td>\n",
       "      <td>5.104700e+05</td>\n",
       "      <td>1.000000e+00</td>\n",
       "      <td>1.000000e+00</td>\n",
       "      <td>1.000000e+00</td>\n",
       "      <td>1.000000e+00</td>\n",
       "      <td>1.000000e+00</td>\n",
       "    </tr>\n",
       "  </tbody>\n",
       "</table>\n",
       "</div>"
      ],
      "text/plain": [
       "             T_DATE   CELL_LAC_ID  CELL_AVAILABILITY_2G       CSSR_2G  \\\n",
       "count  1.639778e+07  1.639778e+07          1.639301e+07  8.847628e+06   \n",
       "mean   1.565816e+01  2.543382e+05          9.984489e-01  9.288820e-01   \n",
       "std    8.747801e+00  1.469432e+05          3.237738e-02  1.080749e-02   \n",
       "min    1.010000e+00  4.000000e+00          0.000000e+00  0.000000e+00   \n",
       "25%    8.030000e+00  1.271340e+05          1.000000e+00  9.288910e-01   \n",
       "50%    1.601000e+01  2.543610e+05          1.000000e+00  9.313440e-01   \n",
       "75%    2.304000e+01  3.805010e+05          1.000000e+00  9.324650e-01   \n",
       "max    3.105000e+01  5.104700e+05          1.000000e+00  1.000000e+00   \n",
       "\n",
       "            PSSR_2G  TBF_DROP_RATE_2G  TCH_DROP_RATE_2G  \n",
       "count  7.009606e+06      1.583272e+07      1.411336e+07  \n",
       "mean   9.989190e-01      2.913875e-05      2.997324e-03  \n",
       "std    1.604193e-02      6.553463e-04      5.603819e-03  \n",
       "min    0.000000e+00      0.000000e+00      0.000000e+00  \n",
       "25%    9.999410e-01      1.200000e-05      5.140000e-04  \n",
       "50%    1.000000e+00      2.100000e-05      1.249000e-03  \n",
       "75%    1.000000e+00      3.700000e-05      3.138000e-03  \n",
       "max    1.000000e+00      1.000000e+00      1.000000e+00  "
      ]
     },
     "execution_count": 7,
     "metadata": {},
     "output_type": "execute_result"
    }
   ],
   "source": [
    "bs_avg_kpi.describe()"
   ]
  },
  {
   "cell_type": "code",
   "execution_count": 8,
   "metadata": {
    "collapsed": true
   },
   "outputs": [],
   "source": [
    "bs_avg_kpi['CELL_AVAILABILITY_2G'].fillna(bs_avg_kpi['CELL_AVAILABILITY_2G'].median(), inplace=True)"
   ]
  },
  {
   "cell_type": "code",
   "execution_count": 10,
   "metadata": {
    "collapsed": true
   },
   "outputs": [],
   "source": [
    "bs_avg_kpi['CSSR_2G'].fillna(bs_avg_kpi['CSSR_2G'].median(), inplace=True)"
   ]
  },
  {
   "cell_type": "code",
   "execution_count": 12,
   "metadata": {
    "collapsed": true
   },
   "outputs": [],
   "source": [
    "bs_avg_kpi['PSSR_2G'].fillna(bs_avg_kpi['PSSR_2G'].median(), inplace=True)"
   ]
  },
  {
   "cell_type": "code",
   "execution_count": 14,
   "metadata": {
    "collapsed": true
   },
   "outputs": [],
   "source": [
    "bs_avg_kpi['TBF_DROP_RATE_2G'].fillna(bs_avg_kpi['TBF_DROP_RATE_2G'].median(), inplace=True)"
   ]
  },
  {
   "cell_type": "code",
   "execution_count": 16,
   "metadata": {
    "collapsed": true
   },
   "outputs": [],
   "source": [
    "bs_avg_kpi['TCH_DROP_RATE_2G'].fillna(bs_avg_kpi['TCH_DROP_RATE_2G'].median(), inplace=True)"
   ]
  },
  {
   "cell_type": "code",
   "execution_count": 17,
   "metadata": {},
   "outputs": [
    {
     "name": "stdout",
     "output_type": "stream",
     "text": [
      "(16397775, 7)\n",
      "(16397775, 7)\n"
     ]
    }
   ],
   "source": [
    "print(bs_avg_kpi.shape)\n",
    "print(bs_avg_kpi.dropna().shape)"
   ]
  },
  {
   "cell_type": "code",
   "execution_count": null,
   "metadata": {
    "collapsed": true
   },
   "outputs": [],
   "source": []
  },
  {
   "cell_type": "code",
   "execution_count": 20,
   "metadata": {
    "collapsed": true
   },
   "outputs": [],
   "source": [
    "from sklearn import datasets\n",
    "from sklearn.cluster import KMeans"
   ]
  },
  {
   "cell_type": "code",
   "execution_count": null,
   "metadata": {
    "collapsed": true
   },
   "outputs": [],
   "source": []
  },
  {
   "cell_type": "code",
   "execution_count": null,
   "metadata": {
    "collapsed": true
   },
   "outputs": [],
   "source": []
  },
  {
   "cell_type": "code",
   "execution_count": 18,
   "metadata": {
    "collapsed": true
   },
   "outputs": [],
   "source": [
    "columns_2g = ['CELL_AVAILABILITY_2G', 'CSSR_2G', 'PSSR_2G', 'TBF_DROP_RATE_2G', 'TCH_DROP_RATE_2G']"
   ]
  },
  {
   "cell_type": "code",
   "execution_count": 21,
   "metadata": {},
   "outputs": [],
   "source": [
    "n_clusters = 3\n",
    "\n",
    "X = bs_avg_kpi[columns_2g]\n",
    "\n",
    "model = KMeans(n_clusters=n_clusters)\n",
    "model.fit(X)\n",
    "\n",
    "all_predictions = model.predict(X)"
   ]
  },
  {
   "cell_type": "code",
   "execution_count": null,
   "metadata": {
    "collapsed": true
   },
   "outputs": [],
   "source": []
  },
  {
   "cell_type": "code",
   "execution_count": null,
   "metadata": {
    "collapsed": true
   },
   "outputs": [],
   "source": [
    "%%time\n",
    "\n",
    "from sklearn.manifold import TSNE\n",
    "tsne = TSNE(random_state=17)\n",
    "\n",
    "X_tsne = tsne.fit_transform(X)"
   ]
  },
  {
   "cell_type": "code",
   "execution_count": null,
   "metadata": {
    "collapsed": true
   },
   "outputs": [],
   "source": [
    "plt.figure(figsize=(12,10))\n",
    "plt.scatter(X_tsne[:, 0], X_tsne[:, 1], c=all_predictions, \n",
    "            edgecolor='none', alpha=0.7, s=40,\n",
    "            cmap=plt.cm.get_cmap('nipy_spectral', n_clusters))\n",
    "plt.colorbar()\n",
    "plt.title('MNIST. t-SNE projection')"
   ]
  },
  {
   "cell_type": "code",
   "execution_count": null,
   "metadata": {
    "collapsed": true
   },
   "outputs": [],
   "source": []
  }
 ],
 "metadata": {
  "kernelspec": {
   "display_name": "Python 3",
   "language": "python",
   "name": "python3"
  },
  "language_info": {
   "codemirror_mode": {
    "name": "ipython",
    "version": 3
   },
   "file_extension": ".py",
   "mimetype": "text/x-python",
   "name": "python",
   "nbconvert_exporter": "python",
   "pygments_lexer": "ipython3",
   "version": "3.6.3"
  }
 },
 "nbformat": 4,
 "nbformat_minor": 2
}
