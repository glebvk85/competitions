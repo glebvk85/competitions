{
 "cells": [
  {
   "cell_type": "code",
   "execution_count": 1,
   "metadata": {
    "collapsed": true
   },
   "outputs": [],
   "source": [
    "import pandas as pd\n",
    "import numpy as np\n",
    "from datetime import datetime"
   ]
  },
  {
   "cell_type": "code",
   "execution_count": null,
   "metadata": {
    "collapsed": true
   },
   "outputs": [],
   "source": []
  },
  {
   "cell_type": "code",
   "execution_count": 2,
   "metadata": {
    "collapsed": true
   },
   "outputs": [],
   "source": [
    "%matplotlib inline"
   ]
  },
  {
   "cell_type": "code",
   "execution_count": null,
   "metadata": {
    "collapsed": true
   },
   "outputs": [],
   "source": []
  },
  {
   "cell_type": "code",
   "execution_count": 3,
   "metadata": {},
   "outputs": [
    {
     "name": "stderr",
     "output_type": "stream",
     "text": [
      "C:\\ProgramData\\Anaconda3\\lib\\site-packages\\h5py\\__init__.py:34: FutureWarning: Conversion of the second argument of issubdtype from `float` to `np.floating` is deprecated. In future, it will be treated as `np.float64 == np.dtype(float).type`.\n",
      "  from ._conv import register_converters as _register_converters\n",
      "Using TensorFlow backend.\n"
     ]
    }
   ],
   "source": [
    "from keras.callbacks import Callback\n",
    "from matplotlib import pyplot as plt\n",
    "from IPython.display import clear_output\n",
    "class PlotLearning(Callback):\n",
    "    def on_train_begin(self, logs={}):\n",
    "        self.i = 0\n",
    "        self.x = []\n",
    "        self.losses = []\n",
    "        self.val_losses = []\n",
    "        self.acc = []\n",
    "        self.val_acc = []\n",
    "        self.fig = plt.figure()\n",
    "        \n",
    "        self.logs = []\n",
    "\n",
    "    def on_epoch_end(self, epoch, logs={}):\n",
    "        \n",
    "        self.logs.append(logs)\n",
    "        self.x.append(self.i)\n",
    "        self.losses.append(logs.get('loss'))\n",
    "        self.val_losses.append(logs.get('val_loss'))\n",
    "        self.acc.append(logs.get('auc'))\n",
    "        self.val_acc.append(logs.get('val_auc'))\n",
    "        self.i += 1\n",
    "        f, (ax1, ax2) = plt.subplots(1, 2, sharex=True,figsize=(15,10))\n",
    "        \n",
    "        clear_output(wait=True)\n",
    "        \n",
    "        ax1.set_yscale('log')\n",
    "        ax1.plot(self.x, self.losses, label=\"loss\")\n",
    "        ax1.plot(self.x, self.val_losses, label=\"validation_loss\")\n",
    "        ax1.legend()\n",
    "        \n",
    "        ax2.plot(self.x, self.acc, label=\"accuracy\")\n",
    "        ax2.plot(self.x, self.val_acc, label=\"validation accuracy\")\n",
    "        ax2.legend()\n",
    "        \n",
    "        plt.show();\n",
    "        \n",
    "plot = PlotLearning()"
   ]
  },
  {
   "cell_type": "code",
   "execution_count": null,
   "metadata": {
    "collapsed": true
   },
   "outputs": [],
   "source": []
  },
  {
   "cell_type": "code",
   "execution_count": 4,
   "metadata": {
    "collapsed": true
   },
   "outputs": [],
   "source": [
    "import telepot\n",
    "def send_notify(text):\n",
    "    with open('../../_access_keys/telegram_token.txt', 'r') as content_file:\n",
    "        token = content_file.read()\n",
    "    with open('../../_access_keys/user.txt', 'r') as content_file:\n",
    "        user = content_file.read()\n",
    "    try:\n",
    "        TelegramBot = telepot.Bot(token)\n",
    "        TelegramBot.sendMessage(int(user), text)\n",
    "    except:\n",
    "        pass"
   ]
  },
  {
   "cell_type": "code",
   "execution_count": null,
   "metadata": {
    "collapsed": true
   },
   "outputs": [],
   "source": []
  },
  {
   "cell_type": "code",
   "execution_count": null,
   "metadata": {
    "collapsed": true
   },
   "outputs": [],
   "source": []
  },
  {
   "cell_type": "code",
   "execution_count": 340,
   "metadata": {
    "collapsed": true
   },
   "outputs": [],
   "source": [
    "TRAIN = False"
   ]
  },
  {
   "cell_type": "code",
   "execution_count": null,
   "metadata": {
    "collapsed": true
   },
   "outputs": [],
   "source": []
  },
  {
   "cell_type": "code",
   "execution_count": 341,
   "metadata": {
    "collapsed": true
   },
   "outputs": [],
   "source": [
    "path = 'c:/data/mlbootcamp/dataset/'\n",
    "path_train = path + 'train/'\n",
    "path_test = path + 'test/'\n",
    "path_features = 'features/'\n",
    "if TRAIN:\n",
    "    pathfiles = path_train\n",
    "    path_subs_bs_consumption = 'subs_bs_consumption_train.csv'\n",
    "    path_subs_bs_data_session = 'subs_bs_data_session_train.csv'\n",
    "    path_subs_bs_voice_session = 'subs_bs_voice_session_train.csv'\n",
    "    path_subs_features = 'subs_features_train.csv'\n",
    "    path_subs_csi = 'subs_csi_train.csv'\n",
    "    path_new_features = 'features.csv'\n",
    "else:\n",
    "    pathfiles = path_test\n",
    "    path_subs_bs_consumption = 'subs_bs_consumption_test.csv'\n",
    "    path_subs_bs_data_session = 'subs_bs_data_session_test.csv'\n",
    "    path_subs_bs_voice_session = 'subs_bs_voice_session_test.csv'\n",
    "    path_subs_features = 'subs_features_test.csv'\n",
    "    path_subs_csi = 'subs_csi_test.csv'\n",
    "    path_new_features = 'features.csv'"
   ]
  },
  {
   "cell_type": "code",
   "execution_count": null,
   "metadata": {
    "collapsed": true
   },
   "outputs": [],
   "source": []
  },
  {
   "cell_type": "code",
   "execution_count": null,
   "metadata": {
    "collapsed": true
   },
   "outputs": [],
   "source": []
  },
  {
   "cell_type": "code",
   "execution_count": 342,
   "metadata": {
    "collapsed": true
   },
   "outputs": [],
   "source": [
    "subs_csi = pd.read_csv(pathfiles + path_subs_csi, sep=';', decimal=',')"
   ]
  },
  {
   "cell_type": "code",
   "execution_count": 343,
   "metadata": {},
   "outputs": [
    {
     "data": {
      "text/html": [
       "<div>\n",
       "<style scoped>\n",
       "    .dataframe tbody tr th:only-of-type {\n",
       "        vertical-align: middle;\n",
       "    }\n",
       "\n",
       "    .dataframe tbody tr th {\n",
       "        vertical-align: top;\n",
       "    }\n",
       "\n",
       "    .dataframe thead th {\n",
       "        text-align: right;\n",
       "    }\n",
       "</style>\n",
       "<table border=\"1\" class=\"dataframe\">\n",
       "  <thead>\n",
       "    <tr style=\"text-align: right;\">\n",
       "      <th></th>\n",
       "      <th>SK_ID</th>\n",
       "      <th>CONTACT_DATE</th>\n",
       "    </tr>\n",
       "  </thead>\n",
       "  <tbody>\n",
       "    <tr>\n",
       "      <th>0</th>\n",
       "      <td>6184</td>\n",
       "      <td>02.04</td>\n",
       "    </tr>\n",
       "  </tbody>\n",
       "</table>\n",
       "</div>"
      ],
      "text/plain": [
       "   SK_ID CONTACT_DATE\n",
       "0   6184        02.04"
      ]
     },
     "execution_count": 343,
     "metadata": {},
     "output_type": "execute_result"
    }
   ],
   "source": [
    "subs_csi.head(1)"
   ]
  },
  {
   "cell_type": "code",
   "execution_count": 344,
   "metadata": {},
   "outputs": [
    {
     "data": {
      "text/plain": [
       "(5221, 2)"
      ]
     },
     "execution_count": 344,
     "metadata": {},
     "output_type": "execute_result"
    }
   ],
   "source": [
    "subs_csi.shape"
   ]
  },
  {
   "cell_type": "code",
   "execution_count": null,
   "metadata": {
    "collapsed": true
   },
   "outputs": [],
   "source": []
  },
  {
   "cell_type": "code",
   "execution_count": 345,
   "metadata": {
    "collapsed": true
   },
   "outputs": [],
   "source": [
    "subs_bs_consumption = pd.read_csv(pathfiles + path_subs_bs_consumption, sep=';', decimal=',')"
   ]
  },
  {
   "cell_type": "code",
   "execution_count": 346,
   "metadata": {
    "collapsed": true
   },
   "outputs": [],
   "source": [
    "subs_bs_consumption['month'] = subs_bs_consumption['MON'].apply(lambda x:int(str(x).split('.')[1]))"
   ]
  },
  {
   "cell_type": "code",
   "execution_count": 347,
   "metadata": {},
   "outputs": [
    {
     "data": {
      "text/html": [
       "<div>\n",
       "<style scoped>\n",
       "    .dataframe tbody tr th:only-of-type {\n",
       "        vertical-align: middle;\n",
       "    }\n",
       "\n",
       "    .dataframe tbody tr th {\n",
       "        vertical-align: top;\n",
       "    }\n",
       "\n",
       "    .dataframe thead th {\n",
       "        text-align: right;\n",
       "    }\n",
       "</style>\n",
       "<table border=\"1\" class=\"dataframe\">\n",
       "  <thead>\n",
       "    <tr style=\"text-align: right;\">\n",
       "      <th></th>\n",
       "      <th>SK_ID</th>\n",
       "      <th>CELL_LAC_ID</th>\n",
       "      <th>MON</th>\n",
       "      <th>SUM_MINUTES</th>\n",
       "      <th>SUM_DATA_MB</th>\n",
       "      <th>SUM_DATA_MIN</th>\n",
       "      <th>month</th>\n",
       "    </tr>\n",
       "  </thead>\n",
       "  <tbody>\n",
       "    <tr>\n",
       "      <th>0</th>\n",
       "      <td>6357</td>\n",
       "      <td>104453</td>\n",
       "      <td>01.02</td>\n",
       "      <td>0.0</td>\n",
       "      <td>0.0</td>\n",
       "      <td>0.000234</td>\n",
       "      <td>2</td>\n",
       "    </tr>\n",
       "  </tbody>\n",
       "</table>\n",
       "</div>"
      ],
      "text/plain": [
       "   SK_ID  CELL_LAC_ID    MON  SUM_MINUTES  SUM_DATA_MB  SUM_DATA_MIN  month\n",
       "0   6357       104453  01.02          0.0          0.0      0.000234      2"
      ]
     },
     "execution_count": 347,
     "metadata": {},
     "output_type": "execute_result"
    }
   ],
   "source": [
    "subs_bs_consumption.head(1)"
   ]
  },
  {
   "cell_type": "code",
   "execution_count": 348,
   "metadata": {},
   "outputs": [
    {
     "data": {
      "text/plain": [
       "(1179454, 7)"
      ]
     },
     "execution_count": 348,
     "metadata": {},
     "output_type": "execute_result"
    }
   ],
   "source": [
    "subs_bs_consumption.shape"
   ]
  },
  {
   "cell_type": "code",
   "execution_count": null,
   "metadata": {
    "collapsed": true
   },
   "outputs": [],
   "source": []
  },
  {
   "cell_type": "code",
   "execution_count": null,
   "metadata": {
    "collapsed": true
   },
   "outputs": [],
   "source": []
  },
  {
   "cell_type": "code",
   "execution_count": 349,
   "metadata": {
    "collapsed": true
   },
   "outputs": [],
   "source": [
    "subs_bs_data_session = pd.read_csv(pathfiles + path_subs_bs_data_session, sep=';', decimal=',')"
   ]
  },
  {
   "cell_type": "code",
   "execution_count": 350,
   "metadata": {},
   "outputs": [
    {
     "data": {
      "text/html": [
       "<div>\n",
       "<style scoped>\n",
       "    .dataframe tbody tr th:only-of-type {\n",
       "        vertical-align: middle;\n",
       "    }\n",
       "\n",
       "    .dataframe tbody tr th {\n",
       "        vertical-align: top;\n",
       "    }\n",
       "\n",
       "    .dataframe thead th {\n",
       "        text-align: right;\n",
       "    }\n",
       "</style>\n",
       "<table border=\"1\" class=\"dataframe\">\n",
       "  <thead>\n",
       "    <tr style=\"text-align: right;\">\n",
       "      <th></th>\n",
       "      <th>SK_ID</th>\n",
       "      <th>CELL_LAC_ID</th>\n",
       "      <th>DATA_VOL_MB</th>\n",
       "      <th>START_TIME</th>\n",
       "    </tr>\n",
       "  </thead>\n",
       "  <tbody>\n",
       "    <tr>\n",
       "      <th>0</th>\n",
       "      <td>4992</td>\n",
       "      <td>3442</td>\n",
       "      <td>0.000564</td>\n",
       "      <td>13.03 16:00:00</td>\n",
       "    </tr>\n",
       "  </tbody>\n",
       "</table>\n",
       "</div>"
      ],
      "text/plain": [
       "   SK_ID  CELL_LAC_ID  DATA_VOL_MB      START_TIME\n",
       "0   4992         3442     0.000564  13.03 16:00:00"
      ]
     },
     "execution_count": 350,
     "metadata": {},
     "output_type": "execute_result"
    }
   ],
   "source": [
    "subs_bs_data_session.head(1)"
   ]
  },
  {
   "cell_type": "code",
   "execution_count": 351,
   "metadata": {},
   "outputs": [
    {
     "data": {
      "text/plain": [
       "(4138720, 4)"
      ]
     },
     "execution_count": 351,
     "metadata": {},
     "output_type": "execute_result"
    }
   ],
   "source": [
    "subs_bs_data_session.shape"
   ]
  },
  {
   "cell_type": "code",
   "execution_count": null,
   "metadata": {
    "collapsed": true
   },
   "outputs": [],
   "source": []
  },
  {
   "cell_type": "code",
   "execution_count": 352,
   "metadata": {
    "collapsed": true
   },
   "outputs": [],
   "source": [
    "subs_features = pd.read_csv(pathfiles + path_subs_features, sep=';', decimal=',')"
   ]
  },
  {
   "cell_type": "code",
   "execution_count": 353,
   "metadata": {},
   "outputs": [
    {
     "data": {
      "text/html": [
       "<div>\n",
       "<style scoped>\n",
       "    .dataframe tbody tr th:only-of-type {\n",
       "        vertical-align: middle;\n",
       "    }\n",
       "\n",
       "    .dataframe tbody tr th {\n",
       "        vertical-align: top;\n",
       "    }\n",
       "\n",
       "    .dataframe thead th {\n",
       "        text-align: right;\n",
       "    }\n",
       "</style>\n",
       "<table border=\"1\" class=\"dataframe\">\n",
       "  <thead>\n",
       "    <tr style=\"text-align: right;\">\n",
       "      <th></th>\n",
       "      <th>SNAP_DATE</th>\n",
       "      <th>COM_CAT#1</th>\n",
       "      <th>SK_ID</th>\n",
       "      <th>COM_CAT#2</th>\n",
       "      <th>COM_CAT#3</th>\n",
       "      <th>BASE_TYPE</th>\n",
       "      <th>ACT</th>\n",
       "      <th>ARPU_GROUP</th>\n",
       "      <th>COM_CAT#7</th>\n",
       "      <th>COM_CAT#8</th>\n",
       "      <th>...</th>\n",
       "      <th>COM_CAT#25</th>\n",
       "      <th>COM_CAT#26</th>\n",
       "      <th>COM_CAT#27</th>\n",
       "      <th>COM_CAT#28</th>\n",
       "      <th>COM_CAT#29</th>\n",
       "      <th>COM_CAT#30</th>\n",
       "      <th>COM_CAT#31</th>\n",
       "      <th>COM_CAT#32</th>\n",
       "      <th>COM_CAT#33</th>\n",
       "      <th>COM_CAT#34</th>\n",
       "    </tr>\n",
       "  </thead>\n",
       "  <tbody>\n",
       "    <tr>\n",
       "      <th>0</th>\n",
       "      <td>01.10.01</td>\n",
       "      <td>8</td>\n",
       "      <td>6954</td>\n",
       "      <td>44</td>\n",
       "      <td>12</td>\n",
       "      <td>1</td>\n",
       "      <td>1</td>\n",
       "      <td>12.0</td>\n",
       "      <td>3</td>\n",
       "      <td>NaN</td>\n",
       "      <td>...</td>\n",
       "      <td>1</td>\n",
       "      <td>1</td>\n",
       "      <td>0.014411</td>\n",
       "      <td>0.036439</td>\n",
       "      <td>0.0</td>\n",
       "      <td>0.0</td>\n",
       "      <td>0.040759</td>\n",
       "      <td>0.027579</td>\n",
       "      <td>0.103896</td>\n",
       "      <td>10.0</td>\n",
       "    </tr>\n",
       "  </tbody>\n",
       "</table>\n",
       "<p>1 rows × 36 columns</p>\n",
       "</div>"
      ],
      "text/plain": [
       "  SNAP_DATE  COM_CAT#1  SK_ID  COM_CAT#2  COM_CAT#3  BASE_TYPE  ACT  \\\n",
       "0  01.10.01          8   6954         44         12          1    1   \n",
       "\n",
       "   ARPU_GROUP  COM_CAT#7  COM_CAT#8     ...      COM_CAT#25  COM_CAT#26  \\\n",
       "0        12.0          3        NaN     ...               1           1   \n",
       "\n",
       "   COM_CAT#27  COM_CAT#28  COM_CAT#29  COM_CAT#30  COM_CAT#31  COM_CAT#32  \\\n",
       "0    0.014411    0.036439         0.0         0.0    0.040759    0.027579   \n",
       "\n",
       "   COM_CAT#33  COM_CAT#34  \n",
       "0    0.103896        10.0  \n",
       "\n",
       "[1 rows x 36 columns]"
      ]
     },
     "execution_count": 353,
     "metadata": {},
     "output_type": "execute_result"
    }
   ],
   "source": [
    "subs_features.head(1)"
   ]
  },
  {
   "cell_type": "code",
   "execution_count": 354,
   "metadata": {},
   "outputs": [
    {
     "data": {
      "text/plain": [
       "(58989, 36)"
      ]
     },
     "execution_count": 354,
     "metadata": {},
     "output_type": "execute_result"
    }
   ],
   "source": [
    "subs_features.shape"
   ]
  },
  {
   "cell_type": "code",
   "execution_count": 355,
   "metadata": {
    "collapsed": true
   },
   "outputs": [],
   "source": [
    "subs_features['SNAP_DATE'] = subs_features['SNAP_DATE'].apply(lambda x:datetime.strptime(x, '%d.%m.%y'))"
   ]
  },
  {
   "cell_type": "code",
   "execution_count": 356,
   "metadata": {
    "collapsed": true
   },
   "outputs": [],
   "source": [
    "cats = subs_features['COM_CAT#24'].unique()\n",
    "subs_features['COM_CAT#242'] = pd.Categorical(subs_features['COM_CAT#24'], categories=cats)\n",
    "subs_features['COM_CAT#242'] = subs_features['COM_CAT#242'].cat.codes"
   ]
  },
  {
   "cell_type": "code",
   "execution_count": 357,
   "metadata": {
    "collapsed": true
   },
   "outputs": [],
   "source": [
    "subs_features['COM_CAT#34'].fillna(0, inplace=True)\n",
    "subs_features['COM_CAT#8'].fillna(0, inplace=True)\n",
    "subs_features['DEVICE_TYPE_ID'].fillna(0, inplace=True)\n",
    "subs_features['ARPU_GROUP'].fillna(0, inplace=True)\n",
    "subs_features['INTERNET_TYPE_ID'].fillna(0, inplace=True)"
   ]
  },
  {
   "cell_type": "code",
   "execution_count": 358,
   "metadata": {},
   "outputs": [
    {
     "data": {
      "text/plain": [
       "(58989, 37)"
      ]
     },
     "execution_count": 358,
     "metadata": {},
     "output_type": "execute_result"
    }
   ],
   "source": [
    "subs_features.dropna().shape"
   ]
  },
  {
   "cell_type": "code",
   "execution_count": 359,
   "metadata": {
    "collapsed": true
   },
   "outputs": [],
   "source": [
    "subs_features['month'] = subs_features['SNAP_DATE'].apply(lambda x:x.month)\n",
    "subs_features['year'] = subs_features['SNAP_DATE'].apply(lambda x:x.year)"
   ]
  },
  {
   "cell_type": "code",
   "execution_count": null,
   "metadata": {
    "collapsed": true
   },
   "outputs": [],
   "source": []
  },
  {
   "cell_type": "code",
   "execution_count": null,
   "metadata": {
    "collapsed": true
   },
   "outputs": [],
   "source": []
  },
  {
   "cell_type": "code",
   "execution_count": 360,
   "metadata": {
    "collapsed": true
   },
   "outputs": [],
   "source": [
    "columns = ['COM_CAT#1', 'COM_CAT#2', 'COM_CAT#3', 'BASE_TYPE', 'ACT', 'ARPU_GROUP', 'COM_CAT#7', 'COM_CAT#8',\n",
    "          'DEVICE_TYPE_ID', 'INTERNET_TYPE_ID', 'REVENUE', 'ITC', 'VAS', 'RENT_CHANNEL', 'ROAM',\n",
    "          'COST', 'COM_CAT#242']\n",
    "for i in range(18):\n",
    "    if i + 17 == 24:\n",
    "        continue\n",
    "    columns.append('COM_CAT#{}'.format(i+17))"
   ]
  },
  {
   "cell_type": "code",
   "execution_count": 361,
   "metadata": {},
   "outputs": [
    {
     "data": {
      "text/html": [
       "<div>\n",
       "<style scoped>\n",
       "    .dataframe tbody tr th:only-of-type {\n",
       "        vertical-align: middle;\n",
       "    }\n",
       "\n",
       "    .dataframe tbody tr th {\n",
       "        vertical-align: top;\n",
       "    }\n",
       "\n",
       "    .dataframe thead th {\n",
       "        text-align: right;\n",
       "    }\n",
       "</style>\n",
       "<table border=\"1\" class=\"dataframe\">\n",
       "  <thead>\n",
       "    <tr style=\"text-align: right;\">\n",
       "      <th></th>\n",
       "      <th>SNAP_DATE</th>\n",
       "      <th>COM_CAT#1</th>\n",
       "      <th>SK_ID</th>\n",
       "      <th>COM_CAT#2</th>\n",
       "      <th>COM_CAT#3</th>\n",
       "      <th>BASE_TYPE</th>\n",
       "      <th>ACT</th>\n",
       "      <th>ARPU_GROUP</th>\n",
       "      <th>COM_CAT#7</th>\n",
       "      <th>COM_CAT#8</th>\n",
       "      <th>...</th>\n",
       "      <th>COM_CAT#28</th>\n",
       "      <th>COM_CAT#29</th>\n",
       "      <th>COM_CAT#30</th>\n",
       "      <th>COM_CAT#31</th>\n",
       "      <th>COM_CAT#32</th>\n",
       "      <th>COM_CAT#33</th>\n",
       "      <th>COM_CAT#34</th>\n",
       "      <th>COM_CAT#242</th>\n",
       "      <th>month</th>\n",
       "      <th>year</th>\n",
       "    </tr>\n",
       "  </thead>\n",
       "  <tbody>\n",
       "    <tr>\n",
       "      <th>0</th>\n",
       "      <td>2001-10-01</td>\n",
       "      <td>8</td>\n",
       "      <td>6954</td>\n",
       "      <td>44</td>\n",
       "      <td>12</td>\n",
       "      <td>1</td>\n",
       "      <td>1</td>\n",
       "      <td>12.0</td>\n",
       "      <td>3</td>\n",
       "      <td>0.0</td>\n",
       "      <td>...</td>\n",
       "      <td>0.036439</td>\n",
       "      <td>0.000000</td>\n",
       "      <td>0.000000</td>\n",
       "      <td>0.040759</td>\n",
       "      <td>0.027579</td>\n",
       "      <td>0.103896</td>\n",
       "      <td>10.0</td>\n",
       "      <td>0</td>\n",
       "      <td>10</td>\n",
       "      <td>2001</td>\n",
       "    </tr>\n",
       "    <tr>\n",
       "      <th>1</th>\n",
       "      <td>2001-10-01</td>\n",
       "      <td>8</td>\n",
       "      <td>9663</td>\n",
       "      <td>44</td>\n",
       "      <td>5</td>\n",
       "      <td>2</td>\n",
       "      <td>1</td>\n",
       "      <td>8.0</td>\n",
       "      <td>1</td>\n",
       "      <td>952.0</td>\n",
       "      <td>...</td>\n",
       "      <td>0.000493</td>\n",
       "      <td>0.000002</td>\n",
       "      <td>0.000000</td>\n",
       "      <td>0.044780</td>\n",
       "      <td>0.027579</td>\n",
       "      <td>0.103896</td>\n",
       "      <td>10.0</td>\n",
       "      <td>0</td>\n",
       "      <td>10</td>\n",
       "      <td>2001</td>\n",
       "    </tr>\n",
       "    <tr>\n",
       "      <th>2</th>\n",
       "      <td>2001-10-01</td>\n",
       "      <td>8</td>\n",
       "      <td>7895</td>\n",
       "      <td>12</td>\n",
       "      <td>5</td>\n",
       "      <td>2</td>\n",
       "      <td>1</td>\n",
       "      <td>7.0</td>\n",
       "      <td>4</td>\n",
       "      <td>1322.0</td>\n",
       "      <td>...</td>\n",
       "      <td>0.001190</td>\n",
       "      <td>0.000000</td>\n",
       "      <td>0.000000</td>\n",
       "      <td>0.032650</td>\n",
       "      <td>0.027579</td>\n",
       "      <td>0.103896</td>\n",
       "      <td>10.0</td>\n",
       "      <td>0</td>\n",
       "      <td>10</td>\n",
       "      <td>2001</td>\n",
       "    </tr>\n",
       "    <tr>\n",
       "      <th>3</th>\n",
       "      <td>2001-10-01</td>\n",
       "      <td>8</td>\n",
       "      <td>8913</td>\n",
       "      <td>52</td>\n",
       "      <td>8</td>\n",
       "      <td>2</td>\n",
       "      <td>1</td>\n",
       "      <td>9.0</td>\n",
       "      <td>1</td>\n",
       "      <td>126.0</td>\n",
       "      <td>...</td>\n",
       "      <td>0.009464</td>\n",
       "      <td>0.001677</td>\n",
       "      <td>0.005317</td>\n",
       "      <td>0.062162</td>\n",
       "      <td>0.027579</td>\n",
       "      <td>0.103896</td>\n",
       "      <td>7.0</td>\n",
       "      <td>0</td>\n",
       "      <td>10</td>\n",
       "      <td>2001</td>\n",
       "    </tr>\n",
       "    <tr>\n",
       "      <th>4</th>\n",
       "      <td>2001-10-01</td>\n",
       "      <td>8</td>\n",
       "      <td>8876</td>\n",
       "      <td>44</td>\n",
       "      <td>5</td>\n",
       "      <td>2</td>\n",
       "      <td>1</td>\n",
       "      <td>7.0</td>\n",
       "      <td>3</td>\n",
       "      <td>1244.0</td>\n",
       "      <td>...</td>\n",
       "      <td>0.008762</td>\n",
       "      <td>0.000000</td>\n",
       "      <td>0.000000</td>\n",
       "      <td>0.077768</td>\n",
       "      <td>0.027579</td>\n",
       "      <td>0.103896</td>\n",
       "      <td>3.0</td>\n",
       "      <td>0</td>\n",
       "      <td>10</td>\n",
       "      <td>2001</td>\n",
       "    </tr>\n",
       "  </tbody>\n",
       "</table>\n",
       "<p>5 rows × 39 columns</p>\n",
       "</div>"
      ],
      "text/plain": [
       "   SNAP_DATE  COM_CAT#1  SK_ID  COM_CAT#2  COM_CAT#3  BASE_TYPE  ACT  \\\n",
       "0 2001-10-01          8   6954         44         12          1    1   \n",
       "1 2001-10-01          8   9663         44          5          2    1   \n",
       "2 2001-10-01          8   7895         12          5          2    1   \n",
       "3 2001-10-01          8   8913         52          8          2    1   \n",
       "4 2001-10-01          8   8876         44          5          2    1   \n",
       "\n",
       "   ARPU_GROUP  COM_CAT#7  COM_CAT#8  ...   COM_CAT#28  COM_CAT#29  COM_CAT#30  \\\n",
       "0        12.0          3        0.0  ...     0.036439    0.000000    0.000000   \n",
       "1         8.0          1      952.0  ...     0.000493    0.000002    0.000000   \n",
       "2         7.0          4     1322.0  ...     0.001190    0.000000    0.000000   \n",
       "3         9.0          1      126.0  ...     0.009464    0.001677    0.005317   \n",
       "4         7.0          3     1244.0  ...     0.008762    0.000000    0.000000   \n",
       "\n",
       "   COM_CAT#31  COM_CAT#32  COM_CAT#33  COM_CAT#34  COM_CAT#242  month  year  \n",
       "0    0.040759    0.027579    0.103896        10.0            0     10  2001  \n",
       "1    0.044780    0.027579    0.103896        10.0            0     10  2001  \n",
       "2    0.032650    0.027579    0.103896        10.0            0     10  2001  \n",
       "3    0.062162    0.027579    0.103896         7.0            0     10  2001  \n",
       "4    0.077768    0.027579    0.103896         3.0            0     10  2001  \n",
       "\n",
       "[5 rows x 39 columns]"
      ]
     },
     "execution_count": 361,
     "metadata": {},
     "output_type": "execute_result"
    }
   ],
   "source": [
    "subs_features.head()"
   ]
  },
  {
   "cell_type": "code",
   "execution_count": 362,
   "metadata": {},
   "outputs": [
    {
     "data": {
      "text/html": [
       "<div>\n",
       "<style scoped>\n",
       "    .dataframe tbody tr th:only-of-type {\n",
       "        vertical-align: middle;\n",
       "    }\n",
       "\n",
       "    .dataframe tbody tr th {\n",
       "        vertical-align: top;\n",
       "    }\n",
       "\n",
       "    .dataframe thead th {\n",
       "        text-align: right;\n",
       "    }\n",
       "</style>\n",
       "<table border=\"1\" class=\"dataframe\">\n",
       "  <thead>\n",
       "    <tr style=\"text-align: right;\">\n",
       "      <th></th>\n",
       "      <th>COM_CAT#1</th>\n",
       "      <th>SK_ID</th>\n",
       "      <th>COM_CAT#2</th>\n",
       "      <th>COM_CAT#3</th>\n",
       "      <th>BASE_TYPE</th>\n",
       "      <th>ACT</th>\n",
       "      <th>ARPU_GROUP</th>\n",
       "      <th>COM_CAT#7</th>\n",
       "      <th>COM_CAT#8</th>\n",
       "      <th>DEVICE_TYPE_ID</th>\n",
       "      <th>...</th>\n",
       "      <th>COM_CAT#28</th>\n",
       "      <th>COM_CAT#29</th>\n",
       "      <th>COM_CAT#30</th>\n",
       "      <th>COM_CAT#31</th>\n",
       "      <th>COM_CAT#32</th>\n",
       "      <th>COM_CAT#33</th>\n",
       "      <th>COM_CAT#34</th>\n",
       "      <th>COM_CAT#242</th>\n",
       "      <th>month</th>\n",
       "      <th>year</th>\n",
       "    </tr>\n",
       "  </thead>\n",
       "  <tbody>\n",
       "    <tr>\n",
       "      <th>count</th>\n",
       "      <td>58989.000000</td>\n",
       "      <td>58989.000000</td>\n",
       "      <td>58989.000000</td>\n",
       "      <td>58989.000000</td>\n",
       "      <td>58989.000000</td>\n",
       "      <td>58989.000000</td>\n",
       "      <td>58989.000000</td>\n",
       "      <td>58989.000000</td>\n",
       "      <td>58989.000000</td>\n",
       "      <td>58989.000000</td>\n",
       "      <td>...</td>\n",
       "      <td>58989.000000</td>\n",
       "      <td>58989.000000</td>\n",
       "      <td>58989.000000</td>\n",
       "      <td>58989.000000</td>\n",
       "      <td>58989.000000</td>\n",
       "      <td>58989.000000</td>\n",
       "      <td>58989.000000</td>\n",
       "      <td>58989.000000</td>\n",
       "      <td>58989.000000</td>\n",
       "      <td>58989.000000</td>\n",
       "    </tr>\n",
       "    <tr>\n",
       "      <th>mean</th>\n",
       "      <td>4.475614</td>\n",
       "      <td>6909.303023</td>\n",
       "      <td>40.964231</td>\n",
       "      <td>5.274170</td>\n",
       "      <td>1.939362</td>\n",
       "      <td>0.990541</td>\n",
       "      <td>7.503416</td>\n",
       "      <td>2.418400</td>\n",
       "      <td>804.772754</td>\n",
       "      <td>4.587482</td>\n",
       "      <td>...</td>\n",
       "      <td>0.017566</td>\n",
       "      <td>0.004167</td>\n",
       "      <td>0.004383</td>\n",
       "      <td>0.045646</td>\n",
       "      <td>0.028234</td>\n",
       "      <td>0.105025</td>\n",
       "      <td>5.441726</td>\n",
       "      <td>0.000356</td>\n",
       "      <td>6.456882</td>\n",
       "      <td>2001.352896</td>\n",
       "    </tr>\n",
       "    <tr>\n",
       "      <th>std</th>\n",
       "      <td>2.187412</td>\n",
       "      <td>1868.652121</td>\n",
       "      <td>22.121673</td>\n",
       "      <td>2.804044</td>\n",
       "      <td>0.238668</td>\n",
       "      <td>0.096799</td>\n",
       "      <td>3.273761</td>\n",
       "      <td>1.655322</td>\n",
       "      <td>547.242582</td>\n",
       "      <td>0.945789</td>\n",
       "      <td>...</td>\n",
       "      <td>0.030751</td>\n",
       "      <td>0.013551</td>\n",
       "      <td>0.020910</td>\n",
       "      <td>0.052554</td>\n",
       "      <td>0.008920</td>\n",
       "      <td>0.011167</td>\n",
       "      <td>3.638862</td>\n",
       "      <td>0.039275</td>\n",
       "      <td>3.483752</td>\n",
       "      <td>0.477875</td>\n",
       "    </tr>\n",
       "    <tr>\n",
       "      <th>min</th>\n",
       "      <td>1.000000</td>\n",
       "      <td>1.000000</td>\n",
       "      <td>1.000000</td>\n",
       "      <td>1.000000</td>\n",
       "      <td>1.000000</td>\n",
       "      <td>0.000000</td>\n",
       "      <td>0.000000</td>\n",
       "      <td>1.000000</td>\n",
       "      <td>0.000000</td>\n",
       "      <td>0.000000</td>\n",
       "      <td>...</td>\n",
       "      <td>0.000000</td>\n",
       "      <td>0.000000</td>\n",
       "      <td>0.000000</td>\n",
       "      <td>0.000000</td>\n",
       "      <td>0.019839</td>\n",
       "      <td>0.093571</td>\n",
       "      <td>0.000000</td>\n",
       "      <td>0.000000</td>\n",
       "      <td>1.000000</td>\n",
       "      <td>2001.000000</td>\n",
       "    </tr>\n",
       "    <tr>\n",
       "      <th>25%</th>\n",
       "      <td>3.000000</td>\n",
       "      <td>5692.000000</td>\n",
       "      <td>25.000000</td>\n",
       "      <td>5.000000</td>\n",
       "      <td>2.000000</td>\n",
       "      <td>1.000000</td>\n",
       "      <td>5.000000</td>\n",
       "      <td>1.000000</td>\n",
       "      <td>165.000000</td>\n",
       "      <td>5.000000</td>\n",
       "      <td>...</td>\n",
       "      <td>0.000873</td>\n",
       "      <td>0.000000</td>\n",
       "      <td>0.000000</td>\n",
       "      <td>0.010227</td>\n",
       "      <td>0.027579</td>\n",
       "      <td>0.103896</td>\n",
       "      <td>2.000000</td>\n",
       "      <td>0.000000</td>\n",
       "      <td>3.000000</td>\n",
       "      <td>2001.000000</td>\n",
       "    </tr>\n",
       "    <tr>\n",
       "      <th>50%</th>\n",
       "      <td>4.000000</td>\n",
       "      <td>7031.000000</td>\n",
       "      <td>38.000000</td>\n",
       "      <td>5.000000</td>\n",
       "      <td>2.000000</td>\n",
       "      <td>1.000000</td>\n",
       "      <td>7.000000</td>\n",
       "      <td>2.000000</td>\n",
       "      <td>837.000000</td>\n",
       "      <td>5.000000</td>\n",
       "      <td>...</td>\n",
       "      <td>0.006288</td>\n",
       "      <td>0.000039</td>\n",
       "      <td>0.000000</td>\n",
       "      <td>0.029631</td>\n",
       "      <td>0.027579</td>\n",
       "      <td>0.103896</td>\n",
       "      <td>4.000000</td>\n",
       "      <td>0.000000</td>\n",
       "      <td>6.000000</td>\n",
       "      <td>2001.000000</td>\n",
       "    </tr>\n",
       "    <tr>\n",
       "      <th>75%</th>\n",
       "      <td>6.000000</td>\n",
       "      <td>8399.000000</td>\n",
       "      <td>60.000000</td>\n",
       "      <td>5.000000</td>\n",
       "      <td>2.000000</td>\n",
       "      <td>1.000000</td>\n",
       "      <td>10.000000</td>\n",
       "      <td>3.000000</td>\n",
       "      <td>1311.000000</td>\n",
       "      <td>5.000000</td>\n",
       "      <td>...</td>\n",
       "      <td>0.021304</td>\n",
       "      <td>0.002761</td>\n",
       "      <td>0.000083</td>\n",
       "      <td>0.062445</td>\n",
       "      <td>0.027579</td>\n",
       "      <td>0.103896</td>\n",
       "      <td>9.000000</td>\n",
       "      <td>0.000000</td>\n",
       "      <td>10.000000</td>\n",
       "      <td>2002.000000</td>\n",
       "    </tr>\n",
       "    <tr>\n",
       "      <th>max</th>\n",
       "      <td>8.000000</td>\n",
       "      <td>9748.000000</td>\n",
       "      <td>83.000000</td>\n",
       "      <td>17.000000</td>\n",
       "      <td>2.000000</td>\n",
       "      <td>1.000000</td>\n",
       "      <td>12.000000</td>\n",
       "      <td>9.000000</td>\n",
       "      <td>1702.000000</td>\n",
       "      <td>8.000000</td>\n",
       "      <td>...</td>\n",
       "      <td>1.000000</td>\n",
       "      <td>0.431942</td>\n",
       "      <td>0.954655</td>\n",
       "      <td>0.678783</td>\n",
       "      <td>1.000000</td>\n",
       "      <td>1.000000</td>\n",
       "      <td>10.000000</td>\n",
       "      <td>6.000000</td>\n",
       "      <td>12.000000</td>\n",
       "      <td>2002.000000</td>\n",
       "    </tr>\n",
       "  </tbody>\n",
       "</table>\n",
       "<p>8 rows × 37 columns</p>\n",
       "</div>"
      ],
      "text/plain": [
       "          COM_CAT#1         SK_ID     COM_CAT#2     COM_CAT#3     BASE_TYPE  \\\n",
       "count  58989.000000  58989.000000  58989.000000  58989.000000  58989.000000   \n",
       "mean       4.475614   6909.303023     40.964231      5.274170      1.939362   \n",
       "std        2.187412   1868.652121     22.121673      2.804044      0.238668   \n",
       "min        1.000000      1.000000      1.000000      1.000000      1.000000   \n",
       "25%        3.000000   5692.000000     25.000000      5.000000      2.000000   \n",
       "50%        4.000000   7031.000000     38.000000      5.000000      2.000000   \n",
       "75%        6.000000   8399.000000     60.000000      5.000000      2.000000   \n",
       "max        8.000000   9748.000000     83.000000     17.000000      2.000000   \n",
       "\n",
       "                ACT    ARPU_GROUP     COM_CAT#7     COM_CAT#8  DEVICE_TYPE_ID  \\\n",
       "count  58989.000000  58989.000000  58989.000000  58989.000000    58989.000000   \n",
       "mean       0.990541      7.503416      2.418400    804.772754        4.587482   \n",
       "std        0.096799      3.273761      1.655322    547.242582        0.945789   \n",
       "min        0.000000      0.000000      1.000000      0.000000        0.000000   \n",
       "25%        1.000000      5.000000      1.000000    165.000000        5.000000   \n",
       "50%        1.000000      7.000000      2.000000    837.000000        5.000000   \n",
       "75%        1.000000     10.000000      3.000000   1311.000000        5.000000   \n",
       "max        1.000000     12.000000      9.000000   1702.000000        8.000000   \n",
       "\n",
       "           ...         COM_CAT#28    COM_CAT#29    COM_CAT#30    COM_CAT#31  \\\n",
       "count      ...       58989.000000  58989.000000  58989.000000  58989.000000   \n",
       "mean       ...           0.017566      0.004167      0.004383      0.045646   \n",
       "std        ...           0.030751      0.013551      0.020910      0.052554   \n",
       "min        ...           0.000000      0.000000      0.000000      0.000000   \n",
       "25%        ...           0.000873      0.000000      0.000000      0.010227   \n",
       "50%        ...           0.006288      0.000039      0.000000      0.029631   \n",
       "75%        ...           0.021304      0.002761      0.000083      0.062445   \n",
       "max        ...           1.000000      0.431942      0.954655      0.678783   \n",
       "\n",
       "         COM_CAT#32    COM_CAT#33    COM_CAT#34   COM_CAT#242         month  \\\n",
       "count  58989.000000  58989.000000  58989.000000  58989.000000  58989.000000   \n",
       "mean       0.028234      0.105025      5.441726      0.000356      6.456882   \n",
       "std        0.008920      0.011167      3.638862      0.039275      3.483752   \n",
       "min        0.019839      0.093571      0.000000      0.000000      1.000000   \n",
       "25%        0.027579      0.103896      2.000000      0.000000      3.000000   \n",
       "50%        0.027579      0.103896      4.000000      0.000000      6.000000   \n",
       "75%        0.027579      0.103896      9.000000      0.000000     10.000000   \n",
       "max        1.000000      1.000000     10.000000      6.000000     12.000000   \n",
       "\n",
       "               year  \n",
       "count  58989.000000  \n",
       "mean    2001.352896  \n",
       "std        0.477875  \n",
       "min     2001.000000  \n",
       "25%     2001.000000  \n",
       "50%     2001.000000  \n",
       "75%     2002.000000  \n",
       "max     2002.000000  \n",
       "\n",
       "[8 rows x 37 columns]"
      ]
     },
     "execution_count": 362,
     "metadata": {},
     "output_type": "execute_result"
    }
   ],
   "source": [
    "subs_features.describe()"
   ]
  },
  {
   "cell_type": "code",
   "execution_count": 363,
   "metadata": {},
   "outputs": [],
   "source": [
    "if TRAIN:\n",
    "    factors = {}\n",
    "for c in columns:\n",
    "    #emean =  np.mean(subs_features[c])\n",
    "    if TRAIN:\n",
    "        emin = np.min(subs_features[c])\n",
    "    else:\n",
    "        emin = factors[c][0]\n",
    "    #subs_features[c] -= emean\n",
    "    subs_features[c] -= emin\n",
    "    if TRAIN:\n",
    "        emax = np.max(subs_features[c])\n",
    "    else:\n",
    "        emax = factors[c][1]\n",
    "    subs_features[c] /= emax\n",
    "    if TRAIN:\n",
    "        factors[c] = (emin, emax)"
   ]
  },
  {
   "cell_type": "code",
   "execution_count": 364,
   "metadata": {},
   "outputs": [
    {
     "data": {
      "text/html": [
       "<div>\n",
       "<style scoped>\n",
       "    .dataframe tbody tr th:only-of-type {\n",
       "        vertical-align: middle;\n",
       "    }\n",
       "\n",
       "    .dataframe tbody tr th {\n",
       "        vertical-align: top;\n",
       "    }\n",
       "\n",
       "    .dataframe thead th {\n",
       "        text-align: right;\n",
       "    }\n",
       "</style>\n",
       "<table border=\"1\" class=\"dataframe\">\n",
       "  <thead>\n",
       "    <tr style=\"text-align: right;\">\n",
       "      <th></th>\n",
       "      <th>COM_CAT#1</th>\n",
       "      <th>SK_ID</th>\n",
       "      <th>COM_CAT#2</th>\n",
       "      <th>COM_CAT#3</th>\n",
       "      <th>BASE_TYPE</th>\n",
       "      <th>ACT</th>\n",
       "      <th>ARPU_GROUP</th>\n",
       "      <th>COM_CAT#7</th>\n",
       "      <th>COM_CAT#8</th>\n",
       "      <th>DEVICE_TYPE_ID</th>\n",
       "      <th>...</th>\n",
       "      <th>COM_CAT#28</th>\n",
       "      <th>COM_CAT#29</th>\n",
       "      <th>COM_CAT#30</th>\n",
       "      <th>COM_CAT#31</th>\n",
       "      <th>COM_CAT#32</th>\n",
       "      <th>COM_CAT#33</th>\n",
       "      <th>COM_CAT#34</th>\n",
       "      <th>COM_CAT#242</th>\n",
       "      <th>month</th>\n",
       "      <th>year</th>\n",
       "    </tr>\n",
       "  </thead>\n",
       "  <tbody>\n",
       "    <tr>\n",
       "      <th>count</th>\n",
       "      <td>58989.000000</td>\n",
       "      <td>58989.000000</td>\n",
       "      <td>58989.000000</td>\n",
       "      <td>58989.000000</td>\n",
       "      <td>58989.000000</td>\n",
       "      <td>58989.000000</td>\n",
       "      <td>58989.000000</td>\n",
       "      <td>58989.000000</td>\n",
       "      <td>58989.000000</td>\n",
       "      <td>58989.000000</td>\n",
       "      <td>...</td>\n",
       "      <td>58989.000000</td>\n",
       "      <td>58989.000000</td>\n",
       "      <td>58989.000000</td>\n",
       "      <td>58989.000000</td>\n",
       "      <td>58989.000000</td>\n",
       "      <td>58989.000000</td>\n",
       "      <td>58989.000000</td>\n",
       "      <td>58989.000000</td>\n",
       "      <td>58989.000000</td>\n",
       "      <td>58989.000000</td>\n",
       "    </tr>\n",
       "    <tr>\n",
       "      <th>mean</th>\n",
       "      <td>0.496516</td>\n",
       "      <td>6909.303023</td>\n",
       "      <td>0.487369</td>\n",
       "      <td>0.267136</td>\n",
       "      <td>0.939362</td>\n",
       "      <td>0.990541</td>\n",
       "      <td>0.625285</td>\n",
       "      <td>0.177300</td>\n",
       "      <td>0.472839</td>\n",
       "      <td>0.573435</td>\n",
       "      <td>...</td>\n",
       "      <td>0.027222</td>\n",
       "      <td>0.004167</td>\n",
       "      <td>0.004383</td>\n",
       "      <td>0.045646</td>\n",
       "      <td>0.050357</td>\n",
       "      <td>0.278068</td>\n",
       "      <td>0.544173</td>\n",
       "      <td>0.000051</td>\n",
       "      <td>6.456882</td>\n",
       "      <td>2001.352896</td>\n",
       "    </tr>\n",
       "    <tr>\n",
       "      <th>std</th>\n",
       "      <td>0.312487</td>\n",
       "      <td>1868.652121</td>\n",
       "      <td>0.269777</td>\n",
       "      <td>0.175253</td>\n",
       "      <td>0.238668</td>\n",
       "      <td>0.096799</td>\n",
       "      <td>0.272813</td>\n",
       "      <td>0.206915</td>\n",
       "      <td>0.321529</td>\n",
       "      <td>0.118224</td>\n",
       "      <td>...</td>\n",
       "      <td>0.047655</td>\n",
       "      <td>0.013551</td>\n",
       "      <td>0.020910</td>\n",
       "      <td>0.052554</td>\n",
       "      <td>0.015909</td>\n",
       "      <td>0.029565</td>\n",
       "      <td>0.363886</td>\n",
       "      <td>0.005611</td>\n",
       "      <td>3.483752</td>\n",
       "      <td>0.477875</td>\n",
       "    </tr>\n",
       "    <tr>\n",
       "      <th>min</th>\n",
       "      <td>0.000000</td>\n",
       "      <td>1.000000</td>\n",
       "      <td>0.000000</td>\n",
       "      <td>0.000000</td>\n",
       "      <td>0.000000</td>\n",
       "      <td>0.000000</td>\n",
       "      <td>0.000000</td>\n",
       "      <td>0.000000</td>\n",
       "      <td>0.000000</td>\n",
       "      <td>0.000000</td>\n",
       "      <td>...</td>\n",
       "      <td>0.000000</td>\n",
       "      <td>0.000000</td>\n",
       "      <td>0.000000</td>\n",
       "      <td>0.000000</td>\n",
       "      <td>0.035384</td>\n",
       "      <td>0.247742</td>\n",
       "      <td>0.000000</td>\n",
       "      <td>0.000000</td>\n",
       "      <td>1.000000</td>\n",
       "      <td>2001.000000</td>\n",
       "    </tr>\n",
       "    <tr>\n",
       "      <th>25%</th>\n",
       "      <td>0.285714</td>\n",
       "      <td>5692.000000</td>\n",
       "      <td>0.292683</td>\n",
       "      <td>0.250000</td>\n",
       "      <td>1.000000</td>\n",
       "      <td>1.000000</td>\n",
       "      <td>0.416667</td>\n",
       "      <td>0.000000</td>\n",
       "      <td>0.096945</td>\n",
       "      <td>0.625000</td>\n",
       "      <td>...</td>\n",
       "      <td>0.001353</td>\n",
       "      <td>0.000000</td>\n",
       "      <td>0.000000</td>\n",
       "      <td>0.010227</td>\n",
       "      <td>0.049189</td>\n",
       "      <td>0.275078</td>\n",
       "      <td>0.200000</td>\n",
       "      <td>0.000000</td>\n",
       "      <td>3.000000</td>\n",
       "      <td>2001.000000</td>\n",
       "    </tr>\n",
       "    <tr>\n",
       "      <th>50%</th>\n",
       "      <td>0.428571</td>\n",
       "      <td>7031.000000</td>\n",
       "      <td>0.451220</td>\n",
       "      <td>0.250000</td>\n",
       "      <td>1.000000</td>\n",
       "      <td>1.000000</td>\n",
       "      <td>0.583333</td>\n",
       "      <td>0.125000</td>\n",
       "      <td>0.491774</td>\n",
       "      <td>0.625000</td>\n",
       "      <td>...</td>\n",
       "      <td>0.009744</td>\n",
       "      <td>0.000039</td>\n",
       "      <td>0.000000</td>\n",
       "      <td>0.029631</td>\n",
       "      <td>0.049189</td>\n",
       "      <td>0.275078</td>\n",
       "      <td>0.400000</td>\n",
       "      <td>0.000000</td>\n",
       "      <td>6.000000</td>\n",
       "      <td>2001.000000</td>\n",
       "    </tr>\n",
       "    <tr>\n",
       "      <th>75%</th>\n",
       "      <td>0.714286</td>\n",
       "      <td>8399.000000</td>\n",
       "      <td>0.719512</td>\n",
       "      <td>0.250000</td>\n",
       "      <td>1.000000</td>\n",
       "      <td>1.000000</td>\n",
       "      <td>0.833333</td>\n",
       "      <td>0.250000</td>\n",
       "      <td>0.770270</td>\n",
       "      <td>0.625000</td>\n",
       "      <td>...</td>\n",
       "      <td>0.033014</td>\n",
       "      <td>0.002761</td>\n",
       "      <td>0.000083</td>\n",
       "      <td>0.062445</td>\n",
       "      <td>0.049189</td>\n",
       "      <td>0.275078</td>\n",
       "      <td>0.900000</td>\n",
       "      <td>0.000000</td>\n",
       "      <td>10.000000</td>\n",
       "      <td>2002.000000</td>\n",
       "    </tr>\n",
       "    <tr>\n",
       "      <th>max</th>\n",
       "      <td>1.000000</td>\n",
       "      <td>9748.000000</td>\n",
       "      <td>1.000000</td>\n",
       "      <td>1.000000</td>\n",
       "      <td>1.000000</td>\n",
       "      <td>1.000000</td>\n",
       "      <td>1.000000</td>\n",
       "      <td>1.000000</td>\n",
       "      <td>1.000000</td>\n",
       "      <td>1.000000</td>\n",
       "      <td>...</td>\n",
       "      <td>1.549681</td>\n",
       "      <td>0.431942</td>\n",
       "      <td>0.954655</td>\n",
       "      <td>0.678783</td>\n",
       "      <td>1.783568</td>\n",
       "      <td>2.647632</td>\n",
       "      <td>1.000000</td>\n",
       "      <td>0.857143</td>\n",
       "      <td>12.000000</td>\n",
       "      <td>2002.000000</td>\n",
       "    </tr>\n",
       "  </tbody>\n",
       "</table>\n",
       "<p>8 rows × 37 columns</p>\n",
       "</div>"
      ],
      "text/plain": [
       "          COM_CAT#1         SK_ID     COM_CAT#2     COM_CAT#3     BASE_TYPE  \\\n",
       "count  58989.000000  58989.000000  58989.000000  58989.000000  58989.000000   \n",
       "mean       0.496516   6909.303023      0.487369      0.267136      0.939362   \n",
       "std        0.312487   1868.652121      0.269777      0.175253      0.238668   \n",
       "min        0.000000      1.000000      0.000000      0.000000      0.000000   \n",
       "25%        0.285714   5692.000000      0.292683      0.250000      1.000000   \n",
       "50%        0.428571   7031.000000      0.451220      0.250000      1.000000   \n",
       "75%        0.714286   8399.000000      0.719512      0.250000      1.000000   \n",
       "max        1.000000   9748.000000      1.000000      1.000000      1.000000   \n",
       "\n",
       "                ACT    ARPU_GROUP     COM_CAT#7     COM_CAT#8  DEVICE_TYPE_ID  \\\n",
       "count  58989.000000  58989.000000  58989.000000  58989.000000    58989.000000   \n",
       "mean       0.990541      0.625285      0.177300      0.472839        0.573435   \n",
       "std        0.096799      0.272813      0.206915      0.321529        0.118224   \n",
       "min        0.000000      0.000000      0.000000      0.000000        0.000000   \n",
       "25%        1.000000      0.416667      0.000000      0.096945        0.625000   \n",
       "50%        1.000000      0.583333      0.125000      0.491774        0.625000   \n",
       "75%        1.000000      0.833333      0.250000      0.770270        0.625000   \n",
       "max        1.000000      1.000000      1.000000      1.000000        1.000000   \n",
       "\n",
       "           ...         COM_CAT#28    COM_CAT#29    COM_CAT#30    COM_CAT#31  \\\n",
       "count      ...       58989.000000  58989.000000  58989.000000  58989.000000   \n",
       "mean       ...           0.027222      0.004167      0.004383      0.045646   \n",
       "std        ...           0.047655      0.013551      0.020910      0.052554   \n",
       "min        ...           0.000000      0.000000      0.000000      0.000000   \n",
       "25%        ...           0.001353      0.000000      0.000000      0.010227   \n",
       "50%        ...           0.009744      0.000039      0.000000      0.029631   \n",
       "75%        ...           0.033014      0.002761      0.000083      0.062445   \n",
       "max        ...           1.549681      0.431942      0.954655      0.678783   \n",
       "\n",
       "         COM_CAT#32    COM_CAT#33    COM_CAT#34   COM_CAT#242         month  \\\n",
       "count  58989.000000  58989.000000  58989.000000  58989.000000  58989.000000   \n",
       "mean       0.050357      0.278068      0.544173      0.000051      6.456882   \n",
       "std        0.015909      0.029565      0.363886      0.005611      3.483752   \n",
       "min        0.035384      0.247742      0.000000      0.000000      1.000000   \n",
       "25%        0.049189      0.275078      0.200000      0.000000      3.000000   \n",
       "50%        0.049189      0.275078      0.400000      0.000000      6.000000   \n",
       "75%        0.049189      0.275078      0.900000      0.000000     10.000000   \n",
       "max        1.783568      2.647632      1.000000      0.857143     12.000000   \n",
       "\n",
       "               year  \n",
       "count  58989.000000  \n",
       "mean    2001.352896  \n",
       "std        0.477875  \n",
       "min     2001.000000  \n",
       "25%     2001.000000  \n",
       "50%     2001.000000  \n",
       "75%     2002.000000  \n",
       "max     2002.000000  \n",
       "\n",
       "[8 rows x 37 columns]"
      ]
     },
     "execution_count": 364,
     "metadata": {},
     "output_type": "execute_result"
    }
   ],
   "source": [
    "subs_features.describe()"
   ]
  },
  {
   "cell_type": "code",
   "execution_count": 365,
   "metadata": {},
   "outputs": [
    {
     "data": {
      "text/html": [
       "<div>\n",
       "<style scoped>\n",
       "    .dataframe tbody tr th:only-of-type {\n",
       "        vertical-align: middle;\n",
       "    }\n",
       "\n",
       "    .dataframe tbody tr th {\n",
       "        vertical-align: top;\n",
       "    }\n",
       "\n",
       "    .dataframe thead th {\n",
       "        text-align: right;\n",
       "    }\n",
       "</style>\n",
       "<table border=\"1\" class=\"dataframe\">\n",
       "  <thead>\n",
       "    <tr style=\"text-align: right;\">\n",
       "      <th></th>\n",
       "      <th>COM_CAT#1</th>\n",
       "      <th>COM_CAT#2</th>\n",
       "      <th>COM_CAT#3</th>\n",
       "      <th>BASE_TYPE</th>\n",
       "      <th>ACT</th>\n",
       "      <th>ARPU_GROUP</th>\n",
       "      <th>COM_CAT#7</th>\n",
       "      <th>COM_CAT#8</th>\n",
       "      <th>DEVICE_TYPE_ID</th>\n",
       "      <th>INTERNET_TYPE_ID</th>\n",
       "      <th>...</th>\n",
       "      <th>COM_CAT#25</th>\n",
       "      <th>COM_CAT#26</th>\n",
       "      <th>COM_CAT#27</th>\n",
       "      <th>COM_CAT#28</th>\n",
       "      <th>COM_CAT#29</th>\n",
       "      <th>COM_CAT#30</th>\n",
       "      <th>COM_CAT#31</th>\n",
       "      <th>COM_CAT#32</th>\n",
       "      <th>COM_CAT#33</th>\n",
       "      <th>COM_CAT#34</th>\n",
       "    </tr>\n",
       "  </thead>\n",
       "  <tbody>\n",
       "    <tr>\n",
       "      <th>count</th>\n",
       "      <td>58989.000000</td>\n",
       "      <td>58989.000000</td>\n",
       "      <td>58989.000000</td>\n",
       "      <td>58989.000000</td>\n",
       "      <td>58989.000000</td>\n",
       "      <td>58989.000000</td>\n",
       "      <td>58989.000000</td>\n",
       "      <td>58989.000000</td>\n",
       "      <td>58989.000000</td>\n",
       "      <td>58989.000000</td>\n",
       "      <td>...</td>\n",
       "      <td>58989.000000</td>\n",
       "      <td>58989.000000</td>\n",
       "      <td>58989.000000</td>\n",
       "      <td>58989.000000</td>\n",
       "      <td>58989.000000</td>\n",
       "      <td>58989.000000</td>\n",
       "      <td>58989.000000</td>\n",
       "      <td>58989.000000</td>\n",
       "      <td>58989.000000</td>\n",
       "      <td>58989.000000</td>\n",
       "    </tr>\n",
       "    <tr>\n",
       "      <th>mean</th>\n",
       "      <td>0.496516</td>\n",
       "      <td>0.487369</td>\n",
       "      <td>0.267136</td>\n",
       "      <td>0.939362</td>\n",
       "      <td>0.990541</td>\n",
       "      <td>0.625285</td>\n",
       "      <td>0.177300</td>\n",
       "      <td>0.472839</td>\n",
       "      <td>0.573435</td>\n",
       "      <td>0.635531</td>\n",
       "      <td>...</td>\n",
       "      <td>0.999898</td>\n",
       "      <td>0.989049</td>\n",
       "      <td>0.016375</td>\n",
       "      <td>0.027222</td>\n",
       "      <td>0.004167</td>\n",
       "      <td>0.004383</td>\n",
       "      <td>0.045646</td>\n",
       "      <td>0.050357</td>\n",
       "      <td>0.278068</td>\n",
       "      <td>0.544173</td>\n",
       "    </tr>\n",
       "    <tr>\n",
       "      <th>std</th>\n",
       "      <td>0.312487</td>\n",
       "      <td>0.269777</td>\n",
       "      <td>0.175253</td>\n",
       "      <td>0.238668</td>\n",
       "      <td>0.096799</td>\n",
       "      <td>0.272813</td>\n",
       "      <td>0.206915</td>\n",
       "      <td>0.321529</td>\n",
       "      <td>0.118224</td>\n",
       "      <td>0.246137</td>\n",
       "      <td>...</td>\n",
       "      <td>0.010085</td>\n",
       "      <td>0.104074</td>\n",
       "      <td>0.024331</td>\n",
       "      <td>0.047655</td>\n",
       "      <td>0.013551</td>\n",
       "      <td>0.020910</td>\n",
       "      <td>0.052554</td>\n",
       "      <td>0.015909</td>\n",
       "      <td>0.029565</td>\n",
       "      <td>0.363886</td>\n",
       "    </tr>\n",
       "    <tr>\n",
       "      <th>min</th>\n",
       "      <td>0.000000</td>\n",
       "      <td>0.000000</td>\n",
       "      <td>0.000000</td>\n",
       "      <td>0.000000</td>\n",
       "      <td>0.000000</td>\n",
       "      <td>0.000000</td>\n",
       "      <td>0.000000</td>\n",
       "      <td>0.000000</td>\n",
       "      <td>0.000000</td>\n",
       "      <td>0.000000</td>\n",
       "      <td>...</td>\n",
       "      <td>0.000000</td>\n",
       "      <td>0.000000</td>\n",
       "      <td>0.000000</td>\n",
       "      <td>0.000000</td>\n",
       "      <td>0.000000</td>\n",
       "      <td>0.000000</td>\n",
       "      <td>0.000000</td>\n",
       "      <td>0.035384</td>\n",
       "      <td>0.247742</td>\n",
       "      <td>0.000000</td>\n",
       "    </tr>\n",
       "    <tr>\n",
       "      <th>25%</th>\n",
       "      <td>0.285714</td>\n",
       "      <td>0.292683</td>\n",
       "      <td>0.250000</td>\n",
       "      <td>1.000000</td>\n",
       "      <td>1.000000</td>\n",
       "      <td>0.416667</td>\n",
       "      <td>0.000000</td>\n",
       "      <td>0.096945</td>\n",
       "      <td>0.625000</td>\n",
       "      <td>0.333333</td>\n",
       "      <td>...</td>\n",
       "      <td>1.000000</td>\n",
       "      <td>1.000000</td>\n",
       "      <td>0.001940</td>\n",
       "      <td>0.001353</td>\n",
       "      <td>0.000000</td>\n",
       "      <td>0.000000</td>\n",
       "      <td>0.010227</td>\n",
       "      <td>0.049189</td>\n",
       "      <td>0.275078</td>\n",
       "      <td>0.200000</td>\n",
       "    </tr>\n",
       "    <tr>\n",
       "      <th>50%</th>\n",
       "      <td>0.428571</td>\n",
       "      <td>0.451220</td>\n",
       "      <td>0.250000</td>\n",
       "      <td>1.000000</td>\n",
       "      <td>1.000000</td>\n",
       "      <td>0.583333</td>\n",
       "      <td>0.125000</td>\n",
       "      <td>0.491774</td>\n",
       "      <td>0.625000</td>\n",
       "      <td>0.666667</td>\n",
       "      <td>...</td>\n",
       "      <td>1.000000</td>\n",
       "      <td>1.000000</td>\n",
       "      <td>0.007878</td>\n",
       "      <td>0.009744</td>\n",
       "      <td>0.000039</td>\n",
       "      <td>0.000000</td>\n",
       "      <td>0.029631</td>\n",
       "      <td>0.049189</td>\n",
       "      <td>0.275078</td>\n",
       "      <td>0.400000</td>\n",
       "    </tr>\n",
       "    <tr>\n",
       "      <th>75%</th>\n",
       "      <td>0.714286</td>\n",
       "      <td>0.719512</td>\n",
       "      <td>0.250000</td>\n",
       "      <td>1.000000</td>\n",
       "      <td>1.000000</td>\n",
       "      <td>0.833333</td>\n",
       "      <td>0.250000</td>\n",
       "      <td>0.770270</td>\n",
       "      <td>0.625000</td>\n",
       "      <td>0.666667</td>\n",
       "      <td>...</td>\n",
       "      <td>1.000000</td>\n",
       "      <td>1.000000</td>\n",
       "      <td>0.020910</td>\n",
       "      <td>0.033014</td>\n",
       "      <td>0.002761</td>\n",
       "      <td>0.000083</td>\n",
       "      <td>0.062445</td>\n",
       "      <td>0.049189</td>\n",
       "      <td>0.275078</td>\n",
       "      <td>0.900000</td>\n",
       "    </tr>\n",
       "    <tr>\n",
       "      <th>max</th>\n",
       "      <td>1.000000</td>\n",
       "      <td>1.000000</td>\n",
       "      <td>1.000000</td>\n",
       "      <td>1.000000</td>\n",
       "      <td>1.000000</td>\n",
       "      <td>1.000000</td>\n",
       "      <td>1.000000</td>\n",
       "      <td>1.000000</td>\n",
       "      <td>1.000000</td>\n",
       "      <td>1.000000</td>\n",
       "      <td>...</td>\n",
       "      <td>1.000000</td>\n",
       "      <td>1.000000</td>\n",
       "      <td>0.727991</td>\n",
       "      <td>1.549681</td>\n",
       "      <td>0.431942</td>\n",
       "      <td>0.954655</td>\n",
       "      <td>0.678783</td>\n",
       "      <td>1.783568</td>\n",
       "      <td>2.647632</td>\n",
       "      <td>1.000000</td>\n",
       "    </tr>\n",
       "  </tbody>\n",
       "</table>\n",
       "<p>8 rows × 34 columns</p>\n",
       "</div>"
      ],
      "text/plain": [
       "          COM_CAT#1     COM_CAT#2     COM_CAT#3     BASE_TYPE           ACT  \\\n",
       "count  58989.000000  58989.000000  58989.000000  58989.000000  58989.000000   \n",
       "mean       0.496516      0.487369      0.267136      0.939362      0.990541   \n",
       "std        0.312487      0.269777      0.175253      0.238668      0.096799   \n",
       "min        0.000000      0.000000      0.000000      0.000000      0.000000   \n",
       "25%        0.285714      0.292683      0.250000      1.000000      1.000000   \n",
       "50%        0.428571      0.451220      0.250000      1.000000      1.000000   \n",
       "75%        0.714286      0.719512      0.250000      1.000000      1.000000   \n",
       "max        1.000000      1.000000      1.000000      1.000000      1.000000   \n",
       "\n",
       "         ARPU_GROUP     COM_CAT#7     COM_CAT#8  DEVICE_TYPE_ID  \\\n",
       "count  58989.000000  58989.000000  58989.000000    58989.000000   \n",
       "mean       0.625285      0.177300      0.472839        0.573435   \n",
       "std        0.272813      0.206915      0.321529        0.118224   \n",
       "min        0.000000      0.000000      0.000000        0.000000   \n",
       "25%        0.416667      0.000000      0.096945        0.625000   \n",
       "50%        0.583333      0.125000      0.491774        0.625000   \n",
       "75%        0.833333      0.250000      0.770270        0.625000   \n",
       "max        1.000000      1.000000      1.000000        1.000000   \n",
       "\n",
       "       INTERNET_TYPE_ID      ...         COM_CAT#25    COM_CAT#26  \\\n",
       "count      58989.000000      ...       58989.000000  58989.000000   \n",
       "mean           0.635531      ...           0.999898      0.989049   \n",
       "std            0.246137      ...           0.010085      0.104074   \n",
       "min            0.000000      ...           0.000000      0.000000   \n",
       "25%            0.333333      ...           1.000000      1.000000   \n",
       "50%            0.666667      ...           1.000000      1.000000   \n",
       "75%            0.666667      ...           1.000000      1.000000   \n",
       "max            1.000000      ...           1.000000      1.000000   \n",
       "\n",
       "         COM_CAT#27    COM_CAT#28    COM_CAT#29    COM_CAT#30    COM_CAT#31  \\\n",
       "count  58989.000000  58989.000000  58989.000000  58989.000000  58989.000000   \n",
       "mean       0.016375      0.027222      0.004167      0.004383      0.045646   \n",
       "std        0.024331      0.047655      0.013551      0.020910      0.052554   \n",
       "min        0.000000      0.000000      0.000000      0.000000      0.000000   \n",
       "25%        0.001940      0.001353      0.000000      0.000000      0.010227   \n",
       "50%        0.007878      0.009744      0.000039      0.000000      0.029631   \n",
       "75%        0.020910      0.033014      0.002761      0.000083      0.062445   \n",
       "max        0.727991      1.549681      0.431942      0.954655      0.678783   \n",
       "\n",
       "         COM_CAT#32    COM_CAT#33    COM_CAT#34  \n",
       "count  58989.000000  58989.000000  58989.000000  \n",
       "mean       0.050357      0.278068      0.544173  \n",
       "std        0.015909      0.029565      0.363886  \n",
       "min        0.035384      0.247742      0.000000  \n",
       "25%        0.049189      0.275078      0.200000  \n",
       "50%        0.049189      0.275078      0.400000  \n",
       "75%        0.049189      0.275078      0.900000  \n",
       "max        1.783568      2.647632      1.000000  \n",
       "\n",
       "[8 rows x 34 columns]"
      ]
     },
     "execution_count": 365,
     "metadata": {},
     "output_type": "execute_result"
    }
   ],
   "source": [
    "subs_features[columns].describe()"
   ]
  },
  {
   "cell_type": "code",
   "execution_count": null,
   "metadata": {
    "collapsed": true
   },
   "outputs": [],
   "source": []
  },
  {
   "cell_type": "code",
   "execution_count": 366,
   "metadata": {
    "collapsed": true
   },
   "outputs": [],
   "source": [
    "def get_subs_features(year, month, fix_month, day, sk_id):\n",
    "    data = subs_features[(subs_features['year'] == year) & (subs_features['month'] == month) & (subs_features['SK_ID'] == sk_id)]\n",
    "    columns = ['COM_CAT#1', 'COM_CAT#2', 'COM_CAT#3', 'BASE_TYPE', 'ACT', 'ARPU_GROUP', 'COM_CAT#7', 'COM_CAT#8',\n",
    "              'DEVICE_TYPE_ID', 'INTERNET_TYPE_ID', 'REVENUE', 'ITC', 'VAS', 'RENT_CHANNEL', 'ROAM',\n",
    "              'COST', 'COM_CAT#242']\n",
    "    for i in range(18):\n",
    "        if i + 17 == 24:\n",
    "            if data.shape[0] == 1:\n",
    "                d = data[['COM_CAT#24']].values[0].tolist()[0]\n",
    "                dt = str(d).split('.')\n",
    "                c_month = int(dt[1])\n",
    "                c_day = int(dt[0])\n",
    "                delta = (datetime(2002, fix_month, day) - datetime(2001 if d == '31.12' else 2002, c_month, c_day)).days\n",
    "            continue\n",
    "        columns.append('COM_CAT#{}'.format(i+17))\n",
    "    if data.shape[0] == 1:\n",
    "        return columns, data[columns].values[0].tolist()\n",
    "    else:\n",
    "        return columns, np.zeros(len(columns))"
   ]
  },
  {
   "cell_type": "code",
   "execution_count": null,
   "metadata": {
    "collapsed": true
   },
   "outputs": [],
   "source": []
  },
  {
   "cell_type": "code",
   "execution_count": 367,
   "metadata": {
    "collapsed": true
   },
   "outputs": [],
   "source": [
    "# for dnn\n",
    "table = []\n",
    "if TRAIN:\n",
    "    y = np.zeros(subs_csi.shape[0])\n",
    "for i in enumerate(subs_csi.values):\n",
    "    sk_id = int(i[1][0])\n",
    "    #line = [sk_id]\n",
    "    #table_columns = ['sk_id']\n",
    "    if TRAIN:\n",
    "        dt = str(i[1][2]).split('.')\n",
    "    else:\n",
    "        dt = str(i[1][1]).split('.')\n",
    "    year = 2002\n",
    "    month = int(dt[1])\n",
    "    row = []\n",
    "    for j in range(12):\n",
    "        new_line = get_subs_features(year, month, int(dt[1]), int(dt[0]), sk_id)\n",
    "        #line.extend(new_line[1])\n",
    "        row.append(new_line[1])\n",
    "        #table_columns.extend(new_line[0])\n",
    "        month -= 1\n",
    "        if month == 0:\n",
    "            month = 12\n",
    "            year -= 1\n",
    "    table.append(row)\n",
    "    if TRAIN:\n",
    "        y[i[0]] = i[1][1]"
   ]
  },
  {
   "cell_type": "code",
   "execution_count": 368,
   "metadata": {
    "collapsed": true
   },
   "outputs": [],
   "source": [
    "data = np.array(table)"
   ]
  },
  {
   "cell_type": "code",
   "execution_count": 369,
   "metadata": {},
   "outputs": [
    {
     "data": {
      "text/plain": [
       "(5221, 12, 34)"
      ]
     },
     "execution_count": 369,
     "metadata": {},
     "output_type": "execute_result"
    }
   ],
   "source": [
    "data.shape"
   ]
  },
  {
   "cell_type": "code",
   "execution_count": 370,
   "metadata": {},
   "outputs": [
    {
     "data": {
      "text/plain": [
       "7.695618564670232"
      ]
     },
     "execution_count": 370,
     "metadata": {},
     "output_type": "execute_result"
    }
   ],
   "source": [
    "np.max(data)"
   ]
  },
  {
   "cell_type": "code",
   "execution_count": null,
   "metadata": {
    "collapsed": true
   },
   "outputs": [],
   "source": []
  },
  {
   "cell_type": "code",
   "execution_count": 371,
   "metadata": {
    "collapsed": true
   },
   "outputs": [],
   "source": [
    "columns_avg = ['CELL_AVAILABILITY_2G', 'CELL_AVAILABILITY_3G',\n",
    "       'CELL_AVAILABILITY_4G', 'CSSR_2G', 'CSSR_3G',\n",
    "       'ERAB_PS_BLOCKING_RATE_LTE', 'ERAB_PS_BLOCKING_RATE_PLMN_LTE',\n",
    "       'ERAB_PS_DROP_RATE_LTE', 'HSPDSCH_CODE_UTIL_3G',\n",
    "       'NODEB_CNBAP_LOAD_HARDWARE', 'PART_CQI_QPSK_LTE', 'PART_MCS_QPSK_LTE',\n",
    "       'PROC_LOAD_3G', 'PSSR_2G', 'PSSR_3G', 'PSSR_LTE',\n",
    "       'RAB_CS_BLOCKING_RATE_3G', 'RAB_CS_DROP_RATE_3G',\n",
    "       'RAB_PS_BLOCKING_RATE_3G', 'RAB_PS_DROP_RATE_3G', 'RBU_AVAIL_DL',\n",
    "       'RBU_AVAIL_DL_LTE', 'RBU_AVAIL_UL', 'RBU_OTHER_DL', 'RBU_OTHER_UL',\n",
    "       'RBU_OWN_DL', 'RBU_OWN_UL', 'RRC_BLOCKING_RATE_3G',\n",
    "       'RRC_BLOCKING_RATE_LTE', 'RTWP_3G', 'SHO_FACTOR', 'TBF_DROP_RATE_2G',\n",
    "       'TCH_DROP_RATE_2G', 'UTIL_BRD_CPU_3G', 'UTIL_CE_DL_3G',\n",
    "       'UTIL_CE_HW_DL_3G', 'UTIL_CE_UL_3G', 'UTIL_SUBUNITS_3G',\n",
    "       'UL_VOLUME_LTE', 'DL_VOLUME_LTE', 'TOTAL_DL_VOLUME_3G',\n",
    "       'TOTAL_UL_VOLUME_3G']"
   ]
  },
  {
   "cell_type": "code",
   "execution_count": 372,
   "metadata": {
    "collapsed": true
   },
   "outputs": [],
   "source": [
    "columns_chhn = ['AVEUSERNUMBER', 'AVEUSERNUMBER_PLMN',\n",
    "       'AVR_DL_HSPA_USER_3G', 'AVR_DL_R99_USER_3G', 'AVR_DL_USER_3G',\n",
    "       'AVR_DL_USER_LTE', 'AVR_TX_POWER_3G', 'AVR_UL_HSPA_USER',\n",
    "       'AVR_UL_R99_USER', 'AVR_UL_USER_3G', 'AVR_UL_USER_LTE',\n",
    "       'DL_AVR_THROUGHPUT_3G', 'DL_AVR_THROUGHPUT_LTE',\n",
    "       'DL_AVR_THROUGHPUT_R99', 'DL_MEAN_USER_THROUGHPUT_LTE',\n",
    "       'DL_MEAN_USER_THROUGHPUT_DL_2G', 'DL_MEAN_USER_THROUGHPUT_HSPA3G',\n",
    "       'DL_MEAN_USER_THROUGHPUT_PLTE', 'DL_MEAN_USER_THROUGHPUT_REL93G',\n",
    "       'HSDPA_USERS_3G', 'HSUPA_USERS_3G', 'RBU_USED_DL', 'RBU_USED_UL',\n",
    "       'RELATIVE_RBU_USED_DL', 'RELATIVE_RBU_USED_UL', 'RELATIVE_TX_POWER_3G',\n",
    "       'UL_AVR_THROUGHPUT_3G', 'UL_AVR_THROUGHPUT_LTE',\n",
    "       'UL_AVR_THROUGHPUT_R99', 'UL_MEAN_USER_THROUGHPUT_LTE',\n",
    "       'UL_MEAN_USER_THROUGHPUT_HS3G', 'UL_MEAN_USER_THROUGHPUT_PLTE',\n",
    "       'UL_MEAN_USER_THROUGHPUT_REL93G']"
   ]
  },
  {
   "cell_type": "code",
   "execution_count": 373,
   "metadata": {
    "collapsed": true
   },
   "outputs": [],
   "source": [
    "def get_columns(count, postfix):\n",
    "    return ['{} {}'.format(i, postfix) for i in range(count)]       "
   ]
  },
  {
   "cell_type": "code",
   "execution_count": null,
   "metadata": {
    "collapsed": true
   },
   "outputs": [],
   "source": []
  },
  {
   "cell_type": "code",
   "execution_count": 374,
   "metadata": {
    "collapsed": true
   },
   "outputs": [],
   "source": [
    "if TRAIN:\n",
    "    scalers = {}"
   ]
  },
  {
   "cell_type": "code",
   "execution_count": 375,
   "metadata": {
    "collapsed": true
   },
   "outputs": [],
   "source": [
    "def get_extend_data(type_data, column_name, count, postfix):\n",
    "    fname = pathfiles + path_features + '{}_{}.csv'.format(type_data, column_name)\n",
    "    result = pd.read_csv(fname)\n",
    "    table = []\n",
    "    result = result[get_columns(count, postfix)]\n",
    "    result.fillna(np.nanmean(result), inplace=True)\n",
    "    for i in result.values:\n",
    "        table.append(np.array(i).reshape((count, 1)))\n",
    "    res_table = np.array(table)\n",
    "    \n",
    "    if TRAIN:\n",
    "        scale_mean = np.min(res_table)\n",
    "        res_table -= scale_mean\n",
    "        scale_std = np.max(res_table)\n",
    "        if scale_std != 0:\n",
    "            res_table /= scale_std\n",
    "        scalers[(type_data, column_name, count, postfix)] = (scale_mean, scale_std)\n",
    "    else:\n",
    "        scale_mean = scalers[(type_data, column_name, count, postfix)][0]\n",
    "        scale_std = scalers[(type_data, column_name, count, postfix)][1]\n",
    "        res_table -= scale_mean\n",
    "        if scale_std != 0:\n",
    "            res_table /= scale_std\n",
    "    return res_table\n",
    "\n",
    "def get_all_data():\n",
    "    result = None\n",
    "    count_days = 45\n",
    "    for columns in [columns_avg, columns_chhn]:\n",
    "        for c in columns:\n",
    "            for type_data in ['data', 'voice']:\n",
    "                if result is None:\n",
    "                    result = np.concatenate([get_extend_data('data', c, count_days, 'sum'), get_extend_data('data', c, count_days, 'count')], axis=2)\n",
    "                    t = get_extend_data('voice', c, count_days, 'sum')\n",
    "                    result = np.concatenate([result, t], axis=2)\n",
    "                    t = get_extend_data('voice', c, count_days, 'count')\n",
    "                    result = np.concatenate([result, t], axis=2)\n",
    "                for a in ['min', 'avg', 'max', 'mina', 'avga', 'maxa']:\n",
    "                    t = get_extend_data(type_data, c, count_days, a)\n",
    "                    result = np.concatenate([result, t], axis=2)\n",
    "    return result"
   ]
  },
  {
   "cell_type": "code",
   "execution_count": null,
   "metadata": {
    "collapsed": true
   },
   "outputs": [],
   "source": []
  },
  {
   "cell_type": "code",
   "execution_count": 376,
   "metadata": {},
   "outputs": [],
   "source": [
    "data2 = get_all_data()"
   ]
  },
  {
   "cell_type": "code",
   "execution_count": 377,
   "metadata": {},
   "outputs": [
    {
     "data": {
      "text/plain": [
       "(5221, 45, 904)"
      ]
     },
     "execution_count": 377,
     "metadata": {},
     "output_type": "execute_result"
    }
   ],
   "source": [
    "data2.shape"
   ]
  },
  {
   "cell_type": "code",
   "execution_count": 378,
   "metadata": {
    "collapsed": true
   },
   "outputs": [],
   "source": [
    "#(4222, 45, 902)"
   ]
  },
  {
   "cell_type": "code",
   "execution_count": 379,
   "metadata": {},
   "outputs": [
    {
     "data": {
      "text/plain": [
       "59.75000000000001"
      ]
     },
     "execution_count": 379,
     "metadata": {},
     "output_type": "execute_result"
    }
   ],
   "source": [
    "np.max(data2)"
   ]
  },
  {
   "cell_type": "code",
   "execution_count": 380,
   "metadata": {},
   "outputs": [
    {
     "data": {
      "text/plain": [
       "0.0"
      ]
     },
     "execution_count": 380,
     "metadata": {},
     "output_type": "execute_result"
    }
   ],
   "source": [
    "np.min(data2)"
   ]
  },
  {
   "cell_type": "code",
   "execution_count": null,
   "metadata": {
    "collapsed": true
   },
   "outputs": [],
   "source": []
  },
  {
   "cell_type": "code",
   "execution_count": 381,
   "metadata": {
    "collapsed": true
   },
   "outputs": [],
   "source": [
    "if not TRAIN:\n",
    "    X3 = np.asarray(data)\n",
    "    X4 = np.asarray(data2)\n",
    "    X3 = np.array(X3.tolist())\n",
    "    X4 = np.array(X4.tolist())\n",
    "    X3 = np.asarray(data)"
   ]
  },
  {
   "cell_type": "code",
   "execution_count": null,
   "metadata": {
    "collapsed": true
   },
   "outputs": [],
   "source": []
  },
  {
   "cell_type": "code",
   "execution_count": null,
   "metadata": {
    "collapsed": true
   },
   "outputs": [],
   "source": []
  },
  {
   "cell_type": "code",
   "execution_count": 235,
   "metadata": {
    "collapsed": true
   },
   "outputs": [],
   "source": [
    "X1 = np.asarray(data)\n",
    "X2 = np.asarray(data2)\n",
    "y = np.asarray(y)"
   ]
  },
  {
   "cell_type": "code",
   "execution_count": 236,
   "metadata": {},
   "outputs": [
    {
     "name": "stdout",
     "output_type": "stream",
     "text": [
      "(4222, 12, 34)\n",
      "(4222, 45, 904)\n"
     ]
    }
   ],
   "source": [
    "print(X1.shape)\n",
    "print(X2.shape)"
   ]
  },
  {
   "cell_type": "code",
   "execution_count": 237,
   "metadata": {
    "collapsed": true
   },
   "outputs": [],
   "source": [
    "X1 = np.array(X1.tolist())\n",
    "X2 = np.array(X2.tolist())"
   ]
  },
  {
   "cell_type": "code",
   "execution_count": 238,
   "metadata": {},
   "outputs": [
    {
     "name": "stdout",
     "output_type": "stream",
     "text": [
      "(4222, 12, 34)\n",
      "(4222, 45, 904)\n"
     ]
    }
   ],
   "source": [
    "print(X1.shape)\n",
    "print(X2.shape)"
   ]
  },
  {
   "cell_type": "code",
   "execution_count": 239,
   "metadata": {
    "collapsed": true
   },
   "outputs": [],
   "source": [
    "X1 = np.asarray(data)\n",
    "y = np.asarray(y)"
   ]
  },
  {
   "cell_type": "code",
   "execution_count": null,
   "metadata": {
    "collapsed": true
   },
   "outputs": [],
   "source": []
  },
  {
   "cell_type": "code",
   "execution_count": null,
   "metadata": {
    "collapsed": true
   },
   "outputs": [],
   "source": []
  },
  {
   "cell_type": "code",
   "execution_count": 240,
   "metadata": {
    "collapsed": true
   },
   "outputs": [],
   "source": [
    "from sklearn.model_selection import train_test_split"
   ]
  },
  {
   "cell_type": "code",
   "execution_count": 250,
   "metadata": {
    "collapsed": true
   },
   "outputs": [],
   "source": [
    "X_train_1, X_test_1, X_train_2, X_test_2, y_train, y_test = train_test_split(X1, X2, y, test_size=0.2, random_state=4233)"
   ]
  },
  {
   "cell_type": "code",
   "execution_count": null,
   "metadata": {
    "collapsed": true
   },
   "outputs": [],
   "source": []
  },
  {
   "cell_type": "code",
   "execution_count": 251,
   "metadata": {
    "collapsed": true
   },
   "outputs": [],
   "source": [
    "from sklearn.utils.class_weight import compute_class_weight\n"
   ]
  },
  {
   "cell_type": "code",
   "execution_count": 252,
   "metadata": {},
   "outputs": [],
   "source": [
    "from keras.models import Sequential, Model\n",
    "from keras.layers import Dense, Dropout, Conv1D, MaxPooling1D, Flatten, Input, GlobalMaxPooling1D, GRU, Bidirectional, LSTM\n",
    "from keras.utils import np_utils\n",
    "from keras.callbacks import EarlyStopping\n",
    "from sklearn.model_selection import train_test_split"
   ]
  },
  {
   "cell_type": "code",
   "execution_count": 253,
   "metadata": {
    "collapsed": true
   },
   "outputs": [],
   "source": [
    "from sklearn.metrics import roc_auc_score\n",
    "from keras import regularizers, Input, layers"
   ]
  },
  {
   "cell_type": "code",
   "execution_count": 254,
   "metadata": {
    "collapsed": true
   },
   "outputs": [],
   "source": [
    "from sklearn import metrics\n",
    "from keras import backend as K\n",
    "import tensorflow as tf\n",
    "def auc(y_true, y_pred):\n",
    "    auc = tf.metrics.auc(y_true, y_pred)[1]\n",
    "    K.get_session().run(tf.local_variables_initializer())\n",
    "    return auc"
   ]
  },
  {
   "cell_type": "code",
   "execution_count": 478,
   "metadata": {
    "collapsed": true
   },
   "outputs": [],
   "source": [
    "def create_model():\n",
    "    #build Keras model\n",
    "    \n",
    "    cnn_input = Input(shape=X_test_2.shape[1:], dtype='float32')\n",
    "    #x_0 = LSTM(256, dropout=0.2, recurrent_dropout=0.2)(cnn_input)\n",
    "    #x_0 = Bidirectional(LSTM(128, dropout=0.2, recurrent_dropout=0.2))(x_0)\n",
    "   \n",
    "    x_0 = Conv1D(256, 3, activation='relu')(cnn_input)\n",
    "    x_0 = MaxPooling1D(3)(x_0)\n",
    "    x_0 = Conv1D(256, 3, activation='relu')(x_0)\n",
    "    x_0 = GlobalMaxPooling1D()(x_0)\n",
    "    #x_0 = Bidirectional(LSTM(128, dropout=0.2, recurrent_dropout=0.2))(x_0)\n",
    "    \n",
    "    \n",
    "    #x_0 = GRU(64, dropout=0.3, recurrent_dropout=0.3, return_sequences=True, activation='relu', kernel_regularizer=regularizers.l2(0.005))(cnn_input)\n",
    "    #x_0 = GRU(64, dropout=0.3, recurrent_dropout=0.3, return_sequences=True, activation='relu', kernel_regularizer=regularizers.l2(0.005))(x_0)\n",
    "    #x_0 = GRU(64, dropout=0.3, recurrent_dropout=0.3, return_sequences=True, activation='relu', kernel_regularizer=regularizers.l2(0.005))(x_0)\n",
    "    #x_0 = GRU(64, dropout=0.3, recurrent_dropout=0.3, activation='relu', kernel_regularizer=regularizers.l2(0.005))(x_0)\n",
    "\n",
    "    for i in range(8):\n",
    "        x_0 = Dense(256, activation='relu', kernel_regularizer=regularizers.l2(0.001))(x_0)\n",
    "        #x_0 = Dropout(0.3)(x_0)\n",
    "    x_0 = Dense(256, activation='relu', kernel_regularizer=regularizers.l2(0.001))(x_0)\n",
    "\n",
    "    \n",
    "    \n",
    "    \n",
    "    dnn_input = Input(shape=X_test_1.shape[1:], dtype='float32')\n",
    "    x_1 = Conv1D(256, 3, activation='relu')(dnn_input)\n",
    "    x_1 = MaxPooling1D(3)(x_1)\n",
    "    x_1 = Conv1D(256, 3, activation='relu')(x_1)\n",
    "    x_1 = GlobalMaxPooling1D()(x_1)\n",
    "\n",
    "    #x_1 = LSTM(64, dropout=0.2, recurrent_dropout=0.2)(dnn_input)\n",
    "    #x_1 = Bidirectional(LSTM(128, dropout=0.2, recurrent_dropout=0.2))(x_1)\n",
    "    \n",
    "    #x_1 = GRU(64, dropout=0.3, recurrent_dropout=0.3, return_sequences=True, activation='relu', kernel_regularizer=regularizers.l2(0.001))(dnn_input)\n",
    "    #x_1 = GRU(64, dropout=0.3, recurrent_dropout=0.3, return_sequences=True, activation='relu', kernel_regularizer=regularizers.l2(0.001))(x_1)\n",
    "    #x_1 = GRU(64, dropout=0.3, recurrent_dropout=0.3, return_sequences=True, activation='relu', kernel_regularizer=regularizers.l2(0.01))(x_1)\n",
    "    #x_1 = GRU(64, dropout=0.3, recurrent_dropout=0.3, activation='relu', kernel_regularizer=regularizers.l2(0.001))(x_1)\n",
    "\n",
    "    for i in range(8):\n",
    "        x_1 = Dense(256, activation='relu', kernel_regularizer=regularizers.l2(0.001))(x_1)\n",
    "        #x_1 = Dropout(0.3)(x_1)\n",
    "    x_1 = Dense(256, activation='relu', kernel_regularizer=regularizers.l2(0.005))(x_1)\n",
    "    \n",
    "    concatenated = layers.concatenate([x_0, x_1], axis=-1)\n",
    "    \n",
    "    preds = Dense(1, activation='sigmoid')(concatenated)\n",
    "        \n",
    "    model = Model([cnn_input, dnn_input], preds)\n",
    "        \n",
    "    model.compile(loss='binary_crossentropy', metrics=[auc], optimizer='adam')\n",
    "    return model"
   ]
  },
  {
   "cell_type": "code",
   "execution_count": 479,
   "metadata": {},
   "outputs": [
    {
     "data": {
      "image/png": "[encoded data removed]",
      "text/plain": [
       "<matplotlib.figure.Figure at 0x204918913c8>"
      ]
     },
     "metadata": {},
     "output_type": "display_data"
    },
    {
     "name": "stdout",
     "output_type": "stream",
     "text": [
      "\b\b\b\b\b\b\b\b\b\b\b\b\b\b\b\b\b\b\b\b\b\b\b\b\b\b\b\b\b\b\b\b\b\b\b\b\b\b\b\b\b\b\b\b\b\b\b\b\b\b\b\b\b\b\b\b\b\b\b\b\b\b\b\b\b\b\b\b\b\b\b\b\b\b\b\b\b\b\b\b\b\r",
      "2701/2701 [==============================] - 20s 7ms/step - loss: 0.2617 - auc: 0.6477 - val_loss: 0.8011 - val_auc: 0.6521\n"
     ]
    }
   ],
   "source": [
    "count_epochs = 600\n",
    "class_weights = compute_class_weight('balanced', np.unique(y_train), y_train)\n",
    "model = create_model()\n",
    "early_stopping_monitor = EarlyStopping(patience=10)\n",
    "history = model.fit([np.array(X_train_2), np.array(X_train_1)], np.array(y_train), batch_size = 64, epochs = count_epochs, verbose=1, validation_split=0.2, class_weight=class_weights, callbacks=[plot,early_stopping_monitor])"
   ]
  },
  {
   "cell_type": "code",
   "execution_count": null,
   "metadata": {
    "collapsed": true
   },
   "outputs": [],
   "source": []
  },
  {
   "cell_type": "code",
   "execution_count": null,
   "metadata": {
    "collapsed": true
   },
   "outputs": [],
   "source": []
  },
  {
   "cell_type": "code",
   "execution_count": 480,
   "metadata": {},
   "outputs": [
    {
     "name": "stdout",
     "output_type": "stream",
     "text": [
      "Total roc auc score = 0.5099\n"
     ]
    }
   ],
   "source": [
    "predict = model.predict([np.array(X_test_2), np.array(X_test_1)])\n",
    "score = roc_auc_score(y_test, predict)\n",
    "text = \"Total roc auc score = {0:0.4f}\".format(score)\n",
    "print(text)"
   ]
  },
  {
   "cell_type": "code",
   "execution_count": 473,
   "metadata": {
    "collapsed": true
   },
   "outputs": [],
   "source": [
    "send_notify(text)"
   ]
  },
  {
   "cell_type": "code",
   "execution_count": null,
   "metadata": {
    "collapsed": true
   },
   "outputs": [],
   "source": []
  },
  {
   "cell_type": "code",
   "execution_count": null,
   "metadata": {
    "collapsed": true
   },
   "outputs": [],
   "source": []
  },
  {
   "cell_type": "code",
   "execution_count": null,
   "metadata": {
    "collapsed": true
   },
   "outputs": [],
   "source": []
  },
  {
   "cell_type": "code",
   "execution_count": null,
   "metadata": {
    "collapsed": true
   },
   "outputs": [],
   "source": []
  },
  {
   "cell_type": "code",
   "execution_count": null,
   "metadata": {
    "collapsed": true
   },
   "outputs": [],
   "source": []
  },
  {
   "cell_type": "code",
   "execution_count": 79,
   "metadata": {},
   "outputs": [
    {
     "data": {
      "image/png": "[encoded data removed]",
      "text/plain": [
       "<matplotlib.figure.Figure at 0x1b638129fd0>"
      ]
     },
     "metadata": {},
     "output_type": "display_data"
    }
   ],
   "source": [
    "history_gr = history.history['val_loss']\n",
    "import matplotlib.pyplot as plt\n",
    "epochs = range(1, len(history_gr) + 1)\n",
    "plt.plot(epochs, history_gr, 'b+', label='Original model')\n",
    "plt.xlabel('Epochs')\n",
    "plt.ylabel('Validation loss')\n",
    "plt.legend()\n",
    "\n",
    "plt.show()"
   ]
  },
  {
   "cell_type": "code",
   "execution_count": null,
   "metadata": {
    "collapsed": true
   },
   "outputs": [],
   "source": []
  },
  {
   "cell_type": "code",
   "execution_count": null,
   "metadata": {
    "collapsed": true
   },
   "outputs": [],
   "source": []
  },
  {
   "cell_type": "code",
   "execution_count": 141,
   "metadata": {
    "collapsed": true
   },
   "outputs": [],
   "source": [
    "model_json = model.to_json()\n",
    "# Записываем модель в файл\n",
    "json_file = open(\"output/sale_model3.json\", \"w\")\n",
    "json_file.write(model_json)\n",
    "json_file.close()\n",
    "model.save_weights(\"output/sale_model3.h5\")"
   ]
  },
  {
   "cell_type": "code",
   "execution_count": null,
   "metadata": {
    "collapsed": true
   },
   "outputs": [],
   "source": []
  },
  {
   "cell_type": "code",
   "execution_count": 382,
   "metadata": {
    "collapsed": true
   },
   "outputs": [],
   "source": [
    "def save_predict(predict):\n",
    "    with open('output/second.csv', 'w') as f:\n",
    "        for item in predict:\n",
    "            f.write(\"%s\\n\" % item[0])"
   ]
  },
  {
   "cell_type": "code",
   "execution_count": 383,
   "metadata": {
    "collapsed": true
   },
   "outputs": [],
   "source": [
    "save_predict(model.predict([np.array(X4), np.array(X3)]))"
   ]
  },
  {
   "cell_type": "code",
   "execution_count": null,
   "metadata": {
    "collapsed": true
   },
   "outputs": [],
   "source": []
  }
 ],
 "metadata": {
  "kernelspec": {
   "display_name": "Python 3",
   "language": "python",
   "name": "python3"
  },
  "language_info": {
   "codemirror_mode": {
    "name": "ipython",
    "version": 3
   },
   "file_extension": ".py",
   "mimetype": "text/x-python",
   "name": "python",
   "nbconvert_exporter": "python",
   "pygments_lexer": "ipython3",
   "version": "3.6.3"
  }
 },
 "nbformat": 4,
 "nbformat_minor": 2
}
