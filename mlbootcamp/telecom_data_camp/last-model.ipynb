{
 "cells": [
  {
   "cell_type": "code",
   "execution_count": 84,
   "metadata": {
    "collapsed": true
   },
   "outputs": [],
   "source": [
    "import pandas as pd\n",
    "import numpy as np\n",
    "from datetime import datetime, timedelta\n",
    "from collections import defaultdict"
   ]
  },
  {
   "cell_type": "code",
   "execution_count": null,
   "metadata": {
    "collapsed": true
   },
   "outputs": [],
   "source": []
  },
  {
   "cell_type": "code",
   "execution_count": 2,
   "metadata": {
    "collapsed": true
   },
   "outputs": [],
   "source": [
    "%matplotlib inline"
   ]
  },
  {
   "cell_type": "code",
   "execution_count": null,
   "metadata": {
    "collapsed": true
   },
   "outputs": [],
   "source": []
  },
  {
   "cell_type": "code",
   "execution_count": 3,
   "metadata": {},
   "outputs": [
    {
     "name": "stderr",
     "output_type": "stream",
     "text": [
      "C:\\ProgramData\\Anaconda3\\lib\\site-packages\\h5py\\__init__.py:34: FutureWarning: Conversion of the second argument of issubdtype from `float` to `np.floating` is deprecated. In future, it will be treated as `np.float64 == np.dtype(float).type`.\n",
      "  from ._conv import register_converters as _register_converters\n",
      "Using TensorFlow backend.\n"
     ]
    }
   ],
   "source": [
    "from keras.callbacks import Callback\n",
    "from matplotlib import pyplot as plt\n",
    "from IPython.display import clear_output\n",
    "class PlotLearning(Callback):\n",
    "    def on_train_begin(self, logs={}):\n",
    "        self.i = 0\n",
    "        self.x = []\n",
    "        self.losses = []\n",
    "        self.val_losses = []\n",
    "        self.acc = []\n",
    "        self.val_acc = []\n",
    "        self.fig = plt.figure()\n",
    "        \n",
    "        self.logs = []\n",
    "\n",
    "    def on_epoch_end(self, epoch, logs={}):\n",
    "        \n",
    "        self.logs.append(logs)\n",
    "        self.x.append(self.i)\n",
    "        self.losses.append(logs.get('loss'))\n",
    "        self.val_losses.append(logs.get('val_loss'))\n",
    "        self.acc.append(logs.get('auc'))\n",
    "        self.val_acc.append(logs.get('val_auc'))\n",
    "        self.i += 1\n",
    "        f, (ax1, ax2) = plt.subplots(1, 2, sharex=True,figsize=(15,10))\n",
    "        \n",
    "        clear_output(wait=True)\n",
    "        \n",
    "        ax1.set_yscale('log')\n",
    "        ax1.plot(self.x, self.losses, label=\"loss\")\n",
    "        ax1.plot(self.x, self.val_losses, label=\"validation_loss\")\n",
    "        ax1.legend()\n",
    "        \n",
    "        ax2.plot(self.x, self.acc, label=\"accuracy\")\n",
    "        ax2.plot(self.x, self.val_acc, label=\"validation accuracy\")\n",
    "        ax2.legend()\n",
    "        \n",
    "        plt.show();\n",
    "        \n",
    "plot = PlotLearning()"
   ]
  },
  {
   "cell_type": "code",
   "execution_count": null,
   "metadata": {
    "collapsed": true
   },
   "outputs": [],
   "source": []
  },
  {
   "cell_type": "code",
   "execution_count": 4,
   "metadata": {
    "collapsed": true
   },
   "outputs": [],
   "source": [
    "import telepot\n",
    "def send_notify(text):\n",
    "    with open('../../_access_keys/telegram_token.txt', 'r') as content_file:\n",
    "        token = content_file.read()\n",
    "    with open('../../_access_keys/user.txt', 'r') as content_file:\n",
    "        user = content_file.read()\n",
    "    try:\n",
    "        TelegramBot = telepot.Bot(token)\n",
    "        TelegramBot.sendMessage(int(user), text)\n",
    "    except:\n",
    "        pass"
   ]
  },
  {
   "cell_type": "code",
   "execution_count": null,
   "metadata": {
    "collapsed": true
   },
   "outputs": [],
   "source": []
  },
  {
   "cell_type": "code",
   "execution_count": null,
   "metadata": {
    "collapsed": true
   },
   "outputs": [],
   "source": []
  },
  {
   "cell_type": "code",
   "execution_count": 247,
   "metadata": {
    "collapsed": true
   },
   "outputs": [],
   "source": [
    "TRAIN = True"
   ]
  },
  {
   "cell_type": "code",
   "execution_count": null,
   "metadata": {
    "collapsed": true
   },
   "outputs": [],
   "source": []
  },
  {
   "cell_type": "code",
   "execution_count": 279,
   "metadata": {
    "collapsed": true
   },
   "outputs": [],
   "source": [
    "path = 'c:/data/mlbootcamp/dataset/'\n",
    "path_train = path + 'train/'\n",
    "path_test = path + 'test/'\n",
    "path_features = 'features/'\n",
    "if TRAIN:\n",
    "    pathfiles = path_train\n",
    "    path_subs_bs_consumption = 'subs_bs_consumption_train.csv'\n",
    "    path_subs_bs_data_session = 'subs_bs_data_session_train.csv'\n",
    "    path_subs_bs_voice_session = 'subs_bs_voice_session_train.csv'\n",
    "    path_subs_features = 'subs_features_train.csv'\n",
    "    path_subs_csi = 'subs_csi_train.csv'\n",
    "    path_new_features = 'features.csv'\n",
    "else:\n",
    "    pathfiles = path_test\n",
    "    path_subs_bs_consumption = 'subs_bs_consumption_test.csv'\n",
    "    path_subs_bs_data_session = 'subs_bs_data_session_test.csv'\n",
    "    path_subs_bs_voice_session = 'subs_bs_voice_session_test.csv'\n",
    "    path_subs_features = 'subs_features_test.csv'\n",
    "    path_subs_csi = 'subs_csi_test.csv'\n",
    "    path_new_features = 'features.csv'"
   ]
  },
  {
   "cell_type": "code",
   "execution_count": null,
   "metadata": {
    "collapsed": true
   },
   "outputs": [],
   "source": []
  },
  {
   "cell_type": "code",
   "execution_count": null,
   "metadata": {
    "collapsed": true
   },
   "outputs": [],
   "source": []
  },
  {
   "cell_type": "code",
   "execution_count": 280,
   "metadata": {
    "collapsed": true
   },
   "outputs": [],
   "source": [
    "subs_csi = pd.read_csv(pathfiles + path_subs_csi, sep=';', decimal=',')"
   ]
  },
  {
   "cell_type": "code",
   "execution_count": 281,
   "metadata": {},
   "outputs": [
    {
     "data": {
      "text/html": [
       "<div>\n",
       "<style scoped>\n",
       "    .dataframe tbody tr th:only-of-type {\n",
       "        vertical-align: middle;\n",
       "    }\n",
       "\n",
       "    .dataframe tbody tr th {\n",
       "        vertical-align: top;\n",
       "    }\n",
       "\n",
       "    .dataframe thead th {\n",
       "        text-align: right;\n",
       "    }\n",
       "</style>\n",
       "<table border=\"1\" class=\"dataframe\">\n",
       "  <thead>\n",
       "    <tr style=\"text-align: right;\">\n",
       "      <th></th>\n",
       "      <th>SK_ID</th>\n",
       "      <th>CSI</th>\n",
       "      <th>CONTACT_DATE</th>\n",
       "    </tr>\n",
       "  </thead>\n",
       "  <tbody>\n",
       "    <tr>\n",
       "      <th>0</th>\n",
       "      <td>2</td>\n",
       "      <td>0</td>\n",
       "      <td>04.05</td>\n",
       "    </tr>\n",
       "  </tbody>\n",
       "</table>\n",
       "</div>"
      ],
      "text/plain": [
       "   SK_ID  CSI CONTACT_DATE\n",
       "0      2    0        04.05"
      ]
     },
     "execution_count": 281,
     "metadata": {},
     "output_type": "execute_result"
    }
   ],
   "source": [
    "subs_csi.head(1)"
   ]
  },
  {
   "cell_type": "code",
   "execution_count": 282,
   "metadata": {},
   "outputs": [
    {
     "data": {
      "text/plain": [
       "(4222, 3)"
      ]
     },
     "execution_count": 282,
     "metadata": {},
     "output_type": "execute_result"
    }
   ],
   "source": [
    "subs_csi.shape"
   ]
  },
  {
   "cell_type": "code",
   "execution_count": null,
   "metadata": {
    "collapsed": true
   },
   "outputs": [],
   "source": []
  },
  {
   "cell_type": "code",
   "execution_count": 74,
   "metadata": {
    "collapsed": true
   },
   "outputs": [],
   "source": [
    "cells_2g = set(pd.read_csv(path + '2g.csv')['cell_id'].unique())\n",
    "cells_3g = set(pd.read_csv(path + '3g.csv')['cell_id'].unique())\n",
    "cells_4g = set(pd.read_csv(path + '4g.csv')['cell_id'].unique())"
   ]
  },
  {
   "cell_type": "code",
   "execution_count": null,
   "metadata": {
    "collapsed": true
   },
   "outputs": [],
   "source": []
  },
  {
   "cell_type": "code",
   "execution_count": 10,
   "metadata": {
    "collapsed": true
   },
   "outputs": [],
   "source": [
    "# 2G"
   ]
  },
  {
   "cell_type": "code",
   "execution_count": 21,
   "metadata": {},
   "outputs": [],
   "source": [
    "columns_2g = ['CELL_AVAILABILITY_2G', 'CSSR_2G', 'PSSR_2G', 'TBF_DROP_RATE_2G', 'TCH_DROP_RATE_2G']"
   ]
  },
  {
   "cell_type": "code",
   "execution_count": 15,
   "metadata": {
    "collapsed": true
   },
   "outputs": [],
   "source": [
    "bs_avg_kpi_2g = pd.read_csv(path + 'bs_avg_kpi_2g.csv')"
   ]
  },
  {
   "cell_type": "code",
   "execution_count": 27,
   "metadata": {},
   "outputs": [
    {
     "data": {
      "text/html": [
       "<div>\n",
       "<style scoped>\n",
       "    .dataframe tbody tr th:only-of-type {\n",
       "        vertical-align: middle;\n",
       "    }\n",
       "\n",
       "    .dataframe tbody tr th {\n",
       "        vertical-align: top;\n",
       "    }\n",
       "\n",
       "    .dataframe thead th {\n",
       "        text-align: right;\n",
       "    }\n",
       "</style>\n",
       "<table border=\"1\" class=\"dataframe\">\n",
       "  <thead>\n",
       "    <tr style=\"text-align: right;\">\n",
       "      <th></th>\n",
       "      <th>T_DATE</th>\n",
       "      <th>CELL_LAC_ID</th>\n",
       "      <th>CELL_AVAILABILITY_2G</th>\n",
       "      <th>CSSR_2G</th>\n",
       "      <th>PSSR_2G</th>\n",
       "      <th>TBF_DROP_RATE_2G</th>\n",
       "      <th>TCH_DROP_RATE_2G</th>\n",
       "    </tr>\n",
       "  </thead>\n",
       "  <tbody>\n",
       "    <tr>\n",
       "      <th>0</th>\n",
       "      <td>1.01</td>\n",
       "      <td>275453</td>\n",
       "      <td>1.0</td>\n",
       "      <td>0.932420</td>\n",
       "      <td>NaN</td>\n",
       "      <td>0.000055</td>\n",
       "      <td>0.000377</td>\n",
       "    </tr>\n",
       "    <tr>\n",
       "      <th>1</th>\n",
       "      <td>17.05</td>\n",
       "      <td>275453</td>\n",
       "      <td>1.0</td>\n",
       "      <td>0.931243</td>\n",
       "      <td>NaN</td>\n",
       "      <td>0.000020</td>\n",
       "      <td>0.000206</td>\n",
       "    </tr>\n",
       "    <tr>\n",
       "      <th>2</th>\n",
       "      <td>31.01</td>\n",
       "      <td>275453</td>\n",
       "      <td>1.0</td>\n",
       "      <td>0.931607</td>\n",
       "      <td>NaN</td>\n",
       "      <td>0.000018</td>\n",
       "      <td>0.000173</td>\n",
       "    </tr>\n",
       "    <tr>\n",
       "      <th>3</th>\n",
       "      <td>29.01</td>\n",
       "      <td>275453</td>\n",
       "      <td>1.0</td>\n",
       "      <td>0.930856</td>\n",
       "      <td>NaN</td>\n",
       "      <td>0.000020</td>\n",
       "      <td>0.000228</td>\n",
       "    </tr>\n",
       "    <tr>\n",
       "      <th>4</th>\n",
       "      <td>2.01</td>\n",
       "      <td>275453</td>\n",
       "      <td>1.0</td>\n",
       "      <td>0.925372</td>\n",
       "      <td>NaN</td>\n",
       "      <td>0.000053</td>\n",
       "      <td>0.000297</td>\n",
       "    </tr>\n",
       "  </tbody>\n",
       "</table>\n",
       "</div>"
      ],
      "text/plain": [
       "   T_DATE  CELL_LAC_ID  CELL_AVAILABILITY_2G   CSSR_2G  PSSR_2G  \\\n",
       "0    1.01       275453                   1.0  0.932420      NaN   \n",
       "1   17.05       275453                   1.0  0.931243      NaN   \n",
       "2   31.01       275453                   1.0  0.931607      NaN   \n",
       "3   29.01       275453                   1.0  0.930856      NaN   \n",
       "4    2.01       275453                   1.0  0.925372      NaN   \n",
       "\n",
       "   TBF_DROP_RATE_2G  TCH_DROP_RATE_2G  \n",
       "0          0.000055          0.000377  \n",
       "1          0.000020          0.000206  \n",
       "2          0.000018          0.000173  \n",
       "3          0.000020          0.000228  \n",
       "4          0.000053          0.000297  "
      ]
     },
     "execution_count": 27,
     "metadata": {},
     "output_type": "execute_result"
    }
   ],
   "source": [
    "bs_avg_kpi_2g.head(1)"
   ]
  },
  {
   "cell_type": "code",
   "execution_count": null,
   "metadata": {
    "collapsed": true
   },
   "outputs": [],
   "source": [
    "for c in columns_2g:\n",
    "    bs_avg_kpi_2g[c].fillna(bs_avg_kpi_2g[c].median(), inplace=True)"
   ]
  },
  {
   "cell_type": "code",
   "execution_count": 71,
   "metadata": {},
   "outputs": [],
   "source": []
  },
  {
   "cell_type": "code",
   "execution_count": null,
   "metadata": {},
   "outputs": [],
   "source": []
  },
  {
   "cell_type": "code",
   "execution_count": null,
   "metadata": {
    "collapsed": true
   },
   "outputs": [],
   "source": []
  },
  {
   "cell_type": "code",
   "execution_count": 11,
   "metadata": {
    "collapsed": true
   },
   "outputs": [],
   "source": [
    "# 3G"
   ]
  },
  {
   "cell_type": "code",
   "execution_count": 22,
   "metadata": {
    "collapsed": true
   },
   "outputs": [],
   "source": [
    "columns_3g = ['CELL_AVAILABILITY_3G', 'CSSR_3G', 'HSPDSCH_CODE_UTIL_3G', 'NODEB_CNBAP_LOAD_HARDWARE', 'PROC_LOAD_3G',\n",
    "             'PSSR_3G', 'RAB_CS_BLOCKING_RATE_3G', 'RAB_CS_DROP_RATE_3G', 'RAB_PS_BLOCKING_RATE_3G', 'RAB_PS_DROP_RATE_3G',\n",
    "             'RRC_BLOCKING_RATE_3G', 'RTWP_3G', 'SHO_FACTOR', 'TOTAL_DL_VOLUME_3G', 'UTIL_BRD_CPU_3G', 'UTIL_CE_DL_3G',\n",
    "             'UTIL_CE_HW_DL_3G', 'UTIL_CE_UL_3G', 'UTIL_SUBUNITS_3G', 'TOTAL_UL_VOLUME_3G']"
   ]
  },
  {
   "cell_type": "code",
   "execution_count": null,
   "metadata": {
    "collapsed": true
   },
   "outputs": [],
   "source": []
  },
  {
   "cell_type": "code",
   "execution_count": null,
   "metadata": {
    "collapsed": true
   },
   "outputs": [],
   "source": []
  },
  {
   "cell_type": "code",
   "execution_count": null,
   "metadata": {
    "collapsed": true
   },
   "outputs": [],
   "source": []
  },
  {
   "cell_type": "code",
   "execution_count": null,
   "metadata": {
    "collapsed": true
   },
   "outputs": [],
   "source": [
    "# 4G"
   ]
  },
  {
   "cell_type": "code",
   "execution_count": 23,
   "metadata": {
    "collapsed": true
   },
   "outputs": [],
   "source": [
    "columns_4g = ['CELL_AVAILABILITY_4G', 'DL_VOLUME_LTE', 'ERAB_PS_BLOCKING_RATE_LTE', 'ERAB_PS_BLOCKING_RATE_PLMN_LTE',\n",
    "             'ERAB_PS_DROP_RATE_LTE', 'PART_CQI_QPSK_LTE', 'PART_MCS_QPSK_LTE', 'PSSR_LTE', 'RBU_AVAIL_DL', 'UL_VOLUME_LTE',\n",
    "             'RBU_AVAIL_DL_LTE', 'RBU_AVAIL_UL', 'RBU_OTHER_DL', 'RBU_OTHER_UL', 'RBU_OWN_DL', 'RBU_OWN_UL', 'RRC_BLOCKING_RATE_LTE']"
   ]
  },
  {
   "cell_type": "code",
   "execution_count": null,
   "metadata": {
    "collapsed": true
   },
   "outputs": [],
   "source": []
  },
  {
   "cell_type": "code",
   "execution_count": null,
   "metadata": {
    "collapsed": true
   },
   "outputs": [],
   "source": []
  },
  {
   "cell_type": "code",
   "execution_count": null,
   "metadata": {
    "collapsed": true
   },
   "outputs": [],
   "source": []
  },
  {
   "cell_type": "code",
   "execution_count": null,
   "metadata": {
    "collapsed": true
   },
   "outputs": [],
   "source": []
  },
  {
   "cell_type": "code",
   "execution_count": null,
   "metadata": {
    "collapsed": true
   },
   "outputs": [],
   "source": []
  },
  {
   "cell_type": "code",
   "execution_count": 14,
   "metadata": {
    "collapsed": true
   },
   "outputs": [],
   "source": [
    "data_columns = ['CELL_AVAILABILITY_2G', 'CELL_AVAILABILITY_3G', 'CELL_AVAILABILITY_4G', 'ERAB_PS_BLOCKING_RATE_LTE',\n",
    "                'ERAB_PS_BLOCKING_RATE_PLMN_LTE', 'ERAB_PS_DROP_RATE_LTE', 'HSPDSCH_CODE_UTIL_3G', 'NODEB_CNBAP_LOAD_HARDWARE',\n",
    "                'PART_CQI_QPSK_LTE', 'PART_MCS_QPSK_LTE', 'PROC_LOAD_3G', 'PSSR_2G', 'PSSR_3G', 'PSSR_LTE', \n",
    "                'RAB_PS_BLOCKING_RATE_3G', 'RAB_PS_DROP_RATE_3G', 'RBU_AVAIL_DL_LTE', 'RBU_AVAIL_DL', 'RBU_AVAIL_UL', 'RBU_OTHER_DL',\n",
    "                'RBU_OTHER_UL', 'RBU_OWN_DL', 'RBU_OWN_UL', 'RRC_BLOCKING_RATE_3G', 'RRC_BLOCKING_RATE_LTE', 'RTWP_3G',\n",
    "                'SHO_FACTOR', 'TBF_DROP_RATE_2G', 'UTIL_BRD_CPU_3G', 'UTIL_CE_DL_3G', 'UTIL_CE_HW_DL_3G', 'UTIL_CE_UL_3G',\n",
    "                'UTIL_SUBUNITS_3G', 'UL_VOLUME_LTE', 'DL_VOLUME_LTE', 'TOTAL_DL_VOLUME_3G', 'TOTAL_UL_VOLUME_3G', 'AVEUSERNUMBER',\n",
    "                'AVEUSERNUMBER_PLMN', 'AVR_DL_HSPA_USER_3G', 'AVR_DL_R99_USER_3G', 'AVR_DL_USER_3G', 'AVR_DL_USER_LTE',\n",
    "                'AVR_TX_POWER_3G', 'AVR_UL_HSPA_USER', 'AVR_UL_R99_USER', 'AVR_UL_USER_3G', 'AVR_UL_USER_LTE',\n",
    "                'DL_AVR_THROUGHPUT_3G', 'DL_AVR_THROUGHPUT_LTE', 'DL_AVR_THROUGHPUT_R99', 'DL_MEAN_USER_THROUGHPUT_LTE',\n",
    "                'DL_MEAN_USER_THROUGHPUT_DL_2G', 'DL_MEAN_USER_THROUGHPUT_HSPA3G', 'DL_MEAN_USER_THROUGHPUT_PLTE',\n",
    "                'DL_MEAN_USER_THROUGHPUT_REL93G', 'HSDPA_USERS_3G', 'HSUPA_USERS_3G', 'RBU_USED_DL', 'RBU_USED_UL',\n",
    "                'RELATIVE_RBU_USED_DL', 'RELATIVE_RBU_USED_UL', 'RELATIVE_TX_POWER_3G', 'UL_AVR_THROUGHPUT_3G',\n",
    "                'UL_AVR_THROUGHPUT_LTE', 'UL_AVR_THROUGHPUT_R99', 'UL_MEAN_USER_THROUGHPUT_LTE', 'UL_MEAN_USER_THROUGHPUT_HS3G',\n",
    "                'UL_MEAN_USER_THROUGHPUT_PLTE', 'UL_MEAN_USER_THROUGHPUT_REL93G'\n",
    "               ]"
   ]
  },
  {
   "cell_type": "code",
   "execution_count": null,
   "metadata": {
    "collapsed": true
   },
   "outputs": [],
   "source": []
  },
  {
   "cell_type": "code",
   "execution_count": null,
   "metadata": {
    "collapsed": true
   },
   "outputs": [],
   "source": []
  },
  {
   "cell_type": "code",
   "execution_count": null,
   "metadata": {
    "collapsed": true
   },
   "outputs": [],
   "source": []
  },
  {
   "cell_type": "code",
   "execution_count": 26,
   "metadata": {},
   "outputs": [
    {
     "data": {
      "text/plain": [
       "['TBF_DROP_RATE_2G', 'PSSR_2G', 'CELL_AVAILABILITY_2G']"
      ]
     },
     "execution_count": 26,
     "metadata": {},
     "output_type": "execute_result"
    }
   ],
   "source": [
    "target_columns_2g = list(set(columns_2g).intersection(set(data_columns)))\n",
    "target_columns_2g"
   ]
  },
  {
   "cell_type": "code",
   "execution_count": null,
   "metadata": {
    "collapsed": true
   },
   "outputs": [],
   "source": []
  },
  {
   "cell_type": "code",
   "execution_count": null,
   "metadata": {
    "collapsed": true
   },
   "outputs": [],
   "source": []
  },
  {
   "cell_type": "code",
   "execution_count": null,
   "metadata": {
    "collapsed": true
   },
   "outputs": [],
   "source": []
  },
  {
   "cell_type": "code",
   "execution_count": 283,
   "metadata": {
    "collapsed": true
   },
   "outputs": [],
   "source": [
    "subs_bs_data_session = pd.read_csv(pathfiles + path_subs_bs_data_session, sep=';', decimal=',')"
   ]
  },
  {
   "cell_type": "code",
   "execution_count": 284,
   "metadata": {},
   "outputs": [
    {
     "data": {
      "text/html": [
       "<div>\n",
       "<style scoped>\n",
       "    .dataframe tbody tr th:only-of-type {\n",
       "        vertical-align: middle;\n",
       "    }\n",
       "\n",
       "    .dataframe tbody tr th {\n",
       "        vertical-align: top;\n",
       "    }\n",
       "\n",
       "    .dataframe thead th {\n",
       "        text-align: right;\n",
       "    }\n",
       "</style>\n",
       "<table border=\"1\" class=\"dataframe\">\n",
       "  <thead>\n",
       "    <tr style=\"text-align: right;\">\n",
       "      <th></th>\n",
       "      <th>SK_ID</th>\n",
       "      <th>CELL_LAC_ID</th>\n",
       "      <th>DATA_VOL_MB</th>\n",
       "      <th>START_TIME</th>\n",
       "    </tr>\n",
       "  </thead>\n",
       "  <tbody>\n",
       "    <tr>\n",
       "      <th>0</th>\n",
       "      <td>3853</td>\n",
       "      <td>61951</td>\n",
       "      <td>0.000004</td>\n",
       "      <td>04.04 05:00:00</td>\n",
       "    </tr>\n",
       "  </tbody>\n",
       "</table>\n",
       "</div>"
      ],
      "text/plain": [
       "   SK_ID  CELL_LAC_ID  DATA_VOL_MB      START_TIME\n",
       "0   3853        61951     0.000004  04.04 05:00:00"
      ]
     },
     "execution_count": 284,
     "metadata": {},
     "output_type": "execute_result"
    }
   ],
   "source": [
    "subs_bs_data_session.head(1)"
   ]
  },
  {
   "cell_type": "code",
   "execution_count": 285,
   "metadata": {},
   "outputs": [],
   "source": [
    "subs_bs_data_session['day'] = subs_bs_data_session['START_TIME'].apply(lambda x:datetime.strptime(x, '%d.%m %H:%M:%S').date())"
   ]
  },
  {
   "cell_type": "code",
   "execution_count": 286,
   "metadata": {},
   "outputs": [],
   "source": [
    "user_data_session = defaultdict()\n",
    "for i in subs_bs_data_session.values:\n",
    "    sk_id = i[0]\n",
    "    dt = i[4]\n",
    "    cell_id = i[1]\n",
    "    key = (sk_id, dt)\n",
    "    user_data_session.setdefault(key, defaultdict()).setdefault(cell_id, 0)\n",
    "    user_data_session[key][cell_id] += i[2]"
   ]
  },
  {
   "cell_type": "code",
   "execution_count": null,
   "metadata": {},
   "outputs": [],
   "source": []
  },
  {
   "cell_type": "code",
   "execution_count": 318,
   "metadata": {
    "collapsed": true
   },
   "outputs": [],
   "source": [
    "def get_cells_data(cell_dict, list_sk_id, dates, count_days=7):\n",
    "    table = []\n",
    "    for i in zip(list_sk_id, dates):\n",
    "        sk_id = i[0]\n",
    "        sd = i[1]\n",
    "        row = []\n",
    "        table_columns = []\n",
    "        for j in range(count_days):\n",
    "            cd = sd - timedelta(j)\n",
    "            cells_g = [0, 0, 0, 0, 0, 0]\n",
    "            if (sk_id, cd) not in cell_dict:\n",
    "                row.extend(cells_g)\n",
    "                continue\n",
    "            item = cell_dict[(sk_id, cd)]\n",
    "            for key in item:\n",
    "                cell = (key, item[key])\n",
    "                if cell[0] in cells_2g:\n",
    "                    cells_g[0] += cell[1]\n",
    "                    cells_g[3] += 1\n",
    "                if cell[0] in cells_3g:\n",
    "                    cells_g[1] += cell[1]\n",
    "                    cells_g[4] += 1\n",
    "                if cell[0] in cells_4g:\n",
    "                    cells_g[2] += cell[1]\n",
    "                    cells_g[5] += 1\n",
    "            row.extend(cells_g)\n",
    "        table.append(row)\n",
    "    return table"
   ]
  },
  {
   "cell_type": "code",
   "execution_count": null,
   "metadata": {},
   "outputs": [],
   "source": []
  },
  {
   "cell_type": "code",
   "execution_count": null,
   "metadata": {
    "collapsed": true
   },
   "outputs": [],
   "source": []
  },
  {
   "cell_type": "code",
   "execution_count": 288,
   "metadata": {
    "collapsed": true
   },
   "outputs": [],
   "source": [
    "subs_bs_voice_session = pd.read_csv(pathfiles + path_subs_bs_voice_session, sep=';', decimal=',')"
   ]
  },
  {
   "cell_type": "code",
   "execution_count": 289,
   "metadata": {
    "collapsed": true
   },
   "outputs": [],
   "source": [
    "subs_bs_voice_session['day'] = subs_bs_voice_session['START_TIME'].apply(lambda x:datetime.strptime(x, '%d.%m %H:%M:%S').date())"
   ]
  },
  {
   "cell_type": "code",
   "execution_count": 290,
   "metadata": {},
   "outputs": [
    {
     "data": {
      "text/html": [
       "<div>\n",
       "<style scoped>\n",
       "    .dataframe tbody tr th:only-of-type {\n",
       "        vertical-align: middle;\n",
       "    }\n",
       "\n",
       "    .dataframe tbody tr th {\n",
       "        vertical-align: top;\n",
       "    }\n",
       "\n",
       "    .dataframe thead th {\n",
       "        text-align: right;\n",
       "    }\n",
       "</style>\n",
       "<table border=\"1\" class=\"dataframe\">\n",
       "  <thead>\n",
       "    <tr style=\"text-align: right;\">\n",
       "      <th></th>\n",
       "      <th>SK_ID</th>\n",
       "      <th>CELL_LAC_ID</th>\n",
       "      <th>VOICE_DUR_MIN</th>\n",
       "      <th>START_TIME</th>\n",
       "      <th>day</th>\n",
       "    </tr>\n",
       "  </thead>\n",
       "  <tbody>\n",
       "    <tr>\n",
       "      <th>0</th>\n",
       "      <td>373</td>\n",
       "      <td>269094</td>\n",
       "      <td>0.001597</td>\n",
       "      <td>27.04 23:00:00</td>\n",
       "      <td>1900-04-27</td>\n",
       "    </tr>\n",
       "  </tbody>\n",
       "</table>\n",
       "</div>"
      ],
      "text/plain": [
       "   SK_ID  CELL_LAC_ID  VOICE_DUR_MIN      START_TIME         day\n",
       "0    373       269094       0.001597  27.04 23:00:00  1900-04-27"
      ]
     },
     "execution_count": 290,
     "metadata": {},
     "output_type": "execute_result"
    }
   ],
   "source": [
    "subs_bs_voice_session.head(1)"
   ]
  },
  {
   "cell_type": "code",
   "execution_count": 291,
   "metadata": {
    "collapsed": true
   },
   "outputs": [],
   "source": [
    "user_voice_session = defaultdict()\n",
    "for i in subs_bs_voice_session.values:\n",
    "    sk_id = i[0]\n",
    "    dt = i[4]\n",
    "    cell_id = i[1]\n",
    "    key = (sk_id, dt)\n",
    "    user_voice_session.setdefault(key, defaultdict()).setdefault(cell_id, 0)\n",
    "    user_voice_session[key][cell_id] += i[2]"
   ]
  },
  {
   "cell_type": "code",
   "execution_count": null,
   "metadata": {
    "collapsed": true
   },
   "outputs": [],
   "source": []
  },
  {
   "cell_type": "code",
   "execution_count": null,
   "metadata": {
    "collapsed": true
   },
   "outputs": [],
   "source": []
  },
  {
   "cell_type": "code",
   "execution_count": null,
   "metadata": {
    "collapsed": true
   },
   "outputs": [],
   "source": []
  },
  {
   "cell_type": "code",
   "execution_count": 292,
   "metadata": {
    "collapsed": true
   },
   "outputs": [],
   "source": [
    "subs_features = pd.read_csv(pathfiles + path_subs_features, sep=';', decimal=',')"
   ]
  },
  {
   "cell_type": "code",
   "execution_count": 293,
   "metadata": {},
   "outputs": [
    {
     "data": {
      "text/html": [
       "<div>\n",
       "<style scoped>\n",
       "    .dataframe tbody tr th:only-of-type {\n",
       "        vertical-align: middle;\n",
       "    }\n",
       "\n",
       "    .dataframe tbody tr th {\n",
       "        vertical-align: top;\n",
       "    }\n",
       "\n",
       "    .dataframe thead th {\n",
       "        text-align: right;\n",
       "    }\n",
       "</style>\n",
       "<table border=\"1\" class=\"dataframe\">\n",
       "  <thead>\n",
       "    <tr style=\"text-align: right;\">\n",
       "      <th></th>\n",
       "      <th>SNAP_DATE</th>\n",
       "      <th>COM_CAT#1</th>\n",
       "      <th>SK_ID</th>\n",
       "      <th>COM_CAT#2</th>\n",
       "      <th>COM_CAT#3</th>\n",
       "      <th>BASE_TYPE</th>\n",
       "      <th>ACT</th>\n",
       "      <th>ARPU_GROUP</th>\n",
       "      <th>COM_CAT#7</th>\n",
       "      <th>COM_CAT#8</th>\n",
       "      <th>...</th>\n",
       "      <th>COM_CAT#25</th>\n",
       "      <th>COM_CAT#26</th>\n",
       "      <th>COM_CAT#27</th>\n",
       "      <th>COM_CAT#28</th>\n",
       "      <th>COM_CAT#29</th>\n",
       "      <th>COM_CAT#30</th>\n",
       "      <th>COM_CAT#31</th>\n",
       "      <th>COM_CAT#32</th>\n",
       "      <th>COM_CAT#33</th>\n",
       "      <th>COM_CAT#34</th>\n",
       "    </tr>\n",
       "  </thead>\n",
       "  <tbody>\n",
       "    <tr>\n",
       "      <th>0</th>\n",
       "      <td>01.08.01</td>\n",
       "      <td>4</td>\n",
       "      <td>3339</td>\n",
       "      <td>80</td>\n",
       "      <td>5</td>\n",
       "      <td>2</td>\n",
       "      <td>1</td>\n",
       "      <td>12.0</td>\n",
       "      <td>1</td>\n",
       "      <td>1489.0</td>\n",
       "      <td>...</td>\n",
       "      <td>1</td>\n",
       "      <td>1</td>\n",
       "      <td>0.031696</td>\n",
       "      <td>0.076724</td>\n",
       "      <td>0.040279</td>\n",
       "      <td>0.0133</td>\n",
       "      <td>0.083382</td>\n",
       "      <td>0.027579</td>\n",
       "      <td>0.103896</td>\n",
       "      <td>2.0</td>\n",
       "    </tr>\n",
       "  </tbody>\n",
       "</table>\n",
       "<p>1 rows × 36 columns</p>\n",
       "</div>"
      ],
      "text/plain": [
       "  SNAP_DATE  COM_CAT#1  SK_ID  COM_CAT#2  COM_CAT#3  BASE_TYPE  ACT  \\\n",
       "0  01.08.01          4   3339         80          5          2    1   \n",
       "\n",
       "   ARPU_GROUP  COM_CAT#7  COM_CAT#8     ...      COM_CAT#25  COM_CAT#26  \\\n",
       "0        12.0          1     1489.0     ...               1           1   \n",
       "\n",
       "   COM_CAT#27  COM_CAT#28  COM_CAT#29  COM_CAT#30  COM_CAT#31  COM_CAT#32  \\\n",
       "0    0.031696    0.076724    0.040279      0.0133    0.083382    0.027579   \n",
       "\n",
       "   COM_CAT#33  COM_CAT#34  \n",
       "0    0.103896         2.0  \n",
       "\n",
       "[1 rows x 36 columns]"
      ]
     },
     "execution_count": 293,
     "metadata": {},
     "output_type": "execute_result"
    }
   ],
   "source": [
    "subs_features.head(1)"
   ]
  },
  {
   "cell_type": "code",
   "execution_count": 294,
   "metadata": {},
   "outputs": [
    {
     "data": {
      "text/html": [
       "<div>\n",
       "<style scoped>\n",
       "    .dataframe tbody tr th:only-of-type {\n",
       "        vertical-align: middle;\n",
       "    }\n",
       "\n",
       "    .dataframe tbody tr th {\n",
       "        vertical-align: top;\n",
       "    }\n",
       "\n",
       "    .dataframe thead th {\n",
       "        text-align: right;\n",
       "    }\n",
       "</style>\n",
       "<table border=\"1\" class=\"dataframe\">\n",
       "  <thead>\n",
       "    <tr style=\"text-align: right;\">\n",
       "      <th></th>\n",
       "      <th>COM_CAT#1</th>\n",
       "      <th>SK_ID</th>\n",
       "      <th>COM_CAT#2</th>\n",
       "      <th>COM_CAT#3</th>\n",
       "      <th>BASE_TYPE</th>\n",
       "      <th>ACT</th>\n",
       "      <th>ARPU_GROUP</th>\n",
       "      <th>COM_CAT#7</th>\n",
       "      <th>COM_CAT#8</th>\n",
       "      <th>DEVICE_TYPE_ID</th>\n",
       "      <th>...</th>\n",
       "      <th>COM_CAT#25</th>\n",
       "      <th>COM_CAT#26</th>\n",
       "      <th>COM_CAT#27</th>\n",
       "      <th>COM_CAT#28</th>\n",
       "      <th>COM_CAT#29</th>\n",
       "      <th>COM_CAT#30</th>\n",
       "      <th>COM_CAT#31</th>\n",
       "      <th>COM_CAT#32</th>\n",
       "      <th>COM_CAT#33</th>\n",
       "      <th>COM_CAT#34</th>\n",
       "    </tr>\n",
       "  </thead>\n",
       "  <tbody>\n",
       "    <tr>\n",
       "      <th>count</th>\n",
       "      <td>47411.000000</td>\n",
       "      <td>47411.000000</td>\n",
       "      <td>47411.000000</td>\n",
       "      <td>47411.000000</td>\n",
       "      <td>47411.000000</td>\n",
       "      <td>47411.000000</td>\n",
       "      <td>47390.000000</td>\n",
       "      <td>47411.000000</td>\n",
       "      <td>47287.000000</td>\n",
       "      <td>47300.000000</td>\n",
       "      <td>...</td>\n",
       "      <td>47411.000000</td>\n",
       "      <td>47411.000000</td>\n",
       "      <td>47411.000000</td>\n",
       "      <td>47411.000000</td>\n",
       "      <td>47411.000000</td>\n",
       "      <td>47411.000000</td>\n",
       "      <td>47411.000000</td>\n",
       "      <td>47411.000000</td>\n",
       "      <td>47411.000000</td>\n",
       "      <td>45808.000000</td>\n",
       "    </tr>\n",
       "    <tr>\n",
       "      <th>mean</th>\n",
       "      <td>4.538019</td>\n",
       "      <td>2346.231107</td>\n",
       "      <td>41.213642</td>\n",
       "      <td>5.267280</td>\n",
       "      <td>1.938706</td>\n",
       "      <td>0.990909</td>\n",
       "      <td>7.672800</td>\n",
       "      <td>2.378119</td>\n",
       "      <td>866.040793</td>\n",
       "      <td>4.619831</td>\n",
       "      <td>...</td>\n",
       "      <td>0.999852</td>\n",
       "      <td>0.988420</td>\n",
       "      <td>0.017048</td>\n",
       "      <td>0.018507</td>\n",
       "      <td>0.004788</td>\n",
       "      <td>0.005083</td>\n",
       "      <td>0.046062</td>\n",
       "      <td>0.028243</td>\n",
       "      <td>0.104881</td>\n",
       "      <td>5.536587</td>\n",
       "    </tr>\n",
       "    <tr>\n",
       "      <th>std</th>\n",
       "      <td>2.175724</td>\n",
       "      <td>1365.543733</td>\n",
       "      <td>22.381202</td>\n",
       "      <td>2.757143</td>\n",
       "      <td>0.239871</td>\n",
       "      <td>0.094912</td>\n",
       "      <td>3.179402</td>\n",
       "      <td>1.587738</td>\n",
       "      <td>516.196163</td>\n",
       "      <td>0.883446</td>\n",
       "      <td>...</td>\n",
       "      <td>0.012150</td>\n",
       "      <td>0.106985</td>\n",
       "      <td>0.025277</td>\n",
       "      <td>0.031138</td>\n",
       "      <td>0.017611</td>\n",
       "      <td>0.021956</td>\n",
       "      <td>0.051001</td>\n",
       "      <td>0.009148</td>\n",
       "      <td>0.007879</td>\n",
       "      <td>3.554345</td>\n",
       "    </tr>\n",
       "    <tr>\n",
       "      <th>min</th>\n",
       "      <td>1.000000</td>\n",
       "      <td>2.000000</td>\n",
       "      <td>1.000000</td>\n",
       "      <td>1.000000</td>\n",
       "      <td>1.000000</td>\n",
       "      <td>0.000000</td>\n",
       "      <td>1.000000</td>\n",
       "      <td>1.000000</td>\n",
       "      <td>2.000000</td>\n",
       "      <td>1.000000</td>\n",
       "      <td>...</td>\n",
       "      <td>0.000000</td>\n",
       "      <td>0.000000</td>\n",
       "      <td>0.000000</td>\n",
       "      <td>0.000000</td>\n",
       "      <td>0.000000</td>\n",
       "      <td>0.000000</td>\n",
       "      <td>0.000000</td>\n",
       "      <td>0.000000</td>\n",
       "      <td>0.000000</td>\n",
       "      <td>1.000000</td>\n",
       "    </tr>\n",
       "    <tr>\n",
       "      <th>25%</th>\n",
       "      <td>3.000000</td>\n",
       "      <td>1160.000000</td>\n",
       "      <td>25.000000</td>\n",
       "      <td>5.000000</td>\n",
       "      <td>2.000000</td>\n",
       "      <td>1.000000</td>\n",
       "      <td>5.000000</td>\n",
       "      <td>1.000000</td>\n",
       "      <td>388.000000</td>\n",
       "      <td>5.000000</td>\n",
       "      <td>...</td>\n",
       "      <td>1.000000</td>\n",
       "      <td>1.000000</td>\n",
       "      <td>0.002169</td>\n",
       "      <td>0.001073</td>\n",
       "      <td>0.000000</td>\n",
       "      <td>0.000000</td>\n",
       "      <td>0.011571</td>\n",
       "      <td>0.027579</td>\n",
       "      <td>0.103896</td>\n",
       "      <td>2.000000</td>\n",
       "    </tr>\n",
       "    <tr>\n",
       "      <th>50%</th>\n",
       "      <td>4.000000</td>\n",
       "      <td>2345.000000</td>\n",
       "      <td>38.000000</td>\n",
       "      <td>5.000000</td>\n",
       "      <td>2.000000</td>\n",
       "      <td>1.000000</td>\n",
       "      <td>8.000000</td>\n",
       "      <td>2.000000</td>\n",
       "      <td>924.000000</td>\n",
       "      <td>5.000000</td>\n",
       "      <td>...</td>\n",
       "      <td>1.000000</td>\n",
       "      <td>1.000000</td>\n",
       "      <td>0.008714</td>\n",
       "      <td>0.007226</td>\n",
       "      <td>0.000120</td>\n",
       "      <td>0.000000</td>\n",
       "      <td>0.031394</td>\n",
       "      <td>0.027579</td>\n",
       "      <td>0.103896</td>\n",
       "      <td>4.000000</td>\n",
       "    </tr>\n",
       "    <tr>\n",
       "      <th>75%</th>\n",
       "      <td>6.000000</td>\n",
       "      <td>3543.000000</td>\n",
       "      <td>60.000000</td>\n",
       "      <td>5.000000</td>\n",
       "      <td>2.000000</td>\n",
       "      <td>1.000000</td>\n",
       "      <td>10.000000</td>\n",
       "      <td>3.000000</td>\n",
       "      <td>1318.000000</td>\n",
       "      <td>5.000000</td>\n",
       "      <td>...</td>\n",
       "      <td>1.000000</td>\n",
       "      <td>1.000000</td>\n",
       "      <td>0.022257</td>\n",
       "      <td>0.022745</td>\n",
       "      <td>0.003028</td>\n",
       "      <td>0.000383</td>\n",
       "      <td>0.063415</td>\n",
       "      <td>0.027579</td>\n",
       "      <td>0.103896</td>\n",
       "      <td>9.000000</td>\n",
       "    </tr>\n",
       "    <tr>\n",
       "      <th>max</th>\n",
       "      <td>8.000000</td>\n",
       "      <td>4702.000000</td>\n",
       "      <td>83.000000</td>\n",
       "      <td>17.000000</td>\n",
       "      <td>2.000000</td>\n",
       "      <td>1.000000</td>\n",
       "      <td>12.000000</td>\n",
       "      <td>9.000000</td>\n",
       "      <td>1702.000000</td>\n",
       "      <td>8.000000</td>\n",
       "      <td>...</td>\n",
       "      <td>1.000000</td>\n",
       "      <td>1.000000</td>\n",
       "      <td>1.000000</td>\n",
       "      <td>0.645294</td>\n",
       "      <td>1.000000</td>\n",
       "      <td>1.000000</td>\n",
       "      <td>1.000000</td>\n",
       "      <td>0.560674</td>\n",
       "      <td>0.377696</td>\n",
       "      <td>10.000000</td>\n",
       "    </tr>\n",
       "  </tbody>\n",
       "</table>\n",
       "<p>8 rows × 34 columns</p>\n",
       "</div>"
      ],
      "text/plain": [
       "          COM_CAT#1         SK_ID     COM_CAT#2     COM_CAT#3     BASE_TYPE  \\\n",
       "count  47411.000000  47411.000000  47411.000000  47411.000000  47411.000000   \n",
       "mean       4.538019   2346.231107     41.213642      5.267280      1.938706   \n",
       "std        2.175724   1365.543733     22.381202      2.757143      0.239871   \n",
       "min        1.000000      2.000000      1.000000      1.000000      1.000000   \n",
       "25%        3.000000   1160.000000     25.000000      5.000000      2.000000   \n",
       "50%        4.000000   2345.000000     38.000000      5.000000      2.000000   \n",
       "75%        6.000000   3543.000000     60.000000      5.000000      2.000000   \n",
       "max        8.000000   4702.000000     83.000000     17.000000      2.000000   \n",
       "\n",
       "                ACT    ARPU_GROUP     COM_CAT#7     COM_CAT#8  DEVICE_TYPE_ID  \\\n",
       "count  47411.000000  47390.000000  47411.000000  47287.000000    47300.000000   \n",
       "mean       0.990909      7.672800      2.378119    866.040793        4.619831   \n",
       "std        0.094912      3.179402      1.587738    516.196163        0.883446   \n",
       "min        0.000000      1.000000      1.000000      2.000000        1.000000   \n",
       "25%        1.000000      5.000000      1.000000    388.000000        5.000000   \n",
       "50%        1.000000      8.000000      2.000000    924.000000        5.000000   \n",
       "75%        1.000000     10.000000      3.000000   1318.000000        5.000000   \n",
       "max        1.000000     12.000000      9.000000   1702.000000        8.000000   \n",
       "\n",
       "           ...         COM_CAT#25    COM_CAT#26    COM_CAT#27    COM_CAT#28  \\\n",
       "count      ...       47411.000000  47411.000000  47411.000000  47411.000000   \n",
       "mean       ...           0.999852      0.988420      0.017048      0.018507   \n",
       "std        ...           0.012150      0.106985      0.025277      0.031138   \n",
       "min        ...           0.000000      0.000000      0.000000      0.000000   \n",
       "25%        ...           1.000000      1.000000      0.002169      0.001073   \n",
       "50%        ...           1.000000      1.000000      0.008714      0.007226   \n",
       "75%        ...           1.000000      1.000000      0.022257      0.022745   \n",
       "max        ...           1.000000      1.000000      1.000000      0.645294   \n",
       "\n",
       "         COM_CAT#29    COM_CAT#30    COM_CAT#31    COM_CAT#32    COM_CAT#33  \\\n",
       "count  47411.000000  47411.000000  47411.000000  47411.000000  47411.000000   \n",
       "mean       0.004788      0.005083      0.046062      0.028243      0.104881   \n",
       "std        0.017611      0.021956      0.051001      0.009148      0.007879   \n",
       "min        0.000000      0.000000      0.000000      0.000000      0.000000   \n",
       "25%        0.000000      0.000000      0.011571      0.027579      0.103896   \n",
       "50%        0.000120      0.000000      0.031394      0.027579      0.103896   \n",
       "75%        0.003028      0.000383      0.063415      0.027579      0.103896   \n",
       "max        1.000000      1.000000      1.000000      0.560674      0.377696   \n",
       "\n",
       "         COM_CAT#34  \n",
       "count  45808.000000  \n",
       "mean       5.536587  \n",
       "std        3.554345  \n",
       "min        1.000000  \n",
       "25%        2.000000  \n",
       "50%        4.000000  \n",
       "75%        9.000000  \n",
       "max       10.000000  \n",
       "\n",
       "[8 rows x 34 columns]"
      ]
     },
     "execution_count": 294,
     "metadata": {},
     "output_type": "execute_result"
    }
   ],
   "source": [
    "subs_features.describe()"
   ]
  },
  {
   "cell_type": "code",
   "execution_count": 295,
   "metadata": {
    "collapsed": true
   },
   "outputs": [],
   "source": [
    "subs_features['SNAP_DATE'] = subs_features['SNAP_DATE'].apply(lambda x:datetime.strptime(x, '%d.%m.%y'))"
   ]
  },
  {
   "cell_type": "code",
   "execution_count": 296,
   "metadata": {},
   "outputs": [
    {
     "data": {
      "text/plain": [
       "31.12    47404\n",
       "23.05        1\n",
       "24.05        1\n",
       "30.05        1\n",
       "27.05        1\n",
       "29.05        1\n",
       "06.05        1\n",
       "28.05        1\n",
       "Name: COM_CAT#24, dtype: int64"
      ]
     },
     "execution_count": 296,
     "metadata": {},
     "output_type": "execute_result"
    }
   ],
   "source": [
    "subs_features['COM_CAT#24'].value_counts()"
   ]
  },
  {
   "cell_type": "code",
   "execution_count": 297,
   "metadata": {
    "collapsed": true
   },
   "outputs": [],
   "source": [
    "subs_features['COM_CAT#24'] = subs_features['COM_CAT#24'].apply(lambda x:int(x == '31.12'))"
   ]
  },
  {
   "cell_type": "code",
   "execution_count": 298,
   "metadata": {
    "collapsed": true
   },
   "outputs": [],
   "source": [
    "subs_features['COM_CAT#34'].fillna(subs_features['COM_CAT#34'].median(), inplace=True)\n",
    "subs_features['COM_CAT#8'].fillna(subs_features['COM_CAT#8'].median(), inplace=True)\n",
    "subs_features['DEVICE_TYPE_ID'].fillna(subs_features['DEVICE_TYPE_ID'].median(), inplace=True)\n",
    "subs_features['ARPU_GROUP'].fillna(subs_features['ARPU_GROUP'].median(), inplace=True)\n",
    "subs_features['INTERNET_TYPE_ID'].fillna(subs_features['INTERNET_TYPE_ID'].median(), inplace=True)"
   ]
  },
  {
   "cell_type": "code",
   "execution_count": null,
   "metadata": {},
   "outputs": [],
   "source": []
  },
  {
   "cell_type": "code",
   "execution_count": 299,
   "metadata": {
    "collapsed": true
   },
   "outputs": [],
   "source": [
    "subs_features['month'] = subs_features['SNAP_DATE'].apply(lambda x:x.month)\n",
    "subs_features['year'] = subs_features['SNAP_DATE'].apply(lambda x:x.year)"
   ]
  },
  {
   "cell_type": "code",
   "execution_count": null,
   "metadata": {
    "collapsed": true
   },
   "outputs": [],
   "source": []
  },
  {
   "cell_type": "code",
   "execution_count": 300,
   "metadata": {
    "collapsed": true
   },
   "outputs": [],
   "source": [
    "def get_subs_features(year, month, fix_month, day, sk_id):\n",
    "    data = subs_features[(subs_features['year'] == year) & (subs_features['month'] == month) & (subs_features['SK_ID'] == sk_id)]\n",
    "    columns = ['COM_CAT#1', 'COM_CAT#2', 'COM_CAT#3', 'BASE_TYPE', 'ACT', 'ARPU_GROUP', 'COM_CAT#7', 'COM_CAT#8',\n",
    "              'DEVICE_TYPE_ID', 'INTERNET_TYPE_ID', 'REVENUE', 'ITC', 'VAS', 'RENT_CHANNEL', 'ROAM',\n",
    "              'COST']\n",
    "    for i in range(18):\n",
    "        columns.append('COM_CAT#{}'.format(i+17))\n",
    "    if data.shape[0] == 1:\n",
    "        return columns, data[columns].values[0].tolist()\n",
    "    else:\n",
    "        return columns, np.zeros(len(columns))"
   ]
  },
  {
   "cell_type": "code",
   "execution_count": null,
   "metadata": {},
   "outputs": [],
   "source": []
  },
  {
   "cell_type": "code",
   "execution_count": 301,
   "metadata": {},
   "outputs": [],
   "source": [
    "# for dnn\n",
    "table = []\n",
    "if TRAIN:\n",
    "    y = np.zeros(subs_csi.shape[0])\n",
    "for i in enumerate(subs_csi.values):\n",
    "    sk_id = int(i[1][0])\n",
    "    line = [sk_id]\n",
    "    table_columns = ['sk_id']\n",
    "    if TRAIN:\n",
    "        dt = str(i[1][2]).split('.')\n",
    "    else:\n",
    "        dt = str(i[1][1]).split('.')\n",
    "    year = 2002\n",
    "    month = int(dt[1])\n",
    "    for j in range(12):\n",
    "        new_line = get_subs_features(year, month, int(dt[1]), int(dt[0]), sk_id)\n",
    "        line.extend(new_line[1])\n",
    "        table_columns.extend(new_line[0])\n",
    "        month -= 1\n",
    "        if month == 0:\n",
    "            month = 12\n",
    "            year -= 1\n",
    "    table.append(line)\n",
    "    if TRAIN:\n",
    "        y[i[0]] = i[1][1]"
   ]
  },
  {
   "cell_type": "code",
   "execution_count": null,
   "metadata": {
    "collapsed": true
   },
   "outputs": [],
   "source": []
  },
  {
   "cell_type": "code",
   "execution_count": 302,
   "metadata": {
    "collapsed": true
   },
   "outputs": [],
   "source": [
    "data = pd.DataFrame(data=table, columns=table_columns)"
   ]
  },
  {
   "cell_type": "code",
   "execution_count": 303,
   "metadata": {},
   "outputs": [],
   "source": [
    "data.drop(['sk_id'], axis=1, inplace=True)"
   ]
  },
  {
   "cell_type": "code",
   "execution_count": 304,
   "metadata": {},
   "outputs": [
    {
     "data": {
      "text/html": [
       "<div>\n",
       "<style scoped>\n",
       "    .dataframe tbody tr th:only-of-type {\n",
       "        vertical-align: middle;\n",
       "    }\n",
       "\n",
       "    .dataframe tbody tr th {\n",
       "        vertical-align: top;\n",
       "    }\n",
       "\n",
       "    .dataframe thead th {\n",
       "        text-align: right;\n",
       "    }\n",
       "</style>\n",
       "<table border=\"1\" class=\"dataframe\">\n",
       "  <thead>\n",
       "    <tr style=\"text-align: right;\">\n",
       "      <th></th>\n",
       "      <th>COM_CAT#1</th>\n",
       "      <th>COM_CAT#2</th>\n",
       "      <th>COM_CAT#3</th>\n",
       "      <th>BASE_TYPE</th>\n",
       "      <th>ACT</th>\n",
       "      <th>ARPU_GROUP</th>\n",
       "      <th>COM_CAT#7</th>\n",
       "      <th>COM_CAT#8</th>\n",
       "      <th>DEVICE_TYPE_ID</th>\n",
       "      <th>INTERNET_TYPE_ID</th>\n",
       "      <th>...</th>\n",
       "      <th>COM_CAT#25</th>\n",
       "      <th>COM_CAT#26</th>\n",
       "      <th>COM_CAT#27</th>\n",
       "      <th>COM_CAT#28</th>\n",
       "      <th>COM_CAT#29</th>\n",
       "      <th>COM_CAT#30</th>\n",
       "      <th>COM_CAT#31</th>\n",
       "      <th>COM_CAT#32</th>\n",
       "      <th>COM_CAT#33</th>\n",
       "      <th>COM_CAT#34</th>\n",
       "    </tr>\n",
       "  </thead>\n",
       "  <tbody>\n",
       "    <tr>\n",
       "      <th>0</th>\n",
       "      <td>7.0</td>\n",
       "      <td>77.0</td>\n",
       "      <td>12.0</td>\n",
       "      <td>1.0</td>\n",
       "      <td>1.0</td>\n",
       "      <td>9.0</td>\n",
       "      <td>2.0</td>\n",
       "      <td>1318.0</td>\n",
       "      <td>5.0</td>\n",
       "      <td>2.0</td>\n",
       "      <td>...</td>\n",
       "      <td>0.0</td>\n",
       "      <td>0.0</td>\n",
       "      <td>0.0</td>\n",
       "      <td>0.0</td>\n",
       "      <td>0.0</td>\n",
       "      <td>0.0</td>\n",
       "      <td>0.0</td>\n",
       "      <td>0.0</td>\n",
       "      <td>0.0</td>\n",
       "      <td>0.0</td>\n",
       "    </tr>\n",
       "  </tbody>\n",
       "</table>\n",
       "<p>1 rows × 408 columns</p>\n",
       "</div>"
      ],
      "text/plain": [
       "   COM_CAT#1  COM_CAT#2  COM_CAT#3  BASE_TYPE  ACT  ARPU_GROUP  COM_CAT#7  \\\n",
       "0        7.0       77.0       12.0        1.0  1.0         9.0        2.0   \n",
       "\n",
       "   COM_CAT#8  DEVICE_TYPE_ID  INTERNET_TYPE_ID     ...      COM_CAT#25  \\\n",
       "0     1318.0             5.0               2.0     ...             0.0   \n",
       "\n",
       "   COM_CAT#26  COM_CAT#27  COM_CAT#28  COM_CAT#29  COM_CAT#30  COM_CAT#31  \\\n",
       "0         0.0         0.0         0.0         0.0         0.0         0.0   \n",
       "\n",
       "   COM_CAT#32  COM_CAT#33  COM_CAT#34  \n",
       "0         0.0         0.0         0.0  \n",
       "\n",
       "[1 rows x 408 columns]"
      ]
     },
     "execution_count": 304,
     "metadata": {},
     "output_type": "execute_result"
    }
   ],
   "source": [
    "data.head(1)"
   ]
  },
  {
   "cell_type": "code",
   "execution_count": null,
   "metadata": {
    "collapsed": true
   },
   "outputs": [],
   "source": []
  },
  {
   "cell_type": "code",
   "execution_count": 305,
   "metadata": {
    "collapsed": true
   },
   "outputs": [],
   "source": [
    "count_days = 30"
   ]
  },
  {
   "cell_type": "code",
   "execution_count": 315,
   "metadata": {},
   "outputs": [
    {
     "name": "stdout",
     "output_type": "stream",
     "text": [
      "[datetime.date(1900, 5, 4), datetime.date(1900, 5, 21), datetime.date(1900, 5, 27), datetime.date(1900, 5, 8), datetime.date(1900, 5, 6), datetime.date(1900, 5, 3), datetime.date(1900, 5, 30), datetime.date(1900, 5, 29), datetime.date(1900, 5, 26), datetime.date(1900, 5, 2), datetime.date(1900, 5, 26), datetime.date(1900, 5, 30), datetime.date(1900, 5, 2), datetime.date(1900, 5, 9), datetime.date(1900, 5, 17), datetime.date(1900, 5, 12), datetime.date(1900, 5, 21), datetime.date(1900, 5, 15), datetime.date(1900, 5, 17), datetime.date(1900, 5, 29), datetime.date(1900, 5, 20), datetime.date(1900, 5, 30), datetime.date(1900, 5, 1), datetime.date(1900, 5, 10), datetime.date(1900, 5, 25), datetime.date(1900, 5, 23), datetime.date(1900, 5, 31), datetime.date(1900, 5, 2), datetime.date(1900, 5, 8), datetime.date(1900, 5, 25), datetime.date(1900, 5, 21), datetime.date(1900, 5, 28), datetime.date(1900, 5, 18), datetime.date(1900, 5, 5), datetime.date(1900, 5, 12), datetime.date(1900, 5, 26), datetime.date(1900, 5, 6), datetime.date(1900, 5, 10), datetime.date(1900, 5, 24), datetime.date(1900, 5, 27), datetime.date(1900, 5, 12), datetime.date(1900, 5, 4), datetime.date(1900, 5, 9), datetime.date(1900, 5, 19), datetime.date(1900, 5, 6), datetime.date(1900, 5, 9), datetime.date(1900, 5, 6), datetime.date(1900, 5, 25), datetime.date(1900, 5, 20), datetime.date(1900, 5, 25), datetime.date(1900, 5, 12), datetime.date(1900, 5, 31), datetime.date(1900, 5, 7), datetime.date(1900, 5, 9), datetime.date(1900, 5, 18), datetime.date(1900, 5, 28), datetime.date(1900, 5, 27), datetime.date(1900, 5, 2), datetime.date(1900, 5, 4), datetime.date(1900, 5, 10), datetime.date(1900, 5, 23), datetime.date(1900, 5, 30), datetime.date(1900, 5, 14), datetime.date(1900, 5, 8), datetime.date(1900, 5, 10), datetime.date(1900, 5, 11), datetime.date(1900, 5, 4), datetime.date(1900, 5, 1), datetime.date(1900, 5, 18), datetime.date(1900, 5, 13), datetime.date(1900, 5, 29), datetime.date(1900, 5, 29), datetime.date(1900, 5, 25), datetime.date(1900, 5, 29), datetime.date(1900, 5, 17), datetime.date(1900, 5, 4), datetime.date(1900, 5, 7), datetime.date(1900, 5, 31), datetime.date(1900, 5, 28), datetime.date(1900, 5, 27), datetime.date(1900, 5, 27), datetime.date(1900, 5, 14), datetime.date(1900, 5, 26), datetime.date(1900, 5, 6), datetime.date(1900, 5, 18), datetime.date(1900, 5, 5), datetime.date(1900, 5, 22), datetime.date(1900, 5, 22), datetime.date(1900, 5, 28), datetime.date(1900, 5, 10), datetime.date(1900, 5, 14), datetime.date(1900, 5, 1), datetime.date(1900, 5, 19), datetime.date(1900, 5, 29), datetime.date(1900, 5, 20), datetime.date(1900, 5, 7), datetime.date(1900, 5, 1), datetime.date(1900, 5, 30), datetime.date(1900, 5, 22), datetime.date(1900, 5, 11), datetime.date(1900, 5, 22), datetime.date(1900, 5, 22), datetime.date(1900, 5, 26), datetime.date(1900, 5, 5), datetime.date(1900, 5, 17), datetime.date(1900, 5, 2), datetime.date(1900, 5, 1), datetime.date(1900, 5, 4), datetime.date(1900, 5, 11), datetime.date(1900, 5, 3), datetime.date(1900, 5, 8), datetime.date(1900, 5, 6), datetime.date(1900, 5, 29), datetime.date(1900, 5, 9), datetime.date(1900, 5, 4), datetime.date(1900, 5, 8), datetime.date(1900, 5, 14), datetime.date(1900, 5, 8), datetime.date(1900, 5, 18), datetime.date(1900, 5, 8), datetime.date(1900, 5, 3), datetime.date(1900, 5, 5), datetime.date(1900, 5, 16), datetime.date(1900, 5, 5), datetime.date(1900, 5, 29), datetime.date(1900, 5, 10), datetime.date(1900, 5, 13), datetime.date(1900, 5, 14), datetime.date(1900, 5, 27), datetime.date(1900, 5, 2), datetime.date(1900, 5, 8), datetime.date(1900, 5, 19), datetime.date(1900, 5, 10), datetime.date(1900, 5, 23), datetime.date(1900, 5, 8), datetime.date(1900, 5, 7), datetime.date(1900, 5, 13), datetime.date(1900, 5, 9), datetime.date(1900, 5, 4), datetime.date(1900, 5, 10), datetime.date(1900, 5, 20), datetime.date(1900, 5, 17), datetime.date(1900, 5, 15), datetime.date(1900, 5, 30), datetime.date(1900, 5, 25), datetime.date(1900, 5, 9), datetime.date(1900, 5, 3), datetime.date(1900, 5, 18), datetime.date(1900, 5, 8), datetime.date(1900, 5, 25), datetime.date(1900, 5, 3), datetime.date(1900, 5, 5), datetime.date(1900, 5, 1), datetime.date(1900, 5, 2), datetime.date(1900, 5, 16), datetime.date(1900, 5, 25), datetime.date(1900, 5, 1), datetime.date(1900, 5, 25), datetime.date(1900, 5, 11), datetime.date(1900, 5, 1), datetime.date(1900, 5, 8), datetime.date(1900, 5, 26), datetime.date(1900, 5, 22), datetime.date(1900, 5, 17), datetime.date(1900, 5, 12), datetime.date(1900, 5, 26), datetime.date(1900, 5, 22), datetime.date(1900, 5, 12), datetime.date(1900, 5, 16), datetime.date(1900, 5, 27), datetime.date(1900, 5, 21), datetime.date(1900, 5, 11), datetime.date(1900, 5, 2), datetime.date(1900, 5, 4), datetime.date(1900, 5, 25), datetime.date(1900, 5, 21), datetime.date(1900, 5, 26), datetime.date(1900, 5, 24), datetime.date(1900, 5, 4), datetime.date(1900, 5, 6), datetime.date(1900, 5, 3), datetime.date(1900, 5, 24), datetime.date(1900, 5, 11), datetime.date(1900, 5, 1), datetime.date(1900, 5, 20), datetime.date(1900, 5, 12), datetime.date(1900, 5, 13), datetime.date(1900, 5, 30), datetime.date(1900, 5, 15), datetime.date(1900, 5, 2), datetime.date(1900, 5, 21), datetime.date(1900, 5, 21), datetime.date(1900, 5, 12), datetime.date(1900, 5, 11), datetime.date(1900, 5, 12), datetime.date(1900, 5, 26), datetime.date(1900, 5, 13), datetime.date(1900, 5, 28), datetime.date(1900, 5, 9), datetime.date(1900, 5, 22), datetime.date(1900, 5, 10), datetime.date(1900, 5, 17), datetime.date(1900, 5, 13), datetime.date(1900, 5, 11), datetime.date(1900, 5, 10), datetime.date(1900, 5, 16), datetime.date(1900, 5, 29), datetime.date(1900, 5, 31), datetime.date(1900, 5, 23), datetime.date(1900, 5, 13), datetime.date(1900, 5, 31), datetime.date(1900, 5, 2), datetime.date(1900, 5, 7), datetime.date(1900, 5, 12), datetime.date(1900, 5, 13), datetime.date(1900, 5, 24), datetime.date(1900, 5, 9), datetime.date(1900, 5, 7), datetime.date(1900, 5, 29), datetime.date(1900, 5, 12), datetime.date(1900, 5, 11), datetime.date(1900, 5, 17), datetime.date(1900, 5, 31), datetime.date(1900, 5, 20), datetime.date(1900, 5, 7), datetime.date(1900, 5, 12), datetime.date(1900, 5, 14), datetime.date(1900, 5, 3), datetime.date(1900, 5, 7), datetime.date(1900, 5, 12), datetime.date(1900, 5, 5), datetime.date(1900, 5, 17), datetime.date(1900, 5, 11), datetime.date(1900, 5, 14), datetime.date(1900, 5, 1), datetime.date(1900, 5, 23), datetime.date(1900, 5, 14), datetime.date(1900, 5, 19), datetime.date(1900, 5, 29), datetime.date(1900, 5, 1), datetime.date(1900, 5, 18), datetime.date(1900, 5, 29), datetime.date(1900, 5, 21), datetime.date(1900, 5, 16), datetime.date(1900, 5, 1), datetime.date(1900, 5, 22), datetime.date(1900, 5, 13), datetime.date(1900, 5, 4), datetime.date(1900, 5, 25), datetime.date(1900, 5, 17), datetime.date(1900, 5, 27), datetime.date(1900, 5, 27), datetime.date(1900, 5, 5), datetime.date(1900, 5, 20), datetime.date(1900, 5, 24), datetime.date(1900, 5, 14), datetime.date(1900, 5, 1), datetime.date(1900, 5, 11), datetime.date(1900, 5, 8), datetime.date(1900, 5, 22), datetime.date(1900, 5, 22), datetime.date(1900, 5, 11), datetime.date(1900, 5, 28), datetime.date(1900, 5, 24), datetime.date(1900, 5, 2), datetime.date(1900, 5, 3), datetime.date(1900, 5, 1), datetime.date(1900, 5, 29), datetime.date(1900, 5, 28), datetime.date(1900, 5, 1), datetime.date(1900, 5, 4), datetime.date(1900, 5, 12), datetime.date(1900, 5, 12), datetime.date(1900, 5, 28), datetime.date(1900, 5, 28), datetime.date(1900, 5, 14), datetime.date(1900, 5, 2), datetime.date(1900, 5, 12), datetime.date(1900, 5, 11), datetime.date(1900, 5, 5), datetime.date(1900, 5, 22), datetime.date(1900, 5, 19), datetime.date(1900, 5, 24), datetime.date(1900, 5, 21), datetime.date(1900, 5, 14), datetime.date(1900, 5, 27), datetime.date(1900, 5, 30), datetime.date(1900, 5, 4), datetime.date(1900, 5, 16), datetime.date(1900, 5, 30), datetime.date(1900, 5, 7), datetime.date(1900, 5, 23), datetime.date(1900, 5, 10), datetime.date(1900, 5, 30), datetime.date(1900, 5, 19), datetime.date(1900, 5, 2), datetime.date(1900, 5, 27), datetime.date(1900, 5, 11), datetime.date(1900, 5, 28), datetime.date(1900, 5, 7), datetime.date(1900, 5, 4), datetime.date(1900, 5, 10), datetime.date(1900, 5, 29), datetime.date(1900, 5, 9), datetime.date(1900, 5, 14), datetime.date(1900, 5, 25), datetime.date(1900, 5, 2), datetime.date(1900, 5, 14), datetime.date(1900, 5, 13), datetime.date(1900, 5, 1), datetime.date(1900, 5, 19), datetime.date(1900, 5, 18), datetime.date(1900, 5, 16), datetime.date(1900, 5, 30), datetime.date(1900, 5, 13), datetime.date(1900, 5, 18), datetime.date(1900, 5, 17), datetime.date(1900, 5, 10), datetime.date(1900, 5, 8), datetime.date(1900, 5, 9), datetime.date(1900, 5, 30), datetime.date(1900, 5, 2), datetime.date(1900, 5, 21), datetime.date(1900, 5, 11), datetime.date(1900, 5, 12), datetime.date(1900, 5, 11), datetime.date(1900, 5, 22), datetime.date(1900, 5, 1), datetime.date(1900, 5, 15), datetime.date(1900, 5, 2), datetime.date(1900, 5, 21), datetime.date(1900, 5, 15), datetime.date(1900, 5, 8), datetime.date(1900, 5, 21), datetime.date(1900, 5, 24), datetime.date(1900, 5, 11), datetime.date(1900, 5, 1), datetime.date(1900, 5, 6), datetime.date(1900, 5, 20), datetime.date(1900, 5, 3), datetime.date(1900, 5, 12), datetime.date(1900, 5, 25), datetime.date(1900, 5, 14), datetime.date(1900, 5, 8), datetime.date(1900, 5, 6), datetime.date(1900, 5, 25), datetime.date(1900, 5, 19), datetime.date(1900, 5, 18), datetime.date(1900, 5, 30), datetime.date(1900, 5, 11), datetime.date(1900, 5, 2), datetime.date(1900, 5, 30), datetime.date(1900, 5, 4), datetime.date(1900, 5, 9), datetime.date(1900, 5, 9), datetime.date(1900, 5, 12), datetime.date(1900, 5, 10), datetime.date(1900, 5, 1), datetime.date(1900, 5, 16), datetime.date(1900, 5, 28), datetime.date(1900, 5, 12), datetime.date(1900, 5, 28), datetime.date(1900, 5, 4), datetime.date(1900, 5, 12), datetime.date(1900, 5, 12), datetime.date(1900, 5, 12), datetime.date(1900, 5, 21), datetime.date(1900, 5, 14), datetime.date(1900, 5, 1), datetime.date(1900, 5, 30), datetime.date(1900, 5, 29), datetime.date(1900, 5, 14), datetime.date(1900, 5, 18), datetime.date(1900, 5, 20), datetime.date(1900, 5, 21), datetime.date(1900, 5, 16), datetime.date(1900, 5, 6), datetime.date(1900, 5, 1), datetime.date(1900, 5, 2), datetime.date(1900, 5, 17), datetime.date(1900, 5, 11), datetime.date(1900, 5, 9), datetime.date(1900, 5, 12), datetime.date(1900, 5, 28), datetime.date(1900, 5, 12), datetime.date(1900, 5, 11), datetime.date(1900, 5, 13), datetime.date(1900, 5, 13), datetime.date(1900, 5, 18), datetime.date(1900, 5, 11), datetime.date(1900, 5, 19), datetime.date(1900, 5, 11), datetime.date(1900, 5, 13), datetime.date(1900, 5, 7), datetime.date(1900, 5, 6), datetime.date(1900, 5, 16), datetime.date(1900, 5, 20), datetime.date(1900, 5, 25), datetime.date(1900, 5, 26), datetime.date(1900, 5, 6), datetime.date(1900, 5, 13), datetime.date(1900, 5, 14), datetime.date(1900, 5, 30), datetime.date(1900, 5, 7), datetime.date(1900, 5, 17), datetime.date(1900, 5, 17), datetime.date(1900, 5, 13), datetime.date(1900, 5, 20), datetime.date(1900, 5, 7), datetime.date(1900, 5, 19), datetime.date(1900, 5, 3), datetime.date(1900, 5, 31), datetime.date(1900, 5, 12), datetime.date(1900, 5, 27), datetime.date(1900, 5, 8), datetime.date(1900, 5, 19), datetime.date(1900, 5, 21), datetime.date(1900, 5, 16), datetime.date(1900, 5, 4), datetime.date(1900, 5, 11), datetime.date(1900, 5, 7), datetime.date(1900, 5, 16), datetime.date(1900, 5, 30), datetime.date(1900, 5, 16), datetime.date(1900, 5, 26), datetime.date(1900, 5, 20), datetime.date(1900, 5, 3), datetime.date(1900, 5, 8), datetime.date(1900, 5, 14), datetime.date(1900, 5, 30), datetime.date(1900, 5, 19), datetime.date(1900, 5, 2), datetime.date(1900, 5, 24), datetime.date(1900, 5, 3), datetime.date(1900, 5, 8), datetime.date(1900, 5, 8), datetime.date(1900, 5, 18), datetime.date(1900, 5, 9), datetime.date(1900, 5, 10), datetime.date(1900, 5, 13), datetime.date(1900, 5, 29), datetime.date(1900, 5, 2), datetime.date(1900, 5, 8), datetime.date(1900, 5, 19), datetime.date(1900, 5, 2), datetime.date(1900, 5, 13), datetime.date(1900, 5, 30), datetime.date(1900, 5, 19), datetime.date(1900, 5, 17), datetime.date(1900, 5, 18), datetime.date(1900, 5, 12), datetime.date(1900, 5, 3), datetime.date(1900, 5, 12), datetime.date(1900, 5, 24), datetime.date(1900, 5, 9), datetime.date(1900, 5, 22), datetime.date(1900, 5, 17), datetime.date(1900, 5, 27), datetime.date(1900, 5, 13), datetime.date(1900, 5, 4), datetime.date(1900, 5, 7), datetime.date(1900, 5, 17), datetime.date(1900, 5, 9), datetime.date(1900, 5, 8), datetime.date(1900, 5, 16), datetime.date(1900, 5, 13), datetime.date(1900, 5, 3), datetime.date(1900, 5, 11), datetime.date(1900, 5, 11), datetime.date(1900, 5, 12), datetime.date(1900, 5, 3), datetime.date(1900, 5, 17), datetime.date(1900, 5, 25), datetime.date(1900, 5, 30), datetime.date(1900, 5, 8), datetime.date(1900, 5, 13), datetime.date(1900, 5, 18), datetime.date(1900, 5, 1), datetime.date(1900, 5, 8), datetime.date(1900, 5, 28), datetime.date(1900, 5, 24), datetime.date(1900, 5, 20), datetime.date(1900, 5, 3), datetime.date(1900, 5, 14), datetime.date(1900, 5, 18), datetime.date(1900, 5, 17), datetime.date(1900, 5, 14), datetime.date(1900, 5, 1), datetime.date(1900, 5, 28), datetime.date(1900, 5, 20), datetime.date(1900, 5, 1), datetime.date(1900, 5, 9), datetime.date(1900, 5, 21), datetime.date(1900, 5, 11), datetime.date(1900, 5, 24), datetime.date(1900, 5, 16), datetime.date(1900, 5, 27), datetime.date(1900, 5, 28), datetime.date(1900, 5, 25), datetime.date(1900, 5, 26), datetime.date(1900, 5, 25), datetime.date(1900, 5, 2), datetime.date(1900, 5, 2), datetime.date(1900, 5, 29), datetime.date(1900, 5, 24), datetime.date(1900, 5, 12), datetime.date(1900, 5, 17), datetime.date(1900, 5, 28), datetime.date(1900, 5, 16), datetime.date(1900, 5, 27), datetime.date(1900, 5, 13), datetime.date(1900, 5, 13), datetime.date(1900, 5, 24), datetime.date(1900, 5, 1), datetime.date(1900, 5, 7), datetime.date(1900, 5, 2), datetime.date(1900, 5, 11), datetime.date(1900, 5, 6), datetime.date(1900, 5, 12), datetime.date(1900, 5, 12), datetime.date(1900, 5, 22), datetime.date(1900, 5, 6), datetime.date(1900, 5, 20), datetime.date(1900, 5, 4), datetime.date(1900, 5, 30), datetime.date(1900, 5, 21), datetime.date(1900, 5, 21), datetime.date(1900, 5, 5), datetime.date(1900, 5, 2), datetime.date(1900, 5, 26), datetime.date(1900, 5, 9), datetime.date(1900, 5, 24), datetime.date(1900, 5, 24), datetime.date(1900, 5, 5), datetime.date(1900, 5, 4), datetime.date(1900, 5, 8), datetime.date(1900, 5, 21), datetime.date(1900, 5, 12), datetime.date(1900, 5, 8), datetime.date(1900, 5, 30), datetime.date(1900, 5, 8), datetime.date(1900, 5, 1), datetime.date(1900, 5, 6), datetime.date(1900, 5, 17), datetime.date(1900, 5, 9), datetime.date(1900, 5, 24), datetime.date(1900, 5, 4), datetime.date(1900, 5, 17), datetime.date(1900, 5, 4), datetime.date(1900, 5, 14), datetime.date(1900, 5, 7), datetime.date(1900, 5, 20), datetime.date(1900, 5, 8), datetime.date(1900, 5, 27), datetime.date(1900, 5, 26), datetime.date(1900, 5, 31), datetime.date(1900, 5, 25), datetime.date(1900, 5, 14), datetime.date(1900, 5, 26), datetime.date(1900, 5, 5), datetime.date(1900, 5, 10), datetime.date(1900, 5, 31), datetime.date(1900, 5, 9), datetime.date(1900, 5, 3), datetime.date(1900, 5, 8), datetime.date(1900, 5, 12), datetime.date(1900, 5, 29), datetime.date(1900, 5, 24), datetime.date(1900, 5, 13), datetime.date(1900, 5, 13), datetime.date(1900, 5, 9), datetime.date(1900, 5, 8), datetime.date(1900, 5, 3), datetime.date(1900, 5, 29), datetime.date(1900, 5, 9), datetime.date(1900, 5, 8), datetime.date(1900, 5, 14), datetime.date(1900, 5, 1), datetime.date(1900, 5, 29), datetime.date(1900, 5, 25), datetime.date(1900, 5, 19), datetime.date(1900, 5, 30), datetime.date(1900, 5, 21), datetime.date(1900, 5, 11), datetime.date(1900, 5, 5), datetime.date(1900, 5, 25), datetime.date(1900, 5, 13), datetime.date(1900, 5, 3), datetime.date(1900, 5, 17), datetime.date(1900, 5, 6), datetime.date(1900, 5, 19), datetime.date(1900, 5, 3), datetime.date(1900, 5, 2), datetime.date(1900, 5, 25), datetime.date(1900, 5, 25), datetime.date(1900, 5, 14), datetime.date(1900, 5, 24), datetime.date(1900, 5, 27), datetime.date(1900, 5, 26), datetime.date(1900, 5, 5), datetime.date(1900, 5, 1), datetime.date(1900, 5, 9), datetime.date(1900, 5, 30), datetime.date(1900, 5, 21), datetime.date(1900, 5, 26), datetime.date(1900, 5, 10), datetime.date(1900, 5, 2), datetime.date(1900, 5, 25), datetime.date(1900, 5, 9), datetime.date(1900, 5, 4), datetime.date(1900, 5, 10), datetime.date(1900, 5, 26), datetime.date(1900, 5, 7), datetime.date(1900, 5, 24), datetime.date(1900, 5, 17), datetime.date(1900, 5, 28), datetime.date(1900, 5, 1), datetime.date(1900, 5, 23), datetime.date(1900, 5, 10), datetime.date(1900, 5, 12), datetime.date(1900, 5, 16), datetime.date(1900, 5, 6), datetime.date(1900, 5, 18), datetime.date(1900, 5, 10), datetime.date(1900, 5, 18), datetime.date(1900, 5, 31), datetime.date(1900, 5, 3), datetime.date(1900, 5, 25), datetime.date(1900, 5, 7), datetime.date(1900, 5, 10), datetime.date(1900, 5, 2), datetime.date(1900, 5, 24), datetime.date(1900, 5, 29), datetime.date(1900, 5, 11), datetime.date(1900, 5, 24), datetime.date(1900, 5, 10), datetime.date(1900, 5, 9), datetime.date(1900, 5, 19), datetime.date(1900, 5, 2), datetime.date(1900, 5, 25), datetime.date(1900, 5, 5), datetime.date(1900, 5, 16), datetime.date(1900, 5, 8), datetime.date(1900, 5, 17), datetime.date(1900, 5, 4), datetime.date(1900, 5, 30), datetime.date(1900, 5, 1), datetime.date(1900, 5, 11), datetime.date(1900, 5, 16), datetime.date(1900, 5, 16), datetime.date(1900, 5, 30), datetime.date(1900, 5, 27), datetime.date(1900, 5, 11), datetime.date(1900, 5, 2), datetime.date(1900, 5, 2), datetime.date(1900, 5, 24), datetime.date(1900, 5, 29), datetime.date(1900, 5, 20), datetime.date(1900, 5, 12), datetime.date(1900, 5, 8), datetime.date(1900, 5, 20), datetime.date(1900, 5, 18), datetime.date(1900, 5, 11), datetime.date(1900, 5, 12), datetime.date(1900, 5, 14), datetime.date(1900, 5, 13), datetime.date(1900, 5, 13), datetime.date(1900, 5, 4), datetime.date(1900, 5, 26), datetime.date(1900, 5, 25), datetime.date(1900, 5, 27), datetime.date(1900, 5, 30), datetime.date(1900, 5, 25), datetime.date(1900, 5, 2), datetime.date(1900, 5, 26), datetime.date(1900, 5, 24), datetime.date(1900, 5, 29), datetime.date(1900, 5, 8), datetime.date(1900, 5, 7), datetime.date(1900, 5, 6), datetime.date(1900, 5, 5), datetime.date(1900, 5, 9), datetime.date(1900, 5, 21), datetime.date(1900, 5, 12), datetime.date(1900, 5, 7), datetime.date(1900, 5, 12), datetime.date(1900, 5, 15), datetime.date(1900, 5, 6), datetime.date(1900, 5, 25), datetime.date(1900, 5, 9), datetime.date(1900, 5, 12), datetime.date(1900, 5, 10), datetime.date(1900, 5, 21), datetime.date(1900, 5, 6), datetime.date(1900, 5, 11), datetime.date(1900, 5, 4), datetime.date(1900, 5, 28), datetime.date(1900, 5, 12), datetime.date(1900, 5, 4), datetime.date(1900, 5, 11), datetime.date(1900, 5, 9), datetime.date(1900, 5, 22), datetime.date(1900, 5, 21), datetime.date(1900, 5, 4), datetime.date(1900, 5, 13), datetime.date(1900, 5, 30), datetime.date(1900, 5, 21), datetime.date(1900, 5, 5), datetime.date(1900, 5, 10), datetime.date(1900, 5, 19), datetime.date(1900, 5, 8), datetime.date(1900, 5, 5), datetime.date(1900, 5, 25), datetime.date(1900, 5, 18), datetime.date(1900, 5, 3), datetime.date(1900, 5, 9), datetime.date(1900, 5, 26), datetime.date(1900, 5, 23), datetime.date(1900, 5, 30), datetime.date(1900, 5, 5), datetime.date(1900, 5, 2), datetime.date(1900, 5, 10), datetime.date(1900, 5, 11), datetime.date(1900, 5, 25), datetime.date(1900, 5, 11), datetime.date(1900, 5, 28), datetime.date(1900, 5, 2), datetime.date(1900, 5, 12), datetime.date(1900, 5, 4), datetime.date(1900, 5, 3), datetime.date(1900, 5, 26), datetime.date(1900, 5, 24), datetime.date(1900, 5, 31), datetime.date(1900, 5, 28), datetime.date(1900, 5, 5), datetime.date(1900, 5, 4), datetime.date(1900, 5, 10), datetime.date(1900, 5, 24), datetime.date(1900, 5, 6), datetime.date(1900, 5, 25), datetime.date(1900, 5, 1), datetime.date(1900, 5, 12), datetime.date(1900, 5, 8), datetime.date(1900, 5, 12), datetime.date(1900, 5, 5), datetime.date(1900, 5, 30), datetime.date(1900, 5, 29), datetime.date(1900, 5, 8), datetime.date(1900, 5, 1), datetime.date(1900, 5, 24), datetime.date(1900, 5, 6), datetime.date(1900, 5, 4), datetime.date(1900, 5, 25), datetime.date(1900, 5, 17), datetime.date(1900, 5, 22), datetime.date(1900, 5, 20), datetime.date(1900, 5, 16), datetime.date(1900, 5, 7), datetime.date(1900, 5, 24), datetime.date(1900, 5, 13), datetime.date(1900, 5, 28), datetime.date(1900, 5, 19), datetime.date(1900, 5, 27), datetime.date(1900, 5, 20), datetime.date(1900, 5, 6), datetime.date(1900, 5, 29), datetime.date(1900, 5, 22), datetime.date(1900, 5, 16), datetime.date(1900, 5, 2), datetime.date(1900, 5, 2), datetime.date(1900, 5, 2), datetime.date(1900, 5, 27), datetime.date(1900, 5, 29), datetime.date(1900, 5, 27), datetime.date(1900, 5, 10), datetime.date(1900, 5, 13), datetime.date(1900, 5, 31), datetime.date(1900, 5, 11), datetime.date(1900, 5, 14), datetime.date(1900, 5, 20), datetime.date(1900, 5, 14), datetime.date(1900, 5, 10), datetime.date(1900, 5, 30), datetime.date(1900, 5, 27), datetime.date(1900, 5, 9), datetime.date(1900, 5, 2), datetime.date(1900, 5, 21), datetime.date(1900, 5, 3), datetime.date(1900, 5, 18), datetime.date(1900, 5, 26), datetime.date(1900, 5, 7), datetime.date(1900, 5, 30), datetime.date(1900, 5, 1), datetime.date(1900, 5, 4), datetime.date(1900, 5, 3), datetime.date(1900, 5, 2), datetime.date(1900, 5, 8), datetime.date(1900, 5, 13), datetime.date(1900, 5, 31), datetime.date(1900, 5, 12), datetime.date(1900, 5, 17), datetime.date(1900, 5, 16), datetime.date(1900, 5, 16), datetime.date(1900, 5, 5), datetime.date(1900, 5, 4), datetime.date(1900, 5, 29), datetime.date(1900, 5, 5), datetime.date(1900, 5, 30), datetime.date(1900, 5, 18), datetime.date(1900, 5, 10), datetime.date(1900, 5, 4), datetime.date(1900, 5, 2), datetime.date(1900, 5, 1), datetime.date(1900, 5, 2), datetime.date(1900, 5, 4), datetime.date(1900, 5, 22), datetime.date(1900, 5, 2), datetime.date(1900, 5, 12), datetime.date(1900, 5, 13), datetime.date(1900, 5, 5), datetime.date(1900, 5, 2), datetime.date(1900, 5, 23), datetime.date(1900, 5, 1), datetime.date(1900, 5, 21), datetime.date(1900, 5, 22), datetime.date(1900, 5, 8), datetime.date(1900, 5, 29), datetime.date(1900, 5, 14), datetime.date(1900, 5, 22), datetime.date(1900, 5, 2), datetime.date(1900, 5, 6), datetime.date(1900, 5, 21), datetime.date(1900, 5, 30), datetime.date(1900, 5, 29), datetime.date(1900, 5, 8), datetime.date(1900, 5, 27), datetime.date(1900, 5, 12), datetime.date(1900, 5, 26), datetime.date(1900, 5, 11), datetime.date(1900, 5, 30), datetime.date(1900, 5, 16), datetime.date(1900, 5, 12), datetime.date(1900, 5, 14), datetime.date(1900, 5, 28), datetime.date(1900, 5, 3), datetime.date(1900, 5, 30), datetime.date(1900, 5, 9), datetime.date(1900, 5, 17), datetime.date(1900, 5, 27), datetime.date(1900, 5, 12), datetime.date(1900, 5, 2), datetime.date(1900, 5, 13), datetime.date(1900, 5, 11), datetime.date(1900, 5, 10), datetime.date(1900, 5, 23), datetime.date(1900, 5, 28), datetime.date(1900, 5, 27), datetime.date(1900, 5, 3), datetime.date(1900, 5, 7), datetime.date(1900, 5, 13), datetime.date(1900, 5, 15), datetime.date(1900, 5, 1), datetime.date(1900, 5, 19), datetime.date(1900, 5, 12), datetime.date(1900, 5, 17), datetime.date(1900, 5, 13), datetime.date(1900, 5, 24), datetime.date(1900, 5, 3), datetime.date(1900, 5, 27), datetime.date(1900, 5, 19), datetime.date(1900, 5, 12), datetime.date(1900, 5, 18), datetime.date(1900, 5, 16), datetime.date(1900, 5, 25), datetime.date(1900, 5, 10), datetime.date(1900, 5, 12), datetime.date(1900, 5, 5), datetime.date(1900, 5, 10), datetime.date(1900, 5, 31), datetime.date(1900, 5, 26), datetime.date(1900, 5, 27), datetime.date(1900, 5, 14), datetime.date(1900, 5, 5), datetime.date(1900, 5, 5), datetime.date(1900, 5, 17), datetime.date(1900, 5, 2), datetime.date(1900, 5, 3), datetime.date(1900, 5, 13), datetime.date(1900, 5, 21), datetime.date(1900, 5, 2), datetime.date(1900, 5, 12), datetime.date(1900, 5, 23), datetime.date(1900, 5, 29), datetime.date(1900, 5, 17), datetime.date(1900, 5, 31), datetime.date(1900, 5, 31), datetime.date(1900, 5, 26), datetime.date(1900, 5, 9), datetime.date(1900, 5, 24), datetime.date(1900, 5, 24), datetime.date(1900, 5, 14), datetime.date(1900, 5, 1), datetime.date(1900, 5, 12), datetime.date(1900, 5, 30), datetime.date(1900, 5, 28), datetime.date(1900, 5, 14), datetime.date(1900, 5, 11), datetime.date(1900, 5, 8), datetime.date(1900, 5, 16), datetime.date(1900, 5, 12), datetime.date(1900, 5, 13), datetime.date(1900, 5, 1), datetime.date(1900, 5, 13), datetime.date(1900, 5, 14), datetime.date(1900, 5, 11), datetime.date(1900, 5, 22), datetime.date(1900, 5, 12), datetime.date(1900, 5, 9), datetime.date(1900, 5, 29), datetime.date(1900, 5, 8), datetime.date(1900, 5, 31), datetime.date(1900, 5, 24), datetime.date(1900, 5, 18), datetime.date(1900, 5, 11), datetime.date(1900, 5, 17), datetime.date(1900, 5, 8), datetime.date(1900, 5, 4), datetime.date(1900, 5, 26), datetime.date(1900, 5, 12), datetime.date(1900, 5, 7), datetime.date(1900, 5, 13), datetime.date(1900, 5, 22), datetime.date(1900, 5, 12), datetime.date(1900, 5, 31), datetime.date(1900, 5, 3), datetime.date(1900, 5, 29), datetime.date(1900, 5, 26), datetime.date(1900, 5, 9), datetime.date(1900, 5, 8), datetime.date(1900, 5, 19), datetime.date(1900, 5, 13), datetime.date(1900, 5, 23), datetime.date(1900, 5, 6), datetime.date(1900, 5, 31), datetime.date(1900, 5, 24), datetime.date(1900, 5, 2), datetime.date(1900, 5, 10), datetime.date(1900, 5, 30), datetime.date(1900, 5, 22), datetime.date(1900, 5, 10), datetime.date(1900, 5, 23), datetime.date(1900, 5, 18), datetime.date(1900, 5, 12), datetime.date(1900, 5, 25), datetime.date(1900, 5, 11), datetime.date(1900, 5, 10), datetime.date(1900, 5, 6), datetime.date(1900, 5, 14), datetime.date(1900, 5, 30), datetime.date(1900, 5, 14), datetime.date(1900, 5, 15), datetime.date(1900, 5, 8), datetime.date(1900, 5, 5), datetime.date(1900, 5, 30), datetime.date(1900, 5, 16), datetime.date(1900, 5, 24), datetime.date(1900, 5, 14), datetime.date(1900, 5, 14), datetime.date(1900, 5, 17), datetime.date(1900, 5, 12), datetime.date(1900, 5, 22), datetime.date(1900, 5, 19), datetime.date(1900, 5, 8), datetime.date(1900, 5, 23), datetime.date(1900, 5, 7), datetime.date(1900, 5, 14), datetime.date(1900, 5, 31), datetime.date(1900, 5, 11), datetime.date(1900, 5, 13), datetime.date(1900, 5, 21), datetime.date(1900, 5, 29), datetime.date(1900, 5, 21), datetime.date(1900, 5, 2), datetime.date(1900, 5, 30), datetime.date(1900, 5, 9), datetime.date(1900, 5, 28), datetime.date(1900, 5, 26), datetime.date(1900, 5, 15), datetime.date(1900, 5, 7), datetime.date(1900, 5, 17), datetime.date(1900, 5, 18), datetime.date(1900, 5, 21), datetime.date(1900, 5, 19), datetime.date(1900, 5, 21), datetime.date(1900, 5, 22), datetime.date(1900, 5, 8), datetime.date(1900, 5, 22), datetime.date(1900, 5, 16), datetime.date(1900, 5, 16), datetime.date(1900, 5, 15), datetime.date(1900, 5, 28), datetime.date(1900, 5, 27), datetime.date(1900, 5, 7), datetime.date(1900, 5, 9), datetime.date(1900, 5, 25), datetime.date(1900, 5, 29), datetime.date(1900, 5, 18), datetime.date(1900, 5, 9), datetime.date(1900, 5, 3), datetime.date(1900, 5, 27), datetime.date(1900, 5, 30), datetime.date(1900, 5, 14), datetime.date(1900, 5, 13), datetime.date(1900, 5, 26), datetime.date(1900, 5, 7), datetime.date(1900, 5, 9), datetime.date(1900, 5, 3), datetime.date(1900, 5, 21), datetime.date(1900, 5, 12), datetime.date(1900, 5, 5), datetime.date(1900, 5, 1), datetime.date(1900, 5, 25), datetime.date(1900, 5, 7), datetime.date(1900, 5, 31), datetime.date(1900, 5, 21), datetime.date(1900, 5, 19), datetime.date(1900, 5, 16), datetime.date(1900, 5, 26), datetime.date(1900, 5, 26), datetime.date(1900, 5, 25), datetime.date(1900, 5, 19), datetime.date(1900, 5, 22), datetime.date(1900, 5, 3), datetime.date(1900, 5, 29), datetime.date(1900, 5, 5), datetime.date(1900, 5, 22), datetime.date(1900, 5, 14), datetime.date(1900, 5, 8), datetime.date(1900, 5, 9), datetime.date(1900, 5, 7), datetime.date(1900, 5, 30), datetime.date(1900, 5, 7), datetime.date(1900, 5, 6), datetime.date(1900, 5, 21), datetime.date(1900, 5, 7), datetime.date(1900, 5, 14), datetime.date(1900, 5, 11), datetime.date(1900, 5, 13), datetime.date(1900, 5, 30), datetime.date(1900, 5, 21), datetime.date(1900, 5, 13), datetime.date(1900, 5, 30), datetime.date(1900, 5, 29), datetime.date(1900, 5, 11), datetime.date(1900, 5, 28), datetime.date(1900, 5, 8), datetime.date(1900, 5, 6), datetime.date(1900, 5, 20), datetime.date(1900, 5, 4), datetime.date(1900, 5, 13), datetime.date(1900, 5, 21), datetime.date(1900, 5, 22), datetime.date(1900, 5, 5), datetime.date(1900, 5, 21), datetime.date(1900, 5, 3), datetime.date(1900, 5, 27), datetime.date(1900, 5, 17), datetime.date(1900, 5, 20), datetime.date(1900, 5, 16), datetime.date(1900, 5, 5), datetime.date(1900, 5, 7), datetime.date(1900, 5, 4), datetime.date(1900, 5, 29), datetime.date(1900, 5, 30), datetime.date(1900, 5, 17), datetime.date(1900, 5, 14), datetime.date(1900, 5, 17), datetime.date(1900, 5, 19), datetime.date(1900, 5, 6), datetime.date(1900, 5, 7), datetime.date(1900, 5, 28), datetime.date(1900, 5, 10), datetime.date(1900, 5, 31), datetime.date(1900, 5, 5), datetime.date(1900, 5, 14), datetime.date(1900, 5, 7), datetime.date(1900, 5, 26), datetime.date(1900, 5, 28), datetime.date(1900, 5, 25), datetime.date(1900, 5, 13), datetime.date(1900, 5, 12), datetime.date(1900, 5, 11), datetime.date(1900, 5, 11), datetime.date(1900, 5, 31), datetime.date(1900, 5, 29), datetime.date(1900, 5, 4), datetime.date(1900, 5, 13), datetime.date(1900, 5, 27), datetime.date(1900, 5, 27), datetime.date(1900, 5, 31), datetime.date(1900, 5, 21), datetime.date(1900, 5, 14), datetime.date(1900, 5, 6), datetime.date(1900, 5, 24), datetime.date(1900, 5, 28), datetime.date(1900, 5, 24), datetime.date(1900, 5, 8), datetime.date(1900, 5, 19), datetime.date(1900, 5, 8), datetime.date(1900, 5, 20), datetime.date(1900, 5, 17), datetime.date(1900, 5, 24), datetime.date(1900, 5, 10), datetime.date(1900, 5, 5), datetime.date(1900, 5, 20), datetime.date(1900, 5, 22), datetime.date(1900, 5, 1), datetime.date(1900, 5, 21), datetime.date(1900, 5, 8), datetime.date(1900, 5, 11), datetime.date(1900, 5, 26), datetime.date(1900, 5, 12), datetime.date(1900, 5, 22), datetime.date(1900, 5, 5), datetime.date(1900, 5, 28), datetime.date(1900, 5, 5), datetime.date(1900, 5, 2), datetime.date(1900, 5, 27), datetime.date(1900, 5, 28), datetime.date(1900, 5, 1), datetime.date(1900, 5, 20), datetime.date(1900, 5, 6), datetime.date(1900, 5, 14), datetime.date(1900, 5, 30), datetime.date(1900, 5, 22), datetime.date(1900, 5, 8), datetime.date(1900, 5, 27), datetime.date(1900, 5, 20), datetime.date(1900, 5, 19), datetime.date(1900, 5, 11), datetime.date(1900, 5, 7), datetime.date(1900, 5, 23), datetime.date(1900, 5, 13), datetime.date(1900, 5, 12), datetime.date(1900, 5, 27), datetime.date(1900, 5, 12), datetime.date(1900, 5, 12), datetime.date(1900, 5, 5), datetime.date(1900, 5, 6), datetime.date(1900, 5, 2), datetime.date(1900, 5, 17), datetime.date(1900, 5, 24), datetime.date(1900, 5, 19), datetime.date(1900, 5, 6), datetime.date(1900, 5, 11), datetime.date(1900, 5, 17), datetime.date(1900, 5, 25), datetime.date(1900, 5, 3), datetime.date(1900, 5, 14), datetime.date(1900, 5, 18), datetime.date(1900, 5, 26), datetime.date(1900, 5, 17), datetime.date(1900, 5, 23), datetime.date(1900, 5, 19), datetime.date(1900, 5, 2), datetime.date(1900, 5, 7), datetime.date(1900, 5, 6), datetime.date(1900, 5, 2), datetime.date(1900, 5, 13), datetime.date(1900, 5, 11), datetime.date(1900, 5, 1), datetime.date(1900, 5, 8), datetime.date(1900, 5, 7), datetime.date(1900, 5, 28), datetime.date(1900, 5, 30), datetime.date(1900, 5, 8), datetime.date(1900, 5, 12), datetime.date(1900, 5, 10), datetime.date(1900, 5, 11), datetime.date(1900, 5, 3), datetime.date(1900, 5, 4), datetime.date(1900, 5, 15), datetime.date(1900, 5, 21), datetime.date(1900, 5, 19), datetime.date(1900, 5, 9), datetime.date(1900, 5, 17), datetime.date(1900, 5, 17), datetime.date(1900, 5, 17), datetime.date(1900, 5, 8), datetime.date(1900, 5, 24), datetime.date(1900, 5, 27), datetime.date(1900, 5, 12), datetime.date(1900, 5, 14), datetime.date(1900, 5, 9), datetime.date(1900, 5, 7), datetime.date(1900, 5, 12), datetime.date(1900, 5, 8), datetime.date(1900, 5, 8), datetime.date(1900, 5, 13), datetime.date(1900, 5, 21), datetime.date(1900, 5, 16), datetime.date(1900, 5, 13), datetime.date(1900, 5, 7), datetime.date(1900, 5, 12), datetime.date(1900, 5, 9), datetime.date(1900, 5, 1), datetime.date(1900, 5, 10), datetime.date(1900, 5, 30), datetime.date(1900, 5, 4), datetime.date(1900, 5, 7), datetime.date(1900, 5, 29), datetime.date(1900, 5, 13), datetime.date(1900, 5, 5), datetime.date(1900, 5, 20), datetime.date(1900, 5, 31), datetime.date(1900, 5, 10), datetime.date(1900, 5, 5), datetime.date(1900, 5, 29), datetime.date(1900, 5, 21), datetime.date(1900, 5, 8), datetime.date(1900, 5, 28), datetime.date(1900, 5, 28), datetime.date(1900, 5, 1), datetime.date(1900, 5, 29), datetime.date(1900, 5, 31), datetime.date(1900, 5, 30), datetime.date(1900, 5, 9), datetime.date(1900, 5, 24), datetime.date(1900, 5, 5), datetime.date(1900, 5, 23), datetime.date(1900, 5, 2), datetime.date(1900, 5, 3), datetime.date(1900, 5, 10), datetime.date(1900, 5, 16), datetime.date(1900, 5, 17), datetime.date(1900, 5, 8), datetime.date(1900, 5, 27), datetime.date(1900, 5, 24), datetime.date(1900, 5, 17), datetime.date(1900, 5, 21), datetime.date(1900, 5, 17), datetime.date(1900, 5, 2), datetime.date(1900, 5, 28), datetime.date(1900, 5, 1), datetime.date(1900, 5, 12), datetime.date(1900, 5, 28), datetime.date(1900, 5, 3), datetime.date(1900, 5, 23), datetime.date(1900, 5, 16), datetime.date(1900, 5, 13), datetime.date(1900, 5, 6), datetime.date(1900, 5, 17), datetime.date(1900, 5, 14), datetime.date(1900, 5, 27), datetime.date(1900, 5, 8), datetime.date(1900, 5, 24), datetime.date(1900, 5, 22), datetime.date(1900, 5, 4), datetime.date(1900, 5, 28), datetime.date(1900, 5, 2), datetime.date(1900, 5, 4), datetime.date(1900, 5, 17), datetime.date(1900, 5, 23), datetime.date(1900, 5, 1), datetime.date(1900, 5, 13), datetime.date(1900, 5, 24), datetime.date(1900, 5, 23), datetime.date(1900, 5, 2), datetime.date(1900, 5, 11), datetime.date(1900, 5, 19), datetime.date(1900, 5, 28), datetime.date(1900, 5, 27), datetime.date(1900, 5, 21), datetime.date(1900, 5, 2), datetime.date(1900, 5, 24), datetime.date(1900, 5, 13), datetime.date(1900, 5, 22), datetime.date(1900, 5, 10), datetime.date(1900, 5, 2), datetime.date(1900, 5, 29), datetime.date(1900, 5, 28), datetime.date(1900, 5, 25), datetime.date(1900, 5, 17), datetime.date(1900, 5, 21), datetime.date(1900, 5, 6), datetime.date(1900, 5, 29), datetime.date(1900, 5, 26), datetime.date(1900, 5, 5), datetime.date(1900, 5, 22), datetime.date(1900, 5, 2), datetime.date(1900, 5, 12), datetime.date(1900, 5, 19), datetime.date(1900, 5, 1), datetime.date(1900, 5, 17), datetime.date(1900, 5, 8), datetime.date(1900, 5, 12), datetime.date(1900, 5, 29), datetime.date(1900, 5, 12), datetime.date(1900, 5, 4), datetime.date(1900, 5, 17), datetime.date(1900, 5, 17), datetime.date(1900, 5, 3), datetime.date(1900, 5, 24), datetime.date(1900, 5, 9), datetime.date(1900, 5, 8), datetime.date(1900, 5, 22), datetime.date(1900, 5, 2), datetime.date(1900, 5, 10), datetime.date(1900, 5, 1), datetime.date(1900, 5, 1), datetime.date(1900, 5, 9), datetime.date(1900, 5, 27), datetime.date(1900, 5, 10), datetime.date(1900, 5, 2), datetime.date(1900, 5, 24), datetime.date(1900, 5, 2), datetime.date(1900, 5, 10), datetime.date(1900, 5, 10), datetime.date(1900, 5, 10), datetime.date(1900, 5, 8), datetime.date(1900, 5, 9), datetime.date(1900, 5, 27), datetime.date(1900, 5, 21), datetime.date(1900, 5, 10), datetime.date(1900, 5, 14), datetime.date(1900, 5, 27), datetime.date(1900, 5, 2), datetime.date(1900, 5, 12), datetime.date(1900, 5, 6), datetime.date(1900, 5, 15), datetime.date(1900, 5, 11), datetime.date(1900, 5, 30), datetime.date(1900, 5, 7), datetime.date(1900, 5, 13), datetime.date(1900, 5, 2), datetime.date(1900, 5, 10), datetime.date(1900, 5, 3), datetime.date(1900, 5, 14), datetime.date(1900, 5, 18), datetime.date(1900, 5, 6), datetime.date(1900, 5, 31), datetime.date(1900, 5, 29), datetime.date(1900, 5, 12), datetime.date(1900, 5, 13), datetime.date(1900, 5, 6), datetime.date(1900, 5, 18), datetime.date(1900, 5, 3), datetime.date(1900, 5, 22), datetime.date(1900, 5, 28), datetime.date(1900, 5, 22), datetime.date(1900, 5, 29), datetime.date(1900, 5, 12), datetime.date(1900, 5, 27), datetime.date(1900, 5, 12), datetime.date(1900, 5, 2), datetime.date(1900, 5, 3), datetime.date(1900, 5, 29), datetime.date(1900, 5, 13), datetime.date(1900, 5, 21), datetime.date(1900, 5, 30), datetime.date(1900, 5, 18), datetime.date(1900, 5, 10), datetime.date(1900, 5, 24), datetime.date(1900, 5, 18), datetime.date(1900, 5, 9), datetime.date(1900, 5, 8), datetime.date(1900, 5, 25), datetime.date(1900, 5, 18), datetime.date(1900, 5, 17), datetime.date(1900, 5, 14), datetime.date(1900, 5, 23), datetime.date(1900, 5, 1), datetime.date(1900, 5, 8), datetime.date(1900, 5, 5), datetime.date(1900, 5, 25), datetime.date(1900, 5, 13), datetime.date(1900, 5, 6), datetime.date(1900, 5, 26), datetime.date(1900, 5, 13), datetime.date(1900, 5, 13), datetime.date(1900, 5, 29), datetime.date(1900, 5, 12), datetime.date(1900, 5, 18), datetime.date(1900, 5, 6), datetime.date(1900, 5, 30), datetime.date(1900, 5, 19), datetime.date(1900, 5, 27), datetime.date(1900, 5, 18), datetime.date(1900, 5, 13), datetime.date(1900, 5, 30), datetime.date(1900, 5, 4), datetime.date(1900, 5, 27), datetime.date(1900, 5, 13), datetime.date(1900, 5, 8), datetime.date(1900, 5, 2), datetime.date(1900, 5, 28), datetime.date(1900, 5, 1), datetime.date(1900, 5, 8), datetime.date(1900, 5, 8), datetime.date(1900, 5, 8), datetime.date(1900, 5, 14), datetime.date(1900, 5, 1), datetime.date(1900, 5, 17), datetime.date(1900, 5, 1), datetime.date(1900, 5, 22), datetime.date(1900, 5, 6), datetime.date(1900, 5, 11), datetime.date(1900, 5, 26), datetime.date(1900, 5, 3), datetime.date(1900, 5, 23), datetime.date(1900, 5, 13), datetime.date(1900, 5, 22), datetime.date(1900, 5, 31), datetime.date(1900, 5, 26), datetime.date(1900, 5, 17), datetime.date(1900, 5, 18), datetime.date(1900, 5, 10), datetime.date(1900, 5, 19), datetime.date(1900, 5, 5), datetime.date(1900, 5, 13), datetime.date(1900, 5, 17), datetime.date(1900, 5, 24), datetime.date(1900, 5, 12), datetime.date(1900, 5, 25), datetime.date(1900, 5, 10), datetime.date(1900, 5, 23), datetime.date(1900, 5, 23), datetime.date(1900, 5, 13), datetime.date(1900, 5, 12), datetime.date(1900, 5, 9), datetime.date(1900, 5, 14), datetime.date(1900, 5, 18), datetime.date(1900, 5, 19), datetime.date(1900, 5, 7), datetime.date(1900, 5, 3), datetime.date(1900, 5, 18), datetime.date(1900, 5, 18), datetime.date(1900, 5, 29), datetime.date(1900, 5, 28), datetime.date(1900, 5, 6), datetime.date(1900, 5, 19), datetime.date(1900, 5, 8), datetime.date(1900, 5, 17), datetime.date(1900, 5, 17), datetime.date(1900, 5, 8), datetime.date(1900, 5, 28), datetime.date(1900, 5, 22), datetime.date(1900, 5, 2), datetime.date(1900, 5, 22), datetime.date(1900, 5, 9), datetime.date(1900, 5, 26), datetime.date(1900, 5, 9), datetime.date(1900, 5, 6), datetime.date(1900, 5, 5), datetime.date(1900, 5, 11), datetime.date(1900, 5, 24), datetime.date(1900, 5, 5), datetime.date(1900, 5, 9), datetime.date(1900, 5, 12), datetime.date(1900, 5, 24), datetime.date(1900, 5, 12), datetime.date(1900, 5, 26), datetime.date(1900, 5, 4), datetime.date(1900, 5, 22), datetime.date(1900, 5, 21), datetime.date(1900, 5, 14), datetime.date(1900, 5, 28), datetime.date(1900, 5, 3), datetime.date(1900, 5, 25), datetime.date(1900, 5, 17), datetime.date(1900, 5, 11), datetime.date(1900, 5, 24), datetime.date(1900, 5, 30), datetime.date(1900, 5, 23), datetime.date(1900, 5, 30), datetime.date(1900, 5, 10), datetime.date(1900, 5, 27), datetime.date(1900, 5, 4), datetime.date(1900, 5, 9), datetime.date(1900, 5, 13), datetime.date(1900, 5, 23), datetime.date(1900, 5, 12), datetime.date(1900, 5, 8), datetime.date(1900, 5, 23), datetime.date(1900, 5, 4), datetime.date(1900, 5, 7), datetime.date(1900, 5, 17), datetime.date(1900, 5, 4), datetime.date(1900, 5, 27), datetime.date(1900, 5, 27), datetime.date(1900, 5, 8), datetime.date(1900, 5, 12), datetime.date(1900, 5, 29), datetime.date(1900, 5, 13), datetime.date(1900, 5, 2), datetime.date(1900, 5, 27), datetime.date(1900, 5, 11), datetime.date(1900, 5, 8), datetime.date(1900, 5, 17), datetime.date(1900, 5, 1), datetime.date(1900, 5, 17), datetime.date(1900, 5, 17), datetime.date(1900, 5, 12), datetime.date(1900, 5, 2), datetime.date(1900, 5, 2), datetime.date(1900, 5, 2), datetime.date(1900, 5, 6), datetime.date(1900, 5, 8), datetime.date(1900, 5, 18), datetime.date(1900, 5, 17), datetime.date(1900, 5, 13), datetime.date(1900, 5, 25), datetime.date(1900, 5, 16), datetime.date(1900, 5, 8), datetime.date(1900, 5, 26), datetime.date(1900, 5, 20), datetime.date(1900, 5, 3), datetime.date(1900, 5, 6), datetime.date(1900, 5, 6), datetime.date(1900, 5, 18), datetime.date(1900, 5, 13), datetime.date(1900, 5, 26), datetime.date(1900, 5, 3), datetime.date(1900, 5, 24), datetime.date(1900, 5, 10), datetime.date(1900, 5, 31), datetime.date(1900, 5, 31), datetime.date(1900, 5, 2), datetime.date(1900, 5, 14), datetime.date(1900, 5, 22), datetime.date(1900, 5, 22), datetime.date(1900, 5, 7), datetime.date(1900, 5, 27), datetime.date(1900, 5, 16), datetime.date(1900, 5, 7), datetime.date(1900, 5, 4), datetime.date(1900, 5, 22), datetime.date(1900, 5, 21), datetime.date(1900, 5, 16), datetime.date(1900, 5, 3), datetime.date(1900, 5, 9), datetime.date(1900, 5, 28), datetime.date(1900, 5, 31), datetime.date(1900, 5, 26), datetime.date(1900, 5, 9), datetime.date(1900, 5, 29), datetime.date(1900, 5, 12), datetime.date(1900, 5, 28), datetime.date(1900, 5, 1), datetime.date(1900, 5, 16), datetime.date(1900, 5, 14), datetime.date(1900, 5, 8), datetime.date(1900, 5, 8), datetime.date(1900, 5, 1), datetime.date(1900, 5, 13), datetime.date(1900, 5, 30), datetime.date(1900, 5, 18), datetime.date(1900, 5, 17), datetime.date(1900, 5, 10), datetime.date(1900, 5, 25), datetime.date(1900, 5, 1), datetime.date(1900, 5, 12), datetime.date(1900, 5, 7), datetime.date(1900, 5, 3), datetime.date(1900, 5, 28), datetime.date(1900, 5, 27), datetime.date(1900, 5, 29), datetime.date(1900, 5, 14), datetime.date(1900, 5, 8), datetime.date(1900, 5, 31), datetime.date(1900, 5, 30), datetime.date(1900, 5, 4), datetime.date(1900, 5, 13), datetime.date(1900, 5, 6), datetime.date(1900, 5, 5), datetime.date(1900, 5, 30), datetime.date(1900, 5, 30), datetime.date(1900, 5, 10), datetime.date(1900, 5, 28), datetime.date(1900, 5, 4), datetime.date(1900, 5, 12), datetime.date(1900, 5, 1), datetime.date(1900, 5, 5), datetime.date(1900, 5, 19), datetime.date(1900, 5, 13), datetime.date(1900, 5, 16), datetime.date(1900, 5, 8), datetime.date(1900, 5, 25), datetime.date(1900, 5, 12), datetime.date(1900, 5, 8), datetime.date(1900, 5, 5), datetime.date(1900, 5, 26), datetime.date(1900, 5, 13), datetime.date(1900, 5, 5), datetime.date(1900, 5, 15), datetime.date(1900, 5, 16), datetime.date(1900, 5, 17), datetime.date(1900, 5, 28), datetime.date(1900, 5, 10), datetime.date(1900, 5, 4), datetime.date(1900, 5, 7), datetime.date(1900, 5, 29), datetime.date(1900, 5, 9), datetime.date(1900, 5, 12), datetime.date(1900, 5, 20), datetime.date(1900, 5, 7), datetime.date(1900, 5, 11), datetime.date(1900, 5, 12), datetime.date(1900, 5, 24), datetime.date(1900, 5, 17), datetime.date(1900, 5, 28), datetime.date(1900, 5, 24), datetime.date(1900, 5, 21), datetime.date(1900, 5, 14), datetime.date(1900, 5, 7), datetime.date(1900, 5, 28), datetime.date(1900, 5, 29), datetime.date(1900, 5, 29), datetime.date(1900, 5, 26), datetime.date(1900, 5, 12), datetime.date(1900, 5, 19), datetime.date(1900, 5, 16), datetime.date(1900, 5, 30), datetime.date(1900, 5, 9), datetime.date(1900, 5, 29), datetime.date(1900, 5, 6), datetime.date(1900, 5, 7), datetime.date(1900, 5, 13), datetime.date(1900, 5, 26), datetime.date(1900, 5, 28), datetime.date(1900, 5, 17), datetime.date(1900, 5, 10), datetime.date(1900, 5, 12), datetime.date(1900, 5, 1), datetime.date(1900, 5, 7), datetime.date(1900, 5, 14), datetime.date(1900, 5, 12), datetime.date(1900, 5, 4), datetime.date(1900, 5, 6), datetime.date(1900, 5, 8), datetime.date(1900, 5, 3), datetime.date(1900, 5, 7), datetime.date(1900, 5, 21), datetime.date(1900, 5, 5), datetime.date(1900, 5, 22), datetime.date(1900, 5, 25), datetime.date(1900, 5, 22), datetime.date(1900, 5, 17), datetime.date(1900, 5, 6), datetime.date(1900, 5, 25), datetime.date(1900, 5, 21), datetime.date(1900, 5, 17), datetime.date(1900, 5, 1), datetime.date(1900, 5, 13), datetime.date(1900, 5, 6), datetime.date(1900, 5, 7), datetime.date(1900, 5, 25), datetime.date(1900, 5, 9), datetime.date(1900, 5, 11), datetime.date(1900, 5, 31), datetime.date(1900, 5, 15), datetime.date(1900, 5, 19), datetime.date(1900, 5, 29), datetime.date(1900, 5, 31), datetime.date(1900, 5, 4), datetime.date(1900, 5, 26), datetime.date(1900, 5, 6), datetime.date(1900, 5, 10), datetime.date(1900, 5, 17), datetime.date(1900, 5, 10), datetime.date(1900, 5, 14), datetime.date(1900, 5, 31), datetime.date(1900, 5, 10), datetime.date(1900, 5, 5), datetime.date(1900, 5, 12), datetime.date(1900, 5, 4), datetime.date(1900, 5, 6), datetime.date(1900, 5, 27), datetime.date(1900, 5, 12), datetime.date(1900, 5, 14), datetime.date(1900, 5, 31), datetime.date(1900, 5, 9), datetime.date(1900, 5, 21), datetime.date(1900, 5, 23), datetime.date(1900, 5, 21), datetime.date(1900, 5, 27), datetime.date(1900, 5, 4), datetime.date(1900, 5, 3), datetime.date(1900, 5, 1), datetime.date(1900, 5, 5), datetime.date(1900, 5, 18), datetime.date(1900, 5, 28), datetime.date(1900, 5, 10), datetime.date(1900, 5, 8), datetime.date(1900, 5, 13), datetime.date(1900, 5, 4), datetime.date(1900, 5, 1), datetime.date(1900, 5, 14), datetime.date(1900, 5, 16), datetime.date(1900, 5, 5), datetime.date(1900, 5, 16), datetime.date(1900, 5, 13), datetime.date(1900, 5, 3), datetime.date(1900, 5, 11), datetime.date(1900, 5, 26), datetime.date(1900, 5, 22), datetime.date(1900, 5, 12), datetime.date(1900, 5, 1), datetime.date(1900, 5, 13), datetime.date(1900, 5, 27), datetime.date(1900, 5, 23), datetime.date(1900, 5, 21), datetime.date(1900, 5, 17), datetime.date(1900, 5, 6), datetime.date(1900, 5, 2), datetime.date(1900, 5, 12), datetime.date(1900, 5, 28), datetime.date(1900, 5, 7), datetime.date(1900, 5, 7), datetime.date(1900, 5, 17), datetime.date(1900, 5, 9), datetime.date(1900, 5, 17), datetime.date(1900, 5, 1), datetime.date(1900, 5, 12), datetime.date(1900, 5, 9), datetime.date(1900, 5, 27), datetime.date(1900, 5, 10), datetime.date(1900, 5, 3), datetime.date(1900, 5, 13), datetime.date(1900, 5, 12), datetime.date(1900, 5, 8), datetime.date(1900, 5, 11), datetime.date(1900, 5, 2), datetime.date(1900, 5, 31), datetime.date(1900, 5, 22), datetime.date(1900, 5, 9), datetime.date(1900, 5, 5), datetime.date(1900, 5, 11), datetime.date(1900, 5, 2), datetime.date(1900, 5, 23), datetime.date(1900, 5, 13), datetime.date(1900, 5, 31), datetime.date(1900, 5, 19), datetime.date(1900, 5, 2), datetime.date(1900, 5, 2), datetime.date(1900, 5, 28), datetime.date(1900, 5, 5), datetime.date(1900, 5, 14), datetime.date(1900, 5, 30), datetime.date(1900, 5, 10), datetime.date(1900, 5, 10), datetime.date(1900, 5, 9), datetime.date(1900, 5, 12), datetime.date(1900, 5, 9), datetime.date(1900, 5, 3), datetime.date(1900, 5, 11), datetime.date(1900, 5, 14), datetime.date(1900, 5, 21), datetime.date(1900, 5, 15), datetime.date(1900, 5, 3), datetime.date(1900, 5, 16), datetime.date(1900, 5, 4), datetime.date(1900, 5, 9), datetime.date(1900, 5, 23), datetime.date(1900, 5, 1), datetime.date(1900, 5, 31), datetime.date(1900, 5, 10), datetime.date(1900, 5, 16), datetime.date(1900, 5, 6), datetime.date(1900, 5, 1), datetime.date(1900, 5, 9), datetime.date(1900, 5, 10), datetime.date(1900, 5, 25), datetime.date(1900, 5, 24), datetime.date(1900, 5, 25), datetime.date(1900, 5, 22), datetime.date(1900, 5, 17), datetime.date(1900, 5, 13), datetime.date(1900, 5, 12), datetime.date(1900, 5, 28), datetime.date(1900, 5, 4), datetime.date(1900, 5, 24), datetime.date(1900, 5, 27), datetime.date(1900, 5, 25), datetime.date(1900, 5, 28), datetime.date(1900, 5, 6), datetime.date(1900, 5, 28), datetime.date(1900, 5, 12), datetime.date(1900, 5, 6), datetime.date(1900, 5, 7), datetime.date(1900, 5, 25), datetime.date(1900, 5, 9), datetime.date(1900, 5, 14), datetime.date(1900, 5, 29), datetime.date(1900, 5, 11), datetime.date(1900, 5, 25), datetime.date(1900, 5, 13), datetime.date(1900, 5, 13), datetime.date(1900, 5, 29), datetime.date(1900, 5, 22), datetime.date(1900, 5, 12), datetime.date(1900, 5, 1), datetime.date(1900, 5, 2), datetime.date(1900, 5, 27), datetime.date(1900, 5, 29), datetime.date(1900, 5, 16), datetime.date(1900, 5, 8), datetime.date(1900, 5, 14), datetime.date(1900, 5, 9), datetime.date(1900, 5, 22), datetime.date(1900, 5, 9), datetime.date(1900, 5, 9), datetime.date(1900, 5, 14), datetime.date(1900, 5, 1), datetime.date(1900, 5, 17), datetime.date(1900, 5, 8), datetime.date(1900, 5, 12), datetime.date(1900, 5, 21), datetime.date(1900, 5, 11), datetime.date(1900, 5, 4), datetime.date(1900, 5, 3), datetime.date(1900, 5, 3), datetime.date(1900, 5, 30), datetime.date(1900, 5, 9), datetime.date(1900, 5, 9), datetime.date(1900, 5, 2), datetime.date(1900, 5, 7), datetime.date(1900, 5, 2), datetime.date(1900, 5, 23), datetime.date(1900, 5, 16), datetime.date(1900, 5, 2), datetime.date(1900, 5, 21), datetime.date(1900, 5, 4), datetime.date(1900, 5, 24), datetime.date(1900, 5, 11), datetime.date(1900, 5, 31), datetime.date(1900, 5, 16), datetime.date(1900, 5, 20), datetime.date(1900, 5, 31), datetime.date(1900, 5, 19), datetime.date(1900, 5, 7), datetime.date(1900, 5, 29), datetime.date(1900, 5, 6), datetime.date(1900, 5, 16), datetime.date(1900, 5, 5), datetime.date(1900, 5, 4), datetime.date(1900, 5, 29), datetime.date(1900, 5, 30), datetime.date(1900, 5, 30), datetime.date(1900, 5, 7), datetime.date(1900, 5, 28), datetime.date(1900, 5, 19), datetime.date(1900, 5, 22), datetime.date(1900, 5, 12), datetime.date(1900, 5, 8), datetime.date(1900, 5, 26), datetime.date(1900, 5, 2), datetime.date(1900, 5, 25), datetime.date(1900, 5, 7), datetime.date(1900, 5, 12), datetime.date(1900, 5, 4), datetime.date(1900, 5, 6), datetime.date(1900, 5, 21), datetime.date(1900, 5, 22), datetime.date(1900, 5, 7), datetime.date(1900, 5, 5), datetime.date(1900, 5, 3), datetime.date(1900, 5, 18), datetime.date(1900, 5, 16), datetime.date(1900, 5, 20), datetime.date(1900, 5, 26), datetime.date(1900, 5, 17), datetime.date(1900, 5, 7), datetime.date(1900, 5, 11), datetime.date(1900, 5, 25), datetime.date(1900, 5, 9), datetime.date(1900, 5, 1), datetime.date(1900, 5, 14), datetime.date(1900, 5, 21), datetime.date(1900, 5, 1), datetime.date(1900, 5, 24), datetime.date(1900, 5, 22), datetime.date(1900, 5, 11), datetime.date(1900, 5, 5), datetime.date(1900, 5, 13), datetime.date(1900, 5, 12), datetime.date(1900, 5, 18), datetime.date(1900, 5, 16), datetime.date(1900, 5, 4), datetime.date(1900, 5, 13), datetime.date(1900, 5, 28), datetime.date(1900, 5, 5), datetime.date(1900, 5, 27), datetime.date(1900, 5, 20), datetime.date(1900, 5, 22), datetime.date(1900, 5, 14), datetime.date(1900, 5, 10), datetime.date(1900, 5, 9), datetime.date(1900, 5, 12), datetime.date(1900, 5, 12), datetime.date(1900, 5, 14), datetime.date(1900, 5, 13), datetime.date(1900, 5, 10), datetime.date(1900, 5, 7), datetime.date(1900, 5, 10), datetime.date(1900, 5, 22), datetime.date(1900, 5, 9), datetime.date(1900, 5, 10), datetime.date(1900, 5, 17), datetime.date(1900, 5, 17), datetime.date(1900, 5, 26), datetime.date(1900, 5, 8), datetime.date(1900, 5, 24), datetime.date(1900, 5, 30), datetime.date(1900, 5, 11), datetime.date(1900, 5, 17), datetime.date(1900, 5, 12), datetime.date(1900, 5, 22), datetime.date(1900, 5, 21), datetime.date(1900, 5, 12), datetime.date(1900, 5, 10), datetime.date(1900, 5, 11), datetime.date(1900, 5, 18), datetime.date(1900, 5, 30), datetime.date(1900, 5, 27), datetime.date(1900, 5, 9), datetime.date(1900, 5, 17), datetime.date(1900, 5, 9), datetime.date(1900, 5, 7), datetime.date(1900, 5, 20), datetime.date(1900, 5, 5), datetime.date(1900, 5, 12), datetime.date(1900, 5, 26), datetime.date(1900, 5, 28), datetime.date(1900, 5, 13), datetime.date(1900, 5, 1), datetime.date(1900, 5, 26), datetime.date(1900, 5, 28), datetime.date(1900, 5, 9), datetime.date(1900, 5, 14), datetime.date(1900, 5, 22), datetime.date(1900, 5, 10), datetime.date(1900, 5, 6), datetime.date(1900, 5, 13), datetime.date(1900, 5, 4), datetime.date(1900, 5, 4), datetime.date(1900, 5, 12), datetime.date(1900, 5, 13), datetime.date(1900, 5, 27), datetime.date(1900, 5, 12), datetime.date(1900, 5, 12), datetime.date(1900, 5, 8), datetime.date(1900, 5, 14), datetime.date(1900, 5, 17), datetime.date(1900, 5, 12), datetime.date(1900, 5, 20), datetime.date(1900, 5, 8), datetime.date(1900, 5, 13), datetime.date(1900, 5, 11), datetime.date(1900, 5, 10), datetime.date(1900, 5, 30), datetime.date(1900, 5, 24), datetime.date(1900, 5, 12), datetime.date(1900, 5, 18), datetime.date(1900, 5, 11), datetime.date(1900, 5, 31), datetime.date(1900, 5, 4), datetime.date(1900, 5, 30), datetime.date(1900, 5, 7), datetime.date(1900, 5, 9), datetime.date(1900, 5, 28), datetime.date(1900, 5, 14), datetime.date(1900, 5, 24), datetime.date(1900, 5, 27), datetime.date(1900, 5, 16), datetime.date(1900, 5, 15), datetime.date(1900, 5, 7), datetime.date(1900, 5, 19), datetime.date(1900, 5, 20), datetime.date(1900, 5, 13), datetime.date(1900, 5, 3), datetime.date(1900, 5, 24), datetime.date(1900, 5, 28), datetime.date(1900, 5, 8), datetime.date(1900, 5, 10), datetime.date(1900, 5, 4), datetime.date(1900, 5, 23), datetime.date(1900, 5, 4), datetime.date(1900, 5, 18), datetime.date(1900, 5, 12), datetime.date(1900, 5, 3), datetime.date(1900, 5, 8), datetime.date(1900, 5, 12), datetime.date(1900, 5, 3), datetime.date(1900, 5, 24), datetime.date(1900, 5, 26), datetime.date(1900, 5, 11), datetime.date(1900, 5, 9), datetime.date(1900, 5, 16), datetime.date(1900, 5, 10), datetime.date(1900, 5, 16), datetime.date(1900, 5, 4), datetime.date(1900, 5, 20), datetime.date(1900, 5, 23), datetime.date(1900, 5, 10), datetime.date(1900, 5, 24), datetime.date(1900, 5, 12), datetime.date(1900, 5, 22), datetime.date(1900, 5, 3), datetime.date(1900, 5, 16), datetime.date(1900, 5, 13), datetime.date(1900, 5, 11), datetime.date(1900, 5, 15), datetime.date(1900, 5, 14), datetime.date(1900, 5, 29), datetime.date(1900, 5, 16), datetime.date(1900, 5, 11), datetime.date(1900, 5, 21), datetime.date(1900, 5, 7), datetime.date(1900, 5, 27), datetime.date(1900, 5, 12), datetime.date(1900, 5, 1), datetime.date(1900, 5, 25), datetime.date(1900, 5, 6), datetime.date(1900, 5, 21), datetime.date(1900, 5, 9), datetime.date(1900, 5, 29), datetime.date(1900, 5, 26), datetime.date(1900, 5, 11), datetime.date(1900, 5, 8), datetime.date(1900, 5, 22), datetime.date(1900, 5, 12), datetime.date(1900, 5, 22), datetime.date(1900, 5, 17), datetime.date(1900, 5, 17), datetime.date(1900, 5, 4), datetime.date(1900, 5, 12), datetime.date(1900, 5, 13), datetime.date(1900, 5, 10), datetime.date(1900, 5, 5), datetime.date(1900, 5, 8), datetime.date(1900, 5, 2), datetime.date(1900, 5, 6), datetime.date(1900, 5, 30), datetime.date(1900, 5, 14), datetime.date(1900, 5, 19), datetime.date(1900, 5, 8), datetime.date(1900, 5, 18), datetime.date(1900, 5, 17), datetime.date(1900, 5, 14), datetime.date(1900, 5, 2), datetime.date(1900, 5, 7), datetime.date(1900, 5, 12), datetime.date(1900, 5, 8), datetime.date(1900, 5, 17), datetime.date(1900, 5, 16), datetime.date(1900, 5, 9), datetime.date(1900, 5, 13), datetime.date(1900, 5, 16), datetime.date(1900, 5, 24), datetime.date(1900, 5, 28), datetime.date(1900, 5, 30), datetime.date(1900, 5, 10), datetime.date(1900, 5, 9), datetime.date(1900, 5, 7), datetime.date(1900, 5, 25), datetime.date(1900, 5, 22), datetime.date(1900, 5, 24), datetime.date(1900, 5, 8), datetime.date(1900, 5, 3), datetime.date(1900, 5, 7), datetime.date(1900, 5, 2), datetime.date(1900, 5, 2), datetime.date(1900, 5, 11), datetime.date(1900, 5, 3), datetime.date(1900, 5, 17), datetime.date(1900, 5, 28), datetime.date(1900, 5, 31), datetime.date(1900, 5, 8), datetime.date(1900, 5, 4), datetime.date(1900, 5, 11), datetime.date(1900, 5, 11), datetime.date(1900, 5, 8), datetime.date(1900, 5, 11), datetime.date(1900, 5, 22), datetime.date(1900, 5, 6), datetime.date(1900, 5, 22), datetime.date(1900, 5, 28), datetime.date(1900, 5, 11), datetime.date(1900, 5, 8), datetime.date(1900, 5, 25), datetime.date(1900, 5, 10), datetime.date(1900, 5, 5), datetime.date(1900, 5, 14), datetime.date(1900, 5, 13), datetime.date(1900, 5, 20), datetime.date(1900, 5, 27), datetime.date(1900, 5, 17), datetime.date(1900, 5, 23), datetime.date(1900, 5, 1), datetime.date(1900, 5, 12), datetime.date(1900, 5, 7), datetime.date(1900, 5, 26), datetime.date(1900, 5, 20), datetime.date(1900, 5, 8), datetime.date(1900, 5, 20), datetime.date(1900, 5, 16), datetime.date(1900, 5, 10), datetime.date(1900, 5, 10), datetime.date(1900, 5, 2), datetime.date(1900, 5, 12), datetime.date(1900, 5, 9), datetime.date(1900, 5, 14), datetime.date(1900, 5, 26), datetime.date(1900, 5, 16), datetime.date(1900, 5, 16), datetime.date(1900, 5, 17), datetime.date(1900, 5, 27), datetime.date(1900, 5, 8), datetime.date(1900, 5, 19), datetime.date(1900, 5, 18), datetime.date(1900, 5, 8), datetime.date(1900, 5, 14), datetime.date(1900, 5, 21), datetime.date(1900, 5, 4), datetime.date(1900, 5, 6), datetime.date(1900, 5, 1), datetime.date(1900, 5, 13), datetime.date(1900, 5, 24), datetime.date(1900, 5, 6), datetime.date(1900, 5, 19), datetime.date(1900, 5, 2), datetime.date(1900, 5, 16), datetime.date(1900, 5, 28), datetime.date(1900, 5, 26), datetime.date(1900, 5, 29), datetime.date(1900, 5, 9), datetime.date(1900, 5, 12), datetime.date(1900, 5, 31), datetime.date(1900, 5, 17), datetime.date(1900, 5, 11), datetime.date(1900, 5, 24), datetime.date(1900, 5, 5), datetime.date(1900, 5, 10), datetime.date(1900, 5, 14), datetime.date(1900, 5, 29), datetime.date(1900, 5, 3), datetime.date(1900, 5, 15), datetime.date(1900, 5, 12), datetime.date(1900, 5, 9), datetime.date(1900, 5, 17), datetime.date(1900, 5, 5), datetime.date(1900, 5, 16), datetime.date(1900, 5, 4), datetime.date(1900, 5, 13), datetime.date(1900, 5, 7), datetime.date(1900, 5, 14), datetime.date(1900, 5, 27), datetime.date(1900, 5, 30), datetime.date(1900, 5, 13), datetime.date(1900, 5, 17), datetime.date(1900, 5, 27), datetime.date(1900, 5, 9), datetime.date(1900, 5, 12), datetime.date(1900, 5, 4), datetime.date(1900, 5, 14), datetime.date(1900, 5, 22), datetime.date(1900, 5, 12), datetime.date(1900, 5, 6), datetime.date(1900, 5, 9), datetime.date(1900, 5, 2), datetime.date(1900, 5, 6), datetime.date(1900, 5, 25), datetime.date(1900, 5, 18), datetime.date(1900, 5, 4), datetime.date(1900, 5, 8), datetime.date(1900, 5, 4), datetime.date(1900, 5, 2), datetime.date(1900, 5, 29), datetime.date(1900, 5, 9), datetime.date(1900, 5, 12), datetime.date(1900, 5, 17), datetime.date(1900, 5, 16), datetime.date(1900, 5, 4), datetime.date(1900, 5, 12), datetime.date(1900, 5, 8), datetime.date(1900, 5, 28), datetime.date(1900, 5, 2), datetime.date(1900, 5, 23), datetime.date(1900, 5, 30), datetime.date(1900, 5, 11), datetime.date(1900, 5, 18), datetime.date(1900, 5, 1), datetime.date(1900, 5, 3), datetime.date(1900, 5, 27), datetime.date(1900, 5, 18), datetime.date(1900, 5, 29), datetime.date(1900, 5, 10), datetime.date(1900, 5, 10), datetime.date(1900, 5, 23), datetime.date(1900, 5, 1), datetime.date(1900, 5, 28), datetime.date(1900, 5, 11), datetime.date(1900, 5, 5), datetime.date(1900, 5, 9), datetime.date(1900, 5, 3), datetime.date(1900, 5, 9), datetime.date(1900, 5, 2), datetime.date(1900, 5, 4), datetime.date(1900, 5, 9), datetime.date(1900, 5, 25), datetime.date(1900, 5, 1), datetime.date(1900, 5, 28), datetime.date(1900, 5, 9), datetime.date(1900, 5, 19), datetime.date(1900, 5, 7), datetime.date(1900, 5, 5), datetime.date(1900, 5, 5), datetime.date(1900, 5, 14), datetime.date(1900, 5, 29), datetime.date(1900, 5, 19), datetime.date(1900, 5, 16), datetime.date(1900, 5, 21), datetime.date(1900, 5, 24), datetime.date(1900, 5, 21), datetime.date(1900, 5, 25), datetime.date(1900, 5, 24), datetime.date(1900, 5, 12), datetime.date(1900, 5, 11), datetime.date(1900, 5, 24), datetime.date(1900, 5, 12), datetime.date(1900, 5, 16), datetime.date(1900, 5, 25), datetime.date(1900, 5, 1), datetime.date(1900, 5, 5), datetime.date(1900, 5, 21), datetime.date(1900, 5, 8), datetime.date(1900, 5, 11), datetime.date(1900, 5, 30), datetime.date(1900, 5, 29), datetime.date(1900, 5, 2), datetime.date(1900, 5, 21), datetime.date(1900, 5, 7), datetime.date(1900, 5, 18), datetime.date(1900, 5, 25), datetime.date(1900, 5, 6), datetime.date(1900, 5, 30), datetime.date(1900, 5, 9), datetime.date(1900, 5, 25), datetime.date(1900, 5, 2), datetime.date(1900, 5, 31), datetime.date(1900, 5, 30), datetime.date(1900, 5, 12), datetime.date(1900, 5, 7), datetime.date(1900, 5, 17), datetime.date(1900, 5, 9), datetime.date(1900, 5, 3), datetime.date(1900, 5, 27), datetime.date(1900, 5, 28), datetime.date(1900, 5, 30), datetime.date(1900, 5, 14), datetime.date(1900, 5, 28), datetime.date(1900, 5, 4), datetime.date(1900, 5, 6), datetime.date(1900, 5, 14), datetime.date(1900, 5, 8), datetime.date(1900, 5, 23), datetime.date(1900, 5, 18), datetime.date(1900, 5, 16), datetime.date(1900, 5, 14), datetime.date(1900, 5, 27), datetime.date(1900, 5, 23), datetime.date(1900, 5, 7), datetime.date(1900, 5, 5), datetime.date(1900, 5, 8), datetime.date(1900, 5, 17), datetime.date(1900, 5, 3), datetime.date(1900, 5, 3), datetime.date(1900, 5, 3), datetime.date(1900, 5, 26), datetime.date(1900, 5, 24), datetime.date(1900, 5, 22), datetime.date(1900, 5, 21), datetime.date(1900, 5, 29), datetime.date(1900, 5, 19), datetime.date(1900, 5, 6), datetime.date(1900, 5, 13), datetime.date(1900, 5, 14), datetime.date(1900, 5, 6), datetime.date(1900, 5, 13), datetime.date(1900, 5, 26), datetime.date(1900, 5, 28), datetime.date(1900, 5, 21), datetime.date(1900, 5, 21), datetime.date(1900, 5, 19), datetime.date(1900, 5, 23), datetime.date(1900, 5, 5), datetime.date(1900, 5, 16), datetime.date(1900, 5, 28), datetime.date(1900, 5, 25), datetime.date(1900, 5, 14), datetime.date(1900, 5, 23), datetime.date(1900, 5, 13), datetime.date(1900, 5, 1), datetime.date(1900, 5, 7), datetime.date(1900, 5, 10), datetime.date(1900, 5, 26), datetime.date(1900, 5, 12), datetime.date(1900, 5, 14), datetime.date(1900, 5, 18), datetime.date(1900, 5, 2), datetime.date(1900, 5, 2), datetime.date(1900, 5, 24), datetime.date(1900, 5, 25), datetime.date(1900, 5, 7), datetime.date(1900, 5, 30), datetime.date(1900, 5, 1), datetime.date(1900, 5, 23), datetime.date(1900, 5, 12), datetime.date(1900, 5, 2), datetime.date(1900, 5, 8), datetime.date(1900, 5, 7), datetime.date(1900, 5, 6), datetime.date(1900, 5, 5), datetime.date(1900, 5, 12), datetime.date(1900, 5, 21), datetime.date(1900, 5, 23), datetime.date(1900, 5, 7), datetime.date(1900, 5, 15), datetime.date(1900, 5, 26), datetime.date(1900, 5, 20), datetime.date(1900, 5, 21), datetime.date(1900, 5, 5), datetime.date(1900, 5, 28), datetime.date(1900, 5, 12), datetime.date(1900, 5, 22), datetime.date(1900, 5, 24), datetime.date(1900, 5, 22), datetime.date(1900, 5, 18), datetime.date(1900, 5, 6), datetime.date(1900, 5, 23), datetime.date(1900, 5, 28), datetime.date(1900, 5, 5), datetime.date(1900, 5, 21), datetime.date(1900, 5, 29), datetime.date(1900, 5, 4), datetime.date(1900, 5, 6), datetime.date(1900, 5, 17), datetime.date(1900, 5, 3), datetime.date(1900, 5, 22), datetime.date(1900, 5, 8), datetime.date(1900, 5, 3), datetime.date(1900, 5, 8), datetime.date(1900, 5, 6), datetime.date(1900, 5, 18), datetime.date(1900, 5, 5), datetime.date(1900, 5, 26), datetime.date(1900, 5, 30), datetime.date(1900, 5, 16), datetime.date(1900, 5, 30), datetime.date(1900, 5, 3), datetime.date(1900, 5, 13), datetime.date(1900, 5, 10), datetime.date(1900, 5, 22), datetime.date(1900, 5, 22), datetime.date(1900, 5, 6), datetime.date(1900, 5, 2), datetime.date(1900, 5, 17), datetime.date(1900, 5, 29), datetime.date(1900, 5, 28), datetime.date(1900, 5, 14), datetime.date(1900, 5, 24), datetime.date(1900, 5, 26), datetime.date(1900, 5, 17), datetime.date(1900, 5, 5), datetime.date(1900, 5, 21), datetime.date(1900, 5, 5), datetime.date(1900, 5, 10), datetime.date(1900, 5, 17), datetime.date(1900, 5, 9), datetime.date(1900, 5, 8), datetime.date(1900, 5, 14), datetime.date(1900, 5, 1), datetime.date(1900, 5, 29), datetime.date(1900, 5, 31), datetime.date(1900, 5, 31), datetime.date(1900, 5, 3), datetime.date(1900, 5, 3), datetime.date(1900, 5, 9), datetime.date(1900, 5, 2), datetime.date(1900, 5, 7), datetime.date(1900, 5, 11), datetime.date(1900, 5, 26), datetime.date(1900, 5, 7), datetime.date(1900, 5, 4), datetime.date(1900, 5, 14), datetime.date(1900, 5, 3), datetime.date(1900, 5, 22), datetime.date(1900, 5, 12), datetime.date(1900, 5, 26), datetime.date(1900, 5, 13), datetime.date(1900, 5, 11), datetime.date(1900, 5, 11), datetime.date(1900, 5, 30), datetime.date(1900, 5, 29), datetime.date(1900, 5, 9), datetime.date(1900, 5, 22), datetime.date(1900, 5, 7), datetime.date(1900, 5, 22), datetime.date(1900, 5, 26), datetime.date(1900, 5, 17), datetime.date(1900, 5, 8), datetime.date(1900, 5, 31), datetime.date(1900, 5, 9), datetime.date(1900, 5, 22), datetime.date(1900, 5, 6), datetime.date(1900, 5, 17), datetime.date(1900, 5, 16), datetime.date(1900, 5, 18), datetime.date(1900, 5, 6), datetime.date(1900, 5, 6), datetime.date(1900, 5, 2), datetime.date(1900, 5, 24), datetime.date(1900, 5, 24), datetime.date(1900, 5, 8), datetime.date(1900, 5, 10), datetime.date(1900, 5, 27), datetime.date(1900, 5, 24), datetime.date(1900, 5, 1), datetime.date(1900, 5, 26), datetime.date(1900, 5, 31), datetime.date(1900, 5, 2), datetime.date(1900, 5, 24), datetime.date(1900, 5, 9), datetime.date(1900, 5, 2), datetime.date(1900, 5, 7), datetime.date(1900, 5, 2), datetime.date(1900, 5, 21), datetime.date(1900, 5, 3), datetime.date(1900, 5, 19), datetime.date(1900, 5, 4), datetime.date(1900, 5, 17), datetime.date(1900, 5, 14), datetime.date(1900, 5, 5), datetime.date(1900, 5, 13), datetime.date(1900, 5, 25), datetime.date(1900, 5, 2), datetime.date(1900, 5, 4), datetime.date(1900, 5, 17), datetime.date(1900, 5, 23), datetime.date(1900, 5, 29), datetime.date(1900, 5, 11), datetime.date(1900, 5, 14), datetime.date(1900, 5, 1), datetime.date(1900, 5, 19), datetime.date(1900, 5, 17), datetime.date(1900, 5, 13), datetime.date(1900, 5, 29), datetime.date(1900, 5, 30), datetime.date(1900, 5, 20), datetime.date(1900, 5, 30), datetime.date(1900, 5, 24), datetime.date(1900, 5, 8), datetime.date(1900, 5, 19), datetime.date(1900, 5, 9), datetime.date(1900, 5, 1), datetime.date(1900, 5, 28), datetime.date(1900, 5, 26), datetime.date(1900, 5, 12), datetime.date(1900, 5, 1), datetime.date(1900, 5, 29), datetime.date(1900, 5, 16), datetime.date(1900, 5, 28), datetime.date(1900, 5, 28), datetime.date(1900, 5, 22), datetime.date(1900, 5, 31), datetime.date(1900, 5, 9), datetime.date(1900, 5, 22), datetime.date(1900, 5, 16), datetime.date(1900, 5, 12), datetime.date(1900, 5, 5), datetime.date(1900, 5, 2), datetime.date(1900, 5, 17), datetime.date(1900, 5, 16), datetime.date(1900, 5, 21), datetime.date(1900, 5, 28), datetime.date(1900, 5, 17), datetime.date(1900, 5, 12), datetime.date(1900, 5, 24), datetime.date(1900, 5, 16), datetime.date(1900, 5, 27), datetime.date(1900, 5, 5), datetime.date(1900, 5, 10), datetime.date(1900, 5, 12), datetime.date(1900, 5, 25), datetime.date(1900, 5, 26), datetime.date(1900, 5, 14), datetime.date(1900, 5, 5), datetime.date(1900, 5, 10), datetime.date(1900, 5, 21), datetime.date(1900, 5, 10), datetime.date(1900, 5, 5), datetime.date(1900, 5, 10), datetime.date(1900, 5, 1), datetime.date(1900, 5, 22), datetime.date(1900, 5, 3), datetime.date(1900, 5, 27), datetime.date(1900, 5, 4), datetime.date(1900, 5, 7), datetime.date(1900, 5, 4), datetime.date(1900, 5, 8), datetime.date(1900, 5, 18), datetime.date(1900, 5, 13), datetime.date(1900, 5, 31), datetime.date(1900, 5, 12), datetime.date(1900, 5, 2), datetime.date(1900, 5, 13), datetime.date(1900, 5, 8), datetime.date(1900, 5, 1), datetime.date(1900, 5, 19), datetime.date(1900, 5, 12), datetime.date(1900, 5, 25), datetime.date(1900, 5, 3), datetime.date(1900, 5, 12), datetime.date(1900, 5, 9), datetime.date(1900, 5, 25), datetime.date(1900, 5, 2), datetime.date(1900, 5, 16), datetime.date(1900, 5, 4), datetime.date(1900, 5, 4), datetime.date(1900, 5, 8), datetime.date(1900, 5, 30), datetime.date(1900, 5, 3), datetime.date(1900, 5, 18), datetime.date(1900, 5, 5), datetime.date(1900, 5, 16), datetime.date(1900, 5, 4), datetime.date(1900, 5, 16), datetime.date(1900, 5, 6), datetime.date(1900, 5, 13), datetime.date(1900, 5, 29), datetime.date(1900, 5, 15), datetime.date(1900, 5, 14), datetime.date(1900, 5, 25), datetime.date(1900, 5, 9), datetime.date(1900, 5, 30), datetime.date(1900, 5, 24), datetime.date(1900, 5, 26), datetime.date(1900, 5, 8), datetime.date(1900, 5, 25), datetime.date(1900, 5, 10), datetime.date(1900, 5, 19), datetime.date(1900, 5, 12), datetime.date(1900, 5, 3), datetime.date(1900, 5, 7), datetime.date(1900, 5, 2), datetime.date(1900, 5, 7), datetime.date(1900, 5, 20), datetime.date(1900, 5, 11), datetime.date(1900, 5, 14), datetime.date(1900, 5, 26), datetime.date(1900, 5, 17), datetime.date(1900, 5, 11), datetime.date(1900, 5, 13), datetime.date(1900, 5, 7), datetime.date(1900, 5, 28), datetime.date(1900, 5, 24), datetime.date(1900, 5, 17), datetime.date(1900, 5, 4), datetime.date(1900, 5, 16), datetime.date(1900, 5, 14), datetime.date(1900, 5, 12), datetime.date(1900, 5, 3), datetime.date(1900, 5, 28), datetime.date(1900, 5, 28), datetime.date(1900, 5, 2), datetime.date(1900, 5, 16), datetime.date(1900, 5, 18), datetime.date(1900, 5, 13), datetime.date(1900, 5, 21), datetime.date(1900, 5, 23), datetime.date(1900, 5, 7), datetime.date(1900, 5, 21), datetime.date(1900, 5, 12), datetime.date(1900, 5, 24), datetime.date(1900, 5, 12), datetime.date(1900, 5, 10), datetime.date(1900, 5, 30), datetime.date(1900, 5, 8), datetime.date(1900, 5, 21), datetime.date(1900, 5, 21), datetime.date(1900, 5, 31), datetime.date(1900, 5, 24), datetime.date(1900, 5, 8), datetime.date(1900, 5, 8), datetime.date(1900, 5, 3), datetime.date(1900, 5, 1), datetime.date(1900, 5, 22), datetime.date(1900, 5, 22), datetime.date(1900, 5, 29), datetime.date(1900, 5, 9), datetime.date(1900, 5, 5), datetime.date(1900, 5, 26), datetime.date(1900, 5, 11), datetime.date(1900, 5, 14), datetime.date(1900, 5, 4), datetime.date(1900, 5, 13), datetime.date(1900, 5, 26), datetime.date(1900, 5, 30), datetime.date(1900, 5, 11), datetime.date(1900, 5, 2), datetime.date(1900, 5, 17), datetime.date(1900, 5, 13), datetime.date(1900, 5, 3), datetime.date(1900, 5, 10), datetime.date(1900, 5, 31), datetime.date(1900, 5, 28), datetime.date(1900, 5, 29), datetime.date(1900, 5, 12), datetime.date(1900, 5, 7), datetime.date(1900, 5, 14), datetime.date(1900, 5, 16), datetime.date(1900, 5, 12), datetime.date(1900, 5, 10), datetime.date(1900, 5, 23), datetime.date(1900, 5, 29), datetime.date(1900, 5, 10), datetime.date(1900, 5, 17), datetime.date(1900, 5, 26), datetime.date(1900, 5, 12), datetime.date(1900, 5, 30), datetime.date(1900, 5, 30), datetime.date(1900, 5, 26), datetime.date(1900, 5, 9), datetime.date(1900, 5, 28), datetime.date(1900, 5, 6), datetime.date(1900, 5, 31), datetime.date(1900, 5, 17), datetime.date(1900, 5, 25), datetime.date(1900, 5, 27), datetime.date(1900, 5, 17), datetime.date(1900, 5, 31), datetime.date(1900, 5, 24), datetime.date(1900, 5, 12), datetime.date(1900, 5, 17), datetime.date(1900, 5, 26), datetime.date(1900, 5, 4), datetime.date(1900, 5, 21), datetime.date(1900, 5, 17), datetime.date(1900, 5, 29), datetime.date(1900, 5, 14), datetime.date(1900, 5, 7), datetime.date(1900, 5, 17), datetime.date(1900, 5, 17), datetime.date(1900, 5, 24), datetime.date(1900, 5, 16), datetime.date(1900, 5, 27), datetime.date(1900, 5, 5), datetime.date(1900, 5, 20), datetime.date(1900, 5, 9), datetime.date(1900, 5, 13), datetime.date(1900, 5, 21), datetime.date(1900, 5, 6), datetime.date(1900, 5, 11), datetime.date(1900, 5, 1), datetime.date(1900, 5, 3), datetime.date(1900, 5, 6), datetime.date(1900, 5, 9), datetime.date(1900, 5, 11), datetime.date(1900, 5, 22), datetime.date(1900, 5, 11), datetime.date(1900, 5, 2), datetime.date(1900, 5, 29), datetime.date(1900, 5, 1), datetime.date(1900, 5, 4), datetime.date(1900, 5, 5), datetime.date(1900, 5, 1), datetime.date(1900, 5, 22), datetime.date(1900, 5, 28), datetime.date(1900, 5, 3), datetime.date(1900, 5, 8), datetime.date(1900, 5, 6), datetime.date(1900, 5, 25), datetime.date(1900, 5, 21), datetime.date(1900, 5, 9), datetime.date(1900, 5, 30), datetime.date(1900, 5, 25), datetime.date(1900, 5, 4), datetime.date(1900, 5, 29), datetime.date(1900, 5, 10), datetime.date(1900, 5, 29), datetime.date(1900, 5, 4), datetime.date(1900, 5, 14), datetime.date(1900, 5, 11), datetime.date(1900, 5, 27), datetime.date(1900, 5, 16), datetime.date(1900, 5, 7), datetime.date(1900, 5, 10), datetime.date(1900, 5, 9), datetime.date(1900, 5, 1), datetime.date(1900, 5, 3), datetime.date(1900, 5, 28), datetime.date(1900, 5, 9), datetime.date(1900, 5, 31), datetime.date(1900, 5, 25), datetime.date(1900, 5, 8), datetime.date(1900, 5, 25), datetime.date(1900, 5, 26), datetime.date(1900, 5, 5), datetime.date(1900, 5, 4), datetime.date(1900, 5, 12), datetime.date(1900, 5, 17), datetime.date(1900, 5, 28), datetime.date(1900, 5, 13), datetime.date(1900, 5, 12), datetime.date(1900, 5, 7), datetime.date(1900, 5, 24), datetime.date(1900, 5, 11), datetime.date(1900, 5, 30), datetime.date(1900, 5, 12), datetime.date(1900, 5, 8), datetime.date(1900, 5, 13), datetime.date(1900, 5, 30), datetime.date(1900, 5, 2), datetime.date(1900, 5, 6), datetime.date(1900, 5, 27), datetime.date(1900, 5, 13), datetime.date(1900, 5, 26), datetime.date(1900, 5, 24), datetime.date(1900, 5, 21), datetime.date(1900, 5, 28), datetime.date(1900, 5, 7), datetime.date(1900, 5, 29), datetime.date(1900, 5, 30), datetime.date(1900, 5, 17), datetime.date(1900, 5, 6), datetime.date(1900, 5, 3), datetime.date(1900, 5, 9), datetime.date(1900, 5, 3), datetime.date(1900, 5, 24), datetime.date(1900, 5, 12), datetime.date(1900, 5, 2), datetime.date(1900, 5, 27), datetime.date(1900, 5, 10), datetime.date(1900, 5, 11), datetime.date(1900, 5, 5), datetime.date(1900, 5, 14), datetime.date(1900, 5, 27), datetime.date(1900, 5, 22), datetime.date(1900, 5, 5), datetime.date(1900, 5, 4), datetime.date(1900, 5, 4), datetime.date(1900, 5, 16), datetime.date(1900, 5, 10), datetime.date(1900, 5, 18), datetime.date(1900, 5, 5), datetime.date(1900, 5, 10), datetime.date(1900, 5, 29), datetime.date(1900, 5, 20), datetime.date(1900, 5, 30), datetime.date(1900, 5, 11), datetime.date(1900, 5, 13), datetime.date(1900, 5, 31), datetime.date(1900, 5, 27), datetime.date(1900, 5, 8), datetime.date(1900, 5, 8), datetime.date(1900, 5, 10), datetime.date(1900, 5, 14), datetime.date(1900, 5, 21), datetime.date(1900, 5, 9), datetime.date(1900, 5, 27), datetime.date(1900, 5, 20), datetime.date(1900, 5, 9), datetime.date(1900, 5, 8), datetime.date(1900, 5, 5), datetime.date(1900, 5, 4), datetime.date(1900, 5, 17), datetime.date(1900, 5, 5), datetime.date(1900, 5, 2), datetime.date(1900, 5, 13), datetime.date(1900, 5, 16), datetime.date(1900, 5, 19), datetime.date(1900, 5, 22), datetime.date(1900, 5, 11), datetime.date(1900, 5, 5), datetime.date(1900, 5, 13), datetime.date(1900, 5, 8), datetime.date(1900, 5, 7), datetime.date(1900, 5, 14), datetime.date(1900, 5, 20), datetime.date(1900, 5, 23), datetime.date(1900, 5, 11), datetime.date(1900, 5, 31), datetime.date(1900, 5, 3), datetime.date(1900, 5, 4), datetime.date(1900, 5, 18), datetime.date(1900, 5, 3), datetime.date(1900, 5, 22), datetime.date(1900, 5, 6), datetime.date(1900, 5, 22), datetime.date(1900, 5, 1), datetime.date(1900, 5, 21), datetime.date(1900, 5, 17), datetime.date(1900, 5, 9), datetime.date(1900, 5, 14), datetime.date(1900, 5, 9), datetime.date(1900, 5, 17), datetime.date(1900, 5, 22), datetime.date(1900, 5, 11), datetime.date(1900, 5, 20), datetime.date(1900, 5, 15), datetime.date(1900, 5, 3), datetime.date(1900, 5, 9), datetime.date(1900, 5, 15), datetime.date(1900, 5, 3), datetime.date(1900, 5, 11), datetime.date(1900, 5, 24), datetime.date(1900, 5, 3), datetime.date(1900, 5, 12), datetime.date(1900, 5, 24), datetime.date(1900, 5, 13), datetime.date(1900, 5, 21), datetime.date(1900, 5, 11), datetime.date(1900, 5, 13), datetime.date(1900, 5, 4), datetime.date(1900, 5, 3), datetime.date(1900, 5, 8), datetime.date(1900, 5, 1), datetime.date(1900, 5, 21), datetime.date(1900, 5, 21), datetime.date(1900, 5, 5), datetime.date(1900, 5, 17), datetime.date(1900, 5, 12), datetime.date(1900, 5, 7), datetime.date(1900, 5, 16), datetime.date(1900, 5, 30), datetime.date(1900, 5, 8), datetime.date(1900, 5, 27), datetime.date(1900, 5, 21), datetime.date(1900, 5, 30), datetime.date(1900, 5, 14), datetime.date(1900, 5, 13), datetime.date(1900, 5, 19), datetime.date(1900, 5, 21), datetime.date(1900, 5, 6), datetime.date(1900, 5, 9), datetime.date(1900, 5, 9), datetime.date(1900, 5, 12), datetime.date(1900, 5, 17), datetime.date(1900, 5, 4), datetime.date(1900, 5, 12), datetime.date(1900, 5, 9), datetime.date(1900, 5, 16), datetime.date(1900, 5, 31), datetime.date(1900, 5, 2), datetime.date(1900, 5, 28), datetime.date(1900, 5, 28), datetime.date(1900, 5, 25), datetime.date(1900, 5, 21), datetime.date(1900, 5, 18), datetime.date(1900, 5, 16), datetime.date(1900, 5, 6), datetime.date(1900, 5, 7), datetime.date(1900, 5, 6), datetime.date(1900, 5, 16), datetime.date(1900, 5, 22), datetime.date(1900, 5, 10), datetime.date(1900, 5, 19), datetime.date(1900, 5, 27), datetime.date(1900, 5, 13), datetime.date(1900, 5, 1), datetime.date(1900, 5, 27), datetime.date(1900, 5, 12), datetime.date(1900, 5, 22), datetime.date(1900, 5, 7), datetime.date(1900, 5, 3), datetime.date(1900, 5, 5), datetime.date(1900, 5, 12), datetime.date(1900, 5, 24), datetime.date(1900, 5, 5), datetime.date(1900, 5, 13), datetime.date(1900, 5, 29), datetime.date(1900, 5, 20), datetime.date(1900, 5, 26), datetime.date(1900, 5, 5), datetime.date(1900, 5, 25), datetime.date(1900, 5, 19), datetime.date(1900, 5, 19), datetime.date(1900, 5, 29), datetime.date(1900, 5, 14), datetime.date(1900, 5, 27), datetime.date(1900, 5, 5), datetime.date(1900, 5, 22), datetime.date(1900, 5, 12), datetime.date(1900, 5, 23), datetime.date(1900, 5, 28), datetime.date(1900, 5, 10), datetime.date(1900, 5, 9), datetime.date(1900, 5, 6), datetime.date(1900, 5, 8), datetime.date(1900, 5, 22), datetime.date(1900, 5, 22), datetime.date(1900, 5, 11), datetime.date(1900, 5, 26), datetime.date(1900, 5, 17), datetime.date(1900, 5, 22), datetime.date(1900, 5, 7), datetime.date(1900, 5, 9), datetime.date(1900, 5, 22), datetime.date(1900, 5, 14), datetime.date(1900, 5, 4), datetime.date(1900, 5, 20), datetime.date(1900, 5, 24), datetime.date(1900, 5, 10), datetime.date(1900, 5, 29), datetime.date(1900, 5, 8), datetime.date(1900, 5, 14), datetime.date(1900, 5, 5), datetime.date(1900, 5, 4), datetime.date(1900, 5, 19), datetime.date(1900, 5, 21), datetime.date(1900, 5, 8), datetime.date(1900, 5, 6), datetime.date(1900, 5, 11), datetime.date(1900, 5, 23), datetime.date(1900, 5, 27), datetime.date(1900, 5, 8), datetime.date(1900, 5, 16), datetime.date(1900, 5, 6), datetime.date(1900, 5, 10), datetime.date(1900, 5, 26), datetime.date(1900, 5, 11), datetime.date(1900, 5, 6), datetime.date(1900, 5, 27), datetime.date(1900, 5, 13), datetime.date(1900, 5, 12), datetime.date(1900, 5, 14), datetime.date(1900, 5, 24), datetime.date(1900, 5, 4), datetime.date(1900, 5, 10), datetime.date(1900, 5, 13), datetime.date(1900, 5, 28), datetime.date(1900, 5, 9), datetime.date(1900, 5, 8), datetime.date(1900, 5, 27), datetime.date(1900, 5, 16), datetime.date(1900, 5, 6), datetime.date(1900, 5, 4), datetime.date(1900, 5, 11), datetime.date(1900, 5, 16), datetime.date(1900, 5, 4), datetime.date(1900, 5, 1), datetime.date(1900, 5, 31), datetime.date(1900, 5, 30), datetime.date(1900, 5, 3), datetime.date(1900, 5, 4), datetime.date(1900, 5, 29), datetime.date(1900, 5, 14), datetime.date(1900, 5, 13), datetime.date(1900, 5, 2), datetime.date(1900, 5, 30), datetime.date(1900, 5, 10), datetime.date(1900, 5, 4), datetime.date(1900, 5, 13), datetime.date(1900, 5, 27), datetime.date(1900, 5, 12), datetime.date(1900, 5, 9), datetime.date(1900, 5, 19), datetime.date(1900, 5, 14), datetime.date(1900, 5, 14), datetime.date(1900, 5, 27), datetime.date(1900, 5, 23), datetime.date(1900, 5, 24), datetime.date(1900, 5, 12), datetime.date(1900, 5, 9), datetime.date(1900, 5, 8), datetime.date(1900, 5, 8), datetime.date(1900, 5, 5), datetime.date(1900, 5, 1), datetime.date(1900, 5, 14), datetime.date(1900, 5, 18), datetime.date(1900, 5, 10), datetime.date(1900, 5, 27), datetime.date(1900, 5, 12), datetime.date(1900, 5, 28), datetime.date(1900, 5, 14), datetime.date(1900, 5, 30), datetime.date(1900, 5, 13), datetime.date(1900, 5, 24), datetime.date(1900, 5, 8), datetime.date(1900, 5, 7), datetime.date(1900, 5, 8), datetime.date(1900, 5, 20), datetime.date(1900, 5, 1), datetime.date(1900, 5, 4), datetime.date(1900, 5, 2), datetime.date(1900, 5, 30), datetime.date(1900, 5, 4), datetime.date(1900, 5, 27), datetime.date(1900, 5, 29), datetime.date(1900, 5, 30), datetime.date(1900, 5, 3), datetime.date(1900, 5, 24), datetime.date(1900, 5, 12), datetime.date(1900, 5, 27), datetime.date(1900, 5, 14), datetime.date(1900, 5, 17), datetime.date(1900, 5, 28), datetime.date(1900, 5, 26), datetime.date(1900, 5, 20), datetime.date(1900, 5, 27), datetime.date(1900, 5, 29), datetime.date(1900, 5, 1), datetime.date(1900, 5, 8), datetime.date(1900, 5, 12), datetime.date(1900, 5, 11), datetime.date(1900, 5, 22), datetime.date(1900, 5, 9), datetime.date(1900, 5, 12), datetime.date(1900, 5, 7), datetime.date(1900, 5, 12), datetime.date(1900, 5, 9), datetime.date(1900, 5, 17), datetime.date(1900, 5, 1), datetime.date(1900, 5, 6), datetime.date(1900, 5, 25), datetime.date(1900, 5, 5), datetime.date(1900, 5, 3), datetime.date(1900, 5, 7), datetime.date(1900, 5, 15), datetime.date(1900, 5, 3), datetime.date(1900, 5, 13), datetime.date(1900, 5, 3), datetime.date(1900, 5, 26), datetime.date(1900, 5, 13), datetime.date(1900, 5, 1), datetime.date(1900, 5, 9), datetime.date(1900, 5, 3), datetime.date(1900, 5, 3), datetime.date(1900, 5, 3), datetime.date(1900, 5, 3), datetime.date(1900, 5, 22), datetime.date(1900, 5, 8), datetime.date(1900, 5, 27), datetime.date(1900, 5, 26), datetime.date(1900, 5, 10), datetime.date(1900, 5, 10), datetime.date(1900, 5, 24), datetime.date(1900, 5, 17), datetime.date(1900, 5, 3), datetime.date(1900, 5, 8), datetime.date(1900, 5, 19), datetime.date(1900, 5, 8), datetime.date(1900, 5, 21), datetime.date(1900, 5, 13), datetime.date(1900, 5, 7), datetime.date(1900, 5, 4), datetime.date(1900, 5, 26), datetime.date(1900, 5, 16), datetime.date(1900, 5, 2), datetime.date(1900, 5, 29), datetime.date(1900, 5, 11), datetime.date(1900, 5, 13), datetime.date(1900, 5, 3), datetime.date(1900, 5, 31), datetime.date(1900, 5, 28), datetime.date(1900, 5, 14), datetime.date(1900, 5, 27), datetime.date(1900, 5, 7), datetime.date(1900, 5, 12), datetime.date(1900, 5, 13), datetime.date(1900, 5, 8), datetime.date(1900, 5, 18), datetime.date(1900, 5, 5), datetime.date(1900, 5, 17), datetime.date(1900, 5, 13), datetime.date(1900, 5, 14), datetime.date(1900, 5, 29), datetime.date(1900, 5, 10), datetime.date(1900, 5, 26), datetime.date(1900, 5, 1), datetime.date(1900, 5, 5), datetime.date(1900, 5, 2), datetime.date(1900, 5, 14), datetime.date(1900, 5, 28), datetime.date(1900, 5, 8), datetime.date(1900, 5, 9), datetime.date(1900, 5, 1), datetime.date(1900, 5, 3), datetime.date(1900, 5, 23), datetime.date(1900, 5, 12), datetime.date(1900, 5, 16), datetime.date(1900, 5, 4), datetime.date(1900, 5, 21), datetime.date(1900, 5, 8), datetime.date(1900, 5, 29), datetime.date(1900, 5, 21), datetime.date(1900, 5, 25), datetime.date(1900, 5, 21), datetime.date(1900, 5, 12), datetime.date(1900, 5, 11), datetime.date(1900, 5, 16), datetime.date(1900, 5, 12), datetime.date(1900, 5, 28), datetime.date(1900, 5, 19), datetime.date(1900, 5, 11), datetime.date(1900, 5, 9), datetime.date(1900, 5, 10), datetime.date(1900, 5, 3), datetime.date(1900, 5, 29), datetime.date(1900, 5, 18), datetime.date(1900, 5, 28), datetime.date(1900, 5, 6), datetime.date(1900, 5, 22), datetime.date(1900, 5, 17), datetime.date(1900, 5, 25), datetime.date(1900, 5, 14), datetime.date(1900, 5, 12), datetime.date(1900, 5, 20), datetime.date(1900, 5, 7), datetime.date(1900, 5, 4), datetime.date(1900, 5, 12), datetime.date(1900, 5, 13), datetime.date(1900, 5, 21), datetime.date(1900, 5, 4), datetime.date(1900, 5, 18), datetime.date(1900, 5, 26), datetime.date(1900, 5, 30), datetime.date(1900, 5, 7), datetime.date(1900, 5, 24), datetime.date(1900, 5, 28), datetime.date(1900, 5, 25), datetime.date(1900, 5, 12), datetime.date(1900, 5, 30), datetime.date(1900, 5, 9), datetime.date(1900, 5, 16), datetime.date(1900, 5, 19), datetime.date(1900, 5, 5), datetime.date(1900, 5, 26), datetime.date(1900, 5, 4), datetime.date(1900, 5, 13), datetime.date(1900, 5, 23), datetime.date(1900, 5, 20), datetime.date(1900, 5, 3), datetime.date(1900, 5, 5), datetime.date(1900, 5, 10), datetime.date(1900, 5, 13), datetime.date(1900, 5, 29), datetime.date(1900, 5, 13), datetime.date(1900, 5, 9), datetime.date(1900, 5, 9), datetime.date(1900, 5, 19), datetime.date(1900, 5, 14), datetime.date(1900, 5, 11), datetime.date(1900, 5, 7), datetime.date(1900, 5, 18), datetime.date(1900, 5, 1), datetime.date(1900, 5, 8), datetime.date(1900, 5, 4), datetime.date(1900, 5, 6), datetime.date(1900, 5, 3), datetime.date(1900, 5, 11), datetime.date(1900, 5, 4), datetime.date(1900, 5, 20), datetime.date(1900, 5, 21), datetime.date(1900, 5, 18), datetime.date(1900, 5, 27), datetime.date(1900, 5, 3), datetime.date(1900, 5, 4), datetime.date(1900, 5, 16), datetime.date(1900, 5, 16), datetime.date(1900, 5, 8), datetime.date(1900, 5, 17), datetime.date(1900, 5, 1), datetime.date(1900, 5, 7), datetime.date(1900, 5, 11), datetime.date(1900, 5, 16), datetime.date(1900, 5, 13), datetime.date(1900, 5, 2), datetime.date(1900, 5, 1), datetime.date(1900, 5, 25), datetime.date(1900, 5, 31), datetime.date(1900, 5, 14), datetime.date(1900, 5, 8), datetime.date(1900, 5, 24), datetime.date(1900, 5, 1), datetime.date(1900, 5, 4), datetime.date(1900, 5, 22), datetime.date(1900, 5, 25), datetime.date(1900, 5, 27), datetime.date(1900, 5, 15), datetime.date(1900, 5, 6), datetime.date(1900, 5, 12), datetime.date(1900, 5, 13), datetime.date(1900, 5, 9), datetime.date(1900, 5, 23), datetime.date(1900, 5, 10), datetime.date(1900, 5, 11), datetime.date(1900, 5, 7), datetime.date(1900, 5, 24), datetime.date(1900, 5, 19), datetime.date(1900, 5, 1), datetime.date(1900, 5, 6), datetime.date(1900, 5, 21), datetime.date(1900, 5, 31), datetime.date(1900, 5, 11), datetime.date(1900, 5, 28), datetime.date(1900, 5, 5), datetime.date(1900, 5, 3), datetime.date(1900, 5, 31), datetime.date(1900, 5, 11), datetime.date(1900, 5, 13), datetime.date(1900, 5, 3), datetime.date(1900, 5, 27), datetime.date(1900, 5, 15), datetime.date(1900, 5, 10), datetime.date(1900, 5, 24), datetime.date(1900, 5, 2), datetime.date(1900, 5, 12), datetime.date(1900, 5, 13), datetime.date(1900, 5, 13), datetime.date(1900, 5, 13), datetime.date(1900, 5, 14), datetime.date(1900, 5, 21), datetime.date(1900, 5, 19), datetime.date(1900, 5, 12), datetime.date(1900, 5, 25), datetime.date(1900, 5, 13), datetime.date(1900, 5, 13), datetime.date(1900, 5, 21), datetime.date(1900, 5, 16), datetime.date(1900, 5, 27), datetime.date(1900, 5, 11), datetime.date(1900, 5, 26), datetime.date(1900, 5, 1), datetime.date(1900, 5, 18), datetime.date(1900, 5, 23), datetime.date(1900, 5, 27), datetime.date(1900, 5, 29), datetime.date(1900, 5, 5), datetime.date(1900, 5, 2), datetime.date(1900, 5, 4), datetime.date(1900, 5, 3), datetime.date(1900, 5, 12), datetime.date(1900, 5, 14), datetime.date(1900, 5, 17), datetime.date(1900, 5, 7), datetime.date(1900, 5, 10), datetime.date(1900, 5, 12), datetime.date(1900, 5, 28), datetime.date(1900, 5, 30), datetime.date(1900, 5, 3), datetime.date(1900, 5, 31), datetime.date(1900, 5, 17), datetime.date(1900, 5, 19), datetime.date(1900, 5, 31), datetime.date(1900, 5, 28), datetime.date(1900, 5, 11), datetime.date(1900, 5, 4), datetime.date(1900, 5, 3), datetime.date(1900, 5, 22), datetime.date(1900, 5, 2), datetime.date(1900, 5, 21), datetime.date(1900, 5, 8), datetime.date(1900, 5, 13), datetime.date(1900, 5, 13), datetime.date(1900, 5, 21), datetime.date(1900, 5, 23), datetime.date(1900, 5, 7), datetime.date(1900, 5, 26), datetime.date(1900, 5, 22), datetime.date(1900, 5, 27), datetime.date(1900, 5, 22), datetime.date(1900, 5, 3), datetime.date(1900, 5, 18), datetime.date(1900, 5, 31), datetime.date(1900, 5, 28), datetime.date(1900, 5, 24), datetime.date(1900, 5, 28), datetime.date(1900, 5, 8), datetime.date(1900, 5, 22), datetime.date(1900, 5, 8), datetime.date(1900, 5, 5), datetime.date(1900, 5, 12), datetime.date(1900, 5, 16), datetime.date(1900, 5, 30), datetime.date(1900, 5, 12), datetime.date(1900, 5, 29), datetime.date(1900, 5, 21), datetime.date(1900, 5, 16), datetime.date(1900, 5, 7), datetime.date(1900, 5, 5), datetime.date(1900, 5, 7), datetime.date(1900, 5, 12), datetime.date(1900, 5, 21), datetime.date(1900, 5, 27), datetime.date(1900, 5, 6), datetime.date(1900, 5, 29), datetime.date(1900, 5, 11), datetime.date(1900, 5, 6), datetime.date(1900, 5, 22), datetime.date(1900, 5, 23), datetime.date(1900, 5, 17), datetime.date(1900, 5, 28), datetime.date(1900, 5, 16), datetime.date(1900, 5, 18), datetime.date(1900, 5, 28), datetime.date(1900, 5, 5), datetime.date(1900, 5, 19), datetime.date(1900, 5, 27), datetime.date(1900, 5, 8), datetime.date(1900, 5, 13), datetime.date(1900, 5, 1), datetime.date(1900, 5, 8), datetime.date(1900, 5, 30), datetime.date(1900, 5, 24), datetime.date(1900, 5, 14), datetime.date(1900, 5, 24), datetime.date(1900, 5, 30), datetime.date(1900, 5, 7), datetime.date(1900, 5, 29), datetime.date(1900, 5, 31), datetime.date(1900, 5, 24), datetime.date(1900, 5, 29), datetime.date(1900, 5, 3), datetime.date(1900, 5, 3), datetime.date(1900, 5, 14), datetime.date(1900, 5, 1), datetime.date(1900, 5, 17), datetime.date(1900, 5, 23), datetime.date(1900, 5, 7), datetime.date(1900, 5, 3), datetime.date(1900, 5, 31), datetime.date(1900, 5, 2), datetime.date(1900, 5, 22), datetime.date(1900, 5, 5), datetime.date(1900, 5, 13), datetime.date(1900, 5, 11), datetime.date(1900, 5, 23), datetime.date(1900, 5, 5), datetime.date(1900, 5, 27), datetime.date(1900, 5, 30), datetime.date(1900, 5, 16), datetime.date(1900, 5, 2), datetime.date(1900, 5, 24), datetime.date(1900, 5, 22), datetime.date(1900, 5, 28), datetime.date(1900, 5, 17), datetime.date(1900, 5, 22), datetime.date(1900, 5, 7), datetime.date(1900, 5, 10), datetime.date(1900, 5, 2), datetime.date(1900, 5, 16), datetime.date(1900, 5, 9), datetime.date(1900, 5, 22), datetime.date(1900, 5, 18), datetime.date(1900, 5, 6), datetime.date(1900, 5, 30), datetime.date(1900, 5, 13), datetime.date(1900, 5, 12), datetime.date(1900, 5, 26), datetime.date(1900, 5, 5), datetime.date(1900, 5, 20), datetime.date(1900, 5, 30), datetime.date(1900, 5, 21), datetime.date(1900, 5, 16), datetime.date(1900, 5, 21), datetime.date(1900, 5, 18), datetime.date(1900, 5, 18), datetime.date(1900, 5, 21), datetime.date(1900, 5, 16), datetime.date(1900, 5, 27), datetime.date(1900, 5, 4), datetime.date(1900, 5, 8), datetime.date(1900, 5, 6), datetime.date(1900, 5, 24), datetime.date(1900, 5, 18), datetime.date(1900, 5, 3), datetime.date(1900, 5, 6), datetime.date(1900, 5, 13), datetime.date(1900, 5, 14), datetime.date(1900, 5, 12), datetime.date(1900, 5, 5), datetime.date(1900, 5, 23), datetime.date(1900, 5, 30), datetime.date(1900, 5, 30), datetime.date(1900, 5, 12), datetime.date(1900, 5, 14), datetime.date(1900, 5, 14), datetime.date(1900, 5, 30), datetime.date(1900, 5, 13), datetime.date(1900, 5, 4), datetime.date(1900, 5, 9), datetime.date(1900, 5, 19), datetime.date(1900, 5, 19), datetime.date(1900, 5, 18), datetime.date(1900, 5, 10), datetime.date(1900, 5, 19), datetime.date(1900, 5, 11), datetime.date(1900, 5, 2), datetime.date(1900, 5, 30), datetime.date(1900, 5, 23), datetime.date(1900, 5, 28), datetime.date(1900, 5, 1), datetime.date(1900, 5, 8), datetime.date(1900, 5, 16), datetime.date(1900, 5, 5), datetime.date(1900, 5, 13), datetime.date(1900, 5, 11), datetime.date(1900, 5, 12), datetime.date(1900, 5, 13), datetime.date(1900, 5, 14), datetime.date(1900, 5, 27), datetime.date(1900, 5, 11), datetime.date(1900, 5, 22), datetime.date(1900, 5, 7), datetime.date(1900, 5, 27), datetime.date(1900, 5, 13), datetime.date(1900, 5, 22), datetime.date(1900, 5, 17), datetime.date(1900, 5, 5), datetime.date(1900, 5, 13), datetime.date(1900, 5, 18), datetime.date(1900, 5, 29), datetime.date(1900, 5, 27), datetime.date(1900, 5, 27), datetime.date(1900, 5, 20), datetime.date(1900, 5, 8), datetime.date(1900, 5, 26), datetime.date(1900, 5, 24), datetime.date(1900, 5, 18), datetime.date(1900, 5, 23), datetime.date(1900, 5, 31), datetime.date(1900, 5, 6), datetime.date(1900, 5, 23), datetime.date(1900, 5, 13), datetime.date(1900, 5, 25), datetime.date(1900, 5, 28), datetime.date(1900, 5, 19), datetime.date(1900, 5, 12), datetime.date(1900, 5, 27), datetime.date(1900, 5, 28), datetime.date(1900, 5, 29), datetime.date(1900, 5, 22), datetime.date(1900, 5, 5), datetime.date(1900, 5, 6), datetime.date(1900, 5, 6), datetime.date(1900, 5, 3), datetime.date(1900, 5, 5), datetime.date(1900, 5, 4), datetime.date(1900, 5, 7), datetime.date(1900, 5, 27), datetime.date(1900, 5, 9), datetime.date(1900, 5, 2), datetime.date(1900, 5, 30), datetime.date(1900, 5, 22), datetime.date(1900, 5, 6), datetime.date(1900, 5, 22), datetime.date(1900, 5, 12), datetime.date(1900, 5, 11), datetime.date(1900, 5, 21), datetime.date(1900, 5, 3), datetime.date(1900, 5, 6), datetime.date(1900, 5, 12), datetime.date(1900, 5, 2), datetime.date(1900, 5, 27), datetime.date(1900, 5, 7), datetime.date(1900, 5, 22), datetime.date(1900, 5, 12), datetime.date(1900, 5, 4), datetime.date(1900, 5, 8), datetime.date(1900, 5, 1), datetime.date(1900, 5, 5), datetime.date(1900, 5, 29), datetime.date(1900, 5, 14), datetime.date(1900, 5, 29), datetime.date(1900, 5, 14), datetime.date(1900, 5, 18), datetime.date(1900, 5, 10), datetime.date(1900, 5, 8), datetime.date(1900, 5, 22), datetime.date(1900, 5, 28), datetime.date(1900, 5, 14), datetime.date(1900, 5, 4), datetime.date(1900, 5, 3), datetime.date(1900, 5, 1), datetime.date(1900, 5, 4), datetime.date(1900, 5, 2), datetime.date(1900, 5, 8), datetime.date(1900, 5, 1), datetime.date(1900, 5, 6), datetime.date(1900, 5, 8), datetime.date(1900, 5, 13), datetime.date(1900, 5, 20), datetime.date(1900, 5, 5), datetime.date(1900, 5, 11), datetime.date(1900, 5, 7), datetime.date(1900, 5, 12), datetime.date(1900, 5, 2), datetime.date(1900, 5, 10), datetime.date(1900, 5, 16), datetime.date(1900, 5, 18), datetime.date(1900, 5, 1), datetime.date(1900, 5, 1), datetime.date(1900, 5, 20), datetime.date(1900, 5, 4), datetime.date(1900, 5, 10), datetime.date(1900, 5, 6), datetime.date(1900, 5, 12), datetime.date(1900, 5, 22), datetime.date(1900, 5, 27), datetime.date(1900, 5, 2), datetime.date(1900, 5, 6), datetime.date(1900, 5, 19), datetime.date(1900, 5, 13), datetime.date(1900, 5, 21), datetime.date(1900, 5, 13), datetime.date(1900, 5, 16), datetime.date(1900, 5, 8), datetime.date(1900, 5, 14), datetime.date(1900, 5, 26), datetime.date(1900, 5, 11), datetime.date(1900, 5, 31), datetime.date(1900, 5, 19), datetime.date(1900, 5, 13), datetime.date(1900, 5, 3), datetime.date(1900, 5, 8), datetime.date(1900, 5, 8), datetime.date(1900, 5, 6), datetime.date(1900, 5, 17), datetime.date(1900, 5, 24), datetime.date(1900, 5, 27), datetime.date(1900, 5, 14), datetime.date(1900, 5, 10), datetime.date(1900, 5, 6), datetime.date(1900, 5, 4), datetime.date(1900, 5, 27), datetime.date(1900, 5, 3), datetime.date(1900, 5, 12), datetime.date(1900, 5, 25), datetime.date(1900, 5, 24), datetime.date(1900, 5, 12), datetime.date(1900, 5, 9), datetime.date(1900, 5, 25), datetime.date(1900, 5, 23), datetime.date(1900, 5, 1), datetime.date(1900, 5, 13), datetime.date(1900, 5, 1), datetime.date(1900, 5, 6), datetime.date(1900, 5, 28), datetime.date(1900, 5, 13), datetime.date(1900, 5, 22), datetime.date(1900, 5, 2), datetime.date(1900, 5, 17), datetime.date(1900, 5, 8), datetime.date(1900, 5, 27), datetime.date(1900, 5, 25), datetime.date(1900, 5, 16), datetime.date(1900, 5, 2), datetime.date(1900, 5, 7), datetime.date(1900, 5, 28), datetime.date(1900, 5, 11), datetime.date(1900, 5, 4), datetime.date(1900, 5, 20), datetime.date(1900, 5, 19), datetime.date(1900, 5, 12), datetime.date(1900, 5, 22), datetime.date(1900, 5, 13), datetime.date(1900, 5, 30), datetime.date(1900, 5, 24), datetime.date(1900, 5, 19), datetime.date(1900, 5, 22), datetime.date(1900, 5, 17), datetime.date(1900, 5, 22), datetime.date(1900, 5, 8), datetime.date(1900, 5, 13), datetime.date(1900, 5, 8), datetime.date(1900, 5, 19), datetime.date(1900, 5, 7), datetime.date(1900, 5, 4), datetime.date(1900, 5, 21), datetime.date(1900, 5, 12), datetime.date(1900, 5, 28), datetime.date(1900, 5, 13), datetime.date(1900, 5, 11), datetime.date(1900, 5, 23), datetime.date(1900, 5, 3), datetime.date(1900, 5, 5), datetime.date(1900, 5, 28), datetime.date(1900, 5, 3), datetime.date(1900, 5, 22), datetime.date(1900, 5, 21), datetime.date(1900, 5, 1), datetime.date(1900, 5, 4), datetime.date(1900, 5, 11), datetime.date(1900, 5, 14), datetime.date(1900, 5, 1), datetime.date(1900, 5, 14), datetime.date(1900, 5, 14), datetime.date(1900, 5, 16), datetime.date(1900, 5, 9), datetime.date(1900, 5, 1), datetime.date(1900, 5, 21), datetime.date(1900, 5, 21), datetime.date(1900, 5, 5), datetime.date(1900, 5, 8), datetime.date(1900, 5, 17), datetime.date(1900, 5, 4), datetime.date(1900, 5, 18), datetime.date(1900, 5, 9), datetime.date(1900, 5, 29), datetime.date(1900, 5, 28), datetime.date(1900, 5, 21), datetime.date(1900, 5, 25), datetime.date(1900, 5, 16), datetime.date(1900, 5, 30), datetime.date(1900, 5, 20), datetime.date(1900, 5, 7), datetime.date(1900, 5, 12), datetime.date(1900, 5, 2), datetime.date(1900, 5, 26), datetime.date(1900, 5, 5), datetime.date(1900, 5, 15), datetime.date(1900, 5, 24), datetime.date(1900, 5, 21), datetime.date(1900, 5, 28), datetime.date(1900, 5, 3), datetime.date(1900, 5, 21), datetime.date(1900, 5, 11), datetime.date(1900, 5, 9), datetime.date(1900, 5, 6), datetime.date(1900, 5, 1), datetime.date(1900, 5, 2), datetime.date(1900, 5, 17), datetime.date(1900, 5, 6), datetime.date(1900, 5, 16), datetime.date(1900, 5, 24), datetime.date(1900, 5, 10), datetime.date(1900, 5, 17), datetime.date(1900, 5, 1), datetime.date(1900, 5, 9), datetime.date(1900, 5, 24), datetime.date(1900, 5, 8), datetime.date(1900, 5, 8), datetime.date(1900, 5, 7), datetime.date(1900, 5, 19), datetime.date(1900, 5, 5), datetime.date(1900, 5, 29), datetime.date(1900, 5, 31), datetime.date(1900, 5, 13), datetime.date(1900, 5, 2), datetime.date(1900, 5, 16), datetime.date(1900, 5, 25), datetime.date(1900, 5, 23), datetime.date(1900, 5, 18), datetime.date(1900, 5, 14), datetime.date(1900, 5, 10), datetime.date(1900, 5, 11), datetime.date(1900, 5, 30), datetime.date(1900, 5, 12), datetime.date(1900, 5, 14), datetime.date(1900, 5, 21), datetime.date(1900, 5, 4), datetime.date(1900, 5, 25), datetime.date(1900, 5, 30), datetime.date(1900, 5, 2), datetime.date(1900, 5, 10), datetime.date(1900, 5, 30), datetime.date(1900, 5, 25), datetime.date(1900, 5, 9), datetime.date(1900, 5, 22), datetime.date(1900, 5, 22), datetime.date(1900, 5, 23), datetime.date(1900, 5, 18), datetime.date(1900, 5, 11), datetime.date(1900, 5, 22), datetime.date(1900, 5, 28), datetime.date(1900, 5, 23), datetime.date(1900, 5, 10), datetime.date(1900, 5, 5), datetime.date(1900, 5, 12), datetime.date(1900, 5, 13), datetime.date(1900, 5, 31), datetime.date(1900, 5, 1), datetime.date(1900, 5, 17), datetime.date(1900, 5, 11), datetime.date(1900, 5, 8), datetime.date(1900, 5, 11), datetime.date(1900, 5, 23), datetime.date(1900, 5, 25), datetime.date(1900, 5, 12), datetime.date(1900, 5, 2), datetime.date(1900, 5, 11), datetime.date(1900, 5, 27), datetime.date(1900, 5, 19), datetime.date(1900, 5, 5), datetime.date(1900, 5, 11), datetime.date(1900, 5, 26), datetime.date(1900, 5, 11), datetime.date(1900, 5, 30), datetime.date(1900, 5, 21), datetime.date(1900, 5, 9), datetime.date(1900, 5, 6), datetime.date(1900, 5, 3), datetime.date(1900, 5, 31), datetime.date(1900, 5, 8), datetime.date(1900, 5, 22), datetime.date(1900, 5, 6), datetime.date(1900, 5, 3), datetime.date(1900, 5, 6), datetime.date(1900, 5, 10), datetime.date(1900, 5, 25), datetime.date(1900, 5, 23), datetime.date(1900, 5, 16), datetime.date(1900, 5, 5), datetime.date(1900, 5, 11), datetime.date(1900, 5, 14), datetime.date(1900, 5, 3), datetime.date(1900, 5, 7), datetime.date(1900, 5, 14), datetime.date(1900, 5, 9), datetime.date(1900, 5, 29), datetime.date(1900, 5, 5), datetime.date(1900, 5, 13), datetime.date(1900, 5, 31), datetime.date(1900, 5, 22), datetime.date(1900, 5, 20), datetime.date(1900, 5, 24), datetime.date(1900, 5, 28), datetime.date(1900, 5, 12), datetime.date(1900, 5, 14), datetime.date(1900, 5, 30), datetime.date(1900, 5, 1), datetime.date(1900, 5, 13), datetime.date(1900, 5, 4), datetime.date(1900, 5, 27), datetime.date(1900, 5, 11), datetime.date(1900, 5, 16), datetime.date(1900, 5, 29), datetime.date(1900, 5, 2), datetime.date(1900, 5, 4), datetime.date(1900, 5, 5), datetime.date(1900, 5, 26), datetime.date(1900, 5, 12), datetime.date(1900, 5, 7), datetime.date(1900, 5, 16), datetime.date(1900, 5, 24), datetime.date(1900, 5, 8), datetime.date(1900, 5, 17), datetime.date(1900, 5, 7), datetime.date(1900, 5, 13), datetime.date(1900, 5, 27), datetime.date(1900, 5, 17), datetime.date(1900, 5, 1), datetime.date(1900, 5, 16), datetime.date(1900, 5, 7), datetime.date(1900, 5, 7), datetime.date(1900, 5, 13), datetime.date(1900, 5, 12), datetime.date(1900, 5, 26), datetime.date(1900, 5, 17), datetime.date(1900, 5, 3), datetime.date(1900, 5, 26), datetime.date(1900, 5, 25), datetime.date(1900, 5, 30), datetime.date(1900, 5, 21), datetime.date(1900, 5, 17), datetime.date(1900, 5, 14), datetime.date(1900, 5, 12), datetime.date(1900, 5, 18), datetime.date(1900, 5, 1), datetime.date(1900, 5, 12), datetime.date(1900, 5, 25), datetime.date(1900, 5, 8), datetime.date(1900, 5, 22), datetime.date(1900, 5, 29), datetime.date(1900, 5, 2), datetime.date(1900, 5, 27), datetime.date(1900, 5, 12), datetime.date(1900, 5, 12), datetime.date(1900, 5, 24), datetime.date(1900, 5, 4), datetime.date(1900, 5, 19), datetime.date(1900, 5, 9), datetime.date(1900, 5, 5), datetime.date(1900, 5, 17), datetime.date(1900, 5, 1), datetime.date(1900, 5, 5), datetime.date(1900, 5, 1), datetime.date(1900, 5, 22), datetime.date(1900, 5, 22), datetime.date(1900, 5, 13), datetime.date(1900, 5, 30), datetime.date(1900, 5, 7), datetime.date(1900, 5, 5), datetime.date(1900, 5, 31), datetime.date(1900, 5, 5), datetime.date(1900, 5, 16), datetime.date(1900, 5, 24), datetime.date(1900, 5, 18), datetime.date(1900, 5, 1), datetime.date(1900, 5, 22), datetime.date(1900, 5, 4), datetime.date(1900, 5, 12), datetime.date(1900, 5, 25), datetime.date(1900, 5, 7), datetime.date(1900, 5, 11), datetime.date(1900, 5, 22), datetime.date(1900, 5, 29), datetime.date(1900, 5, 25), datetime.date(1900, 5, 21), datetime.date(1900, 5, 28), datetime.date(1900, 5, 28), datetime.date(1900, 5, 28), datetime.date(1900, 5, 27), datetime.date(1900, 5, 4), datetime.date(1900, 5, 22), datetime.date(1900, 5, 5), datetime.date(1900, 5, 25), datetime.date(1900, 5, 16), datetime.date(1900, 5, 11), datetime.date(1900, 5, 4), datetime.date(1900, 5, 2), datetime.date(1900, 5, 12), datetime.date(1900, 5, 12), datetime.date(1900, 5, 12), datetime.date(1900, 5, 17), datetime.date(1900, 5, 24), datetime.date(1900, 5, 19), datetime.date(1900, 5, 19), datetime.date(1900, 5, 8), datetime.date(1900, 5, 7), datetime.date(1900, 5, 3), datetime.date(1900, 5, 11), datetime.date(1900, 5, 24), datetime.date(1900, 5, 8), datetime.date(1900, 5, 29), datetime.date(1900, 5, 17), datetime.date(1900, 5, 6), datetime.date(1900, 5, 5), datetime.date(1900, 5, 19), datetime.date(1900, 5, 14), datetime.date(1900, 5, 30), datetime.date(1900, 5, 19), datetime.date(1900, 5, 16), datetime.date(1900, 5, 23), datetime.date(1900, 5, 26), datetime.date(1900, 5, 19), datetime.date(1900, 5, 30), datetime.date(1900, 5, 16), datetime.date(1900, 5, 16), datetime.date(1900, 5, 16), datetime.date(1900, 5, 8), datetime.date(1900, 5, 27), datetime.date(1900, 5, 11), datetime.date(1900, 5, 30), datetime.date(1900, 5, 14), datetime.date(1900, 5, 8), datetime.date(1900, 5, 27), datetime.date(1900, 5, 27), datetime.date(1900, 5, 19), datetime.date(1900, 5, 25), datetime.date(1900, 5, 9), datetime.date(1900, 5, 8), datetime.date(1900, 5, 30), datetime.date(1900, 5, 12), datetime.date(1900, 5, 27), datetime.date(1900, 5, 13), datetime.date(1900, 5, 29), datetime.date(1900, 5, 4), datetime.date(1900, 5, 13), datetime.date(1900, 5, 27), datetime.date(1900, 5, 30), datetime.date(1900, 5, 31), datetime.date(1900, 5, 24), datetime.date(1900, 5, 3), datetime.date(1900, 5, 8), datetime.date(1900, 5, 30), datetime.date(1900, 5, 18), datetime.date(1900, 5, 9), datetime.date(1900, 5, 21), datetime.date(1900, 5, 17), datetime.date(1900, 5, 3), datetime.date(1900, 5, 19), datetime.date(1900, 5, 25), datetime.date(1900, 5, 18), datetime.date(1900, 5, 25), datetime.date(1900, 5, 11), datetime.date(1900, 5, 19), datetime.date(1900, 5, 13), datetime.date(1900, 5, 4), datetime.date(1900, 5, 28), datetime.date(1900, 5, 19), datetime.date(1900, 5, 12), datetime.date(1900, 5, 18), datetime.date(1900, 5, 12), datetime.date(1900, 5, 22), datetime.date(1900, 5, 8), datetime.date(1900, 5, 16), datetime.date(1900, 5, 9), datetime.date(1900, 5, 21), datetime.date(1900, 5, 12), datetime.date(1900, 5, 14), datetime.date(1900, 5, 6), datetime.date(1900, 5, 9), datetime.date(1900, 5, 5), datetime.date(1900, 5, 11), datetime.date(1900, 5, 4), datetime.date(1900, 5, 12), datetime.date(1900, 5, 4), datetime.date(1900, 5, 21), datetime.date(1900, 5, 8), datetime.date(1900, 5, 17), datetime.date(1900, 5, 12), datetime.date(1900, 5, 5), datetime.date(1900, 5, 3), datetime.date(1900, 5, 2), datetime.date(1900, 5, 9), datetime.date(1900, 5, 14), datetime.date(1900, 5, 21), datetime.date(1900, 5, 16), datetime.date(1900, 5, 16), datetime.date(1900, 5, 18), datetime.date(1900, 5, 29), datetime.date(1900, 5, 3), datetime.date(1900, 5, 21), datetime.date(1900, 5, 6), datetime.date(1900, 5, 10), datetime.date(1900, 5, 4), datetime.date(1900, 5, 10), datetime.date(1900, 5, 14), datetime.date(1900, 5, 28), datetime.date(1900, 5, 17), datetime.date(1900, 5, 28), datetime.date(1900, 5, 4), datetime.date(1900, 5, 28), datetime.date(1900, 5, 29), datetime.date(1900, 5, 30), datetime.date(1900, 5, 11), datetime.date(1900, 5, 5), datetime.date(1900, 5, 1), datetime.date(1900, 5, 9), datetime.date(1900, 5, 20), datetime.date(1900, 5, 9), datetime.date(1900, 5, 19), datetime.date(1900, 5, 6), datetime.date(1900, 5, 27), datetime.date(1900, 5, 25), datetime.date(1900, 5, 12), datetime.date(1900, 5, 16), datetime.date(1900, 5, 1), datetime.date(1900, 5, 16), datetime.date(1900, 5, 10), datetime.date(1900, 5, 9), datetime.date(1900, 5, 5), datetime.date(1900, 5, 11), datetime.date(1900, 5, 8), datetime.date(1900, 5, 30), datetime.date(1900, 5, 12), datetime.date(1900, 5, 25), datetime.date(1900, 5, 12), datetime.date(1900, 5, 28), datetime.date(1900, 5, 12), datetime.date(1900, 5, 26), datetime.date(1900, 5, 10), datetime.date(1900, 5, 18), datetime.date(1900, 5, 23), datetime.date(1900, 5, 12), datetime.date(1900, 5, 12), datetime.date(1900, 5, 13), datetime.date(1900, 5, 12), datetime.date(1900, 5, 2), datetime.date(1900, 5, 4), datetime.date(1900, 5, 7), datetime.date(1900, 5, 1), datetime.date(1900, 5, 21), datetime.date(1900, 5, 4), datetime.date(1900, 5, 3), datetime.date(1900, 5, 7), datetime.date(1900, 5, 8), datetime.date(1900, 5, 20), datetime.date(1900, 5, 27), datetime.date(1900, 5, 11), datetime.date(1900, 5, 29), datetime.date(1900, 5, 26), datetime.date(1900, 5, 4), datetime.date(1900, 5, 4), datetime.date(1900, 5, 7), datetime.date(1900, 5, 2), datetime.date(1900, 5, 5), datetime.date(1900, 5, 10), datetime.date(1900, 5, 5), datetime.date(1900, 5, 4), datetime.date(1900, 5, 9), datetime.date(1900, 5, 27), datetime.date(1900, 5, 22), datetime.date(1900, 5, 8), datetime.date(1900, 5, 27), datetime.date(1900, 5, 25), datetime.date(1900, 5, 7), datetime.date(1900, 5, 11), datetime.date(1900, 5, 24), datetime.date(1900, 5, 17), datetime.date(1900, 5, 5), datetime.date(1900, 5, 16), datetime.date(1900, 5, 5), datetime.date(1900, 5, 30), datetime.date(1900, 5, 17), datetime.date(1900, 5, 8), datetime.date(1900, 5, 18), datetime.date(1900, 5, 14), datetime.date(1900, 5, 20), datetime.date(1900, 5, 8), datetime.date(1900, 5, 4), datetime.date(1900, 5, 6), datetime.date(1900, 5, 24), datetime.date(1900, 5, 26), datetime.date(1900, 5, 10), datetime.date(1900, 5, 21), datetime.date(1900, 5, 27), datetime.date(1900, 5, 29), datetime.date(1900, 5, 23), datetime.date(1900, 5, 12), datetime.date(1900, 5, 16), datetime.date(1900, 5, 26), datetime.date(1900, 5, 9), datetime.date(1900, 5, 8), datetime.date(1900, 5, 3), datetime.date(1900, 5, 31), datetime.date(1900, 5, 14), datetime.date(1900, 5, 19), datetime.date(1900, 5, 3), datetime.date(1900, 5, 6), datetime.date(1900, 5, 23), datetime.date(1900, 5, 27), datetime.date(1900, 5, 15), datetime.date(1900, 5, 30), datetime.date(1900, 5, 7), datetime.date(1900, 5, 11), datetime.date(1900, 5, 27), datetime.date(1900, 5, 6), datetime.date(1900, 5, 28), datetime.date(1900, 5, 23), datetime.date(1900, 5, 27), datetime.date(1900, 5, 9), datetime.date(1900, 5, 7), datetime.date(1900, 5, 25), datetime.date(1900, 5, 28), datetime.date(1900, 5, 2), datetime.date(1900, 5, 27), datetime.date(1900, 5, 1), datetime.date(1900, 5, 23), datetime.date(1900, 5, 31), datetime.date(1900, 5, 3), datetime.date(1900, 5, 6), datetime.date(1900, 5, 22), datetime.date(1900, 5, 1), datetime.date(1900, 5, 21), datetime.date(1900, 5, 24), datetime.date(1900, 5, 13), datetime.date(1900, 5, 9), datetime.date(1900, 5, 10), datetime.date(1900, 5, 20), datetime.date(1900, 5, 17), datetime.date(1900, 5, 4), datetime.date(1900, 5, 13), datetime.date(1900, 5, 9), datetime.date(1900, 5, 17), datetime.date(1900, 5, 16), datetime.date(1900, 5, 5), datetime.date(1900, 5, 8), datetime.date(1900, 5, 13), datetime.date(1900, 5, 20), datetime.date(1900, 5, 9), datetime.date(1900, 5, 17), datetime.date(1900, 5, 30), datetime.date(1900, 5, 13), datetime.date(1900, 5, 6), datetime.date(1900, 5, 6), datetime.date(1900, 5, 22), datetime.date(1900, 5, 12), datetime.date(1900, 5, 25), datetime.date(1900, 5, 23), datetime.date(1900, 5, 11), datetime.date(1900, 5, 21), datetime.date(1900, 5, 28), datetime.date(1900, 5, 4), datetime.date(1900, 5, 21), datetime.date(1900, 5, 24), datetime.date(1900, 5, 29), datetime.date(1900, 5, 10), datetime.date(1900, 5, 14), datetime.date(1900, 5, 23), datetime.date(1900, 5, 1), datetime.date(1900, 5, 30), datetime.date(1900, 5, 19), datetime.date(1900, 5, 5), datetime.date(1900, 5, 24), datetime.date(1900, 5, 6), datetime.date(1900, 5, 10), datetime.date(1900, 5, 4), datetime.date(1900, 5, 5), datetime.date(1900, 5, 19), datetime.date(1900, 5, 2), datetime.date(1900, 5, 5), datetime.date(1900, 5, 18), datetime.date(1900, 5, 7), datetime.date(1900, 5, 2), datetime.date(1900, 5, 24), datetime.date(1900, 5, 13), datetime.date(1900, 5, 25), datetime.date(1900, 5, 29), datetime.date(1900, 5, 2), datetime.date(1900, 5, 8), datetime.date(1900, 5, 12), datetime.date(1900, 5, 21), datetime.date(1900, 5, 3), datetime.date(1900, 5, 5), datetime.date(1900, 5, 22), datetime.date(1900, 5, 13), datetime.date(1900, 5, 17), datetime.date(1900, 5, 30), datetime.date(1900, 5, 23), datetime.date(1900, 5, 27), datetime.date(1900, 5, 10), datetime.date(1900, 5, 12), datetime.date(1900, 5, 17), datetime.date(1900, 5, 9), datetime.date(1900, 5, 3), datetime.date(1900, 5, 22), datetime.date(1900, 5, 25), datetime.date(1900, 5, 19), datetime.date(1900, 5, 30), datetime.date(1900, 5, 19), datetime.date(1900, 5, 17), datetime.date(1900, 5, 5), datetime.date(1900, 5, 24), datetime.date(1900, 5, 26), datetime.date(1900, 5, 16), datetime.date(1900, 5, 25), datetime.date(1900, 5, 10), datetime.date(1900, 5, 12), datetime.date(1900, 5, 24), datetime.date(1900, 5, 3), datetime.date(1900, 5, 1), datetime.date(1900, 5, 3), datetime.date(1900, 5, 28), datetime.date(1900, 5, 5), datetime.date(1900, 5, 3), datetime.date(1900, 5, 16), datetime.date(1900, 5, 27), datetime.date(1900, 5, 2), datetime.date(1900, 5, 1), datetime.date(1900, 5, 21), datetime.date(1900, 5, 1), datetime.date(1900, 5, 18), datetime.date(1900, 5, 26), datetime.date(1900, 5, 28), datetime.date(1900, 5, 4), datetime.date(1900, 5, 30), datetime.date(1900, 5, 22), datetime.date(1900, 5, 16), datetime.date(1900, 5, 17), datetime.date(1900, 5, 1), datetime.date(1900, 5, 14), datetime.date(1900, 5, 8), datetime.date(1900, 5, 21), datetime.date(1900, 5, 18), datetime.date(1900, 5, 14), datetime.date(1900, 5, 25), datetime.date(1900, 5, 9), datetime.date(1900, 5, 11), datetime.date(1900, 5, 25), datetime.date(1900, 5, 28), datetime.date(1900, 5, 5), datetime.date(1900, 5, 30), datetime.date(1900, 5, 10), datetime.date(1900, 5, 13), datetime.date(1900, 5, 8), datetime.date(1900, 5, 14), datetime.date(1900, 5, 25), datetime.date(1900, 5, 2), datetime.date(1900, 5, 25), datetime.date(1900, 5, 2), datetime.date(1900, 5, 14), datetime.date(1900, 5, 13), datetime.date(1900, 5, 11), datetime.date(1900, 5, 2), datetime.date(1900, 5, 11), datetime.date(1900, 5, 22), datetime.date(1900, 5, 24), datetime.date(1900, 5, 18), datetime.date(1900, 5, 12), datetime.date(1900, 5, 20), datetime.date(1900, 5, 10), datetime.date(1900, 5, 29), datetime.date(1900, 5, 26), datetime.date(1900, 5, 3), datetime.date(1900, 5, 30), datetime.date(1900, 5, 22), datetime.date(1900, 5, 2), datetime.date(1900, 5, 25), datetime.date(1900, 5, 26), datetime.date(1900, 5, 12), datetime.date(1900, 5, 9), datetime.date(1900, 5, 9), datetime.date(1900, 5, 19), datetime.date(1900, 5, 21), datetime.date(1900, 5, 28), datetime.date(1900, 5, 13), datetime.date(1900, 5, 13), datetime.date(1900, 5, 6), datetime.date(1900, 5, 10), datetime.date(1900, 5, 12), datetime.date(1900, 5, 28), datetime.date(1900, 5, 11), datetime.date(1900, 5, 17), datetime.date(1900, 5, 8), datetime.date(1900, 5, 8), datetime.date(1900, 5, 28), datetime.date(1900, 5, 26), datetime.date(1900, 5, 17)]\n"
     ]
    }
   ],
   "source": [
    "table2 = get_cells_data(user_data_session, list(subs_csi['SK_ID']), list(subs_csi['CONTACT_DATE'].apply(lambda x:datetime.strptime(x, '%d.%m').date())), count_days)"
   ]
  },
  {
   "cell_type": "code",
   "execution_count": 316,
   "metadata": {
    "collapsed": true
   },
   "outputs": [],
   "source": [
    "data2 = pd.DataFrame(data=table2)"
   ]
  },
  {
   "cell_type": "code",
   "execution_count": 317,
   "metadata": {},
   "outputs": [
    {
     "data": {
      "text/html": [
       "<div>\n",
       "<style scoped>\n",
       "    .dataframe tbody tr th:only-of-type {\n",
       "        vertical-align: middle;\n",
       "    }\n",
       "\n",
       "    .dataframe tbody tr th {\n",
       "        vertical-align: top;\n",
       "    }\n",
       "\n",
       "    .dataframe thead th {\n",
       "        text-align: right;\n",
       "    }\n",
       "</style>\n",
       "<table border=\"1\" class=\"dataframe\">\n",
       "  <thead>\n",
       "    <tr style=\"text-align: right;\">\n",
       "      <th></th>\n",
       "      <th>0</th>\n",
       "      <th>1</th>\n",
       "      <th>2</th>\n",
       "      <th>3</th>\n",
       "      <th>4</th>\n",
       "      <th>5</th>\n",
       "      <th>6</th>\n",
       "      <th>7</th>\n",
       "      <th>8</th>\n",
       "      <th>9</th>\n",
       "      <th>...</th>\n",
       "      <th>170</th>\n",
       "      <th>171</th>\n",
       "      <th>172</th>\n",
       "      <th>173</th>\n",
       "      <th>174</th>\n",
       "      <th>175</th>\n",
       "      <th>176</th>\n",
       "      <th>177</th>\n",
       "      <th>178</th>\n",
       "      <th>179</th>\n",
       "    </tr>\n",
       "  </thead>\n",
       "  <tbody>\n",
       "    <tr>\n",
       "      <th>0</th>\n",
       "      <td>0.0</td>\n",
       "      <td>0.0</td>\n",
       "      <td>0.002705</td>\n",
       "      <td>0</td>\n",
       "      <td>0</td>\n",
       "      <td>2</td>\n",
       "      <td>0.0</td>\n",
       "      <td>0.0</td>\n",
       "      <td>0.000899</td>\n",
       "      <td>0</td>\n",
       "      <td>...</td>\n",
       "      <td>0.003029</td>\n",
       "      <td>1</td>\n",
       "      <td>1</td>\n",
       "      <td>8</td>\n",
       "      <td>0.0</td>\n",
       "      <td>0.0</td>\n",
       "      <td>0.000082</td>\n",
       "      <td>0</td>\n",
       "      <td>0</td>\n",
       "      <td>4</td>\n",
       "    </tr>\n",
       "  </tbody>\n",
       "</table>\n",
       "<p>1 rows × 180 columns</p>\n",
       "</div>"
      ],
      "text/plain": [
       "   0    1         2    3    4    5    6    7         8    9   ...        170  \\\n",
       "0  0.0  0.0  0.002705    0    0    2  0.0  0.0  0.000899    0 ...   0.003029   \n",
       "\n",
       "   171  172  173  174  175       176  177  178  179  \n",
       "0    1    1    8  0.0  0.0  0.000082    0    0    4  \n",
       "\n",
       "[1 rows x 180 columns]"
      ]
     },
     "execution_count": 317,
     "metadata": {},
     "output_type": "execute_result"
    }
   ],
   "source": [
    "data2.head(1)"
   ]
  },
  {
   "cell_type": "code",
   "execution_count": null,
   "metadata": {
    "collapsed": true
   },
   "outputs": [],
   "source": []
  },
  {
   "cell_type": "code",
   "execution_count": 320,
   "metadata": {},
   "outputs": [],
   "source": [
    "table3 = get_cells_data(user_voice_session, list(subs_csi['SK_ID']), list(subs_csi['CONTACT_DATE'].apply(lambda x:datetime.strptime(x, '%d.%m').date())), count_days)"
   ]
  },
  {
   "cell_type": "code",
   "execution_count": 321,
   "metadata": {},
   "outputs": [],
   "source": [
    "data3 = pd.DataFrame(data=table3)"
   ]
  },
  {
   "cell_type": "code",
   "execution_count": 322,
   "metadata": {},
   "outputs": [
    {
     "data": {
      "text/html": [
       "<div>\n",
       "<style scoped>\n",
       "    .dataframe tbody tr th:only-of-type {\n",
       "        vertical-align: middle;\n",
       "    }\n",
       "\n",
       "    .dataframe tbody tr th {\n",
       "        vertical-align: top;\n",
       "    }\n",
       "\n",
       "    .dataframe thead th {\n",
       "        text-align: right;\n",
       "    }\n",
       "</style>\n",
       "<table border=\"1\" class=\"dataframe\">\n",
       "  <thead>\n",
       "    <tr style=\"text-align: right;\">\n",
       "      <th></th>\n",
       "      <th>0</th>\n",
       "      <th>1</th>\n",
       "      <th>2</th>\n",
       "      <th>3</th>\n",
       "      <th>4</th>\n",
       "      <th>5</th>\n",
       "      <th>6</th>\n",
       "      <th>7</th>\n",
       "      <th>8</th>\n",
       "      <th>9</th>\n",
       "      <th>...</th>\n",
       "      <th>170</th>\n",
       "      <th>171</th>\n",
       "      <th>172</th>\n",
       "      <th>173</th>\n",
       "      <th>174</th>\n",
       "      <th>175</th>\n",
       "      <th>176</th>\n",
       "      <th>177</th>\n",
       "      <th>178</th>\n",
       "      <th>179</th>\n",
       "    </tr>\n",
       "  </thead>\n",
       "  <tbody>\n",
       "    <tr>\n",
       "      <th>0</th>\n",
       "      <td>0.0</td>\n",
       "      <td>0.0</td>\n",
       "      <td>0.0</td>\n",
       "      <td>0</td>\n",
       "      <td>0</td>\n",
       "      <td>0</td>\n",
       "      <td>0.006389</td>\n",
       "      <td>0.0</td>\n",
       "      <td>0.0</td>\n",
       "      <td>1</td>\n",
       "      <td>...</td>\n",
       "      <td>0.0</td>\n",
       "      <td>0</td>\n",
       "      <td>7</td>\n",
       "      <td>0</td>\n",
       "      <td>0.0</td>\n",
       "      <td>0.094028</td>\n",
       "      <td>0.0</td>\n",
       "      <td>0</td>\n",
       "      <td>5</td>\n",
       "      <td>0</td>\n",
       "    </tr>\n",
       "  </tbody>\n",
       "</table>\n",
       "<p>1 rows × 180 columns</p>\n",
       "</div>"
      ],
      "text/plain": [
       "   0    1    2    3    4    5         6    7    8    9   ...   170  171  172  \\\n",
       "0  0.0  0.0  0.0    0    0    0  0.006389  0.0  0.0    1 ...   0.0    0    7   \n",
       "\n",
       "   173  174       175  176  177  178  179  \n",
       "0    0  0.0  0.094028  0.0    0    5    0  \n",
       "\n",
       "[1 rows x 180 columns]"
      ]
     },
     "execution_count": 322,
     "metadata": {},
     "output_type": "execute_result"
    }
   ],
   "source": [
    "data3.head(1)"
   ]
  },
  {
   "cell_type": "code",
   "execution_count": 323,
   "metadata": {},
   "outputs": [
    {
     "data": {
      "text/html": [
       "<div>\n",
       "<style scoped>\n",
       "    .dataframe tbody tr th:only-of-type {\n",
       "        vertical-align: middle;\n",
       "    }\n",
       "\n",
       "    .dataframe tbody tr th {\n",
       "        vertical-align: top;\n",
       "    }\n",
       "\n",
       "    .dataframe thead th {\n",
       "        text-align: right;\n",
       "    }\n",
       "</style>\n",
       "<table border=\"1\" class=\"dataframe\">\n",
       "  <thead>\n",
       "    <tr style=\"text-align: right;\">\n",
       "      <th></th>\n",
       "      <th>0</th>\n",
       "      <th>1</th>\n",
       "      <th>2</th>\n",
       "      <th>3</th>\n",
       "      <th>4</th>\n",
       "      <th>5</th>\n",
       "      <th>6</th>\n",
       "      <th>7</th>\n",
       "      <th>8</th>\n",
       "      <th>9</th>\n",
       "      <th>...</th>\n",
       "      <th>170</th>\n",
       "      <th>171</th>\n",
       "      <th>172</th>\n",
       "      <th>173</th>\n",
       "      <th>174</th>\n",
       "      <th>175</th>\n",
       "      <th>176</th>\n",
       "      <th>177</th>\n",
       "      <th>178</th>\n",
       "      <th>179</th>\n",
       "    </tr>\n",
       "  </thead>\n",
       "  <tbody>\n",
       "    <tr>\n",
       "      <th>count</th>\n",
       "      <td>4222.000000</td>\n",
       "      <td>4222.000000</td>\n",
       "      <td>4222.000000</td>\n",
       "      <td>4222.000000</td>\n",
       "      <td>4222.000000</td>\n",
       "      <td>4222.000000</td>\n",
       "      <td>4222.000000</td>\n",
       "      <td>4222.000000</td>\n",
       "      <td>4222.000000</td>\n",
       "      <td>4222.000000</td>\n",
       "      <td>...</td>\n",
       "      <td>4222.000000</td>\n",
       "      <td>4222.000000</td>\n",
       "      <td>4222.000000</td>\n",
       "      <td>4222.000000</td>\n",
       "      <td>4222.000000</td>\n",
       "      <td>4222.000000</td>\n",
       "      <td>4222.000000</td>\n",
       "      <td>4222.000000</td>\n",
       "      <td>4222.000000</td>\n",
       "      <td>4222.000000</td>\n",
       "    </tr>\n",
       "    <tr>\n",
       "      <th>mean</th>\n",
       "      <td>0.030780</td>\n",
       "      <td>0.042888</td>\n",
       "      <td>0.001331</td>\n",
       "      <td>0.913548</td>\n",
       "      <td>1.726196</td>\n",
       "      <td>0.038844</td>\n",
       "      <td>0.027487</td>\n",
       "      <td>0.047986</td>\n",
       "      <td>0.000857</td>\n",
       "      <td>1.239460</td>\n",
       "      <td>...</td>\n",
       "      <td>0.001051</td>\n",
       "      <td>1.199905</td>\n",
       "      <td>2.400758</td>\n",
       "      <td>0.052582</td>\n",
       "      <td>0.027271</td>\n",
       "      <td>0.045264</td>\n",
       "      <td>0.000645</td>\n",
       "      <td>1.200142</td>\n",
       "      <td>2.402653</td>\n",
       "      <td>0.044529</td>\n",
       "    </tr>\n",
       "    <tr>\n",
       "      <th>std</th>\n",
       "      <td>0.059531</td>\n",
       "      <td>0.069978</td>\n",
       "      <td>0.014715</td>\n",
       "      <td>1.596419</td>\n",
       "      <td>2.980132</td>\n",
       "      <td>0.321256</td>\n",
       "      <td>0.070834</td>\n",
       "      <td>0.095626</td>\n",
       "      <td>0.012892</td>\n",
       "      <td>2.110482</td>\n",
       "      <td>...</td>\n",
       "      <td>0.012348</td>\n",
       "      <td>2.226314</td>\n",
       "      <td>3.732463</td>\n",
       "      <td>0.445123</td>\n",
       "      <td>0.078554</td>\n",
       "      <td>0.096631</td>\n",
       "      <td>0.008720</td>\n",
       "      <td>2.197211</td>\n",
       "      <td>3.807295</td>\n",
       "      <td>0.364768</td>\n",
       "    </tr>\n",
       "    <tr>\n",
       "      <th>min</th>\n",
       "      <td>0.000000</td>\n",
       "      <td>0.000000</td>\n",
       "      <td>0.000000</td>\n",
       "      <td>0.000000</td>\n",
       "      <td>0.000000</td>\n",
       "      <td>0.000000</td>\n",
       "      <td>0.000000</td>\n",
       "      <td>0.000000</td>\n",
       "      <td>0.000000</td>\n",
       "      <td>0.000000</td>\n",
       "      <td>...</td>\n",
       "      <td>0.000000</td>\n",
       "      <td>0.000000</td>\n",
       "      <td>0.000000</td>\n",
       "      <td>0.000000</td>\n",
       "      <td>0.000000</td>\n",
       "      <td>0.000000</td>\n",
       "      <td>0.000000</td>\n",
       "      <td>0.000000</td>\n",
       "      <td>0.000000</td>\n",
       "      <td>0.000000</td>\n",
       "    </tr>\n",
       "    <tr>\n",
       "      <th>25%</th>\n",
       "      <td>0.000000</td>\n",
       "      <td>0.000000</td>\n",
       "      <td>0.000000</td>\n",
       "      <td>0.000000</td>\n",
       "      <td>0.000000</td>\n",
       "      <td>0.000000</td>\n",
       "      <td>0.000000</td>\n",
       "      <td>0.000000</td>\n",
       "      <td>0.000000</td>\n",
       "      <td>0.000000</td>\n",
       "      <td>...</td>\n",
       "      <td>0.000000</td>\n",
       "      <td>0.000000</td>\n",
       "      <td>0.000000</td>\n",
       "      <td>0.000000</td>\n",
       "      <td>0.000000</td>\n",
       "      <td>0.000000</td>\n",
       "      <td>0.000000</td>\n",
       "      <td>0.000000</td>\n",
       "      <td>0.000000</td>\n",
       "      <td>0.000000</td>\n",
       "    </tr>\n",
       "    <tr>\n",
       "      <th>50%</th>\n",
       "      <td>0.000000</td>\n",
       "      <td>0.000243</td>\n",
       "      <td>0.000000</td>\n",
       "      <td>0.000000</td>\n",
       "      <td>1.000000</td>\n",
       "      <td>0.000000</td>\n",
       "      <td>0.000208</td>\n",
       "      <td>0.003333</td>\n",
       "      <td>0.000000</td>\n",
       "      <td>1.000000</td>\n",
       "      <td>...</td>\n",
       "      <td>0.000000</td>\n",
       "      <td>0.000000</td>\n",
       "      <td>0.000000</td>\n",
       "      <td>0.000000</td>\n",
       "      <td>0.000000</td>\n",
       "      <td>0.000000</td>\n",
       "      <td>0.000000</td>\n",
       "      <td>0.000000</td>\n",
       "      <td>0.000000</td>\n",
       "      <td>0.000000</td>\n",
       "    </tr>\n",
       "    <tr>\n",
       "      <th>75%</th>\n",
       "      <td>0.058889</td>\n",
       "      <td>0.071094</td>\n",
       "      <td>0.000000</td>\n",
       "      <td>1.000000</td>\n",
       "      <td>2.000000</td>\n",
       "      <td>0.000000</td>\n",
       "      <td>0.020972</td>\n",
       "      <td>0.055729</td>\n",
       "      <td>0.000000</td>\n",
       "      <td>2.000000</td>\n",
       "      <td>...</td>\n",
       "      <td>0.000000</td>\n",
       "      <td>2.000000</td>\n",
       "      <td>4.000000</td>\n",
       "      <td>0.000000</td>\n",
       "      <td>0.019722</td>\n",
       "      <td>0.049844</td>\n",
       "      <td>0.000000</td>\n",
       "      <td>2.000000</td>\n",
       "      <td>4.000000</td>\n",
       "      <td>0.000000</td>\n",
       "    </tr>\n",
       "    <tr>\n",
       "      <th>max</th>\n",
       "      <td>1.277153</td>\n",
       "      <td>0.870556</td>\n",
       "      <td>0.437639</td>\n",
       "      <td>25.000000</td>\n",
       "      <td>59.000000</td>\n",
       "      <td>8.000000</td>\n",
       "      <td>1.329375</td>\n",
       "      <td>1.128472</td>\n",
       "      <td>0.643125</td>\n",
       "      <td>35.000000</td>\n",
       "      <td>...</td>\n",
       "      <td>0.305347</td>\n",
       "      <td>51.000000</td>\n",
       "      <td>38.000000</td>\n",
       "      <td>10.000000</td>\n",
       "      <td>2.098819</td>\n",
       "      <td>1.309722</td>\n",
       "      <td>0.355694</td>\n",
       "      <td>34.000000</td>\n",
       "      <td>50.000000</td>\n",
       "      <td>6.000000</td>\n",
       "    </tr>\n",
       "  </tbody>\n",
       "</table>\n",
       "<p>8 rows × 180 columns</p>\n",
       "</div>"
      ],
      "text/plain": [
       "               0            1            2            3            4    \\\n",
       "count  4222.000000  4222.000000  4222.000000  4222.000000  4222.000000   \n",
       "mean      0.030780     0.042888     0.001331     0.913548     1.726196   \n",
       "std       0.059531     0.069978     0.014715     1.596419     2.980132   \n",
       "min       0.000000     0.000000     0.000000     0.000000     0.000000   \n",
       "25%       0.000000     0.000000     0.000000     0.000000     0.000000   \n",
       "50%       0.000000     0.000243     0.000000     0.000000     1.000000   \n",
       "75%       0.058889     0.071094     0.000000     1.000000     2.000000   \n",
       "max       1.277153     0.870556     0.437639    25.000000    59.000000   \n",
       "\n",
       "               5            6            7            8            9    \\\n",
       "count  4222.000000  4222.000000  4222.000000  4222.000000  4222.000000   \n",
       "mean      0.038844     0.027487     0.047986     0.000857     1.239460   \n",
       "std       0.321256     0.070834     0.095626     0.012892     2.110482   \n",
       "min       0.000000     0.000000     0.000000     0.000000     0.000000   \n",
       "25%       0.000000     0.000000     0.000000     0.000000     0.000000   \n",
       "50%       0.000000     0.000208     0.003333     0.000000     1.000000   \n",
       "75%       0.000000     0.020972     0.055729     0.000000     2.000000   \n",
       "max       8.000000     1.329375     1.128472     0.643125    35.000000   \n",
       "\n",
       "          ...               170          171          172          173  \\\n",
       "count     ...       4222.000000  4222.000000  4222.000000  4222.000000   \n",
       "mean      ...          0.001051     1.199905     2.400758     0.052582   \n",
       "std       ...          0.012348     2.226314     3.732463     0.445123   \n",
       "min       ...          0.000000     0.000000     0.000000     0.000000   \n",
       "25%       ...          0.000000     0.000000     0.000000     0.000000   \n",
       "50%       ...          0.000000     0.000000     0.000000     0.000000   \n",
       "75%       ...          0.000000     2.000000     4.000000     0.000000   \n",
       "max       ...          0.305347    51.000000    38.000000    10.000000   \n",
       "\n",
       "               174          175          176          177          178  \\\n",
       "count  4222.000000  4222.000000  4222.000000  4222.000000  4222.000000   \n",
       "mean      0.027271     0.045264     0.000645     1.200142     2.402653   \n",
       "std       0.078554     0.096631     0.008720     2.197211     3.807295   \n",
       "min       0.000000     0.000000     0.000000     0.000000     0.000000   \n",
       "25%       0.000000     0.000000     0.000000     0.000000     0.000000   \n",
       "50%       0.000000     0.000000     0.000000     0.000000     0.000000   \n",
       "75%       0.019722     0.049844     0.000000     2.000000     4.000000   \n",
       "max       2.098819     1.309722     0.355694    34.000000    50.000000   \n",
       "\n",
       "               179  \n",
       "count  4222.000000  \n",
       "mean      0.044529  \n",
       "std       0.364768  \n",
       "min       0.000000  \n",
       "25%       0.000000  \n",
       "50%       0.000000  \n",
       "75%       0.000000  \n",
       "max       6.000000  \n",
       "\n",
       "[8 rows x 180 columns]"
      ]
     },
     "execution_count": 323,
     "metadata": {},
     "output_type": "execute_result"
    }
   ],
   "source": [
    "data3.describe()"
   ]
  },
  {
   "cell_type": "code",
   "execution_count": null,
   "metadata": {
    "collapsed": true
   },
   "outputs": [],
   "source": []
  },
  {
   "cell_type": "code",
   "execution_count": null,
   "metadata": {
    "collapsed": true
   },
   "outputs": [],
   "source": []
  },
  {
   "cell_type": "code",
   "execution_count": 324,
   "metadata": {},
   "outputs": [],
   "source": [
    "res_data = np.hstack((data, data2, data3))"
   ]
  },
  {
   "cell_type": "code",
   "execution_count": null,
   "metadata": {
    "collapsed": true
   },
   "outputs": [],
   "source": []
  },
  {
   "cell_type": "code",
   "execution_count": null,
   "metadata": {
    "collapsed": true
   },
   "outputs": [],
   "source": []
  },
  {
   "cell_type": "code",
   "execution_count": null,
   "metadata": {
    "collapsed": true
   },
   "outputs": [],
   "source": []
  },
  {
   "cell_type": "code",
   "execution_count": null,
   "metadata": {
    "collapsed": true
   },
   "outputs": [],
   "source": []
  },
  {
   "cell_type": "code",
   "execution_count": 325,
   "metadata": {
    "collapsed": true
   },
   "outputs": [],
   "source": [
    "from sklearn import preprocessing"
   ]
  },
  {
   "cell_type": "code",
   "execution_count": 326,
   "metadata": {},
   "outputs": [],
   "source": [
    "if TRAIN:\n",
    "    min_max_scaler = preprocessing.MinMaxScaler()\n",
    "    x_scaled = min_max_scaler.fit_transform(res_data)\n",
    "    res_data = pd.DataFrame(x_scaled)\n",
    "else:\n",
    "    x_scaled = min_max_scaler.transform(res_data)\n",
    "    res_data = pd.DataFrame(x_scaled)"
   ]
  },
  {
   "cell_type": "code",
   "execution_count": 327,
   "metadata": {
    "collapsed": true
   },
   "outputs": [],
   "source": [
    "X = np.asarray(res_data)\n",
    "y = np.asarray(y)"
   ]
  },
  {
   "cell_type": "code",
   "execution_count": 328,
   "metadata": {
    "collapsed": true
   },
   "outputs": [],
   "source": [
    "from sklearn.model_selection import train_test_split"
   ]
  },
  {
   "cell_type": "code",
   "execution_count": 329,
   "metadata": {
    "collapsed": true
   },
   "outputs": [],
   "source": [
    "X_train, X_test, y_train, y_test = train_test_split(X, y, test_size=0.2, random_state=42)"
   ]
  },
  {
   "cell_type": "code",
   "execution_count": null,
   "metadata": {
    "collapsed": true
   },
   "outputs": [],
   "source": []
  },
  {
   "cell_type": "code",
   "execution_count": 330,
   "metadata": {
    "collapsed": true
   },
   "outputs": [],
   "source": [
    "from sklearn.utils.class_weight import compute_class_weight"
   ]
  },
  {
   "cell_type": "code",
   "execution_count": 331,
   "metadata": {
    "collapsed": true
   },
   "outputs": [],
   "source": [
    "from keras.models import Sequential\n",
    "from keras.layers import Dense, Dropout\n",
    "from keras.utils import np_utils\n",
    "from keras.callbacks import EarlyStopping\n",
    "from sklearn.model_selection import train_test_split"
   ]
  },
  {
   "cell_type": "code",
   "execution_count": 332,
   "metadata": {
    "collapsed": true
   },
   "outputs": [],
   "source": [
    "from sklearn.metrics import roc_auc_score\n",
    "from keras import regularizers"
   ]
  },
  {
   "cell_type": "code",
   "execution_count": 333,
   "metadata": {
    "collapsed": true
   },
   "outputs": [],
   "source": [
    "from sklearn import metrics\n",
    "from keras import backend as K\n",
    "import tensorflow as tf\n",
    "def auc(y_true, y_pred):\n",
    "    auc = tf.metrics.auc(y_true, y_pred)[1]\n",
    "    K.get_session().run(tf.local_variables_initializer())\n",
    "    return auc"
   ]
  },
  {
   "cell_type": "code",
   "execution_count": 334,
   "metadata": {
    "collapsed": true
   },
   "outputs": [],
   "source": [
    "def create_dnn_model():\n",
    "    #build Keras model\n",
    "    \n",
    "    model = Sequential()\n",
    "\n",
    "    model.add(Dense(1024, input_shape=(X.shape[1],), activation=\"relu\", kernel_initializer=\"uniform\", kernel_regularizer=regularizers.l2(0.0001)))\n",
    "    for i in range(5):\n",
    "        model.add(Dropout(0.3))\n",
    "        model.add(Dense(256, activation=\"relu\", kernel_initializer=\"uniform\", kernel_regularizer=regularizers.l2(0.001)))\n",
    "\n",
    "    \n",
    "    model.add(Dense(1, activation=\"sigmoid\", kernel_initializer=\"uniform\"))\n",
    "\n",
    "    model.compile(loss='binary_crossentropy', metrics=[auc], optimizer='adam')\n",
    "    return model"
   ]
  },
  {
   "cell_type": "code",
   "execution_count": null,
   "metadata": {},
   "outputs": [
    {
     "name": "stdout",
     "output_type": "stream",
     "text": [
      "Train on 2701 samples, validate on 676 samples\n",
      "Epoch 1/300\n"
     ]
    }
   ],
   "source": [
    "count_epochs = 300\n",
    "class_weights = compute_class_weight('balanced', np.unique(y_train), y_train)\n",
    "model = create_dnn_model()\n",
    "early_stopping_monitor = EarlyStopping(patience=20)\n",
    "history = model.fit(np.array(X_train), np.array(y_train), batch_size = 128, epochs = count_epochs, verbose=1, validation_split=0.2, class_weight=class_weights, callbacks=[plot,early_stopping_monitor])"
   ]
  },
  {
   "cell_type": "code",
   "execution_count": null,
   "metadata": {
    "collapsed": true
   },
   "outputs": [],
   "source": [
    "send_notify('Complete fit')"
   ]
  },
  {
   "cell_type": "code",
   "execution_count": null,
   "metadata": {
    "collapsed": true
   },
   "outputs": [],
   "source": []
  },
  {
   "cell_type": "code",
   "execution_count": 236,
   "metadata": {},
   "outputs": [
    {
     "data": {
      "image/png": "[encoded data removed]",
      "text/plain": [
       "<matplotlib.figure.Figure at 0x1fde618bb00>"
      ]
     },
     "metadata": {},
     "output_type": "display_data"
    }
   ],
   "source": [
    "history_gr = history.history['val_loss']\n",
    "epochs = range(1, len(history_gr) + 1)\n",
    "import matplotlib.pyplot as plt\n",
    "\n",
    "plt.plot(epochs, history_gr, 'b+', label='Original model')\n",
    "plt.xlabel('Epochs')\n",
    "plt.ylabel('Validation loss')\n",
    "plt.legend()\n",
    "\n",
    "plt.show()"
   ]
  },
  {
   "cell_type": "code",
   "execution_count": null,
   "metadata": {
    "collapsed": true
   },
   "outputs": [],
   "source": []
  },
  {
   "cell_type": "code",
   "execution_count": 237,
   "metadata": {},
   "outputs": [
    {
     "name": "stdout",
     "output_type": "stream",
     "text": [
      "Total roc auc score = 0.6726\n"
     ]
    }
   ],
   "source": [
    "predict = model.predict(np.array(X_test))\n",
    "score = roc_auc_score(y_test, predict)\n",
    "print(\"Total roc auc score = {0:0.4f}\".format(score))"
   ]
  },
  {
   "cell_type": "code",
   "execution_count": null,
   "metadata": {
    "collapsed": true
   },
   "outputs": [],
   "source": []
  },
  {
   "cell_type": "code",
   "execution_count": 60,
   "metadata": {
    "collapsed": true
   },
   "outputs": [],
   "source": [
    "model_json = model.to_json()\n",
    "# Записываем модель в файл\n",
    "json_file = open(\"sale_model.json\", \"w\")\n",
    "json_file.write(model_json)\n",
    "json_file.close()\n",
    "model.save_weights(\"sale_model.h5\")"
   ]
  },
  {
   "cell_type": "code",
   "execution_count": null,
   "metadata": {
    "collapsed": true
   },
   "outputs": [],
   "source": []
  },
  {
   "cell_type": "code",
   "execution_count": 103,
   "metadata": {
    "collapsed": true
   },
   "outputs": [],
   "source": [
    "def save_predict(predict):\n",
    "    with open('first.csv', 'w') as f:\n",
    "        for item in predict:\n",
    "            f.write(\"%s\\n\" % item[0])"
   ]
  },
  {
   "cell_type": "code",
   "execution_count": 104,
   "metadata": {
    "collapsed": true
   },
   "outputs": [],
   "source": [
    "save_predict(model.predict(np.array(X)))"
   ]
  },
  {
   "cell_type": "code",
   "execution_count": null,
   "metadata": {
    "collapsed": true
   },
   "outputs": [],
   "source": []
  }
 ],
 "metadata": {
  "kernelspec": {
   "display_name": "Python 3",
   "language": "python",
   "name": "python3"
  },
  "language_info": {
   "codemirror_mode": {
    "name": "ipython",
    "version": 3
   },
   "file_extension": ".py",
   "mimetype": "text/x-python",
   "name": "python",
   "nbconvert_exporter": "python",
   "pygments_lexer": "ipython3",
   "version": "3.6.3"
  }
 },
 "nbformat": 4,
 "nbformat_minor": 2
}
