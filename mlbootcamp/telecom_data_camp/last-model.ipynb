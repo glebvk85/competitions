{
 "cells": [
  {
   "cell_type": "code",
   "execution_count": 1,
   "metadata": {
    "collapsed": true
   },
   "outputs": [],
   "source": [
    "import pandas as pd\n",
    "import numpy as np\n",
    "from datetime import datetime, timedelta\n",
    "from collections import defaultdict"
   ]
  },
  {
   "cell_type": "code",
   "execution_count": null,
   "metadata": {
    "collapsed": true
   },
   "outputs": [],
   "source": []
  },
  {
   "cell_type": "code",
   "execution_count": 2,
   "metadata": {
    "collapsed": true
   },
   "outputs": [],
   "source": [
    "%matplotlib inline"
   ]
  },
  {
   "cell_type": "code",
   "execution_count": null,
   "metadata": {
    "collapsed": true
   },
   "outputs": [],
   "source": []
  },
  {
   "cell_type": "code",
   "execution_count": 3,
   "metadata": {},
   "outputs": [
    {
     "name": "stderr",
     "output_type": "stream",
     "text": [
      "C:\\ProgramData\\Anaconda3\\lib\\site-packages\\h5py\\__init__.py:34: FutureWarning: Conversion of the second argument of issubdtype from `float` to `np.floating` is deprecated. In future, it will be treated as `np.float64 == np.dtype(float).type`.\n",
      "  from ._conv import register_converters as _register_converters\n",
      "Using TensorFlow backend.\n"
     ]
    }
   ],
   "source": [
    "from keras.callbacks import Callback\n",
    "from matplotlib import pyplot as plt\n",
    "from IPython.display import clear_output\n",
    "class PlotLearning(Callback):\n",
    "    def on_train_begin(self, logs={}):\n",
    "        self.i = 0\n",
    "        self.x = []\n",
    "        self.losses = []\n",
    "        self.val_losses = []\n",
    "        self.acc = []\n",
    "        self.val_acc = []\n",
    "        self.fig = plt.figure()\n",
    "        \n",
    "        self.logs = []\n",
    "\n",
    "    def on_epoch_end(self, epoch, logs={}):\n",
    "        \n",
    "        self.logs.append(logs)\n",
    "        self.x.append(self.i)\n",
    "        self.losses.append(logs.get('loss'))\n",
    "        self.val_losses.append(logs.get('val_loss'))\n",
    "        self.acc.append(logs.get('auc'))\n",
    "        self.val_acc.append(logs.get('val_auc'))\n",
    "        self.i += 1\n",
    "        f, (ax1, ax2) = plt.subplots(1, 2, sharex=True,figsize=(15,10))\n",
    "        \n",
    "        clear_output(wait=True)\n",
    "        \n",
    "        ax1.set_yscale('log')\n",
    "        ax1.plot(self.x, self.losses, label=\"loss\")\n",
    "        ax1.plot(self.x, self.val_losses, label=\"validation_loss\")\n",
    "        ax1.legend()\n",
    "        \n",
    "        ax2.plot(self.x, self.acc, label=\"accuracy\")\n",
    "        ax2.plot(self.x, self.val_acc, label=\"validation accuracy\")\n",
    "        ax2.legend()\n",
    "        \n",
    "        plt.show();\n",
    "        \n",
    "plot = PlotLearning()"
   ]
  },
  {
   "cell_type": "code",
   "execution_count": null,
   "metadata": {
    "collapsed": true
   },
   "outputs": [],
   "source": []
  },
  {
   "cell_type": "code",
   "execution_count": 4,
   "metadata": {
    "collapsed": true
   },
   "outputs": [],
   "source": [
    "import telepot\n",
    "def send_notify(text):\n",
    "    with open('../../_access_keys/telegram_token.txt', 'r') as content_file:\n",
    "        token = content_file.read()\n",
    "    with open('../../_access_keys/user.txt', 'r') as content_file:\n",
    "        user = content_file.read()\n",
    "    try:\n",
    "        TelegramBot = telepot.Bot(token)\n",
    "        TelegramBot.sendMessage(int(user), text)\n",
    "    except:\n",
    "        pass"
   ]
  },
  {
   "cell_type": "code",
   "execution_count": null,
   "metadata": {
    "collapsed": true
   },
   "outputs": [],
   "source": []
  },
  {
   "cell_type": "code",
   "execution_count": null,
   "metadata": {
    "collapsed": true
   },
   "outputs": [],
   "source": []
  },
  {
   "cell_type": "code",
   "execution_count": 212,
   "metadata": {
    "collapsed": true
   },
   "outputs": [],
   "source": [
    "TRAIN = False\n",
    "DNN = True"
   ]
  },
  {
   "cell_type": "code",
   "execution_count": null,
   "metadata": {
    "collapsed": true
   },
   "outputs": [],
   "source": []
  },
  {
   "cell_type": "code",
   "execution_count": 213,
   "metadata": {
    "collapsed": true
   },
   "outputs": [],
   "source": [
    "path = 'c:/data/mlbootcamp/dataset/'\n",
    "path_train = path + 'train/'\n",
    "path_test = path + 'test/'\n",
    "path_features = 'features/'\n",
    "if TRAIN:\n",
    "    pathfiles = path_train\n",
    "    path_subs_bs_consumption = 'subs_bs_consumption_train.csv'\n",
    "    path_subs_bs_data_session = 'subs_bs_data_session_train.csv'\n",
    "    path_subs_bs_voice_session = 'subs_bs_voice_session_train.csv'\n",
    "    path_subs_features = 'subs_features_train.csv'\n",
    "    path_subs_csi = 'subs_csi_train.csv'\n",
    "    path_new_features = 'features.csv'\n",
    "else:\n",
    "    pathfiles = path_test\n",
    "    path_subs_bs_consumption = 'subs_bs_consumption_test.csv'\n",
    "    path_subs_bs_data_session = 'subs_bs_data_session_test.csv'\n",
    "    path_subs_bs_voice_session = 'subs_bs_voice_session_test.csv'\n",
    "    path_subs_features = 'subs_features_test.csv'\n",
    "    path_subs_csi = 'subs_csi_test.csv'\n",
    "    path_new_features = 'features.csv'"
   ]
  },
  {
   "cell_type": "code",
   "execution_count": null,
   "metadata": {
    "collapsed": true
   },
   "outputs": [],
   "source": []
  },
  {
   "cell_type": "code",
   "execution_count": null,
   "metadata": {
    "collapsed": true
   },
   "outputs": [],
   "source": []
  },
  {
   "cell_type": "code",
   "execution_count": 214,
   "metadata": {
    "collapsed": true
   },
   "outputs": [],
   "source": [
    "subs_csi = pd.read_csv(pathfiles + path_subs_csi, sep=';', decimal=',')"
   ]
  },
  {
   "cell_type": "code",
   "execution_count": 215,
   "metadata": {},
   "outputs": [
    {
     "data": {
      "text/html": [
       "<div>\n",
       "<style scoped>\n",
       "    .dataframe tbody tr th:only-of-type {\n",
       "        vertical-align: middle;\n",
       "    }\n",
       "\n",
       "    .dataframe tbody tr th {\n",
       "        vertical-align: top;\n",
       "    }\n",
       "\n",
       "    .dataframe thead th {\n",
       "        text-align: right;\n",
       "    }\n",
       "</style>\n",
       "<table border=\"1\" class=\"dataframe\">\n",
       "  <thead>\n",
       "    <tr style=\"text-align: right;\">\n",
       "      <th></th>\n",
       "      <th>SK_ID</th>\n",
       "      <th>CONTACT_DATE</th>\n",
       "    </tr>\n",
       "  </thead>\n",
       "  <tbody>\n",
       "    <tr>\n",
       "      <th>0</th>\n",
       "      <td>6184</td>\n",
       "      <td>02.04</td>\n",
       "    </tr>\n",
       "  </tbody>\n",
       "</table>\n",
       "</div>"
      ],
      "text/plain": [
       "   SK_ID CONTACT_DATE\n",
       "0   6184        02.04"
      ]
     },
     "execution_count": 215,
     "metadata": {},
     "output_type": "execute_result"
    }
   ],
   "source": [
    "subs_csi.head(1)"
   ]
  },
  {
   "cell_type": "code",
   "execution_count": 216,
   "metadata": {},
   "outputs": [
    {
     "data": {
      "text/plain": [
       "(5221, 2)"
      ]
     },
     "execution_count": 216,
     "metadata": {},
     "output_type": "execute_result"
    }
   ],
   "source": [
    "subs_csi.shape"
   ]
  },
  {
   "cell_type": "code",
   "execution_count": null,
   "metadata": {
    "collapsed": true
   },
   "outputs": [],
   "source": []
  },
  {
   "cell_type": "code",
   "execution_count": 217,
   "metadata": {
    "collapsed": true
   },
   "outputs": [],
   "source": [
    "cells_2g = set(pd.read_csv(path + '2g.csv')['cell_id'].unique())\n",
    "cells_3g = set(pd.read_csv(path + '3g.csv')['cell_id'].unique())\n",
    "cells_4g = set(pd.read_csv(path + '4g.csv')['cell_id'].unique())"
   ]
  },
  {
   "cell_type": "code",
   "execution_count": null,
   "metadata": {
    "collapsed": true
   },
   "outputs": [],
   "source": []
  },
  {
   "cell_type": "code",
   "execution_count": 10,
   "metadata": {
    "collapsed": true
   },
   "outputs": [],
   "source": [
    "# 2G"
   ]
  },
  {
   "cell_type": "code",
   "execution_count": 21,
   "metadata": {
    "collapsed": true
   },
   "outputs": [],
   "source": [
    "columns_2g = ['CELL_AVAILABILITY_2G', 'CSSR_2G', 'PSSR_2G', 'TBF_DROP_RATE_2G', 'TCH_DROP_RATE_2G']"
   ]
  },
  {
   "cell_type": "code",
   "execution_count": 15,
   "metadata": {
    "collapsed": true
   },
   "outputs": [],
   "source": [
    "bs_avg_kpi_2g = pd.read_csv(path + 'bs_avg_kpi_2g.csv')"
   ]
  },
  {
   "cell_type": "code",
   "execution_count": 27,
   "metadata": {},
   "outputs": [
    {
     "data": {
      "text/html": [
       "<div>\n",
       "<style scoped>\n",
       "    .dataframe tbody tr th:only-of-type {\n",
       "        vertical-align: middle;\n",
       "    }\n",
       "\n",
       "    .dataframe tbody tr th {\n",
       "        vertical-align: top;\n",
       "    }\n",
       "\n",
       "    .dataframe thead th {\n",
       "        text-align: right;\n",
       "    }\n",
       "</style>\n",
       "<table border=\"1\" class=\"dataframe\">\n",
       "  <thead>\n",
       "    <tr style=\"text-align: right;\">\n",
       "      <th></th>\n",
       "      <th>T_DATE</th>\n",
       "      <th>CELL_LAC_ID</th>\n",
       "      <th>CELL_AVAILABILITY_2G</th>\n",
       "      <th>CSSR_2G</th>\n",
       "      <th>PSSR_2G</th>\n",
       "      <th>TBF_DROP_RATE_2G</th>\n",
       "      <th>TCH_DROP_RATE_2G</th>\n",
       "    </tr>\n",
       "  </thead>\n",
       "  <tbody>\n",
       "    <tr>\n",
       "      <th>0</th>\n",
       "      <td>1.01</td>\n",
       "      <td>275453</td>\n",
       "      <td>1.0</td>\n",
       "      <td>0.932420</td>\n",
       "      <td>NaN</td>\n",
       "      <td>0.000055</td>\n",
       "      <td>0.000377</td>\n",
       "    </tr>\n",
       "    <tr>\n",
       "      <th>1</th>\n",
       "      <td>17.05</td>\n",
       "      <td>275453</td>\n",
       "      <td>1.0</td>\n",
       "      <td>0.931243</td>\n",
       "      <td>NaN</td>\n",
       "      <td>0.000020</td>\n",
       "      <td>0.000206</td>\n",
       "    </tr>\n",
       "    <tr>\n",
       "      <th>2</th>\n",
       "      <td>31.01</td>\n",
       "      <td>275453</td>\n",
       "      <td>1.0</td>\n",
       "      <td>0.931607</td>\n",
       "      <td>NaN</td>\n",
       "      <td>0.000018</td>\n",
       "      <td>0.000173</td>\n",
       "    </tr>\n",
       "    <tr>\n",
       "      <th>3</th>\n",
       "      <td>29.01</td>\n",
       "      <td>275453</td>\n",
       "      <td>1.0</td>\n",
       "      <td>0.930856</td>\n",
       "      <td>NaN</td>\n",
       "      <td>0.000020</td>\n",
       "      <td>0.000228</td>\n",
       "    </tr>\n",
       "    <tr>\n",
       "      <th>4</th>\n",
       "      <td>2.01</td>\n",
       "      <td>275453</td>\n",
       "      <td>1.0</td>\n",
       "      <td>0.925372</td>\n",
       "      <td>NaN</td>\n",
       "      <td>0.000053</td>\n",
       "      <td>0.000297</td>\n",
       "    </tr>\n",
       "  </tbody>\n",
       "</table>\n",
       "</div>"
      ],
      "text/plain": [
       "   T_DATE  CELL_LAC_ID  CELL_AVAILABILITY_2G   CSSR_2G  PSSR_2G  \\\n",
       "0    1.01       275453                   1.0  0.932420      NaN   \n",
       "1   17.05       275453                   1.0  0.931243      NaN   \n",
       "2   31.01       275453                   1.0  0.931607      NaN   \n",
       "3   29.01       275453                   1.0  0.930856      NaN   \n",
       "4    2.01       275453                   1.0  0.925372      NaN   \n",
       "\n",
       "   TBF_DROP_RATE_2G  TCH_DROP_RATE_2G  \n",
       "0          0.000055          0.000377  \n",
       "1          0.000020          0.000206  \n",
       "2          0.000018          0.000173  \n",
       "3          0.000020          0.000228  \n",
       "4          0.000053          0.000297  "
      ]
     },
     "execution_count": 27,
     "metadata": {},
     "output_type": "execute_result"
    }
   ],
   "source": [
    "bs_avg_kpi_2g.head(1)"
   ]
  },
  {
   "cell_type": "code",
   "execution_count": null,
   "metadata": {
    "collapsed": true
   },
   "outputs": [],
   "source": [
    "for c in columns_2g:\n",
    "    bs_avg_kpi_2g[c].fillna(bs_avg_kpi_2g[c].median(), inplace=True)"
   ]
  },
  {
   "cell_type": "code",
   "execution_count": 71,
   "metadata": {
    "collapsed": true
   },
   "outputs": [],
   "source": []
  },
  {
   "cell_type": "code",
   "execution_count": null,
   "metadata": {
    "collapsed": true
   },
   "outputs": [],
   "source": []
  },
  {
   "cell_type": "code",
   "execution_count": null,
   "metadata": {
    "collapsed": true
   },
   "outputs": [],
   "source": []
  },
  {
   "cell_type": "code",
   "execution_count": 11,
   "metadata": {
    "collapsed": true
   },
   "outputs": [],
   "source": [
    "# 3G"
   ]
  },
  {
   "cell_type": "code",
   "execution_count": 22,
   "metadata": {
    "collapsed": true
   },
   "outputs": [],
   "source": [
    "columns_3g = ['CELL_AVAILABILITY_3G', 'CSSR_3G', 'HSPDSCH_CODE_UTIL_3G', 'NODEB_CNBAP_LOAD_HARDWARE', 'PROC_LOAD_3G',\n",
    "             'PSSR_3G', 'RAB_CS_BLOCKING_RATE_3G', 'RAB_CS_DROP_RATE_3G', 'RAB_PS_BLOCKING_RATE_3G', 'RAB_PS_DROP_RATE_3G',\n",
    "             'RRC_BLOCKING_RATE_3G', 'RTWP_3G', 'SHO_FACTOR', 'TOTAL_DL_VOLUME_3G', 'UTIL_BRD_CPU_3G', 'UTIL_CE_DL_3G',\n",
    "             'UTIL_CE_HW_DL_3G', 'UTIL_CE_UL_3G', 'UTIL_SUBUNITS_3G', 'TOTAL_UL_VOLUME_3G']"
   ]
  },
  {
   "cell_type": "code",
   "execution_count": null,
   "metadata": {
    "collapsed": true
   },
   "outputs": [],
   "source": []
  },
  {
   "cell_type": "code",
   "execution_count": null,
   "metadata": {
    "collapsed": true
   },
   "outputs": [],
   "source": []
  },
  {
   "cell_type": "code",
   "execution_count": null,
   "metadata": {
    "collapsed": true
   },
   "outputs": [],
   "source": []
  },
  {
   "cell_type": "code",
   "execution_count": null,
   "metadata": {
    "collapsed": true
   },
   "outputs": [],
   "source": [
    "# 4G"
   ]
  },
  {
   "cell_type": "code",
   "execution_count": 23,
   "metadata": {
    "collapsed": true
   },
   "outputs": [],
   "source": [
    "columns_4g = ['CELL_AVAILABILITY_4G', 'DL_VOLUME_LTE', 'ERAB_PS_BLOCKING_RATE_LTE', 'ERAB_PS_BLOCKING_RATE_PLMN_LTE',\n",
    "             'ERAB_PS_DROP_RATE_LTE', 'PART_CQI_QPSK_LTE', 'PART_MCS_QPSK_LTE', 'PSSR_LTE', 'RBU_AVAIL_DL', 'UL_VOLUME_LTE',\n",
    "             'RBU_AVAIL_DL_LTE', 'RBU_AVAIL_UL', 'RBU_OTHER_DL', 'RBU_OTHER_UL', 'RBU_OWN_DL', 'RBU_OWN_UL', 'RRC_BLOCKING_RATE_LTE']"
   ]
  },
  {
   "cell_type": "code",
   "execution_count": null,
   "metadata": {
    "collapsed": true
   },
   "outputs": [],
   "source": []
  },
  {
   "cell_type": "code",
   "execution_count": null,
   "metadata": {
    "collapsed": true
   },
   "outputs": [],
   "source": []
  },
  {
   "cell_type": "code",
   "execution_count": null,
   "metadata": {
    "collapsed": true
   },
   "outputs": [],
   "source": []
  },
  {
   "cell_type": "code",
   "execution_count": null,
   "metadata": {
    "collapsed": true
   },
   "outputs": [],
   "source": []
  },
  {
   "cell_type": "code",
   "execution_count": null,
   "metadata": {
    "collapsed": true
   },
   "outputs": [],
   "source": []
  },
  {
   "cell_type": "code",
   "execution_count": 14,
   "metadata": {
    "collapsed": true
   },
   "outputs": [],
   "source": [
    "data_columns = ['CELL_AVAILABILITY_2G', 'CELL_AVAILABILITY_3G', 'CELL_AVAILABILITY_4G', 'ERAB_PS_BLOCKING_RATE_LTE',\n",
    "                'ERAB_PS_BLOCKING_RATE_PLMN_LTE', 'ERAB_PS_DROP_RATE_LTE', 'HSPDSCH_CODE_UTIL_3G', 'NODEB_CNBAP_LOAD_HARDWARE',\n",
    "                'PART_CQI_QPSK_LTE', 'PART_MCS_QPSK_LTE', 'PROC_LOAD_3G', 'PSSR_2G', 'PSSR_3G', 'PSSR_LTE', \n",
    "                'RAB_PS_BLOCKING_RATE_3G', 'RAB_PS_DROP_RATE_3G', 'RBU_AVAIL_DL_LTE', 'RBU_AVAIL_DL', 'RBU_AVAIL_UL', 'RBU_OTHER_DL',\n",
    "                'RBU_OTHER_UL', 'RBU_OWN_DL', 'RBU_OWN_UL', 'RRC_BLOCKING_RATE_3G', 'RRC_BLOCKING_RATE_LTE', 'RTWP_3G',\n",
    "                'SHO_FACTOR', 'TBF_DROP_RATE_2G', 'UTIL_BRD_CPU_3G', 'UTIL_CE_DL_3G', 'UTIL_CE_HW_DL_3G', 'UTIL_CE_UL_3G',\n",
    "                'UTIL_SUBUNITS_3G', 'UL_VOLUME_LTE', 'DL_VOLUME_LTE', 'TOTAL_DL_VOLUME_3G', 'TOTAL_UL_VOLUME_3G', 'AVEUSERNUMBER',\n",
    "                'AVEUSERNUMBER_PLMN', 'AVR_DL_HSPA_USER_3G', 'AVR_DL_R99_USER_3G', 'AVR_DL_USER_3G', 'AVR_DL_USER_LTE',\n",
    "                'AVR_TX_POWER_3G', 'AVR_UL_HSPA_USER', 'AVR_UL_R99_USER', 'AVR_UL_USER_3G', 'AVR_UL_USER_LTE',\n",
    "                'DL_AVR_THROUGHPUT_3G', 'DL_AVR_THROUGHPUT_LTE', 'DL_AVR_THROUGHPUT_R99', 'DL_MEAN_USER_THROUGHPUT_LTE',\n",
    "                'DL_MEAN_USER_THROUGHPUT_DL_2G', 'DL_MEAN_USER_THROUGHPUT_HSPA3G', 'DL_MEAN_USER_THROUGHPUT_PLTE',\n",
    "                'DL_MEAN_USER_THROUGHPUT_REL93G', 'HSDPA_USERS_3G', 'HSUPA_USERS_3G', 'RBU_USED_DL', 'RBU_USED_UL',\n",
    "                'RELATIVE_RBU_USED_DL', 'RELATIVE_RBU_USED_UL', 'RELATIVE_TX_POWER_3G', 'UL_AVR_THROUGHPUT_3G',\n",
    "                'UL_AVR_THROUGHPUT_LTE', 'UL_AVR_THROUGHPUT_R99', 'UL_MEAN_USER_THROUGHPUT_LTE', 'UL_MEAN_USER_THROUGHPUT_HS3G',\n",
    "                'UL_MEAN_USER_THROUGHPUT_PLTE', 'UL_MEAN_USER_THROUGHPUT_REL93G'\n",
    "               ]"
   ]
  },
  {
   "cell_type": "code",
   "execution_count": null,
   "metadata": {
    "collapsed": true
   },
   "outputs": [],
   "source": []
  },
  {
   "cell_type": "code",
   "execution_count": null,
   "metadata": {
    "collapsed": true
   },
   "outputs": [],
   "source": []
  },
  {
   "cell_type": "code",
   "execution_count": null,
   "metadata": {
    "collapsed": true
   },
   "outputs": [],
   "source": []
  },
  {
   "cell_type": "code",
   "execution_count": 26,
   "metadata": {},
   "outputs": [
    {
     "data": {
      "text/plain": [
       "['TBF_DROP_RATE_2G', 'PSSR_2G', 'CELL_AVAILABILITY_2G']"
      ]
     },
     "execution_count": 26,
     "metadata": {},
     "output_type": "execute_result"
    }
   ],
   "source": [
    "target_columns_2g = list(set(columns_2g).intersection(set(data_columns)))\n",
    "target_columns_2g"
   ]
  },
  {
   "cell_type": "code",
   "execution_count": null,
   "metadata": {
    "collapsed": true
   },
   "outputs": [],
   "source": []
  },
  {
   "cell_type": "code",
   "execution_count": 218,
   "metadata": {},
   "outputs": [],
   "source": [
    "subs_bs_consumption = pd.read_csv(pathfiles + path_subs_bs_consumption, sep=';', decimal=',')"
   ]
  },
  {
   "cell_type": "code",
   "execution_count": 219,
   "metadata": {},
   "outputs": [
    {
     "data": {
      "text/html": [
       "<div>\n",
       "<style scoped>\n",
       "    .dataframe tbody tr th:only-of-type {\n",
       "        vertical-align: middle;\n",
       "    }\n",
       "\n",
       "    .dataframe tbody tr th {\n",
       "        vertical-align: top;\n",
       "    }\n",
       "\n",
       "    .dataframe thead th {\n",
       "        text-align: right;\n",
       "    }\n",
       "</style>\n",
       "<table border=\"1\" class=\"dataframe\">\n",
       "  <thead>\n",
       "    <tr style=\"text-align: right;\">\n",
       "      <th></th>\n",
       "      <th>SK_ID</th>\n",
       "      <th>CELL_LAC_ID</th>\n",
       "      <th>MON</th>\n",
       "      <th>SUM_MINUTES</th>\n",
       "      <th>SUM_DATA_MB</th>\n",
       "      <th>SUM_DATA_MIN</th>\n",
       "    </tr>\n",
       "  </thead>\n",
       "  <tbody>\n",
       "    <tr>\n",
       "      <th>0</th>\n",
       "      <td>6357</td>\n",
       "      <td>104453</td>\n",
       "      <td>01.02</td>\n",
       "      <td>0.0</td>\n",
       "      <td>0.0</td>\n",
       "      <td>0.000234</td>\n",
       "    </tr>\n",
       "  </tbody>\n",
       "</table>\n",
       "</div>"
      ],
      "text/plain": [
       "   SK_ID  CELL_LAC_ID    MON  SUM_MINUTES  SUM_DATA_MB  SUM_DATA_MIN\n",
       "0   6357       104453  01.02          0.0          0.0      0.000234"
      ]
     },
     "execution_count": 219,
     "metadata": {},
     "output_type": "execute_result"
    }
   ],
   "source": [
    "subs_bs_consumption.head(1)"
   ]
  },
  {
   "cell_type": "code",
   "execution_count": 220,
   "metadata": {
    "collapsed": true
   },
   "outputs": [],
   "source": [
    "subs_bs_consumption['month'] = subs_bs_consumption['MON'].apply(lambda x:datetime.strptime(x, '%d.%m').month)"
   ]
  },
  {
   "cell_type": "code",
   "execution_count": null,
   "metadata": {},
   "outputs": [],
   "source": []
  },
  {
   "cell_type": "code",
   "execution_count": null,
   "metadata": {
    "collapsed": true
   },
   "outputs": [],
   "source": []
  },
  {
   "cell_type": "code",
   "execution_count": 221,
   "metadata": {},
   "outputs": [],
   "source": [
    "def append_data(key, index, i):\n",
    "    subs_bs_consumption_minutes[key][index] += i[3]\n",
    "    subs_bs_consumption_data[key][index] += i[4]\n",
    "    subs_bs_consumption_voice[key][index] += i[5]\n",
    "    subs_bs_consumption_data[key][index + 1] += 1\n",
    "    subs_bs_consumption_minutes[key][index + 1] += 1\n",
    "    subs_bs_consumption_voice[key][index + 1] += 1\n",
    "        \n",
    "subs_bs_consumption_data = defaultdict()\n",
    "subs_bs_consumption_minutes = defaultdict()\n",
    "subs_bs_consumption_voice = defaultdict()\n",
    "for i in subs_bs_consumption.values:\n",
    "    sk_id = i[0]\n",
    "    m = i[6]\n",
    "    cell_id = i[1]\n",
    "    key = (sk_id, m)\n",
    "    subs_bs_consumption_data.setdefault(key, [0, 0, 0, 0, 0, 0, 0, 0])\n",
    "    subs_bs_consumption_minutes.setdefault(key, [0, 0, 0, 0, 0, 0, 0, 0])\n",
    "    subs_bs_consumption_voice.setdefault(key, [0, 0, 0, 0, 0, 0, 0, 0])\n",
    "    if cell_id in cells_2g:\n",
    "        append_data(key, 0, i)\n",
    "    if cell_id in cells_3g:\n",
    "        append_data(key, 2, i)\n",
    "    if cell_id in cells_4g:\n",
    "        append_data(key, 4, i)\n",
    "    append_data(key, 6, i)"
   ]
  },
  {
   "cell_type": "code",
   "execution_count": 122,
   "metadata": {
    "collapsed": true
   },
   "outputs": [],
   "source": [
    "def standart(_mx, _dict):\n",
    "    for k in _dict:\n",
    "        item = _dict[key]\n",
    "        for i in range(8):\n",
    "            _mx[i] = np.max([_mx[i], item[i]])\n",
    "\n",
    "if TRAIN:\n",
    "    data_mx = [0, 0, 0, 0, 0, 0, 0, 0]\n",
    "    standart(data_mx, subs_bs_consumption_data)\n",
    "    min_mx = [0, 0, 0, 0, 0, 0, 0, 0]\n",
    "    standart(min_mx, subs_bs_consumption_minutes)\n",
    "    voice_mx = [0, 0, 0, 0, 0, 0, 0, 0]\n",
    "    standart(voice_mx, subs_bs_consumption_voice)"
   ]
  },
  {
   "cell_type": "code",
   "execution_count": null,
   "metadata": {},
   "outputs": [],
   "source": []
  },
  {
   "cell_type": "code",
   "execution_count": null,
   "metadata": {},
   "outputs": [],
   "source": []
  },
  {
   "cell_type": "code",
   "execution_count": null,
   "metadata": {},
   "outputs": [],
   "source": []
  },
  {
   "cell_type": "code",
   "execution_count": 223,
   "metadata": {
    "collapsed": true
   },
   "outputs": [],
   "source": [
    "subs_bs_data_session = pd.read_csv(pathfiles + path_subs_bs_data_session, sep=';', decimal=',')"
   ]
  },
  {
   "cell_type": "code",
   "execution_count": 224,
   "metadata": {},
   "outputs": [
    {
     "data": {
      "text/html": [
       "<div>\n",
       "<style scoped>\n",
       "    .dataframe tbody tr th:only-of-type {\n",
       "        vertical-align: middle;\n",
       "    }\n",
       "\n",
       "    .dataframe tbody tr th {\n",
       "        vertical-align: top;\n",
       "    }\n",
       "\n",
       "    .dataframe thead th {\n",
       "        text-align: right;\n",
       "    }\n",
       "</style>\n",
       "<table border=\"1\" class=\"dataframe\">\n",
       "  <thead>\n",
       "    <tr style=\"text-align: right;\">\n",
       "      <th></th>\n",
       "      <th>SK_ID</th>\n",
       "      <th>CELL_LAC_ID</th>\n",
       "      <th>DATA_VOL_MB</th>\n",
       "      <th>START_TIME</th>\n",
       "    </tr>\n",
       "  </thead>\n",
       "  <tbody>\n",
       "    <tr>\n",
       "      <th>0</th>\n",
       "      <td>4992</td>\n",
       "      <td>3442</td>\n",
       "      <td>0.000564</td>\n",
       "      <td>13.03 16:00:00</td>\n",
       "    </tr>\n",
       "  </tbody>\n",
       "</table>\n",
       "</div>"
      ],
      "text/plain": [
       "   SK_ID  CELL_LAC_ID  DATA_VOL_MB      START_TIME\n",
       "0   4992         3442     0.000564  13.03 16:00:00"
      ]
     },
     "execution_count": 224,
     "metadata": {},
     "output_type": "execute_result"
    }
   ],
   "source": [
    "subs_bs_data_session.head(1)"
   ]
  },
  {
   "cell_type": "code",
   "execution_count": 225,
   "metadata": {
    "collapsed": true
   },
   "outputs": [],
   "source": [
    "subs_bs_data_session['day'] = subs_bs_data_session['START_TIME'].apply(lambda x:datetime.strptime(x, '%d.%m %H:%M:%S').date())"
   ]
  },
  {
   "cell_type": "code",
   "execution_count": 226,
   "metadata": {
    "collapsed": true
   },
   "outputs": [],
   "source": [
    "user_data_session = defaultdict()\n",
    "for i in subs_bs_data_session.values:\n",
    "    sk_id = i[0]\n",
    "    dt = i[4]\n",
    "    cell_id = i[1]\n",
    "    key = (sk_id, dt)\n",
    "    user_data_session.setdefault(key, defaultdict()).setdefault(cell_id, 0)\n",
    "    user_data_session[key][cell_id] += i[2]"
   ]
  },
  {
   "cell_type": "code",
   "execution_count": 227,
   "metadata": {
    "collapsed": true
   },
   "outputs": [],
   "source": [
    "mx_data = [0.34390804355693994, 3.9075563596610294, 2.1853913163519203, 50, 87, 110]\n",
    "mx_voice = [2.0988193833333333, 1.9199305166666663, 0.8027777708333333, 73, 66, 21]"
   ]
  },
  {
   "cell_type": "code",
   "execution_count": 228,
   "metadata": {
    "collapsed": true
   },
   "outputs": [],
   "source": [
    "mx = [0, 0, 0, 0, 0, 0]"
   ]
  },
  {
   "cell_type": "code",
   "execution_count": 229,
   "metadata": {
    "collapsed": true
   },
   "outputs": [],
   "source": [
    "def get_internet_type_id(sk_id, month):\n",
    "    try:\n",
    "        return subs_features[(subs_features['SK_ID'] == sk_id) & (subs_features['month'] == (month + 1))]['INTERNET_TYPE_ID'].iloc(0)[0]\n",
    "    except:\n",
    "        try:\n",
    "            return subs_features[(subs_features['SK_ID'] == sk_id) & (subs_features['month'] == (month))]['INTERNET_TYPE_ID'].iloc(0)[0]\n",
    "        except:\n",
    "            return subs_features[(subs_features['SK_ID'] == sk_id)]['INTERNET_TYPE_ID'].iloc(0)[0]"
   ]
  },
  {
   "cell_type": "code",
   "execution_count": 230,
   "metadata": {
    "collapsed": true
   },
   "outputs": [],
   "source": [
    "def get_cells_data(cell_dict, mxs, list_sk_id, dates, count_days=7):\n",
    "    table = []\n",
    "    for i in zip(list_sk_id, dates):\n",
    "        sk_id = i[0]\n",
    "        sd = i[1]\n",
    "        row = []\n",
    "        table_columns = []\n",
    "        pre_month = None\n",
    "        for j in range(count_days):\n",
    "            cd = sd - timedelta(j)\n",
    "            if pre_month is None or pre_month != cd.month:\n",
    "                internet_type_id = get_internet_type_id(sk_id, cd.month)\n",
    "                pre_month = cd.month\n",
    "            cells_g = [0, 0, 0, 0, 0, 0, internet_type_id]\n",
    "            if (sk_id, cd) not in cell_dict:\n",
    "                row.append(cells_g)\n",
    "                continue\n",
    "            item = cell_dict[(sk_id, cd)]\n",
    "            for key in item:\n",
    "                cell = (key, item[key])\n",
    "                if cell[0] in cells_2g:\n",
    "                    cells_g[0] += cell[1]\n",
    "                    cells_g[3] += 1\n",
    "                if cell[0] in cells_3g:\n",
    "                    cells_g[1] += cell[1]\n",
    "                    cells_g[4] += 1\n",
    "                if cell[0] in cells_4g:\n",
    "                    cells_g[2] += cell[1]\n",
    "                    cells_g[5] += 1\n",
    "            for p in range(6):\n",
    "                #mx[p] = np.max([cells_g[p], mx[p]])\n",
    "                cells_g[p] /= mxs[p]\n",
    "            row.append(cells_g)\n",
    "        table.append(np.array(row))\n",
    "    return table"
   ]
  },
  {
   "cell_type": "code",
   "execution_count": 231,
   "metadata": {},
   "outputs": [
    {
     "data": {
      "text/plain": [
       "[0, 0, 0, 0, 0, 0]"
      ]
     },
     "execution_count": 231,
     "metadata": {},
     "output_type": "execute_result"
    }
   ],
   "source": [
    "mx"
   ]
  },
  {
   "cell_type": "code",
   "execution_count": null,
   "metadata": {
    "collapsed": true
   },
   "outputs": [],
   "source": []
  },
  {
   "cell_type": "code",
   "execution_count": 232,
   "metadata": {
    "collapsed": true
   },
   "outputs": [],
   "source": [
    "subs_bs_voice_session = pd.read_csv(pathfiles + path_subs_bs_voice_session, sep=';', decimal=',')"
   ]
  },
  {
   "cell_type": "code",
   "execution_count": 233,
   "metadata": {
    "collapsed": true
   },
   "outputs": [],
   "source": [
    "subs_bs_voice_session['day'] = subs_bs_voice_session['START_TIME'].apply(lambda x:datetime.strptime(x, '%d.%m %H:%M:%S').date())"
   ]
  },
  {
   "cell_type": "code",
   "execution_count": 234,
   "metadata": {},
   "outputs": [
    {
     "data": {
      "text/html": [
       "<div>\n",
       "<style scoped>\n",
       "    .dataframe tbody tr th:only-of-type {\n",
       "        vertical-align: middle;\n",
       "    }\n",
       "\n",
       "    .dataframe tbody tr th {\n",
       "        vertical-align: top;\n",
       "    }\n",
       "\n",
       "    .dataframe thead th {\n",
       "        text-align: right;\n",
       "    }\n",
       "</style>\n",
       "<table border=\"1\" class=\"dataframe\">\n",
       "  <thead>\n",
       "    <tr style=\"text-align: right;\">\n",
       "      <th></th>\n",
       "      <th>SK_ID</th>\n",
       "      <th>CELL_LAC_ID</th>\n",
       "      <th>VOICE_DUR_MIN</th>\n",
       "      <th>START_TIME</th>\n",
       "      <th>day</th>\n",
       "    </tr>\n",
       "  </thead>\n",
       "  <tbody>\n",
       "    <tr>\n",
       "      <th>0</th>\n",
       "      <td>9551</td>\n",
       "      <td>211015</td>\n",
       "      <td>0.001875</td>\n",
       "      <td>18.03 19:00:00</td>\n",
       "      <td>1900-03-18</td>\n",
       "    </tr>\n",
       "  </tbody>\n",
       "</table>\n",
       "</div>"
      ],
      "text/plain": [
       "   SK_ID  CELL_LAC_ID  VOICE_DUR_MIN      START_TIME         day\n",
       "0   9551       211015       0.001875  18.03 19:00:00  1900-03-18"
      ]
     },
     "execution_count": 234,
     "metadata": {},
     "output_type": "execute_result"
    }
   ],
   "source": [
    "subs_bs_voice_session.head(1)"
   ]
  },
  {
   "cell_type": "code",
   "execution_count": 235,
   "metadata": {
    "collapsed": true
   },
   "outputs": [],
   "source": [
    "user_voice_session = defaultdict()\n",
    "for i in subs_bs_voice_session.values:\n",
    "    sk_id = i[0]\n",
    "    dt = i[4]\n",
    "    cell_id = i[1]\n",
    "    key = (sk_id, dt)\n",
    "    user_voice_session.setdefault(key, defaultdict()).setdefault(cell_id, 0)\n",
    "    user_voice_session[key][cell_id] += i[2]"
   ]
  },
  {
   "cell_type": "code",
   "execution_count": null,
   "metadata": {
    "collapsed": true
   },
   "outputs": [],
   "source": []
  },
  {
   "cell_type": "code",
   "execution_count": null,
   "metadata": {
    "collapsed": true
   },
   "outputs": [],
   "source": []
  },
  {
   "cell_type": "code",
   "execution_count": null,
   "metadata": {
    "collapsed": true
   },
   "outputs": [],
   "source": []
  },
  {
   "cell_type": "code",
   "execution_count": 236,
   "metadata": {
    "collapsed": true
   },
   "outputs": [],
   "source": [
    "subs_features = pd.read_csv(pathfiles + path_subs_features, sep=';', decimal=',')"
   ]
  },
  {
   "cell_type": "code",
   "execution_count": 237,
   "metadata": {},
   "outputs": [
    {
     "data": {
      "text/html": [
       "<div>\n",
       "<style scoped>\n",
       "    .dataframe tbody tr th:only-of-type {\n",
       "        vertical-align: middle;\n",
       "    }\n",
       "\n",
       "    .dataframe tbody tr th {\n",
       "        vertical-align: top;\n",
       "    }\n",
       "\n",
       "    .dataframe thead th {\n",
       "        text-align: right;\n",
       "    }\n",
       "</style>\n",
       "<table border=\"1\" class=\"dataframe\">\n",
       "  <thead>\n",
       "    <tr style=\"text-align: right;\">\n",
       "      <th></th>\n",
       "      <th>SNAP_DATE</th>\n",
       "      <th>COM_CAT#1</th>\n",
       "      <th>SK_ID</th>\n",
       "      <th>COM_CAT#2</th>\n",
       "      <th>COM_CAT#3</th>\n",
       "      <th>BASE_TYPE</th>\n",
       "      <th>ACT</th>\n",
       "      <th>ARPU_GROUP</th>\n",
       "      <th>COM_CAT#7</th>\n",
       "      <th>COM_CAT#8</th>\n",
       "      <th>...</th>\n",
       "      <th>COM_CAT#25</th>\n",
       "      <th>COM_CAT#26</th>\n",
       "      <th>COM_CAT#27</th>\n",
       "      <th>COM_CAT#28</th>\n",
       "      <th>COM_CAT#29</th>\n",
       "      <th>COM_CAT#30</th>\n",
       "      <th>COM_CAT#31</th>\n",
       "      <th>COM_CAT#32</th>\n",
       "      <th>COM_CAT#33</th>\n",
       "      <th>COM_CAT#34</th>\n",
       "    </tr>\n",
       "  </thead>\n",
       "  <tbody>\n",
       "    <tr>\n",
       "      <th>0</th>\n",
       "      <td>01.10.01</td>\n",
       "      <td>8</td>\n",
       "      <td>6954</td>\n",
       "      <td>44</td>\n",
       "      <td>12</td>\n",
       "      <td>1</td>\n",
       "      <td>1</td>\n",
       "      <td>12.0</td>\n",
       "      <td>3</td>\n",
       "      <td>NaN</td>\n",
       "      <td>...</td>\n",
       "      <td>1</td>\n",
       "      <td>1</td>\n",
       "      <td>0.014411</td>\n",
       "      <td>0.036439</td>\n",
       "      <td>0.0</td>\n",
       "      <td>0.0</td>\n",
       "      <td>0.040759</td>\n",
       "      <td>0.027579</td>\n",
       "      <td>0.103896</td>\n",
       "      <td>10.0</td>\n",
       "    </tr>\n",
       "  </tbody>\n",
       "</table>\n",
       "<p>1 rows × 36 columns</p>\n",
       "</div>"
      ],
      "text/plain": [
       "  SNAP_DATE  COM_CAT#1  SK_ID  COM_CAT#2  COM_CAT#3  BASE_TYPE  ACT  \\\n",
       "0  01.10.01          8   6954         44         12          1    1   \n",
       "\n",
       "   ARPU_GROUP  COM_CAT#7  COM_CAT#8     ...      COM_CAT#25  COM_CAT#26  \\\n",
       "0        12.0          3        NaN     ...               1           1   \n",
       "\n",
       "   COM_CAT#27  COM_CAT#28  COM_CAT#29  COM_CAT#30  COM_CAT#31  COM_CAT#32  \\\n",
       "0    0.014411    0.036439         0.0         0.0    0.040759    0.027579   \n",
       "\n",
       "   COM_CAT#33  COM_CAT#34  \n",
       "0    0.103896        10.0  \n",
       "\n",
       "[1 rows x 36 columns]"
      ]
     },
     "execution_count": 237,
     "metadata": {},
     "output_type": "execute_result"
    }
   ],
   "source": [
    "subs_features.head(1)"
   ]
  },
  {
   "cell_type": "code",
   "execution_count": 238,
   "metadata": {},
   "outputs": [
    {
     "data": {
      "text/html": [
       "<div>\n",
       "<style scoped>\n",
       "    .dataframe tbody tr th:only-of-type {\n",
       "        vertical-align: middle;\n",
       "    }\n",
       "\n",
       "    .dataframe tbody tr th {\n",
       "        vertical-align: top;\n",
       "    }\n",
       "\n",
       "    .dataframe thead th {\n",
       "        text-align: right;\n",
       "    }\n",
       "</style>\n",
       "<table border=\"1\" class=\"dataframe\">\n",
       "  <thead>\n",
       "    <tr style=\"text-align: right;\">\n",
       "      <th></th>\n",
       "      <th>COM_CAT#1</th>\n",
       "      <th>SK_ID</th>\n",
       "      <th>COM_CAT#2</th>\n",
       "      <th>COM_CAT#3</th>\n",
       "      <th>BASE_TYPE</th>\n",
       "      <th>ACT</th>\n",
       "      <th>ARPU_GROUP</th>\n",
       "      <th>COM_CAT#7</th>\n",
       "      <th>COM_CAT#8</th>\n",
       "      <th>DEVICE_TYPE_ID</th>\n",
       "      <th>...</th>\n",
       "      <th>COM_CAT#25</th>\n",
       "      <th>COM_CAT#26</th>\n",
       "      <th>COM_CAT#27</th>\n",
       "      <th>COM_CAT#28</th>\n",
       "      <th>COM_CAT#29</th>\n",
       "      <th>COM_CAT#30</th>\n",
       "      <th>COM_CAT#31</th>\n",
       "      <th>COM_CAT#32</th>\n",
       "      <th>COM_CAT#33</th>\n",
       "      <th>COM_CAT#34</th>\n",
       "    </tr>\n",
       "  </thead>\n",
       "  <tbody>\n",
       "    <tr>\n",
       "      <th>count</th>\n",
       "      <td>58989.000000</td>\n",
       "      <td>58989.000000</td>\n",
       "      <td>58989.000000</td>\n",
       "      <td>58989.000000</td>\n",
       "      <td>58989.000000</td>\n",
       "      <td>58989.000000</td>\n",
       "      <td>58968.000000</td>\n",
       "      <td>58989.000000</td>\n",
       "      <td>54254.000000</td>\n",
       "      <td>58798.000000</td>\n",
       "      <td>...</td>\n",
       "      <td>58989.000000</td>\n",
       "      <td>58989.000000</td>\n",
       "      <td>58989.000000</td>\n",
       "      <td>58989.000000</td>\n",
       "      <td>58989.000000</td>\n",
       "      <td>58989.000000</td>\n",
       "      <td>58989.000000</td>\n",
       "      <td>58989.000000</td>\n",
       "      <td>58989.000000</td>\n",
       "      <td>57128.000000</td>\n",
       "    </tr>\n",
       "    <tr>\n",
       "      <th>mean</th>\n",
       "      <td>4.475614</td>\n",
       "      <td>6909.303023</td>\n",
       "      <td>40.964231</td>\n",
       "      <td>5.274170</td>\n",
       "      <td>1.939362</td>\n",
       "      <td>0.990541</td>\n",
       "      <td>7.506088</td>\n",
       "      <td>2.418400</td>\n",
       "      <td>875.009032</td>\n",
       "      <td>4.602384</td>\n",
       "      <td>...</td>\n",
       "      <td>0.999898</td>\n",
       "      <td>0.989049</td>\n",
       "      <td>0.016375</td>\n",
       "      <td>0.017566</td>\n",
       "      <td>0.004167</td>\n",
       "      <td>0.004383</td>\n",
       "      <td>0.045646</td>\n",
       "      <td>0.028234</td>\n",
       "      <td>0.105025</td>\n",
       "      <td>5.618996</td>\n",
       "    </tr>\n",
       "    <tr>\n",
       "      <th>std</th>\n",
       "      <td>2.187412</td>\n",
       "      <td>1868.652121</td>\n",
       "      <td>22.121673</td>\n",
       "      <td>2.804044</td>\n",
       "      <td>0.238668</td>\n",
       "      <td>0.096799</td>\n",
       "      <td>3.271280</td>\n",
       "      <td>1.655322</td>\n",
       "      <td>513.958120</td>\n",
       "      <td>0.910405</td>\n",
       "      <td>...</td>\n",
       "      <td>0.010085</td>\n",
       "      <td>0.104074</td>\n",
       "      <td>0.024331</td>\n",
       "      <td>0.030751</td>\n",
       "      <td>0.013551</td>\n",
       "      <td>0.020910</td>\n",
       "      <td>0.052554</td>\n",
       "      <td>0.008920</td>\n",
       "      <td>0.011167</td>\n",
       "      <td>3.560419</td>\n",
       "    </tr>\n",
       "    <tr>\n",
       "      <th>min</th>\n",
       "      <td>1.000000</td>\n",
       "      <td>1.000000</td>\n",
       "      <td>1.000000</td>\n",
       "      <td>1.000000</td>\n",
       "      <td>1.000000</td>\n",
       "      <td>0.000000</td>\n",
       "      <td>1.000000</td>\n",
       "      <td>1.000000</td>\n",
       "      <td>1.000000</td>\n",
       "      <td>1.000000</td>\n",
       "      <td>...</td>\n",
       "      <td>0.000000</td>\n",
       "      <td>0.000000</td>\n",
       "      <td>0.000000</td>\n",
       "      <td>0.000000</td>\n",
       "      <td>0.000000</td>\n",
       "      <td>0.000000</td>\n",
       "      <td>0.000000</td>\n",
       "      <td>0.019839</td>\n",
       "      <td>0.093571</td>\n",
       "      <td>1.000000</td>\n",
       "    </tr>\n",
       "    <tr>\n",
       "      <th>25%</th>\n",
       "      <td>3.000000</td>\n",
       "      <td>5692.000000</td>\n",
       "      <td>25.000000</td>\n",
       "      <td>5.000000</td>\n",
       "      <td>2.000000</td>\n",
       "      <td>1.000000</td>\n",
       "      <td>5.000000</td>\n",
       "      <td>1.000000</td>\n",
       "      <td>394.000000</td>\n",
       "      <td>5.000000</td>\n",
       "      <td>...</td>\n",
       "      <td>1.000000</td>\n",
       "      <td>1.000000</td>\n",
       "      <td>0.001940</td>\n",
       "      <td>0.000873</td>\n",
       "      <td>0.000000</td>\n",
       "      <td>0.000000</td>\n",
       "      <td>0.010227</td>\n",
       "      <td>0.027579</td>\n",
       "      <td>0.103896</td>\n",
       "      <td>2.000000</td>\n",
       "    </tr>\n",
       "    <tr>\n",
       "      <th>50%</th>\n",
       "      <td>4.000000</td>\n",
       "      <td>7031.000000</td>\n",
       "      <td>38.000000</td>\n",
       "      <td>5.000000</td>\n",
       "      <td>2.000000</td>\n",
       "      <td>1.000000</td>\n",
       "      <td>7.000000</td>\n",
       "      <td>2.000000</td>\n",
       "      <td>926.000000</td>\n",
       "      <td>5.000000</td>\n",
       "      <td>...</td>\n",
       "      <td>1.000000</td>\n",
       "      <td>1.000000</td>\n",
       "      <td>0.007878</td>\n",
       "      <td>0.006288</td>\n",
       "      <td>0.000039</td>\n",
       "      <td>0.000000</td>\n",
       "      <td>0.029631</td>\n",
       "      <td>0.027579</td>\n",
       "      <td>0.103896</td>\n",
       "      <td>5.000000</td>\n",
       "    </tr>\n",
       "    <tr>\n",
       "      <th>75%</th>\n",
       "      <td>6.000000</td>\n",
       "      <td>8399.000000</td>\n",
       "      <td>60.000000</td>\n",
       "      <td>5.000000</td>\n",
       "      <td>2.000000</td>\n",
       "      <td>1.000000</td>\n",
       "      <td>10.000000</td>\n",
       "      <td>3.000000</td>\n",
       "      <td>1315.000000</td>\n",
       "      <td>5.000000</td>\n",
       "      <td>...</td>\n",
       "      <td>1.000000</td>\n",
       "      <td>1.000000</td>\n",
       "      <td>0.020910</td>\n",
       "      <td>0.021304</td>\n",
       "      <td>0.002761</td>\n",
       "      <td>0.000083</td>\n",
       "      <td>0.062445</td>\n",
       "      <td>0.027579</td>\n",
       "      <td>0.103896</td>\n",
       "      <td>9.000000</td>\n",
       "    </tr>\n",
       "    <tr>\n",
       "      <th>max</th>\n",
       "      <td>8.000000</td>\n",
       "      <td>9748.000000</td>\n",
       "      <td>83.000000</td>\n",
       "      <td>17.000000</td>\n",
       "      <td>2.000000</td>\n",
       "      <td>1.000000</td>\n",
       "      <td>12.000000</td>\n",
       "      <td>9.000000</td>\n",
       "      <td>1702.000000</td>\n",
       "      <td>8.000000</td>\n",
       "      <td>...</td>\n",
       "      <td>1.000000</td>\n",
       "      <td>1.000000</td>\n",
       "      <td>0.727991</td>\n",
       "      <td>1.000000</td>\n",
       "      <td>0.431942</td>\n",
       "      <td>0.954655</td>\n",
       "      <td>0.678783</td>\n",
       "      <td>1.000000</td>\n",
       "      <td>1.000000</td>\n",
       "      <td>10.000000</td>\n",
       "    </tr>\n",
       "  </tbody>\n",
       "</table>\n",
       "<p>8 rows × 34 columns</p>\n",
       "</div>"
      ],
      "text/plain": [
       "          COM_CAT#1         SK_ID     COM_CAT#2     COM_CAT#3     BASE_TYPE  \\\n",
       "count  58989.000000  58989.000000  58989.000000  58989.000000  58989.000000   \n",
       "mean       4.475614   6909.303023     40.964231      5.274170      1.939362   \n",
       "std        2.187412   1868.652121     22.121673      2.804044      0.238668   \n",
       "min        1.000000      1.000000      1.000000      1.000000      1.000000   \n",
       "25%        3.000000   5692.000000     25.000000      5.000000      2.000000   \n",
       "50%        4.000000   7031.000000     38.000000      5.000000      2.000000   \n",
       "75%        6.000000   8399.000000     60.000000      5.000000      2.000000   \n",
       "max        8.000000   9748.000000     83.000000     17.000000      2.000000   \n",
       "\n",
       "                ACT    ARPU_GROUP     COM_CAT#7     COM_CAT#8  DEVICE_TYPE_ID  \\\n",
       "count  58989.000000  58968.000000  58989.000000  54254.000000    58798.000000   \n",
       "mean       0.990541      7.506088      2.418400    875.009032        4.602384   \n",
       "std        0.096799      3.271280      1.655322    513.958120        0.910405   \n",
       "min        0.000000      1.000000      1.000000      1.000000        1.000000   \n",
       "25%        1.000000      5.000000      1.000000    394.000000        5.000000   \n",
       "50%        1.000000      7.000000      2.000000    926.000000        5.000000   \n",
       "75%        1.000000     10.000000      3.000000   1315.000000        5.000000   \n",
       "max        1.000000     12.000000      9.000000   1702.000000        8.000000   \n",
       "\n",
       "           ...         COM_CAT#25    COM_CAT#26    COM_CAT#27    COM_CAT#28  \\\n",
       "count      ...       58989.000000  58989.000000  58989.000000  58989.000000   \n",
       "mean       ...           0.999898      0.989049      0.016375      0.017566   \n",
       "std        ...           0.010085      0.104074      0.024331      0.030751   \n",
       "min        ...           0.000000      0.000000      0.000000      0.000000   \n",
       "25%        ...           1.000000      1.000000      0.001940      0.000873   \n",
       "50%        ...           1.000000      1.000000      0.007878      0.006288   \n",
       "75%        ...           1.000000      1.000000      0.020910      0.021304   \n",
       "max        ...           1.000000      1.000000      0.727991      1.000000   \n",
       "\n",
       "         COM_CAT#29    COM_CAT#30    COM_CAT#31    COM_CAT#32    COM_CAT#33  \\\n",
       "count  58989.000000  58989.000000  58989.000000  58989.000000  58989.000000   \n",
       "mean       0.004167      0.004383      0.045646      0.028234      0.105025   \n",
       "std        0.013551      0.020910      0.052554      0.008920      0.011167   \n",
       "min        0.000000      0.000000      0.000000      0.019839      0.093571   \n",
       "25%        0.000000      0.000000      0.010227      0.027579      0.103896   \n",
       "50%        0.000039      0.000000      0.029631      0.027579      0.103896   \n",
       "75%        0.002761      0.000083      0.062445      0.027579      0.103896   \n",
       "max        0.431942      0.954655      0.678783      1.000000      1.000000   \n",
       "\n",
       "         COM_CAT#34  \n",
       "count  57128.000000  \n",
       "mean       5.618996  \n",
       "std        3.560419  \n",
       "min        1.000000  \n",
       "25%        2.000000  \n",
       "50%        5.000000  \n",
       "75%        9.000000  \n",
       "max       10.000000  \n",
       "\n",
       "[8 rows x 34 columns]"
      ]
     },
     "execution_count": 238,
     "metadata": {},
     "output_type": "execute_result"
    }
   ],
   "source": [
    "subs_features.describe()"
   ]
  },
  {
   "cell_type": "code",
   "execution_count": 239,
   "metadata": {
    "collapsed": true
   },
   "outputs": [],
   "source": [
    "subs_features['SNAP_DATE'] = subs_features['SNAP_DATE'].apply(lambda x:datetime.strptime(x, '%d.%m.%y'))"
   ]
  },
  {
   "cell_type": "code",
   "execution_count": 240,
   "metadata": {},
   "outputs": [
    {
     "data": {
      "text/plain": [
       "31.12    58983\n",
       "08.04        1\n",
       "23.04        1\n",
       "15.04        1\n",
       "12.04        1\n",
       "19.04        1\n",
       "22.04        1\n",
       "Name: COM_CAT#24, dtype: int64"
      ]
     },
     "execution_count": 240,
     "metadata": {},
     "output_type": "execute_result"
    }
   ],
   "source": [
    "subs_features['COM_CAT#24'].value_counts()"
   ]
  },
  {
   "cell_type": "code",
   "execution_count": 241,
   "metadata": {
    "collapsed": true
   },
   "outputs": [],
   "source": [
    "subs_features['COM_CAT#24'] = subs_features['COM_CAT#24'].apply(lambda x:int(x == '31.12'))"
   ]
  },
  {
   "cell_type": "code",
   "execution_count": 242,
   "metadata": {
    "collapsed": true
   },
   "outputs": [],
   "source": [
    "subs_features['COM_CAT#34'].fillna(subs_features['COM_CAT#34'].median(), inplace=True)\n",
    "subs_features['COM_CAT#8'].fillna(subs_features['COM_CAT#8'].median(), inplace=True)\n",
    "subs_features['DEVICE_TYPE_ID'].fillna(subs_features['DEVICE_TYPE_ID'].median(), inplace=True)\n",
    "subs_features['ARPU_GROUP'].fillna(subs_features['ARPU_GROUP'].median(), inplace=True)\n",
    "subs_features['INTERNET_TYPE_ID'].fillna(subs_features['INTERNET_TYPE_ID'].median(), inplace=True)"
   ]
  },
  {
   "cell_type": "code",
   "execution_count": 243,
   "metadata": {
    "collapsed": true
   },
   "outputs": [],
   "source": [
    "subs_features['month'] = subs_features['SNAP_DATE'].apply(lambda x:x.month)\n",
    "subs_features['year'] = subs_features['SNAP_DATE'].apply(lambda x:x.year)"
   ]
  },
  {
   "cell_type": "code",
   "execution_count": 244,
   "metadata": {
    "collapsed": true
   },
   "outputs": [],
   "source": [
    "columns = ['COM_CAT#1', 'COM_CAT#2', 'COM_CAT#3', 'BASE_TYPE', 'ACT', 'ARPU_GROUP', 'COM_CAT#7', 'COM_CAT#8',\n",
    "          'DEVICE_TYPE_ID', 'INTERNET_TYPE_ID', 'REVENUE', 'ITC', 'VAS', 'RENT_CHANNEL', 'ROAM',\n",
    "          'COST']\n",
    "for i in range(18):\n",
    "    columns.append('COM_CAT#{}'.format(i+17))\n",
    "if TRAIN:\n",
    "    factors = {}\n",
    "for c in columns:\n",
    "    #emean =  np.mean(subs_features[c])\n",
    "    if TRAIN:\n",
    "        emin = np.min(subs_features[c])\n",
    "    else:\n",
    "        emin = factors[c][0]\n",
    "    #subs_features[c] -= emean\n",
    "    subs_features[c] -= emin\n",
    "    if TRAIN:\n",
    "        emax = np.max(subs_features[c])\n",
    "    else:\n",
    "        emax = factors[c][1]\n",
    "    subs_features[c] /= emax\n",
    "    if TRAIN:\n",
    "        factors[c] = (emin, emax)"
   ]
  },
  {
   "cell_type": "code",
   "execution_count": 245,
   "metadata": {
    "collapsed": true
   },
   "outputs": [],
   "source": [
    "def get_subs_features(year, month, fix_month, day, sk_id):\n",
    "    data = subs_features[(subs_features['year'] == year) & (subs_features['month'] == month) & (subs_features['SK_ID'] == sk_id)]\n",
    "    columns = ['COM_CAT#1', 'COM_CAT#2', 'COM_CAT#3', 'BASE_TYPE', 'ACT', 'ARPU_GROUP', 'COM_CAT#7', 'COM_CAT#8',\n",
    "              'DEVICE_TYPE_ID', 'INTERNET_TYPE_ID', 'REVENUE', 'ITC', 'VAS', 'RENT_CHANNEL', 'ROAM',\n",
    "              'COST']\n",
    "    for i in range(18):\n",
    "        columns.append('COM_CAT#{}'.format(i+17))\n",
    "    if data.shape[0] == 1:\n",
    "        return columns, data[columns].values[0].tolist()\n",
    "    else:\n",
    "        return columns, list(np.zeros(len(columns)))"
   ]
  },
  {
   "cell_type": "code",
   "execution_count": null,
   "metadata": {
    "collapsed": true
   },
   "outputs": [],
   "source": []
  },
  {
   "cell_type": "code",
   "execution_count": 128,
   "metadata": {
    "collapsed": true
   },
   "outputs": [],
   "source": [
    "# for dnn\n",
    "table = []\n",
    "if TRAIN:\n",
    "    y = np.zeros(subs_csi.shape[0])\n",
    "for i in enumerate(subs_csi.values):\n",
    "    sk_id = int(i[1][0])\n",
    "    line = []\n",
    "    if TRAIN:\n",
    "        dt = str(i[1][2]).split('.')\n",
    "    else:\n",
    "        dt = str(i[1][1]).split('.')\n",
    "    year = 2002\n",
    "    month = int(dt[1])\n",
    "    for j in range(12):\n",
    "        new_line = get_subs_features(year, month, int(dt[1]), int(dt[0]), sk_id)\n",
    "        line.extend(new_line[1])\n",
    "        month -= 1\n",
    "        if month == 0:\n",
    "            month = 12\n",
    "            year -= 1\n",
    "    table.append(line)\n",
    "    if TRAIN:\n",
    "        y[i[0]] = i[1][1]"
   ]
  },
  {
   "cell_type": "code",
   "execution_count": null,
   "metadata": {
    "collapsed": true
   },
   "outputs": [],
   "source": []
  },
  {
   "cell_type": "code",
   "execution_count": 187,
   "metadata": {
    "collapsed": true
   },
   "outputs": [],
   "source": [
    "def extend_qos(sk_id, month):\n",
    "    result = []\n",
    "    key = (sk_id, month)\n",
    "    if (key in subs_bs_consumption_data):\n",
    "        item = subs_bs_consumption_data[key]\n",
    "        for i in range(8):\n",
    "            if data_mx[i] != 0:\n",
    "                result.append(item[i] / data_mx[i])\n",
    "            else:\n",
    "                result.append(item[i])\n",
    "    else:\n",
    "        result.extend([0,0,0,0,0,0,0,0])\n",
    "    if (key in subs_bs_consumption_minutes):\n",
    "        item = subs_bs_consumption_minutes[key]\n",
    "        for i in range(8):\n",
    "            if min_mx[i] != 0:\n",
    "                result.append(item[i] / min_mx[i])\n",
    "            else:\n",
    "                result.append(item[i])\n",
    "    else:\n",
    "        result.extend([0,0,0,0,0,0,0,0])\n",
    "    if (key in subs_bs_consumption_voice):\n",
    "        item = subs_bs_consumption_voice[key]\n",
    "        for i in range(8):\n",
    "            if voice_mx[i] != 0:\n",
    "                result.append(item[i] / voice_mx[i])\n",
    "            else:\n",
    "                result.append(item[i])\n",
    "    else:\n",
    "        result.extend([0,0,0,0,0,0,0,0])\n",
    "\n",
    "    #print(result)\n",
    "    return result"
   ]
  },
  {
   "cell_type": "code",
   "execution_count": 246,
   "metadata": {},
   "outputs": [],
   "source": [
    "# for cnn\n",
    "table = []\n",
    "if TRAIN:\n",
    "    y = np.zeros(subs_csi.shape[0])\n",
    "for i in enumerate(subs_csi.values):\n",
    "    sk_id = int(i[1][0])\n",
    "    #line = [sk_id]\n",
    "    #table_columns = ['sk_id']\n",
    "    if TRAIN:\n",
    "        dt = str(i[1][2]).split('.')\n",
    "    else:\n",
    "        dt = str(i[1][1]).split('.')\n",
    "    year = 2002\n",
    "    month = int(dt[1])\n",
    "    row = []\n",
    "    for j in range(6):\n",
    "        new_line = get_subs_features(year, month, int(dt[1]), int(dt[0]), sk_id)\n",
    "\n",
    "        qos = list(extend_qos(sk_id, month))\n",
    "        qos.extend(list(new_line[1]))\n",
    "        row.append(np.array(qos))\n",
    "        \n",
    "        #table_columns.extend(new_line[0])\n",
    "        month -= 1\n",
    "        if month == 0:\n",
    "            month = 12\n",
    "            year -= 1\n",
    "    table.append(np.array(row))\n",
    "    if TRAIN:\n",
    "        y[i[0]] = i[1][1]"
   ]
  },
  {
   "cell_type": "code",
   "execution_count": null,
   "metadata": {
    "collapsed": true
   },
   "outputs": [],
   "source": []
  },
  {
   "cell_type": "code",
   "execution_count": 247,
   "metadata": {},
   "outputs": [],
   "source": [
    "data = np.array(table)"
   ]
  },
  {
   "cell_type": "code",
   "execution_count": 248,
   "metadata": {},
   "outputs": [
    {
     "data": {
      "text/plain": [
       "(5221, 6, 58)"
      ]
     },
     "execution_count": 248,
     "metadata": {},
     "output_type": "execute_result"
    }
   ],
   "source": [
    "data.shape"
   ]
  },
  {
   "cell_type": "code",
   "execution_count": null,
   "metadata": {
    "collapsed": true
   },
   "outputs": [],
   "source": []
  },
  {
   "cell_type": "code",
   "execution_count": 249,
   "metadata": {
    "collapsed": true
   },
   "outputs": [],
   "source": [
    "count_days = 30"
   ]
  },
  {
   "cell_type": "code",
   "execution_count": 250,
   "metadata": {
    "collapsed": true
   },
   "outputs": [],
   "source": [
    "table2 = get_cells_data(user_data_session, mx_data, list(subs_csi['SK_ID']), list(subs_csi['CONTACT_DATE'].apply(lambda x:datetime.strptime(x, '%d.%m').date())), count_days)"
   ]
  },
  {
   "cell_type": "code",
   "execution_count": 251,
   "metadata": {
    "collapsed": true
   },
   "outputs": [],
   "source": [
    "data2 = np.array(table2)"
   ]
  },
  {
   "cell_type": "code",
   "execution_count": 252,
   "metadata": {},
   "outputs": [
    {
     "data": {
      "text/plain": [
       "(5221, 30, 7)"
      ]
     },
     "execution_count": 252,
     "metadata": {},
     "output_type": "execute_result"
    }
   ],
   "source": [
    "data2.shape"
   ]
  },
  {
   "cell_type": "code",
   "execution_count": 253,
   "metadata": {},
   "outputs": [
    {
     "data": {
      "text/plain": [
       "1.1264367816091954"
      ]
     },
     "execution_count": 253,
     "metadata": {},
     "output_type": "execute_result"
    }
   ],
   "source": [
    "data2.max()"
   ]
  },
  {
   "cell_type": "code",
   "execution_count": 254,
   "metadata": {
    "collapsed": true
   },
   "outputs": [],
   "source": [
    "table3 = get_cells_data(user_voice_session, mx_voice, list(subs_csi['SK_ID']), list(subs_csi['CONTACT_DATE'].apply(lambda x:datetime.strptime(x, '%d.%m').date())), count_days)"
   ]
  },
  {
   "cell_type": "code",
   "execution_count": 255,
   "metadata": {
    "collapsed": true
   },
   "outputs": [],
   "source": [
    "data3 = np.array(table3)"
   ]
  },
  {
   "cell_type": "code",
   "execution_count": 256,
   "metadata": {},
   "outputs": [
    {
     "data": {
      "text/plain": [
       "3.373702425378048"
      ]
     },
     "execution_count": 256,
     "metadata": {},
     "output_type": "execute_result"
    }
   ],
   "source": [
    "data3.max()"
   ]
  },
  {
   "cell_type": "code",
   "execution_count": null,
   "metadata": {
    "collapsed": true
   },
   "outputs": [],
   "source": []
  },
  {
   "cell_type": "code",
   "execution_count": null,
   "metadata": {
    "collapsed": true
   },
   "outputs": [],
   "source": []
  },
  {
   "cell_type": "code",
   "execution_count": 45,
   "metadata": {
    "collapsed": true
   },
   "outputs": [],
   "source": [
    "#res_data = np.hstack((data, data2, data3))"
   ]
  },
  {
   "cell_type": "code",
   "execution_count": null,
   "metadata": {
    "collapsed": true
   },
   "outputs": [],
   "source": []
  },
  {
   "cell_type": "code",
   "execution_count": null,
   "metadata": {
    "collapsed": true
   },
   "outputs": [],
   "source": []
  },
  {
   "cell_type": "code",
   "execution_count": null,
   "metadata": {
    "collapsed": true
   },
   "outputs": [],
   "source": []
  },
  {
   "cell_type": "code",
   "execution_count": null,
   "metadata": {
    "collapsed": true
   },
   "outputs": [],
   "source": []
  },
  {
   "cell_type": "code",
   "execution_count": 46,
   "metadata": {
    "collapsed": true
   },
   "outputs": [],
   "source": [
    "from sklearn import preprocessing"
   ]
  },
  {
   "cell_type": "code",
   "execution_count": 257,
   "metadata": {
    "collapsed": true
   },
   "outputs": [],
   "source": [
    "X = np.asarray(data)\n",
    "X2 = np.asarray(data2)\n",
    "X3 = np.asarray(data3)\n",
    "y = np.asarray(y)"
   ]
  },
  {
   "cell_type": "code",
   "execution_count": null,
   "metadata": {
    "collapsed": true
   },
   "outputs": [],
   "source": []
  },
  {
   "cell_type": "code",
   "execution_count": null,
   "metadata": {
    "collapsed": true
   },
   "outputs": [],
   "source": []
  },
  {
   "cell_type": "code",
   "execution_count": 195,
   "metadata": {
    "collapsed": true
   },
   "outputs": [],
   "source": [
    "from sklearn.model_selection import train_test_split"
   ]
  },
  {
   "cell_type": "code",
   "execution_count": 196,
   "metadata": {
    "collapsed": true
   },
   "outputs": [],
   "source": [
    "X_train_1, X_test_1, X_train_2, X_test_2, X_train_3, X_test_3, y_train, y_test \\\n",
    "    = train_test_split(X, X2, X3, y, test_size=0.2, random_state=42)"
   ]
  },
  {
   "cell_type": "code",
   "execution_count": null,
   "metadata": {
    "collapsed": true
   },
   "outputs": [],
   "source": []
  },
  {
   "cell_type": "code",
   "execution_count": 197,
   "metadata": {
    "collapsed": true
   },
   "outputs": [],
   "source": [
    "from sklearn.utils.class_weight import compute_class_weight"
   ]
  },
  {
   "cell_type": "code",
   "execution_count": 198,
   "metadata": {
    "collapsed": true
   },
   "outputs": [],
   "source": [
    "from keras.models import Sequential, Model\n",
    "from keras.layers import Dense, Dropout, Conv1D, MaxPooling1D, Flatten, Input, GlobalMaxPooling1D, GRU, Bidirectional, LSTM, concatenate\n",
    "from keras.utils import np_utils\n",
    "from keras.callbacks import EarlyStopping\n",
    "from sklearn.model_selection import train_test_split"
   ]
  },
  {
   "cell_type": "code",
   "execution_count": 199,
   "metadata": {
    "collapsed": true
   },
   "outputs": [],
   "source": [
    "from sklearn.metrics import roc_auc_score\n",
    "from keras import regularizers"
   ]
  },
  {
   "cell_type": "code",
   "execution_count": 200,
   "metadata": {
    "collapsed": true
   },
   "outputs": [],
   "source": [
    "from sklearn import metrics\n",
    "from keras import backend as K\n",
    "import tensorflow as tf\n",
    "def auc(y_true, y_pred):\n",
    "    auc = tf.metrics.auc(y_true, y_pred)[1]\n",
    "    K.get_session().run(tf.local_variables_initializer())\n",
    "    return auc"
   ]
  },
  {
   "cell_type": "code",
   "execution_count": 207,
   "metadata": {
    "collapsed": true
   },
   "outputs": [],
   "source": [
    "def create_dnn_model():\n",
    "    #build Keras model\n",
    "    \n",
    "    dropout = 0.2\n",
    "    \n",
    "    x1_input = Input(shape=X_train_1.shape[1:], dtype='float32')\n",
    "\n",
    "    #x1_layer = Conv1D(128, 3, activation='relu')(x1_input)\n",
    "    #x1_layer = MaxPooling1D(3)(x1_layer)\n",
    "    #x1_layer = Conv1D(128, 3, activation='relu')(x1_layer)\n",
    "    #x1_layer = GlobalMaxPooling1D()(x1_layer)\n",
    "    x1_layer = GRU(128, dropout=dropout, recurrent_dropout=dropout, return_sequences=True, activation='relu', kernel_regularizer=regularizers.l2(0.001))(x1_input)\n",
    "    x1_layer = GRU(128, dropout=dropout, recurrent_dropout=dropout, activation='relu', kernel_regularizer=regularizers.l2(0.001))(x1_layer)\n",
    "    \n",
    "    \n",
    "    x2_input = Input(shape=X_train_2.shape[1:], dtype='float32')\n",
    "    \n",
    "    #x2_layer = LSTM(64, dropout=0.2, recurrent_dropout=0.2, return_sequences=True, activation='relu', kernel_regularizer=regularizers.l2(0.005))(x2_input)\n",
    "    #x2_layer = GRU(16, dropout=0.2, recurrent_dropout=0.2, return_sequences=True, activation='relu', kernel_regularizer=regularizers.l2(0.005))(x2_layer)\n",
    "    #x2_layer = GRU(16, dropout=0.2, recurrent_dropout=0.2, return_sequences=True, activation='relu', kernel_regularizer=regularizers.l2(0.005))(x2_layer)\n",
    "    #x2_layer = LSTM(64, dropout=0.2, recurrent_dropout=0.2, activation='relu', kernel_regularizer=regularizers.l2(0.005))(x2_layer)\n",
    "    \n",
    "    x2_layer = Conv1D(96, 3, activation='relu')(x2_input)\n",
    "    x2_layer = MaxPooling1D(3)(x2_layer)\n",
    "    x2_layer = Conv1D(96, 3, activation='relu')(x2_layer)\n",
    "    #x2_layer = GlobalMaxPooling1D()(x2_layer)\n",
    "    x2_layer = GRU(64, dropout=dropout, recurrent_dropout=dropout, return_sequences=True, activation='relu', kernel_regularizer=regularizers.l2(0.001))(x2_layer)\n",
    "    x2_layer = GRU(64, dropout=dropout, recurrent_dropout=dropout, activation='relu', kernel_regularizer=regularizers.l2(0.001))(x2_layer)\n",
    "      \n",
    "        \n",
    "    x3_input = Input(shape=X_train_3.shape[1:], dtype='float32')\n",
    "    \n",
    "    #x3_layer = LSTM(64, dropout=0.2, recurrent_dropout=0.2, return_sequences=True, activation='relu', kernel_regularizer=regularizers.l2(0.005))(x3_input)\n",
    "    #x3_layer = GRU(16, dropout=0.2, recurrent_dropout=0.2, return_sequences=True, activation='relu', kernel_regularizer=regularizers.l2(0.005))(x3_layer)\n",
    "    #x3_layer = GRU(16, dropout=0.2, recurrent_dropout=0.2, return_sequences=True, activation='relu', kernel_regularizer=regularizers.l2(0.005))(x3_layer)\n",
    "    #x3_layer = LSTM(64, dropout=0.2, recurrent_dropout=0.2, activation='relu', kernel_regularizer=regularizers.l2(0.005))(x3_layer)\n",
    "    \n",
    "    x3_layer = Conv1D(96, 3, activation='relu')(x3_input)\n",
    "    x3_layer = MaxPooling1D(3)(x3_layer)\n",
    "    x3_layer = Conv1D(96, 3, activation='relu')(x3_layer)\n",
    "    #x3_layer = GlobalMaxPooling1D()(x3_layer)\n",
    "    x3_layer = GRU(64, dropout=dropout, recurrent_dropout=dropout, return_sequences=True, activation='relu', kernel_regularizer=regularizers.l2(0.001))(x3_layer)\n",
    "    x3_layer = GRU(64, dropout=dropout, recurrent_dropout=dropout, activation='relu', kernel_regularizer=regularizers.l2(0.001))(x3_layer)\n",
    "    \n",
    "    concatenated = concatenate([x1_layer, x2_layer, x3_layer], axis=-1)\n",
    "    \n",
    "    for i in range(3):\n",
    "        #concatenated = Dropout(0.2)(concatenated)\n",
    "        concatenated = Dense(128, activation=\"relu\", kernel_initializer=\"uniform\", kernel_regularizer=regularizers.l2(0.001))(concatenated)\n",
    "    \n",
    "    preds = Dense(1, activation=\"sigmoid\", kernel_initializer=\"uniform\")(concatenated)\n",
    "\n",
    "    model = Model([x1_input, x2_input, x3_input], preds)\n",
    "    model.compile(loss='binary_crossentropy', metrics=[auc], optimizer='adam')\n",
    "    return model"
   ]
  },
  {
   "cell_type": "code",
   "execution_count": 210,
   "metadata": {},
   "outputs": [
    {
     "data": {
      "image/png": "[encoded data removed]",
      "text/plain": [
       "<matplotlib.figure.Figure at 0x1e5fc2d9198>"
      ]
     },
     "metadata": {},
     "output_type": "display_data"
    },
    {
     "name": "stdout",
     "output_type": "stream",
     "text": [
      "\b\b\b\b\b\b\b\b\b\b\b\b\b\b\b\b\b\b\b\b\b\b\b\b\b\b\b\b\b\b\b\b\b\b\b\b\b\b\b\b\b\b\b\b\b\b\b\b\b\b\b\b\b\b\b\b\b\b\b\b\b\b\b\b\b\b\b\b\b\b\b\b\b\b\b\b\b\b\b\b\b\r",
      "3377/3377 [==============================] - 2s 541us/step - loss: 0.4255 - auc: 0.5752 - val_loss: 0.4426 - val_auc: 0.5753\n"
     ]
    }
   ],
   "source": [
    "count_epochs = 300\n",
    "model = create_dnn_model()\n",
    "early_stopping_monitor = EarlyStopping(patience=30)\n",
    "class_weights = compute_class_weight('balanced', np.unique(y), y)\n",
    "history = model.fit([np.array(X), np.array(X2), np.array(X3)], np.array(y), batch_size = 64, epochs = count_epochs, verbose=1, validation_split=0.2, class_weight=class_weights, callbacks=[plot,early_stopping_monitor])\n",
    "#class_weights = compute_class_weight('balanced', np.unique(y_train), y_train)\n",
    "#history = model.fit([np.array(X_train_1), np.array(X_train_2), np.array(X_train_3)], np.array(y_train), batch_size = 64, epochs = count_epochs, verbose=1, validation_split=0.2, class_weight=class_weights, callbacks=[plot,early_stopping_monitor])"
   ]
  },
  {
   "cell_type": "code",
   "execution_count": 211,
   "metadata": {
    "collapsed": true
   },
   "outputs": [],
   "source": [
    "send_notify('Complete fit')"
   ]
  },
  {
   "cell_type": "code",
   "execution_count": null,
   "metadata": {
    "collapsed": true
   },
   "outputs": [],
   "source": []
  },
  {
   "cell_type": "code",
   "execution_count": 203,
   "metadata": {},
   "outputs": [
    {
     "data": {
      "image/png": "[encoded data removed]",
      "text/plain": [
       "<matplotlib.figure.Figure at 0x1e56c80fa58>"
      ]
     },
     "metadata": {},
     "output_type": "display_data"
    }
   ],
   "source": [
    "history_gr = history.history['val_loss']\n",
    "epochs = range(1, len(history_gr) + 1)\n",
    "import matplotlib.pyplot as plt\n",
    "\n",
    "plt.plot(epochs, history_gr, 'b+', label='Original model')\n",
    "plt.xlabel('Epochs')\n",
    "plt.ylabel('Validation loss')\n",
    "plt.legend()\n",
    "\n",
    "plt.show()"
   ]
  },
  {
   "cell_type": "code",
   "execution_count": null,
   "metadata": {
    "collapsed": true
   },
   "outputs": [],
   "source": []
  },
  {
   "cell_type": "code",
   "execution_count": 209,
   "metadata": {},
   "outputs": [
    {
     "name": "stdout",
     "output_type": "stream",
     "text": [
      "Total roc auc score = 0.5407\n"
     ]
    }
   ],
   "source": [
    "predict = model.predict([np.array(X_test_1), np.array(X_test_2), np.array(X_test_3)])\n",
    "score = roc_auc_score(y_test, predict)\n",
    "print(\"Total roc auc score = {0:0.4f}\".format(score))"
   ]
  },
  {
   "cell_type": "code",
   "execution_count": null,
   "metadata": {
    "collapsed": true
   },
   "outputs": [],
   "source": []
  },
  {
   "cell_type": "code",
   "execution_count": 60,
   "metadata": {
    "collapsed": true
   },
   "outputs": [],
   "source": [
    "model_json = model.to_json()\n",
    "# Записываем модель в файл\n",
    "json_file = open(\"sale_model.json\", \"w\")\n",
    "json_file.write(model_json)\n",
    "json_file.close()\n",
    "model.save_weights(\"sale_model.h5\")"
   ]
  },
  {
   "cell_type": "code",
   "execution_count": null,
   "metadata": {
    "collapsed": true
   },
   "outputs": [],
   "source": []
  },
  {
   "cell_type": "code",
   "execution_count": 259,
   "metadata": {
    "collapsed": true
   },
   "outputs": [],
   "source": [
    "def save_predict(predict):\n",
    "    with open('first.csv', 'w') as f:\n",
    "        for item in predict:\n",
    "            f.write(\"%s\\n\" % item[0])"
   ]
  },
  {
   "cell_type": "code",
   "execution_count": 260,
   "metadata": {},
   "outputs": [],
   "source": [
    "save_predict(model.predict([np.array(X), np.array(X2), np.array(X3)]))"
   ]
  },
  {
   "cell_type": "code",
   "execution_count": null,
   "metadata": {
    "collapsed": true
   },
   "outputs": [],
   "source": []
  }
 ],
 "metadata": {
  "kernelspec": {
   "display_name": "Python 3",
   "language": "python",
   "name": "python3"
  },
  "language_info": {
   "codemirror_mode": {
    "name": "ipython",
    "version": 3
   },
   "file_extension": ".py",
   "mimetype": "text/x-python",
   "name": "python",
   "nbconvert_exporter": "python",
   "pygments_lexer": "ipython3",
   "version": "3.6.3"
  }
 },
 "nbformat": 4,
 "nbformat_minor": 2
}
