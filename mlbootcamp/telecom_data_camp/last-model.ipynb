{
 "cells": [
  {
   "cell_type": "code",
   "execution_count": 1,
   "metadata": {
    "collapsed": true
   },
   "outputs": [],
   "source": [
    "import pandas as pd\n",
    "import numpy as np\n",
    "from datetime import datetime, timedelta\n",
    "from collections import defaultdict"
   ]
  },
  {
   "cell_type": "code",
   "execution_count": null,
   "metadata": {
    "collapsed": true
   },
   "outputs": [],
   "source": []
  },
  {
   "cell_type": "code",
   "execution_count": 2,
   "metadata": {
    "collapsed": true
   },
   "outputs": [],
   "source": [
    "%matplotlib inline"
   ]
  },
  {
   "cell_type": "code",
   "execution_count": null,
   "metadata": {
    "collapsed": true
   },
   "outputs": [],
   "source": []
  },
  {
   "cell_type": "code",
   "execution_count": 3,
   "metadata": {},
   "outputs": [
    {
     "name": "stderr",
     "output_type": "stream",
     "text": [
      "C:\\ProgramData\\Anaconda3\\lib\\site-packages\\h5py\\__init__.py:34: FutureWarning: Conversion of the second argument of issubdtype from `float` to `np.floating` is deprecated. In future, it will be treated as `np.float64 == np.dtype(float).type`.\n",
      "  from ._conv import register_converters as _register_converters\n",
      "Using TensorFlow backend.\n"
     ]
    }
   ],
   "source": [
    "from keras.callbacks import Callback\n",
    "from matplotlib import pyplot as plt\n",
    "from IPython.display import clear_output\n",
    "class PlotLearning(Callback):\n",
    "    def on_train_begin(self, logs={}):\n",
    "        self.i = 0\n",
    "        self.x = []\n",
    "        self.losses = []\n",
    "        self.val_losses = []\n",
    "        self.acc = []\n",
    "        self.val_acc = []\n",
    "        self.fig = plt.figure()\n",
    "        \n",
    "        self.logs = []\n",
    "\n",
    "    def on_epoch_end(self, epoch, logs={}):\n",
    "        \n",
    "        self.logs.append(logs)\n",
    "        self.x.append(self.i)\n",
    "        self.losses.append(logs.get('loss'))\n",
    "        self.val_losses.append(logs.get('val_loss'))\n",
    "        self.acc.append(logs.get('auc'))\n",
    "        self.val_acc.append(logs.get('val_auc'))\n",
    "        self.i += 1\n",
    "        f, (ax1, ax2) = plt.subplots(1, 2, sharex=True,figsize=(15,10))\n",
    "        \n",
    "        clear_output(wait=True)\n",
    "        \n",
    "        ax1.set_yscale('log')\n",
    "        ax1.plot(self.x, self.losses, label=\"loss\")\n",
    "        ax1.plot(self.x, self.val_losses, label=\"validation_loss\")\n",
    "        ax1.legend()\n",
    "        \n",
    "        ax2.plot(self.x, self.acc, label=\"accuracy\")\n",
    "        ax2.plot(self.x, self.val_acc, label=\"validation accuracy\")\n",
    "        ax2.legend()\n",
    "        \n",
    "        plt.show();\n",
    "        \n",
    "plot = PlotLearning()"
   ]
  },
  {
   "cell_type": "code",
   "execution_count": null,
   "metadata": {
    "collapsed": true
   },
   "outputs": [],
   "source": []
  },
  {
   "cell_type": "code",
   "execution_count": 4,
   "metadata": {
    "collapsed": true
   },
   "outputs": [],
   "source": [
    "import telepot\n",
    "def send_notify(text):\n",
    "    with open('../../_access_keys/telegram_token.txt', 'r') as content_file:\n",
    "        token = content_file.read()\n",
    "    with open('../../_access_keys/user.txt', 'r') as content_file:\n",
    "        user = content_file.read()\n",
    "    try:\n",
    "        TelegramBot = telepot.Bot(token)\n",
    "        TelegramBot.sendMessage(int(user), text)\n",
    "    except:\n",
    "        pass"
   ]
  },
  {
   "cell_type": "code",
   "execution_count": null,
   "metadata": {
    "collapsed": true
   },
   "outputs": [],
   "source": []
  },
  {
   "cell_type": "code",
   "execution_count": null,
   "metadata": {
    "collapsed": true
   },
   "outputs": [],
   "source": []
  },
  {
   "cell_type": "code",
   "execution_count": 5,
   "metadata": {
    "collapsed": true
   },
   "outputs": [],
   "source": [
    "TRAIN = True\n",
    "DNN = True"
   ]
  },
  {
   "cell_type": "code",
   "execution_count": null,
   "metadata": {
    "collapsed": true
   },
   "outputs": [],
   "source": []
  },
  {
   "cell_type": "code",
   "execution_count": 6,
   "metadata": {
    "collapsed": true
   },
   "outputs": [],
   "source": [
    "path = 'c:/data/mlbootcamp/dataset/'\n",
    "path_train = path + 'train/'\n",
    "path_test = path + 'test/'\n",
    "path_features = 'features/'\n",
    "if TRAIN:\n",
    "    pathfiles = path_train\n",
    "    path_subs_bs_consumption = 'subs_bs_consumption_train.csv'\n",
    "    path_subs_bs_data_session = 'subs_bs_data_session_train.csv'\n",
    "    path_subs_bs_voice_session = 'subs_bs_voice_session_train.csv'\n",
    "    path_subs_features = 'subs_features_train.csv'\n",
    "    path_subs_csi = 'subs_csi_train.csv'\n",
    "    path_new_features = 'features.csv'\n",
    "else:\n",
    "    pathfiles = path_test\n",
    "    path_subs_bs_consumption = 'subs_bs_consumption_test.csv'\n",
    "    path_subs_bs_data_session = 'subs_bs_data_session_test.csv'\n",
    "    path_subs_bs_voice_session = 'subs_bs_voice_session_test.csv'\n",
    "    path_subs_features = 'subs_features_test.csv'\n",
    "    path_subs_csi = 'subs_csi_test.csv'\n",
    "    path_new_features = 'features.csv'"
   ]
  },
  {
   "cell_type": "code",
   "execution_count": null,
   "metadata": {
    "collapsed": true
   },
   "outputs": [],
   "source": []
  },
  {
   "cell_type": "code",
   "execution_count": null,
   "metadata": {
    "collapsed": true
   },
   "outputs": [],
   "source": []
  },
  {
   "cell_type": "code",
   "execution_count": 7,
   "metadata": {
    "collapsed": true
   },
   "outputs": [],
   "source": [
    "subs_csi = pd.read_csv(pathfiles + path_subs_csi, sep=';', decimal=',')"
   ]
  },
  {
   "cell_type": "code",
   "execution_count": 8,
   "metadata": {},
   "outputs": [
    {
     "data": {
      "text/html": [
       "<div>\n",
       "<style scoped>\n",
       "    .dataframe tbody tr th:only-of-type {\n",
       "        vertical-align: middle;\n",
       "    }\n",
       "\n",
       "    .dataframe tbody tr th {\n",
       "        vertical-align: top;\n",
       "    }\n",
       "\n",
       "    .dataframe thead th {\n",
       "        text-align: right;\n",
       "    }\n",
       "</style>\n",
       "<table border=\"1\" class=\"dataframe\">\n",
       "  <thead>\n",
       "    <tr style=\"text-align: right;\">\n",
       "      <th></th>\n",
       "      <th>SK_ID</th>\n",
       "      <th>CSI</th>\n",
       "      <th>CONTACT_DATE</th>\n",
       "    </tr>\n",
       "  </thead>\n",
       "  <tbody>\n",
       "    <tr>\n",
       "      <th>0</th>\n",
       "      <td>2</td>\n",
       "      <td>0</td>\n",
       "      <td>04.05</td>\n",
       "    </tr>\n",
       "  </tbody>\n",
       "</table>\n",
       "</div>"
      ],
      "text/plain": [
       "   SK_ID  CSI CONTACT_DATE\n",
       "0      2    0        04.05"
      ]
     },
     "execution_count": 8,
     "metadata": {},
     "output_type": "execute_result"
    }
   ],
   "source": [
    "subs_csi.head(1)"
   ]
  },
  {
   "cell_type": "code",
   "execution_count": 9,
   "metadata": {},
   "outputs": [
    {
     "data": {
      "text/plain": [
       "(4222, 3)"
      ]
     },
     "execution_count": 9,
     "metadata": {},
     "output_type": "execute_result"
    }
   ],
   "source": [
    "subs_csi.shape"
   ]
  },
  {
   "cell_type": "code",
   "execution_count": null,
   "metadata": {
    "collapsed": true
   },
   "outputs": [],
   "source": []
  },
  {
   "cell_type": "code",
   "execution_count": 10,
   "metadata": {
    "collapsed": true
   },
   "outputs": [],
   "source": [
    "cells_2g = set(pd.read_csv(path + '2g.csv')['cell_id'].unique())\n",
    "cells_3g = set(pd.read_csv(path + '3g.csv')['cell_id'].unique())\n",
    "cells_4g = set(pd.read_csv(path + '4g.csv')['cell_id'].unique())"
   ]
  },
  {
   "cell_type": "code",
   "execution_count": null,
   "metadata": {
    "collapsed": true
   },
   "outputs": [],
   "source": []
  },
  {
   "cell_type": "code",
   "execution_count": 11,
   "metadata": {
    "collapsed": true
   },
   "outputs": [],
   "source": [
    "# 2G"
   ]
  },
  {
   "cell_type": "code",
   "execution_count": 12,
   "metadata": {
    "collapsed": true
   },
   "outputs": [],
   "source": [
    "columns_2g = ['CSSR_2G', 'PSSR_2G', 'TBF_DROP_RATE_2G', 'TCH_DROP_RATE_2G']"
   ]
  },
  {
   "cell_type": "code",
   "execution_count": null,
   "metadata": {
    "collapsed": true
   },
   "outputs": [],
   "source": []
  },
  {
   "cell_type": "code",
   "execution_count": 13,
   "metadata": {
    "collapsed": true
   },
   "outputs": [],
   "source": [
    "# 3G"
   ]
  },
  {
   "cell_type": "code",
   "execution_count": 14,
   "metadata": {
    "collapsed": true
   },
   "outputs": [],
   "source": [
    "columns_3g = ['CSSR_3G',    \n",
    "             'PSSR_3G', 'RAB_CS_BLOCKING_RATE_3G', 'RAB_CS_DROP_RATE_3G', 'RAB_PS_BLOCKING_RATE_3G', 'RAB_PS_DROP_RATE_3G']"
   ]
  },
  {
   "cell_type": "code",
   "execution_count": null,
   "metadata": {
    "collapsed": true
   },
   "outputs": [],
   "source": []
  },
  {
   "cell_type": "code",
   "execution_count": 15,
   "metadata": {
    "collapsed": true
   },
   "outputs": [],
   "source": [
    "# 4G"
   ]
  },
  {
   "cell_type": "code",
   "execution_count": 16,
   "metadata": {
    "collapsed": true
   },
   "outputs": [],
   "source": [
    "columns_4g = ['ERAB_PS_BLOCKING_RATE_LTE', 'ERAB_PS_BLOCKING_RATE_PLMN_LTE',\n",
    "             'ERAB_PS_DROP_RATE_LTE', 'PSSR_LTE', 'RRC_BLOCKING_RATE_LTE']"
   ]
  },
  {
   "cell_type": "code",
   "execution_count": 17,
   "metadata": {},
   "outputs": [
    {
     "data": {
      "text/plain": [
       "1"
      ]
     },
     "execution_count": 17,
     "metadata": {},
     "output_type": "execute_result"
    }
   ],
   "source": [
    "1"
   ]
  },
  {
   "cell_type": "code",
   "execution_count": null,
   "metadata": {
    "collapsed": true
   },
   "outputs": [],
   "source": []
  },
  {
   "cell_type": "code",
   "execution_count": null,
   "metadata": {
    "collapsed": true
   },
   "outputs": [],
   "source": []
  },
  {
   "cell_type": "code",
   "execution_count": 18,
   "metadata": {
    "collapsed": true
   },
   "outputs": [],
   "source": [
    "columns_avg = ['CELL_AVAILABILITY_2G', 'CELL_AVAILABILITY_3G',\n",
    "       'CELL_AVAILABILITY_4G', 'CSSR_2G', 'CSSR_3G',\n",
    "       'ERAB_PS_BLOCKING_RATE_LTE', 'ERAB_PS_BLOCKING_RATE_PLMN_LTE',\n",
    "       'ERAB_PS_DROP_RATE_LTE', 'HSPDSCH_CODE_UTIL_3G',\n",
    "       'NODEB_CNBAP_LOAD_HARDWARE', 'PART_CQI_QPSK_LTE', 'PART_MCS_QPSK_LTE',\n",
    "       'PROC_LOAD_3G', 'PSSR_2G', 'PSSR_3G', 'PSSR_LTE',\n",
    "       'RAB_CS_BLOCKING_RATE_3G', 'RAB_CS_DROP_RATE_3G',\n",
    "       'RAB_PS_BLOCKING_RATE_3G', 'RAB_PS_DROP_RATE_3G', 'RBU_AVAIL_DL',\n",
    "       'RBU_AVAIL_DL_LTE', 'RBU_AVAIL_UL', 'RBU_OTHER_DL', 'RBU_OTHER_UL',\n",
    "       'RBU_OWN_DL', 'RBU_OWN_UL', 'RRC_BLOCKING_RATE_3G',\n",
    "       'RRC_BLOCKING_RATE_LTE', 'RTWP_3G', 'SHO_FACTOR', 'TBF_DROP_RATE_2G',\n",
    "       'TCH_DROP_RATE_2G', 'UTIL_BRD_CPU_3G', 'UTIL_CE_DL_3G',\n",
    "       'UTIL_CE_HW_DL_3G', 'UTIL_CE_UL_3G', 'UTIL_SUBUNITS_3G',\n",
    "       'UL_VOLUME_LTE', 'DL_VOLUME_LTE', 'TOTAL_DL_VOLUME_3G',\n",
    "       'TOTAL_UL_VOLUME_3G']"
   ]
  },
  {
   "cell_type": "code",
   "execution_count": 19,
   "metadata": {
    "collapsed": true
   },
   "outputs": [],
   "source": [
    "columns_chhn = ['AVEUSERNUMBER', 'AVEUSERNUMBER_PLMN',\n",
    "       'AVR_DL_HSPA_USER_3G', 'AVR_DL_R99_USER_3G', 'AVR_DL_USER_3G',\n",
    "       'AVR_DL_USER_LTE', 'AVR_TX_POWER_3G', 'AVR_UL_HSPA_USER',\n",
    "       'AVR_UL_R99_USER', 'AVR_UL_USER_3G', 'AVR_UL_USER_LTE',\n",
    "       'DL_AVR_THROUGHPUT_3G', 'DL_AVR_THROUGHPUT_LTE',\n",
    "       'DL_AVR_THROUGHPUT_R99', 'DL_MEAN_USER_THROUGHPUT_LTE',\n",
    "       'DL_MEAN_USER_THROUGHPUT_DL_2G', 'DL_MEAN_USER_THROUGHPUT_HSPA3G',\n",
    "       'DL_MEAN_USER_THROUGHPUT_PLTE', 'DL_MEAN_USER_THROUGHPUT_REL93G',\n",
    "       'HSDPA_USERS_3G', 'HSUPA_USERS_3G', 'RBU_USED_DL', 'RBU_USED_UL',\n",
    "       'RELATIVE_RBU_USED_DL', 'RELATIVE_RBU_USED_UL', 'RELATIVE_TX_POWER_3G',\n",
    "       'UL_AVR_THROUGHPUT_3G', 'UL_AVR_THROUGHPUT_LTE',\n",
    "       'UL_AVR_THROUGHPUT_R99', 'UL_MEAN_USER_THROUGHPUT_LTE',\n",
    "       'UL_MEAN_USER_THROUGHPUT_HS3G', 'UL_MEAN_USER_THROUGHPUT_PLTE',\n",
    "       'UL_MEAN_USER_THROUGHPUT_REL93G']"
   ]
  },
  {
   "cell_type": "code",
   "execution_count": 20,
   "metadata": {
    "collapsed": true
   },
   "outputs": [],
   "source": [
    "data_columns = ['CELL_AVAILABILITY_2G', 'CELL_AVAILABILITY_3G', 'CELL_AVAILABILITY_4G', 'ERAB_PS_BLOCKING_RATE_LTE',\n",
    "                'ERAB_PS_BLOCKING_RATE_PLMN_LTE', 'ERAB_PS_DROP_RATE_LTE', 'HSPDSCH_CODE_UTIL_3G', 'NODEB_CNBAP_LOAD_HARDWARE',\n",
    "                'PART_CQI_QPSK_LTE', 'PART_MCS_QPSK_LTE', 'PROC_LOAD_3G', 'PSSR_2G', 'PSSR_3G', 'PSSR_LTE', \n",
    "                'RAB_PS_BLOCKING_RATE_3G', 'RAB_PS_DROP_RATE_3G', 'RBU_AVAIL_DL_LTE', 'RBU_AVAIL_DL', 'RBU_AVAIL_UL', 'RBU_OTHER_DL',\n",
    "                'RBU_OTHER_UL', 'RBU_OWN_DL', 'RBU_OWN_UL', 'RRC_BLOCKING_RATE_3G', 'RRC_BLOCKING_RATE_LTE', 'RTWP_3G',\n",
    "                'SHO_FACTOR', 'TBF_DROP_RATE_2G', 'UTIL_BRD_CPU_3G', 'UTIL_CE_DL_3G', 'UTIL_CE_HW_DL_3G', 'UTIL_CE_UL_3G',\n",
    "                'UTIL_SUBUNITS_3G', 'UL_VOLUME_LTE', 'DL_VOLUME_LTE', 'TOTAL_DL_VOLUME_3G', 'TOTAL_UL_VOLUME_3G', 'AVEUSERNUMBER',\n",
    "                'AVEUSERNUMBER_PLMN', 'AVR_DL_HSPA_USER_3G', 'AVR_DL_R99_USER_3G', 'AVR_DL_USER_3G', 'AVR_DL_USER_LTE',\n",
    "                'AVR_TX_POWER_3G', 'AVR_UL_HSPA_USER', 'AVR_UL_R99_USER', 'AVR_UL_USER_3G', 'AVR_UL_USER_LTE',\n",
    "                'DL_AVR_THROUGHPUT_3G', 'DL_AVR_THROUGHPUT_LTE', 'DL_AVR_THROUGHPUT_R99', 'DL_MEAN_USER_THROUGHPUT_LTE',\n",
    "                'DL_MEAN_USER_THROUGHPUT_DL_2G', 'DL_MEAN_USER_THROUGHPUT_HSPA3G', 'DL_MEAN_USER_THROUGHPUT_PLTE',\n",
    "                'DL_MEAN_USER_THROUGHPUT_REL93G', 'HSDPA_USERS_3G', 'HSUPA_USERS_3G', 'RBU_USED_DL', 'RBU_USED_UL',\n",
    "                'RELATIVE_RBU_USED_DL', 'RELATIVE_RBU_USED_UL', 'RELATIVE_TX_POWER_3G', 'UL_AVR_THROUGHPUT_3G',\n",
    "                'UL_AVR_THROUGHPUT_LTE', 'UL_AVR_THROUGHPUT_R99', 'UL_MEAN_USER_THROUGHPUT_LTE', 'UL_MEAN_USER_THROUGHPUT_HS3G',\n",
    "                'UL_MEAN_USER_THROUGHPUT_PLTE', 'UL_MEAN_USER_THROUGHPUT_REL93G'\n",
    "               ]"
   ]
  },
  {
   "cell_type": "code",
   "execution_count": 21,
   "metadata": {
    "collapsed": true
   },
   "outputs": [],
   "source": [
    "voice_columns = ['CELL_AVAILABILITY_2G', 'CELL_AVAILABILITY_3G', 'CELL_AVAILABILITY_4G', 'CSSR_2G', 'CSSR_3G',\n",
    "                 'NODEB_CNBAP_LOAD_HARDWARE', 'PROC_LOAD_3G', 'RAB_CS_BLOCKING_RATE_3G', 'RAB_CS_DROP_RATE_3G',\n",
    "                 'RBU_AVAIL_DL_LTE', 'RBU_AVAIL_DL', 'RBU_AVAIL_UL', 'RBU_OTHER_DL', 'RBU_OTHER_UL', 'RBU_OWN_DL', 'RBU_OWN_UL',\n",
    "                 'RRC_BLOCKING_RATE_3G', 'RTWP_3G', 'SHO_FACTOR', 'TCH_DROP_RATE_2G', 'UTIL_BRD_CPU_3G', 'UTIL_CE_DL_3G',\n",
    "                 'UTIL_CE_HW_DL_3G', 'UTIL_CE_UL_3G', 'UTIL_SUBUNITS_3G', 'AVR_TX_POWER_3G',\n",
    "                 'RELATIVE_RBU_USED_DL', 'RELATIVE_RBU_USED_UL', 'RELATIVE_TX_POWER_3G'\n",
    "                ]"
   ]
  },
  {
   "cell_type": "code",
   "execution_count": null,
   "metadata": {
    "collapsed": true
   },
   "outputs": [],
   "source": []
  },
  {
   "cell_type": "code",
   "execution_count": 22,
   "metadata": {},
   "outputs": [
    {
     "name": "stdout",
     "output_type": "stream",
     "text": [
      "CSSR_2G 0\n",
      "CSSR_2G 1\n",
      "CSSR_2G 2\n",
      "PSSR_2G 0\n",
      "PSSR_2G 1\n",
      "PSSR_2G 2\n",
      "TBF_DROP_RATE_2G 0\n",
      "TBF_DROP_RATE_2G 1\n",
      "TBF_DROP_RATE_2G 2\n",
      "TCH_DROP_RATE_2G 0\n",
      "TCH_DROP_RATE_2G 1\n",
      "TCH_DROP_RATE_2G 2\n",
      "CSSR_3G 0\n",
      "CSSR_3G 1\n",
      "CSSR_3G 2\n",
      "PSSR_3G 0\n",
      "PSSR_3G 1\n",
      "PSSR_3G 2\n",
      "RAB_CS_BLOCKING_RATE_3G 0\n",
      "RAB_CS_BLOCKING_RATE_3G 1\n",
      "RAB_CS_BLOCKING_RATE_3G 2\n",
      "RAB_CS_DROP_RATE_3G 0\n",
      "RAB_CS_DROP_RATE_3G 1\n",
      "RAB_CS_DROP_RATE_3G 2\n",
      "RAB_PS_BLOCKING_RATE_3G 0\n",
      "RAB_PS_BLOCKING_RATE_3G 1\n",
      "RAB_PS_BLOCKING_RATE_3G 2\n",
      "RAB_PS_DROP_RATE_3G 0\n",
      "RAB_PS_DROP_RATE_3G 1\n",
      "RAB_PS_DROP_RATE_3G 2\n",
      "ERAB_PS_BLOCKING_RATE_LTE 0\n",
      "ERAB_PS_BLOCKING_RATE_LTE 1\n",
      "ERAB_PS_BLOCKING_RATE_LTE 2\n",
      "ERAB_PS_BLOCKING_RATE_PLMN_LTE 0\n",
      "ERAB_PS_BLOCKING_RATE_PLMN_LTE 1\n",
      "ERAB_PS_BLOCKING_RATE_PLMN_LTE 2\n",
      "ERAB_PS_DROP_RATE_LTE 0\n",
      "ERAB_PS_DROP_RATE_LTE 1\n",
      "ERAB_PS_DROP_RATE_LTE 2\n",
      "PSSR_LTE 0\n",
      "PSSR_LTE 1\n",
      "PSSR_LTE 2\n",
      "RRC_BLOCKING_RATE_LTE 0\n",
      "RRC_BLOCKING_RATE_LTE 1\n",
      "RRC_BLOCKING_RATE_LTE 2\n",
      "Wall time: 20min 3s\n"
     ]
    }
   ],
   "source": [
    "%%time\n",
    "if TRAIN:\n",
    "    parameters_nets = defaultdict()\n",
    "    for tc in [columns_2g, columns_3g, columns_4g]:\n",
    "        for c in tc:\n",
    "            for i in range(3):\n",
    "                index = i + 1\n",
    "                gdata = pd.read_csv(path + '{0}_{1}.csv'.format(c, index))\n",
    "                for v in gdata.values:\n",
    "                    key = (int(v[1]), v[0])\n",
    "                    parameters_nets.setdefault(key, set()).add((c, i))\n",
    "                print(c, i)"
   ]
  },
  {
   "cell_type": "code",
   "execution_count": null,
   "metadata": {
    "collapsed": true
   },
   "outputs": [],
   "source": []
  },
  {
   "cell_type": "code",
   "execution_count": 23,
   "metadata": {
    "collapsed": true
   },
   "outputs": [],
   "source": [
    "def get_params(result, cell_id, dt, the_data, v):\n",
    "    index = 0\n",
    "    key = (cell_id, dt)\n",
    "    item = None\n",
    "    if key in parameters_nets:\n",
    "        item = parameters_nets[key]\n",
    "    for tc in [columns_2g, columns_3g, columns_4g]:\n",
    "        for c in tc:\n",
    "            for i in range(3):\n",
    "                if (c in data_columns and the_data) or (c in voice_columns and not the_data):\n",
    "                    if item is not None:\n",
    "                        if (c, i) in item:\n",
    "                            result[2 * index + 0] += v\n",
    "                            result[2 * index + 1] += 1\n",
    "                    index = index + 1\n",
    "    return result"
   ]
  },
  {
   "cell_type": "code",
   "execution_count": 24,
   "metadata": {
    "collapsed": true
   },
   "outputs": [],
   "source": [
    "#len(get_params(0, 0, False, 1))"
   ]
  },
  {
   "cell_type": "code",
   "execution_count": null,
   "metadata": {
    "collapsed": true
   },
   "outputs": [],
   "source": []
  },
  {
   "cell_type": "code",
   "execution_count": 25,
   "metadata": {
    "collapsed": true
   },
   "outputs": [],
   "source": [
    "subs_bs_consumption = pd.read_csv(pathfiles + path_subs_bs_consumption, sep=';', decimal=',')"
   ]
  },
  {
   "cell_type": "code",
   "execution_count": 26,
   "metadata": {},
   "outputs": [
    {
     "data": {
      "text/html": [
       "<div>\n",
       "<style scoped>\n",
       "    .dataframe tbody tr th:only-of-type {\n",
       "        vertical-align: middle;\n",
       "    }\n",
       "\n",
       "    .dataframe tbody tr th {\n",
       "        vertical-align: top;\n",
       "    }\n",
       "\n",
       "    .dataframe thead th {\n",
       "        text-align: right;\n",
       "    }\n",
       "</style>\n",
       "<table border=\"1\" class=\"dataframe\">\n",
       "  <thead>\n",
       "    <tr style=\"text-align: right;\">\n",
       "      <th></th>\n",
       "      <th>SK_ID</th>\n",
       "      <th>CELL_LAC_ID</th>\n",
       "      <th>MON</th>\n",
       "      <th>SUM_MINUTES</th>\n",
       "      <th>SUM_DATA_MB</th>\n",
       "      <th>SUM_DATA_MIN</th>\n",
       "    </tr>\n",
       "  </thead>\n",
       "  <tbody>\n",
       "    <tr>\n",
       "      <th>0</th>\n",
       "      <td>1827</td>\n",
       "      <td>240277</td>\n",
       "      <td>01.03</td>\n",
       "      <td>0.0</td>\n",
       "      <td>0.000002</td>\n",
       "      <td>0.000234</td>\n",
       "    </tr>\n",
       "  </tbody>\n",
       "</table>\n",
       "</div>"
      ],
      "text/plain": [
       "   SK_ID  CELL_LAC_ID    MON  SUM_MINUTES  SUM_DATA_MB  SUM_DATA_MIN\n",
       "0   1827       240277  01.03          0.0     0.000002      0.000234"
      ]
     },
     "execution_count": 26,
     "metadata": {},
     "output_type": "execute_result"
    }
   ],
   "source": [
    "subs_bs_consumption.head(1)"
   ]
  },
  {
   "cell_type": "code",
   "execution_count": 27,
   "metadata": {
    "collapsed": true
   },
   "outputs": [],
   "source": [
    "subs_bs_consumption['month'] = subs_bs_consumption['MON'].apply(lambda x:datetime.strptime(x, '%d.%m').month)"
   ]
  },
  {
   "cell_type": "code",
   "execution_count": null,
   "metadata": {
    "collapsed": true
   },
   "outputs": [],
   "source": []
  },
  {
   "cell_type": "code",
   "execution_count": null,
   "metadata": {
    "collapsed": true
   },
   "outputs": [],
   "source": []
  },
  {
   "cell_type": "code",
   "execution_count": 28,
   "metadata": {
    "collapsed": true
   },
   "outputs": [],
   "source": [
    "def append_data(key, index, i):\n",
    "    subs_bs_consumption_minutes[key][index] += i[3]\n",
    "    subs_bs_consumption_data[key][index] += i[4]\n",
    "    subs_bs_consumption_voice[key][index] += i[5]\n",
    "    subs_bs_consumption_data[key][index + 1] += 1\n",
    "    subs_bs_consumption_minutes[key][index + 1] += 1\n",
    "    subs_bs_consumption_voice[key][index + 1] += 1\n",
    "        \n",
    "subs_bs_consumption_data = defaultdict()\n",
    "subs_bs_consumption_minutes = defaultdict()\n",
    "subs_bs_consumption_voice = defaultdict()\n",
    "for i in subs_bs_consumption.values:\n",
    "    sk_id = i[0]\n",
    "    m = i[6]\n",
    "    cell_id = i[1]\n",
    "    key = (sk_id, m)\n",
    "    subs_bs_consumption_data.setdefault(key, [0, 0, 0, 0, 0, 0, 0, 0])\n",
    "    subs_bs_consumption_minutes.setdefault(key, [0, 0, 0, 0, 0, 0, 0, 0])\n",
    "    subs_bs_consumption_voice.setdefault(key, [0, 0, 0, 0, 0, 0, 0, 0])\n",
    "    if cell_id in cells_2g:\n",
    "        append_data(key, 0, i)\n",
    "    if cell_id in cells_3g:\n",
    "        append_data(key, 2, i)\n",
    "    if cell_id in cells_4g:\n",
    "        append_data(key, 4, i)\n",
    "    append_data(key, 6, i)"
   ]
  },
  {
   "cell_type": "code",
   "execution_count": 29,
   "metadata": {
    "collapsed": true
   },
   "outputs": [],
   "source": [
    "def standart(_mx, _dict):\n",
    "    for k in _dict:\n",
    "        item = _dict[key]\n",
    "        for i in range(8):\n",
    "            _mx[i] = np.max([_mx[i], item[i]])\n",
    "\n",
    "if TRAIN:\n",
    "    data_mx = [0, 0, 0, 0, 0, 0, 0, 0]\n",
    "    standart(data_mx, subs_bs_consumption_data)\n",
    "    min_mx = [0, 0, 0, 0, 0, 0, 0, 0]\n",
    "    standart(min_mx, subs_bs_consumption_minutes)\n",
    "    voice_mx = [0, 0, 0, 0, 0, 0, 0, 0]\n",
    "    standart(voice_mx, subs_bs_consumption_voice)"
   ]
  },
  {
   "cell_type": "code",
   "execution_count": null,
   "metadata": {
    "collapsed": true
   },
   "outputs": [],
   "source": []
  },
  {
   "cell_type": "code",
   "execution_count": null,
   "metadata": {
    "collapsed": true
   },
   "outputs": [],
   "source": []
  },
  {
   "cell_type": "code",
   "execution_count": null,
   "metadata": {
    "collapsed": true
   },
   "outputs": [],
   "source": []
  },
  {
   "cell_type": "code",
   "execution_count": 30,
   "metadata": {
    "collapsed": true
   },
   "outputs": [],
   "source": [
    "subs_bs_data_session = pd.read_csv(pathfiles + path_subs_bs_data_session, sep=';', decimal=',')"
   ]
  },
  {
   "cell_type": "code",
   "execution_count": 31,
   "metadata": {},
   "outputs": [
    {
     "data": {
      "text/html": [
       "<div>\n",
       "<style scoped>\n",
       "    .dataframe tbody tr th:only-of-type {\n",
       "        vertical-align: middle;\n",
       "    }\n",
       "\n",
       "    .dataframe tbody tr th {\n",
       "        vertical-align: top;\n",
       "    }\n",
       "\n",
       "    .dataframe thead th {\n",
       "        text-align: right;\n",
       "    }\n",
       "</style>\n",
       "<table border=\"1\" class=\"dataframe\">\n",
       "  <thead>\n",
       "    <tr style=\"text-align: right;\">\n",
       "      <th></th>\n",
       "      <th>SK_ID</th>\n",
       "      <th>CELL_LAC_ID</th>\n",
       "      <th>DATA_VOL_MB</th>\n",
       "      <th>START_TIME</th>\n",
       "    </tr>\n",
       "  </thead>\n",
       "  <tbody>\n",
       "    <tr>\n",
       "      <th>0</th>\n",
       "      <td>3853</td>\n",
       "      <td>61951</td>\n",
       "      <td>0.000004</td>\n",
       "      <td>04.04 05:00:00</td>\n",
       "    </tr>\n",
       "  </tbody>\n",
       "</table>\n",
       "</div>"
      ],
      "text/plain": [
       "   SK_ID  CELL_LAC_ID  DATA_VOL_MB      START_TIME\n",
       "0   3853        61951     0.000004  04.04 05:00:00"
      ]
     },
     "execution_count": 31,
     "metadata": {},
     "output_type": "execute_result"
    }
   ],
   "source": [
    "subs_bs_data_session.head(1)"
   ]
  },
  {
   "cell_type": "code",
   "execution_count": 32,
   "metadata": {
    "collapsed": true
   },
   "outputs": [],
   "source": [
    "subs_bs_data_session['day'] = subs_bs_data_session['START_TIME'].apply(lambda x:datetime.strptime(x, '%d.%m %H:%M:%S').date())"
   ]
  },
  {
   "cell_type": "code",
   "execution_count": 33,
   "metadata": {
    "collapsed": true
   },
   "outputs": [],
   "source": [
    "user_data_session = defaultdict()\n",
    "for i in subs_bs_data_session.values:\n",
    "    sk_id = i[0]\n",
    "    dt = i[4]\n",
    "    cell_id = i[1]\n",
    "    key = (sk_id, dt)\n",
    "    user_data_session.setdefault(key, defaultdict()).setdefault(cell_id, 0)\n",
    "    user_data_session[key][cell_id] += i[2]"
   ]
  },
  {
   "cell_type": "code",
   "execution_count": 34,
   "metadata": {
    "collapsed": true
   },
   "outputs": [],
   "source": [
    "mx_data = [0.04403474597558999,\n",
    " 17.0,\n",
    " 0.10681948990649001,\n",
    " 22.0,\n",
    " 0.008108765826749999,\n",
    " 5.0,\n",
    " 0.039482985031810004,\n",
    " 20.0,\n",
    " 0.34390804355693994,\n",
    " 45.0,\n",
    " 0.17186245079211998,\n",
    " 23.0,\n",
    " 2.19409534707708,\n",
    " 71.0,\n",
    " 0.49649307057301,\n",
    " 53.0,\n",
    " 3.9075563596610294,\n",
    " 44.0,\n",
    " 0.22228982460173,\n",
    " 16.0,\n",
    " 0.1594160576595,\n",
    " 14.0,\n",
    " 0.13241774348152002,\n",
    " 9.0,\n",
    " 0.38035099499083996,\n",
    " 49.0,\n",
    " 3.9075563596610294,\n",
    " 76.0,\n",
    " 0.7967573363090201,\n",
    " 26.0,\n",
    " 1.2757119525067502,\n",
    " 43.0,\n",
    " 1.0333757285307996,\n",
    " 46.0,\n",
    " 0.9592630652308298,\n",
    " 39.0,\n",
    " 0.57891133275178,\n",
    " 32.0,\n",
    " 0.68382974327276,\n",
    " 29.0,\n",
    " 0.6425194990805501,\n",
    " 40.0,\n",
    " 0.31184953828453,\n",
    " 23.0,\n",
    " 0.62670324045005,\n",
    " 44.0,\n",
    " 0.7785659334577402,\n",
    " 33.0,\n",
    " 1.2757119525067502,\n",
    " 94.0,\n",
    " 1.2757119525067502,\n",
    " 88.0,\n",
    " 0.0,\n",
    " 0.0,\n",
    " 1.2757119525067502,\n",
    " 35.0,\n",
    " 1.19643275222867,\n",
    " 48.0,\n",
    " 1.1049123081166201,\n",
    " 37.0,\n",
    " 0.34390804355693994,\n",
    " 3.9075563596610294,\n",
    " 2.1853913163519203,\n",
    " 50.0,\n",
    " 87.0,\n",
    " 110.0,\n",
    " 1.0]\n"
   ]
  },
  {
   "cell_type": "code",
   "execution_count": 35,
   "metadata": {
    "collapsed": true
   },
   "outputs": [],
   "source": [
    "mx_voice = [1.6647916500000002,\n",
    " 18.0,\n",
    " 1.3381249666666668,\n",
    " 24.0,\n",
    " 1.8892360625,\n",
    " 35.0,\n",
    " 1.8582638416666666,\n",
    " 57.0,\n",
    " 1.2007638666666665,\n",
    " 27.0,\n",
    " 1.2356249833333333,\n",
    " 23.0,\n",
    " 1.3186805333333333,\n",
    " 38.0,\n",
    " 1.9199305166666663,\n",
    " 35.0,\n",
    " 1.6053472125,\n",
    " 40.0,\n",
    " 0.6181249916666667,\n",
    " 12.0,\n",
    " 0.5771527708333333,\n",
    " 11.0,\n",
    " 0.6883333208333332,\n",
    " 11.0,\n",
    " 1.3553472125,\n",
    " 60.0,\n",
    " 1.42916665,\n",
    " 17.0,\n",
    " 1.4139583083333334,\n",
    " 21.0,\n",
    " 2.0988193833333333,\n",
    " 1.9199305166666663,\n",
    " 0.8027777708333333,\n",
    " 73.0,\n",
    " 66.0,\n",
    " 21.0,\n",
    " 1.0]"
   ]
  },
  {
   "cell_type": "code",
   "execution_count": 36,
   "metadata": {
    "collapsed": true
   },
   "outputs": [],
   "source": [
    "mx = np.zeros(20000)"
   ]
  },
  {
   "cell_type": "code",
   "execution_count": 37,
   "metadata": {
    "collapsed": true
   },
   "outputs": [],
   "source": [
    "def get_internet_type_id(sk_id, month):\n",
    "    try:\n",
    "        return subs_features[(subs_features['SK_ID'] == sk_id) & (subs_features['month'] == (month + 1))]['INTERNET_TYPE_ID'].iloc(0)[0]\n",
    "    except:\n",
    "        try:\n",
    "            return subs_features[(subs_features['SK_ID'] == sk_id) & (subs_features['month'] == (month))]['INTERNET_TYPE_ID'].iloc(0)[0]\n",
    "        except:\n",
    "            return subs_features[(subs_features['SK_ID'] == sk_id)]['INTERNET_TYPE_ID'].iloc(0)[0]"
   ]
  },
  {
   "cell_type": "code",
   "execution_count": 38,
   "metadata": {
    "collapsed": true
   },
   "outputs": [],
   "source": [
    "def get_cells_data(cell_dict, mxs, list_sk_id, dates, is_data, count_days=7):\n",
    "    table = []\n",
    "    for i in zip(list_sk_id, dates):\n",
    "        sk_id = i[0]\n",
    "        sd = i[1]\n",
    "        row = []\n",
    "        table_columns = []\n",
    "        pre_month = None\n",
    "        for j in range(count_days):\n",
    "            cd = sd - timedelta(j)\n",
    "            if pre_month is None or pre_month != cd.month:\n",
    "                internet_type_id = get_internet_type_id(sk_id, cd.month)\n",
    "                pre_month = cd.month\n",
    "            cells_g = [0, 0, 0, 0, 0, 0, internet_type_id]\n",
    "            if is_data:\n",
    "                len_params = 30 * 2\n",
    "            else:\n",
    "                len_params = 15 * 2\n",
    "            result = np.zeros(len_params)\n",
    "\n",
    "            if (sk_id, cd) in cell_dict:\n",
    "                item = cell_dict[(sk_id, cd)]\n",
    "                for key in item:\n",
    "                    cell = (key, item[key])\n",
    "                    if cell[0] in cells_2g:\n",
    "                        cells_g[0] += cell[1]\n",
    "                        cells_g[3] += 1\n",
    "                    if cell[0] in cells_3g:\n",
    "                        cells_g[1] += cell[1]\n",
    "                        cells_g[4] += 1\n",
    "                    if cell[0] in cells_4g:\n",
    "                        cells_g[2] += cell[1]\n",
    "                        cells_g[5] += 1\n",
    "                    result = get_params(result, cell[0], cd.day + cd.month / 100, is_data, cell[1])\n",
    "                \n",
    "            news = list(result)\n",
    "            news.extend(list(cells_g))\n",
    "            \n",
    "            for p in range(len(news)):\n",
    "                #mx[p] = np.max([news[p], mx[p]])\n",
    "                if mxs[p] != 0:\n",
    "                    news[p] /= mxs[p]\n",
    "\n",
    "            row.append(np.array(news))\n",
    "        table.append(np.array(row))\n",
    "    return table"
   ]
  },
  {
   "cell_type": "code",
   "execution_count": 39,
   "metadata": {
    "collapsed": true
   },
   "outputs": [],
   "source": [
    "#list(mx)"
   ]
  },
  {
   "cell_type": "code",
   "execution_count": null,
   "metadata": {
    "collapsed": true
   },
   "outputs": [],
   "source": []
  },
  {
   "cell_type": "code",
   "execution_count": 40,
   "metadata": {
    "collapsed": true
   },
   "outputs": [],
   "source": [
    "subs_bs_voice_session = pd.read_csv(pathfiles + path_subs_bs_voice_session, sep=';', decimal=',')"
   ]
  },
  {
   "cell_type": "code",
   "execution_count": 41,
   "metadata": {
    "collapsed": true
   },
   "outputs": [],
   "source": [
    "subs_bs_voice_session['day'] = subs_bs_voice_session['START_TIME'].apply(lambda x:datetime.strptime(x, '%d.%m %H:%M:%S').date())"
   ]
  },
  {
   "cell_type": "code",
   "execution_count": 42,
   "metadata": {},
   "outputs": [
    {
     "data": {
      "text/html": [
       "<div>\n",
       "<style scoped>\n",
       "    .dataframe tbody tr th:only-of-type {\n",
       "        vertical-align: middle;\n",
       "    }\n",
       "\n",
       "    .dataframe tbody tr th {\n",
       "        vertical-align: top;\n",
       "    }\n",
       "\n",
       "    .dataframe thead th {\n",
       "        text-align: right;\n",
       "    }\n",
       "</style>\n",
       "<table border=\"1\" class=\"dataframe\">\n",
       "  <thead>\n",
       "    <tr style=\"text-align: right;\">\n",
       "      <th></th>\n",
       "      <th>SK_ID</th>\n",
       "      <th>CELL_LAC_ID</th>\n",
       "      <th>VOICE_DUR_MIN</th>\n",
       "      <th>START_TIME</th>\n",
       "      <th>day</th>\n",
       "    </tr>\n",
       "  </thead>\n",
       "  <tbody>\n",
       "    <tr>\n",
       "      <th>0</th>\n",
       "      <td>373</td>\n",
       "      <td>269094</td>\n",
       "      <td>0.001597</td>\n",
       "      <td>27.04 23:00:00</td>\n",
       "      <td>1900-04-27</td>\n",
       "    </tr>\n",
       "  </tbody>\n",
       "</table>\n",
       "</div>"
      ],
      "text/plain": [
       "   SK_ID  CELL_LAC_ID  VOICE_DUR_MIN      START_TIME         day\n",
       "0    373       269094       0.001597  27.04 23:00:00  1900-04-27"
      ]
     },
     "execution_count": 42,
     "metadata": {},
     "output_type": "execute_result"
    }
   ],
   "source": [
    "subs_bs_voice_session.head(1)"
   ]
  },
  {
   "cell_type": "code",
   "execution_count": 43,
   "metadata": {
    "collapsed": true
   },
   "outputs": [],
   "source": [
    "user_voice_session = defaultdict()\n",
    "for i in subs_bs_voice_session.values:\n",
    "    sk_id = i[0]\n",
    "    dt = i[4]\n",
    "    cell_id = i[1]\n",
    "    key = (sk_id, dt)\n",
    "    user_voice_session.setdefault(key, defaultdict()).setdefault(cell_id, 0)\n",
    "    user_voice_session[key][cell_id] += i[2]"
   ]
  },
  {
   "cell_type": "code",
   "execution_count": null,
   "metadata": {
    "collapsed": true
   },
   "outputs": [],
   "source": []
  },
  {
   "cell_type": "code",
   "execution_count": null,
   "metadata": {
    "collapsed": true
   },
   "outputs": [],
   "source": []
  },
  {
   "cell_type": "code",
   "execution_count": null,
   "metadata": {
    "collapsed": true
   },
   "outputs": [],
   "source": []
  },
  {
   "cell_type": "code",
   "execution_count": 44,
   "metadata": {
    "collapsed": true
   },
   "outputs": [],
   "source": [
    "subs_features = pd.read_csv(pathfiles + path_subs_features, sep=';', decimal=',')"
   ]
  },
  {
   "cell_type": "code",
   "execution_count": 45,
   "metadata": {},
   "outputs": [
    {
     "data": {
      "text/html": [
       "<div>\n",
       "<style scoped>\n",
       "    .dataframe tbody tr th:only-of-type {\n",
       "        vertical-align: middle;\n",
       "    }\n",
       "\n",
       "    .dataframe tbody tr th {\n",
       "        vertical-align: top;\n",
       "    }\n",
       "\n",
       "    .dataframe thead th {\n",
       "        text-align: right;\n",
       "    }\n",
       "</style>\n",
       "<table border=\"1\" class=\"dataframe\">\n",
       "  <thead>\n",
       "    <tr style=\"text-align: right;\">\n",
       "      <th></th>\n",
       "      <th>SNAP_DATE</th>\n",
       "      <th>COM_CAT#1</th>\n",
       "      <th>SK_ID</th>\n",
       "      <th>COM_CAT#2</th>\n",
       "      <th>COM_CAT#3</th>\n",
       "      <th>BASE_TYPE</th>\n",
       "      <th>ACT</th>\n",
       "      <th>ARPU_GROUP</th>\n",
       "      <th>COM_CAT#7</th>\n",
       "      <th>COM_CAT#8</th>\n",
       "      <th>...</th>\n",
       "      <th>COM_CAT#25</th>\n",
       "      <th>COM_CAT#26</th>\n",
       "      <th>COM_CAT#27</th>\n",
       "      <th>COM_CAT#28</th>\n",
       "      <th>COM_CAT#29</th>\n",
       "      <th>COM_CAT#30</th>\n",
       "      <th>COM_CAT#31</th>\n",
       "      <th>COM_CAT#32</th>\n",
       "      <th>COM_CAT#33</th>\n",
       "      <th>COM_CAT#34</th>\n",
       "    </tr>\n",
       "  </thead>\n",
       "  <tbody>\n",
       "    <tr>\n",
       "      <th>0</th>\n",
       "      <td>01.08.01</td>\n",
       "      <td>4</td>\n",
       "      <td>3339</td>\n",
       "      <td>80</td>\n",
       "      <td>5</td>\n",
       "      <td>2</td>\n",
       "      <td>1</td>\n",
       "      <td>12.0</td>\n",
       "      <td>1</td>\n",
       "      <td>1489.0</td>\n",
       "      <td>...</td>\n",
       "      <td>1</td>\n",
       "      <td>1</td>\n",
       "      <td>0.031696</td>\n",
       "      <td>0.076724</td>\n",
       "      <td>0.040279</td>\n",
       "      <td>0.0133</td>\n",
       "      <td>0.083382</td>\n",
       "      <td>0.027579</td>\n",
       "      <td>0.103896</td>\n",
       "      <td>2.0</td>\n",
       "    </tr>\n",
       "  </tbody>\n",
       "</table>\n",
       "<p>1 rows × 36 columns</p>\n",
       "</div>"
      ],
      "text/plain": [
       "  SNAP_DATE  COM_CAT#1  SK_ID  COM_CAT#2  COM_CAT#3  BASE_TYPE  ACT  \\\n",
       "0  01.08.01          4   3339         80          5          2    1   \n",
       "\n",
       "   ARPU_GROUP  COM_CAT#7  COM_CAT#8     ...      COM_CAT#25  COM_CAT#26  \\\n",
       "0        12.0          1     1489.0     ...               1           1   \n",
       "\n",
       "   COM_CAT#27  COM_CAT#28  COM_CAT#29  COM_CAT#30  COM_CAT#31  COM_CAT#32  \\\n",
       "0    0.031696    0.076724    0.040279      0.0133    0.083382    0.027579   \n",
       "\n",
       "   COM_CAT#33  COM_CAT#34  \n",
       "0    0.103896         2.0  \n",
       "\n",
       "[1 rows x 36 columns]"
      ]
     },
     "execution_count": 45,
     "metadata": {},
     "output_type": "execute_result"
    }
   ],
   "source": [
    "subs_features.head(1)"
   ]
  },
  {
   "cell_type": "code",
   "execution_count": 46,
   "metadata": {},
   "outputs": [
    {
     "data": {
      "text/html": [
       "<div>\n",
       "<style scoped>\n",
       "    .dataframe tbody tr th:only-of-type {\n",
       "        vertical-align: middle;\n",
       "    }\n",
       "\n",
       "    .dataframe tbody tr th {\n",
       "        vertical-align: top;\n",
       "    }\n",
       "\n",
       "    .dataframe thead th {\n",
       "        text-align: right;\n",
       "    }\n",
       "</style>\n",
       "<table border=\"1\" class=\"dataframe\">\n",
       "  <thead>\n",
       "    <tr style=\"text-align: right;\">\n",
       "      <th></th>\n",
       "      <th>COM_CAT#1</th>\n",
       "      <th>SK_ID</th>\n",
       "      <th>COM_CAT#2</th>\n",
       "      <th>COM_CAT#3</th>\n",
       "      <th>BASE_TYPE</th>\n",
       "      <th>ACT</th>\n",
       "      <th>ARPU_GROUP</th>\n",
       "      <th>COM_CAT#7</th>\n",
       "      <th>COM_CAT#8</th>\n",
       "      <th>DEVICE_TYPE_ID</th>\n",
       "      <th>...</th>\n",
       "      <th>COM_CAT#25</th>\n",
       "      <th>COM_CAT#26</th>\n",
       "      <th>COM_CAT#27</th>\n",
       "      <th>COM_CAT#28</th>\n",
       "      <th>COM_CAT#29</th>\n",
       "      <th>COM_CAT#30</th>\n",
       "      <th>COM_CAT#31</th>\n",
       "      <th>COM_CAT#32</th>\n",
       "      <th>COM_CAT#33</th>\n",
       "      <th>COM_CAT#34</th>\n",
       "    </tr>\n",
       "  </thead>\n",
       "  <tbody>\n",
       "    <tr>\n",
       "      <th>count</th>\n",
       "      <td>47411.000000</td>\n",
       "      <td>47411.000000</td>\n",
       "      <td>47411.000000</td>\n",
       "      <td>47411.000000</td>\n",
       "      <td>47411.000000</td>\n",
       "      <td>47411.000000</td>\n",
       "      <td>47390.000000</td>\n",
       "      <td>47411.000000</td>\n",
       "      <td>47287.000000</td>\n",
       "      <td>47300.000000</td>\n",
       "      <td>...</td>\n",
       "      <td>47411.000000</td>\n",
       "      <td>47411.000000</td>\n",
       "      <td>47411.000000</td>\n",
       "      <td>47411.000000</td>\n",
       "      <td>47411.000000</td>\n",
       "      <td>47411.000000</td>\n",
       "      <td>47411.000000</td>\n",
       "      <td>47411.000000</td>\n",
       "      <td>47411.000000</td>\n",
       "      <td>45808.000000</td>\n",
       "    </tr>\n",
       "    <tr>\n",
       "      <th>mean</th>\n",
       "      <td>4.538019</td>\n",
       "      <td>2346.231107</td>\n",
       "      <td>41.213642</td>\n",
       "      <td>5.267280</td>\n",
       "      <td>1.938706</td>\n",
       "      <td>0.990909</td>\n",
       "      <td>7.672800</td>\n",
       "      <td>2.378119</td>\n",
       "      <td>866.040793</td>\n",
       "      <td>4.619831</td>\n",
       "      <td>...</td>\n",
       "      <td>0.999852</td>\n",
       "      <td>0.988420</td>\n",
       "      <td>0.017048</td>\n",
       "      <td>0.018507</td>\n",
       "      <td>0.004788</td>\n",
       "      <td>0.005083</td>\n",
       "      <td>0.046062</td>\n",
       "      <td>0.028243</td>\n",
       "      <td>0.104881</td>\n",
       "      <td>5.536587</td>\n",
       "    </tr>\n",
       "    <tr>\n",
       "      <th>std</th>\n",
       "      <td>2.175724</td>\n",
       "      <td>1365.543733</td>\n",
       "      <td>22.381202</td>\n",
       "      <td>2.757143</td>\n",
       "      <td>0.239871</td>\n",
       "      <td>0.094912</td>\n",
       "      <td>3.179402</td>\n",
       "      <td>1.587738</td>\n",
       "      <td>516.196163</td>\n",
       "      <td>0.883446</td>\n",
       "      <td>...</td>\n",
       "      <td>0.012150</td>\n",
       "      <td>0.106985</td>\n",
       "      <td>0.025277</td>\n",
       "      <td>0.031138</td>\n",
       "      <td>0.017611</td>\n",
       "      <td>0.021956</td>\n",
       "      <td>0.051001</td>\n",
       "      <td>0.009148</td>\n",
       "      <td>0.007879</td>\n",
       "      <td>3.554345</td>\n",
       "    </tr>\n",
       "    <tr>\n",
       "      <th>min</th>\n",
       "      <td>1.000000</td>\n",
       "      <td>2.000000</td>\n",
       "      <td>1.000000</td>\n",
       "      <td>1.000000</td>\n",
       "      <td>1.000000</td>\n",
       "      <td>0.000000</td>\n",
       "      <td>1.000000</td>\n",
       "      <td>1.000000</td>\n",
       "      <td>2.000000</td>\n",
       "      <td>1.000000</td>\n",
       "      <td>...</td>\n",
       "      <td>0.000000</td>\n",
       "      <td>0.000000</td>\n",
       "      <td>0.000000</td>\n",
       "      <td>0.000000</td>\n",
       "      <td>0.000000</td>\n",
       "      <td>0.000000</td>\n",
       "      <td>0.000000</td>\n",
       "      <td>0.000000</td>\n",
       "      <td>0.000000</td>\n",
       "      <td>1.000000</td>\n",
       "    </tr>\n",
       "    <tr>\n",
       "      <th>25%</th>\n",
       "      <td>3.000000</td>\n",
       "      <td>1160.000000</td>\n",
       "      <td>25.000000</td>\n",
       "      <td>5.000000</td>\n",
       "      <td>2.000000</td>\n",
       "      <td>1.000000</td>\n",
       "      <td>5.000000</td>\n",
       "      <td>1.000000</td>\n",
       "      <td>388.000000</td>\n",
       "      <td>5.000000</td>\n",
       "      <td>...</td>\n",
       "      <td>1.000000</td>\n",
       "      <td>1.000000</td>\n",
       "      <td>0.002169</td>\n",
       "      <td>0.001073</td>\n",
       "      <td>0.000000</td>\n",
       "      <td>0.000000</td>\n",
       "      <td>0.011571</td>\n",
       "      <td>0.027579</td>\n",
       "      <td>0.103896</td>\n",
       "      <td>2.000000</td>\n",
       "    </tr>\n",
       "    <tr>\n",
       "      <th>50%</th>\n",
       "      <td>4.000000</td>\n",
       "      <td>2345.000000</td>\n",
       "      <td>38.000000</td>\n",
       "      <td>5.000000</td>\n",
       "      <td>2.000000</td>\n",
       "      <td>1.000000</td>\n",
       "      <td>8.000000</td>\n",
       "      <td>2.000000</td>\n",
       "      <td>924.000000</td>\n",
       "      <td>5.000000</td>\n",
       "      <td>...</td>\n",
       "      <td>1.000000</td>\n",
       "      <td>1.000000</td>\n",
       "      <td>0.008714</td>\n",
       "      <td>0.007226</td>\n",
       "      <td>0.000120</td>\n",
       "      <td>0.000000</td>\n",
       "      <td>0.031394</td>\n",
       "      <td>0.027579</td>\n",
       "      <td>0.103896</td>\n",
       "      <td>4.000000</td>\n",
       "    </tr>\n",
       "    <tr>\n",
       "      <th>75%</th>\n",
       "      <td>6.000000</td>\n",
       "      <td>3543.000000</td>\n",
       "      <td>60.000000</td>\n",
       "      <td>5.000000</td>\n",
       "      <td>2.000000</td>\n",
       "      <td>1.000000</td>\n",
       "      <td>10.000000</td>\n",
       "      <td>3.000000</td>\n",
       "      <td>1318.000000</td>\n",
       "      <td>5.000000</td>\n",
       "      <td>...</td>\n",
       "      <td>1.000000</td>\n",
       "      <td>1.000000</td>\n",
       "      <td>0.022257</td>\n",
       "      <td>0.022745</td>\n",
       "      <td>0.003028</td>\n",
       "      <td>0.000383</td>\n",
       "      <td>0.063415</td>\n",
       "      <td>0.027579</td>\n",
       "      <td>0.103896</td>\n",
       "      <td>9.000000</td>\n",
       "    </tr>\n",
       "    <tr>\n",
       "      <th>max</th>\n",
       "      <td>8.000000</td>\n",
       "      <td>4702.000000</td>\n",
       "      <td>83.000000</td>\n",
       "      <td>17.000000</td>\n",
       "      <td>2.000000</td>\n",
       "      <td>1.000000</td>\n",
       "      <td>12.000000</td>\n",
       "      <td>9.000000</td>\n",
       "      <td>1702.000000</td>\n",
       "      <td>8.000000</td>\n",
       "      <td>...</td>\n",
       "      <td>1.000000</td>\n",
       "      <td>1.000000</td>\n",
       "      <td>1.000000</td>\n",
       "      <td>0.645294</td>\n",
       "      <td>1.000000</td>\n",
       "      <td>1.000000</td>\n",
       "      <td>1.000000</td>\n",
       "      <td>0.560674</td>\n",
       "      <td>0.377696</td>\n",
       "      <td>10.000000</td>\n",
       "    </tr>\n",
       "  </tbody>\n",
       "</table>\n",
       "<p>8 rows × 34 columns</p>\n",
       "</div>"
      ],
      "text/plain": [
       "          COM_CAT#1         SK_ID     COM_CAT#2     COM_CAT#3     BASE_TYPE  \\\n",
       "count  47411.000000  47411.000000  47411.000000  47411.000000  47411.000000   \n",
       "mean       4.538019   2346.231107     41.213642      5.267280      1.938706   \n",
       "std        2.175724   1365.543733     22.381202      2.757143      0.239871   \n",
       "min        1.000000      2.000000      1.000000      1.000000      1.000000   \n",
       "25%        3.000000   1160.000000     25.000000      5.000000      2.000000   \n",
       "50%        4.000000   2345.000000     38.000000      5.000000      2.000000   \n",
       "75%        6.000000   3543.000000     60.000000      5.000000      2.000000   \n",
       "max        8.000000   4702.000000     83.000000     17.000000      2.000000   \n",
       "\n",
       "                ACT    ARPU_GROUP     COM_CAT#7     COM_CAT#8  DEVICE_TYPE_ID  \\\n",
       "count  47411.000000  47390.000000  47411.000000  47287.000000    47300.000000   \n",
       "mean       0.990909      7.672800      2.378119    866.040793        4.619831   \n",
       "std        0.094912      3.179402      1.587738    516.196163        0.883446   \n",
       "min        0.000000      1.000000      1.000000      2.000000        1.000000   \n",
       "25%        1.000000      5.000000      1.000000    388.000000        5.000000   \n",
       "50%        1.000000      8.000000      2.000000    924.000000        5.000000   \n",
       "75%        1.000000     10.000000      3.000000   1318.000000        5.000000   \n",
       "max        1.000000     12.000000      9.000000   1702.000000        8.000000   \n",
       "\n",
       "           ...         COM_CAT#25    COM_CAT#26    COM_CAT#27    COM_CAT#28  \\\n",
       "count      ...       47411.000000  47411.000000  47411.000000  47411.000000   \n",
       "mean       ...           0.999852      0.988420      0.017048      0.018507   \n",
       "std        ...           0.012150      0.106985      0.025277      0.031138   \n",
       "min        ...           0.000000      0.000000      0.000000      0.000000   \n",
       "25%        ...           1.000000      1.000000      0.002169      0.001073   \n",
       "50%        ...           1.000000      1.000000      0.008714      0.007226   \n",
       "75%        ...           1.000000      1.000000      0.022257      0.022745   \n",
       "max        ...           1.000000      1.000000      1.000000      0.645294   \n",
       "\n",
       "         COM_CAT#29    COM_CAT#30    COM_CAT#31    COM_CAT#32    COM_CAT#33  \\\n",
       "count  47411.000000  47411.000000  47411.000000  47411.000000  47411.000000   \n",
       "mean       0.004788      0.005083      0.046062      0.028243      0.104881   \n",
       "std        0.017611      0.021956      0.051001      0.009148      0.007879   \n",
       "min        0.000000      0.000000      0.000000      0.000000      0.000000   \n",
       "25%        0.000000      0.000000      0.011571      0.027579      0.103896   \n",
       "50%        0.000120      0.000000      0.031394      0.027579      0.103896   \n",
       "75%        0.003028      0.000383      0.063415      0.027579      0.103896   \n",
       "max        1.000000      1.000000      1.000000      0.560674      0.377696   \n",
       "\n",
       "         COM_CAT#34  \n",
       "count  45808.000000  \n",
       "mean       5.536587  \n",
       "std        3.554345  \n",
       "min        1.000000  \n",
       "25%        2.000000  \n",
       "50%        4.000000  \n",
       "75%        9.000000  \n",
       "max       10.000000  \n",
       "\n",
       "[8 rows x 34 columns]"
      ]
     },
     "execution_count": 46,
     "metadata": {},
     "output_type": "execute_result"
    }
   ],
   "source": [
    "subs_features.describe()"
   ]
  },
  {
   "cell_type": "code",
   "execution_count": 47,
   "metadata": {
    "collapsed": true
   },
   "outputs": [],
   "source": [
    "subs_features['SNAP_DATE'] = subs_features['SNAP_DATE'].apply(lambda x:datetime.strptime(x, '%d.%m.%y'))"
   ]
  },
  {
   "cell_type": "code",
   "execution_count": 48,
   "metadata": {},
   "outputs": [
    {
     "data": {
      "text/plain": [
       "31.12    47404\n",
       "23.05        1\n",
       "06.05        1\n",
       "28.05        1\n",
       "29.05        1\n",
       "27.05        1\n",
       "30.05        1\n",
       "24.05        1\n",
       "Name: COM_CAT#24, dtype: int64"
      ]
     },
     "execution_count": 48,
     "metadata": {},
     "output_type": "execute_result"
    }
   ],
   "source": [
    "subs_features['COM_CAT#24'].value_counts()"
   ]
  },
  {
   "cell_type": "code",
   "execution_count": 49,
   "metadata": {
    "collapsed": true
   },
   "outputs": [],
   "source": [
    "subs_features['COM_CAT#24'] = subs_features['COM_CAT#24'].apply(lambda x:int(x == '31.12'))"
   ]
  },
  {
   "cell_type": "code",
   "execution_count": 50,
   "metadata": {
    "collapsed": true
   },
   "outputs": [],
   "source": [
    "subs_features['COM_CAT#34'].fillna(subs_features['COM_CAT#34'].median(), inplace=True)\n",
    "subs_features['COM_CAT#8'].fillna(subs_features['COM_CAT#8'].median(), inplace=True)\n",
    "subs_features['DEVICE_TYPE_ID'].fillna(subs_features['DEVICE_TYPE_ID'].median(), inplace=True)\n",
    "subs_features['ARPU_GROUP'].fillna(subs_features['ARPU_GROUP'].median(), inplace=True)\n",
    "subs_features['INTERNET_TYPE_ID'].fillna(subs_features['INTERNET_TYPE_ID'].median(), inplace=True)"
   ]
  },
  {
   "cell_type": "code",
   "execution_count": 51,
   "metadata": {
    "collapsed": true
   },
   "outputs": [],
   "source": [
    "subs_features['month'] = subs_features['SNAP_DATE'].apply(lambda x:x.month)\n",
    "subs_features['year'] = subs_features['SNAP_DATE'].apply(lambda x:x.year)"
   ]
  },
  {
   "cell_type": "code",
   "execution_count": 52,
   "metadata": {
    "collapsed": true
   },
   "outputs": [],
   "source": [
    "columns = ['COM_CAT#1', 'COM_CAT#2', 'COM_CAT#3', 'BASE_TYPE', 'ACT', 'ARPU_GROUP', 'COM_CAT#7', 'COM_CAT#8',\n",
    "          'DEVICE_TYPE_ID', 'INTERNET_TYPE_ID', 'REVENUE', 'ITC', 'VAS', 'RENT_CHANNEL', 'ROAM',\n",
    "          'COST']\n",
    "for i in range(18):\n",
    "    columns.append('COM_CAT#{}'.format(i+17))\n",
    "if TRAIN:\n",
    "    factors = {}\n",
    "for c in columns:\n",
    "    #emean =  np.mean(subs_features[c])\n",
    "    if TRAIN:\n",
    "        emin = np.min(subs_features[c])\n",
    "    else:\n",
    "        emin = factors[c][0]\n",
    "    #subs_features[c] -= emean\n",
    "    subs_features[c] -= emin\n",
    "    if TRAIN:\n",
    "        emax = np.max(subs_features[c])\n",
    "    else:\n",
    "        emax = factors[c][1]\n",
    "    subs_features[c] /= emax\n",
    "    if TRAIN:\n",
    "        factors[c] = (emin, emax)"
   ]
  },
  {
   "cell_type": "code",
   "execution_count": 53,
   "metadata": {
    "collapsed": true
   },
   "outputs": [],
   "source": [
    "def get_subs_features(year, month, fix_month, day, sk_id):\n",
    "    data = subs_features[(subs_features['year'] == year) & (subs_features['month'] == month) & (subs_features['SK_ID'] == sk_id)]\n",
    "    columns = ['COM_CAT#1', 'COM_CAT#2', 'COM_CAT#3', 'BASE_TYPE', 'ACT', 'ARPU_GROUP', 'COM_CAT#7', 'COM_CAT#8',\n",
    "              'DEVICE_TYPE_ID', 'INTERNET_TYPE_ID', 'REVENUE', 'ITC', 'VAS', 'RENT_CHANNEL', 'ROAM',\n",
    "              'COST']\n",
    "    for i in range(18):\n",
    "        columns.append('COM_CAT#{}'.format(i+17))\n",
    "    if data.shape[0] == 1:\n",
    "        return columns, data[columns].values[0].tolist()\n",
    "    else:\n",
    "        return columns, list(np.zeros(len(columns)))"
   ]
  },
  {
   "cell_type": "code",
   "execution_count": null,
   "metadata": {
    "collapsed": true
   },
   "outputs": [],
   "source": []
  },
  {
   "cell_type": "code",
   "execution_count": 54,
   "metadata": {
    "collapsed": true
   },
   "outputs": [],
   "source": [
    "if False:\n",
    "    # for dnn\n",
    "    table = []\n",
    "    if TRAIN:\n",
    "        y = np.zeros(subs_csi.shape[0])\n",
    "    for i in enumerate(subs_csi.values):\n",
    "        sk_id = int(i[1][0])\n",
    "        line = []\n",
    "        if TRAIN:\n",
    "            dt = str(i[1][2]).split('.')\n",
    "        else:\n",
    "            dt = str(i[1][1]).split('.')\n",
    "        year = 2002\n",
    "        month = int(dt[1])\n",
    "        for j in range(12):\n",
    "            new_line = get_subs_features(year, month, int(dt[1]), int(dt[0]), sk_id)\n",
    "            line.extend(new_line[1])\n",
    "            month -= 1\n",
    "            if month == 0:\n",
    "                month = 12\n",
    "                year -= 1\n",
    "        table.append(line)\n",
    "        if TRAIN:\n",
    "            y[i[0]] = i[1][1]"
   ]
  },
  {
   "cell_type": "code",
   "execution_count": null,
   "metadata": {
    "collapsed": true
   },
   "outputs": [],
   "source": []
  },
  {
   "cell_type": "code",
   "execution_count": 55,
   "metadata": {
    "collapsed": true
   },
   "outputs": [],
   "source": [
    "def extend_qos(sk_id, month):\n",
    "    result = []\n",
    "    key = (sk_id, month)\n",
    "    if (key in subs_bs_consumption_data):\n",
    "        item = subs_bs_consumption_data[key]\n",
    "        for i in range(8):\n",
    "            if data_mx[i] != 0:\n",
    "                result.append(item[i] / data_mx[i])\n",
    "            else:\n",
    "                result.append(item[i])\n",
    "    else:\n",
    "        result.extend([0,0,0,0,0,0,0,0])\n",
    "    if (key in subs_bs_consumption_minutes):\n",
    "        item = subs_bs_consumption_minutes[key]\n",
    "        for i in range(8):\n",
    "            if min_mx[i] != 0:\n",
    "                result.append(item[i] / min_mx[i])\n",
    "            else:\n",
    "                result.append(item[i])\n",
    "    else:\n",
    "        result.extend([0,0,0,0,0,0,0,0])\n",
    "    if (key in subs_bs_consumption_voice):\n",
    "        item = subs_bs_consumption_voice[key]\n",
    "        for i in range(8):\n",
    "            if voice_mx[i] != 0:\n",
    "                result.append(item[i] / voice_mx[i])\n",
    "            else:\n",
    "                result.append(item[i])\n",
    "    else:\n",
    "        result.extend([0,0,0,0,0,0,0,0])\n",
    "\n",
    "    #print(result)\n",
    "    return result"
   ]
  },
  {
   "cell_type": "code",
   "execution_count": 56,
   "metadata": {
    "collapsed": true
   },
   "outputs": [],
   "source": [
    "# for cnn\n",
    "table = []\n",
    "if TRAIN:\n",
    "    y = np.zeros(subs_csi.shape[0])\n",
    "for i in enumerate(subs_csi.values):\n",
    "    sk_id = int(i[1][0])\n",
    "    #line = [sk_id]\n",
    "    #table_columns = ['sk_id']\n",
    "    if TRAIN:\n",
    "        dt = str(i[1][2]).split('.')\n",
    "    else:\n",
    "        dt = str(i[1][1]).split('.')\n",
    "    year = 2002\n",
    "    month = int(dt[1])\n",
    "    row = []\n",
    "    for j in range(6):\n",
    "        new_line = get_subs_features(year, month, int(dt[1]), int(dt[0]), sk_id)\n",
    "\n",
    "        qos = list(extend_qos(sk_id, month))\n",
    "        qos.extend(list(new_line[1]))\n",
    "        row.append(np.array(qos))\n",
    "        \n",
    "        #table_columns.extend(new_line[0])\n",
    "        month -= 1\n",
    "        if month == 0:\n",
    "            month = 12\n",
    "            year -= 1\n",
    "    table.append(np.array(row))\n",
    "    if TRAIN:\n",
    "        y[i[0]] = i[1][1]"
   ]
  },
  {
   "cell_type": "code",
   "execution_count": null,
   "metadata": {
    "collapsed": true
   },
   "outputs": [],
   "source": []
  },
  {
   "cell_type": "code",
   "execution_count": 57,
   "metadata": {
    "collapsed": true
   },
   "outputs": [],
   "source": [
    "data = np.array(table)"
   ]
  },
  {
   "cell_type": "code",
   "execution_count": 58,
   "metadata": {},
   "outputs": [
    {
     "data": {
      "text/plain": [
       "(4222, 6, 58)"
      ]
     },
     "execution_count": 58,
     "metadata": {},
     "output_type": "execute_result"
    }
   ],
   "source": [
    "data.shape"
   ]
  },
  {
   "cell_type": "code",
   "execution_count": null,
   "metadata": {
    "collapsed": true
   },
   "outputs": [],
   "source": []
  },
  {
   "cell_type": "code",
   "execution_count": 59,
   "metadata": {
    "collapsed": true
   },
   "outputs": [],
   "source": [
    "count_days = 21"
   ]
  },
  {
   "cell_type": "code",
   "execution_count": 60,
   "metadata": {
    "collapsed": true
   },
   "outputs": [],
   "source": [
    "table2 = get_cells_data(user_data_session, mx_data, list(subs_csi['SK_ID']), list(subs_csi['CONTACT_DATE'].apply(lambda x:datetime.strptime(x, '%d.%m').date())), True, count_days)"
   ]
  },
  {
   "cell_type": "code",
   "execution_count": 61,
   "metadata": {
    "collapsed": true
   },
   "outputs": [],
   "source": [
    "data2 = np.array(table2)"
   ]
  },
  {
   "cell_type": "code",
   "execution_count": 62,
   "metadata": {},
   "outputs": [
    {
     "data": {
      "text/plain": [
       "(4222, 21, 67)"
      ]
     },
     "execution_count": 62,
     "metadata": {},
     "output_type": "execute_result"
    }
   ],
   "source": [
    "data2.shape"
   ]
  },
  {
   "cell_type": "code",
   "execution_count": null,
   "metadata": {
    "collapsed": true
   },
   "outputs": [],
   "source": []
  },
  {
   "cell_type": "code",
   "execution_count": 63,
   "metadata": {},
   "outputs": [
    {
     "data": {
      "text/plain": [
       "1.0"
      ]
     },
     "execution_count": 63,
     "metadata": {},
     "output_type": "execute_result"
    }
   ],
   "source": [
    "data2.max()"
   ]
  },
  {
   "cell_type": "code",
   "execution_count": 64,
   "metadata": {
    "collapsed": true
   },
   "outputs": [],
   "source": [
    "table3 = get_cells_data(user_voice_session, mx_voice, list(subs_csi['SK_ID']), list(subs_csi['CONTACT_DATE'].apply(lambda x:datetime.strptime(x, '%d.%m').date())), False, count_days)"
   ]
  },
  {
   "cell_type": "code",
   "execution_count": 65,
   "metadata": {
    "collapsed": true
   },
   "outputs": [],
   "source": [
    "data3 = np.array(table3)"
   ]
  },
  {
   "cell_type": "code",
   "execution_count": 66,
   "metadata": {},
   "outputs": [
    {
     "data": {
      "text/plain": [
       "1.0"
      ]
     },
     "execution_count": 66,
     "metadata": {},
     "output_type": "execute_result"
    }
   ],
   "source": [
    "data3.max()"
   ]
  },
  {
   "cell_type": "code",
   "execution_count": null,
   "metadata": {
    "collapsed": true
   },
   "outputs": [],
   "source": []
  },
  {
   "cell_type": "code",
   "execution_count": null,
   "metadata": {
    "collapsed": true
   },
   "outputs": [],
   "source": []
  },
  {
   "cell_type": "code",
   "execution_count": null,
   "metadata": {
    "collapsed": true
   },
   "outputs": [],
   "source": []
  },
  {
   "cell_type": "code",
   "execution_count": null,
   "metadata": {
    "collapsed": true
   },
   "outputs": [],
   "source": []
  },
  {
   "cell_type": "code",
   "execution_count": null,
   "metadata": {
    "collapsed": true
   },
   "outputs": [],
   "source": []
  },
  {
   "cell_type": "code",
   "execution_count": 67,
   "metadata": {
    "collapsed": true
   },
   "outputs": [],
   "source": [
    "from sklearn import preprocessing"
   ]
  },
  {
   "cell_type": "code",
   "execution_count": 68,
   "metadata": {
    "collapsed": true
   },
   "outputs": [],
   "source": [
    "X = np.asarray(data)\n",
    "X2 = np.asarray(data2)\n",
    "X3 = np.asarray(data3)\n",
    "y = np.asarray(y)"
   ]
  },
  {
   "cell_type": "code",
   "execution_count": null,
   "metadata": {
    "collapsed": true
   },
   "outputs": [],
   "source": []
  },
  {
   "cell_type": "code",
   "execution_count": null,
   "metadata": {
    "collapsed": true
   },
   "outputs": [],
   "source": []
  },
  {
   "cell_type": "code",
   "execution_count": 69,
   "metadata": {
    "collapsed": true
   },
   "outputs": [],
   "source": [
    "from sklearn.model_selection import train_test_split"
   ]
  },
  {
   "cell_type": "code",
   "execution_count": 70,
   "metadata": {
    "collapsed": true
   },
   "outputs": [],
   "source": [
    "X_train_1, X_test_1, X_train_2, X_test_2, X_train_3, X_test_3, y_train, y_test \\\n",
    "    = train_test_split(X, X2, X3, y, test_size=0.2, random_state=42)"
   ]
  },
  {
   "cell_type": "code",
   "execution_count": null,
   "metadata": {
    "collapsed": true
   },
   "outputs": [],
   "source": []
  },
  {
   "cell_type": "code",
   "execution_count": 71,
   "metadata": {
    "collapsed": true
   },
   "outputs": [],
   "source": [
    "from sklearn.utils.class_weight import compute_class_weight"
   ]
  },
  {
   "cell_type": "code",
   "execution_count": 72,
   "metadata": {
    "collapsed": true
   },
   "outputs": [],
   "source": [
    "from keras.models import Sequential, Model\n",
    "from keras.layers import Dense, Dropout, Conv1D, MaxPooling1D, Flatten, Input, GlobalMaxPooling1D, GRU, Bidirectional, LSTM, concatenate\n",
    "from keras.utils import np_utils\n",
    "from keras.callbacks import EarlyStopping\n",
    "from sklearn.model_selection import train_test_split"
   ]
  },
  {
   "cell_type": "code",
   "execution_count": 73,
   "metadata": {
    "collapsed": true
   },
   "outputs": [],
   "source": [
    "from sklearn.metrics import roc_auc_score\n",
    "from keras import regularizers"
   ]
  },
  {
   "cell_type": "code",
   "execution_count": 74,
   "metadata": {
    "collapsed": true
   },
   "outputs": [],
   "source": [
    "from sklearn import metrics\n",
    "from keras import backend as K\n",
    "import tensorflow as tf\n",
    "def auc(y_true, y_pred):\n",
    "    auc = tf.metrics.auc(y_true, y_pred)[1]\n",
    "    K.get_session().run(tf.local_variables_initializer())\n",
    "    return auc"
   ]
  },
  {
   "cell_type": "code",
   "execution_count": 83,
   "metadata": {
    "collapsed": true
   },
   "outputs": [],
   "source": [
    "def create_dnn_model():\n",
    "    #build Keras model\n",
    "    \n",
    "    dropout = 0.5\n",
    "    regularizer = 0.001\n",
    "    \n",
    "    x1_input = Input(shape=X_train_1.shape[1:], dtype='float32')\n",
    "\n",
    "    #x1_layer = Conv1D(128, 3, activation='relu')(x1_input)\n",
    "    #x1_layer = MaxPooling1D(3)(x1_layer)\n",
    "    #x1_layer = Conv1D(128, 3, activation='relu')(x1_layer)\n",
    "    #x1_layer = GlobalMaxPooling1D()(x1_layer)\n",
    "    x1_layer = GRU(64, dropout=dropout, recurrent_dropout=dropout, return_sequences=True, activation='relu', kernel_regularizer=regularizers.l2(regularizer))(x1_input)\n",
    "    x1_layer = GRU(64, dropout=dropout, recurrent_dropout=dropout, activation='relu', kernel_regularizer=regularizers.l2(regularizer))(x1_layer)\n",
    "    \n",
    "    \n",
    "    x2_input = Input(shape=X_train_2.shape[1:], dtype='float32')\n",
    "    \n",
    "    #x2_layer = LSTM(64, dropout=0.2, recurrent_dropout=0.2, return_sequences=True, activation='relu', kernel_regularizer=regularizers.l2(regularizer))(x2_input)\n",
    "    #x2_layer = GRU(16, dropout=0.2, recurrent_dropout=0.2, return_sequences=True, activation='relu', kernel_regularizer=regularizers.l2(regularizer))(x2_layer)\n",
    "    #x2_layer = GRU(16, dropout=0.2, recurrent_dropout=0.2, return_sequences=True, activation='relu', kernel_regularizer=regularizers.l2(regularizer))(x2_layer)\n",
    "    #x2_layer = LSTM(64, dropout=0.2, recurrent_dropout=0.2, activation='relu', kernel_regularizer=regularizers.l2(regularizer))(x2_layer)\n",
    "    \n",
    "    x2_layer = Conv1D(128, 3, activation='relu')(x2_input)\n",
    "    x2_layer = MaxPooling1D(3)(x2_layer)\n",
    "    x2_layer = Conv1D(128, 3, activation='relu')(x2_layer)\n",
    "    #x2_layer = GlobalMaxPooling1D()(x2_layer)\n",
    "    x2_layer = GRU(128, dropout=dropout, recurrent_dropout=dropout, return_sequences=True, activation='relu', kernel_regularizer=regularizers.l2(regularizer))(x2_layer)\n",
    "    #x2_layer = GRU(128, dropout=dropout, recurrent_dropout=dropout, return_sequences=True, activation='relu', kernel_regularizer=regularizers.l2(regularizer))(x2_layer)\n",
    "    x2_layer = GRU(128, dropout=dropout, recurrent_dropout=dropout, activation='relu', kernel_regularizer=regularizers.l2(regularizer))(x2_layer)\n",
    "      \n",
    "        \n",
    "    x3_input = Input(shape=X_train_3.shape[1:], dtype='float32')\n",
    "    \n",
    "    #x3_layer = LSTM(64, dropout=0.2, recurrent_dropout=0.2, return_sequences=True, activation='relu', kernel_regularizer=regularizers.l2(regularizer))(x3_input)\n",
    "    #x3_layer = GRU(16, dropout=0.2, recurrent_dropout=0.2, return_sequences=True, activation='relu', kernel_regularizer=regularizers.l2(regularizer))(x3_layer)\n",
    "    #x3_layer = GRU(16, dropout=0.2, recurrent_dropout=0.2, return_sequences=True, activation='relu', kernel_regularizer=regularizers.l2(regularizer))(x3_layer)\n",
    "    #x3_layer = LSTM(64, dropout=0.2, recurrent_dropout=0.2, activation='relu', kernel_regularizer=regularizers.l2(regularizer))(x3_layer)\n",
    "    \n",
    "    x3_layer = Conv1D(128, 3, activation='relu')(x3_input)\n",
    "    x3_layer = MaxPooling1D(3)(x3_layer)\n",
    "    x3_layer = Conv1D(128, 3, activation='relu')(x3_layer)\n",
    "    #x3_layer = GlobalMaxPooling1D()(x3_layer)\n",
    "    x3_layer = GRU(128, dropout=dropout, recurrent_dropout=dropout, return_sequences=True, activation='relu', kernel_regularizer=regularizers.l2(regularizer))(x3_layer)\n",
    "    #x3_layer = GRU(128, dropout=dropout, recurrent_dropout=dropout, return_sequences=True, activation='relu', kernel_regularizer=regularizers.l2(regularizer))(x3_layer)\n",
    "    x3_layer = GRU(128, dropout=dropout, recurrent_dropout=dropout, activation='relu', kernel_regularizer=regularizers.l2(regularizer))(x3_layer)\n",
    "    \n",
    "    concatenated = concatenate([x1_layer, x2_layer, x3_layer], axis=-1)\n",
    "    \n",
    "    for i in range(4):\n",
    "        concatenated = Dropout(0.4)(concatenated)\n",
    "        concatenated = Dense(200, activation=\"relu\", kernel_initializer=\"uniform\", kernel_regularizer=regularizers.l2(0.003))(concatenated)\n",
    "    \n",
    "    preds = Dense(1, activation=\"sigmoid\", kernel_initializer=\"uniform\")(concatenated)\n",
    "\n",
    "    model = Model([x1_input, x2_input, x3_input], preds)\n",
    "    model.compile(loss='binary_crossentropy', metrics=[auc], optimizer='adam')\n",
    "    return model"
   ]
  },
  {
   "cell_type": "code",
   "execution_count": null,
   "metadata": {},
   "outputs": [],
   "source": [
    "count_epochs = 300\n",
    "model = create_dnn_model()\n",
    "early_stopping_monitor = EarlyStopping(patience=30)\n",
    "#class_weights = compute_class_weight('balanced', np.unique(y), y)\n",
    "#history = model.fit([np.array(X), np.array(X2), np.array(X3)], np.array(y), batch_size = 64, epochs = count_epochs, verbose=1, validation_split=0.2, class_weight=class_weights, callbacks=[plot,early_stopping_monitor])\n",
    "class_weights = compute_class_weight('balanced', np.unique(y_train), y_train)\n",
    "history = model.fit([np.array(X_train_1), np.array(X_train_2), np.array(X_train_3)], np.array(y_train), batch_size = 128, epochs = count_epochs, verbose=1, validation_split=0.2, class_weight=class_weights, callbacks=[plot,early_stopping_monitor])"
   ]
  },
  {
   "cell_type": "code",
   "execution_count": 77,
   "metadata": {
    "collapsed": true
   },
   "outputs": [],
   "source": [
    "send_notify('Complete fit')"
   ]
  },
  {
   "cell_type": "code",
   "execution_count": null,
   "metadata": {
    "collapsed": true
   },
   "outputs": [],
   "source": []
  },
  {
   "cell_type": "code",
   "execution_count": null,
   "metadata": {
    "collapsed": true
   },
   "outputs": [],
   "source": [
    "history_gr = history.history['val_loss']\n",
    "epochs = range(1, len(history_gr) + 1)\n",
    "import matplotlib.pyplot as plt\n",
    "\n",
    "plt.plot(epochs, history_gr, 'b+', label='Original model')\n",
    "plt.xlabel('Epochs')\n",
    "plt.ylabel('Validation loss')\n",
    "plt.legend()\n",
    "\n",
    "plt.show()"
   ]
  },
  {
   "cell_type": "code",
   "execution_count": null,
   "metadata": {
    "collapsed": true
   },
   "outputs": [],
   "source": []
  },
  {
   "cell_type": "code",
   "execution_count": 82,
   "metadata": {},
   "outputs": [
    {
     "name": "stdout",
     "output_type": "stream",
     "text": [
      "Total roc auc score = 0.5530\n"
     ]
    }
   ],
   "source": [
    "predict = model.predict([np.array(X_test_1), np.array(X_test_2), np.array(X_test_3)])\n",
    "score = roc_auc_score(y_test, predict)\n",
    "print(\"Total roc auc score = {0:0.4f}\".format(score))"
   ]
  },
  {
   "cell_type": "code",
   "execution_count": null,
   "metadata": {
    "collapsed": true
   },
   "outputs": [],
   "source": []
  },
  {
   "cell_type": "code",
   "execution_count": 60,
   "metadata": {
    "collapsed": true
   },
   "outputs": [],
   "source": [
    "model_json = model.to_json()\n",
    "# Записываем модель в файл\n",
    "json_file = open(\"sale_model.json\", \"w\")\n",
    "json_file.write(model_json)\n",
    "json_file.close()\n",
    "model.save_weights(\"sale_model.h5\")"
   ]
  },
  {
   "cell_type": "code",
   "execution_count": null,
   "metadata": {
    "collapsed": true
   },
   "outputs": [],
   "source": []
  },
  {
   "cell_type": "code",
   "execution_count": 249,
   "metadata": {
    "collapsed": true
   },
   "outputs": [],
   "source": [
    "def save_predict(predict):\n",
    "    with open('output/last.csv', 'w') as f:\n",
    "        for item in predict:\n",
    "            f.write(\"%s\\n\" % item[0])"
   ]
  },
  {
   "cell_type": "code",
   "execution_count": 250,
   "metadata": {
    "collapsed": true
   },
   "outputs": [],
   "source": [
    "save_predict(model.predict([np.array(X), np.array(X2), np.array(X3)]))"
   ]
  },
  {
   "cell_type": "code",
   "execution_count": null,
   "metadata": {
    "collapsed": true
   },
   "outputs": [],
   "source": []
  }
 ],
 "metadata": {
  "kernelspec": {
   "display_name": "Python 3",
   "language": "python",
   "name": "python3"
  },
  "language_info": {
   "codemirror_mode": {
    "name": "ipython",
    "version": 3
   },
   "file_extension": ".py",
   "mimetype": "text/x-python",
   "name": "python",
   "nbconvert_exporter": "python",
   "pygments_lexer": "ipython3",
   "version": "3.6.3"
  }
 },
 "nbformat": 4,
 "nbformat_minor": 2
}
